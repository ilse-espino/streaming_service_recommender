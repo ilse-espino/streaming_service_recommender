{
 "cells": [
  {
   "cell_type": "code",
   "execution_count": 1,
   "metadata": {},
   "outputs": [],
   "source": [
    "import pandas as pd\n",
    "import numpy as np\n",
    "pd.set_option(\"display.max_columns\", None)\n",
    "import matplotlib.pyplot as plt\n",
    "import seaborn as sns\n",
    "%matplotlib inline"
   ]
  },
  {
   "cell_type": "code",
   "execution_count": 2,
   "metadata": {},
   "outputs": [],
   "source": [
    "hbo = pd.read_pickle(\"hbo_genres.pkl\")"
   ]
  },
  {
   "cell_type": "code",
   "execution_count": 3,
   "metadata": {},
   "outputs": [
    {
     "data": {
      "text/plain": [
       "show                object\n",
       "year                 int64\n",
       "rating              object\n",
       "imdb               float64\n",
       "rotten_tomatoes     object\n",
       "tconst              object\n",
       "titleType           object\n",
       "primaryTitle        object\n",
       "originalTitle       object\n",
       "isAdult            float64\n",
       "startYear          float64\n",
       "endYear            float64\n",
       "runtimeMinutes      object\n",
       "genres              object\n",
       "Action               int32\n",
       "Adventure            int32\n",
       "Drama                int32\n",
       "Crime                int32\n",
       "Thriller             int32\n",
       "History              int32\n",
       "Mystery              int32\n",
       "Sci-Fi               int32\n",
       "Comedy               int32\n",
       "News                 int32\n",
       "Talk-Show            int32\n",
       "Fantasy              int32\n",
       "Music                int32\n",
       "Musical              int32\n",
       "Documentary          int32\n",
       "Family               int32\n",
       "War                  int32\n",
       "Sport                int32\n",
       "Biography            int32\n",
       "Romance              int32\n",
       "Animation            int32\n",
       "Horror               int32\n",
       "Reality-TV           int32\n",
       "Game-Show            int32\n",
       "dtype: object"
      ]
     },
     "execution_count": 3,
     "metadata": {},
     "output_type": "execute_result"
    }
   ],
   "source": [
    "hbo.dtypes"
   ]
  },
  {
   "cell_type": "code",
   "execution_count": 6,
   "metadata": {},
   "outputs": [
    {
     "data": {
      "text/plain": [
       "18+    116\n",
       "16+     22\n",
       "all      9\n",
       "7+       8\n",
       "Name: rating, dtype: int64"
      ]
     },
     "execution_count": 6,
     "metadata": {},
     "output_type": "execute_result"
    }
   ],
   "source": [
    "hbo[\"rating\"].value_counts()"
   ]
  },
  {
   "cell_type": "code",
   "execution_count": 8,
   "metadata": {},
   "outputs": [],
   "source": [
    "hbo[\"rating\"] = [str(i).replace(\"+\", \"\") for i in hbo[\"rating\"]]"
   ]
  },
  {
   "cell_type": "code",
   "execution_count": 9,
   "metadata": {},
   "outputs": [],
   "source": [
    "hbo[\"rating\"] = np.where(hbo[\"rating\"] == \"all\", 0, hbo[\"rating\"])"
   ]
  },
  {
   "cell_type": "code",
   "execution_count": 10,
   "metadata": {},
   "outputs": [],
   "source": [
    "hbo[\"rating\"] = pd.to_numeric(hbo[\"rating\"], errors=\"coerce\")\n",
    "hbo[\"runtimeMinutes\"] = pd.to_numeric(hbo[\"runtimeMinutes\"], errors=\"coerce\")"
   ]
  },
  {
   "cell_type": "code",
   "execution_count": 11,
   "metadata": {},
   "outputs": [
    {
     "data": {
      "text/plain": [
       "count    155.000000\n",
       "mean      16.103226\n",
       "std        4.708619\n",
       "min        0.000000\n",
       "25%       17.000000\n",
       "50%       18.000000\n",
       "75%       18.000000\n",
       "max       18.000000\n",
       "Name: rating, dtype: float64"
      ]
     },
     "execution_count": 11,
     "metadata": {},
     "output_type": "execute_result"
    }
   ],
   "source": [
    "hbo[\"rating\"].describe()"
   ]
  },
  {
   "cell_type": "code",
   "execution_count": 13,
   "metadata": {},
   "outputs": [
    {
     "data": {
      "text/plain": [
       "<matplotlib.axes._subplots.AxesSubplot at 0x248d6fab388>"
      ]
     },
     "execution_count": 13,
     "metadata": {},
     "output_type": "execute_result"
    },
    {
     "data": {
      "image/png": "[encoded data removed]",
      "text/plain": [
       "<Figure size 720x432 with 1 Axes>"
      ]
     },
     "metadata": {
      "needs_background": "light"
     },
     "output_type": "display_data"
    }
   ],
   "source": [
    "fig, ax = plt.subplots(figsize=(10,6))\n",
    "\n",
    "sns.boxplot(hbo[\"rating\"])"
   ]
  },
  {
   "cell_type": "code",
   "execution_count": 14,
   "metadata": {},
   "outputs": [
    {
     "data": {
      "text/plain": [
       "count    161.000000\n",
       "mean      83.614907\n",
       "std      111.013122\n",
       "min       11.000000\n",
       "25%       30.000000\n",
       "50%       52.000000\n",
       "75%       60.000000\n",
       "max      594.000000\n",
       "Name: runtimeMinutes, dtype: float64"
      ]
     },
     "execution_count": 14,
     "metadata": {},
     "output_type": "execute_result"
    }
   ],
   "source": [
    "hbo[\"runtimeMinutes\"].describe()"
   ]
  },
  {
   "cell_type": "code",
   "execution_count": 15,
   "metadata": {},
   "outputs": [
    {
     "data": {
      "text/plain": [
       "<matplotlib.axes._subplots.AxesSubplot at 0x248d6e9fb08>"
      ]
     },
     "execution_count": 15,
     "metadata": {},
     "output_type": "execute_result"
    },
    {
     "data": {
      "image/png": "[encoded data removed]",
      "text/plain": [
       "<Figure size 720x432 with 1 Axes>"
      ]
     },
     "metadata": {
      "needs_background": "light"
     },
     "output_type": "display_data"
    }
   ],
   "source": [
    "fig, ax = plt.subplots(figsize=(10,6))\n",
    "\n",
    "sns.boxplot(hbo[\"runtimeMinutes\"])"
   ]
  },
  {
   "cell_type": "code",
   "execution_count": 16,
   "metadata": {},
   "outputs": [
    {
     "data": {
      "text/plain": [
       "(0, 100)"
      ]
     },
     "execution_count": 16,
     "metadata": {},
     "output_type": "execute_result"
    },
    {
     "data": {
      "image/png": "[encoded data removed]",
      "text/plain": [
       "<Figure size 720x432 with 1 Axes>"
      ]
     },
     "metadata": {
      "needs_background": "light"
     },
     "output_type": "display_data"
    }
   ],
   "source": [
    "fig, ax = plt.subplots(figsize=(10,6))\n",
    "\n",
    "sns.boxplot(hbo[\"runtimeMinutes\"])\n",
    "ax.set_xlim(0, 100)"
   ]
  },
  {
   "cell_type": "code",
   "execution_count": 17,
   "metadata": {},
   "outputs": [
    {
     "data": {
      "text/plain": [
       "count     186.000000\n",
       "mean     2010.860215\n",
       "std         9.156408\n",
       "min      1969.000000\n",
       "25%      2007.250000\n",
       "50%      2014.000000\n",
       "75%      2018.000000\n",
       "max      2020.000000\n",
       "Name: startYear, dtype: float64"
      ]
     },
     "execution_count": 17,
     "metadata": {},
     "output_type": "execute_result"
    }
   ],
   "source": [
    "hbo[\"startYear\"].describe()"
   ]
  },
  {
   "cell_type": "code",
   "execution_count": 18,
   "metadata": {},
   "outputs": [
    {
     "data": {
      "text/plain": [
       "<matplotlib.axes._subplots.AxesSubplot at 0x248d6f66548>"
      ]
     },
     "execution_count": 18,
     "metadata": {},
     "output_type": "execute_result"
    },
    {
     "data": {
      "image/png": "[encoded data removed]",
      "text/plain": [
       "<Figure size 720x432 with 1 Axes>"
      ]
     },
     "metadata": {
      "needs_background": "light"
     },
     "output_type": "display_data"
    }
   ],
   "source": [
    "fig, ax = plt.subplots(figsize=(10,6))\n",
    "\n",
    "sns.boxplot(hbo[\"startYear\"])"
   ]
  },
  {
   "cell_type": "code",
   "execution_count": 19,
   "metadata": {},
   "outputs": [
    {
     "data": {
      "text/plain": [
       "(1990, 2020)"
      ]
     },
     "execution_count": 19,
     "metadata": {},
     "output_type": "execute_result"
    },
    {
     "data": {
      "image/png": "[encoded data removed]",
      "text/plain": [
       "<Figure size 720x432 with 1 Axes>"
      ]
     },
     "metadata": {
      "needs_background": "light"
     },
     "output_type": "display_data"
    }
   ],
   "source": [
    "fig, ax = plt.subplots(figsize=(10,6))\n",
    "\n",
    "sns.boxplot(hbo[\"startYear\"])\n",
    "ax.set_xlim(1990, 2020)"
   ]
  },
  {
   "cell_type": "code",
   "execution_count": 20,
   "metadata": {},
   "outputs": [],
   "source": [
    "ratings = pd.read_csv(\"C:/Users/Admin/Documents/ironhack/title.ratings.tsv.gz\", sep=\"\\t\")"
   ]
  },
  {
   "cell_type": "code",
   "execution_count": 21,
   "metadata": {},
   "outputs": [],
   "source": [
    "hbo = hbo.merge(ratings, how=\"left\", on=\"tconst\")"
   ]
  },
  {
   "cell_type": "code",
   "execution_count": 22,
   "metadata": {},
   "outputs": [],
   "source": [
    "hbo = hbo.drop(columns=\"numVotes\")"
   ]
  },
  {
   "cell_type": "code",
   "execution_count": 23,
   "metadata": {},
   "outputs": [
    {
     "data": {
      "text/plain": [
       "count    186.000000\n",
       "mean       7.529570\n",
       "std        0.995741\n",
       "min        3.800000\n",
       "25%        7.100000\n",
       "50%        7.600000\n",
       "75%        8.300000\n",
       "max        9.400000\n",
       "Name: averageRating, dtype: float64"
      ]
     },
     "execution_count": 23,
     "metadata": {},
     "output_type": "execute_result"
    }
   ],
   "source": [
    "hbo[\"averageRating\"].describe()"
   ]
  },
  {
   "cell_type": "code",
   "execution_count": 24,
   "metadata": {},
   "outputs": [
    {
     "data": {
      "text/plain": [
       "<matplotlib.axes._subplots.AxesSubplot at 0x248deea6b48>"
      ]
     },
     "execution_count": 24,
     "metadata": {},
     "output_type": "execute_result"
    },
    {
     "data": {
      "image/png": "[encoded data removed]",
      "text/plain": [
       "<Figure size 720x432 with 1 Axes>"
      ]
     },
     "metadata": {
      "needs_background": "light"
     },
     "output_type": "display_data"
    }
   ],
   "source": [
    "fig, ax = plt.subplots(figsize=(10,6))\n",
    "\n",
    "sns.boxplot(hbo[\"averageRating\"])"
   ]
  },
  {
   "cell_type": "code",
   "execution_count": 25,
   "metadata": {},
   "outputs": [
    {
     "data": {
      "text/html": [
       "<div>\n",
       "<style scoped>\n",
       "    .dataframe tbody tr th:only-of-type {\n",
       "        vertical-align: middle;\n",
       "    }\n",
       "\n",
       "    .dataframe tbody tr th {\n",
       "        vertical-align: top;\n",
       "    }\n",
       "\n",
       "    .dataframe thead th {\n",
       "        text-align: right;\n",
       "    }\n",
       "</style>\n",
       "<table border=\"1\" class=\"dataframe\">\n",
       "  <thead>\n",
       "    <tr style=\"text-align: right;\">\n",
       "      <th></th>\n",
       "      <th>show</th>\n",
       "      <th>year</th>\n",
       "      <th>rating</th>\n",
       "      <th>imdb</th>\n",
       "      <th>rotten_tomatoes</th>\n",
       "      <th>tconst</th>\n",
       "      <th>titleType</th>\n",
       "      <th>primaryTitle</th>\n",
       "      <th>originalTitle</th>\n",
       "      <th>isAdult</th>\n",
       "      <th>startYear</th>\n",
       "      <th>endYear</th>\n",
       "      <th>runtimeMinutes</th>\n",
       "      <th>genres</th>\n",
       "      <th>Action</th>\n",
       "      <th>Adventure</th>\n",
       "      <th>Drama</th>\n",
       "      <th>Crime</th>\n",
       "      <th>Thriller</th>\n",
       "      <th>History</th>\n",
       "      <th>Mystery</th>\n",
       "      <th>Sci-Fi</th>\n",
       "      <th>Comedy</th>\n",
       "      <th>News</th>\n",
       "      <th>Talk-Show</th>\n",
       "      <th>Fantasy</th>\n",
       "      <th>Music</th>\n",
       "      <th>Musical</th>\n",
       "      <th>Documentary</th>\n",
       "      <th>Family</th>\n",
       "      <th>War</th>\n",
       "      <th>Sport</th>\n",
       "      <th>Biography</th>\n",
       "      <th>Romance</th>\n",
       "      <th>Animation</th>\n",
       "      <th>Horror</th>\n",
       "      <th>Reality-TV</th>\n",
       "      <th>Game-Show</th>\n",
       "      <th>averageRating</th>\n",
       "    </tr>\n",
       "  </thead>\n",
       "  <tbody>\n",
       "    <tr>\n",
       "      <th>176</th>\n",
       "      <td>Sweet 15: Quinceañera</td>\n",
       "      <td>2016</td>\n",
       "      <td>NaN</td>\n",
       "      <td>6.4</td>\n",
       "      <td>NaN</td>\n",
       "      <td>tt5117094</td>\n",
       "      <td>tvSeries</td>\n",
       "      <td>Sweet 15: Quinceañera</td>\n",
       "      <td>Sweet 15: Quinceañera</td>\n",
       "      <td>0.0</td>\n",
       "      <td>2015.0</td>\n",
       "      <td>2015.0</td>\n",
       "      <td>NaN</td>\n",
       "      <td>Reality-TV</td>\n",
       "      <td>0</td>\n",
       "      <td>0</td>\n",
       "      <td>0</td>\n",
       "      <td>0</td>\n",
       "      <td>0</td>\n",
       "      <td>0</td>\n",
       "      <td>0</td>\n",
       "      <td>0</td>\n",
       "      <td>0</td>\n",
       "      <td>0</td>\n",
       "      <td>0</td>\n",
       "      <td>0</td>\n",
       "      <td>0</td>\n",
       "      <td>0</td>\n",
       "      <td>0</td>\n",
       "      <td>0</td>\n",
       "      <td>0</td>\n",
       "      <td>0</td>\n",
       "      <td>0</td>\n",
       "      <td>0</td>\n",
       "      <td>0</td>\n",
       "      <td>0</td>\n",
       "      <td>1</td>\n",
       "      <td>0</td>\n",
       "      <td>3.8</td>\n",
       "    </tr>\n",
       "    <tr>\n",
       "      <th>181</th>\n",
       "      <td>El Negocio</td>\n",
       "      <td>2014</td>\n",
       "      <td>NaN</td>\n",
       "      <td>NaN</td>\n",
       "      <td>NaN</td>\n",
       "      <td>tt2272362</td>\n",
       "      <td>NaN</td>\n",
       "      <td>NaN</td>\n",
       "      <td>NaN</td>\n",
       "      <td>NaN</td>\n",
       "      <td>NaN</td>\n",
       "      <td>NaN</td>\n",
       "      <td>NaN</td>\n",
       "      <td>nan</td>\n",
       "      <td>0</td>\n",
       "      <td>0</td>\n",
       "      <td>0</td>\n",
       "      <td>0</td>\n",
       "      <td>0</td>\n",
       "      <td>0</td>\n",
       "      <td>0</td>\n",
       "      <td>0</td>\n",
       "      <td>0</td>\n",
       "      <td>0</td>\n",
       "      <td>0</td>\n",
       "      <td>0</td>\n",
       "      <td>0</td>\n",
       "      <td>0</td>\n",
       "      <td>0</td>\n",
       "      <td>0</td>\n",
       "      <td>0</td>\n",
       "      <td>0</td>\n",
       "      <td>0</td>\n",
       "      <td>0</td>\n",
       "      <td>0</td>\n",
       "      <td>0</td>\n",
       "      <td>0</td>\n",
       "      <td>0</td>\n",
       "      <td>4.5</td>\n",
       "    </tr>\n",
       "    <tr>\n",
       "      <th>131</th>\n",
       "      <td>Camping</td>\n",
       "      <td>2018</td>\n",
       "      <td>18.0</td>\n",
       "      <td>4.8</td>\n",
       "      <td>27%</td>\n",
       "      <td>tt8002604</td>\n",
       "      <td>tvSeries</td>\n",
       "      <td>Camping</td>\n",
       "      <td>Camping</td>\n",
       "      <td>0.0</td>\n",
       "      <td>2018.0</td>\n",
       "      <td>2018.0</td>\n",
       "      <td>30.0</td>\n",
       "      <td>Comedy</td>\n",
       "      <td>0</td>\n",
       "      <td>0</td>\n",
       "      <td>0</td>\n",
       "      <td>0</td>\n",
       "      <td>0</td>\n",
       "      <td>0</td>\n",
       "      <td>0</td>\n",
       "      <td>0</td>\n",
       "      <td>1</td>\n",
       "      <td>0</td>\n",
       "      <td>0</td>\n",
       "      <td>0</td>\n",
       "      <td>0</td>\n",
       "      <td>0</td>\n",
       "      <td>0</td>\n",
       "      <td>0</td>\n",
       "      <td>0</td>\n",
       "      <td>0</td>\n",
       "      <td>0</td>\n",
       "      <td>0</td>\n",
       "      <td>0</td>\n",
       "      <td>0</td>\n",
       "      <td>0</td>\n",
       "      <td>0</td>\n",
       "      <td>4.8</td>\n",
       "    </tr>\n",
       "    <tr>\n",
       "      <th>121</th>\n",
       "      <td>Betty</td>\n",
       "      <td>2020</td>\n",
       "      <td>NaN</td>\n",
       "      <td>4.7</td>\n",
       "      <td>92%</td>\n",
       "      <td>tt10814438</td>\n",
       "      <td>tvSeries</td>\n",
       "      <td>Betty</td>\n",
       "      <td>Betty</td>\n",
       "      <td>0.0</td>\n",
       "      <td>2020.0</td>\n",
       "      <td>2020.0</td>\n",
       "      <td>NaN</td>\n",
       "      <td>Comedy</td>\n",
       "      <td>0</td>\n",
       "      <td>0</td>\n",
       "      <td>0</td>\n",
       "      <td>0</td>\n",
       "      <td>0</td>\n",
       "      <td>0</td>\n",
       "      <td>0</td>\n",
       "      <td>0</td>\n",
       "      <td>1</td>\n",
       "      <td>0</td>\n",
       "      <td>0</td>\n",
       "      <td>0</td>\n",
       "      <td>0</td>\n",
       "      <td>0</td>\n",
       "      <td>0</td>\n",
       "      <td>0</td>\n",
       "      <td>0</td>\n",
       "      <td>0</td>\n",
       "      <td>0</td>\n",
       "      <td>0</td>\n",
       "      <td>0</td>\n",
       "      <td>0</td>\n",
       "      <td>0</td>\n",
       "      <td>0</td>\n",
       "      <td>4.9</td>\n",
       "    </tr>\n",
       "  </tbody>\n",
       "</table>\n",
       "</div>"
      ],
      "text/plain": [
       "                      show  year  rating  imdb rotten_tomatoes      tconst  \\\n",
       "176  Sweet 15: Quinceañera  2016     NaN   6.4             NaN   tt5117094   \n",
       "181             El Negocio  2014     NaN   NaN             NaN   tt2272362   \n",
       "131                Camping  2018    18.0   4.8             27%   tt8002604   \n",
       "121                  Betty  2020     NaN   4.7             92%  tt10814438   \n",
       "\n",
       "    titleType           primaryTitle          originalTitle  isAdult  \\\n",
       "176  tvSeries  Sweet 15: Quinceañera  Sweet 15: Quinceañera      0.0   \n",
       "181       NaN                    NaN                    NaN      NaN   \n",
       "131  tvSeries                Camping                Camping      0.0   \n",
       "121  tvSeries                  Betty                  Betty      0.0   \n",
       "\n",
       "     startYear  endYear  runtimeMinutes      genres  Action  Adventure  Drama  \\\n",
       "176     2015.0   2015.0             NaN  Reality-TV       0          0      0   \n",
       "181        NaN      NaN             NaN         nan       0          0      0   \n",
       "131     2018.0   2018.0            30.0      Comedy       0          0      0   \n",
       "121     2020.0   2020.0             NaN      Comedy       0          0      0   \n",
       "\n",
       "     Crime  Thriller  History  Mystery  Sci-Fi  Comedy  News  Talk-Show  \\\n",
       "176      0         0        0        0       0       0     0          0   \n",
       "181      0         0        0        0       0       0     0          0   \n",
       "131      0         0        0        0       0       1     0          0   \n",
       "121      0         0        0        0       0       1     0          0   \n",
       "\n",
       "     Fantasy  Music  Musical  Documentary  Family  War  Sport  Biography  \\\n",
       "176        0      0        0            0       0    0      0          0   \n",
       "181        0      0        0            0       0    0      0          0   \n",
       "131        0      0        0            0       0    0      0          0   \n",
       "121        0      0        0            0       0    0      0          0   \n",
       "\n",
       "     Romance  Animation  Horror  Reality-TV  Game-Show  averageRating  \n",
       "176        0          0       0           1          0            3.8  \n",
       "181        0          0       0           0          0            4.5  \n",
       "131        0          0       0           0          0            4.8  \n",
       "121        0          0       0           0          0            4.9  "
      ]
     },
     "execution_count": 25,
     "metadata": {},
     "output_type": "execute_result"
    }
   ],
   "source": [
    "hbo[hbo[\"averageRating\"] < 5].sort_values(\"averageRating\")"
   ]
  },
  {
   "cell_type": "code",
   "execution_count": 28,
   "metadata": {},
   "outputs": [
    {
     "data": {
      "text/plain": [
       "0.021164021164021163"
      ]
     },
     "execution_count": 28,
     "metadata": {},
     "output_type": "execute_result"
    }
   ],
   "source": [
    "(hbo[hbo[\"averageRating\"] < 5].sort_values(\"averageRating\")).shape[0] / hbo.shape[0]"
   ]
  },
  {
   "cell_type": "code",
   "execution_count": null,
   "metadata": {},
   "outputs": [],
   "source": []
  }
 ],
 "metadata": {
  "kernelspec": {
   "display_name": "Python 3",
   "language": "python",
   "name": "python3"
  },
  "language_info": {
   "codemirror_mode": {
    "name": "ipython",
    "version": 3
   },
   "file_extension": ".py",
   "mimetype": "text/x-python",
   "name": "python",
   "nbconvert_exporter": "python",
   "pygments_lexer": "ipython3",
   "version": "3.7.6"
  }
 },
 "nbformat": 4,
 "nbformat_minor": 4
}
