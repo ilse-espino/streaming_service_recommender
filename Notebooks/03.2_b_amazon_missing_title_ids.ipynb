{
 "cells": [
  {
   "cell_type": "code",
   "execution_count": 1,
   "metadata": {},
   "outputs": [],
   "source": [
    "import pandas as pd\n",
    "import numpy as np\n",
    "from fuzzywuzzy import fuzz"
   ]
  },
  {
   "cell_type": "markdown",
   "metadata": {},
   "source": [
    "## Find missing IMDB IDs for Amazon Data\n",
    "\n",
    "#### Goals\n",
    "\n",
    "- Find missing titles from original merge.\n",
    "- Find missing titles on IMDB using fuzzywuzzy.\n",
    "\n",
    "**NOTE: We will use the same process as in 03.1_a_netflix_missing_title_ids notebook**\n",
    "\n",
    "### 1. Import data"
   ]
  },
  {
   "cell_type": "code",
   "execution_count": 2,
   "metadata": {},
   "outputs": [],
   "source": [
    "amazon = pd.read_csv(\"../Data/amazon_shows.csv\")"
   ]
  },
  {
   "cell_type": "code",
   "execution_count": 3,
   "metadata": {},
   "outputs": [],
   "source": [
    "amazon_ids = pd.read_pickle(\"../Data/amazon_ids.pkl\")"
   ]
  },
  {
   "cell_type": "code",
   "execution_count": 4,
   "metadata": {},
   "outputs": [],
   "source": [
    "amazon_missing = pd.read_pickle(\"../Data/amazon_missing.pkl\")"
   ]
  },
  {
   "cell_type": "markdown",
   "metadata": {},
   "source": [
    "### 2. Compare length of values of oringal list vs new ones\n",
    "\n",
    "We will compare the number of rows from the original amazon data frame and the sum of the missing titles and the amazon ids."
   ]
  },
  {
   "cell_type": "code",
   "execution_count": 5,
   "metadata": {},
   "outputs": [
    {
     "data": {
      "text/plain": [
       "2136"
      ]
     },
     "execution_count": 5,
     "metadata": {},
     "output_type": "execute_result"
    }
   ],
   "source": [
    "len(amazon)"
   ]
  },
  {
   "cell_type": "code",
   "execution_count": 6,
   "metadata": {},
   "outputs": [
    {
     "data": {
      "text/plain": [
       "2130"
      ]
     },
     "execution_count": 6,
     "metadata": {},
     "output_type": "execute_result"
    }
   ],
   "source": [
    "len(amazon_ids) + len(amazon_missing)"
   ]
  },
  {
   "cell_type": "code",
   "execution_count": 7,
   "metadata": {},
   "outputs": [
    {
     "data": {
      "text/plain": [
       "2130"
      ]
     },
     "execution_count": 7,
     "metadata": {},
     "output_type": "execute_result"
    }
   ],
   "source": [
    "amazon[\"show\"].nunique()"
   ]
  },
  {
   "cell_type": "markdown",
   "metadata": {},
   "source": [
    "6 values are missing but when looking at unique values on the original data frame, we get the same result. This means that there must be some repeated titles which may be from different years. We will make a value count for the show column in the original amazon data frame."
   ]
  },
  {
   "cell_type": "code",
   "execution_count": 8,
   "metadata": {},
   "outputs": [
    {
     "data": {
      "text/plain": [
       "Undercover                  2\n",
       "Clifford the Big Red Dog    2\n",
       "Baby Talk                   2\n",
       "Rome                        2\n",
       "Elizabeth I                 2\n",
       "Moby Dick                   2\n",
       "Name: show, dtype: int64"
      ]
     },
     "execution_count": 8,
     "metadata": {},
     "output_type": "execute_result"
    }
   ],
   "source": [
    "amazon[\"show\"].value_counts().head(6)"
   ]
  },
  {
   "cell_type": "markdown",
   "metadata": {},
   "source": [
    "We will look at each of them and add them the amazon missing data frame."
   ]
  },
  {
   "cell_type": "code",
   "execution_count": 9,
   "metadata": {},
   "outputs": [
    {
     "data": {
      "text/html": [
       "<div>\n",
       "<style scoped>\n",
       "    .dataframe tbody tr th:only-of-type {\n",
       "        vertical-align: middle;\n",
       "    }\n",
       "\n",
       "    .dataframe tbody tr th {\n",
       "        vertical-align: top;\n",
       "    }\n",
       "\n",
       "    .dataframe thead th {\n",
       "        text-align: right;\n",
       "    }\n",
       "</style>\n",
       "<table border=\"1\" class=\"dataframe\">\n",
       "  <thead>\n",
       "    <tr style=\"text-align: right;\">\n",
       "      <th></th>\n",
       "      <th>show</th>\n",
       "      <th>year</th>\n",
       "      <th>rating</th>\n",
       "      <th>imdb</th>\n",
       "      <th>rotten_tomatoes</th>\n",
       "    </tr>\n",
       "  </thead>\n",
       "  <tbody>\n",
       "    <tr>\n",
       "      <th>583</th>\n",
       "      <td>Moby Dick</td>\n",
       "      <td>1998</td>\n",
       "      <td>7+</td>\n",
       "      <td>6.4</td>\n",
       "      <td>75%</td>\n",
       "    </tr>\n",
       "    <tr>\n",
       "      <th>626</th>\n",
       "      <td>Moby Dick</td>\n",
       "      <td>2011</td>\n",
       "      <td>18+</td>\n",
       "      <td>6.2</td>\n",
       "      <td>NaN</td>\n",
       "    </tr>\n",
       "  </tbody>\n",
       "</table>\n",
       "</div>"
      ],
      "text/plain": [
       "          show  year rating  imdb rotten_tomatoes\n",
       "583  Moby Dick  1998     7+   6.4             75%\n",
       "626  Moby Dick  2011    18+   6.2             NaN"
      ]
     },
     "execution_count": 9,
     "metadata": {},
     "output_type": "execute_result"
    }
   ],
   "source": [
    "amazon[amazon[\"show\"] == \"Moby Dick\"]"
   ]
  },
  {
   "cell_type": "code",
   "execution_count": 10,
   "metadata": {},
   "outputs": [
    {
     "data": {
      "text/html": [
       "<div>\n",
       "<style scoped>\n",
       "    .dataframe tbody tr th:only-of-type {\n",
       "        vertical-align: middle;\n",
       "    }\n",
       "\n",
       "    .dataframe tbody tr th {\n",
       "        vertical-align: top;\n",
       "    }\n",
       "\n",
       "    .dataframe thead th {\n",
       "        text-align: right;\n",
       "    }\n",
       "</style>\n",
       "<table border=\"1\" class=\"dataframe\">\n",
       "  <thead>\n",
       "    <tr style=\"text-align: right;\">\n",
       "      <th></th>\n",
       "      <th>show</th>\n",
       "      <th>year</th>\n",
       "      <th>rating</th>\n",
       "      <th>imdb</th>\n",
       "      <th>rotten_tomatoes</th>\n",
       "      <th>tconst</th>\n",
       "      <th>titleType</th>\n",
       "      <th>primaryTitle</th>\n",
       "      <th>originalTitle</th>\n",
       "      <th>isAdult</th>\n",
       "      <th>...</th>\n",
       "      <th>runtimeMinutes</th>\n",
       "      <th>genres</th>\n",
       "      <th>titleId</th>\n",
       "      <th>ordering</th>\n",
       "      <th>title</th>\n",
       "      <th>region</th>\n",
       "      <th>language</th>\n",
       "      <th>types</th>\n",
       "      <th>attributes</th>\n",
       "      <th>isOriginalTitle</th>\n",
       "    </tr>\n",
       "  </thead>\n",
       "  <tbody>\n",
       "    <tr>\n",
       "      <th>470</th>\n",
       "      <td>Moby Dick</td>\n",
       "      <td>1998</td>\n",
       "      <td>7+</td>\n",
       "      <td>6.4</td>\n",
       "      <td>75%</td>\n",
       "      <td>tt0120756</td>\n",
       "      <td>tvMiniSeries</td>\n",
       "      <td>Moby Dick</td>\n",
       "      <td>Moby Dick</td>\n",
       "      <td>0.0</td>\n",
       "      <td>...</td>\n",
       "      <td>180</td>\n",
       "      <td>Adventure,Drama,Thriller</td>\n",
       "      <td>NaN</td>\n",
       "      <td>NaN</td>\n",
       "      <td>NaN</td>\n",
       "      <td>NaN</td>\n",
       "      <td>NaN</td>\n",
       "      <td>NaN</td>\n",
       "      <td>NaN</td>\n",
       "      <td>NaN</td>\n",
       "    </tr>\n",
       "  </tbody>\n",
       "</table>\n",
       "<p>1 rows × 22 columns</p>\n",
       "</div>"
      ],
      "text/plain": [
       "          show  year rating  imdb rotten_tomatoes     tconst     titleType  \\\n",
       "470  Moby Dick  1998     7+   6.4             75%  tt0120756  tvMiniSeries   \n",
       "\n",
       "    primaryTitle originalTitle  isAdult  ...  runtimeMinutes  \\\n",
       "470    Moby Dick     Moby Dick      0.0  ...             180   \n",
       "\n",
       "                       genres titleId ordering title  region language types  \\\n",
       "470  Adventure,Drama,Thriller     NaN      NaN   NaN     NaN      NaN   NaN   \n",
       "\n",
       "    attributes isOriginalTitle  \n",
       "470        NaN             NaN  \n",
       "\n",
       "[1 rows x 22 columns]"
      ]
     },
     "execution_count": 10,
     "metadata": {},
     "output_type": "execute_result"
    }
   ],
   "source": [
    "amazon_ids[amazon_ids[\"show\"] == \"Moby Dick\"]"
   ]
  },
  {
   "cell_type": "code",
   "execution_count": 11,
   "metadata": {},
   "outputs": [],
   "source": [
    "amazon_missing = amazon_missing.append(amazon[(amazon[\"show\"] == \"Moby Dick\") & (amazon[\"year\"] == 2011)])"
   ]
  },
  {
   "cell_type": "code",
   "execution_count": 12,
   "metadata": {},
   "outputs": [
    {
     "data": {
      "text/html": [
       "<div>\n",
       "<style scoped>\n",
       "    .dataframe tbody tr th:only-of-type {\n",
       "        vertical-align: middle;\n",
       "    }\n",
       "\n",
       "    .dataframe tbody tr th {\n",
       "        vertical-align: top;\n",
       "    }\n",
       "\n",
       "    .dataframe thead th {\n",
       "        text-align: right;\n",
       "    }\n",
       "</style>\n",
       "<table border=\"1\" class=\"dataframe\">\n",
       "  <thead>\n",
       "    <tr style=\"text-align: right;\">\n",
       "      <th></th>\n",
       "      <th>show</th>\n",
       "      <th>year</th>\n",
       "      <th>rating</th>\n",
       "      <th>imdb</th>\n",
       "      <th>rotten_tomatoes</th>\n",
       "    </tr>\n",
       "  </thead>\n",
       "  <tbody>\n",
       "    <tr>\n",
       "      <th>479</th>\n",
       "      <td>Clifford the Big Red Dog</td>\n",
       "      <td>2000</td>\n",
       "      <td>all</td>\n",
       "      <td>6.6</td>\n",
       "      <td>NaN</td>\n",
       "    </tr>\n",
       "    <tr>\n",
       "      <th>1010</th>\n",
       "      <td>Clifford the Big Red Dog</td>\n",
       "      <td>2019</td>\n",
       "      <td>all</td>\n",
       "      <td>6.1</td>\n",
       "      <td>NaN</td>\n",
       "    </tr>\n",
       "  </tbody>\n",
       "</table>\n",
       "</div>"
      ],
      "text/plain": [
       "                          show  year rating  imdb rotten_tomatoes\n",
       "479   Clifford the Big Red Dog  2000    all   6.6             NaN\n",
       "1010  Clifford the Big Red Dog  2019    all   6.1             NaN"
      ]
     },
     "execution_count": 12,
     "metadata": {},
     "output_type": "execute_result"
    }
   ],
   "source": [
    "amazon[amazon[\"show\"] == \"Clifford the Big Red Dog\"]"
   ]
  },
  {
   "cell_type": "code",
   "execution_count": 13,
   "metadata": {},
   "outputs": [
    {
     "data": {
      "text/html": [
       "<div>\n",
       "<style scoped>\n",
       "    .dataframe tbody tr th:only-of-type {\n",
       "        vertical-align: middle;\n",
       "    }\n",
       "\n",
       "    .dataframe tbody tr th {\n",
       "        vertical-align: top;\n",
       "    }\n",
       "\n",
       "    .dataframe thead th {\n",
       "        text-align: right;\n",
       "    }\n",
       "</style>\n",
       "<table border=\"1\" class=\"dataframe\">\n",
       "  <thead>\n",
       "    <tr style=\"text-align: right;\">\n",
       "      <th></th>\n",
       "      <th>show</th>\n",
       "      <th>year</th>\n",
       "      <th>rating</th>\n",
       "      <th>imdb</th>\n",
       "      <th>rotten_tomatoes</th>\n",
       "      <th>tconst</th>\n",
       "      <th>titleType</th>\n",
       "      <th>primaryTitle</th>\n",
       "      <th>originalTitle</th>\n",
       "      <th>isAdult</th>\n",
       "      <th>...</th>\n",
       "      <th>runtimeMinutes</th>\n",
       "      <th>genres</th>\n",
       "      <th>titleId</th>\n",
       "      <th>ordering</th>\n",
       "      <th>title</th>\n",
       "      <th>region</th>\n",
       "      <th>language</th>\n",
       "      <th>types</th>\n",
       "      <th>attributes</th>\n",
       "      <th>isOriginalTitle</th>\n",
       "    </tr>\n",
       "  </thead>\n",
       "  <tbody>\n",
       "    <tr>\n",
       "      <th>394</th>\n",
       "      <td>Clifford the Big Red Dog</td>\n",
       "      <td>2000</td>\n",
       "      <td>all</td>\n",
       "      <td>6.6</td>\n",
       "      <td>NaN</td>\n",
       "      <td>tt0233041</td>\n",
       "      <td>tvSeries</td>\n",
       "      <td>Clifford the Big Red Dog</td>\n",
       "      <td>Clifford the Big Red Dog</td>\n",
       "      <td>0.0</td>\n",
       "      <td>...</td>\n",
       "      <td>30</td>\n",
       "      <td>Animation,Comedy,Family</td>\n",
       "      <td>NaN</td>\n",
       "      <td>NaN</td>\n",
       "      <td>NaN</td>\n",
       "      <td>NaN</td>\n",
       "      <td>NaN</td>\n",
       "      <td>NaN</td>\n",
       "      <td>NaN</td>\n",
       "      <td>NaN</td>\n",
       "    </tr>\n",
       "  </tbody>\n",
       "</table>\n",
       "<p>1 rows × 22 columns</p>\n",
       "</div>"
      ],
      "text/plain": [
       "                         show  year rating  imdb rotten_tomatoes     tconst  \\\n",
       "394  Clifford the Big Red Dog  2000    all   6.6             NaN  tt0233041   \n",
       "\n",
       "    titleType              primaryTitle             originalTitle  isAdult  \\\n",
       "394  tvSeries  Clifford the Big Red Dog  Clifford the Big Red Dog      0.0   \n",
       "\n",
       "     ...  runtimeMinutes                   genres titleId ordering title  \\\n",
       "394  ...              30  Animation,Comedy,Family     NaN      NaN   NaN   \n",
       "\n",
       "     region language types attributes isOriginalTitle  \n",
       "394     NaN      NaN   NaN        NaN             NaN  \n",
       "\n",
       "[1 rows x 22 columns]"
      ]
     },
     "execution_count": 13,
     "metadata": {},
     "output_type": "execute_result"
    }
   ],
   "source": [
    "amazon_ids[amazon_ids[\"show\"] == \"Clifford the Big Red Dog\"]"
   ]
  },
  {
   "cell_type": "code",
   "execution_count": 14,
   "metadata": {},
   "outputs": [],
   "source": [
    "amazon_missing = amazon_missing.append(amazon[(amazon[\"show\"] == \"Clifford the Big Red Dog\") & (amazon[\"year\"] == 2019)])"
   ]
  },
  {
   "cell_type": "code",
   "execution_count": 15,
   "metadata": {},
   "outputs": [
    {
     "data": {
      "text/html": [
       "<div>\n",
       "<style scoped>\n",
       "    .dataframe tbody tr th:only-of-type {\n",
       "        vertical-align: middle;\n",
       "    }\n",
       "\n",
       "    .dataframe tbody tr th {\n",
       "        vertical-align: top;\n",
       "    }\n",
       "\n",
       "    .dataframe thead th {\n",
       "        text-align: right;\n",
       "    }\n",
       "</style>\n",
       "<table border=\"1\" class=\"dataframe\">\n",
       "  <thead>\n",
       "    <tr style=\"text-align: right;\">\n",
       "      <th></th>\n",
       "      <th>show</th>\n",
       "      <th>year</th>\n",
       "      <th>rating</th>\n",
       "      <th>imdb</th>\n",
       "      <th>rotten_tomatoes</th>\n",
       "    </tr>\n",
       "  </thead>\n",
       "  <tbody>\n",
       "    <tr>\n",
       "      <th>160</th>\n",
       "      <td>Undercover</td>\n",
       "      <td>2011</td>\n",
       "      <td>7+</td>\n",
       "      <td>8.9</td>\n",
       "      <td>NaN</td>\n",
       "    </tr>\n",
       "    <tr>\n",
       "      <th>671</th>\n",
       "      <td>Undercover</td>\n",
       "      <td>2016</td>\n",
       "      <td>16+</td>\n",
       "      <td>6.8</td>\n",
       "      <td>75%</td>\n",
       "    </tr>\n",
       "  </tbody>\n",
       "</table>\n",
       "</div>"
      ],
      "text/plain": [
       "           show  year rating  imdb rotten_tomatoes\n",
       "160  Undercover  2011     7+   8.9             NaN\n",
       "671  Undercover  2016    16+   6.8             75%"
      ]
     },
     "execution_count": 15,
     "metadata": {},
     "output_type": "execute_result"
    }
   ],
   "source": [
    "amazon[amazon[\"show\"] == \"Undercover\"]"
   ]
  },
  {
   "cell_type": "code",
   "execution_count": 16,
   "metadata": {},
   "outputs": [
    {
     "data": {
      "text/html": [
       "<div>\n",
       "<style scoped>\n",
       "    .dataframe tbody tr th:only-of-type {\n",
       "        vertical-align: middle;\n",
       "    }\n",
       "\n",
       "    .dataframe tbody tr th {\n",
       "        vertical-align: top;\n",
       "    }\n",
       "\n",
       "    .dataframe thead th {\n",
       "        text-align: right;\n",
       "    }\n",
       "</style>\n",
       "<table border=\"1\" class=\"dataframe\">\n",
       "  <thead>\n",
       "    <tr style=\"text-align: right;\">\n",
       "      <th></th>\n",
       "      <th>show</th>\n",
       "      <th>year</th>\n",
       "      <th>rating</th>\n",
       "      <th>imdb</th>\n",
       "      <th>rotten_tomatoes</th>\n",
       "      <th>tconst</th>\n",
       "      <th>titleType</th>\n",
       "      <th>primaryTitle</th>\n",
       "      <th>originalTitle</th>\n",
       "      <th>isAdult</th>\n",
       "      <th>...</th>\n",
       "      <th>runtimeMinutes</th>\n",
       "      <th>genres</th>\n",
       "      <th>titleId</th>\n",
       "      <th>ordering</th>\n",
       "      <th>title</th>\n",
       "      <th>region</th>\n",
       "      <th>language</th>\n",
       "      <th>types</th>\n",
       "      <th>attributes</th>\n",
       "      <th>isOriginalTitle</th>\n",
       "    </tr>\n",
       "  </thead>\n",
       "  <tbody>\n",
       "    <tr>\n",
       "      <th>142</th>\n",
       "      <td>Undercover</td>\n",
       "      <td>2011</td>\n",
       "      <td>7+</td>\n",
       "      <td>8.9</td>\n",
       "      <td>NaN</td>\n",
       "      <td>tt4266524</td>\n",
       "      <td>tvSeries</td>\n",
       "      <td>Undercover</td>\n",
       "      <td>Undercover</td>\n",
       "      <td>0.0</td>\n",
       "      <td>...</td>\n",
       "      <td>\\N</td>\n",
       "      <td>\\N</td>\n",
       "      <td>NaN</td>\n",
       "      <td>NaN</td>\n",
       "      <td>NaN</td>\n",
       "      <td>NaN</td>\n",
       "      <td>NaN</td>\n",
       "      <td>NaN</td>\n",
       "      <td>NaN</td>\n",
       "      <td>NaN</td>\n",
       "    </tr>\n",
       "  </tbody>\n",
       "</table>\n",
       "<p>1 rows × 22 columns</p>\n",
       "</div>"
      ],
      "text/plain": [
       "           show  year rating  imdb rotten_tomatoes     tconst titleType  \\\n",
       "142  Undercover  2011     7+   8.9             NaN  tt4266524  tvSeries   \n",
       "\n",
       "    primaryTitle originalTitle  isAdult  ...  runtimeMinutes  genres titleId  \\\n",
       "142   Undercover    Undercover      0.0  ...              \\N      \\N     NaN   \n",
       "\n",
       "    ordering title  region language types attributes isOriginalTitle  \n",
       "142      NaN   NaN     NaN      NaN   NaN        NaN             NaN  \n",
       "\n",
       "[1 rows x 22 columns]"
      ]
     },
     "execution_count": 16,
     "metadata": {},
     "output_type": "execute_result"
    }
   ],
   "source": [
    "amazon_ids[amazon_ids[\"show\"] == \"Undercover\"]"
   ]
  },
  {
   "cell_type": "code",
   "execution_count": 17,
   "metadata": {},
   "outputs": [],
   "source": [
    "amazon_missing = amazon_missing.append(amazon[(amazon[\"show\"] == \"Undercover\") & (amazon[\"year\"] == 2016)])"
   ]
  },
  {
   "cell_type": "code",
   "execution_count": 18,
   "metadata": {},
   "outputs": [
    {
     "data": {
      "text/html": [
       "<div>\n",
       "<style scoped>\n",
       "    .dataframe tbody tr th:only-of-type {\n",
       "        vertical-align: middle;\n",
       "    }\n",
       "\n",
       "    .dataframe tbody tr th {\n",
       "        vertical-align: top;\n",
       "    }\n",
       "\n",
       "    .dataframe thead th {\n",
       "        text-align: right;\n",
       "    }\n",
       "</style>\n",
       "<table border=\"1\" class=\"dataframe\">\n",
       "  <thead>\n",
       "    <tr style=\"text-align: right;\">\n",
       "      <th></th>\n",
       "      <th>show</th>\n",
       "      <th>year</th>\n",
       "      <th>rating</th>\n",
       "      <th>imdb</th>\n",
       "      <th>rotten_tomatoes</th>\n",
       "    </tr>\n",
       "  </thead>\n",
       "  <tbody>\n",
       "    <tr>\n",
       "      <th>1032</th>\n",
       "      <td>Baby Talk</td>\n",
       "      <td>1991</td>\n",
       "      <td>all</td>\n",
       "      <td>4.2</td>\n",
       "      <td>NaN</td>\n",
       "    </tr>\n",
       "    <tr>\n",
       "      <th>1792</th>\n",
       "      <td>Baby Talk</td>\n",
       "      <td>2017</td>\n",
       "      <td>NaN</td>\n",
       "      <td>NaN</td>\n",
       "      <td>NaN</td>\n",
       "    </tr>\n",
       "  </tbody>\n",
       "</table>\n",
       "</div>"
      ],
      "text/plain": [
       "           show  year rating  imdb rotten_tomatoes\n",
       "1032  Baby Talk  1991    all   4.2             NaN\n",
       "1792  Baby Talk  2017    NaN   NaN             NaN"
      ]
     },
     "execution_count": 18,
     "metadata": {},
     "output_type": "execute_result"
    }
   ],
   "source": [
    "amazon[amazon[\"show\"] == \"Baby Talk\"]"
   ]
  },
  {
   "cell_type": "code",
   "execution_count": 19,
   "metadata": {},
   "outputs": [
    {
     "data": {
      "text/html": [
       "<div>\n",
       "<style scoped>\n",
       "    .dataframe tbody tr th:only-of-type {\n",
       "        vertical-align: middle;\n",
       "    }\n",
       "\n",
       "    .dataframe tbody tr th {\n",
       "        vertical-align: top;\n",
       "    }\n",
       "\n",
       "    .dataframe thead th {\n",
       "        text-align: right;\n",
       "    }\n",
       "</style>\n",
       "<table border=\"1\" class=\"dataframe\">\n",
       "  <thead>\n",
       "    <tr style=\"text-align: right;\">\n",
       "      <th></th>\n",
       "      <th>show</th>\n",
       "      <th>year</th>\n",
       "      <th>rating</th>\n",
       "      <th>imdb</th>\n",
       "      <th>rotten_tomatoes</th>\n",
       "      <th>tconst</th>\n",
       "      <th>titleType</th>\n",
       "      <th>primaryTitle</th>\n",
       "      <th>originalTitle</th>\n",
       "      <th>isAdult</th>\n",
       "      <th>...</th>\n",
       "      <th>runtimeMinutes</th>\n",
       "      <th>genres</th>\n",
       "      <th>titleId</th>\n",
       "      <th>ordering</th>\n",
       "      <th>title</th>\n",
       "      <th>region</th>\n",
       "      <th>language</th>\n",
       "      <th>types</th>\n",
       "      <th>attributes</th>\n",
       "      <th>isOriginalTitle</th>\n",
       "    </tr>\n",
       "  </thead>\n",
       "  <tbody>\n",
       "    <tr>\n",
       "      <th>778</th>\n",
       "      <td>Baby Talk</td>\n",
       "      <td>1991</td>\n",
       "      <td>all</td>\n",
       "      <td>4.2</td>\n",
       "      <td>NaN</td>\n",
       "      <td>tt0101041</td>\n",
       "      <td>tvSeries</td>\n",
       "      <td>Baby Talk</td>\n",
       "      <td>Baby Talk</td>\n",
       "      <td>0.0</td>\n",
       "      <td>...</td>\n",
       "      <td>30</td>\n",
       "      <td>Comedy</td>\n",
       "      <td>NaN</td>\n",
       "      <td>NaN</td>\n",
       "      <td>NaN</td>\n",
       "      <td>NaN</td>\n",
       "      <td>NaN</td>\n",
       "      <td>NaN</td>\n",
       "      <td>NaN</td>\n",
       "      <td>NaN</td>\n",
       "    </tr>\n",
       "  </tbody>\n",
       "</table>\n",
       "<p>1 rows × 22 columns</p>\n",
       "</div>"
      ],
      "text/plain": [
       "          show  year rating  imdb rotten_tomatoes     tconst titleType  \\\n",
       "778  Baby Talk  1991    all   4.2             NaN  tt0101041  tvSeries   \n",
       "\n",
       "    primaryTitle originalTitle  isAdult  ...  runtimeMinutes  genres titleId  \\\n",
       "778    Baby Talk     Baby Talk      0.0  ...              30  Comedy     NaN   \n",
       "\n",
       "    ordering title  region language types attributes isOriginalTitle  \n",
       "778      NaN   NaN     NaN      NaN   NaN        NaN             NaN  \n",
       "\n",
       "[1 rows x 22 columns]"
      ]
     },
     "execution_count": 19,
     "metadata": {},
     "output_type": "execute_result"
    }
   ],
   "source": [
    "amazon_ids[amazon_ids[\"show\"] == \"Baby Talk\"]"
   ]
  },
  {
   "cell_type": "code",
   "execution_count": 20,
   "metadata": {},
   "outputs": [],
   "source": [
    "amazon_missing = amazon_missing.append(amazon[(amazon[\"show\"] == \"Baby Talk\") & (amazon[\"year\"] == 2017)])"
   ]
  },
  {
   "cell_type": "code",
   "execution_count": 21,
   "metadata": {},
   "outputs": [
    {
     "data": {
      "text/html": [
       "<div>\n",
       "<style scoped>\n",
       "    .dataframe tbody tr th:only-of-type {\n",
       "        vertical-align: middle;\n",
       "    }\n",
       "\n",
       "    .dataframe tbody tr th {\n",
       "        vertical-align: top;\n",
       "    }\n",
       "\n",
       "    .dataframe thead th {\n",
       "        text-align: right;\n",
       "    }\n",
       "</style>\n",
       "<table border=\"1\" class=\"dataframe\">\n",
       "  <thead>\n",
       "    <tr style=\"text-align: right;\">\n",
       "      <th></th>\n",
       "      <th>show</th>\n",
       "      <th>year</th>\n",
       "      <th>rating</th>\n",
       "      <th>imdb</th>\n",
       "      <th>rotten_tomatoes</th>\n",
       "    </tr>\n",
       "  </thead>\n",
       "  <tbody>\n",
       "    <tr>\n",
       "      <th>329</th>\n",
       "      <td>Elizabeth I</td>\n",
       "      <td>2005</td>\n",
       "      <td>18+</td>\n",
       "      <td>7.9</td>\n",
       "      <td>NaN</td>\n",
       "    </tr>\n",
       "    <tr>\n",
       "      <th>654</th>\n",
       "      <td>Elizabeth I</td>\n",
       "      <td>2017</td>\n",
       "      <td>NaN</td>\n",
       "      <td>7.3</td>\n",
       "      <td>NaN</td>\n",
       "    </tr>\n",
       "  </tbody>\n",
       "</table>\n",
       "</div>"
      ],
      "text/plain": [
       "            show  year rating  imdb rotten_tomatoes\n",
       "329  Elizabeth I  2005    18+   7.9             NaN\n",
       "654  Elizabeth I  2017    NaN   7.3             NaN"
      ]
     },
     "execution_count": 21,
     "metadata": {},
     "output_type": "execute_result"
    }
   ],
   "source": [
    "amazon[amazon[\"show\"] == \"Elizabeth I\"]"
   ]
  },
  {
   "cell_type": "code",
   "execution_count": 22,
   "metadata": {},
   "outputs": [
    {
     "data": {
      "text/html": [
       "<div>\n",
       "<style scoped>\n",
       "    .dataframe tbody tr th:only-of-type {\n",
       "        vertical-align: middle;\n",
       "    }\n",
       "\n",
       "    .dataframe tbody tr th {\n",
       "        vertical-align: top;\n",
       "    }\n",
       "\n",
       "    .dataframe thead th {\n",
       "        text-align: right;\n",
       "    }\n",
       "</style>\n",
       "<table border=\"1\" class=\"dataframe\">\n",
       "  <thead>\n",
       "    <tr style=\"text-align: right;\">\n",
       "      <th></th>\n",
       "      <th>show</th>\n",
       "      <th>year</th>\n",
       "      <th>rating</th>\n",
       "      <th>imdb</th>\n",
       "      <th>rotten_tomatoes</th>\n",
       "      <th>tconst</th>\n",
       "      <th>titleType</th>\n",
       "      <th>primaryTitle</th>\n",
       "      <th>originalTitle</th>\n",
       "      <th>isAdult</th>\n",
       "      <th>...</th>\n",
       "      <th>runtimeMinutes</th>\n",
       "      <th>genres</th>\n",
       "      <th>titleId</th>\n",
       "      <th>ordering</th>\n",
       "      <th>title</th>\n",
       "      <th>region</th>\n",
       "      <th>language</th>\n",
       "      <th>types</th>\n",
       "      <th>attributes</th>\n",
       "      <th>isOriginalTitle</th>\n",
       "    </tr>\n",
       "  </thead>\n",
       "  <tbody>\n",
       "    <tr>\n",
       "      <th>280</th>\n",
       "      <td>Elizabeth I</td>\n",
       "      <td>2005</td>\n",
       "      <td>18+</td>\n",
       "      <td>7.9</td>\n",
       "      <td>NaN</td>\n",
       "      <td>tt0465326</td>\n",
       "      <td>tvMiniSeries</td>\n",
       "      <td>Elizabeth I</td>\n",
       "      <td>Elizabeth I</td>\n",
       "      <td>0.0</td>\n",
       "      <td>...</td>\n",
       "      <td>223</td>\n",
       "      <td>Biography,Drama,History</td>\n",
       "      <td>NaN</td>\n",
       "      <td>NaN</td>\n",
       "      <td>NaN</td>\n",
       "      <td>NaN</td>\n",
       "      <td>NaN</td>\n",
       "      <td>NaN</td>\n",
       "      <td>NaN</td>\n",
       "      <td>NaN</td>\n",
       "    </tr>\n",
       "  </tbody>\n",
       "</table>\n",
       "<p>1 rows × 22 columns</p>\n",
       "</div>"
      ],
      "text/plain": [
       "            show  year rating  imdb rotten_tomatoes     tconst     titleType  \\\n",
       "280  Elizabeth I  2005    18+   7.9             NaN  tt0465326  tvMiniSeries   \n",
       "\n",
       "    primaryTitle originalTitle  isAdult  ...  runtimeMinutes  \\\n",
       "280  Elizabeth I   Elizabeth I      0.0  ...             223   \n",
       "\n",
       "                      genres titleId ordering title  region language types  \\\n",
       "280  Biography,Drama,History     NaN      NaN   NaN     NaN      NaN   NaN   \n",
       "\n",
       "    attributes isOriginalTitle  \n",
       "280        NaN             NaN  \n",
       "\n",
       "[1 rows x 22 columns]"
      ]
     },
     "execution_count": 22,
     "metadata": {},
     "output_type": "execute_result"
    }
   ],
   "source": [
    "amazon_ids[amazon_ids[\"show\"] == \"Elizabeth I\"]"
   ]
  },
  {
   "cell_type": "code",
   "execution_count": 23,
   "metadata": {},
   "outputs": [],
   "source": [
    "amazon_missing = amazon_missing.append(amazon[(amazon[\"show\"] == \"Elizabeth I\") & (amazon[\"year\"] == 2017)])"
   ]
  },
  {
   "cell_type": "code",
   "execution_count": 24,
   "metadata": {},
   "outputs": [
    {
     "data": {
      "text/html": [
       "<div>\n",
       "<style scoped>\n",
       "    .dataframe tbody tr th:only-of-type {\n",
       "        vertical-align: middle;\n",
       "    }\n",
       "\n",
       "    .dataframe tbody tr th {\n",
       "        vertical-align: top;\n",
       "    }\n",
       "\n",
       "    .dataframe thead th {\n",
       "        text-align: right;\n",
       "    }\n",
       "</style>\n",
       "<table border=\"1\" class=\"dataframe\">\n",
       "  <thead>\n",
       "    <tr style=\"text-align: right;\">\n",
       "      <th></th>\n",
       "      <th>show</th>\n",
       "      <th>year</th>\n",
       "      <th>rating</th>\n",
       "      <th>imdb</th>\n",
       "      <th>rotten_tomatoes</th>\n",
       "    </tr>\n",
       "  </thead>\n",
       "  <tbody>\n",
       "    <tr>\n",
       "      <th>13</th>\n",
       "      <td>Rome</td>\n",
       "      <td>2005</td>\n",
       "      <td>18+</td>\n",
       "      <td>8.7</td>\n",
       "      <td>86%</td>\n",
       "    </tr>\n",
       "    <tr>\n",
       "      <th>991</th>\n",
       "      <td>Rome</td>\n",
       "      <td>2012</td>\n",
       "      <td>NaN</td>\n",
       "      <td>5.8</td>\n",
       "      <td>NaN</td>\n",
       "    </tr>\n",
       "  </tbody>\n",
       "</table>\n",
       "</div>"
      ],
      "text/plain": [
       "     show  year rating  imdb rotten_tomatoes\n",
       "13   Rome  2005    18+   8.7             86%\n",
       "991  Rome  2012    NaN   5.8             NaN"
      ]
     },
     "execution_count": 24,
     "metadata": {},
     "output_type": "execute_result"
    }
   ],
   "source": [
    "amazon[amazon[\"show\"] == \"Rome\"]"
   ]
  },
  {
   "cell_type": "code",
   "execution_count": 25,
   "metadata": {},
   "outputs": [
    {
     "data": {
      "text/html": [
       "<div>\n",
       "<style scoped>\n",
       "    .dataframe tbody tr th:only-of-type {\n",
       "        vertical-align: middle;\n",
       "    }\n",
       "\n",
       "    .dataframe tbody tr th {\n",
       "        vertical-align: top;\n",
       "    }\n",
       "\n",
       "    .dataframe thead th {\n",
       "        text-align: right;\n",
       "    }\n",
       "</style>\n",
       "<table border=\"1\" class=\"dataframe\">\n",
       "  <thead>\n",
       "    <tr style=\"text-align: right;\">\n",
       "      <th></th>\n",
       "      <th>show</th>\n",
       "      <th>year</th>\n",
       "      <th>rating</th>\n",
       "      <th>imdb</th>\n",
       "      <th>rotten_tomatoes</th>\n",
       "      <th>tconst</th>\n",
       "      <th>titleType</th>\n",
       "      <th>primaryTitle</th>\n",
       "      <th>originalTitle</th>\n",
       "      <th>isAdult</th>\n",
       "      <th>...</th>\n",
       "      <th>runtimeMinutes</th>\n",
       "      <th>genres</th>\n",
       "      <th>titleId</th>\n",
       "      <th>ordering</th>\n",
       "      <th>title</th>\n",
       "      <th>region</th>\n",
       "      <th>language</th>\n",
       "      <th>types</th>\n",
       "      <th>attributes</th>\n",
       "      <th>isOriginalTitle</th>\n",
       "    </tr>\n",
       "  </thead>\n",
       "  <tbody>\n",
       "    <tr>\n",
       "      <th>12</th>\n",
       "      <td>Rome</td>\n",
       "      <td>2005</td>\n",
       "      <td>18+</td>\n",
       "      <td>8.7</td>\n",
       "      <td>86%</td>\n",
       "      <td>tt0384766</td>\n",
       "      <td>tvSeries</td>\n",
       "      <td>Rome</td>\n",
       "      <td>Rome</td>\n",
       "      <td>0.0</td>\n",
       "      <td>...</td>\n",
       "      <td>52</td>\n",
       "      <td>Action,Drama,History</td>\n",
       "      <td>NaN</td>\n",
       "      <td>NaN</td>\n",
       "      <td>NaN</td>\n",
       "      <td>NaN</td>\n",
       "      <td>NaN</td>\n",
       "      <td>NaN</td>\n",
       "      <td>NaN</td>\n",
       "      <td>NaN</td>\n",
       "    </tr>\n",
       "  </tbody>\n",
       "</table>\n",
       "<p>1 rows × 22 columns</p>\n",
       "</div>"
      ],
      "text/plain": [
       "    show  year rating  imdb rotten_tomatoes     tconst titleType primaryTitle  \\\n",
       "12  Rome  2005    18+   8.7             86%  tt0384766  tvSeries         Rome   \n",
       "\n",
       "   originalTitle  isAdult  ...  runtimeMinutes                genres titleId  \\\n",
       "12          Rome      0.0  ...              52  Action,Drama,History     NaN   \n",
       "\n",
       "   ordering title  region language types attributes isOriginalTitle  \n",
       "12      NaN   NaN     NaN      NaN   NaN        NaN             NaN  \n",
       "\n",
       "[1 rows x 22 columns]"
      ]
     },
     "execution_count": 25,
     "metadata": {},
     "output_type": "execute_result"
    }
   ],
   "source": [
    "amazon_ids[amazon_ids[\"show\"] == \"Rome\"]"
   ]
  },
  {
   "cell_type": "code",
   "execution_count": 26,
   "metadata": {},
   "outputs": [],
   "source": [
    "amazon_missing = amazon_missing.append(amazon[(amazon[\"show\"] == \"Rome\") & (amazon[\"year\"] == 2012)])"
   ]
  },
  {
   "cell_type": "code",
   "execution_count": 27,
   "metadata": {},
   "outputs": [
    {
     "data": {
      "text/plain": [
       "2136"
      ]
     },
     "execution_count": 27,
     "metadata": {},
     "output_type": "execute_result"
    }
   ],
   "source": [
    "len(amazon_missing) + len(amazon_ids)"
   ]
  },
  {
   "cell_type": "markdown",
   "metadata": {},
   "source": [
    "Now we got the same values from the original tv shows and the new data frames."
   ]
  },
  {
   "cell_type": "code",
   "execution_count": 28,
   "metadata": {},
   "outputs": [],
   "source": [
    "amazon_missing = amazon_missing.reset_index(drop=True)"
   ]
  },
  {
   "cell_type": "markdown",
   "metadata": {},
   "source": [
    "### 3. Find missing titles using fuzzywuzzy\n",
    "\n",
    "We will first create a list for missing shows."
   ]
  },
  {
   "cell_type": "code",
   "execution_count": 29,
   "metadata": {},
   "outputs": [],
   "source": [
    "amazon_shows_missing = [show for show in amazon_missing[\"show\"]]"
   ]
  },
  {
   "cell_type": "code",
   "execution_count": 30,
   "metadata": {},
   "outputs": [
    {
     "data": {
      "text/plain": [
       "602"
      ]
     },
     "execution_count": 30,
     "metadata": {},
     "output_type": "execute_result"
    }
   ],
   "source": [
    "len(amazon_shows_missing)"
   ]
  },
  {
   "cell_type": "code",
   "execution_count": 31,
   "metadata": {},
   "outputs": [],
   "source": [
    "imdb = pd.read_pickle(path + \"Data/imdb_tv_all.pkl\")"
   ]
  },
  {
   "cell_type": "code",
   "execution_count": 32,
   "metadata": {},
   "outputs": [],
   "source": [
    "imdb_titles = [title for title in imdb[\"primaryTitle\"]]"
   ]
  },
  {
   "cell_type": "markdown",
   "metadata": {},
   "source": [
    "We will use the same function as on the netflix notebook, this time we will look for values with a ration higher than 80, since we are looking at more missing shows, we need more tolerance in order to get correct data."
   ]
  },
  {
   "cell_type": "code",
   "execution_count": 33,
   "metadata": {},
   "outputs": [],
   "source": [
    "def find_shows(show):\n",
    "    matches = []\n",
    "\n",
    "    for title in imdb_titles:\n",
    "        # compute ratio and remove case-sensitivity\n",
    "        ratio = fuzz.ratio(title.lower(), show.lower())\n",
    "\n",
    "        # add all matches to list with ratio > 80\n",
    "        if ratio >= 80:\n",
    "            matches.append((title, show, ratio))\n",
    "    \n",
    "    # return none if there was no match found\n",
    "    if len(matches) == 0:\n",
    "        return None\n",
    "    return sorted(matches, key=lambda x: x[2], reverse=True)[0][0]"
   ]
  },
  {
   "cell_type": "markdown",
   "metadata": {},
   "source": [
    "We will now create a new column with the matched imdb titles."
   ]
  },
  {
   "cell_type": "code",
   "execution_count": 34,
   "metadata": {},
   "outputs": [],
   "source": [
    "amazon_missing[\"imdb_titles\"] = amazon_missing[\"show\"].apply(lambda x: find_shows(x))"
   ]
  },
  {
   "cell_type": "code",
   "execution_count": 35,
   "metadata": {},
   "outputs": [
    {
     "data": {
      "text/html": [
       "<div>\n",
       "<style scoped>\n",
       "    .dataframe tbody tr th:only-of-type {\n",
       "        vertical-align: middle;\n",
       "    }\n",
       "\n",
       "    .dataframe tbody tr th {\n",
       "        vertical-align: top;\n",
       "    }\n",
       "\n",
       "    .dataframe thead th {\n",
       "        text-align: right;\n",
       "    }\n",
       "</style>\n",
       "<table border=\"1\" class=\"dataframe\">\n",
       "  <thead>\n",
       "    <tr style=\"text-align: right;\">\n",
       "      <th></th>\n",
       "      <th>show</th>\n",
       "      <th>year</th>\n",
       "      <th>rating</th>\n",
       "      <th>imdb</th>\n",
       "      <th>rotten_tomatoes</th>\n",
       "      <th>imdb_titles</th>\n",
       "    </tr>\n",
       "  </thead>\n",
       "  <tbody>\n",
       "    <tr>\n",
       "      <th>0</th>\n",
       "      <td>Peep show</td>\n",
       "      <td>2003</td>\n",
       "      <td>18+</td>\n",
       "      <td>8.6</td>\n",
       "      <td>96%</td>\n",
       "      <td>Peep Show</td>\n",
       "    </tr>\n",
       "    <tr>\n",
       "      <th>1</th>\n",
       "      <td>The Test: A New Era For Australia's Team</td>\n",
       "      <td>2020</td>\n",
       "      <td>NaN</td>\n",
       "      <td>9.0</td>\n",
       "      <td>NaN</td>\n",
       "      <td>The Test: A New Era for Australia's Team</td>\n",
       "    </tr>\n",
       "    <tr>\n",
       "      <th>2</th>\n",
       "      <td>Made In Abyss</td>\n",
       "      <td>2017</td>\n",
       "      <td>18+</td>\n",
       "      <td>8.4</td>\n",
       "      <td>NaN</td>\n",
       "      <td>Made in Abyss</td>\n",
       "    </tr>\n",
       "    <tr>\n",
       "      <th>3</th>\n",
       "      <td>Chacha Vidhayak Hain Humare</td>\n",
       "      <td>2018</td>\n",
       "      <td>NaN</td>\n",
       "      <td>8.0</td>\n",
       "      <td>NaN</td>\n",
       "      <td>Chacha Vidhayak Hain Hamare</td>\n",
       "    </tr>\n",
       "    <tr>\n",
       "      <th>4</th>\n",
       "      <td>Darker than Black</td>\n",
       "      <td>2007</td>\n",
       "      <td>16+</td>\n",
       "      <td>7.8</td>\n",
       "      <td>NaN</td>\n",
       "      <td>Darker Than Black</td>\n",
       "    </tr>\n",
       "    <tr>\n",
       "      <th>5</th>\n",
       "      <td>Kenichi The Mightiest Disciple</td>\n",
       "      <td>2006</td>\n",
       "      <td>16+</td>\n",
       "      <td>8.2</td>\n",
       "      <td>NaN</td>\n",
       "      <td>None</td>\n",
       "    </tr>\n",
       "    <tr>\n",
       "      <th>6</th>\n",
       "      <td>James May: Our Man In Japan</td>\n",
       "      <td>2020</td>\n",
       "      <td>NaN</td>\n",
       "      <td>8.5</td>\n",
       "      <td>NaN</td>\n",
       "      <td>James May: Our Man in Japan</td>\n",
       "    </tr>\n",
       "    <tr>\n",
       "      <th>7</th>\n",
       "      <td>6teen</td>\n",
       "      <td>2004</td>\n",
       "      <td>7+</td>\n",
       "      <td>7.2</td>\n",
       "      <td>NaN</td>\n",
       "      <td>6Teen</td>\n",
       "    </tr>\n",
       "    <tr>\n",
       "      <th>8</th>\n",
       "      <td>Sonic x</td>\n",
       "      <td>2003</td>\n",
       "      <td>16+</td>\n",
       "      <td>6.1</td>\n",
       "      <td>NaN</td>\n",
       "      <td>Sonic X</td>\n",
       "    </tr>\n",
       "    <tr>\n",
       "      <th>9</th>\n",
       "      <td>R. L. Stine's The Haunting Hour</td>\n",
       "      <td>2010</td>\n",
       "      <td>7+</td>\n",
       "      <td>8.0</td>\n",
       "      <td>NaN</td>\n",
       "      <td>R.L. Stine's The Haunting Hour</td>\n",
       "    </tr>\n",
       "  </tbody>\n",
       "</table>\n",
       "</div>"
      ],
      "text/plain": [
       "                                       show  year rating  imdb  \\\n",
       "0                                 Peep show  2003    18+   8.6   \n",
       "1  The Test: A New Era For Australia's Team  2020    NaN   9.0   \n",
       "2                             Made In Abyss  2017    18+   8.4   \n",
       "3               Chacha Vidhayak Hain Humare  2018    NaN   8.0   \n",
       "4                         Darker than Black  2007    16+   7.8   \n",
       "5            Kenichi The Mightiest Disciple  2006    16+   8.2   \n",
       "6               James May: Our Man In Japan  2020    NaN   8.5   \n",
       "7                                     6teen  2004     7+   7.2   \n",
       "8                                   Sonic x  2003    16+   6.1   \n",
       "9           R. L. Stine's The Haunting Hour  2010     7+   8.0   \n",
       "\n",
       "  rotten_tomatoes                               imdb_titles  \n",
       "0             96%                                 Peep Show  \n",
       "1             NaN  The Test: A New Era for Australia's Team  \n",
       "2             NaN                             Made in Abyss  \n",
       "3             NaN               Chacha Vidhayak Hain Hamare  \n",
       "4             NaN                         Darker Than Black  \n",
       "5             NaN                                      None  \n",
       "6             NaN               James May: Our Man in Japan  \n",
       "7             NaN                                     6Teen  \n",
       "8             NaN                                   Sonic X  \n",
       "9             NaN            R.L. Stine's The Haunting Hour  "
      ]
     },
     "execution_count": 35,
     "metadata": {},
     "output_type": "execute_result"
    }
   ],
   "source": [
    "amazon_missing.head(10)"
   ]
  },
  {
   "cell_type": "code",
   "execution_count": 36,
   "metadata": {},
   "outputs": [],
   "source": [
    "amazon_missing_2 = amazon_missing[amazon_missing[\"imdb_titles\"].isna()].reset_index(drop=True)"
   ]
  },
  {
   "cell_type": "code",
   "execution_count": 37,
   "metadata": {},
   "outputs": [],
   "source": [
    "amazon_missing = amazon_missing[~amazon_missing[\"imdb_titles\"].isna()].reset_index(drop=True)"
   ]
  },
  {
   "cell_type": "code",
   "execution_count": 38,
   "metadata": {},
   "outputs": [
    {
     "data": {
      "text/html": [
       "<div>\n",
       "<style scoped>\n",
       "    .dataframe tbody tr th:only-of-type {\n",
       "        vertical-align: middle;\n",
       "    }\n",
       "\n",
       "    .dataframe tbody tr th {\n",
       "        vertical-align: top;\n",
       "    }\n",
       "\n",
       "    .dataframe thead th {\n",
       "        text-align: right;\n",
       "    }\n",
       "</style>\n",
       "<table border=\"1\" class=\"dataframe\">\n",
       "  <thead>\n",
       "    <tr style=\"text-align: right;\">\n",
       "      <th></th>\n",
       "      <th>show</th>\n",
       "      <th>year</th>\n",
       "      <th>rating</th>\n",
       "      <th>imdb</th>\n",
       "      <th>rotten_tomatoes</th>\n",
       "      <th>imdb_titles</th>\n",
       "    </tr>\n",
       "  </thead>\n",
       "  <tbody>\n",
       "    <tr>\n",
       "      <th>0</th>\n",
       "      <td>Kenichi The Mightiest Disciple</td>\n",
       "      <td>2006</td>\n",
       "      <td>16+</td>\n",
       "      <td>8.2</td>\n",
       "      <td>NaN</td>\n",
       "      <td>None</td>\n",
       "    </tr>\n",
       "    <tr>\n",
       "      <th>1</th>\n",
       "      <td>Moon Embracing the Sun</td>\n",
       "      <td>2012</td>\n",
       "      <td>7+</td>\n",
       "      <td>8.0</td>\n",
       "      <td>NaN</td>\n",
       "      <td>None</td>\n",
       "    </tr>\n",
       "    <tr>\n",
       "      <th>2</th>\n",
       "      <td>StarTalk with Neil deGrasse Tyson</td>\n",
       "      <td>2015</td>\n",
       "      <td>all</td>\n",
       "      <td>7.8</td>\n",
       "      <td>NaN</td>\n",
       "      <td>None</td>\n",
       "    </tr>\n",
       "    <tr>\n",
       "      <th>3</th>\n",
       "      <td>The Mysterious Play</td>\n",
       "      <td>1995</td>\n",
       "      <td>16+</td>\n",
       "      <td>7.9</td>\n",
       "      <td>NaN</td>\n",
       "      <td>None</td>\n",
       "    </tr>\n",
       "    <tr>\n",
       "      <th>4</th>\n",
       "      <td>Worricker</td>\n",
       "      <td>2011</td>\n",
       "      <td>NaN</td>\n",
       "      <td>8.9</td>\n",
       "      <td>NaN</td>\n",
       "      <td>None</td>\n",
       "    </tr>\n",
       "    <tr>\n",
       "      <th>...</th>\n",
       "      <td>...</td>\n",
       "      <td>...</td>\n",
       "      <td>...</td>\n",
       "      <td>...</td>\n",
       "      <td>...</td>\n",
       "      <td>...</td>\n",
       "    </tr>\n",
       "    <tr>\n",
       "      <th>319</th>\n",
       "      <td>Honolulu P.D.</td>\n",
       "      <td>2003</td>\n",
       "      <td>NaN</td>\n",
       "      <td>NaN</td>\n",
       "      <td>NaN</td>\n",
       "      <td>None</td>\n",
       "    </tr>\n",
       "    <tr>\n",
       "      <th>320</th>\n",
       "      <td>Mad Fabricators Society</td>\n",
       "      <td>2015</td>\n",
       "      <td>NaN</td>\n",
       "      <td>NaN</td>\n",
       "      <td>NaN</td>\n",
       "      <td>None</td>\n",
       "    </tr>\n",
       "    <tr>\n",
       "      <th>321</th>\n",
       "      <td>My Sister-in-Law</td>\n",
       "      <td>2015</td>\n",
       "      <td>NaN</td>\n",
       "      <td>NaN</td>\n",
       "      <td>NaN</td>\n",
       "      <td>None</td>\n",
       "    </tr>\n",
       "    <tr>\n",
       "      <th>322</th>\n",
       "      <td>How To Self-Publish</td>\n",
       "      <td>2017</td>\n",
       "      <td>NaN</td>\n",
       "      <td>NaN</td>\n",
       "      <td>NaN</td>\n",
       "      <td>None</td>\n",
       "    </tr>\n",
       "    <tr>\n",
       "      <th>323</th>\n",
       "      <td>Strictly Dumpling</td>\n",
       "      <td>2017</td>\n",
       "      <td>NaN</td>\n",
       "      <td>NaN</td>\n",
       "      <td>NaN</td>\n",
       "      <td>None</td>\n",
       "    </tr>\n",
       "  </tbody>\n",
       "</table>\n",
       "<p>324 rows × 6 columns</p>\n",
       "</div>"
      ],
      "text/plain": [
       "                                  show  year rating  imdb rotten_tomatoes  \\\n",
       "0       Kenichi The Mightiest Disciple  2006    16+   8.2             NaN   \n",
       "1               Moon Embracing the Sun  2012     7+   8.0             NaN   \n",
       "2    StarTalk with Neil deGrasse Tyson  2015    all   7.8             NaN   \n",
       "3                  The Mysterious Play  1995    16+   7.9             NaN   \n",
       "4                            Worricker  2011    NaN   8.9             NaN   \n",
       "..                                 ...   ...    ...   ...             ...   \n",
       "319                      Honolulu P.D.  2003    NaN   NaN             NaN   \n",
       "320            Mad Fabricators Society  2015    NaN   NaN             NaN   \n",
       "321                   My Sister-in-Law  2015    NaN   NaN             NaN   \n",
       "322                How To Self-Publish  2017    NaN   NaN             NaN   \n",
       "323                  Strictly Dumpling  2017    NaN   NaN             NaN   \n",
       "\n",
       "    imdb_titles  \n",
       "0          None  \n",
       "1          None  \n",
       "2          None  \n",
       "3          None  \n",
       "4          None  \n",
       "..          ...  \n",
       "319        None  \n",
       "320        None  \n",
       "321        None  \n",
       "322        None  \n",
       "323        None  \n",
       "\n",
       "[324 rows x 6 columns]"
      ]
     },
     "execution_count": 38,
     "metadata": {},
     "output_type": "execute_result"
    }
   ],
   "source": [
    "amazon_missing_2"
   ]
  },
  {
   "cell_type": "markdown",
   "metadata": {},
   "source": [
    "We still have 324 titles that were not found. We will first merge the new imdb ids to the amazon_ids data frame and then continue to review the missing titles.\n",
    "\n",
    "### 4. Merge IMDB IDs\n",
    "\n",
    "We will still merge on the year, in order to be sure that we are not merging a remake or a similar title."
   ]
  },
  {
   "cell_type": "code",
   "execution_count": 39,
   "metadata": {},
   "outputs": [],
   "source": [
    "amazon_missing = amazon_missing.merge(imdb, how=\"left\", left_on=[\"imdb_titles\", \"year\"]\n",
    "                                      , right_on=[\"primaryTitle\", \"startYear\"])"
   ]
  },
  {
   "cell_type": "markdown",
   "metadata": {},
   "source": [
    "We will separate the missing titles that were not matched."
   ]
  },
  {
   "cell_type": "code",
   "execution_count": 40,
   "metadata": {},
   "outputs": [],
   "source": [
    "amazon_missing_3 = amazon_missing[amazon_missing[\"tconst\"].isna()].reset_index(drop=True)"
   ]
  },
  {
   "cell_type": "code",
   "execution_count": 41,
   "metadata": {},
   "outputs": [],
   "source": [
    "amazon_missing = amazon_missing[~amazon_missing[\"tconst\"].isna()].reset_index(drop=True)"
   ]
  },
  {
   "cell_type": "markdown",
   "metadata": {},
   "source": [
    "We will join the new ids found to the amazon_ids dataframe."
   ]
  },
  {
   "cell_type": "code",
   "execution_count": 42,
   "metadata": {},
   "outputs": [],
   "source": [
    "amazon_ids = amazon_ids.append(amazon_missing).reset_index(drop=True)"
   ]
  },
  {
   "cell_type": "code",
   "execution_count": 43,
   "metadata": {},
   "outputs": [],
   "source": [
    "amazon_missing_3 = amazon_missing_3[[\"show\", \"year\", \"rating\", \"imdb\", \"rotten_tomatoes\", \"imdb_titles\"]]"
   ]
  },
  {
   "cell_type": "markdown",
   "metadata": {},
   "source": [
    "We will take a look on the titles that weren't matched."
   ]
  },
  {
   "cell_type": "code",
   "execution_count": 44,
   "metadata": {},
   "outputs": [
    {
     "data": {
      "text/html": [
       "<div>\n",
       "<style scoped>\n",
       "    .dataframe tbody tr th:only-of-type {\n",
       "        vertical-align: middle;\n",
       "    }\n",
       "\n",
       "    .dataframe tbody tr th {\n",
       "        vertical-align: top;\n",
       "    }\n",
       "\n",
       "    .dataframe thead th {\n",
       "        text-align: right;\n",
       "    }\n",
       "</style>\n",
       "<table border=\"1\" class=\"dataframe\">\n",
       "  <thead>\n",
       "    <tr style=\"text-align: right;\">\n",
       "      <th></th>\n",
       "      <th>show</th>\n",
       "      <th>year</th>\n",
       "      <th>rating</th>\n",
       "      <th>imdb</th>\n",
       "      <th>rotten_tomatoes</th>\n",
       "      <th>imdb_titles</th>\n",
       "    </tr>\n",
       "  </thead>\n",
       "  <tbody>\n",
       "    <tr>\n",
       "      <th>0</th>\n",
       "      <td>Charles II: The Power and The Passion</td>\n",
       "      <td>2003</td>\n",
       "      <td>16+</td>\n",
       "      <td>7.5</td>\n",
       "      <td>NaN</td>\n",
       "      <td>Whitlam: The Power and the Passion</td>\n",
       "    </tr>\n",
       "    <tr>\n",
       "      <th>1</th>\n",
       "      <td>Empresses In The Palace</td>\n",
       "      <td>2012</td>\n",
       "      <td>7+</td>\n",
       "      <td>8.4</td>\n",
       "      <td>NaN</td>\n",
       "      <td>Empresses in the Palace</td>\n",
       "    </tr>\n",
       "    <tr>\n",
       "      <th>2</th>\n",
       "      <td>R.I.P Files</td>\n",
       "      <td>2008</td>\n",
       "      <td>NaN</td>\n",
       "      <td>7.6</td>\n",
       "      <td>NaN</td>\n",
       "      <td>The R.I.P. Files</td>\n",
       "    </tr>\n",
       "    <tr>\n",
       "      <th>3</th>\n",
       "      <td>The History of Tom Jones</td>\n",
       "      <td>1997</td>\n",
       "      <td>NaN</td>\n",
       "      <td>7.6</td>\n",
       "      <td>NaN</td>\n",
       "      <td>The Story of Moses</td>\n",
       "    </tr>\n",
       "    <tr>\n",
       "      <th>4</th>\n",
       "      <td>LEGO Friends</td>\n",
       "      <td>2012</td>\n",
       "      <td>all</td>\n",
       "      <td>5.2</td>\n",
       "      <td>NaN</td>\n",
       "      <td>Lego Friends</td>\n",
       "    </tr>\n",
       "    <tr>\n",
       "      <th>...</th>\n",
       "      <td>...</td>\n",
       "      <td>...</td>\n",
       "      <td>...</td>\n",
       "      <td>...</td>\n",
       "      <td>...</td>\n",
       "      <td>...</td>\n",
       "    </tr>\n",
       "    <tr>\n",
       "      <th>149</th>\n",
       "      <td>Great Indian Wars</td>\n",
       "      <td>2009</td>\n",
       "      <td>NaN</td>\n",
       "      <td>NaN</td>\n",
       "      <td>NaN</td>\n",
       "      <td>Great Canadian Parks</td>\n",
       "    </tr>\n",
       "    <tr>\n",
       "      <th>150</th>\n",
       "      <td>Food Stories</td>\n",
       "      <td>2017</td>\n",
       "      <td>NaN</td>\n",
       "      <td>NaN</td>\n",
       "      <td>NaN</td>\n",
       "      <td>Four Stories</td>\n",
       "    </tr>\n",
       "    <tr>\n",
       "      <th>151</th>\n",
       "      <td>My Battalion</td>\n",
       "      <td>2014</td>\n",
       "      <td>NaN</td>\n",
       "      <td>NaN</td>\n",
       "      <td>NaN</td>\n",
       "      <td>The Battalion</td>\n",
       "    </tr>\n",
       "    <tr>\n",
       "      <th>152</th>\n",
       "      <td>Quick Bites</td>\n",
       "      <td>2017</td>\n",
       "      <td>NaN</td>\n",
       "      <td>NaN</td>\n",
       "      <td>NaN</td>\n",
       "      <td>QuickBites</td>\n",
       "    </tr>\n",
       "    <tr>\n",
       "      <th>153</th>\n",
       "      <td>Baby Talk</td>\n",
       "      <td>2017</td>\n",
       "      <td>NaN</td>\n",
       "      <td>NaN</td>\n",
       "      <td>NaN</td>\n",
       "      <td>Baby Talk</td>\n",
       "    </tr>\n",
       "  </tbody>\n",
       "</table>\n",
       "<p>154 rows × 6 columns</p>\n",
       "</div>"
      ],
      "text/plain": [
       "                                      show  year rating  imdb rotten_tomatoes  \\\n",
       "0    Charles II: The Power and The Passion  2003    16+   7.5             NaN   \n",
       "1                  Empresses In The Palace  2012     7+   8.4             NaN   \n",
       "2                              R.I.P Files  2008    NaN   7.6             NaN   \n",
       "3                 The History of Tom Jones  1997    NaN   7.6             NaN   \n",
       "4                             LEGO Friends  2012    all   5.2             NaN   \n",
       "..                                     ...   ...    ...   ...             ...   \n",
       "149                      Great Indian Wars  2009    NaN   NaN             NaN   \n",
       "150                           Food Stories  2017    NaN   NaN             NaN   \n",
       "151                           My Battalion  2014    NaN   NaN             NaN   \n",
       "152                            Quick Bites  2017    NaN   NaN             NaN   \n",
       "153                              Baby Talk  2017    NaN   NaN             NaN   \n",
       "\n",
       "                            imdb_titles  \n",
       "0    Whitlam: The Power and the Passion  \n",
       "1               Empresses in the Palace  \n",
       "2                      The R.I.P. Files  \n",
       "3                    The Story of Moses  \n",
       "4                          Lego Friends  \n",
       "..                                  ...  \n",
       "149                Great Canadian Parks  \n",
       "150                        Four Stories  \n",
       "151                       The Battalion  \n",
       "152                          QuickBites  \n",
       "153                           Baby Talk  \n",
       "\n",
       "[154 rows x 6 columns]"
      ]
     },
     "execution_count": 44,
     "metadata": {},
     "output_type": "execute_result"
    }
   ],
   "source": [
    "amazon_missing_3"
   ]
  },
  {
   "cell_type": "markdown",
   "metadata": {},
   "source": [
    "Some of them don't have a matching title, we will now add a new column showing the fuzzy ratio and remove those below 90."
   ]
  },
  {
   "cell_type": "code",
   "execution_count": 45,
   "metadata": {},
   "outputs": [],
   "source": [
    "fuzzy_ratio = []\n",
    "\n",
    "for row in range(len(amazon_missing_3)):\n",
    "    fuzzy_ratio.append(fuzz.ratio(amazon_missing_3.loc[row, \"show\"].lower(), amazon_missing_3.loc[row, \"imdb_titles\"].lower()))\n",
    "\n",
    "amazon_missing_3[\"fuzzy_ratio\"] = fuzzy_ratio"
   ]
  },
  {
   "cell_type": "code",
   "execution_count": 46,
   "metadata": {},
   "outputs": [],
   "source": [
    "amazon_missing_3_keep = amazon_missing_3[amazon_missing_3[\"fuzzy_ratio\"] >= 90].drop(columns=\"fuzzy_ratio\")"
   ]
  },
  {
   "cell_type": "markdown",
   "metadata": {},
   "source": [
    "We will keep this titles and merge them with their IMDB ID, and add them to the amazon_ids data frame."
   ]
  },
  {
   "cell_type": "code",
   "execution_count": 47,
   "metadata": {},
   "outputs": [],
   "source": [
    "amazon_missing_3_keep = amazon_missing_3_keep.merge(imdb, how=\"left\", left_on=[\"imdb_titles\"], right_on=[\"primaryTitle\"])"
   ]
  },
  {
   "cell_type": "code",
   "execution_count": 48,
   "metadata": {},
   "outputs": [
    {
     "data": {
      "text/html": [
       "<div>\n",
       "<style scoped>\n",
       "    .dataframe tbody tr th:only-of-type {\n",
       "        vertical-align: middle;\n",
       "    }\n",
       "\n",
       "    .dataframe tbody tr th {\n",
       "        vertical-align: top;\n",
       "    }\n",
       "\n",
       "    .dataframe thead th {\n",
       "        text-align: right;\n",
       "    }\n",
       "</style>\n",
       "<table border=\"1\" class=\"dataframe\">\n",
       "  <thead>\n",
       "    <tr style=\"text-align: right;\">\n",
       "      <th></th>\n",
       "      <th>show</th>\n",
       "      <th>year</th>\n",
       "      <th>rating</th>\n",
       "      <th>imdb</th>\n",
       "      <th>rotten_tomatoes</th>\n",
       "      <th>imdb_titles</th>\n",
       "      <th>tconst</th>\n",
       "      <th>titleType</th>\n",
       "      <th>primaryTitle</th>\n",
       "      <th>originalTitle</th>\n",
       "      <th>isAdult</th>\n",
       "      <th>startYear</th>\n",
       "      <th>endYear</th>\n",
       "      <th>runtimeMinutes</th>\n",
       "      <th>genres</th>\n",
       "    </tr>\n",
       "  </thead>\n",
       "  <tbody>\n",
       "  </tbody>\n",
       "</table>\n",
       "</div>"
      ],
      "text/plain": [
       "Empty DataFrame\n",
       "Columns: [show, year, rating, imdb, rotten_tomatoes, imdb_titles, tconst, titleType, primaryTitle, originalTitle, isAdult, startYear, endYear, runtimeMinutes, genres]\n",
       "Index: []"
      ]
     },
     "execution_count": 48,
     "metadata": {},
     "output_type": "execute_result"
    }
   ],
   "source": [
    "amazon_missing_3_keep[amazon_missing_3_keep[\"tconst\"].isna()]"
   ]
  },
  {
   "cell_type": "markdown",
   "metadata": {},
   "source": [
    "We don't have missing ids on this new data frame. We will now add it to the amazon_ids data frame."
   ]
  },
  {
   "cell_type": "code",
   "execution_count": 49,
   "metadata": {},
   "outputs": [
    {
     "data": {
      "text/plain": [
       "154"
      ]
     },
     "execution_count": 49,
     "metadata": {},
     "output_type": "execute_result"
    }
   ],
   "source": [
    "len(amazon_missing_3)"
   ]
  },
  {
   "cell_type": "code",
   "execution_count": 50,
   "metadata": {},
   "outputs": [
    {
     "data": {
      "text/plain": [
       "65"
      ]
     },
     "execution_count": 50,
     "metadata": {},
     "output_type": "execute_result"
    }
   ],
   "source": [
    "len(amazon_missing_3_keep)"
   ]
  },
  {
   "cell_type": "code",
   "execution_count": 51,
   "metadata": {},
   "outputs": [],
   "source": [
    "amazon_ids = amazon_ids.append(amazon_missing_3_keep).reset_index(drop=True)"
   ]
  },
  {
   "cell_type": "code",
   "execution_count": 52,
   "metadata": {},
   "outputs": [],
   "source": [
    "amazon_ids = amazon_ids.drop_duplicates(\"tconst\")"
   ]
  },
  {
   "cell_type": "code",
   "execution_count": 53,
   "metadata": {},
   "outputs": [
    {
     "data": {
      "text/plain": [
       "0.7523408239700374"
      ]
     },
     "execution_count": 53,
     "metadata": {},
     "output_type": "execute_result"
    }
   ],
   "source": [
    "len(amazon_ids)/len(amazon)"
   ]
  },
  {
   "cell_type": "markdown",
   "metadata": {},
   "source": [
    "We will now work on amazon_missing_2 data frame, we will look for imdb titles decreasing the ratio to 60."
   ]
  },
  {
   "cell_type": "code",
   "execution_count": 54,
   "metadata": {},
   "outputs": [],
   "source": [
    "def find_shows2(show):\n",
    "    matches = []\n",
    "\n",
    "    for title in imdb_titles:\n",
    "        # compute ratio and remove case-sensitivity\n",
    "        ratio = fuzz.ratio(title.lower(), show.lower())\n",
    "\n",
    "        # add all matches to list with ratio > 60\n",
    "        if ratio >= 60:\n",
    "            matches.append((title, show, ratio))\n",
    "    if len(matches) == 0:\n",
    "        return None\n",
    "    return sorted(matches, key=lambda x: x[2], reverse=True)[0][0]"
   ]
  },
  {
   "cell_type": "code",
   "execution_count": 55,
   "metadata": {},
   "outputs": [],
   "source": [
    "amazon_missing_2[\"imdb_titles\"] = amazon_missing_2[\"show\"].apply(lambda x: find_shows2(x))"
   ]
  },
  {
   "cell_type": "code",
   "execution_count": 56,
   "metadata": {},
   "outputs": [
    {
     "data": {
      "text/html": [
       "<div>\n",
       "<style scoped>\n",
       "    .dataframe tbody tr th:only-of-type {\n",
       "        vertical-align: middle;\n",
       "    }\n",
       "\n",
       "    .dataframe tbody tr th {\n",
       "        vertical-align: top;\n",
       "    }\n",
       "\n",
       "    .dataframe thead th {\n",
       "        text-align: right;\n",
       "    }\n",
       "</style>\n",
       "<table border=\"1\" class=\"dataframe\">\n",
       "  <thead>\n",
       "    <tr style=\"text-align: right;\">\n",
       "      <th></th>\n",
       "      <th>show</th>\n",
       "      <th>year</th>\n",
       "      <th>rating</th>\n",
       "      <th>imdb</th>\n",
       "      <th>rotten_tomatoes</th>\n",
       "      <th>imdb_titles</th>\n",
       "    </tr>\n",
       "  </thead>\n",
       "  <tbody>\n",
       "    <tr>\n",
       "      <th>0</th>\n",
       "      <td>Kenichi The Mightiest Disciple</td>\n",
       "      <td>2006</td>\n",
       "      <td>16+</td>\n",
       "      <td>8.2</td>\n",
       "      <td>NaN</td>\n",
       "      <td>The Mightiest Disciple Kenichi</td>\n",
       "    </tr>\n",
       "    <tr>\n",
       "      <th>1</th>\n",
       "      <td>Moon Embracing the Sun</td>\n",
       "      <td>2012</td>\n",
       "      <td>7+</td>\n",
       "      <td>8.0</td>\n",
       "      <td>NaN</td>\n",
       "      <td>The Moon That Embraces the Sun</td>\n",
       "    </tr>\n",
       "    <tr>\n",
       "      <th>2</th>\n",
       "      <td>StarTalk with Neil deGrasse Tyson</td>\n",
       "      <td>2015</td>\n",
       "      <td>all</td>\n",
       "      <td>7.8</td>\n",
       "      <td>NaN</td>\n",
       "      <td>SCIENTH: with Neil deMike Tyson</td>\n",
       "    </tr>\n",
       "    <tr>\n",
       "      <th>3</th>\n",
       "      <td>The Mysterious Play</td>\n",
       "      <td>1995</td>\n",
       "      <td>16+</td>\n",
       "      <td>7.9</td>\n",
       "      <td>NaN</td>\n",
       "      <td>Mysterious Planet</td>\n",
       "    </tr>\n",
       "    <tr>\n",
       "      <th>4</th>\n",
       "      <td>Worricker</td>\n",
       "      <td>2011</td>\n",
       "      <td>NaN</td>\n",
       "      <td>8.9</td>\n",
       "      <td>NaN</td>\n",
       "      <td>Whicker</td>\n",
       "    </tr>\n",
       "    <tr>\n",
       "      <th>5</th>\n",
       "      <td>Kannazuki no Miko</td>\n",
       "      <td>2004</td>\n",
       "      <td>16+</td>\n",
       "      <td>6.6</td>\n",
       "      <td>NaN</td>\n",
       "      <td>Kanata no ko</td>\n",
       "    </tr>\n",
       "    <tr>\n",
       "      <th>6</th>\n",
       "      <td>Soviet Storm: WWII in the East</td>\n",
       "      <td>2011</td>\n",
       "      <td>7+</td>\n",
       "      <td>NaN</td>\n",
       "      <td>NaN</td>\n",
       "      <td>True Stories: Life in the USA</td>\n",
       "    </tr>\n",
       "    <tr>\n",
       "      <th>7</th>\n",
       "      <td>Kokkoku, Moment by Moment</td>\n",
       "      <td>2018</td>\n",
       "      <td>18+</td>\n",
       "      <td>7.0</td>\n",
       "      <td>NaN</td>\n",
       "      <td>Mente y movimiento</td>\n",
       "    </tr>\n",
       "    <tr>\n",
       "      <th>8</th>\n",
       "      <td>An American Girl Story - Melody 1963: Love Has...</td>\n",
       "      <td>2016</td>\n",
       "      <td>all</td>\n",
       "      <td>7.6</td>\n",
       "      <td>NaN</td>\n",
       "      <td>None</td>\n",
       "    </tr>\n",
       "    <tr>\n",
       "      <th>9</th>\n",
       "      <td>Drop Kick on my Devil!</td>\n",
       "      <td>2018</td>\n",
       "      <td>NaN</td>\n",
       "      <td>6.4</td>\n",
       "      <td>NaN</td>\n",
       "      <td>None</td>\n",
       "    </tr>\n",
       "    <tr>\n",
       "      <th>10</th>\n",
       "      <td>Egypt (1998)</td>\n",
       "      <td>1998</td>\n",
       "      <td>NaN</td>\n",
       "      <td>8.3</td>\n",
       "      <td>NaN</td>\n",
       "      <td>None</td>\n",
       "    </tr>\n",
       "    <tr>\n",
       "      <th>11</th>\n",
       "      <td>Napoleon: The Campaign of Russia</td>\n",
       "      <td>2014</td>\n",
       "      <td>NaN</td>\n",
       "      <td>7.2</td>\n",
       "      <td>NaN</td>\n",
       "      <td>Napoleon: The Russian Campaign</td>\n",
       "    </tr>\n",
       "    <tr>\n",
       "      <th>12</th>\n",
       "      <td>Тобот</td>\n",
       "      <td>2010</td>\n",
       "      <td>NaN</td>\n",
       "      <td>6.2</td>\n",
       "      <td>NaN</td>\n",
       "      <td>None</td>\n",
       "    </tr>\n",
       "    <tr>\n",
       "      <th>13</th>\n",
       "      <td>THURSTON-The Western Web Series</td>\n",
       "      <td>2011</td>\n",
       "      <td>NaN</td>\n",
       "      <td>6.0</td>\n",
       "      <td>NaN</td>\n",
       "      <td>On the Scene Web Series</td>\n",
       "    </tr>\n",
       "    <tr>\n",
       "      <th>14</th>\n",
       "      <td>Narco Finance</td>\n",
       "      <td>2015</td>\n",
       "      <td>NaN</td>\n",
       "      <td>7.8</td>\n",
       "      <td>NaN</td>\n",
       "      <td>Fontana on Finance</td>\n",
       "    </tr>\n",
       "    <tr>\n",
       "      <th>15</th>\n",
       "      <td>Puppy in My Pocket</td>\n",
       "      <td>2010</td>\n",
       "      <td>NaN</td>\n",
       "      <td>5.9</td>\n",
       "      <td>NaN</td>\n",
       "      <td>Grandpa in My Pocket</td>\n",
       "    </tr>\n",
       "    <tr>\n",
       "      <th>16</th>\n",
       "      <td>The Vietnam War: Before, During, After</td>\n",
       "      <td>2017</td>\n",
       "      <td>NaN</td>\n",
       "      <td>7.1</td>\n",
       "      <td>NaN</td>\n",
       "      <td>The Vietnam War: East Tennessee</td>\n",
       "    </tr>\n",
       "    <tr>\n",
       "      <th>17</th>\n",
       "      <td>The Presidents: From Politics To Power</td>\n",
       "      <td>2014</td>\n",
       "      <td>NaN</td>\n",
       "      <td>6.4</td>\n",
       "      <td>NaN</td>\n",
       "      <td>The Residents: Freak Show in Prague</td>\n",
       "    </tr>\n",
       "    <tr>\n",
       "      <th>18</th>\n",
       "      <td>Baby Class First Words And Numbers</td>\n",
       "      <td>2015</td>\n",
       "      <td>NaN</td>\n",
       "      <td>NaN</td>\n",
       "      <td>NaN</td>\n",
       "      <td>Letters and Numbers</td>\n",
       "    </tr>\n",
       "    <tr>\n",
       "      <th>19</th>\n",
       "      <td>Flying Through Time</td>\n",
       "      <td>2004</td>\n",
       "      <td>all</td>\n",
       "      <td>NaN</td>\n",
       "      <td>NaN</td>\n",
       "      <td>Live Through This</td>\n",
       "    </tr>\n",
       "  </tbody>\n",
       "</table>\n",
       "</div>"
      ],
      "text/plain": [
       "                                                 show  year rating  imdb  \\\n",
       "0                      Kenichi The Mightiest Disciple  2006    16+   8.2   \n",
       "1                              Moon Embracing the Sun  2012     7+   8.0   \n",
       "2                   StarTalk with Neil deGrasse Tyson  2015    all   7.8   \n",
       "3                                 The Mysterious Play  1995    16+   7.9   \n",
       "4                                           Worricker  2011    NaN   8.9   \n",
       "5                                   Kannazuki no Miko  2004    16+   6.6   \n",
       "6                      Soviet Storm: WWII in the East  2011     7+   NaN   \n",
       "7                           Kokkoku, Moment by Moment  2018    18+   7.0   \n",
       "8   An American Girl Story - Melody 1963: Love Has...  2016    all   7.6   \n",
       "9                              Drop Kick on my Devil!  2018    NaN   6.4   \n",
       "10                                       Egypt (1998)  1998    NaN   8.3   \n",
       "11                   Napoleon: The Campaign of Russia  2014    NaN   7.2   \n",
       "12                                              Тобот  2010    NaN   6.2   \n",
       "13                    THURSTON-The Western Web Series  2011    NaN   6.0   \n",
       "14                                      Narco Finance  2015    NaN   7.8   \n",
       "15                                 Puppy in My Pocket  2010    NaN   5.9   \n",
       "16             The Vietnam War: Before, During, After  2017    NaN   7.1   \n",
       "17             The Presidents: From Politics To Power  2014    NaN   6.4   \n",
       "18                 Baby Class First Words And Numbers  2015    NaN   NaN   \n",
       "19                                Flying Through Time  2004    all   NaN   \n",
       "\n",
       "   rotten_tomatoes                          imdb_titles  \n",
       "0              NaN       The Mightiest Disciple Kenichi  \n",
       "1              NaN       The Moon That Embraces the Sun  \n",
       "2              NaN      SCIENTH: with Neil deMike Tyson  \n",
       "3              NaN                    Mysterious Planet  \n",
       "4              NaN                              Whicker  \n",
       "5              NaN                         Kanata no ko  \n",
       "6              NaN        True Stories: Life in the USA  \n",
       "7              NaN                   Mente y movimiento  \n",
       "8              NaN                                 None  \n",
       "9              NaN                                 None  \n",
       "10             NaN                                 None  \n",
       "11             NaN       Napoleon: The Russian Campaign  \n",
       "12             NaN                                 None  \n",
       "13             NaN              On the Scene Web Series  \n",
       "14             NaN                   Fontana on Finance  \n",
       "15             NaN                 Grandpa in My Pocket  \n",
       "16             NaN      The Vietnam War: East Tennessee  \n",
       "17             NaN  The Residents: Freak Show in Prague  \n",
       "18             NaN                  Letters and Numbers  \n",
       "19             NaN                    Live Through This  "
      ]
     },
     "execution_count": 56,
     "metadata": {},
     "output_type": "execute_result"
    }
   ],
   "source": [
    "amazon_missing_2.head(20)"
   ]
  },
  {
   "cell_type": "markdown",
   "metadata": {},
   "source": [
    "From the 20 first elements, it doesn't seem that we have found great matches. We will compute the fuzzy ratio in a new column and see if we can remove some."
   ]
  },
  {
   "cell_type": "code",
   "execution_count": 57,
   "metadata": {},
   "outputs": [],
   "source": [
    "fuzzy_ratio = []\n",
    "\n",
    "for row in range(len(amazon_missing_2)):\n",
    "    if amazon_missing_2.loc[row, \"imdb_titles\"]:\n",
    "        fuzzy_ratio.append(fuzz.ratio(amazon_missing_2.loc[row, \"show\"].lower(), amazon_missing_2.loc[row, \"imdb_titles\"].lower()))\n",
    "    else:\n",
    "        fuzzy_ratio.append(None)\n",
    "amazon_missing_2[\"fuzzy_ratio\"] = fuzzy_ratio"
   ]
  },
  {
   "cell_type": "code",
   "execution_count": 58,
   "metadata": {},
   "outputs": [
    {
     "data": {
      "text/html": [
       "<div>\n",
       "<style scoped>\n",
       "    .dataframe tbody tr th:only-of-type {\n",
       "        vertical-align: middle;\n",
       "    }\n",
       "\n",
       "    .dataframe tbody tr th {\n",
       "        vertical-align: top;\n",
       "    }\n",
       "\n",
       "    .dataframe thead th {\n",
       "        text-align: right;\n",
       "    }\n",
       "</style>\n",
       "<table border=\"1\" class=\"dataframe\">\n",
       "  <thead>\n",
       "    <tr style=\"text-align: right;\">\n",
       "      <th></th>\n",
       "      <th>show</th>\n",
       "      <th>year</th>\n",
       "      <th>rating</th>\n",
       "      <th>imdb</th>\n",
       "      <th>rotten_tomatoes</th>\n",
       "      <th>imdb_titles</th>\n",
       "      <th>fuzzy_ratio</th>\n",
       "    </tr>\n",
       "  </thead>\n",
       "  <tbody>\n",
       "    <tr>\n",
       "      <th>3</th>\n",
       "      <td>The Mysterious Play</td>\n",
       "      <td>1995</td>\n",
       "      <td>16+</td>\n",
       "      <td>7.9</td>\n",
       "      <td>NaN</td>\n",
       "      <td>Mysterious Planet</td>\n",
       "      <td>78.0</td>\n",
       "    </tr>\n",
       "    <tr>\n",
       "      <th>4</th>\n",
       "      <td>Worricker</td>\n",
       "      <td>2011</td>\n",
       "      <td>NaN</td>\n",
       "      <td>8.9</td>\n",
       "      <td>NaN</td>\n",
       "      <td>Whicker</td>\n",
       "      <td>75.0</td>\n",
       "    </tr>\n",
       "    <tr>\n",
       "      <th>22</th>\n",
       "      <td>Behind Tasty</td>\n",
       "      <td>2017</td>\n",
       "      <td>NaN</td>\n",
       "      <td>NaN</td>\n",
       "      <td>NaN</td>\n",
       "      <td>Behind Bars</td>\n",
       "      <td>78.0</td>\n",
       "    </tr>\n",
       "    <tr>\n",
       "      <th>23</th>\n",
       "      <td>The Practice (2014)</td>\n",
       "      <td>2014</td>\n",
       "      <td>NaN</td>\n",
       "      <td>4.4</td>\n",
       "      <td>NaN</td>\n",
       "      <td>The Practice</td>\n",
       "      <td>77.0</td>\n",
       "    </tr>\n",
       "    <tr>\n",
       "      <th>24</th>\n",
       "      <td>One-Eyed Horse: The Series</td>\n",
       "      <td>2009</td>\n",
       "      <td>NaN</td>\n",
       "      <td>3.7</td>\n",
       "      <td>NaN</td>\n",
       "      <td>Lonesome Dove: The Series</td>\n",
       "      <td>75.0</td>\n",
       "    </tr>\n",
       "    <tr>\n",
       "      <th>25</th>\n",
       "      <td>Star April</td>\n",
       "      <td>2017</td>\n",
       "      <td>NaN</td>\n",
       "      <td>6.8</td>\n",
       "      <td>NaN</td>\n",
       "      <td>Star Trails</td>\n",
       "      <td>76.0</td>\n",
       "    </tr>\n",
       "    <tr>\n",
       "      <th>31</th>\n",
       "      <td>Trinity and Beyond</td>\n",
       "      <td>2018</td>\n",
       "      <td>NaN</td>\n",
       "      <td>NaN</td>\n",
       "      <td>NaN</td>\n",
       "      <td>Flexibility and Beyond</td>\n",
       "      <td>75.0</td>\n",
       "    </tr>\n",
       "    <tr>\n",
       "      <th>39</th>\n",
       "      <td>5 Facts</td>\n",
       "      <td>2014</td>\n",
       "      <td>NaN</td>\n",
       "      <td>NaN</td>\n",
       "      <td>NaN</td>\n",
       "      <td>Facets</td>\n",
       "      <td>77.0</td>\n",
       "    </tr>\n",
       "    <tr>\n",
       "      <th>41</th>\n",
       "      <td>Project Restoration</td>\n",
       "      <td>2016</td>\n",
       "      <td>NaN</td>\n",
       "      <td>NaN</td>\n",
       "      <td>NaN</td>\n",
       "      <td>Project Detention</td>\n",
       "      <td>78.0</td>\n",
       "    </tr>\n",
       "    <tr>\n",
       "      <th>42</th>\n",
       "      <td>#ThatsHarassment</td>\n",
       "      <td>2018</td>\n",
       "      <td>NaN</td>\n",
       "      <td>NaN</td>\n",
       "      <td>NaN</td>\n",
       "      <td>Harassment</td>\n",
       "      <td>77.0</td>\n",
       "    </tr>\n",
       "    <tr>\n",
       "      <th>43</th>\n",
       "      <td>The Very Best Of Kristen Bell</td>\n",
       "      <td>2010</td>\n",
       "      <td>NaN</td>\n",
       "      <td>NaN</td>\n",
       "      <td>NaN</td>\n",
       "      <td>The Very Best of Will Ferrell</td>\n",
       "      <td>76.0</td>\n",
       "    </tr>\n",
       "    <tr>\n",
       "      <th>46</th>\n",
       "      <td>Flash Gordon (1996)</td>\n",
       "      <td>1996</td>\n",
       "      <td>NaN</td>\n",
       "      <td>NaN</td>\n",
       "      <td>NaN</td>\n",
       "      <td>Flash Gordon</td>\n",
       "      <td>77.0</td>\n",
       "    </tr>\n",
       "    <tr>\n",
       "      <th>49</th>\n",
       "      <td>Castle Builders</td>\n",
       "      <td>2015</td>\n",
       "      <td>NaN</td>\n",
       "      <td>NaN</td>\n",
       "      <td>NaN</td>\n",
       "      <td>Team Builders</td>\n",
       "      <td>79.0</td>\n",
       "    </tr>\n",
       "    <tr>\n",
       "      <th>53</th>\n",
       "      <td>PRIME JAPAN</td>\n",
       "      <td>2016</td>\n",
       "      <td>NaN</td>\n",
       "      <td>NaN</td>\n",
       "      <td>NaN</td>\n",
       "      <td>Primer plano</td>\n",
       "      <td>78.0</td>\n",
       "    </tr>\n",
       "    <tr>\n",
       "      <th>54</th>\n",
       "      <td>The Hunting Public</td>\n",
       "      <td>2017</td>\n",
       "      <td>NaN</td>\n",
       "      <td>NaN</td>\n",
       "      <td>NaN</td>\n",
       "      <td>The Hunting</td>\n",
       "      <td>76.0</td>\n",
       "    </tr>\n",
       "    <tr>\n",
       "      <th>56</th>\n",
       "      <td>Can You Even Sport?</td>\n",
       "      <td>2011</td>\n",
       "      <td>NaN</td>\n",
       "      <td>NaN</td>\n",
       "      <td>NaN</td>\n",
       "      <td>Can You Not?</td>\n",
       "      <td>77.0</td>\n",
       "    </tr>\n",
       "    <tr>\n",
       "      <th>57</th>\n",
       "      <td>Aliens and Origins</td>\n",
       "      <td>2018</td>\n",
       "      <td>NaN</td>\n",
       "      <td>NaN</td>\n",
       "      <td>NaN</td>\n",
       "      <td>Stake Land: Origins</td>\n",
       "      <td>76.0</td>\n",
       "    </tr>\n",
       "    <tr>\n",
       "      <th>58</th>\n",
       "      <td>Awesome Hot Rods</td>\n",
       "      <td>2017</td>\n",
       "      <td>NaN</td>\n",
       "      <td>NaN</td>\n",
       "      <td>NaN</td>\n",
       "      <td>Awesome Autos</td>\n",
       "      <td>76.0</td>\n",
       "    </tr>\n",
       "    <tr>\n",
       "      <th>60</th>\n",
       "      <td>Tried + True</td>\n",
       "      <td>2017</td>\n",
       "      <td>NaN</td>\n",
       "      <td>NaN</td>\n",
       "      <td>NaN</td>\n",
       "      <td>Triz of True</td>\n",
       "      <td>75.0</td>\n",
       "    </tr>\n",
       "    <tr>\n",
       "      <th>62</th>\n",
       "      <td>Barn Find Hunter</td>\n",
       "      <td>2016</td>\n",
       "      <td>NaN</td>\n",
       "      <td>NaN</td>\n",
       "      <td>NaN</td>\n",
       "      <td>Barn Hunters</td>\n",
       "      <td>79.0</td>\n",
       "    </tr>\n",
       "  </tbody>\n",
       "</table>\n",
       "</div>"
      ],
      "text/plain": [
       "                             show  year rating  imdb rotten_tomatoes  \\\n",
       "3             The Mysterious Play  1995    16+   7.9             NaN   \n",
       "4                       Worricker  2011    NaN   8.9             NaN   \n",
       "22                   Behind Tasty  2017    NaN   NaN             NaN   \n",
       "23            The Practice (2014)  2014    NaN   4.4             NaN   \n",
       "24     One-Eyed Horse: The Series  2009    NaN   3.7             NaN   \n",
       "25                     Star April  2017    NaN   6.8             NaN   \n",
       "31             Trinity and Beyond  2018    NaN   NaN             NaN   \n",
       "39                        5 Facts  2014    NaN   NaN             NaN   \n",
       "41            Project Restoration  2016    NaN   NaN             NaN   \n",
       "42               #ThatsHarassment  2018    NaN   NaN             NaN   \n",
       "43  The Very Best Of Kristen Bell  2010    NaN   NaN             NaN   \n",
       "46            Flash Gordon (1996)  1996    NaN   NaN             NaN   \n",
       "49                Castle Builders  2015    NaN   NaN             NaN   \n",
       "53                    PRIME JAPAN  2016    NaN   NaN             NaN   \n",
       "54             The Hunting Public  2017    NaN   NaN             NaN   \n",
       "56            Can You Even Sport?  2011    NaN   NaN             NaN   \n",
       "57             Aliens and Origins  2018    NaN   NaN             NaN   \n",
       "58               Awesome Hot Rods  2017    NaN   NaN             NaN   \n",
       "60                   Tried + True  2017    NaN   NaN             NaN   \n",
       "62               Barn Find Hunter  2016    NaN   NaN             NaN   \n",
       "\n",
       "                      imdb_titles  fuzzy_ratio  \n",
       "3               Mysterious Planet         78.0  \n",
       "4                         Whicker         75.0  \n",
       "22                    Behind Bars         78.0  \n",
       "23                   The Practice         77.0  \n",
       "24      Lonesome Dove: The Series         75.0  \n",
       "25                    Star Trails         76.0  \n",
       "31         Flexibility and Beyond         75.0  \n",
       "39                         Facets         77.0  \n",
       "41              Project Detention         78.0  \n",
       "42                     Harassment         77.0  \n",
       "43  The Very Best of Will Ferrell         76.0  \n",
       "46                   Flash Gordon         77.0  \n",
       "49                  Team Builders         79.0  \n",
       "53                   Primer plano         78.0  \n",
       "54                    The Hunting         76.0  \n",
       "56                   Can You Not?         77.0  \n",
       "57            Stake Land: Origins         76.0  \n",
       "58                  Awesome Autos         76.0  \n",
       "60                   Triz of True         75.0  \n",
       "62                   Barn Hunters         79.0  "
      ]
     },
     "execution_count": 58,
     "metadata": {},
     "output_type": "execute_result"
    }
   ],
   "source": [
    "amazon_missing_2[amazon_missing_2[\"fuzzy_ratio\"] >= 75].head(20)"
   ]
  },
  {
   "cell_type": "markdown",
   "metadata": {},
   "source": [
    "We can still see some titles that are not the same, so we will remove this values and work with what we have already.\n",
    "\n",
    "We will now calculate the ratio of titles with an imdb id match and the original titles."
   ]
  },
  {
   "cell_type": "code",
   "execution_count": 59,
   "metadata": {},
   "outputs": [
    {
     "data": {
      "text/plain": [
       "0.7523408239700374"
      ]
     },
     "execution_count": 59,
     "metadata": {},
     "output_type": "execute_result"
    }
   ],
   "source": [
    "len(amazon_ids)/len(amazon)"
   ]
  },
  {
   "cell_type": "markdown",
   "metadata": {},
   "source": [
    "This means that we will be using 75% of the original data.\n",
    "\n",
    "### 5. Cleaning final data\n",
    "\n",
    "We will create a final data frame including:\n",
    "- show\n",
    "- year\n",
    "- rating\n",
    "- imdb\n",
    "- rotten_tomatoes\n",
    "- imdb_id\n",
    "- all data from title basics\n",
    "\n",
    "First, we will need to create the imdb_id column, this will have tconst and titleId values."
   ]
  },
  {
   "cell_type": "code",
   "execution_count": 60,
   "metadata": {},
   "outputs": [],
   "source": [
    "amazon_ids[\"imdb_id\"] = np.where(amazon_ids[\"tconst\"].isna(), amazon_ids[\"titleId\"], amazon_ids[\"tconst\"])"
   ]
  },
  {
   "cell_type": "code",
   "execution_count": 61,
   "metadata": {},
   "outputs": [
    {
     "data": {
      "text/plain": [
       "False    1607\n",
       "Name: imdb_id, dtype: int64"
      ]
     },
     "execution_count": 61,
     "metadata": {},
     "output_type": "execute_result"
    }
   ],
   "source": [
    "amazon_ids[\"imdb_id\"].isna().value_counts()"
   ]
  },
  {
   "cell_type": "markdown",
   "metadata": {},
   "source": [
    "This means we have all the IMDB IDs for all the titles in this final data frame. We will now remove columns that are not show, year, rating, imdb, rotten_tomatoes and imdb_id and merge again."
   ]
  },
  {
   "cell_type": "code",
   "execution_count": 62,
   "metadata": {},
   "outputs": [],
   "source": [
    "to_drop = [col for col in amazon_ids.columns if col not in [\"show\", \"year\", \"rating\", \"imdb\", \"rotten_tomatoes\", \"imdb_id\"]]"
   ]
  },
  {
   "cell_type": "code",
   "execution_count": 63,
   "metadata": {},
   "outputs": [],
   "source": [
    "amazon_ids = amazon_ids.drop(columns=to_drop)"
   ]
  },
  {
   "cell_type": "code",
   "execution_count": 64,
   "metadata": {},
   "outputs": [
    {
     "data": {
      "text/html": [
       "<div>\n",
       "<style scoped>\n",
       "    .dataframe tbody tr th:only-of-type {\n",
       "        vertical-align: middle;\n",
       "    }\n",
       "\n",
       "    .dataframe tbody tr th {\n",
       "        vertical-align: top;\n",
       "    }\n",
       "\n",
       "    .dataframe thead th {\n",
       "        text-align: right;\n",
       "    }\n",
       "</style>\n",
       "<table border=\"1\" class=\"dataframe\">\n",
       "  <thead>\n",
       "    <tr style=\"text-align: right;\">\n",
       "      <th></th>\n",
       "      <th>show</th>\n",
       "      <th>year</th>\n",
       "      <th>rating</th>\n",
       "      <th>imdb</th>\n",
       "      <th>rotten_tomatoes</th>\n",
       "      <th>imdb_id</th>\n",
       "    </tr>\n",
       "  </thead>\n",
       "  <tbody>\n",
       "    <tr>\n",
       "      <th>0</th>\n",
       "      <td>The Wire</td>\n",
       "      <td>2002</td>\n",
       "      <td>18+</td>\n",
       "      <td>9.3</td>\n",
       "      <td>94%</td>\n",
       "      <td>tt0306414</td>\n",
       "    </tr>\n",
       "    <tr>\n",
       "      <th>1</th>\n",
       "      <td>The Sopranos</td>\n",
       "      <td>1999</td>\n",
       "      <td>18+</td>\n",
       "      <td>9.2</td>\n",
       "      <td>92%</td>\n",
       "      <td>tt0141842</td>\n",
       "    </tr>\n",
       "    <tr>\n",
       "      <th>2</th>\n",
       "      <td>Band of Brothers</td>\n",
       "      <td>2001</td>\n",
       "      <td>18+</td>\n",
       "      <td>9.4</td>\n",
       "      <td>94%</td>\n",
       "      <td>tt0185906</td>\n",
       "    </tr>\n",
       "    <tr>\n",
       "      <th>3</th>\n",
       "      <td>Vikings</td>\n",
       "      <td>2013</td>\n",
       "      <td>18+</td>\n",
       "      <td>8.6</td>\n",
       "      <td>93%</td>\n",
       "      <td>tt2306299</td>\n",
       "    </tr>\n",
       "    <tr>\n",
       "      <th>4</th>\n",
       "      <td>Mr. Robot</td>\n",
       "      <td>2015</td>\n",
       "      <td>18+</td>\n",
       "      <td>8.5</td>\n",
       "      <td>94%</td>\n",
       "      <td>tt4158110</td>\n",
       "    </tr>\n",
       "  </tbody>\n",
       "</table>\n",
       "</div>"
      ],
      "text/plain": [
       "               show  year rating  imdb rotten_tomatoes    imdb_id\n",
       "0          The Wire  2002    18+   9.3             94%  tt0306414\n",
       "1      The Sopranos  1999    18+   9.2             92%  tt0141842\n",
       "2  Band of Brothers  2001    18+   9.4             94%  tt0185906\n",
       "3           Vikings  2013    18+   8.6             93%  tt2306299\n",
       "4         Mr. Robot  2015    18+   8.5             94%  tt4158110"
      ]
     },
     "execution_count": 64,
     "metadata": {},
     "output_type": "execute_result"
    }
   ],
   "source": [
    "amazon_ids.head()"
   ]
  },
  {
   "cell_type": "markdown",
   "metadata": {},
   "source": [
    "Now we will merge all data from title basics."
   ]
  },
  {
   "cell_type": "code",
   "execution_count": 65,
   "metadata": {},
   "outputs": [],
   "source": [
    "amazon_ids = amazon_ids.merge(imdb, how=\"left\", left_on=\"imdb_id\", right_on=\"tconst\")"
   ]
  },
  {
   "cell_type": "code",
   "execution_count": 66,
   "metadata": {},
   "outputs": [
    {
     "data": {
      "text/html": [
       "<div>\n",
       "<style scoped>\n",
       "    .dataframe tbody tr th:only-of-type {\n",
       "        vertical-align: middle;\n",
       "    }\n",
       "\n",
       "    .dataframe tbody tr th {\n",
       "        vertical-align: top;\n",
       "    }\n",
       "\n",
       "    .dataframe thead th {\n",
       "        text-align: right;\n",
       "    }\n",
       "</style>\n",
       "<table border=\"1\" class=\"dataframe\">\n",
       "  <thead>\n",
       "    <tr style=\"text-align: right;\">\n",
       "      <th></th>\n",
       "      <th>show</th>\n",
       "      <th>year</th>\n",
       "      <th>rating</th>\n",
       "      <th>imdb</th>\n",
       "      <th>rotten_tomatoes</th>\n",
       "      <th>imdb_id</th>\n",
       "      <th>tconst</th>\n",
       "      <th>titleType</th>\n",
       "      <th>primaryTitle</th>\n",
       "      <th>originalTitle</th>\n",
       "      <th>isAdult</th>\n",
       "      <th>startYear</th>\n",
       "      <th>endYear</th>\n",
       "      <th>runtimeMinutes</th>\n",
       "      <th>genres</th>\n",
       "    </tr>\n",
       "  </thead>\n",
       "  <tbody>\n",
       "    <tr>\n",
       "      <th>0</th>\n",
       "      <td>The Wire</td>\n",
       "      <td>2002</td>\n",
       "      <td>18+</td>\n",
       "      <td>9.3</td>\n",
       "      <td>94%</td>\n",
       "      <td>tt0306414</td>\n",
       "      <td>tt0306414</td>\n",
       "      <td>tvSeries</td>\n",
       "      <td>The Wire</td>\n",
       "      <td>The Wire</td>\n",
       "      <td>0</td>\n",
       "      <td>2002.0</td>\n",
       "      <td>2002.0</td>\n",
       "      <td>59</td>\n",
       "      <td>Crime,Drama,Thriller</td>\n",
       "    </tr>\n",
       "    <tr>\n",
       "      <th>1</th>\n",
       "      <td>The Sopranos</td>\n",
       "      <td>1999</td>\n",
       "      <td>18+</td>\n",
       "      <td>9.2</td>\n",
       "      <td>92%</td>\n",
       "      <td>tt0141842</td>\n",
       "      <td>tt0141842</td>\n",
       "      <td>tvSeries</td>\n",
       "      <td>The Sopranos</td>\n",
       "      <td>The Sopranos</td>\n",
       "      <td>0</td>\n",
       "      <td>1999.0</td>\n",
       "      <td>1999.0</td>\n",
       "      <td>55</td>\n",
       "      <td>Crime,Drama</td>\n",
       "    </tr>\n",
       "    <tr>\n",
       "      <th>2</th>\n",
       "      <td>Band of Brothers</td>\n",
       "      <td>2001</td>\n",
       "      <td>18+</td>\n",
       "      <td>9.4</td>\n",
       "      <td>94%</td>\n",
       "      <td>tt0185906</td>\n",
       "      <td>tt0185906</td>\n",
       "      <td>tvMiniSeries</td>\n",
       "      <td>Band of Brothers</td>\n",
       "      <td>Band of Brothers</td>\n",
       "      <td>0</td>\n",
       "      <td>2001.0</td>\n",
       "      <td>2001.0</td>\n",
       "      <td>594</td>\n",
       "      <td>Action,Drama,History</td>\n",
       "    </tr>\n",
       "    <tr>\n",
       "      <th>3</th>\n",
       "      <td>Vikings</td>\n",
       "      <td>2013</td>\n",
       "      <td>18+</td>\n",
       "      <td>8.6</td>\n",
       "      <td>93%</td>\n",
       "      <td>tt2306299</td>\n",
       "      <td>tt2306299</td>\n",
       "      <td>tvSeries</td>\n",
       "      <td>Vikings</td>\n",
       "      <td>Vikings</td>\n",
       "      <td>0</td>\n",
       "      <td>2013.0</td>\n",
       "      <td>2013.0</td>\n",
       "      <td>44</td>\n",
       "      <td>Action,Adventure,Drama</td>\n",
       "    </tr>\n",
       "    <tr>\n",
       "      <th>4</th>\n",
       "      <td>Mr. Robot</td>\n",
       "      <td>2015</td>\n",
       "      <td>18+</td>\n",
       "      <td>8.5</td>\n",
       "      <td>94%</td>\n",
       "      <td>tt4158110</td>\n",
       "      <td>tt4158110</td>\n",
       "      <td>tvSeries</td>\n",
       "      <td>Mr. Robot</td>\n",
       "      <td>Mr. Robot</td>\n",
       "      <td>0</td>\n",
       "      <td>2015.0</td>\n",
       "      <td>2015.0</td>\n",
       "      <td>49</td>\n",
       "      <td>Crime,Drama,Thriller</td>\n",
       "    </tr>\n",
       "  </tbody>\n",
       "</table>\n",
       "</div>"
      ],
      "text/plain": [
       "               show  year rating  imdb rotten_tomatoes    imdb_id     tconst  \\\n",
       "0          The Wire  2002    18+   9.3             94%  tt0306414  tt0306414   \n",
       "1      The Sopranos  1999    18+   9.2             92%  tt0141842  tt0141842   \n",
       "2  Band of Brothers  2001    18+   9.4             94%  tt0185906  tt0185906   \n",
       "3           Vikings  2013    18+   8.6             93%  tt2306299  tt2306299   \n",
       "4         Mr. Robot  2015    18+   8.5             94%  tt4158110  tt4158110   \n",
       "\n",
       "      titleType      primaryTitle     originalTitle  isAdult  startYear  \\\n",
       "0      tvSeries          The Wire          The Wire        0     2002.0   \n",
       "1      tvSeries      The Sopranos      The Sopranos        0     1999.0   \n",
       "2  tvMiniSeries  Band of Brothers  Band of Brothers        0     2001.0   \n",
       "3      tvSeries           Vikings           Vikings        0     2013.0   \n",
       "4      tvSeries         Mr. Robot         Mr. Robot        0     2015.0   \n",
       "\n",
       "   endYear runtimeMinutes                  genres  \n",
       "0   2002.0             59    Crime,Drama,Thriller  \n",
       "1   1999.0             55             Crime,Drama  \n",
       "2   2001.0            594    Action,Drama,History  \n",
       "3   2013.0             44  Action,Adventure,Drama  \n",
       "4   2015.0             49    Crime,Drama,Thriller  "
      ]
     },
     "execution_count": 66,
     "metadata": {},
     "output_type": "execute_result"
    }
   ],
   "source": [
    "amazon_ids.head()"
   ]
  },
  {
   "cell_type": "code",
   "execution_count": 67,
   "metadata": {},
   "outputs": [],
   "source": [
    "amazon_ids = amazon_ids.drop(columns=\"tconst\")"
   ]
  },
  {
   "cell_type": "markdown",
   "metadata": {},
   "source": [
    "### 6. Export final data"
   ]
  },
  {
   "cell_type": "code",
   "execution_count": 68,
   "metadata": {},
   "outputs": [],
   "source": [
    "# amazon_ids.to_pickle(\"../Data/amazon_final.pkl\")"
   ]
  },
  {
   "cell_type": "code",
   "execution_count": null,
   "metadata": {},
   "outputs": [],
   "source": []
  }
 ],
 "metadata": {
  "kernelspec": {
   "display_name": "Python 3",
   "language": "python",
   "name": "python3"
  },
  "language_info": {
   "codemirror_mode": {
    "name": "ipython",
    "version": 3
   },
   "file_extension": ".py",
   "mimetype": "text/x-python",
   "name": "python",
   "nbconvert_exporter": "python",
   "pygments_lexer": "ipython3",
   "version": "3.7.6"
  }
 },
 "nbformat": 4,
 "nbformat_minor": 4
}
