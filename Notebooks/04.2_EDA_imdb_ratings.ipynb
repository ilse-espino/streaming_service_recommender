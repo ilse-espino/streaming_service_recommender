{
 "cells": [
  {
   "cell_type": "code",
   "execution_count": 1,
   "metadata": {},
   "outputs": [],
   "source": [
    "import pandas as pd\n",
    "import numpy as np\n",
    "import matplotlib.pyplot as plt\n",
    "import seaborn as sns\n",
    "%matplotlib inline\n",
    "\n",
    "pd.set_option(\"display.max_columns\", None)\n",
    "\n",
    "path = \"C:/Users/Admin/Documents/ironhack/streaming_service_recommender/\""
   ]
  },
  {
   "cell_type": "markdown",
   "metadata": {},
   "source": [
    "## EDA IMDB Ratings\n",
    "\n",
    "#### Goals\n",
    "\n",
    "- Get descriptive statistics for imdb tv shows ratings for each streaming service.\n",
    "\n",
    "- Plot data.\n",
    "\n",
    "- Compare findings.\n",
    "\n",
    "-----\n",
    "\n",
    "### 1. Netflix\n",
    "#### i. Import data"
   ]
  },
  {
   "cell_type": "code",
   "execution_count": 2,
   "metadata": {},
   "outputs": [],
   "source": [
    "netflix = pd.read_pickle(path + \"Data/netflix_final_clean.pkl\")"
   ]
  },
  {
   "cell_type": "code",
   "execution_count": 3,
   "metadata": {},
   "outputs": [
    {
     "data": {
      "text/html": [
       "<div>\n",
       "<style scoped>\n",
       "    .dataframe tbody tr th:only-of-type {\n",
       "        vertical-align: middle;\n",
       "    }\n",
       "\n",
       "    .dataframe tbody tr th {\n",
       "        vertical-align: top;\n",
       "    }\n",
       "\n",
       "    .dataframe thead th {\n",
       "        text-align: right;\n",
       "    }\n",
       "</style>\n",
       "<table border=\"1\" class=\"dataframe\">\n",
       "  <thead>\n",
       "    <tr style=\"text-align: right;\">\n",
       "      <th></th>\n",
       "      <th>show</th>\n",
       "      <th>year</th>\n",
       "      <th>age</th>\n",
       "      <th>imdb_rating</th>\n",
       "      <th>imdb_id</th>\n",
       "      <th>titleType</th>\n",
       "      <th>primaryTitle</th>\n",
       "      <th>originalTitle</th>\n",
       "      <th>startYear</th>\n",
       "      <th>endYear</th>\n",
       "      <th>runtimeMinutes</th>\n",
       "      <th>genres</th>\n",
       "    </tr>\n",
       "  </thead>\n",
       "  <tbody>\n",
       "    <tr>\n",
       "      <th>0</th>\n",
       "      <td>Breaking Bad</td>\n",
       "      <td>2008</td>\n",
       "      <td>18.0</td>\n",
       "      <td>9.5</td>\n",
       "      <td>tt0903747</td>\n",
       "      <td>tvSeries</td>\n",
       "      <td>Breaking Bad</td>\n",
       "      <td>Breaking Bad</td>\n",
       "      <td>2008.0</td>\n",
       "      <td>2008.0</td>\n",
       "      <td>49.0</td>\n",
       "      <td>Crime,Drama,Thriller</td>\n",
       "    </tr>\n",
       "    <tr>\n",
       "      <th>1</th>\n",
       "      <td>Stranger Things</td>\n",
       "      <td>2016</td>\n",
       "      <td>16.0</td>\n",
       "      <td>8.8</td>\n",
       "      <td>tt4574334</td>\n",
       "      <td>tvSeries</td>\n",
       "      <td>Stranger Things</td>\n",
       "      <td>Stranger Things</td>\n",
       "      <td>2016.0</td>\n",
       "      <td>2016.0</td>\n",
       "      <td>51.0</td>\n",
       "      <td>Drama,Fantasy,Horror</td>\n",
       "    </tr>\n",
       "    <tr>\n",
       "      <th>2</th>\n",
       "      <td>Sherlock</td>\n",
       "      <td>2010</td>\n",
       "      <td>16.0</td>\n",
       "      <td>9.1</td>\n",
       "      <td>tt1475582</td>\n",
       "      <td>tvSeries</td>\n",
       "      <td>Sherlock</td>\n",
       "      <td>Sherlock</td>\n",
       "      <td>2010.0</td>\n",
       "      <td>2010.0</td>\n",
       "      <td>88.0</td>\n",
       "      <td>Crime,Drama,Mystery</td>\n",
       "    </tr>\n",
       "    <tr>\n",
       "      <th>3</th>\n",
       "      <td>Better Call Saul</td>\n",
       "      <td>2015</td>\n",
       "      <td>18.0</td>\n",
       "      <td>8.7</td>\n",
       "      <td>tt3032476</td>\n",
       "      <td>tvSeries</td>\n",
       "      <td>Better Call Saul</td>\n",
       "      <td>Better Call Saul</td>\n",
       "      <td>2015.0</td>\n",
       "      <td>2015.0</td>\n",
       "      <td>46.0</td>\n",
       "      <td>Crime,Drama</td>\n",
       "    </tr>\n",
       "    <tr>\n",
       "      <th>4</th>\n",
       "      <td>The Office</td>\n",
       "      <td>2005</td>\n",
       "      <td>16.0</td>\n",
       "      <td>8.9</td>\n",
       "      <td>tt0386676</td>\n",
       "      <td>tvSeries</td>\n",
       "      <td>The Office</td>\n",
       "      <td>The Office</td>\n",
       "      <td>2005.0</td>\n",
       "      <td>2005.0</td>\n",
       "      <td>22.0</td>\n",
       "      <td>Comedy</td>\n",
       "    </tr>\n",
       "  </tbody>\n",
       "</table>\n",
       "</div>"
      ],
      "text/plain": [
       "               show  year   age  imdb_rating    imdb_id titleType  \\\n",
       "0      Breaking Bad  2008  18.0          9.5  tt0903747  tvSeries   \n",
       "1   Stranger Things  2016  16.0          8.8  tt4574334  tvSeries   \n",
       "2          Sherlock  2010  16.0          9.1  tt1475582  tvSeries   \n",
       "3  Better Call Saul  2015  18.0          8.7  tt3032476  tvSeries   \n",
       "4        The Office  2005  16.0          8.9  tt0386676  tvSeries   \n",
       "\n",
       "       primaryTitle     originalTitle  startYear  endYear  runtimeMinutes  \\\n",
       "0      Breaking Bad      Breaking Bad     2008.0   2008.0            49.0   \n",
       "1   Stranger Things   Stranger Things     2016.0   2016.0            51.0   \n",
       "2          Sherlock          Sherlock     2010.0   2010.0            88.0   \n",
       "3  Better Call Saul  Better Call Saul     2015.0   2015.0            46.0   \n",
       "4        The Office        The Office     2005.0   2005.0            22.0   \n",
       "\n",
       "                 genres  \n",
       "0  Crime,Drama,Thriller  \n",
       "1  Drama,Fantasy,Horror  \n",
       "2   Crime,Drama,Mystery  \n",
       "3           Crime,Drama  \n",
       "4                Comedy  "
      ]
     },
     "execution_count": 3,
     "metadata": {},
     "output_type": "execute_result"
    }
   ],
   "source": [
    "netflix.head()"
   ]
  },
  {
   "cell_type": "code",
   "execution_count": 4,
   "metadata": {},
   "outputs": [
    {
     "data": {
      "text/plain": [
       "85"
      ]
     },
     "execution_count": 4,
     "metadata": {},
     "output_type": "execute_result"
    }
   ],
   "source": [
    "netflix[\"imdb_rating\"].isna().sum()"
   ]
  },
  {
   "cell_type": "markdown",
   "metadata": {},
   "source": [
    "Since the information for imdb_rating column was obtained from web scraping, we will now join the ratings table from IMDB Database in order to get all the correct values for imdb_ratings."
   ]
  },
  {
   "cell_type": "code",
   "execution_count": 5,
   "metadata": {},
   "outputs": [],
   "source": [
    "ratings = pd.read_csv(\"C:/Users/Admin/Documents/ironhack/title.ratings.tsv.gz\", sep=\"\\t\")"
   ]
  },
  {
   "cell_type": "code",
   "execution_count": 6,
   "metadata": {},
   "outputs": [
    {
     "data": {
      "text/html": [
       "<div>\n",
       "<style scoped>\n",
       "    .dataframe tbody tr th:only-of-type {\n",
       "        vertical-align: middle;\n",
       "    }\n",
       "\n",
       "    .dataframe tbody tr th {\n",
       "        vertical-align: top;\n",
       "    }\n",
       "\n",
       "    .dataframe thead th {\n",
       "        text-align: right;\n",
       "    }\n",
       "</style>\n",
       "<table border=\"1\" class=\"dataframe\">\n",
       "  <thead>\n",
       "    <tr style=\"text-align: right;\">\n",
       "      <th></th>\n",
       "      <th>tconst</th>\n",
       "      <th>averageRating</th>\n",
       "      <th>numVotes</th>\n",
       "    </tr>\n",
       "  </thead>\n",
       "  <tbody>\n",
       "    <tr>\n",
       "      <th>0</th>\n",
       "      <td>tt0000001</td>\n",
       "      <td>5.6</td>\n",
       "      <td>1613</td>\n",
       "    </tr>\n",
       "    <tr>\n",
       "      <th>1</th>\n",
       "      <td>tt0000002</td>\n",
       "      <td>6.0</td>\n",
       "      <td>197</td>\n",
       "    </tr>\n",
       "    <tr>\n",
       "      <th>2</th>\n",
       "      <td>tt0000003</td>\n",
       "      <td>6.5</td>\n",
       "      <td>1294</td>\n",
       "    </tr>\n",
       "    <tr>\n",
       "      <th>3</th>\n",
       "      <td>tt0000004</td>\n",
       "      <td>6.1</td>\n",
       "      <td>121</td>\n",
       "    </tr>\n",
       "    <tr>\n",
       "      <th>4</th>\n",
       "      <td>tt0000005</td>\n",
       "      <td>6.1</td>\n",
       "      <td>2066</td>\n",
       "    </tr>\n",
       "  </tbody>\n",
       "</table>\n",
       "</div>"
      ],
      "text/plain": [
       "      tconst  averageRating  numVotes\n",
       "0  tt0000001            5.6      1613\n",
       "1  tt0000002            6.0       197\n",
       "2  tt0000003            6.5      1294\n",
       "3  tt0000004            6.1       121\n",
       "4  tt0000005            6.1      2066"
      ]
     },
     "execution_count": 6,
     "metadata": {},
     "output_type": "execute_result"
    }
   ],
   "source": [
    "ratings.head()"
   ]
  },
  {
   "cell_type": "markdown",
   "metadata": {},
   "source": [
    "Since we will just be analyzing averageRating, we will drop numVotes column."
   ]
  },
  {
   "cell_type": "code",
   "execution_count": 7,
   "metadata": {},
   "outputs": [],
   "source": [
    "ratings = ratings.drop(columns=\"numVotes\")"
   ]
  },
  {
   "cell_type": "markdown",
   "metadata": {},
   "source": [
    "We will join both tables by imdb_id and tconst."
   ]
  },
  {
   "cell_type": "code",
   "execution_count": 8,
   "metadata": {},
   "outputs": [],
   "source": [
    "netflix = netflix.merge(ratings, how=\"left\", left_on=\"imdb_id\", right_on=\"tconst\")"
   ]
  },
  {
   "cell_type": "code",
   "execution_count": 9,
   "metadata": {},
   "outputs": [
    {
     "data": {
      "text/html": [
       "<div>\n",
       "<style scoped>\n",
       "    .dataframe tbody tr th:only-of-type {\n",
       "        vertical-align: middle;\n",
       "    }\n",
       "\n",
       "    .dataframe tbody tr th {\n",
       "        vertical-align: top;\n",
       "    }\n",
       "\n",
       "    .dataframe thead th {\n",
       "        text-align: right;\n",
       "    }\n",
       "</style>\n",
       "<table border=\"1\" class=\"dataframe\">\n",
       "  <thead>\n",
       "    <tr style=\"text-align: right;\">\n",
       "      <th></th>\n",
       "      <th>show</th>\n",
       "      <th>year</th>\n",
       "      <th>age</th>\n",
       "      <th>imdb_rating</th>\n",
       "      <th>imdb_id</th>\n",
       "      <th>titleType</th>\n",
       "      <th>primaryTitle</th>\n",
       "      <th>originalTitle</th>\n",
       "      <th>startYear</th>\n",
       "      <th>endYear</th>\n",
       "      <th>runtimeMinutes</th>\n",
       "      <th>genres</th>\n",
       "      <th>tconst</th>\n",
       "      <th>averageRating</th>\n",
       "    </tr>\n",
       "  </thead>\n",
       "  <tbody>\n",
       "    <tr>\n",
       "      <th>0</th>\n",
       "      <td>Breaking Bad</td>\n",
       "      <td>2008</td>\n",
       "      <td>18.0</td>\n",
       "      <td>9.5</td>\n",
       "      <td>tt0903747</td>\n",
       "      <td>tvSeries</td>\n",
       "      <td>Breaking Bad</td>\n",
       "      <td>Breaking Bad</td>\n",
       "      <td>2008.0</td>\n",
       "      <td>2008.0</td>\n",
       "      <td>49.0</td>\n",
       "      <td>Crime,Drama,Thriller</td>\n",
       "      <td>tt0903747</td>\n",
       "      <td>9.5</td>\n",
       "    </tr>\n",
       "    <tr>\n",
       "      <th>1</th>\n",
       "      <td>Stranger Things</td>\n",
       "      <td>2016</td>\n",
       "      <td>16.0</td>\n",
       "      <td>8.8</td>\n",
       "      <td>tt4574334</td>\n",
       "      <td>tvSeries</td>\n",
       "      <td>Stranger Things</td>\n",
       "      <td>Stranger Things</td>\n",
       "      <td>2016.0</td>\n",
       "      <td>2016.0</td>\n",
       "      <td>51.0</td>\n",
       "      <td>Drama,Fantasy,Horror</td>\n",
       "      <td>tt4574334</td>\n",
       "      <td>8.8</td>\n",
       "    </tr>\n",
       "    <tr>\n",
       "      <th>2</th>\n",
       "      <td>Sherlock</td>\n",
       "      <td>2010</td>\n",
       "      <td>16.0</td>\n",
       "      <td>9.1</td>\n",
       "      <td>tt1475582</td>\n",
       "      <td>tvSeries</td>\n",
       "      <td>Sherlock</td>\n",
       "      <td>Sherlock</td>\n",
       "      <td>2010.0</td>\n",
       "      <td>2010.0</td>\n",
       "      <td>88.0</td>\n",
       "      <td>Crime,Drama,Mystery</td>\n",
       "      <td>tt1475582</td>\n",
       "      <td>9.1</td>\n",
       "    </tr>\n",
       "    <tr>\n",
       "      <th>3</th>\n",
       "      <td>Better Call Saul</td>\n",
       "      <td>2015</td>\n",
       "      <td>18.0</td>\n",
       "      <td>8.7</td>\n",
       "      <td>tt3032476</td>\n",
       "      <td>tvSeries</td>\n",
       "      <td>Better Call Saul</td>\n",
       "      <td>Better Call Saul</td>\n",
       "      <td>2015.0</td>\n",
       "      <td>2015.0</td>\n",
       "      <td>46.0</td>\n",
       "      <td>Crime,Drama</td>\n",
       "      <td>tt3032476</td>\n",
       "      <td>8.7</td>\n",
       "    </tr>\n",
       "    <tr>\n",
       "      <th>4</th>\n",
       "      <td>The Office</td>\n",
       "      <td>2005</td>\n",
       "      <td>16.0</td>\n",
       "      <td>8.9</td>\n",
       "      <td>tt0386676</td>\n",
       "      <td>tvSeries</td>\n",
       "      <td>The Office</td>\n",
       "      <td>The Office</td>\n",
       "      <td>2005.0</td>\n",
       "      <td>2005.0</td>\n",
       "      <td>22.0</td>\n",
       "      <td>Comedy</td>\n",
       "      <td>tt0386676</td>\n",
       "      <td>8.9</td>\n",
       "    </tr>\n",
       "  </tbody>\n",
       "</table>\n",
       "</div>"
      ],
      "text/plain": [
       "               show  year   age  imdb_rating    imdb_id titleType  \\\n",
       "0      Breaking Bad  2008  18.0          9.5  tt0903747  tvSeries   \n",
       "1   Stranger Things  2016  16.0          8.8  tt4574334  tvSeries   \n",
       "2          Sherlock  2010  16.0          9.1  tt1475582  tvSeries   \n",
       "3  Better Call Saul  2015  18.0          8.7  tt3032476  tvSeries   \n",
       "4        The Office  2005  16.0          8.9  tt0386676  tvSeries   \n",
       "\n",
       "       primaryTitle     originalTitle  startYear  endYear  runtimeMinutes  \\\n",
       "0      Breaking Bad      Breaking Bad     2008.0   2008.0            49.0   \n",
       "1   Stranger Things   Stranger Things     2016.0   2016.0            51.0   \n",
       "2          Sherlock          Sherlock     2010.0   2010.0            88.0   \n",
       "3  Better Call Saul  Better Call Saul     2015.0   2015.0            46.0   \n",
       "4        The Office        The Office     2005.0   2005.0            22.0   \n",
       "\n",
       "                 genres     tconst  averageRating  \n",
       "0  Crime,Drama,Thriller  tt0903747            9.5  \n",
       "1  Drama,Fantasy,Horror  tt4574334            8.8  \n",
       "2   Crime,Drama,Mystery  tt1475582            9.1  \n",
       "3           Crime,Drama  tt3032476            8.7  \n",
       "4                Comedy  tt0386676            8.9  "
      ]
     },
     "execution_count": 9,
     "metadata": {},
     "output_type": "execute_result"
    }
   ],
   "source": [
    "netflix.head()"
   ]
  },
  {
   "cell_type": "code",
   "execution_count": 10,
   "metadata": {},
   "outputs": [
    {
     "data": {
      "text/plain": [
       "58"
      ]
     },
     "execution_count": 10,
     "metadata": {},
     "output_type": "execute_result"
    }
   ],
   "source": [
    "netflix[\"averageRating\"].isna().sum()"
   ]
  },
  {
   "cell_type": "code",
   "execution_count": 11,
   "metadata": {},
   "outputs": [
    {
     "data": {
      "text/plain": [
       "0.968236582694414"
      ]
     },
     "execution_count": 11,
     "metadata": {},
     "output_type": "execute_result"
    }
   ],
   "source": [
    "1 - (netflix[\"averageRating\"].isna().sum() / len(netflix))"
   ]
  },
  {
   "cell_type": "markdown",
   "metadata": {},
   "source": [
    "Now we have less null values for imdb ratings, now we will reate a data frame which will have only the show names and ratings."
   ]
  },
  {
   "cell_type": "code",
   "execution_count": 12,
   "metadata": {},
   "outputs": [],
   "source": [
    "netflix_ratings = netflix[[\"show\", \"averageRating\"]]"
   ]
  },
  {
   "cell_type": "markdown",
   "metadata": {},
   "source": [
    "#### ii. Descriptive Statistics"
   ]
  },
  {
   "cell_type": "code",
   "execution_count": 13,
   "metadata": {},
   "outputs": [
    {
     "data": {
      "text/plain": [
       "count    1768.000000\n",
       "mean        7.163575\n",
       "std         1.076180\n",
       "min         1.800000\n",
       "25%         6.600000\n",
       "50%         7.400000\n",
       "75%         7.900000\n",
       "max         9.500000\n",
       "Name: averageRating, dtype: float64"
      ]
     },
     "execution_count": 13,
     "metadata": {},
     "output_type": "execute_result"
    }
   ],
   "source": [
    "netflix_ratings[\"averageRating\"].describe()"
   ]
  },
  {
   "cell_type": "markdown",
   "metadata": {},
   "source": [
    "From the descriptive statistics we can see the following:\n",
    "\n",
    "- The tv shows provided by netflix have 7.16 as an average rating.\n",
    "- 50% of the tv shows have 7.4 or higher average rating.\n",
    "- 25% of the tv shows have 6.6 or lower as average rating."
   ]
  },
  {
   "cell_type": "markdown",
   "metadata": {},
   "source": [
    "#### iii. Plotting"
   ]
  },
  {
   "cell_type": "code",
   "execution_count": 14,
   "metadata": {},
   "outputs": [
    {
     "data": {
      "image/png": "[encoded data removed]",
      "text/plain": [
       "<Figure size 720x432 with 1 Axes>"
      ]
     },
     "metadata": {
      "needs_background": "light"
     },
     "output_type": "display_data"
    }
   ],
   "source": [
    "fig, ax = plt.subplots(figsize=(10,6))\n",
    "\n",
    "sns.boxplot(netflix_ratings[\"averageRating\"])\n",
    "ax.set_title(\"Netflix IMDB Ratings Boxplot\")\n",
    "ax.set_xlabel(\"Average Rating\");"
   ]
  },
  {
   "cell_type": "markdown",
   "metadata": {},
   "source": [
    "From the box plot we can clearly see how most of the tv shows have between 6.5 and 8 as an average rating. There are some outliers that have less than around 4.7 average rating up unitl 1.07, the minimum value."
   ]
  },
  {
   "cell_type": "code",
   "execution_count": 16,
   "metadata": {},
   "outputs": [
    {
     "data": {
      "image/png": "[encoded data removed]",
      "text/plain": [
       "<Figure size 720x432 with 1 Axes>"
      ]
     },
     "metadata": {
      "needs_background": "light"
     },
     "output_type": "display_data"
    }
   ],
   "source": [
    "fig, ax = plt.subplots(figsize=(10,6))\n",
    "\n",
    "plt.hist(netflix_ratings[\"averageRating\"], ec=\"black\", lw=0.5)\n",
    "ax.set_title(\"Netflix IMDB Average Ratings Histogram\")\n",
    "ax.set_xlabel(\"Average Rating\")\n",
    "ax.set_ylabel(\"Frequency\");"
   ]
  },
  {
   "cell_type": "markdown",
   "metadata": {},
   "source": [
    "The histogram above is left skewed, most of the tv shows provided by Netflix, as stated previously, have average ratings between 7 and 8, and very few have a rating lower than 5.\n",
    "\n",
    "-----\n",
    "\n",
    "### 2. Amazon\n",
    "#### i. Import data"
   ]
  },
  {
   "cell_type": "code",
   "execution_count": 17,
   "metadata": {},
   "outputs": [],
   "source": [
    "amazon = pd.read_pickle(path + \"Data/amazon_final_clean.pkl\")"
   ]
  },
  {
   "cell_type": "code",
   "execution_count": 18,
   "metadata": {},
   "outputs": [
    {
     "data": {
      "text/html": [
       "<div>\n",
       "<style scoped>\n",
       "    .dataframe tbody tr th:only-of-type {\n",
       "        vertical-align: middle;\n",
       "    }\n",
       "\n",
       "    .dataframe tbody tr th {\n",
       "        vertical-align: top;\n",
       "    }\n",
       "\n",
       "    .dataframe thead th {\n",
       "        text-align: right;\n",
       "    }\n",
       "</style>\n",
       "<table border=\"1\" class=\"dataframe\">\n",
       "  <thead>\n",
       "    <tr style=\"text-align: right;\">\n",
       "      <th></th>\n",
       "      <th>show</th>\n",
       "      <th>year</th>\n",
       "      <th>age</th>\n",
       "      <th>imdb_rating</th>\n",
       "      <th>imdb_id</th>\n",
       "      <th>titleType</th>\n",
       "      <th>primaryTitle</th>\n",
       "      <th>originalTitle</th>\n",
       "      <th>startYear</th>\n",
       "      <th>endYear</th>\n",
       "      <th>runtimeMinutes</th>\n",
       "      <th>genres</th>\n",
       "    </tr>\n",
       "  </thead>\n",
       "  <tbody>\n",
       "    <tr>\n",
       "      <th>0</th>\n",
       "      <td>The Wire</td>\n",
       "      <td>2002</td>\n",
       "      <td>18.0</td>\n",
       "      <td>9.3</td>\n",
       "      <td>tt0306414</td>\n",
       "      <td>tvSeries</td>\n",
       "      <td>The Wire</td>\n",
       "      <td>The Wire</td>\n",
       "      <td>2002.0</td>\n",
       "      <td>2002.0</td>\n",
       "      <td>59.0</td>\n",
       "      <td>Crime,Drama,Thriller</td>\n",
       "    </tr>\n",
       "    <tr>\n",
       "      <th>1</th>\n",
       "      <td>The Sopranos</td>\n",
       "      <td>1999</td>\n",
       "      <td>18.0</td>\n",
       "      <td>9.2</td>\n",
       "      <td>tt0141842</td>\n",
       "      <td>tvSeries</td>\n",
       "      <td>The Sopranos</td>\n",
       "      <td>The Sopranos</td>\n",
       "      <td>1999.0</td>\n",
       "      <td>1999.0</td>\n",
       "      <td>55.0</td>\n",
       "      <td>Crime,Drama</td>\n",
       "    </tr>\n",
       "    <tr>\n",
       "      <th>2</th>\n",
       "      <td>Band of Brothers</td>\n",
       "      <td>2001</td>\n",
       "      <td>18.0</td>\n",
       "      <td>9.4</td>\n",
       "      <td>tt0185906</td>\n",
       "      <td>tvMiniSeries</td>\n",
       "      <td>Band of Brothers</td>\n",
       "      <td>Band of Brothers</td>\n",
       "      <td>2001.0</td>\n",
       "      <td>2001.0</td>\n",
       "      <td>594.0</td>\n",
       "      <td>Action,Drama,History</td>\n",
       "    </tr>\n",
       "    <tr>\n",
       "      <th>3</th>\n",
       "      <td>Vikings</td>\n",
       "      <td>2013</td>\n",
       "      <td>18.0</td>\n",
       "      <td>8.6</td>\n",
       "      <td>tt2306299</td>\n",
       "      <td>tvSeries</td>\n",
       "      <td>Vikings</td>\n",
       "      <td>Vikings</td>\n",
       "      <td>2013.0</td>\n",
       "      <td>2013.0</td>\n",
       "      <td>44.0</td>\n",
       "      <td>Action,Adventure,Drama</td>\n",
       "    </tr>\n",
       "    <tr>\n",
       "      <th>4</th>\n",
       "      <td>Mr. Robot</td>\n",
       "      <td>2015</td>\n",
       "      <td>18.0</td>\n",
       "      <td>8.5</td>\n",
       "      <td>tt4158110</td>\n",
       "      <td>tvSeries</td>\n",
       "      <td>Mr. Robot</td>\n",
       "      <td>Mr. Robot</td>\n",
       "      <td>2015.0</td>\n",
       "      <td>2015.0</td>\n",
       "      <td>49.0</td>\n",
       "      <td>Crime,Drama,Thriller</td>\n",
       "    </tr>\n",
       "  </tbody>\n",
       "</table>\n",
       "</div>"
      ],
      "text/plain": [
       "               show  year   age  imdb_rating    imdb_id     titleType  \\\n",
       "0          The Wire  2002  18.0          9.3  tt0306414      tvSeries   \n",
       "1      The Sopranos  1999  18.0          9.2  tt0141842      tvSeries   \n",
       "2  Band of Brothers  2001  18.0          9.4  tt0185906  tvMiniSeries   \n",
       "3           Vikings  2013  18.0          8.6  tt2306299      tvSeries   \n",
       "4         Mr. Robot  2015  18.0          8.5  tt4158110      tvSeries   \n",
       "\n",
       "       primaryTitle     originalTitle  startYear  endYear  runtimeMinutes  \\\n",
       "0          The Wire          The Wire     2002.0   2002.0            59.0   \n",
       "1      The Sopranos      The Sopranos     1999.0   1999.0            55.0   \n",
       "2  Band of Brothers  Band of Brothers     2001.0   2001.0           594.0   \n",
       "3           Vikings           Vikings     2013.0   2013.0            44.0   \n",
       "4         Mr. Robot         Mr. Robot     2015.0   2015.0            49.0   \n",
       "\n",
       "                   genres  \n",
       "0    Crime,Drama,Thriller  \n",
       "1             Crime,Drama  \n",
       "2    Action,Drama,History  \n",
       "3  Action,Adventure,Drama  \n",
       "4    Crime,Drama,Thriller  "
      ]
     },
     "execution_count": 18,
     "metadata": {},
     "output_type": "execute_result"
    }
   ],
   "source": [
    "amazon.head()"
   ]
  },
  {
   "cell_type": "code",
   "execution_count": 19,
   "metadata": {},
   "outputs": [
    {
     "data": {
      "text/plain": [
       "396"
      ]
     },
     "execution_count": 19,
     "metadata": {},
     "output_type": "execute_result"
    }
   ],
   "source": [
    "amazon[\"imdb_rating\"].isna().sum()"
   ]
  },
  {
   "cell_type": "markdown",
   "metadata": {},
   "source": [
    "Same as Netflix, we will merge the averageRating column from the ratings IMDB table in order to get the most complete data set."
   ]
  },
  {
   "cell_type": "code",
   "execution_count": 20,
   "metadata": {},
   "outputs": [],
   "source": [
    "amazon = amazon.merge(ratings, how=\"left\", left_on=\"imdb_id\", right_on=\"tconst\")"
   ]
  },
  {
   "cell_type": "code",
   "execution_count": 21,
   "metadata": {},
   "outputs": [
    {
     "data": {
      "text/plain": [
       "203"
      ]
     },
     "execution_count": 21,
     "metadata": {},
     "output_type": "execute_result"
    }
   ],
   "source": [
    "amazon[\"averageRating\"].isna().sum()"
   ]
  },
  {
   "cell_type": "code",
   "execution_count": 22,
   "metadata": {},
   "outputs": [
    {
     "data": {
      "text/plain": [
       "0.8736776602364654"
      ]
     },
     "execution_count": 22,
     "metadata": {},
     "output_type": "execute_result"
    }
   ],
   "source": [
    "1 - (amazon[\"averageRating\"].isna().sum() / len(amazon))"
   ]
  },
  {
   "cell_type": "code",
   "execution_count": 23,
   "metadata": {},
   "outputs": [],
   "source": [
    "amazon_ratings = amazon[[\"show\", \"averageRating\"]]"
   ]
  },
  {
   "cell_type": "markdown",
   "metadata": {},
   "source": [
    "#### ii. Descriptive Statistics"
   ]
  },
  {
   "cell_type": "code",
   "execution_count": 24,
   "metadata": {},
   "outputs": [
    {
     "data": {
      "text/plain": [
       "count    1404.000000\n",
       "mean        7.157764\n",
       "std         1.150483\n",
       "min         1.800000\n",
       "25%         6.600000\n",
       "50%         7.350000\n",
       "75%         8.000000\n",
       "max         9.500000\n",
       "Name: averageRating, dtype: float64"
      ]
     },
     "execution_count": 24,
     "metadata": {},
     "output_type": "execute_result"
    }
   ],
   "source": [
    "amazon_ratings[\"averageRating\"].describe()"
   ]
  },
  {
   "cell_type": "markdown",
   "metadata": {},
   "source": [
    "From the descriptive statistics we can see the following:\n",
    "\n",
    "- The tv shows provided by amazon have 7.15 as an average rating.\n",
    "- 50% of the tv shows have 7.35 or higher average rating.\n",
    "- 25% of the tv shows have 6.6 or lower as average rating."
   ]
  },
  {
   "cell_type": "code",
   "execution_count": 25,
   "metadata": {},
   "outputs": [
    {
     "data": {
      "image/png": "[encoded data removed]",
      "text/plain": [
       "<Figure size 720x432 with 1 Axes>"
      ]
     },
     "metadata": {
      "needs_background": "light"
     },
     "output_type": "display_data"
    }
   ],
   "source": [
    "fig, ax = plt.subplots(figsize=(10,6))\n",
    "\n",
    "sns.boxplot(amazon_ratings[\"averageRating\"])\n",
    "ax.set_title(\"Amazon IMDB Ratings Boxplot\")\n",
    "ax.set_xlabel(\"Average Rating\");"
   ]
  },
  {
   "cell_type": "markdown",
   "metadata": {},
   "source": [
    "From the box plot we can clearly see how most of the tv shows have between 6.5 and 8 as an average rating. There are some outliers that have less than around 4.5 average rating up until 1.8, the minimum value. Very similar to Netflix data."
   ]
  },
  {
   "cell_type": "code",
   "execution_count": 27,
   "metadata": {},
   "outputs": [
    {
     "data": {
      "image/png": "[encoded data removed]",
      "text/plain": [
       "<Figure size 720x432 with 1 Axes>"
      ]
     },
     "metadata": {
      "needs_background": "light"
     },
     "output_type": "display_data"
    }
   ],
   "source": [
    "fig, ax = plt.subplots(figsize=(10,6))\n",
    "\n",
    "plt.hist(amazon_ratings[\"averageRating\"], ec=\"black\", lw=0.5)\n",
    "ax.set_title(\"Amazon IMDB Average Ratings Histogram\")\n",
    "ax.set_xlabel(\"Average Rating\")\n",
    "ax.set_ylabel(\"Frequency\");"
   ]
  },
  {
   "cell_type": "markdown",
   "metadata": {},
   "source": [
    "Same as for Netflix, the histogram above is left skewed, most of the tv shows provided by Amazon have average ratings between 7 and 8, and very few have a rating lower than 5.\n",
    "\n",
    "-----\n",
    "\n",
    "### 3. HBO\n",
    "#### i. Import data"
   ]
  },
  {
   "cell_type": "code",
   "execution_count": 28,
   "metadata": {},
   "outputs": [],
   "source": [
    "hbo = pd.read_pickle(path + \"Data/hbo_final_clean.pkl\")"
   ]
  },
  {
   "cell_type": "code",
   "execution_count": 29,
   "metadata": {},
   "outputs": [
    {
     "data": {
      "text/html": [
       "<div>\n",
       "<style scoped>\n",
       "    .dataframe tbody tr th:only-of-type {\n",
       "        vertical-align: middle;\n",
       "    }\n",
       "\n",
       "    .dataframe tbody tr th {\n",
       "        vertical-align: top;\n",
       "    }\n",
       "\n",
       "    .dataframe thead th {\n",
       "        text-align: right;\n",
       "    }\n",
       "</style>\n",
       "<table border=\"1\" class=\"dataframe\">\n",
       "  <thead>\n",
       "    <tr style=\"text-align: right;\">\n",
       "      <th></th>\n",
       "      <th>show</th>\n",
       "      <th>year</th>\n",
       "      <th>age</th>\n",
       "      <th>imdb_rating</th>\n",
       "      <th>imdb_id</th>\n",
       "      <th>tconst</th>\n",
       "      <th>titleType</th>\n",
       "      <th>primaryTitle</th>\n",
       "      <th>originalTitle</th>\n",
       "      <th>startYear</th>\n",
       "      <th>endYear</th>\n",
       "      <th>runtimeMinutes</th>\n",
       "      <th>genres</th>\n",
       "    </tr>\n",
       "  </thead>\n",
       "  <tbody>\n",
       "    <tr>\n",
       "      <th>0</th>\n",
       "      <td>Game of Thrones</td>\n",
       "      <td>2011</td>\n",
       "      <td>18.0</td>\n",
       "      <td>9.3</td>\n",
       "      <td>tt0944947</td>\n",
       "      <td>tt0944947</td>\n",
       "      <td>tvSeries</td>\n",
       "      <td>Game of Thrones</td>\n",
       "      <td>Game of Thrones</td>\n",
       "      <td>2011.0</td>\n",
       "      <td>2011.0</td>\n",
       "      <td>57.0</td>\n",
       "      <td>Action,Adventure,Drama</td>\n",
       "    </tr>\n",
       "    <tr>\n",
       "      <th>1</th>\n",
       "      <td>The Wire</td>\n",
       "      <td>2002</td>\n",
       "      <td>18.0</td>\n",
       "      <td>9.3</td>\n",
       "      <td>tt0306414</td>\n",
       "      <td>tt0306414</td>\n",
       "      <td>tvSeries</td>\n",
       "      <td>The Wire</td>\n",
       "      <td>The Wire</td>\n",
       "      <td>2002.0</td>\n",
       "      <td>2002.0</td>\n",
       "      <td>59.0</td>\n",
       "      <td>Crime,Drama,Thriller</td>\n",
       "    </tr>\n",
       "    <tr>\n",
       "      <th>2</th>\n",
       "      <td>Chernobyl</td>\n",
       "      <td>2019</td>\n",
       "      <td>18.0</td>\n",
       "      <td>9.4</td>\n",
       "      <td>tt7366338</td>\n",
       "      <td>tt7366338</td>\n",
       "      <td>tvMiniSeries</td>\n",
       "      <td>Chernobyl</td>\n",
       "      <td>Chernobyl</td>\n",
       "      <td>2019.0</td>\n",
       "      <td>2019.0</td>\n",
       "      <td>330.0</td>\n",
       "      <td>Drama,History,Thriller</td>\n",
       "    </tr>\n",
       "    <tr>\n",
       "      <th>3</th>\n",
       "      <td>The Sopranos</td>\n",
       "      <td>1999</td>\n",
       "      <td>18.0</td>\n",
       "      <td>9.2</td>\n",
       "      <td>tt0141842</td>\n",
       "      <td>tt0141842</td>\n",
       "      <td>tvSeries</td>\n",
       "      <td>The Sopranos</td>\n",
       "      <td>The Sopranos</td>\n",
       "      <td>1999.0</td>\n",
       "      <td>1999.0</td>\n",
       "      <td>55.0</td>\n",
       "      <td>Crime,Drama</td>\n",
       "    </tr>\n",
       "    <tr>\n",
       "      <th>4</th>\n",
       "      <td>Band of Brothers</td>\n",
       "      <td>2001</td>\n",
       "      <td>18.0</td>\n",
       "      <td>9.4</td>\n",
       "      <td>tt0185906</td>\n",
       "      <td>tt0185906</td>\n",
       "      <td>tvMiniSeries</td>\n",
       "      <td>Band of Brothers</td>\n",
       "      <td>Band of Brothers</td>\n",
       "      <td>2001.0</td>\n",
       "      <td>2001.0</td>\n",
       "      <td>594.0</td>\n",
       "      <td>Action,Drama,History</td>\n",
       "    </tr>\n",
       "  </tbody>\n",
       "</table>\n",
       "</div>"
      ],
      "text/plain": [
       "               show  year   age  imdb_rating    imdb_id     tconst  \\\n",
       "0   Game of Thrones  2011  18.0          9.3  tt0944947  tt0944947   \n",
       "1          The Wire  2002  18.0          9.3  tt0306414  tt0306414   \n",
       "2         Chernobyl  2019  18.0          9.4  tt7366338  tt7366338   \n",
       "3      The Sopranos  1999  18.0          9.2  tt0141842  tt0141842   \n",
       "4  Band of Brothers  2001  18.0          9.4  tt0185906  tt0185906   \n",
       "\n",
       "      titleType      primaryTitle     originalTitle  startYear  endYear  \\\n",
       "0      tvSeries   Game of Thrones   Game of Thrones     2011.0   2011.0   \n",
       "1      tvSeries          The Wire          The Wire     2002.0   2002.0   \n",
       "2  tvMiniSeries         Chernobyl         Chernobyl     2019.0   2019.0   \n",
       "3      tvSeries      The Sopranos      The Sopranos     1999.0   1999.0   \n",
       "4  tvMiniSeries  Band of Brothers  Band of Brothers     2001.0   2001.0   \n",
       "\n",
       "   runtimeMinutes                  genres  \n",
       "0            57.0  Action,Adventure,Drama  \n",
       "1            59.0    Crime,Drama,Thriller  \n",
       "2           330.0  Drama,History,Thriller  \n",
       "3            55.0             Crime,Drama  \n",
       "4           594.0    Action,Drama,History  "
      ]
     },
     "execution_count": 29,
     "metadata": {},
     "output_type": "execute_result"
    }
   ],
   "source": [
    "hbo.head()"
   ]
  },
  {
   "cell_type": "code",
   "execution_count": 30,
   "metadata": {},
   "outputs": [
    {
     "data": {
      "text/plain": [
       "5"
      ]
     },
     "execution_count": 30,
     "metadata": {},
     "output_type": "execute_result"
    }
   ],
   "source": [
    "hbo[\"imdb_rating\"].isna().sum()"
   ]
  },
  {
   "cell_type": "code",
   "execution_count": 31,
   "metadata": {},
   "outputs": [],
   "source": [
    "hbo = hbo.merge(ratings, how=\"left\", left_on=\"imdb_id\", right_on=\"tconst\")"
   ]
  },
  {
   "cell_type": "code",
   "execution_count": 32,
   "metadata": {},
   "outputs": [
    {
     "data": {
      "text/plain": [
       "2"
      ]
     },
     "execution_count": 32,
     "metadata": {},
     "output_type": "execute_result"
    }
   ],
   "source": [
    "hbo[\"averageRating\"].isna().sum()"
   ]
  },
  {
   "cell_type": "code",
   "execution_count": 33,
   "metadata": {},
   "outputs": [
    {
     "data": {
      "text/plain": [
       "0.989247311827957"
      ]
     },
     "execution_count": 33,
     "metadata": {},
     "output_type": "execute_result"
    }
   ],
   "source": [
    "1 - (hbo[\"averageRating\"].isna().sum() / len(hbo))"
   ]
  },
  {
   "cell_type": "code",
   "execution_count": 34,
   "metadata": {},
   "outputs": [],
   "source": [
    "hbo_ratings = hbo[[\"show\", \"averageRating\"]]"
   ]
  },
  {
   "cell_type": "markdown",
   "metadata": {},
   "source": [
    "#### ii. Descriptive Statistics"
   ]
  },
  {
   "cell_type": "code",
   "execution_count": 35,
   "metadata": {},
   "outputs": [
    {
     "data": {
      "text/plain": [
       "count    184.000000\n",
       "mean       7.538587\n",
       "std        0.970482\n",
       "min        3.800000\n",
       "25%        7.100000\n",
       "50%        7.600000\n",
       "75%        8.300000\n",
       "max        9.400000\n",
       "Name: averageRating, dtype: float64"
      ]
     },
     "execution_count": 35,
     "metadata": {},
     "output_type": "execute_result"
    }
   ],
   "source": [
    "hbo_ratings[\"averageRating\"].describe()"
   ]
  },
  {
   "cell_type": "markdown",
   "metadata": {},
   "source": [
    "From the descriptive statistics we can see the following:\n",
    "\n",
    "- The tv shows provided by hbo have 7.54 as an average rating.\n",
    "- 50% of the tv shows have 7.6 or higher average rating.\n",
    "- 25% of the tv shows have 7.1 or lower as average rating."
   ]
  },
  {
   "cell_type": "code",
   "execution_count": 36,
   "metadata": {},
   "outputs": [
    {
     "data": {
      "image/png": "[encoded data removed]",
      "text/plain": [
       "<Figure size 720x432 with 1 Axes>"
      ]
     },
     "metadata": {
      "needs_background": "light"
     },
     "output_type": "display_data"
    }
   ],
   "source": [
    "fig, ax = plt.subplots(figsize=(10,6))\n",
    "\n",
    "sns.boxplot(hbo_ratings[\"averageRating\"])\n",
    "ax.set_title(\"HBO IMDB Ratings Boxplot\")\n",
    "ax.set_xlabel(\"Average Rating\");"
   ]
  },
  {
   "cell_type": "markdown",
   "metadata": {},
   "source": [
    "From the box plot we can clearly see how most of the tv shows have between 7 and 8.3 as an average rating, higher than Netflix and Amazon. There are some outliers that have less than around 5.2 average rating, up until 3.8, which is the minimum value."
   ]
  },
  {
   "cell_type": "code",
   "execution_count": 38,
   "metadata": {},
   "outputs": [
    {
     "data": {
      "image/png": "[encoded data removed]",
      "text/plain": [
       "<Figure size 720x432 with 1 Axes>"
      ]
     },
     "metadata": {
      "needs_background": "light"
     },
     "output_type": "display_data"
    }
   ],
   "source": [
    "fig, ax = plt.subplots(figsize=(10,6))\n",
    "\n",
    "plt.hist(hbo_ratings[\"averageRating\"], ec=\"black\", lw=0.5)\n",
    "ax.set_title(\"HBO IMDB Average Ratings Histogram\")\n",
    "ax.set_xlabel(\"Average Rating\")\n",
    "ax.set_ylabel(\"Frequency\");"
   ]
  },
  {
   "cell_type": "markdown",
   "metadata": {},
   "source": [
    "The histogram above is also left skewed, but has more values ranging from 7 up until 9. Higher than for Netflix and Amazon."
   ]
  },
  {
   "cell_type": "markdown",
   "metadata": {},
   "source": [
    "### 4. Comparison\n",
    "\n",
    "- Netflix and Amazon seem to have very similar ratings, both having 1.8 as a minimum and 9.5 as a maximum average rating. Half of their tv shows have 7.35 or higher average rating. Most of their ratings range from 7 and 8.\n",
    "- HBO has higher average ratings than Netflix and Amazon. It has 3.8 as a minimum and 9.4 as a maximum. Most of its ratings range between 7 and 9 average rating.\n",
    "- It seems that HBO has higher average ratings in general than Netflix and Amazon."
   ]
  },
  {
   "cell_type": "code",
   "execution_count": null,
   "metadata": {},
   "outputs": [],
   "source": []
  }
 ],
 "metadata": {
  "kernelspec": {
   "display_name": "Python 3",
   "language": "python",
   "name": "python3"
  },
  "language_info": {
   "codemirror_mode": {
    "name": "ipython",
    "version": 3
   },
   "file_extension": ".py",
   "mimetype": "text/x-python",
   "name": "python",
   "nbconvert_exporter": "python",
   "pygments_lexer": "ipython3",
   "version": "3.7.6"
  }
 },
 "nbformat": 4,
 "nbformat_minor": 4
}
