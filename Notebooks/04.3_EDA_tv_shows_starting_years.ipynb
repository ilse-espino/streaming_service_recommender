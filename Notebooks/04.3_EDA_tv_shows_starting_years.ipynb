{
 "cells": [
  {
   "cell_type": "code",
   "execution_count": 1,
   "metadata": {},
   "outputs": [],
   "source": [
    "import pandas as pd\n",
    "import numpy as np\n",
    "import matplotlib.pyplot as plt\n",
    "import seaborn as sns\n",
    "%matplotlib inline\n",
    "\n",
    "pd.set_option(\"display.max_columns\", None)\n",
    "\n",
    "path = \"C:/Users/Admin/Documents/ironhack/streaming_service_recommender/\""
   ]
  },
  {
   "cell_type": "markdown",
   "metadata": {},
   "source": [
    "## EDA TV Shows Starting Years\n",
    "\n",
    "#### Goals\n",
    "\n",
    "- Get descriptive statistics for the starting years of tv shows for each streaming service.\n",
    "\n",
    "- Plot data.\n",
    "\n",
    "- Compare findings.\n",
    "\n",
    "-----\n",
    "\n",
    "### 1. Netflix\n",
    "#### i. Import data"
   ]
  },
  {
   "cell_type": "code",
   "execution_count": 2,
   "metadata": {},
   "outputs": [],
   "source": [
    "netflix = pd.read_pickle(path + \"Data/netflix_final_clean.pkl\")"
   ]
  },
  {
   "cell_type": "code",
   "execution_count": 3,
   "metadata": {},
   "outputs": [
    {
     "data": {
      "text/html": [
       "<div>\n",
       "<style scoped>\n",
       "    .dataframe tbody tr th:only-of-type {\n",
       "        vertical-align: middle;\n",
       "    }\n",
       "\n",
       "    .dataframe tbody tr th {\n",
       "        vertical-align: top;\n",
       "    }\n",
       "\n",
       "    .dataframe thead th {\n",
       "        text-align: right;\n",
       "    }\n",
       "</style>\n",
       "<table border=\"1\" class=\"dataframe\">\n",
       "  <thead>\n",
       "    <tr style=\"text-align: right;\">\n",
       "      <th></th>\n",
       "      <th>show</th>\n",
       "      <th>year</th>\n",
       "      <th>age</th>\n",
       "      <th>imdb_rating</th>\n",
       "      <th>imdb_id</th>\n",
       "      <th>titleType</th>\n",
       "      <th>primaryTitle</th>\n",
       "      <th>originalTitle</th>\n",
       "      <th>startYear</th>\n",
       "      <th>endYear</th>\n",
       "      <th>runtimeMinutes</th>\n",
       "      <th>genres</th>\n",
       "    </tr>\n",
       "  </thead>\n",
       "  <tbody>\n",
       "    <tr>\n",
       "      <th>0</th>\n",
       "      <td>Breaking Bad</td>\n",
       "      <td>2008</td>\n",
       "      <td>18.0</td>\n",
       "      <td>9.5</td>\n",
       "      <td>tt0903747</td>\n",
       "      <td>tvSeries</td>\n",
       "      <td>Breaking Bad</td>\n",
       "      <td>Breaking Bad</td>\n",
       "      <td>2008.0</td>\n",
       "      <td>2008.0</td>\n",
       "      <td>49.0</td>\n",
       "      <td>Crime,Drama,Thriller</td>\n",
       "    </tr>\n",
       "    <tr>\n",
       "      <th>1</th>\n",
       "      <td>Stranger Things</td>\n",
       "      <td>2016</td>\n",
       "      <td>16.0</td>\n",
       "      <td>8.8</td>\n",
       "      <td>tt4574334</td>\n",
       "      <td>tvSeries</td>\n",
       "      <td>Stranger Things</td>\n",
       "      <td>Stranger Things</td>\n",
       "      <td>2016.0</td>\n",
       "      <td>2016.0</td>\n",
       "      <td>51.0</td>\n",
       "      <td>Drama,Fantasy,Horror</td>\n",
       "    </tr>\n",
       "    <tr>\n",
       "      <th>2</th>\n",
       "      <td>Sherlock</td>\n",
       "      <td>2010</td>\n",
       "      <td>16.0</td>\n",
       "      <td>9.1</td>\n",
       "      <td>tt1475582</td>\n",
       "      <td>tvSeries</td>\n",
       "      <td>Sherlock</td>\n",
       "      <td>Sherlock</td>\n",
       "      <td>2010.0</td>\n",
       "      <td>2010.0</td>\n",
       "      <td>88.0</td>\n",
       "      <td>Crime,Drama,Mystery</td>\n",
       "    </tr>\n",
       "    <tr>\n",
       "      <th>3</th>\n",
       "      <td>Better Call Saul</td>\n",
       "      <td>2015</td>\n",
       "      <td>18.0</td>\n",
       "      <td>8.7</td>\n",
       "      <td>tt3032476</td>\n",
       "      <td>tvSeries</td>\n",
       "      <td>Better Call Saul</td>\n",
       "      <td>Better Call Saul</td>\n",
       "      <td>2015.0</td>\n",
       "      <td>2015.0</td>\n",
       "      <td>46.0</td>\n",
       "      <td>Crime,Drama</td>\n",
       "    </tr>\n",
       "    <tr>\n",
       "      <th>4</th>\n",
       "      <td>The Office</td>\n",
       "      <td>2005</td>\n",
       "      <td>16.0</td>\n",
       "      <td>8.9</td>\n",
       "      <td>tt0386676</td>\n",
       "      <td>tvSeries</td>\n",
       "      <td>The Office</td>\n",
       "      <td>The Office</td>\n",
       "      <td>2005.0</td>\n",
       "      <td>2005.0</td>\n",
       "      <td>22.0</td>\n",
       "      <td>Comedy</td>\n",
       "    </tr>\n",
       "  </tbody>\n",
       "</table>\n",
       "</div>"
      ],
      "text/plain": [
       "               show  year   age  imdb_rating    imdb_id titleType  \\\n",
       "0      Breaking Bad  2008  18.0          9.5  tt0903747  tvSeries   \n",
       "1   Stranger Things  2016  16.0          8.8  tt4574334  tvSeries   \n",
       "2          Sherlock  2010  16.0          9.1  tt1475582  tvSeries   \n",
       "3  Better Call Saul  2015  18.0          8.7  tt3032476  tvSeries   \n",
       "4        The Office  2005  16.0          8.9  tt0386676  tvSeries   \n",
       "\n",
       "       primaryTitle     originalTitle  startYear  endYear  runtimeMinutes  \\\n",
       "0      Breaking Bad      Breaking Bad     2008.0   2008.0            49.0   \n",
       "1   Stranger Things   Stranger Things     2016.0   2016.0            51.0   \n",
       "2          Sherlock          Sherlock     2010.0   2010.0            88.0   \n",
       "3  Better Call Saul  Better Call Saul     2015.0   2015.0            46.0   \n",
       "4        The Office        The Office     2005.0   2005.0            22.0   \n",
       "\n",
       "                 genres  \n",
       "0  Crime,Drama,Thriller  \n",
       "1  Drama,Fantasy,Horror  \n",
       "2   Crime,Drama,Mystery  \n",
       "3           Crime,Drama  \n",
       "4                Comedy  "
      ]
     },
     "execution_count": 3,
     "metadata": {},
     "output_type": "execute_result"
    }
   ],
   "source": [
    "netflix.head()"
   ]
  },
  {
   "cell_type": "code",
   "execution_count": 4,
   "metadata": {},
   "outputs": [
    {
     "data": {
      "text/plain": [
       "0"
      ]
     },
     "execution_count": 4,
     "metadata": {},
     "output_type": "execute_result"
    }
   ],
   "source": [
    "netflix[\"startYear\"].isna().sum()"
   ]
  },
  {
   "cell_type": "markdown",
   "metadata": {},
   "source": [
    "We will create an individual data frame to use for this notebook."
   ]
  },
  {
   "cell_type": "code",
   "execution_count": 5,
   "metadata": {},
   "outputs": [],
   "source": [
    "netflix_years = netflix[[\"show\", \"startYear\"]]\n",
    "\n",
    "netflix_years = netflix_years[~netflix_years[\"startYear\"].isna()]"
   ]
  },
  {
   "cell_type": "code",
   "execution_count": 6,
   "metadata": {},
   "outputs": [
    {
     "data": {
      "text/html": [
       "<div>\n",
       "<style scoped>\n",
       "    .dataframe tbody tr th:only-of-type {\n",
       "        vertical-align: middle;\n",
       "    }\n",
       "\n",
       "    .dataframe tbody tr th {\n",
       "        vertical-align: top;\n",
       "    }\n",
       "\n",
       "    .dataframe thead th {\n",
       "        text-align: right;\n",
       "    }\n",
       "</style>\n",
       "<table border=\"1\" class=\"dataframe\">\n",
       "  <thead>\n",
       "    <tr style=\"text-align: right;\">\n",
       "      <th></th>\n",
       "      <th>show</th>\n",
       "      <th>startYear</th>\n",
       "    </tr>\n",
       "  </thead>\n",
       "  <tbody>\n",
       "    <tr>\n",
       "      <th>0</th>\n",
       "      <td>Breaking Bad</td>\n",
       "      <td>2008.0</td>\n",
       "    </tr>\n",
       "    <tr>\n",
       "      <th>1</th>\n",
       "      <td>Stranger Things</td>\n",
       "      <td>2016.0</td>\n",
       "    </tr>\n",
       "    <tr>\n",
       "      <th>2</th>\n",
       "      <td>Sherlock</td>\n",
       "      <td>2010.0</td>\n",
       "    </tr>\n",
       "    <tr>\n",
       "      <th>3</th>\n",
       "      <td>Better Call Saul</td>\n",
       "      <td>2015.0</td>\n",
       "    </tr>\n",
       "    <tr>\n",
       "      <th>4</th>\n",
       "      <td>The Office</td>\n",
       "      <td>2005.0</td>\n",
       "    </tr>\n",
       "  </tbody>\n",
       "</table>\n",
       "</div>"
      ],
      "text/plain": [
       "               show  startYear\n",
       "0      Breaking Bad     2008.0\n",
       "1   Stranger Things     2016.0\n",
       "2          Sherlock     2010.0\n",
       "3  Better Call Saul     2015.0\n",
       "4        The Office     2005.0"
      ]
     },
     "execution_count": 6,
     "metadata": {},
     "output_type": "execute_result"
    }
   ],
   "source": [
    "netflix_years.head()"
   ]
  },
  {
   "cell_type": "markdown",
   "metadata": {},
   "source": [
    "#### ii. Descriptive Statistics"
   ]
  },
  {
   "cell_type": "code",
   "execution_count": 7,
   "metadata": {},
   "outputs": [
    {
     "data": {
      "text/plain": [
       "count    1637.000000\n",
       "mean     2014.420281\n",
       "std         6.352658\n",
       "min      1959.000000\n",
       "25%      2013.000000\n",
       "50%      2016.000000\n",
       "75%      2018.000000\n",
       "max      2020.000000\n",
       "Name: startYear, dtype: float64"
      ]
     },
     "execution_count": 7,
     "metadata": {},
     "output_type": "execute_result"
    }
   ],
   "source": [
    "netflix_years[\"startYear\"].describe()"
   ]
  },
  {
   "cell_type": "markdown",
   "metadata": {},
   "source": [
    "From the descriptive statistics we can see the following:\n",
    "\n",
    "- The tv shows provided by netflix were originally released in average on 2014.\n",
    "- The tv shows range from 1959 to 2020.\n",
    "- 25% of the tv shows were released on 2013 or earlier.\n",
    "- 50% of the tv shows were released on 2016 or later.\n",
    "- 25% of the tv shows were released on 2018 or later.\n"
   ]
  },
  {
   "cell_type": "markdown",
   "metadata": {},
   "source": [
    "#### iii. Plotting"
   ]
  },
  {
   "cell_type": "code",
   "execution_count": 8,
   "metadata": {},
   "outputs": [
    {
     "data": {
      "image/png": "[encoded data removed]",
      "text/plain": [
       "<Figure size 720x432 with 1 Axes>"
      ]
     },
     "metadata": {
      "needs_background": "light"
     },
     "output_type": "display_data"
    }
   ],
   "source": [
    "fig, ax = plt.subplots(figsize=(10,6))\n",
    "\n",
    "sns.boxplot(netflix_years[\"startYear\"])\n",
    "ax.set_title(\"Netflix TV Shows Release Years\")\n",
    "ax.set_xlabel(\"Year\");"
   ]
  },
  {
   "cell_type": "markdown",
   "metadata": {},
   "source": [
    "We can se from the boxplot above that we have some outliers from 2005 and older. We will make a zoom to this box plot and reduce the x axis limit from 2000 to 2022."
   ]
  },
  {
   "cell_type": "code",
   "execution_count": 9,
   "metadata": {},
   "outputs": [
    {
     "data": {
      "image/png": "[encoded data removed]",
      "text/plain": [
       "<Figure size 720x432 with 1 Axes>"
      ]
     },
     "metadata": {
      "needs_background": "light"
     },
     "output_type": "display_data"
    }
   ],
   "source": [
    "fig, ax = plt.subplots(figsize=(10,6))\n",
    "\n",
    "sns.boxplot(netflix_years[\"startYear\"])\n",
    "ax.set_title(\"Netflix TV Shows Release Years Boxplot\")\n",
    "ax.set_xlabel(\"Year\")\n",
    "\n",
    "ax.set_xlim(2005, 2022);"
   ]
  },
  {
   "cell_type": "markdown",
   "metadata": {},
   "source": [
    "From the zoomed boxplot we can see that most tv shows provided by Netflix had a release date from 2013 to 2018, meaning that most of the tv shows are from 7 to 2 years old."
   ]
  },
  {
   "cell_type": "code",
   "execution_count": 10,
   "metadata": {},
   "outputs": [
    {
     "data": {
      "image/png": "[encoded data removed]",
      "text/plain": [
       "<Figure size 720x432 with 1 Axes>"
      ]
     },
     "metadata": {
      "needs_background": "light"
     },
     "output_type": "display_data"
    }
   ],
   "source": [
    "fig, ax = plt.subplots(figsize=(10,6))\n",
    "\n",
    "plt.hist(netflix_years[\"startYear\"], ec=\"black\", lw=0.5, bins=[i for i in range(1955,2025,5)])\n",
    "ax.set_title(\"Netflix TV Shows Release Years Histogram\")\n",
    "ax.set_xlabel(\"Year\")\n",
    "ax.set_ylabel(\"Frequency\");"
   ]
  },
  {
   "cell_type": "markdown",
   "metadata": {},
   "source": [
    "The histogram above shows that the years disribution is heavily left skewed, having a high peak on dates ranging from 2015 to 2020."
   ]
  },
  {
   "cell_type": "markdown",
   "metadata": {},
   "source": [
    "-------\n",
    "\n",
    "### 2. Amazon\n",
    "#### i. Import data"
   ]
  },
  {
   "cell_type": "code",
   "execution_count": 11,
   "metadata": {},
   "outputs": [],
   "source": [
    "amazon = pd.read_pickle(path + \"Data/amazon_final_clean.pkl\")"
   ]
  },
  {
   "cell_type": "code",
   "execution_count": 12,
   "metadata": {},
   "outputs": [
    {
     "data": {
      "text/html": [
       "<div>\n",
       "<style scoped>\n",
       "    .dataframe tbody tr th:only-of-type {\n",
       "        vertical-align: middle;\n",
       "    }\n",
       "\n",
       "    .dataframe tbody tr th {\n",
       "        vertical-align: top;\n",
       "    }\n",
       "\n",
       "    .dataframe thead th {\n",
       "        text-align: right;\n",
       "    }\n",
       "</style>\n",
       "<table border=\"1\" class=\"dataframe\">\n",
       "  <thead>\n",
       "    <tr style=\"text-align: right;\">\n",
       "      <th></th>\n",
       "      <th>show</th>\n",
       "      <th>year</th>\n",
       "      <th>age</th>\n",
       "      <th>imdb_rating</th>\n",
       "      <th>imdb_id</th>\n",
       "      <th>titleType</th>\n",
       "      <th>primaryTitle</th>\n",
       "      <th>originalTitle</th>\n",
       "      <th>startYear</th>\n",
       "      <th>endYear</th>\n",
       "      <th>runtimeMinutes</th>\n",
       "      <th>genres</th>\n",
       "    </tr>\n",
       "  </thead>\n",
       "  <tbody>\n",
       "    <tr>\n",
       "      <th>0</th>\n",
       "      <td>The Wire</td>\n",
       "      <td>2002</td>\n",
       "      <td>18.0</td>\n",
       "      <td>9.3</td>\n",
       "      <td>tt0306414</td>\n",
       "      <td>tvSeries</td>\n",
       "      <td>The Wire</td>\n",
       "      <td>The Wire</td>\n",
       "      <td>2002.0</td>\n",
       "      <td>2002.0</td>\n",
       "      <td>59.0</td>\n",
       "      <td>Crime,Drama,Thriller</td>\n",
       "    </tr>\n",
       "    <tr>\n",
       "      <th>1</th>\n",
       "      <td>The Sopranos</td>\n",
       "      <td>1999</td>\n",
       "      <td>18.0</td>\n",
       "      <td>9.2</td>\n",
       "      <td>tt0141842</td>\n",
       "      <td>tvSeries</td>\n",
       "      <td>The Sopranos</td>\n",
       "      <td>The Sopranos</td>\n",
       "      <td>1999.0</td>\n",
       "      <td>1999.0</td>\n",
       "      <td>55.0</td>\n",
       "      <td>Crime,Drama</td>\n",
       "    </tr>\n",
       "    <tr>\n",
       "      <th>2</th>\n",
       "      <td>Band of Brothers</td>\n",
       "      <td>2001</td>\n",
       "      <td>18.0</td>\n",
       "      <td>9.4</td>\n",
       "      <td>tt0185906</td>\n",
       "      <td>tvMiniSeries</td>\n",
       "      <td>Band of Brothers</td>\n",
       "      <td>Band of Brothers</td>\n",
       "      <td>2001.0</td>\n",
       "      <td>2001.0</td>\n",
       "      <td>594.0</td>\n",
       "      <td>Action,Drama,History</td>\n",
       "    </tr>\n",
       "    <tr>\n",
       "      <th>3</th>\n",
       "      <td>Vikings</td>\n",
       "      <td>2013</td>\n",
       "      <td>18.0</td>\n",
       "      <td>8.6</td>\n",
       "      <td>tt2306299</td>\n",
       "      <td>tvSeries</td>\n",
       "      <td>Vikings</td>\n",
       "      <td>Vikings</td>\n",
       "      <td>2013.0</td>\n",
       "      <td>2013.0</td>\n",
       "      <td>44.0</td>\n",
       "      <td>Action,Adventure,Drama</td>\n",
       "    </tr>\n",
       "    <tr>\n",
       "      <th>4</th>\n",
       "      <td>Mr. Robot</td>\n",
       "      <td>2015</td>\n",
       "      <td>18.0</td>\n",
       "      <td>8.5</td>\n",
       "      <td>tt4158110</td>\n",
       "      <td>tvSeries</td>\n",
       "      <td>Mr. Robot</td>\n",
       "      <td>Mr. Robot</td>\n",
       "      <td>2015.0</td>\n",
       "      <td>2015.0</td>\n",
       "      <td>49.0</td>\n",
       "      <td>Crime,Drama,Thriller</td>\n",
       "    </tr>\n",
       "  </tbody>\n",
       "</table>\n",
       "</div>"
      ],
      "text/plain": [
       "               show  year   age  imdb_rating    imdb_id     titleType  \\\n",
       "0          The Wire  2002  18.0          9.3  tt0306414      tvSeries   \n",
       "1      The Sopranos  1999  18.0          9.2  tt0141842      tvSeries   \n",
       "2  Band of Brothers  2001  18.0          9.4  tt0185906  tvMiniSeries   \n",
       "3           Vikings  2013  18.0          8.6  tt2306299      tvSeries   \n",
       "4         Mr. Robot  2015  18.0          8.5  tt4158110      tvSeries   \n",
       "\n",
       "       primaryTitle     originalTitle  startYear  endYear  runtimeMinutes  \\\n",
       "0          The Wire          The Wire     2002.0   2002.0            59.0   \n",
       "1      The Sopranos      The Sopranos     1999.0   1999.0            55.0   \n",
       "2  Band of Brothers  Band of Brothers     2001.0   2001.0           594.0   \n",
       "3           Vikings           Vikings     2013.0   2013.0            44.0   \n",
       "4         Mr. Robot         Mr. Robot     2015.0   2015.0            49.0   \n",
       "\n",
       "                   genres  \n",
       "0    Crime,Drama,Thriller  \n",
       "1             Crime,Drama  \n",
       "2    Action,Drama,History  \n",
       "3  Action,Adventure,Drama  \n",
       "4    Crime,Drama,Thriller  "
      ]
     },
     "execution_count": 12,
     "metadata": {},
     "output_type": "execute_result"
    }
   ],
   "source": [
    "amazon.head()"
   ]
  },
  {
   "cell_type": "code",
   "execution_count": 13,
   "metadata": {},
   "outputs": [
    {
     "data": {
      "text/plain": [
       "0"
      ]
     },
     "execution_count": 13,
     "metadata": {},
     "output_type": "execute_result"
    }
   ],
   "source": [
    "amazon[\"startYear\"].isna().sum()"
   ]
  },
  {
   "cell_type": "code",
   "execution_count": 14,
   "metadata": {},
   "outputs": [],
   "source": [
    "amazon_years = amazon[[\"show\", \"startYear\"]]\n",
    "\n",
    "amazon_years = amazon_years[~amazon_years[\"startYear\"].isna()]"
   ]
  },
  {
   "cell_type": "code",
   "execution_count": 15,
   "metadata": {},
   "outputs": [
    {
     "data": {
      "text/html": [
       "<div>\n",
       "<style scoped>\n",
       "    .dataframe tbody tr th:only-of-type {\n",
       "        vertical-align: middle;\n",
       "    }\n",
       "\n",
       "    .dataframe tbody tr th {\n",
       "        vertical-align: top;\n",
       "    }\n",
       "\n",
       "    .dataframe thead th {\n",
       "        text-align: right;\n",
       "    }\n",
       "</style>\n",
       "<table border=\"1\" class=\"dataframe\">\n",
       "  <thead>\n",
       "    <tr style=\"text-align: right;\">\n",
       "      <th></th>\n",
       "      <th>show</th>\n",
       "      <th>startYear</th>\n",
       "    </tr>\n",
       "  </thead>\n",
       "  <tbody>\n",
       "    <tr>\n",
       "      <th>0</th>\n",
       "      <td>The Wire</td>\n",
       "      <td>2002.0</td>\n",
       "    </tr>\n",
       "    <tr>\n",
       "      <th>1</th>\n",
       "      <td>The Sopranos</td>\n",
       "      <td>1999.0</td>\n",
       "    </tr>\n",
       "    <tr>\n",
       "      <th>2</th>\n",
       "      <td>Band of Brothers</td>\n",
       "      <td>2001.0</td>\n",
       "    </tr>\n",
       "    <tr>\n",
       "      <th>3</th>\n",
       "      <td>Vikings</td>\n",
       "      <td>2013.0</td>\n",
       "    </tr>\n",
       "    <tr>\n",
       "      <th>4</th>\n",
       "      <td>Mr. Robot</td>\n",
       "      <td>2015.0</td>\n",
       "    </tr>\n",
       "  </tbody>\n",
       "</table>\n",
       "</div>"
      ],
      "text/plain": [
       "               show  startYear\n",
       "0          The Wire     2002.0\n",
       "1      The Sopranos     1999.0\n",
       "2  Band of Brothers     2001.0\n",
       "3           Vikings     2013.0\n",
       "4         Mr. Robot     2015.0"
      ]
     },
     "execution_count": 15,
     "metadata": {},
     "output_type": "execute_result"
    }
   ],
   "source": [
    "amazon_years.head()"
   ]
  },
  {
   "cell_type": "markdown",
   "metadata": {},
   "source": [
    "#### ii. Descriptive Statistics"
   ]
  },
  {
   "cell_type": "code",
   "execution_count": 16,
   "metadata": {},
   "outputs": [
    {
     "data": {
      "text/plain": [
       "count    1290.000000\n",
       "mean     2007.289147\n",
       "std        13.361163\n",
       "min      1947.000000\n",
       "25%      2005.000000\n",
       "50%      2012.000000\n",
       "75%      2016.000000\n",
       "max      2020.000000\n",
       "Name: startYear, dtype: float64"
      ]
     },
     "execution_count": 16,
     "metadata": {},
     "output_type": "execute_result"
    }
   ],
   "source": [
    "amazon_years[\"startYear\"].describe()"
   ]
  },
  {
   "cell_type": "markdown",
   "metadata": {},
   "source": [
    "From the descriptive statistics we can see the following:\n",
    "\n",
    "- The tv shows provided by amazon were originally released in average on 2007.\n",
    "- The tv shows range from 1947 to 2020.\n",
    "- 25% of the tv shows were released on 2005 or earlier.\n",
    "- 50% of the tv shows were released on 2012 or later.\n",
    "- 25% of the tv shows were released on 2016 or later."
   ]
  },
  {
   "cell_type": "markdown",
   "metadata": {},
   "source": [
    "#### iii. Plotting"
   ]
  },
  {
   "cell_type": "code",
   "execution_count": 17,
   "metadata": {},
   "outputs": [
    {
     "data": {
      "image/png": "[encoded data removed]",
      "text/plain": [
       "<Figure size 720x432 with 1 Axes>"
      ]
     },
     "metadata": {
      "needs_background": "light"
     },
     "output_type": "display_data"
    }
   ],
   "source": [
    "fig, ax = plt.subplots(figsize=(10,6))\n",
    "\n",
    "sns.boxplot(amazon_years[\"startYear\"])\n",
    "ax.set_title(\"Amazon TV Shows Release Years\")\n",
    "ax.set_xlabel(\"Year\");"
   ]
  },
  {
   "cell_type": "markdown",
   "metadata": {},
   "source": [
    "We can se from the boxplot above that we have some outliers from 1985 and older. We will make a zoom to this box plot and reduce the x axis limit from 2000 to 2022."
   ]
  },
  {
   "cell_type": "code",
   "execution_count": 18,
   "metadata": {},
   "outputs": [
    {
     "data": {
      "image/png": "[encoded data removed]",
      "text/plain": [
       "<Figure size 720x432 with 1 Axes>"
      ]
     },
     "metadata": {
      "needs_background": "light"
     },
     "output_type": "display_data"
    }
   ],
   "source": [
    "fig, ax = plt.subplots(figsize=(10,6))\n",
    "\n",
    "sns.boxplot(amazon_years[\"startYear\"])\n",
    "ax.set_title(\"Amazon TV Shows Release Years\")\n",
    "ax.set_xlabel(\"Year\")\n",
    "ax.set_xlim(2000, 2022);"
   ]
  },
  {
   "cell_type": "markdown",
   "metadata": {},
   "source": [
    "From the zoomed boxplot we can see that most tv shows provided by Amazon had a release date from 2005 to 2016, meaning that most of the tv shows are from 15 to 4 years old."
   ]
  },
  {
   "cell_type": "code",
   "execution_count": 19,
   "metadata": {},
   "outputs": [
    {
     "data": {
      "image/png": "[encoded data removed]",
      "text/plain": [
       "<Figure size 720x432 with 1 Axes>"
      ]
     },
     "metadata": {
      "needs_background": "light"
     },
     "output_type": "display_data"
    }
   ],
   "source": [
    "fig, ax = plt.subplots(figsize=(10,6))\n",
    "\n",
    "plt.hist(amazon_years[\"startYear\"], ec=\"black\", lw=0.5, bins=[i for i in range(1940,2025,5)])\n",
    "ax.set_title(\"Amazon TV Shows Release Years Histogram\")\n",
    "ax.set_xlabel(\"Year\")\n",
    "ax.set_ylabel(\"Frequency\");"
   ]
  },
  {
   "cell_type": "markdown",
   "metadata": {},
   "source": [
    "The histogram above shows that the years disribution is heavily left skewed, having most tv shows with a release date ranging from 2010 to 2020."
   ]
  },
  {
   "cell_type": "markdown",
   "metadata": {},
   "source": [
    "-------\n",
    "\n",
    "### 3. HBO\n",
    "#### i. Import data"
   ]
  },
  {
   "cell_type": "code",
   "execution_count": 20,
   "metadata": {},
   "outputs": [],
   "source": [
    "hbo = pd.read_pickle(path + \"Data/hbo_final_clean.pkl\")"
   ]
  },
  {
   "cell_type": "code",
   "execution_count": 21,
   "metadata": {},
   "outputs": [
    {
     "data": {
      "text/html": [
       "<div>\n",
       "<style scoped>\n",
       "    .dataframe tbody tr th:only-of-type {\n",
       "        vertical-align: middle;\n",
       "    }\n",
       "\n",
       "    .dataframe tbody tr th {\n",
       "        vertical-align: top;\n",
       "    }\n",
       "\n",
       "    .dataframe thead th {\n",
       "        text-align: right;\n",
       "    }\n",
       "</style>\n",
       "<table border=\"1\" class=\"dataframe\">\n",
       "  <thead>\n",
       "    <tr style=\"text-align: right;\">\n",
       "      <th></th>\n",
       "      <th>show</th>\n",
       "      <th>year</th>\n",
       "      <th>age</th>\n",
       "      <th>imdb_rating</th>\n",
       "      <th>imdb_id</th>\n",
       "      <th>tconst</th>\n",
       "      <th>titleType</th>\n",
       "      <th>primaryTitle</th>\n",
       "      <th>originalTitle</th>\n",
       "      <th>startYear</th>\n",
       "      <th>endYear</th>\n",
       "      <th>runtimeMinutes</th>\n",
       "      <th>genres</th>\n",
       "    </tr>\n",
       "  </thead>\n",
       "  <tbody>\n",
       "    <tr>\n",
       "      <th>0</th>\n",
       "      <td>Game of Thrones</td>\n",
       "      <td>2011</td>\n",
       "      <td>18.0</td>\n",
       "      <td>9.3</td>\n",
       "      <td>tt0944947</td>\n",
       "      <td>tt0944947</td>\n",
       "      <td>tvSeries</td>\n",
       "      <td>Game of Thrones</td>\n",
       "      <td>Game of Thrones</td>\n",
       "      <td>2011.0</td>\n",
       "      <td>2011.0</td>\n",
       "      <td>57.0</td>\n",
       "      <td>Action,Adventure,Drama</td>\n",
       "    </tr>\n",
       "    <tr>\n",
       "      <th>1</th>\n",
       "      <td>The Wire</td>\n",
       "      <td>2002</td>\n",
       "      <td>18.0</td>\n",
       "      <td>9.3</td>\n",
       "      <td>tt0306414</td>\n",
       "      <td>tt0306414</td>\n",
       "      <td>tvSeries</td>\n",
       "      <td>The Wire</td>\n",
       "      <td>The Wire</td>\n",
       "      <td>2002.0</td>\n",
       "      <td>2002.0</td>\n",
       "      <td>59.0</td>\n",
       "      <td>Crime,Drama,Thriller</td>\n",
       "    </tr>\n",
       "    <tr>\n",
       "      <th>2</th>\n",
       "      <td>Chernobyl</td>\n",
       "      <td>2019</td>\n",
       "      <td>18.0</td>\n",
       "      <td>9.4</td>\n",
       "      <td>tt7366338</td>\n",
       "      <td>tt7366338</td>\n",
       "      <td>tvMiniSeries</td>\n",
       "      <td>Chernobyl</td>\n",
       "      <td>Chernobyl</td>\n",
       "      <td>2019.0</td>\n",
       "      <td>2019.0</td>\n",
       "      <td>330.0</td>\n",
       "      <td>Drama,History,Thriller</td>\n",
       "    </tr>\n",
       "    <tr>\n",
       "      <th>3</th>\n",
       "      <td>The Sopranos</td>\n",
       "      <td>1999</td>\n",
       "      <td>18.0</td>\n",
       "      <td>9.2</td>\n",
       "      <td>tt0141842</td>\n",
       "      <td>tt0141842</td>\n",
       "      <td>tvSeries</td>\n",
       "      <td>The Sopranos</td>\n",
       "      <td>The Sopranos</td>\n",
       "      <td>1999.0</td>\n",
       "      <td>1999.0</td>\n",
       "      <td>55.0</td>\n",
       "      <td>Crime,Drama</td>\n",
       "    </tr>\n",
       "    <tr>\n",
       "      <th>4</th>\n",
       "      <td>Band of Brothers</td>\n",
       "      <td>2001</td>\n",
       "      <td>18.0</td>\n",
       "      <td>9.4</td>\n",
       "      <td>tt0185906</td>\n",
       "      <td>tt0185906</td>\n",
       "      <td>tvMiniSeries</td>\n",
       "      <td>Band of Brothers</td>\n",
       "      <td>Band of Brothers</td>\n",
       "      <td>2001.0</td>\n",
       "      <td>2001.0</td>\n",
       "      <td>594.0</td>\n",
       "      <td>Action,Drama,History</td>\n",
       "    </tr>\n",
       "  </tbody>\n",
       "</table>\n",
       "</div>"
      ],
      "text/plain": [
       "               show  year   age  imdb_rating    imdb_id     tconst  \\\n",
       "0   Game of Thrones  2011  18.0          9.3  tt0944947  tt0944947   \n",
       "1          The Wire  2002  18.0          9.3  tt0306414  tt0306414   \n",
       "2         Chernobyl  2019  18.0          9.4  tt7366338  tt7366338   \n",
       "3      The Sopranos  1999  18.0          9.2  tt0141842  tt0141842   \n",
       "4  Band of Brothers  2001  18.0          9.4  tt0185906  tt0185906   \n",
       "\n",
       "      titleType      primaryTitle     originalTitle  startYear  endYear  \\\n",
       "0      tvSeries   Game of Thrones   Game of Thrones     2011.0   2011.0   \n",
       "1      tvSeries          The Wire          The Wire     2002.0   2002.0   \n",
       "2  tvMiniSeries         Chernobyl         Chernobyl     2019.0   2019.0   \n",
       "3      tvSeries      The Sopranos      The Sopranos     1999.0   1999.0   \n",
       "4  tvMiniSeries  Band of Brothers  Band of Brothers     2001.0   2001.0   \n",
       "\n",
       "   runtimeMinutes                  genres  \n",
       "0            57.0  Action,Adventure,Drama  \n",
       "1            59.0    Crime,Drama,Thriller  \n",
       "2           330.0  Drama,History,Thriller  \n",
       "3            55.0             Crime,Drama  \n",
       "4           594.0    Action,Drama,History  "
      ]
     },
     "execution_count": 21,
     "metadata": {},
     "output_type": "execute_result"
    }
   ],
   "source": [
    "hbo.head()"
   ]
  },
  {
   "cell_type": "code",
   "execution_count": 22,
   "metadata": {},
   "outputs": [
    {
     "data": {
      "text/plain": [
       "0"
      ]
     },
     "execution_count": 22,
     "metadata": {},
     "output_type": "execute_result"
    }
   ],
   "source": [
    "hbo[\"startYear\"].isna().sum()"
   ]
  },
  {
   "cell_type": "code",
   "execution_count": 23,
   "metadata": {},
   "outputs": [],
   "source": [
    "hbo_years = hbo[[\"show\", \"startYear\"]]\n",
    "\n",
    "hbo_years = hbo_years[~hbo_years[\"startYear\"].isna()]"
   ]
  },
  {
   "cell_type": "code",
   "execution_count": 24,
   "metadata": {},
   "outputs": [
    {
     "data": {
      "text/html": [
       "<div>\n",
       "<style scoped>\n",
       "    .dataframe tbody tr th:only-of-type {\n",
       "        vertical-align: middle;\n",
       "    }\n",
       "\n",
       "    .dataframe tbody tr th {\n",
       "        vertical-align: top;\n",
       "    }\n",
       "\n",
       "    .dataframe thead th {\n",
       "        text-align: right;\n",
       "    }\n",
       "</style>\n",
       "<table border=\"1\" class=\"dataframe\">\n",
       "  <thead>\n",
       "    <tr style=\"text-align: right;\">\n",
       "      <th></th>\n",
       "      <th>show</th>\n",
       "      <th>startYear</th>\n",
       "    </tr>\n",
       "  </thead>\n",
       "  <tbody>\n",
       "    <tr>\n",
       "      <th>0</th>\n",
       "      <td>Game of Thrones</td>\n",
       "      <td>2011.0</td>\n",
       "    </tr>\n",
       "    <tr>\n",
       "      <th>1</th>\n",
       "      <td>The Wire</td>\n",
       "      <td>2002.0</td>\n",
       "    </tr>\n",
       "    <tr>\n",
       "      <th>2</th>\n",
       "      <td>Chernobyl</td>\n",
       "      <td>2019.0</td>\n",
       "    </tr>\n",
       "    <tr>\n",
       "      <th>3</th>\n",
       "      <td>The Sopranos</td>\n",
       "      <td>1999.0</td>\n",
       "    </tr>\n",
       "    <tr>\n",
       "      <th>4</th>\n",
       "      <td>Band of Brothers</td>\n",
       "      <td>2001.0</td>\n",
       "    </tr>\n",
       "  </tbody>\n",
       "</table>\n",
       "</div>"
      ],
      "text/plain": [
       "               show  startYear\n",
       "0   Game of Thrones     2011.0\n",
       "1          The Wire     2002.0\n",
       "2         Chernobyl     2019.0\n",
       "3      The Sopranos     1999.0\n",
       "4  Band of Brothers     2001.0"
      ]
     },
     "execution_count": 24,
     "metadata": {},
     "output_type": "execute_result"
    }
   ],
   "source": [
    "hbo_years.head()"
   ]
  },
  {
   "cell_type": "markdown",
   "metadata": {},
   "source": [
    "#### ii. Descriptive Statistics"
   ]
  },
  {
   "cell_type": "code",
   "execution_count": 25,
   "metadata": {},
   "outputs": [
    {
     "data": {
      "text/plain": [
       "count     172.000000\n",
       "mean     2011.058140\n",
       "std         8.828919\n",
       "min      1969.000000\n",
       "25%      2007.750000\n",
       "50%      2014.000000\n",
       "75%      2018.000000\n",
       "max      2020.000000\n",
       "Name: startYear, dtype: float64"
      ]
     },
     "execution_count": 25,
     "metadata": {},
     "output_type": "execute_result"
    }
   ],
   "source": [
    "hbo_years[\"startYear\"].describe()"
   ]
  },
  {
   "cell_type": "markdown",
   "metadata": {},
   "source": [
    "From the descriptive statistics we can see the following:\n",
    "\n",
    "- The tv shows provided by HBO were originally released in average on 2011.\n",
    "- The tv shows range from 1969 to 2020.\n",
    "- 25% of the tv shows were released on 2007 or earlier.\n",
    "- 50% of the tv shows were released on 2014 or later.\n",
    "- 25% of the tv shows were released on 2018 or later."
   ]
  },
  {
   "cell_type": "markdown",
   "metadata": {},
   "source": [
    "#### iii. Plotting"
   ]
  },
  {
   "cell_type": "code",
   "execution_count": 26,
   "metadata": {},
   "outputs": [
    {
     "data": {
      "image/png": "[encoded data removed]",
      "text/plain": [
       "<Figure size 720x432 with 1 Axes>"
      ]
     },
     "metadata": {
      "needs_background": "light"
     },
     "output_type": "display_data"
    }
   ],
   "source": [
    "fig, ax = plt.subplots(figsize=(10,6))\n",
    "\n",
    "sns.boxplot(hbo_years[\"startYear\"])\n",
    "ax.set_title(\"HBO TV Shows Release Years\")\n",
    "ax.set_xlabel(\"Year\");"
   ]
  },
  {
   "cell_type": "markdown",
   "metadata": {},
   "source": [
    "We can se from the boxplot above that we have some outliers from 1993 and older. We will make a zoom to this box plot and reduce the x axis limit from 2000 to 2022."
   ]
  },
  {
   "cell_type": "code",
   "execution_count": 27,
   "metadata": {},
   "outputs": [
    {
     "data": {
      "image/png": "[encoded data removed]",
      "text/plain": [
       "<Figure size 720x432 with 1 Axes>"
      ]
     },
     "metadata": {
      "needs_background": "light"
     },
     "output_type": "display_data"
    }
   ],
   "source": [
    "fig, ax = plt.subplots(figsize=(10,6))\n",
    "\n",
    "sns.boxplot(hbo_years[\"startYear\"])\n",
    "ax.set_title(\"HBO TV Shows Release Years\")\n",
    "ax.set_xlabel(\"Year\")\n",
    "ax.set_xlim(2000,2022);"
   ]
  },
  {
   "cell_type": "markdown",
   "metadata": {},
   "source": [
    "From the zoomed boxplot we can see that most tv shows provided by HBO had a release date from 2007 to 2018, meaning that most of the tv shows are from 13 to 2 years old."
   ]
  },
  {
   "cell_type": "code",
   "execution_count": 28,
   "metadata": {},
   "outputs": [
    {
     "data": {
      "image/png": "[encoded data removed]",
      "text/plain": [
       "<Figure size 720x432 with 1 Axes>"
      ]
     },
     "metadata": {
      "needs_background": "light"
     },
     "output_type": "display_data"
    }
   ],
   "source": [
    "fig, ax = plt.subplots(figsize=(10,6))\n",
    "\n",
    "plt.hist(hbo_years[\"startYear\"], ec=\"black\", lw=0.5, bins=[i for i in range(1965,2025,5)])\n",
    "ax.set_title(\"HBO TV Shows Release Years Histogram\")\n",
    "ax.set_xlabel(\"Year\")\n",
    "ax.set_ylabel(\"Frequency\");"
   ]
  },
  {
   "cell_type": "markdown",
   "metadata": {},
   "source": [
    "Similar to Netflix, the distribution is heavily left skewed, and there is a high peak for tv shows released form 2015 to 2020."
   ]
  },
  {
   "cell_type": "markdown",
   "metadata": {},
   "source": [
    "-----\n",
    "\n",
    "### 4. Comparison\n",
    "\n",
    "#### i. Normalize data\n",
    "\n",
    "In order to make a comparison, we must normalize the data for each streaming service.\n",
    "We will do this first by dividing the data into bins of 5 years, starting from 1945 to 2020, and then getting the ratio of frequency for each bin and the total number of tv shows."
   ]
  },
  {
   "cell_type": "markdown",
   "metadata": {},
   "source": [
    "**Netflix**"
   ]
  },
  {
   "cell_type": "code",
   "execution_count": 29,
   "metadata": {},
   "outputs": [
    {
     "data": {
      "text/html": [
       "<div>\n",
       "<style scoped>\n",
       "    .dataframe tbody tr th:only-of-type {\n",
       "        vertical-align: middle;\n",
       "    }\n",
       "\n",
       "    .dataframe tbody tr th {\n",
       "        vertical-align: top;\n",
       "    }\n",
       "\n",
       "    .dataframe thead th {\n",
       "        text-align: right;\n",
       "    }\n",
       "</style>\n",
       "<table border=\"1\" class=\"dataframe\">\n",
       "  <thead>\n",
       "    <tr style=\"text-align: right;\">\n",
       "      <th></th>\n",
       "      <th>show</th>\n",
       "      <th>startYear</th>\n",
       "      <th>year_range</th>\n",
       "    </tr>\n",
       "  </thead>\n",
       "  <tbody>\n",
       "    <tr>\n",
       "      <th>0</th>\n",
       "      <td>Breaking Bad</td>\n",
       "      <td>2008.0</td>\n",
       "      <td>(2005, 2010]</td>\n",
       "    </tr>\n",
       "    <tr>\n",
       "      <th>1</th>\n",
       "      <td>Stranger Things</td>\n",
       "      <td>2016.0</td>\n",
       "      <td>(2015, 2020]</td>\n",
       "    </tr>\n",
       "    <tr>\n",
       "      <th>2</th>\n",
       "      <td>Sherlock</td>\n",
       "      <td>2010.0</td>\n",
       "      <td>(2005, 2010]</td>\n",
       "    </tr>\n",
       "    <tr>\n",
       "      <th>3</th>\n",
       "      <td>Better Call Saul</td>\n",
       "      <td>2015.0</td>\n",
       "      <td>(2010, 2015]</td>\n",
       "    </tr>\n",
       "    <tr>\n",
       "      <th>4</th>\n",
       "      <td>The Office</td>\n",
       "      <td>2005.0</td>\n",
       "      <td>(2000, 2005]</td>\n",
       "    </tr>\n",
       "  </tbody>\n",
       "</table>\n",
       "</div>"
      ],
      "text/plain": [
       "               show  startYear    year_range\n",
       "0      Breaking Bad     2008.0  (2005, 2010]\n",
       "1   Stranger Things     2016.0  (2015, 2020]\n",
       "2          Sherlock     2010.0  (2005, 2010]\n",
       "3  Better Call Saul     2015.0  (2010, 2015]\n",
       "4        The Office     2005.0  (2000, 2005]"
      ]
     },
     "execution_count": 29,
     "metadata": {},
     "output_type": "execute_result"
    }
   ],
   "source": [
    "# use pandas cut method to create a new column with the year range\n",
    "\n",
    "netflix_years[\"year_range\"] = pd.cut(netflix_years[\"startYear\"], bins=[i for i in range(1945,2025,5)])\n",
    "\n",
    "netflix_years.head()"
   ]
  },
  {
   "cell_type": "code",
   "execution_count": 30,
   "metadata": {},
   "outputs": [
    {
     "data": {
      "text/html": [
       "<div>\n",
       "<style scoped>\n",
       "    .dataframe tbody tr th:only-of-type {\n",
       "        vertical-align: middle;\n",
       "    }\n",
       "\n",
       "    .dataframe tbody tr th {\n",
       "        vertical-align: top;\n",
       "    }\n",
       "\n",
       "    .dataframe thead th {\n",
       "        text-align: right;\n",
       "    }\n",
       "</style>\n",
       "<table border=\"1\" class=\"dataframe\">\n",
       "  <thead>\n",
       "    <tr style=\"text-align: right;\">\n",
       "      <th></th>\n",
       "      <th>year_range</th>\n",
       "      <th>frequency</th>\n",
       "      <th>normalize</th>\n",
       "      <th>streaming_service</th>\n",
       "    </tr>\n",
       "  </thead>\n",
       "  <tbody>\n",
       "    <tr>\n",
       "      <th>0</th>\n",
       "      <td>(1945, 1950]</td>\n",
       "      <td>0</td>\n",
       "      <td>0.00</td>\n",
       "      <td>Netflix</td>\n",
       "    </tr>\n",
       "    <tr>\n",
       "      <th>1</th>\n",
       "      <td>(1950, 1955]</td>\n",
       "      <td>0</td>\n",
       "      <td>0.00</td>\n",
       "      <td>Netflix</td>\n",
       "    </tr>\n",
       "    <tr>\n",
       "      <th>2</th>\n",
       "      <td>(1955, 1960]</td>\n",
       "      <td>2</td>\n",
       "      <td>0.12</td>\n",
       "      <td>Netflix</td>\n",
       "    </tr>\n",
       "    <tr>\n",
       "      <th>3</th>\n",
       "      <td>(1960, 1965]</td>\n",
       "      <td>1</td>\n",
       "      <td>0.06</td>\n",
       "      <td>Netflix</td>\n",
       "    </tr>\n",
       "    <tr>\n",
       "      <th>4</th>\n",
       "      <td>(1965, 1970]</td>\n",
       "      <td>3</td>\n",
       "      <td>0.18</td>\n",
       "      <td>Netflix</td>\n",
       "    </tr>\n",
       "  </tbody>\n",
       "</table>\n",
       "</div>"
      ],
      "text/plain": [
       "     year_range  frequency  normalize streaming_service\n",
       "0  (1945, 1950]          0       0.00           Netflix\n",
       "1  (1950, 1955]          0       0.00           Netflix\n",
       "2  (1955, 1960]          2       0.12           Netflix\n",
       "3  (1960, 1965]          1       0.06           Netflix\n",
       "4  (1965, 1970]          3       0.18           Netflix"
      ]
     },
     "execution_count": 30,
     "metadata": {},
     "output_type": "execute_result"
    }
   ],
   "source": [
    "# group by year_range using count as an aggregate function\n",
    "\n",
    "netflix_years_range = (netflix_years.groupby(\"year_range\")\n",
    "                       .agg({\"show\":\"count\"})\n",
    "                       .reset_index()\n",
    "                       .rename(columns={\"show\":\"frequency\"}))\n",
    "\n",
    "# create normalize column which divides frequency by the total tv shows\n",
    "\n",
    "netflix_years_range[\"normalize\"] = round(((netflix_years_range[\"frequency\"] / netflix_years_range[\"frequency\"].sum()) * 100)\n",
    "                                         , 2)\n",
    "\n",
    "# add column to specify streaming service\n",
    "\n",
    "netflix_years_range[\"streaming_service\"] = \"Netflix\"\n",
    "\n",
    "netflix_years_range.head()"
   ]
  },
  {
   "cell_type": "markdown",
   "metadata": {},
   "source": [
    "**Amazon**"
   ]
  },
  {
   "cell_type": "code",
   "execution_count": 31,
   "metadata": {},
   "outputs": [
    {
     "data": {
      "text/html": [
       "<div>\n",
       "<style scoped>\n",
       "    .dataframe tbody tr th:only-of-type {\n",
       "        vertical-align: middle;\n",
       "    }\n",
       "\n",
       "    .dataframe tbody tr th {\n",
       "        vertical-align: top;\n",
       "    }\n",
       "\n",
       "    .dataframe thead th {\n",
       "        text-align: right;\n",
       "    }\n",
       "</style>\n",
       "<table border=\"1\" class=\"dataframe\">\n",
       "  <thead>\n",
       "    <tr style=\"text-align: right;\">\n",
       "      <th></th>\n",
       "      <th>show</th>\n",
       "      <th>startYear</th>\n",
       "      <th>year_range</th>\n",
       "    </tr>\n",
       "  </thead>\n",
       "  <tbody>\n",
       "    <tr>\n",
       "      <th>0</th>\n",
       "      <td>The Wire</td>\n",
       "      <td>2002.0</td>\n",
       "      <td>(2000, 2005]</td>\n",
       "    </tr>\n",
       "    <tr>\n",
       "      <th>1</th>\n",
       "      <td>The Sopranos</td>\n",
       "      <td>1999.0</td>\n",
       "      <td>(1995, 2000]</td>\n",
       "    </tr>\n",
       "    <tr>\n",
       "      <th>2</th>\n",
       "      <td>Band of Brothers</td>\n",
       "      <td>2001.0</td>\n",
       "      <td>(2000, 2005]</td>\n",
       "    </tr>\n",
       "    <tr>\n",
       "      <th>3</th>\n",
       "      <td>Vikings</td>\n",
       "      <td>2013.0</td>\n",
       "      <td>(2010, 2015]</td>\n",
       "    </tr>\n",
       "    <tr>\n",
       "      <th>4</th>\n",
       "      <td>Mr. Robot</td>\n",
       "      <td>2015.0</td>\n",
       "      <td>(2010, 2015]</td>\n",
       "    </tr>\n",
       "  </tbody>\n",
       "</table>\n",
       "</div>"
      ],
      "text/plain": [
       "               show  startYear    year_range\n",
       "0          The Wire     2002.0  (2000, 2005]\n",
       "1      The Sopranos     1999.0  (1995, 2000]\n",
       "2  Band of Brothers     2001.0  (2000, 2005]\n",
       "3           Vikings     2013.0  (2010, 2015]\n",
       "4         Mr. Robot     2015.0  (2010, 2015]"
      ]
     },
     "execution_count": 31,
     "metadata": {},
     "output_type": "execute_result"
    }
   ],
   "source": [
    "amazon_years[\"year_range\"] = pd.cut(amazon_years[\"startYear\"], bins=[i for i in range(1945,2025,5)])\n",
    "\n",
    "amazon_years.head()"
   ]
  },
  {
   "cell_type": "code",
   "execution_count": 32,
   "metadata": {},
   "outputs": [
    {
     "data": {
      "text/html": [
       "<div>\n",
       "<style scoped>\n",
       "    .dataframe tbody tr th:only-of-type {\n",
       "        vertical-align: middle;\n",
       "    }\n",
       "\n",
       "    .dataframe tbody tr th {\n",
       "        vertical-align: top;\n",
       "    }\n",
       "\n",
       "    .dataframe thead th {\n",
       "        text-align: right;\n",
       "    }\n",
       "</style>\n",
       "<table border=\"1\" class=\"dataframe\">\n",
       "  <thead>\n",
       "    <tr style=\"text-align: right;\">\n",
       "      <th></th>\n",
       "      <th>year_range</th>\n",
       "      <th>frequency</th>\n",
       "      <th>normalize</th>\n",
       "      <th>streaming_service</th>\n",
       "    </tr>\n",
       "  </thead>\n",
       "  <tbody>\n",
       "    <tr>\n",
       "      <th>0</th>\n",
       "      <td>(1945, 1950]</td>\n",
       "      <td>2</td>\n",
       "      <td>0.16</td>\n",
       "      <td>Amazon</td>\n",
       "    </tr>\n",
       "    <tr>\n",
       "      <th>1</th>\n",
       "      <td>(1950, 1955]</td>\n",
       "      <td>10</td>\n",
       "      <td>0.78</td>\n",
       "      <td>Amazon</td>\n",
       "    </tr>\n",
       "    <tr>\n",
       "      <th>2</th>\n",
       "      <td>(1955, 1960]</td>\n",
       "      <td>18</td>\n",
       "      <td>1.40</td>\n",
       "      <td>Amazon</td>\n",
       "    </tr>\n",
       "    <tr>\n",
       "      <th>3</th>\n",
       "      <td>(1960, 1965]</td>\n",
       "      <td>11</td>\n",
       "      <td>0.85</td>\n",
       "      <td>Amazon</td>\n",
       "    </tr>\n",
       "    <tr>\n",
       "      <th>4</th>\n",
       "      <td>(1965, 1970]</td>\n",
       "      <td>14</td>\n",
       "      <td>1.09</td>\n",
       "      <td>Amazon</td>\n",
       "    </tr>\n",
       "  </tbody>\n",
       "</table>\n",
       "</div>"
      ],
      "text/plain": [
       "     year_range  frequency  normalize streaming_service\n",
       "0  (1945, 1950]          2       0.16            Amazon\n",
       "1  (1950, 1955]         10       0.78            Amazon\n",
       "2  (1955, 1960]         18       1.40            Amazon\n",
       "3  (1960, 1965]         11       0.85            Amazon\n",
       "4  (1965, 1970]         14       1.09            Amazon"
      ]
     },
     "execution_count": 32,
     "metadata": {},
     "output_type": "execute_result"
    }
   ],
   "source": [
    "amazon_years_range = (amazon_years.groupby(\"year_range\")\n",
    "                                   .agg({\"show\":\"count\"})\n",
    "                                   .reset_index()\n",
    "                                   .rename(columns={\"show\":\"frequency\"}))\n",
    "\n",
    "amazon_years_range[\"normalize\"] = round(((amazon_years_range[\"frequency\"] / amazon_years_range[\"frequency\"].sum()) * 100)\n",
    "                                         , 2)\n",
    "\n",
    "amazon_years_range[\"streaming_service\"] = \"Amazon\"\n",
    "\n",
    "amazon_years_range.head()"
   ]
  },
  {
   "cell_type": "markdown",
   "metadata": {},
   "source": [
    "**HBO**"
   ]
  },
  {
   "cell_type": "code",
   "execution_count": 33,
   "metadata": {},
   "outputs": [
    {
     "data": {
      "text/html": [
       "<div>\n",
       "<style scoped>\n",
       "    .dataframe tbody tr th:only-of-type {\n",
       "        vertical-align: middle;\n",
       "    }\n",
       "\n",
       "    .dataframe tbody tr th {\n",
       "        vertical-align: top;\n",
       "    }\n",
       "\n",
       "    .dataframe thead th {\n",
       "        text-align: right;\n",
       "    }\n",
       "</style>\n",
       "<table border=\"1\" class=\"dataframe\">\n",
       "  <thead>\n",
       "    <tr style=\"text-align: right;\">\n",
       "      <th></th>\n",
       "      <th>show</th>\n",
       "      <th>startYear</th>\n",
       "      <th>year_range</th>\n",
       "    </tr>\n",
       "  </thead>\n",
       "  <tbody>\n",
       "    <tr>\n",
       "      <th>0</th>\n",
       "      <td>Game of Thrones</td>\n",
       "      <td>2011.0</td>\n",
       "      <td>(2010, 2015]</td>\n",
       "    </tr>\n",
       "    <tr>\n",
       "      <th>1</th>\n",
       "      <td>The Wire</td>\n",
       "      <td>2002.0</td>\n",
       "      <td>(2000, 2005]</td>\n",
       "    </tr>\n",
       "    <tr>\n",
       "      <th>2</th>\n",
       "      <td>Chernobyl</td>\n",
       "      <td>2019.0</td>\n",
       "      <td>(2015, 2020]</td>\n",
       "    </tr>\n",
       "    <tr>\n",
       "      <th>3</th>\n",
       "      <td>The Sopranos</td>\n",
       "      <td>1999.0</td>\n",
       "      <td>(1995, 2000]</td>\n",
       "    </tr>\n",
       "    <tr>\n",
       "      <th>4</th>\n",
       "      <td>Band of Brothers</td>\n",
       "      <td>2001.0</td>\n",
       "      <td>(2000, 2005]</td>\n",
       "    </tr>\n",
       "  </tbody>\n",
       "</table>\n",
       "</div>"
      ],
      "text/plain": [
       "               show  startYear    year_range\n",
       "0   Game of Thrones     2011.0  (2010, 2015]\n",
       "1          The Wire     2002.0  (2000, 2005]\n",
       "2         Chernobyl     2019.0  (2015, 2020]\n",
       "3      The Sopranos     1999.0  (1995, 2000]\n",
       "4  Band of Brothers     2001.0  (2000, 2005]"
      ]
     },
     "execution_count": 33,
     "metadata": {},
     "output_type": "execute_result"
    }
   ],
   "source": [
    "hbo_years[\"year_range\"] = pd.cut(hbo_years[\"startYear\"], bins=[i for i in range(1945,2025,5)])\n",
    "\n",
    "hbo_years.head()"
   ]
  },
  {
   "cell_type": "code",
   "execution_count": 34,
   "metadata": {},
   "outputs": [
    {
     "data": {
      "text/html": [
       "<div>\n",
       "<style scoped>\n",
       "    .dataframe tbody tr th:only-of-type {\n",
       "        vertical-align: middle;\n",
       "    }\n",
       "\n",
       "    .dataframe tbody tr th {\n",
       "        vertical-align: top;\n",
       "    }\n",
       "\n",
       "    .dataframe thead th {\n",
       "        text-align: right;\n",
       "    }\n",
       "</style>\n",
       "<table border=\"1\" class=\"dataframe\">\n",
       "  <thead>\n",
       "    <tr style=\"text-align: right;\">\n",
       "      <th></th>\n",
       "      <th>year_range</th>\n",
       "      <th>frequency</th>\n",
       "      <th>normalize</th>\n",
       "      <th>streaming_service</th>\n",
       "    </tr>\n",
       "  </thead>\n",
       "  <tbody>\n",
       "    <tr>\n",
       "      <th>0</th>\n",
       "      <td>(1945, 1950]</td>\n",
       "      <td>0</td>\n",
       "      <td>0.00</td>\n",
       "      <td>HBO</td>\n",
       "    </tr>\n",
       "    <tr>\n",
       "      <th>1</th>\n",
       "      <td>(1950, 1955]</td>\n",
       "      <td>0</td>\n",
       "      <td>0.00</td>\n",
       "      <td>HBO</td>\n",
       "    </tr>\n",
       "    <tr>\n",
       "      <th>2</th>\n",
       "      <td>(1955, 1960]</td>\n",
       "      <td>0</td>\n",
       "      <td>0.00</td>\n",
       "      <td>HBO</td>\n",
       "    </tr>\n",
       "    <tr>\n",
       "      <th>3</th>\n",
       "      <td>(1960, 1965]</td>\n",
       "      <td>0</td>\n",
       "      <td>0.00</td>\n",
       "      <td>HBO</td>\n",
       "    </tr>\n",
       "    <tr>\n",
       "      <th>4</th>\n",
       "      <td>(1965, 1970]</td>\n",
       "      <td>1</td>\n",
       "      <td>0.58</td>\n",
       "      <td>HBO</td>\n",
       "    </tr>\n",
       "  </tbody>\n",
       "</table>\n",
       "</div>"
      ],
      "text/plain": [
       "     year_range  frequency  normalize streaming_service\n",
       "0  (1945, 1950]          0       0.00               HBO\n",
       "1  (1950, 1955]          0       0.00               HBO\n",
       "2  (1955, 1960]          0       0.00               HBO\n",
       "3  (1960, 1965]          0       0.00               HBO\n",
       "4  (1965, 1970]          1       0.58               HBO"
      ]
     },
     "execution_count": 34,
     "metadata": {},
     "output_type": "execute_result"
    }
   ],
   "source": [
    "hbo_years_range = (hbo_years.groupby(\"year_range\")\n",
    "                            .agg({\"show\":\"count\"})\n",
    "                            .reset_index()\n",
    "                            .rename(columns={\"show\":\"frequency\"}))\n",
    "\n",
    "hbo_years_range[\"normalize\"] = round(((hbo_years_range[\"frequency\"] / hbo_years_range[\"frequency\"].sum()) * 100)\n",
    "                                         , 2)\n",
    "\n",
    "hbo_years_range[\"streaming_service\"] = \"HBO\"\n",
    "\n",
    "hbo_years_range.head()"
   ]
  },
  {
   "cell_type": "markdown",
   "metadata": {},
   "source": [
    "#### ii. Combine data frames\n"
   ]
  },
  {
   "cell_type": "code",
   "execution_count": 35,
   "metadata": {},
   "outputs": [
    {
     "data": {
      "text/html": [
       "<div>\n",
       "<style scoped>\n",
       "    .dataframe tbody tr th:only-of-type {\n",
       "        vertical-align: middle;\n",
       "    }\n",
       "\n",
       "    .dataframe tbody tr th {\n",
       "        vertical-align: top;\n",
       "    }\n",
       "\n",
       "    .dataframe thead th {\n",
       "        text-align: right;\n",
       "    }\n",
       "</style>\n",
       "<table border=\"1\" class=\"dataframe\">\n",
       "  <thead>\n",
       "    <tr style=\"text-align: right;\">\n",
       "      <th></th>\n",
       "      <th>year_range</th>\n",
       "      <th>frequency</th>\n",
       "      <th>normalize</th>\n",
       "      <th>streaming_service</th>\n",
       "    </tr>\n",
       "  </thead>\n",
       "  <tbody>\n",
       "    <tr>\n",
       "      <th>0</th>\n",
       "      <td>(1945, 1950]</td>\n",
       "      <td>0</td>\n",
       "      <td>0.00</td>\n",
       "      <td>Netflix</td>\n",
       "    </tr>\n",
       "    <tr>\n",
       "      <th>1</th>\n",
       "      <td>(1950, 1955]</td>\n",
       "      <td>0</td>\n",
       "      <td>0.00</td>\n",
       "      <td>Netflix</td>\n",
       "    </tr>\n",
       "    <tr>\n",
       "      <th>2</th>\n",
       "      <td>(1955, 1960]</td>\n",
       "      <td>2</td>\n",
       "      <td>0.12</td>\n",
       "      <td>Netflix</td>\n",
       "    </tr>\n",
       "    <tr>\n",
       "      <th>3</th>\n",
       "      <td>(1960, 1965]</td>\n",
       "      <td>1</td>\n",
       "      <td>0.06</td>\n",
       "      <td>Netflix</td>\n",
       "    </tr>\n",
       "    <tr>\n",
       "      <th>4</th>\n",
       "      <td>(1965, 1970]</td>\n",
       "      <td>3</td>\n",
       "      <td>0.18</td>\n",
       "      <td>Netflix</td>\n",
       "    </tr>\n",
       "    <tr>\n",
       "      <th>5</th>\n",
       "      <td>(1970, 1975]</td>\n",
       "      <td>1</td>\n",
       "      <td>0.06</td>\n",
       "      <td>Netflix</td>\n",
       "    </tr>\n",
       "    <tr>\n",
       "      <th>6</th>\n",
       "      <td>(1975, 1980]</td>\n",
       "      <td>0</td>\n",
       "      <td>0.00</td>\n",
       "      <td>Netflix</td>\n",
       "    </tr>\n",
       "    <tr>\n",
       "      <th>7</th>\n",
       "      <td>(1980, 1985]</td>\n",
       "      <td>6</td>\n",
       "      <td>0.37</td>\n",
       "      <td>Netflix</td>\n",
       "    </tr>\n",
       "    <tr>\n",
       "      <th>8</th>\n",
       "      <td>(1985, 1990]</td>\n",
       "      <td>11</td>\n",
       "      <td>0.67</td>\n",
       "      <td>Netflix</td>\n",
       "    </tr>\n",
       "    <tr>\n",
       "      <th>9</th>\n",
       "      <td>(1990, 1995]</td>\n",
       "      <td>11</td>\n",
       "      <td>0.67</td>\n",
       "      <td>Netflix</td>\n",
       "    </tr>\n",
       "    <tr>\n",
       "      <th>10</th>\n",
       "      <td>(1995, 2000]</td>\n",
       "      <td>21</td>\n",
       "      <td>1.28</td>\n",
       "      <td>Netflix</td>\n",
       "    </tr>\n",
       "    <tr>\n",
       "      <th>11</th>\n",
       "      <td>(2000, 2005]</td>\n",
       "      <td>43</td>\n",
       "      <td>2.63</td>\n",
       "      <td>Netflix</td>\n",
       "    </tr>\n",
       "    <tr>\n",
       "      <th>12</th>\n",
       "      <td>(2005, 2010]</td>\n",
       "      <td>139</td>\n",
       "      <td>8.49</td>\n",
       "      <td>Netflix</td>\n",
       "    </tr>\n",
       "    <tr>\n",
       "      <th>13</th>\n",
       "      <td>(2010, 2015]</td>\n",
       "      <td>473</td>\n",
       "      <td>28.89</td>\n",
       "      <td>Netflix</td>\n",
       "    </tr>\n",
       "    <tr>\n",
       "      <th>14</th>\n",
       "      <td>(2015, 2020]</td>\n",
       "      <td>926</td>\n",
       "      <td>56.57</td>\n",
       "      <td>Netflix</td>\n",
       "    </tr>\n",
       "    <tr>\n",
       "      <th>15</th>\n",
       "      <td>(1945, 1950]</td>\n",
       "      <td>2</td>\n",
       "      <td>0.16</td>\n",
       "      <td>Amazon</td>\n",
       "    </tr>\n",
       "    <tr>\n",
       "      <th>16</th>\n",
       "      <td>(1950, 1955]</td>\n",
       "      <td>10</td>\n",
       "      <td>0.78</td>\n",
       "      <td>Amazon</td>\n",
       "    </tr>\n",
       "    <tr>\n",
       "      <th>17</th>\n",
       "      <td>(1955, 1960]</td>\n",
       "      <td>18</td>\n",
       "      <td>1.40</td>\n",
       "      <td>Amazon</td>\n",
       "    </tr>\n",
       "    <tr>\n",
       "      <th>18</th>\n",
       "      <td>(1960, 1965]</td>\n",
       "      <td>11</td>\n",
       "      <td>0.85</td>\n",
       "      <td>Amazon</td>\n",
       "    </tr>\n",
       "    <tr>\n",
       "      <th>19</th>\n",
       "      <td>(1965, 1970]</td>\n",
       "      <td>14</td>\n",
       "      <td>1.09</td>\n",
       "      <td>Amazon</td>\n",
       "    </tr>\n",
       "    <tr>\n",
       "      <th>20</th>\n",
       "      <td>(1970, 1975]</td>\n",
       "      <td>6</td>\n",
       "      <td>0.47</td>\n",
       "      <td>Amazon</td>\n",
       "    </tr>\n",
       "    <tr>\n",
       "      <th>21</th>\n",
       "      <td>(1975, 1980]</td>\n",
       "      <td>12</td>\n",
       "      <td>0.93</td>\n",
       "      <td>Amazon</td>\n",
       "    </tr>\n",
       "    <tr>\n",
       "      <th>22</th>\n",
       "      <td>(1980, 1985]</td>\n",
       "      <td>24</td>\n",
       "      <td>1.86</td>\n",
       "      <td>Amazon</td>\n",
       "    </tr>\n",
       "    <tr>\n",
       "      <th>23</th>\n",
       "      <td>(1985, 1990]</td>\n",
       "      <td>27</td>\n",
       "      <td>2.09</td>\n",
       "      <td>Amazon</td>\n",
       "    </tr>\n",
       "    <tr>\n",
       "      <th>24</th>\n",
       "      <td>(1990, 1995]</td>\n",
       "      <td>44</td>\n",
       "      <td>3.41</td>\n",
       "      <td>Amazon</td>\n",
       "    </tr>\n",
       "    <tr>\n",
       "      <th>25</th>\n",
       "      <td>(1995, 2000]</td>\n",
       "      <td>69</td>\n",
       "      <td>5.35</td>\n",
       "      <td>Amazon</td>\n",
       "    </tr>\n",
       "    <tr>\n",
       "      <th>26</th>\n",
       "      <td>(2000, 2005]</td>\n",
       "      <td>118</td>\n",
       "      <td>9.15</td>\n",
       "      <td>Amazon</td>\n",
       "    </tr>\n",
       "    <tr>\n",
       "      <th>27</th>\n",
       "      <td>(2005, 2010]</td>\n",
       "      <td>204</td>\n",
       "      <td>15.81</td>\n",
       "      <td>Amazon</td>\n",
       "    </tr>\n",
       "    <tr>\n",
       "      <th>28</th>\n",
       "      <td>(2010, 2015]</td>\n",
       "      <td>374</td>\n",
       "      <td>28.99</td>\n",
       "      <td>Amazon</td>\n",
       "    </tr>\n",
       "    <tr>\n",
       "      <th>29</th>\n",
       "      <td>(2015, 2020]</td>\n",
       "      <td>357</td>\n",
       "      <td>27.67</td>\n",
       "      <td>Amazon</td>\n",
       "    </tr>\n",
       "    <tr>\n",
       "      <th>30</th>\n",
       "      <td>(1945, 1950]</td>\n",
       "      <td>0</td>\n",
       "      <td>0.00</td>\n",
       "      <td>HBO</td>\n",
       "    </tr>\n",
       "    <tr>\n",
       "      <th>31</th>\n",
       "      <td>(1950, 1955]</td>\n",
       "      <td>0</td>\n",
       "      <td>0.00</td>\n",
       "      <td>HBO</td>\n",
       "    </tr>\n",
       "    <tr>\n",
       "      <th>32</th>\n",
       "      <td>(1955, 1960]</td>\n",
       "      <td>0</td>\n",
       "      <td>0.00</td>\n",
       "      <td>HBO</td>\n",
       "    </tr>\n",
       "    <tr>\n",
       "      <th>33</th>\n",
       "      <td>(1960, 1965]</td>\n",
       "      <td>0</td>\n",
       "      <td>0.00</td>\n",
       "      <td>HBO</td>\n",
       "    </tr>\n",
       "    <tr>\n",
       "      <th>34</th>\n",
       "      <td>(1965, 1970]</td>\n",
       "      <td>1</td>\n",
       "      <td>0.58</td>\n",
       "      <td>HBO</td>\n",
       "    </tr>\n",
       "    <tr>\n",
       "      <th>35</th>\n",
       "      <td>(1970, 1975]</td>\n",
       "      <td>1</td>\n",
       "      <td>0.58</td>\n",
       "      <td>HBO</td>\n",
       "    </tr>\n",
       "    <tr>\n",
       "      <th>36</th>\n",
       "      <td>(1975, 1980]</td>\n",
       "      <td>0</td>\n",
       "      <td>0.00</td>\n",
       "      <td>HBO</td>\n",
       "    </tr>\n",
       "    <tr>\n",
       "      <th>37</th>\n",
       "      <td>(1980, 1985]</td>\n",
       "      <td>1</td>\n",
       "      <td>0.58</td>\n",
       "      <td>HBO</td>\n",
       "    </tr>\n",
       "    <tr>\n",
       "      <th>38</th>\n",
       "      <td>(1985, 1990]</td>\n",
       "      <td>2</td>\n",
       "      <td>1.16</td>\n",
       "      <td>HBO</td>\n",
       "    </tr>\n",
       "    <tr>\n",
       "      <th>39</th>\n",
       "      <td>(1990, 1995]</td>\n",
       "      <td>6</td>\n",
       "      <td>3.49</td>\n",
       "      <td>HBO</td>\n",
       "    </tr>\n",
       "    <tr>\n",
       "      <th>40</th>\n",
       "      <td>(1995, 2000]</td>\n",
       "      <td>8</td>\n",
       "      <td>4.65</td>\n",
       "      <td>HBO</td>\n",
       "    </tr>\n",
       "    <tr>\n",
       "      <th>41</th>\n",
       "      <td>(2000, 2005]</td>\n",
       "      <td>17</td>\n",
       "      <td>9.88</td>\n",
       "      <td>HBO</td>\n",
       "    </tr>\n",
       "    <tr>\n",
       "      <th>42</th>\n",
       "      <td>(2005, 2010]</td>\n",
       "      <td>25</td>\n",
       "      <td>14.53</td>\n",
       "      <td>HBO</td>\n",
       "    </tr>\n",
       "    <tr>\n",
       "      <th>43</th>\n",
       "      <td>(2010, 2015]</td>\n",
       "      <td>41</td>\n",
       "      <td>23.84</td>\n",
       "      <td>HBO</td>\n",
       "    </tr>\n",
       "    <tr>\n",
       "      <th>44</th>\n",
       "      <td>(2015, 2020]</td>\n",
       "      <td>70</td>\n",
       "      <td>40.70</td>\n",
       "      <td>HBO</td>\n",
       "    </tr>\n",
       "  </tbody>\n",
       "</table>\n",
       "</div>"
      ],
      "text/plain": [
       "      year_range  frequency  normalize streaming_service\n",
       "0   (1945, 1950]          0       0.00           Netflix\n",
       "1   (1950, 1955]          0       0.00           Netflix\n",
       "2   (1955, 1960]          2       0.12           Netflix\n",
       "3   (1960, 1965]          1       0.06           Netflix\n",
       "4   (1965, 1970]          3       0.18           Netflix\n",
       "5   (1970, 1975]          1       0.06           Netflix\n",
       "6   (1975, 1980]          0       0.00           Netflix\n",
       "7   (1980, 1985]          6       0.37           Netflix\n",
       "8   (1985, 1990]         11       0.67           Netflix\n",
       "9   (1990, 1995]         11       0.67           Netflix\n",
       "10  (1995, 2000]         21       1.28           Netflix\n",
       "11  (2000, 2005]         43       2.63           Netflix\n",
       "12  (2005, 2010]        139       8.49           Netflix\n",
       "13  (2010, 2015]        473      28.89           Netflix\n",
       "14  (2015, 2020]        926      56.57           Netflix\n",
       "15  (1945, 1950]          2       0.16            Amazon\n",
       "16  (1950, 1955]         10       0.78            Amazon\n",
       "17  (1955, 1960]         18       1.40            Amazon\n",
       "18  (1960, 1965]         11       0.85            Amazon\n",
       "19  (1965, 1970]         14       1.09            Amazon\n",
       "20  (1970, 1975]          6       0.47            Amazon\n",
       "21  (1975, 1980]         12       0.93            Amazon\n",
       "22  (1980, 1985]         24       1.86            Amazon\n",
       "23  (1985, 1990]         27       2.09            Amazon\n",
       "24  (1990, 1995]         44       3.41            Amazon\n",
       "25  (1995, 2000]         69       5.35            Amazon\n",
       "26  (2000, 2005]        118       9.15            Amazon\n",
       "27  (2005, 2010]        204      15.81            Amazon\n",
       "28  (2010, 2015]        374      28.99            Amazon\n",
       "29  (2015, 2020]        357      27.67            Amazon\n",
       "30  (1945, 1950]          0       0.00               HBO\n",
       "31  (1950, 1955]          0       0.00               HBO\n",
       "32  (1955, 1960]          0       0.00               HBO\n",
       "33  (1960, 1965]          0       0.00               HBO\n",
       "34  (1965, 1970]          1       0.58               HBO\n",
       "35  (1970, 1975]          1       0.58               HBO\n",
       "36  (1975, 1980]          0       0.00               HBO\n",
       "37  (1980, 1985]          1       0.58               HBO\n",
       "38  (1985, 1990]          2       1.16               HBO\n",
       "39  (1990, 1995]          6       3.49               HBO\n",
       "40  (1995, 2000]          8       4.65               HBO\n",
       "41  (2000, 2005]         17       9.88               HBO\n",
       "42  (2005, 2010]         25      14.53               HBO\n",
       "43  (2010, 2015]         41      23.84               HBO\n",
       "44  (2015, 2020]         70      40.70               HBO"
      ]
     },
     "execution_count": 35,
     "metadata": {},
     "output_type": "execute_result"
    }
   ],
   "source": [
    "years_range = netflix_years_range.append(amazon_years_range).append(hbo_years_range).reset_index(drop=True)\n",
    "\n",
    "years_range"
   ]
  },
  {
   "cell_type": "markdown",
   "metadata": {},
   "source": [
    "#### iii. Plotting"
   ]
  },
  {
   "cell_type": "code",
   "execution_count": 36,
   "metadata": {},
   "outputs": [
    {
     "data": {
      "image/png": "[encoded data removed]",
      "text/plain": [
       "<Figure size 720x432 with 1 Axes>"
      ]
     },
     "metadata": {
      "needs_background": "light"
     },
     "output_type": "display_data"
    }
   ],
   "source": [
    "fig, ax = plt.subplots(figsize=(10,6))\n",
    "\n",
    "sns.barplot(x=years_range[\"year_range\"]\n",
    "            , y=years_range[\"normalize\"]\n",
    "            , hue=years_range[\"streaming_service\"]\n",
    "            , palette=\"Blues\"\n",
    "           , ci=None)\n",
    "\n",
    "ax.set_xlabel(\"Year\")\n",
    "ax.set_ylabel(\"Percentage\")\n",
    "ax.set_title(\"TV Shows' Release Years Bar Plot\")\n",
    "\n",
    "labels = [i for i in range(1945,2020, 5)]\n",
    "ax.set_xticklabels(labels)\n",
    "\n",
    "plt.legend(title=\"Streaming Service\");"
   ]
  },
  {
   "cell_type": "markdown",
   "metadata": {},
   "source": [
    "- From the bar plot above we can see that Netflix has newer TV shows, with release dates ranging from 2015 to 2020, followed by HBO and then Amazon.\n",
    "\n",
    "- Amazon and HBO seem to have similar amount of tv shows for the reset of the years.\n",
    "\n",
    "- Amazon has the greatest quantity of older tv shows."
   ]
  },
  {
   "cell_type": "code",
   "execution_count": null,
   "metadata": {},
   "outputs": [],
   "source": []
  }
 ],
 "metadata": {
  "kernelspec": {
   "display_name": "Python 3",
   "language": "python",
   "name": "python3"
  },
  "language_info": {
   "codemirror_mode": {
    "name": "ipython",
    "version": 3
   },
   "file_extension": ".py",
   "mimetype": "text/x-python",
   "name": "python",
   "nbconvert_exporter": "python",
   "pygments_lexer": "ipython3",
   "version": "3.7.6"
  }
 },
 "nbformat": 4,
 "nbformat_minor": 4
}
