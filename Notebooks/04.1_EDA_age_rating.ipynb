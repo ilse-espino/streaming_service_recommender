{
 "cells": [
  {
   "cell_type": "code",
   "execution_count": 1,
   "metadata": {},
   "outputs": [],
   "source": [
    "import pandas as pd\n",
    "import numpy as np\n",
    "import matplotlib.pyplot as plt\n",
    "import seaborn as sns\n",
    "%matplotlib inline\n",
    "\n",
    "pd.set_option(\"display.max_columns\", None)"
   ]
  },
  {
   "cell_type": "markdown",
   "metadata": {},
   "source": [
    "## EDA Age Rating\n",
    "\n",
    "#### Goals\n",
    "\n",
    "- Get descriptive statistics for age ratings for each streaming service.\n",
    "\n",
    "- Plot data.\n",
    "\n",
    "- Compare findings.\n",
    "\n",
    "-----\n",
    "\n",
    "### 1. Netflix\n",
    "#### i. Import data"
   ]
  },
  {
   "cell_type": "code",
   "execution_count": 2,
   "metadata": {},
   "outputs": [],
   "source": [
    "netflix = pd.read_pickle(\"../Data/netflix_final_clean.pkl\")"
   ]
  },
  {
   "cell_type": "code",
   "execution_count": 3,
   "metadata": {},
   "outputs": [
    {
     "data": {
      "text/html": [
       "<div>\n",
       "<style scoped>\n",
       "    .dataframe tbody tr th:only-of-type {\n",
       "        vertical-align: middle;\n",
       "    }\n",
       "\n",
       "    .dataframe tbody tr th {\n",
       "        vertical-align: top;\n",
       "    }\n",
       "\n",
       "    .dataframe thead th {\n",
       "        text-align: right;\n",
       "    }\n",
       "</style>\n",
       "<table border=\"1\" class=\"dataframe\">\n",
       "  <thead>\n",
       "    <tr style=\"text-align: right;\">\n",
       "      <th></th>\n",
       "      <th>show</th>\n",
       "      <th>year</th>\n",
       "      <th>age</th>\n",
       "      <th>imdb_rating</th>\n",
       "      <th>imdb_id</th>\n",
       "      <th>titleType</th>\n",
       "      <th>primaryTitle</th>\n",
       "      <th>originalTitle</th>\n",
       "      <th>startYear</th>\n",
       "      <th>endYear</th>\n",
       "      <th>runtimeMinutes</th>\n",
       "      <th>genres</th>\n",
       "    </tr>\n",
       "  </thead>\n",
       "  <tbody>\n",
       "    <tr>\n",
       "      <th>0</th>\n",
       "      <td>Breaking Bad</td>\n",
       "      <td>2008</td>\n",
       "      <td>18.0</td>\n",
       "      <td>9.5</td>\n",
       "      <td>tt0903747</td>\n",
       "      <td>tvSeries</td>\n",
       "      <td>Breaking Bad</td>\n",
       "      <td>Breaking Bad</td>\n",
       "      <td>2008.0</td>\n",
       "      <td>2008.0</td>\n",
       "      <td>49.0</td>\n",
       "      <td>Crime,Drama,Thriller</td>\n",
       "    </tr>\n",
       "    <tr>\n",
       "      <th>1</th>\n",
       "      <td>Stranger Things</td>\n",
       "      <td>2016</td>\n",
       "      <td>16.0</td>\n",
       "      <td>8.8</td>\n",
       "      <td>tt4574334</td>\n",
       "      <td>tvSeries</td>\n",
       "      <td>Stranger Things</td>\n",
       "      <td>Stranger Things</td>\n",
       "      <td>2016.0</td>\n",
       "      <td>2016.0</td>\n",
       "      <td>51.0</td>\n",
       "      <td>Drama,Fantasy,Horror</td>\n",
       "    </tr>\n",
       "    <tr>\n",
       "      <th>2</th>\n",
       "      <td>Sherlock</td>\n",
       "      <td>2010</td>\n",
       "      <td>16.0</td>\n",
       "      <td>9.1</td>\n",
       "      <td>tt1475582</td>\n",
       "      <td>tvSeries</td>\n",
       "      <td>Sherlock</td>\n",
       "      <td>Sherlock</td>\n",
       "      <td>2010.0</td>\n",
       "      <td>2010.0</td>\n",
       "      <td>88.0</td>\n",
       "      <td>Crime,Drama,Mystery</td>\n",
       "    </tr>\n",
       "    <tr>\n",
       "      <th>3</th>\n",
       "      <td>Better Call Saul</td>\n",
       "      <td>2015</td>\n",
       "      <td>18.0</td>\n",
       "      <td>8.7</td>\n",
       "      <td>tt3032476</td>\n",
       "      <td>tvSeries</td>\n",
       "      <td>Better Call Saul</td>\n",
       "      <td>Better Call Saul</td>\n",
       "      <td>2015.0</td>\n",
       "      <td>2015.0</td>\n",
       "      <td>46.0</td>\n",
       "      <td>Crime,Drama</td>\n",
       "    </tr>\n",
       "    <tr>\n",
       "      <th>4</th>\n",
       "      <td>The Office</td>\n",
       "      <td>2005</td>\n",
       "      <td>16.0</td>\n",
       "      <td>8.9</td>\n",
       "      <td>tt0386676</td>\n",
       "      <td>tvSeries</td>\n",
       "      <td>The Office</td>\n",
       "      <td>The Office</td>\n",
       "      <td>2005.0</td>\n",
       "      <td>2005.0</td>\n",
       "      <td>22.0</td>\n",
       "      <td>Comedy</td>\n",
       "    </tr>\n",
       "  </tbody>\n",
       "</table>\n",
       "</div>"
      ],
      "text/plain": [
       "               show  year   age  imdb_rating    imdb_id titleType  \\\n",
       "0      Breaking Bad  2008  18.0          9.5  tt0903747  tvSeries   \n",
       "1   Stranger Things  2016  16.0          8.8  tt4574334  tvSeries   \n",
       "2          Sherlock  2010  16.0          9.1  tt1475582  tvSeries   \n",
       "3  Better Call Saul  2015  18.0          8.7  tt3032476  tvSeries   \n",
       "4        The Office  2005  16.0          8.9  tt0386676  tvSeries   \n",
       "\n",
       "       primaryTitle     originalTitle  startYear  endYear  runtimeMinutes  \\\n",
       "0      Breaking Bad      Breaking Bad     2008.0   2008.0            49.0   \n",
       "1   Stranger Things   Stranger Things     2016.0   2016.0            51.0   \n",
       "2          Sherlock          Sherlock     2010.0   2010.0            88.0   \n",
       "3  Better Call Saul  Better Call Saul     2015.0   2015.0            46.0   \n",
       "4        The Office        The Office     2005.0   2005.0            22.0   \n",
       "\n",
       "                 genres  \n",
       "0  Crime,Drama,Thriller  \n",
       "1  Drama,Fantasy,Horror  \n",
       "2   Crime,Drama,Mystery  \n",
       "3           Crime,Drama  \n",
       "4                Comedy  "
      ]
     },
     "execution_count": 3,
     "metadata": {},
     "output_type": "execute_result"
    }
   ],
   "source": [
    "netflix.head()"
   ]
  },
  {
   "cell_type": "code",
   "execution_count": 4,
   "metadata": {},
   "outputs": [
    {
     "data": {
      "text/plain": [
       "529"
      ]
     },
     "execution_count": 4,
     "metadata": {},
     "output_type": "execute_result"
    }
   ],
   "source": [
    "netflix[\"age\"].isna().sum()"
   ]
  },
  {
   "cell_type": "code",
   "execution_count": 5,
   "metadata": {},
   "outputs": [
    {
     "data": {
      "text/plain": [
       "0.6768478924862553"
      ]
     },
     "execution_count": 5,
     "metadata": {},
     "output_type": "execute_result"
    }
   ],
   "source": [
    "1 - (netflix[\"age\"].isna().sum() / len(netflix))"
   ]
  },
  {
   "cell_type": "markdown",
   "metadata": {},
   "source": [
    "**NOTE : We have 634 null values for the ratings column, meaning that we are using just 67% of the values for this analysis.**"
   ]
  },
  {
   "cell_type": "code",
   "execution_count": 6,
   "metadata": {},
   "outputs": [],
   "source": [
    "netflix = netflix[~netflix[\"age\"].isna()]"
   ]
  },
  {
   "cell_type": "markdown",
   "metadata": {},
   "source": [
    "#### ii. Descriptive statistics"
   ]
  },
  {
   "cell_type": "code",
   "execution_count": 7,
   "metadata": {},
   "outputs": [
    {
     "data": {
      "text/plain": [
       "count    1108.000000\n",
       "mean       12.472022\n",
       "std         6.318563\n",
       "min         0.000000\n",
       "25%         7.000000\n",
       "50%        16.000000\n",
       "75%        18.000000\n",
       "max        18.000000\n",
       "Name: age, dtype: float64"
      ]
     },
     "execution_count": 7,
     "metadata": {},
     "output_type": "execute_result"
    }
   ],
   "source": [
    "netflix[\"age\"].describe()"
   ]
  },
  {
   "cell_type": "markdown",
   "metadata": {},
   "source": [
    "From the descriptive statistics we can see the following:\n",
    "\n",
    "- One quarter of the tv shows are for 7 years or younger.\n",
    "- One quarter of the tv shows are for 18 years or older.\n",
    "- Half the tv shows are for 16 years or older.\n"
   ]
  },
  {
   "cell_type": "markdown",
   "metadata": {},
   "source": [
    "#### iii. Plotting"
   ]
  },
  {
   "cell_type": "code",
   "execution_count": 8,
   "metadata": {},
   "outputs": [
    {
     "data": {
      "image/png": "[encoded data removed]",
      "text/plain": [
       "<Figure size 720x432 with 1 Axes>"
      ]
     },
     "metadata": {
      "needs_background": "light"
     },
     "output_type": "display_data"
    }
   ],
   "source": [
    "fig, ax = plt.subplots(figsize=(10,6))\n",
    "\n",
    "sns.boxplot(netflix[\"age\"])\n",
    "ax.set_title(\"Netflix Age Ratings Boxplot\")\n",
    "ax.set_xlabel(\"Age\");"
   ]
  },
  {
   "cell_type": "markdown",
   "metadata": {},
   "source": [
    "From the box plot we can clearly see how most of the tv shows are distributed from 7 years or older to 16 years or older. Just 25% of the tv shows are for 18 or older.\n",
    "\n",
    "We will create a new column specifying the audience:\n",
    "\n",
    "- 0-12 years: Children\n",
    "- 13-16 years: Teen\n",
    "- 18 years: Adult"
   ]
  },
  {
   "cell_type": "code",
   "execution_count": 9,
   "metadata": {},
   "outputs": [],
   "source": [
    "netflix[\"audience\"] = np.where(netflix[\"age\"] <= 12, \"Children\", np.where(netflix[\"age\"] < 18, \"Teen\", \"Adult\"))"
   ]
  },
  {
   "cell_type": "code",
   "execution_count": 10,
   "metadata": {},
   "outputs": [
    {
     "data": {
      "image/png": "[encoded data removed]",
      "text/plain": [
       "<Figure size 720x432 with 1 Axes>"
      ]
     },
     "metadata": {
      "needs_background": "light"
     },
     "output_type": "display_data"
    }
   ],
   "source": [
    "fig, ax = plt.subplots(figsize=(10,6))\n",
    "\n",
    "plt.hist(netflix[\"audience\"])\n",
    "ax.set_title(\"Netflix Age Ratings Histogram\")\n",
    "ax.set_xlabel(\"Audience\")\n",
    "ax.set_ylabel(\"Frequency\");"
   ]
  },
  {
   "cell_type": "markdown",
   "metadata": {},
   "source": [
    "From the histogram above, we can see a almost equal disribution for all audiences, having children as most frequent, afterwards Teen and lastly Adult."
   ]
  },
  {
   "cell_type": "markdown",
   "metadata": {},
   "source": [
    "-----\n",
    "\n",
    "### 2. Amazon\n",
    "#### i. Import data"
   ]
  },
  {
   "cell_type": "code",
   "execution_count": 11,
   "metadata": {},
   "outputs": [],
   "source": [
    "amazon = pd.read_pickle(\"../Data/amazon_final_clean.pkl\")"
   ]
  },
  {
   "cell_type": "code",
   "execution_count": 12,
   "metadata": {},
   "outputs": [
    {
     "data": {
      "text/html": [
       "<div>\n",
       "<style scoped>\n",
       "    .dataframe tbody tr th:only-of-type {\n",
       "        vertical-align: middle;\n",
       "    }\n",
       "\n",
       "    .dataframe tbody tr th {\n",
       "        vertical-align: top;\n",
       "    }\n",
       "\n",
       "    .dataframe thead th {\n",
       "        text-align: right;\n",
       "    }\n",
       "</style>\n",
       "<table border=\"1\" class=\"dataframe\">\n",
       "  <thead>\n",
       "    <tr style=\"text-align: right;\">\n",
       "      <th></th>\n",
       "      <th>show</th>\n",
       "      <th>year</th>\n",
       "      <th>age</th>\n",
       "      <th>imdb_rating</th>\n",
       "      <th>imdb_id</th>\n",
       "      <th>titleType</th>\n",
       "      <th>primaryTitle</th>\n",
       "      <th>originalTitle</th>\n",
       "      <th>startYear</th>\n",
       "      <th>endYear</th>\n",
       "      <th>runtimeMinutes</th>\n",
       "      <th>genres</th>\n",
       "    </tr>\n",
       "  </thead>\n",
       "  <tbody>\n",
       "    <tr>\n",
       "      <th>0</th>\n",
       "      <td>The Wire</td>\n",
       "      <td>2002</td>\n",
       "      <td>18.0</td>\n",
       "      <td>9.3</td>\n",
       "      <td>tt0306414</td>\n",
       "      <td>tvSeries</td>\n",
       "      <td>The Wire</td>\n",
       "      <td>The Wire</td>\n",
       "      <td>2002.0</td>\n",
       "      <td>2002.0</td>\n",
       "      <td>59.0</td>\n",
       "      <td>Crime,Drama,Thriller</td>\n",
       "    </tr>\n",
       "    <tr>\n",
       "      <th>1</th>\n",
       "      <td>The Sopranos</td>\n",
       "      <td>1999</td>\n",
       "      <td>18.0</td>\n",
       "      <td>9.2</td>\n",
       "      <td>tt0141842</td>\n",
       "      <td>tvSeries</td>\n",
       "      <td>The Sopranos</td>\n",
       "      <td>The Sopranos</td>\n",
       "      <td>1999.0</td>\n",
       "      <td>1999.0</td>\n",
       "      <td>55.0</td>\n",
       "      <td>Crime,Drama</td>\n",
       "    </tr>\n",
       "    <tr>\n",
       "      <th>2</th>\n",
       "      <td>Band of Brothers</td>\n",
       "      <td>2001</td>\n",
       "      <td>18.0</td>\n",
       "      <td>9.4</td>\n",
       "      <td>tt0185906</td>\n",
       "      <td>tvMiniSeries</td>\n",
       "      <td>Band of Brothers</td>\n",
       "      <td>Band of Brothers</td>\n",
       "      <td>2001.0</td>\n",
       "      <td>2001.0</td>\n",
       "      <td>594.0</td>\n",
       "      <td>Action,Drama,History</td>\n",
       "    </tr>\n",
       "    <tr>\n",
       "      <th>3</th>\n",
       "      <td>Vikings</td>\n",
       "      <td>2013</td>\n",
       "      <td>18.0</td>\n",
       "      <td>8.6</td>\n",
       "      <td>tt2306299</td>\n",
       "      <td>tvSeries</td>\n",
       "      <td>Vikings</td>\n",
       "      <td>Vikings</td>\n",
       "      <td>2013.0</td>\n",
       "      <td>2013.0</td>\n",
       "      <td>44.0</td>\n",
       "      <td>Action,Adventure,Drama</td>\n",
       "    </tr>\n",
       "    <tr>\n",
       "      <th>4</th>\n",
       "      <td>Mr. Robot</td>\n",
       "      <td>2015</td>\n",
       "      <td>18.0</td>\n",
       "      <td>8.5</td>\n",
       "      <td>tt4158110</td>\n",
       "      <td>tvSeries</td>\n",
       "      <td>Mr. Robot</td>\n",
       "      <td>Mr. Robot</td>\n",
       "      <td>2015.0</td>\n",
       "      <td>2015.0</td>\n",
       "      <td>49.0</td>\n",
       "      <td>Crime,Drama,Thriller</td>\n",
       "    </tr>\n",
       "  </tbody>\n",
       "</table>\n",
       "</div>"
      ],
      "text/plain": [
       "               show  year   age  imdb_rating    imdb_id     titleType  \\\n",
       "0          The Wire  2002  18.0          9.3  tt0306414      tvSeries   \n",
       "1      The Sopranos  1999  18.0          9.2  tt0141842      tvSeries   \n",
       "2  Band of Brothers  2001  18.0          9.4  tt0185906  tvMiniSeries   \n",
       "3           Vikings  2013  18.0          8.6  tt2306299      tvSeries   \n",
       "4         Mr. Robot  2015  18.0          8.5  tt4158110      tvSeries   \n",
       "\n",
       "       primaryTitle     originalTitle  startYear  endYear  runtimeMinutes  \\\n",
       "0          The Wire          The Wire     2002.0   2002.0            59.0   \n",
       "1      The Sopranos      The Sopranos     1999.0   1999.0            55.0   \n",
       "2  Band of Brothers  Band of Brothers     2001.0   2001.0           594.0   \n",
       "3           Vikings           Vikings     2013.0   2013.0            44.0   \n",
       "4         Mr. Robot         Mr. Robot     2015.0   2015.0            49.0   \n",
       "\n",
       "                   genres  \n",
       "0    Crime,Drama,Thriller  \n",
       "1             Crime,Drama  \n",
       "2    Action,Drama,History  \n",
       "3  Action,Adventure,Drama  \n",
       "4    Crime,Drama,Thriller  "
      ]
     },
     "execution_count": 12,
     "metadata": {},
     "output_type": "execute_result"
    }
   ],
   "source": [
    "amazon.head()"
   ]
  },
  {
   "cell_type": "code",
   "execution_count": 13,
   "metadata": {},
   "outputs": [
    {
     "data": {
      "text/plain": [
       "610"
      ]
     },
     "execution_count": 13,
     "metadata": {},
     "output_type": "execute_result"
    }
   ],
   "source": [
    "amazon[\"age\"].isna().sum()"
   ]
  },
  {
   "cell_type": "code",
   "execution_count": 14,
   "metadata": {},
   "outputs": [
    {
     "data": {
      "text/plain": [
       "0.5271317829457365"
      ]
     },
     "execution_count": 14,
     "metadata": {},
     "output_type": "execute_result"
    }
   ],
   "source": [
    "1 - (amazon[\"age\"].isna().sum() / len(amazon))"
   ]
  },
  {
   "cell_type": "markdown",
   "metadata": {},
   "source": [
    "**NOTE : We have 846 null values for the ratings column, meaning that we are using just 52% of the values for this analysis.**"
   ]
  },
  {
   "cell_type": "code",
   "execution_count": 15,
   "metadata": {},
   "outputs": [],
   "source": [
    "amazon = amazon[~amazon[\"age\"].isna()]"
   ]
  },
  {
   "cell_type": "markdown",
   "metadata": {},
   "source": [
    "#### ii. Descriptive statistics"
   ]
  },
  {
   "cell_type": "code",
   "execution_count": 16,
   "metadata": {},
   "outputs": [
    {
     "data": {
      "text/plain": [
       "count    680.000000\n",
       "mean      10.605882\n",
       "std        6.949044\n",
       "min        0.000000\n",
       "25%        7.000000\n",
       "50%       16.000000\n",
       "75%       16.000000\n",
       "max       18.000000\n",
       "Name: age, dtype: float64"
      ]
     },
     "execution_count": 16,
     "metadata": {},
     "output_type": "execute_result"
    }
   ],
   "source": [
    "amazon[\"age\"].describe()"
   ]
  },
  {
   "cell_type": "markdown",
   "metadata": {},
   "source": [
    "From the descriptive statistics we can see the following:\n",
    "\n",
    "- One quarter of the tv shows are for 7 years or younger.\n",
    "- The median is of 16 years or older, meaning that at least 50% of the tv shows are for 16 years or older."
   ]
  },
  {
   "cell_type": "markdown",
   "metadata": {},
   "source": [
    "#### iii. Plotting"
   ]
  },
  {
   "cell_type": "code",
   "execution_count": 17,
   "metadata": {},
   "outputs": [
    {
     "data": {
      "image/png": "[encoded data removed]",
      "text/plain": [
       "<Figure size 720x432 with 1 Axes>"
      ]
     },
     "metadata": {
      "needs_background": "light"
     },
     "output_type": "display_data"
    }
   ],
   "source": [
    "fig, ax = plt.subplots(figsize=(10,6))\n",
    "\n",
    "sns.boxplot(amazon[\"age\"])\n",
    "ax.set_title(\"Amazon Age Ratings Boxplot\")\n",
    "ax.set_xlabel(\"Age\");"
   ]
  },
  {
   "cell_type": "markdown",
   "metadata": {},
   "source": [
    "From the box plot we can clearly see how most of the tv shows are distributed from 7 years or older to 16 years or older. Less than 25% of the tv shows are for 18 or older.\n",
    "\n",
    "We will create an audience column, as explained on Netflix."
   ]
  },
  {
   "cell_type": "code",
   "execution_count": 18,
   "metadata": {},
   "outputs": [],
   "source": [
    "amazon[\"audience\"] = np.where(amazon[\"age\"] <= 12, \"Children\", np.where(amazon[\"age\"] < 18, \"Teen\", \"Adult\"))"
   ]
  },
  {
   "cell_type": "code",
   "execution_count": 19,
   "metadata": {},
   "outputs": [
    {
     "data": {
      "image/png": "[encoded data removed]",
      "text/plain": [
       "<Figure size 720x432 with 1 Axes>"
      ]
     },
     "metadata": {
      "needs_background": "light"
     },
     "output_type": "display_data"
    }
   ],
   "source": [
    "fig, ax = plt.subplots(figsize=(10,6))\n",
    "\n",
    "plt.hist(amazon[\"audience\"])\n",
    "ax.set_title(\"Amazon Age Ratings Histogram\")\n",
    "ax.set_xlabel(\"Audience\")\n",
    "ax.set_ylabel(\"Frequency\");"
   ]
  },
  {
   "cell_type": "markdown",
   "metadata": {},
   "source": [
    "The histogram above shows amazon seems to have more tv shows for Children than for teen and adult. Teen and Adult seem to have almost the same distribution.\n",
    "\n",
    "-----\n",
    "\n",
    "### 3. HBO\n",
    "#### i. Import data"
   ]
  },
  {
   "cell_type": "code",
   "execution_count": 20,
   "metadata": {},
   "outputs": [],
   "source": [
    "hbo = pd.read_pickle(\"../Data/hbo_final_clean.pkl\")"
   ]
  },
  {
   "cell_type": "code",
   "execution_count": 21,
   "metadata": {},
   "outputs": [
    {
     "data": {
      "text/html": [
       "<div>\n",
       "<style scoped>\n",
       "    .dataframe tbody tr th:only-of-type {\n",
       "        vertical-align: middle;\n",
       "    }\n",
       "\n",
       "    .dataframe tbody tr th {\n",
       "        vertical-align: top;\n",
       "    }\n",
       "\n",
       "    .dataframe thead th {\n",
       "        text-align: right;\n",
       "    }\n",
       "</style>\n",
       "<table border=\"1\" class=\"dataframe\">\n",
       "  <thead>\n",
       "    <tr style=\"text-align: right;\">\n",
       "      <th></th>\n",
       "      <th>show</th>\n",
       "      <th>year</th>\n",
       "      <th>age</th>\n",
       "      <th>imdb_rating</th>\n",
       "      <th>imdb_id</th>\n",
       "      <th>tconst</th>\n",
       "      <th>titleType</th>\n",
       "      <th>primaryTitle</th>\n",
       "      <th>originalTitle</th>\n",
       "      <th>startYear</th>\n",
       "      <th>endYear</th>\n",
       "      <th>runtimeMinutes</th>\n",
       "      <th>genres</th>\n",
       "    </tr>\n",
       "  </thead>\n",
       "  <tbody>\n",
       "    <tr>\n",
       "      <th>0</th>\n",
       "      <td>Game of Thrones</td>\n",
       "      <td>2011</td>\n",
       "      <td>18.0</td>\n",
       "      <td>9.3</td>\n",
       "      <td>tt0944947</td>\n",
       "      <td>tt0944947</td>\n",
       "      <td>tvSeries</td>\n",
       "      <td>Game of Thrones</td>\n",
       "      <td>Game of Thrones</td>\n",
       "      <td>2011.0</td>\n",
       "      <td>2011.0</td>\n",
       "      <td>57.0</td>\n",
       "      <td>Action,Adventure,Drama</td>\n",
       "    </tr>\n",
       "    <tr>\n",
       "      <th>1</th>\n",
       "      <td>The Wire</td>\n",
       "      <td>2002</td>\n",
       "      <td>18.0</td>\n",
       "      <td>9.3</td>\n",
       "      <td>tt0306414</td>\n",
       "      <td>tt0306414</td>\n",
       "      <td>tvSeries</td>\n",
       "      <td>The Wire</td>\n",
       "      <td>The Wire</td>\n",
       "      <td>2002.0</td>\n",
       "      <td>2002.0</td>\n",
       "      <td>59.0</td>\n",
       "      <td>Crime,Drama,Thriller</td>\n",
       "    </tr>\n",
       "    <tr>\n",
       "      <th>2</th>\n",
       "      <td>Chernobyl</td>\n",
       "      <td>2019</td>\n",
       "      <td>18.0</td>\n",
       "      <td>9.4</td>\n",
       "      <td>tt7366338</td>\n",
       "      <td>tt7366338</td>\n",
       "      <td>tvMiniSeries</td>\n",
       "      <td>Chernobyl</td>\n",
       "      <td>Chernobyl</td>\n",
       "      <td>2019.0</td>\n",
       "      <td>2019.0</td>\n",
       "      <td>330.0</td>\n",
       "      <td>Drama,History,Thriller</td>\n",
       "    </tr>\n",
       "    <tr>\n",
       "      <th>3</th>\n",
       "      <td>The Sopranos</td>\n",
       "      <td>1999</td>\n",
       "      <td>18.0</td>\n",
       "      <td>9.2</td>\n",
       "      <td>tt0141842</td>\n",
       "      <td>tt0141842</td>\n",
       "      <td>tvSeries</td>\n",
       "      <td>The Sopranos</td>\n",
       "      <td>The Sopranos</td>\n",
       "      <td>1999.0</td>\n",
       "      <td>1999.0</td>\n",
       "      <td>55.0</td>\n",
       "      <td>Crime,Drama</td>\n",
       "    </tr>\n",
       "    <tr>\n",
       "      <th>4</th>\n",
       "      <td>Band of Brothers</td>\n",
       "      <td>2001</td>\n",
       "      <td>18.0</td>\n",
       "      <td>9.4</td>\n",
       "      <td>tt0185906</td>\n",
       "      <td>tt0185906</td>\n",
       "      <td>tvMiniSeries</td>\n",
       "      <td>Band of Brothers</td>\n",
       "      <td>Band of Brothers</td>\n",
       "      <td>2001.0</td>\n",
       "      <td>2001.0</td>\n",
       "      <td>594.0</td>\n",
       "      <td>Action,Drama,History</td>\n",
       "    </tr>\n",
       "  </tbody>\n",
       "</table>\n",
       "</div>"
      ],
      "text/plain": [
       "               show  year   age  imdb_rating    imdb_id     tconst  \\\n",
       "0   Game of Thrones  2011  18.0          9.3  tt0944947  tt0944947   \n",
       "1          The Wire  2002  18.0          9.3  tt0306414  tt0306414   \n",
       "2         Chernobyl  2019  18.0          9.4  tt7366338  tt7366338   \n",
       "3      The Sopranos  1999  18.0          9.2  tt0141842  tt0141842   \n",
       "4  Band of Brothers  2001  18.0          9.4  tt0185906  tt0185906   \n",
       "\n",
       "      titleType      primaryTitle     originalTitle  startYear  endYear  \\\n",
       "0      tvSeries   Game of Thrones   Game of Thrones     2011.0   2011.0   \n",
       "1      tvSeries          The Wire          The Wire     2002.0   2002.0   \n",
       "2  tvMiniSeries         Chernobyl         Chernobyl     2019.0   2019.0   \n",
       "3      tvSeries      The Sopranos      The Sopranos     1999.0   1999.0   \n",
       "4  tvMiniSeries  Band of Brothers  Band of Brothers     2001.0   2001.0   \n",
       "\n",
       "   runtimeMinutes                  genres  \n",
       "0            57.0  Action,Adventure,Drama  \n",
       "1            59.0    Crime,Drama,Thriller  \n",
       "2           330.0  Drama,History,Thriller  \n",
       "3            55.0             Crime,Drama  \n",
       "4           594.0    Action,Drama,History  "
      ]
     },
     "execution_count": 21,
     "metadata": {},
     "output_type": "execute_result"
    }
   ],
   "source": [
    "hbo.head()"
   ]
  },
  {
   "cell_type": "code",
   "execution_count": 22,
   "metadata": {},
   "outputs": [
    {
     "data": {
      "text/plain": [
       "30"
      ]
     },
     "execution_count": 22,
     "metadata": {},
     "output_type": "execute_result"
    }
   ],
   "source": [
    "hbo[\"age\"].isna().sum()"
   ]
  },
  {
   "cell_type": "code",
   "execution_count": 23,
   "metadata": {},
   "outputs": [
    {
     "data": {
      "text/plain": [
       "0.8255813953488372"
      ]
     },
     "execution_count": 23,
     "metadata": {},
     "output_type": "execute_result"
    }
   ],
   "source": [
    "1 - (hbo[\"age\"].isna().sum() / len(hbo))"
   ]
  },
  {
   "cell_type": "markdown",
   "metadata": {},
   "source": [
    "**NOTE : We have 33 null values for the ratings column, meaning that we are using just 82% of the values for this analysis.**"
   ]
  },
  {
   "cell_type": "code",
   "execution_count": 24,
   "metadata": {},
   "outputs": [],
   "source": [
    "hbo = hbo[~hbo[\"age\"].isna()]"
   ]
  },
  {
   "cell_type": "markdown",
   "metadata": {},
   "source": [
    "#### ii. Descriptive statistics"
   ]
  },
  {
   "cell_type": "code",
   "execution_count": 25,
   "metadata": {},
   "outputs": [
    {
     "data": {
      "text/plain": [
       "count    142.000000\n",
       "mean      16.225352\n",
       "std        4.577767\n",
       "min        0.000000\n",
       "25%       18.000000\n",
       "50%       18.000000\n",
       "75%       18.000000\n",
       "max       18.000000\n",
       "Name: age, dtype: float64"
      ]
     },
     "execution_count": 25,
     "metadata": {},
     "output_type": "execute_result"
    }
   ],
   "source": [
    "hbo[\"age\"].describe()"
   ]
  },
  {
   "cell_type": "markdown",
   "metadata": {},
   "source": [
    "From the descriptive statistics we can see the following:\n",
    "\n",
    "- 75% of the tv shows are for 18 years or older.\n",
    "- Less than 25% of the tv shows are for teens or children."
   ]
  },
  {
   "cell_type": "markdown",
   "metadata": {},
   "source": [
    "#### iii. Plotting"
   ]
  },
  {
   "cell_type": "code",
   "execution_count": 26,
   "metadata": {},
   "outputs": [
    {
     "data": {
      "image/png": "[encoded data removed]",
      "text/plain": [
       "<Figure size 720x432 with 1 Axes>"
      ]
     },
     "metadata": {
      "needs_background": "light"
     },
     "output_type": "display_data"
    }
   ],
   "source": [
    "fig, ax = plt.subplots(figsize=(10,6))\n",
    "\n",
    "sns.boxplot(hbo[\"age\"])\n",
    "ax.set_title(\"HBO Age Ratings Boxplot\")\n",
    "ax.set_xlabel(\"Age\");"
   ]
  },
  {
   "cell_type": "markdown",
   "metadata": {},
   "source": [
    "Since most of the data is for 18 years or older, we will reduce the x axis."
   ]
  },
  {
   "cell_type": "code",
   "execution_count": 27,
   "metadata": {},
   "outputs": [
    {
     "data": {
      "image/png": "[encoded data removed]",
      "text/plain": [
       "<Figure size 720x432 with 1 Axes>"
      ]
     },
     "metadata": {
      "needs_background": "light"
     },
     "output_type": "display_data"
    }
   ],
   "source": [
    "fig, ax = plt.subplots(figsize=(10,6))\n",
    "\n",
    "sns.boxplot(hbo[\"age\"])\n",
    "ax.set_title(\"HBO Age Ratings Boxplot\")\n",
    "ax.set_xlabel(\"Age\")\n",
    "ax.set_xlim(16,20);"
   ]
  },
  {
   "cell_type": "markdown",
   "metadata": {},
   "source": [
    "As stated previously, most tv shows remain on 18 years or older."
   ]
  },
  {
   "cell_type": "code",
   "execution_count": 28,
   "metadata": {},
   "outputs": [],
   "source": [
    "hbo[\"audience\"] = np.where(hbo[\"age\"] <= 12, \"Children\", np.where(hbo[\"age\"] < 18, \"Teen\", \"Adult\"))"
   ]
  },
  {
   "cell_type": "code",
   "execution_count": 29,
   "metadata": {},
   "outputs": [
    {
     "data": {
      "image/png": "[encoded data removed]",
      "text/plain": [
       "<Figure size 720x432 with 1 Axes>"
      ]
     },
     "metadata": {
      "needs_background": "light"
     },
     "output_type": "display_data"
    }
   ],
   "source": [
    "fig, ax = plt.subplots(figsize=(10,6))\n",
    "\n",
    "plt.hist(hbo[\"audience\"])\n",
    "ax.set_title(\"HBO Age Ratings Histogram\")\n",
    "ax.set_xlabel(\"Audience\")\n",
    "ax.set_ylabel(\"Frequency\");"
   ]
  },
  {
   "cell_type": "markdown",
   "metadata": {},
   "source": [
    "In the histogram we can clearly see how the distribution is heavily skewed, having most values for adults and very few for teen and children, children being the lesser one."
   ]
  },
  {
   "cell_type": "markdown",
   "metadata": {},
   "source": [
    "-----\n",
    "\n",
    "### 4. Comparison\n",
    "#### i. Normalize data\n",
    "\n",
    "In order to make a comparison, we must normalize the data for each streaming service.\n",
    "We will do this by getting the ratio of frequency for each audience and the total number of tv shows.\n",
    "\n",
    "**Netflix**"
   ]
  },
  {
   "cell_type": "code",
   "execution_count": 30,
   "metadata": {},
   "outputs": [],
   "source": [
    "# group by audience using count as an aggregate function\n",
    "\n",
    "netflix_age = (netflix.groupby(\"audience\")\n",
    "               .agg({\"show\":\"count\"})\n",
    "               .reset_index()\n",
    "               .rename(columns={\"show\":\"frequency\"}))"
   ]
  },
  {
   "cell_type": "code",
   "execution_count": 31,
   "metadata": {},
   "outputs": [
    {
     "data": {
      "text/plain": [
       "1108"
      ]
     },
     "execution_count": 31,
     "metadata": {},
     "output_type": "execute_result"
    }
   ],
   "source": [
    "netflix_age[\"frequency\"].sum()"
   ]
  },
  {
   "cell_type": "code",
   "execution_count": 32,
   "metadata": {},
   "outputs": [],
   "source": [
    "# create normalize column which divides frequency by the total tv shows\n",
    "\n",
    "netflix_age[\"normalize\"] = round(((netflix_age[\"frequency\"] / netflix_age[\"frequency\"].sum()) * 100), 2)"
   ]
  },
  {
   "cell_type": "code",
   "execution_count": 33,
   "metadata": {},
   "outputs": [],
   "source": [
    "# add column to specify streaming service\n",
    "\n",
    "netflix_age[\"streaming_service\"] = \"Netflix\""
   ]
  },
  {
   "cell_type": "code",
   "execution_count": 34,
   "metadata": {},
   "outputs": [
    {
     "data": {
      "text/html": [
       "<div>\n",
       "<style scoped>\n",
       "    .dataframe tbody tr th:only-of-type {\n",
       "        vertical-align: middle;\n",
       "    }\n",
       "\n",
       "    .dataframe tbody tr th {\n",
       "        vertical-align: top;\n",
       "    }\n",
       "\n",
       "    .dataframe thead th {\n",
       "        text-align: right;\n",
       "    }\n",
       "</style>\n",
       "<table border=\"1\" class=\"dataframe\">\n",
       "  <thead>\n",
       "    <tr style=\"text-align: right;\">\n",
       "      <th></th>\n",
       "      <th>audience</th>\n",
       "      <th>frequency</th>\n",
       "      <th>normalize</th>\n",
       "      <th>streaming_service</th>\n",
       "    </tr>\n",
       "  </thead>\n",
       "  <tbody>\n",
       "    <tr>\n",
       "      <th>0</th>\n",
       "      <td>Adult</td>\n",
       "      <td>340</td>\n",
       "      <td>30.69</td>\n",
       "      <td>Netflix</td>\n",
       "    </tr>\n",
       "    <tr>\n",
       "      <th>1</th>\n",
       "      <td>Children</td>\n",
       "      <td>403</td>\n",
       "      <td>36.37</td>\n",
       "      <td>Netflix</td>\n",
       "    </tr>\n",
       "    <tr>\n",
       "      <th>2</th>\n",
       "      <td>Teen</td>\n",
       "      <td>365</td>\n",
       "      <td>32.94</td>\n",
       "      <td>Netflix</td>\n",
       "    </tr>\n",
       "  </tbody>\n",
       "</table>\n",
       "</div>"
      ],
      "text/plain": [
       "   audience  frequency  normalize streaming_service\n",
       "0     Adult        340      30.69           Netflix\n",
       "1  Children        403      36.37           Netflix\n",
       "2      Teen        365      32.94           Netflix"
      ]
     },
     "execution_count": 34,
     "metadata": {},
     "output_type": "execute_result"
    }
   ],
   "source": [
    "netflix_age"
   ]
  },
  {
   "cell_type": "markdown",
   "metadata": {},
   "source": [
    "**Amazon**"
   ]
  },
  {
   "cell_type": "code",
   "execution_count": 35,
   "metadata": {},
   "outputs": [],
   "source": [
    "amazon_age = (amazon.groupby(\"audience\")\n",
    "               .agg({\"show\":\"count\"})\n",
    "               .reset_index()\n",
    "               .rename(columns={\"show\":\"frequency\"}))\n",
    "\n",
    "amazon_age[\"normalize\"] = round(((amazon_age[\"frequency\"] / amazon_age[\"frequency\"].sum()) * 100), 2)\n",
    "\n",
    "amazon_age[\"streaming_service\"] = \"Amazon\""
   ]
  },
  {
   "cell_type": "code",
   "execution_count": 36,
   "metadata": {},
   "outputs": [
    {
     "data": {
      "text/html": [
       "<div>\n",
       "<style scoped>\n",
       "    .dataframe tbody tr th:only-of-type {\n",
       "        vertical-align: middle;\n",
       "    }\n",
       "\n",
       "    .dataframe tbody tr th {\n",
       "        vertical-align: top;\n",
       "    }\n",
       "\n",
       "    .dataframe thead th {\n",
       "        text-align: right;\n",
       "    }\n",
       "</style>\n",
       "<table border=\"1\" class=\"dataframe\">\n",
       "  <thead>\n",
       "    <tr style=\"text-align: right;\">\n",
       "      <th></th>\n",
       "      <th>audience</th>\n",
       "      <th>frequency</th>\n",
       "      <th>normalize</th>\n",
       "      <th>streaming_service</th>\n",
       "    </tr>\n",
       "  </thead>\n",
       "  <tbody>\n",
       "    <tr>\n",
       "      <th>0</th>\n",
       "      <td>Adult</td>\n",
       "      <td>162</td>\n",
       "      <td>23.82</td>\n",
       "      <td>Amazon</td>\n",
       "    </tr>\n",
       "    <tr>\n",
       "      <th>1</th>\n",
       "      <td>Children</td>\n",
       "      <td>332</td>\n",
       "      <td>48.82</td>\n",
       "      <td>Amazon</td>\n",
       "    </tr>\n",
       "    <tr>\n",
       "      <th>2</th>\n",
       "      <td>Teen</td>\n",
       "      <td>186</td>\n",
       "      <td>27.35</td>\n",
       "      <td>Amazon</td>\n",
       "    </tr>\n",
       "  </tbody>\n",
       "</table>\n",
       "</div>"
      ],
      "text/plain": [
       "   audience  frequency  normalize streaming_service\n",
       "0     Adult        162      23.82            Amazon\n",
       "1  Children        332      48.82            Amazon\n",
       "2      Teen        186      27.35            Amazon"
      ]
     },
     "execution_count": 36,
     "metadata": {},
     "output_type": "execute_result"
    }
   ],
   "source": [
    "amazon_age"
   ]
  },
  {
   "cell_type": "markdown",
   "metadata": {},
   "source": [
    "**HBO**"
   ]
  },
  {
   "cell_type": "code",
   "execution_count": 37,
   "metadata": {},
   "outputs": [],
   "source": [
    "hbo_age = (hbo.groupby(\"audience\")\n",
    "               .agg({\"show\":\"count\"})\n",
    "               .reset_index()\n",
    "               .rename(columns={\"show\":\"frequency\"}))\n",
    "\n",
    "hbo_age[\"normalize\"] = round(((hbo_age[\"frequency\"] / hbo_age[\"frequency\"].sum()) * 100), 2)\n",
    "\n",
    "hbo_age[\"streaming_service\"] = \"HBO\""
   ]
  },
  {
   "cell_type": "code",
   "execution_count": 38,
   "metadata": {},
   "outputs": [
    {
     "data": {
      "text/html": [
       "<div>\n",
       "<style scoped>\n",
       "    .dataframe tbody tr th:only-of-type {\n",
       "        vertical-align: middle;\n",
       "    }\n",
       "\n",
       "    .dataframe tbody tr th {\n",
       "        vertical-align: top;\n",
       "    }\n",
       "\n",
       "    .dataframe thead th {\n",
       "        text-align: right;\n",
       "    }\n",
       "</style>\n",
       "<table border=\"1\" class=\"dataframe\">\n",
       "  <thead>\n",
       "    <tr style=\"text-align: right;\">\n",
       "      <th></th>\n",
       "      <th>audience</th>\n",
       "      <th>frequency</th>\n",
       "      <th>normalize</th>\n",
       "      <th>streaming_service</th>\n",
       "    </tr>\n",
       "  </thead>\n",
       "  <tbody>\n",
       "    <tr>\n",
       "      <th>0</th>\n",
       "      <td>Adult</td>\n",
       "      <td>107</td>\n",
       "      <td>75.35</td>\n",
       "      <td>HBO</td>\n",
       "    </tr>\n",
       "    <tr>\n",
       "      <th>1</th>\n",
       "      <td>Children</td>\n",
       "      <td>14</td>\n",
       "      <td>9.86</td>\n",
       "      <td>HBO</td>\n",
       "    </tr>\n",
       "    <tr>\n",
       "      <th>2</th>\n",
       "      <td>Teen</td>\n",
       "      <td>21</td>\n",
       "      <td>14.79</td>\n",
       "      <td>HBO</td>\n",
       "    </tr>\n",
       "  </tbody>\n",
       "</table>\n",
       "</div>"
      ],
      "text/plain": [
       "   audience  frequency  normalize streaming_service\n",
       "0     Adult        107      75.35               HBO\n",
       "1  Children         14       9.86               HBO\n",
       "2      Teen         21      14.79               HBO"
      ]
     },
     "execution_count": 38,
     "metadata": {},
     "output_type": "execute_result"
    }
   ],
   "source": [
    "hbo_age"
   ]
  },
  {
   "cell_type": "markdown",
   "metadata": {},
   "source": [
    "#### ii. Combine data frames"
   ]
  },
  {
   "cell_type": "code",
   "execution_count": 39,
   "metadata": {},
   "outputs": [],
   "source": [
    "age_ratings = netflix_age.append(amazon_age).append(hbo_age).reset_index(drop=True)"
   ]
  },
  {
   "cell_type": "code",
   "execution_count": 40,
   "metadata": {},
   "outputs": [
    {
     "data": {
      "text/html": [
       "<div>\n",
       "<style scoped>\n",
       "    .dataframe tbody tr th:only-of-type {\n",
       "        vertical-align: middle;\n",
       "    }\n",
       "\n",
       "    .dataframe tbody tr th {\n",
       "        vertical-align: top;\n",
       "    }\n",
       "\n",
       "    .dataframe thead th {\n",
       "        text-align: right;\n",
       "    }\n",
       "</style>\n",
       "<table border=\"1\" class=\"dataframe\">\n",
       "  <thead>\n",
       "    <tr style=\"text-align: right;\">\n",
       "      <th></th>\n",
       "      <th>audience</th>\n",
       "      <th>frequency</th>\n",
       "      <th>normalize</th>\n",
       "      <th>streaming_service</th>\n",
       "    </tr>\n",
       "  </thead>\n",
       "  <tbody>\n",
       "    <tr>\n",
       "      <th>0</th>\n",
       "      <td>Adult</td>\n",
       "      <td>340</td>\n",
       "      <td>30.69</td>\n",
       "      <td>Netflix</td>\n",
       "    </tr>\n",
       "    <tr>\n",
       "      <th>1</th>\n",
       "      <td>Children</td>\n",
       "      <td>403</td>\n",
       "      <td>36.37</td>\n",
       "      <td>Netflix</td>\n",
       "    </tr>\n",
       "    <tr>\n",
       "      <th>2</th>\n",
       "      <td>Teen</td>\n",
       "      <td>365</td>\n",
       "      <td>32.94</td>\n",
       "      <td>Netflix</td>\n",
       "    </tr>\n",
       "    <tr>\n",
       "      <th>3</th>\n",
       "      <td>Adult</td>\n",
       "      <td>162</td>\n",
       "      <td>23.82</td>\n",
       "      <td>Amazon</td>\n",
       "    </tr>\n",
       "    <tr>\n",
       "      <th>4</th>\n",
       "      <td>Children</td>\n",
       "      <td>332</td>\n",
       "      <td>48.82</td>\n",
       "      <td>Amazon</td>\n",
       "    </tr>\n",
       "    <tr>\n",
       "      <th>5</th>\n",
       "      <td>Teen</td>\n",
       "      <td>186</td>\n",
       "      <td>27.35</td>\n",
       "      <td>Amazon</td>\n",
       "    </tr>\n",
       "    <tr>\n",
       "      <th>6</th>\n",
       "      <td>Adult</td>\n",
       "      <td>107</td>\n",
       "      <td>75.35</td>\n",
       "      <td>HBO</td>\n",
       "    </tr>\n",
       "    <tr>\n",
       "      <th>7</th>\n",
       "      <td>Children</td>\n",
       "      <td>14</td>\n",
       "      <td>9.86</td>\n",
       "      <td>HBO</td>\n",
       "    </tr>\n",
       "    <tr>\n",
       "      <th>8</th>\n",
       "      <td>Teen</td>\n",
       "      <td>21</td>\n",
       "      <td>14.79</td>\n",
       "      <td>HBO</td>\n",
       "    </tr>\n",
       "  </tbody>\n",
       "</table>\n",
       "</div>"
      ],
      "text/plain": [
       "   audience  frequency  normalize streaming_service\n",
       "0     Adult        340      30.69           Netflix\n",
       "1  Children        403      36.37           Netflix\n",
       "2      Teen        365      32.94           Netflix\n",
       "3     Adult        162      23.82            Amazon\n",
       "4  Children        332      48.82            Amazon\n",
       "5      Teen        186      27.35            Amazon\n",
       "6     Adult        107      75.35               HBO\n",
       "7  Children         14       9.86               HBO\n",
       "8      Teen         21      14.79               HBO"
      ]
     },
     "execution_count": 40,
     "metadata": {},
     "output_type": "execute_result"
    }
   ],
   "source": [
    "age_ratings"
   ]
  },
  {
   "cell_type": "markdown",
   "metadata": {},
   "source": [
    "#### ii. Plotting"
   ]
  },
  {
   "cell_type": "code",
   "execution_count": 41,
   "metadata": {},
   "outputs": [
    {
     "data": {
      "image/png": "[encoded data removed]",
      "text/plain": [
       "<Figure size 720x432 with 1 Axes>"
      ]
     },
     "metadata": {
      "needs_background": "light"
     },
     "output_type": "display_data"
    }
   ],
   "source": [
    "fig, ax = plt.subplots(figsize=(10,6))\n",
    "\n",
    "sns.barplot(x=age_ratings[\"audience\"]\n",
    "            , y=age_ratings[\"normalize\"]\n",
    "            , hue=age_ratings[\"streaming_service\"]\n",
    "            , palette=\"Blues\"\n",
    "           , ci=None)\n",
    "\n",
    "ax.set_xlabel(\"Audience\")\n",
    "ax.set_ylabel(\"Percentage\")\n",
    "ax.set_title(\"Age Ratings Bar Plot\")\n",
    "\n",
    "plt.legend(title=\"Streaming Service\");"
   ]
  },
  {
   "cell_type": "markdown",
   "metadata": {},
   "source": [
    "From the bar plot above, we can see that HBO has most tv shows for adults. Amazon and Netflix seem to have similar distributions, Netflix having more tv shows for teens and Amazon more tv shows for children."
   ]
  },
  {
   "cell_type": "code",
   "execution_count": 42,
   "metadata": {},
   "outputs": [],
   "source": [
    "# age_ratings.to_pickle(\"../Data/age_ratings.pkl\")"
   ]
  },
  {
   "cell_type": "code",
   "execution_count": null,
   "metadata": {},
   "outputs": [],
   "source": []
  }
 ],
 "metadata": {
  "kernelspec": {
   "display_name": "Python 3",
   "language": "python",
   "name": "python3"
  },
  "language_info": {
   "codemirror_mode": {
    "name": "ipython",
    "version": 3
   },
   "file_extension": ".py",
   "mimetype": "text/x-python",
   "name": "python",
   "nbconvert_exporter": "python",
   "pygments_lexer": "ipython3",
   "version": "3.7.6"
  }
 },
 "nbformat": 4,
 "nbformat_minor": 4
}
