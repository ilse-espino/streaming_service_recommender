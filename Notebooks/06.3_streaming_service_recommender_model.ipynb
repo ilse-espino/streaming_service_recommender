{
 "cells": [
  {
   "cell_type": "code",
   "execution_count": 1,
   "metadata": {},
   "outputs": [],
   "source": [
    "import pandas as pd\n",
    "import numpy as np\n",
    "import seaborn as sns\n",
    "from scipy.spatial.distance import pdist, squareform\n",
    "\n",
    "%matplotlib inline\n",
    "\n",
    "pd.set_option(\"display.max_columns\", None)"
   ]
  },
  {
   "cell_type": "markdown",
   "metadata": {},
   "source": [
    "## Streaming Service Recommender Model\n",
    "\n",
    "#### Goals\n",
    "\n",
    "- Create a streaming service recommender model based on similarity using eucledian distance\n",
    "\n",
    "### 1. Import data\n",
    "\n",
    "We will start by joining a survey filled out picking all of Netflix options and then we will use Amazon and HBO after creating a function for more testing."
   ]
  },
  {
   "cell_type": "code",
   "execution_count": 2,
   "metadata": {},
   "outputs": [],
   "source": [
    "genres_recommender = pd.read_pickle(\"../Data/genres_recommender.pkl\")"
   ]
  },
  {
   "cell_type": "code",
   "execution_count": 3,
   "metadata": {},
   "outputs": [
    {
     "data": {
      "text/html": [
       "<div>\n",
       "<style scoped>\n",
       "    .dataframe tbody tr th:only-of-type {\n",
       "        vertical-align: middle;\n",
       "    }\n",
       "\n",
       "    .dataframe tbody tr th {\n",
       "        vertical-align: top;\n",
       "    }\n",
       "\n",
       "    .dataframe thead th {\n",
       "        text-align: right;\n",
       "    }\n",
       "</style>\n",
       "<table border=\"1\" class=\"dataframe\">\n",
       "  <thead>\n",
       "    <tr style=\"text-align: right;\">\n",
       "      <th>genre</th>\n",
       "      <th>Action</th>\n",
       "      <th>Adventure</th>\n",
       "      <th>Animation</th>\n",
       "      <th>Biography</th>\n",
       "      <th>Comedy</th>\n",
       "      <th>Crime</th>\n",
       "      <th>Documentary</th>\n",
       "      <th>Drama</th>\n",
       "      <th>Family</th>\n",
       "      <th>Fantasy</th>\n",
       "      <th>Game-Show</th>\n",
       "      <th>History</th>\n",
       "      <th>Horror</th>\n",
       "      <th>Music</th>\n",
       "      <th>Musical</th>\n",
       "      <th>Mystery</th>\n",
       "      <th>News</th>\n",
       "      <th>Reality-TV</th>\n",
       "      <th>Romance</th>\n",
       "      <th>Sci-Fi</th>\n",
       "      <th>Short</th>\n",
       "      <th>Sport</th>\n",
       "      <th>Talk-Show</th>\n",
       "      <th>Thriller</th>\n",
       "      <th>War</th>\n",
       "      <th>Western</th>\n",
       "    </tr>\n",
       "    <tr>\n",
       "      <th>streaming_service</th>\n",
       "      <th></th>\n",
       "      <th></th>\n",
       "      <th></th>\n",
       "      <th></th>\n",
       "      <th></th>\n",
       "      <th></th>\n",
       "      <th></th>\n",
       "      <th></th>\n",
       "      <th></th>\n",
       "      <th></th>\n",
       "      <th></th>\n",
       "      <th></th>\n",
       "      <th></th>\n",
       "      <th></th>\n",
       "      <th></th>\n",
       "      <th></th>\n",
       "      <th></th>\n",
       "      <th></th>\n",
       "      <th></th>\n",
       "      <th></th>\n",
       "      <th></th>\n",
       "      <th></th>\n",
       "      <th></th>\n",
       "      <th></th>\n",
       "      <th></th>\n",
       "      <th></th>\n",
       "    </tr>\n",
       "  </thead>\n",
       "  <tbody>\n",
       "    <tr>\n",
       "      <th>Amazon</th>\n",
       "      <td>0.1212</td>\n",
       "      <td>0.1228</td>\n",
       "      <td>0.1619</td>\n",
       "      <td>0.0191</td>\n",
       "      <td>0.2432</td>\n",
       "      <td>0.1252</td>\n",
       "      <td>0.2018</td>\n",
       "      <td>0.3349</td>\n",
       "      <td>0.1045</td>\n",
       "      <td>0.0574</td>\n",
       "      <td>0.0152</td>\n",
       "      <td>0.0606</td>\n",
       "      <td>0.0263</td>\n",
       "      <td>0.0096</td>\n",
       "      <td>0.0032</td>\n",
       "      <td>0.0582</td>\n",
       "      <td>0.0048</td>\n",
       "      <td>0.1021</td>\n",
       "      <td>0.0550</td>\n",
       "      <td>0.0327</td>\n",
       "      <td>0.0144</td>\n",
       "      <td>0.0152</td>\n",
       "      <td>0.0072</td>\n",
       "      <td>0.0287</td>\n",
       "      <td>0.0112</td>\n",
       "      <td>0.0199</td>\n",
       "    </tr>\n",
       "    <tr>\n",
       "      <th>HBO</th>\n",
       "      <td>0.0769</td>\n",
       "      <td>0.0533</td>\n",
       "      <td>0.0473</td>\n",
       "      <td>0.0355</td>\n",
       "      <td>0.3905</td>\n",
       "      <td>0.1538</td>\n",
       "      <td>0.1006</td>\n",
       "      <td>0.5089</td>\n",
       "      <td>0.0414</td>\n",
       "      <td>0.0473</td>\n",
       "      <td>0.0059</td>\n",
       "      <td>0.0769</td>\n",
       "      <td>0.0118</td>\n",
       "      <td>0.0237</td>\n",
       "      <td>0.0059</td>\n",
       "      <td>0.0828</td>\n",
       "      <td>0.0296</td>\n",
       "      <td>0.0237</td>\n",
       "      <td>0.0769</td>\n",
       "      <td>0.0237</td>\n",
       "      <td>0.0000</td>\n",
       "      <td>0.0533</td>\n",
       "      <td>0.0414</td>\n",
       "      <td>0.0355</td>\n",
       "      <td>0.0059</td>\n",
       "      <td>0.0000</td>\n",
       "    </tr>\n",
       "    <tr>\n",
       "      <th>Netflix</th>\n",
       "      <td>0.1399</td>\n",
       "      <td>0.1190</td>\n",
       "      <td>0.1675</td>\n",
       "      <td>0.0221</td>\n",
       "      <td>0.2736</td>\n",
       "      <td>0.1466</td>\n",
       "      <td>0.1718</td>\n",
       "      <td>0.3767</td>\n",
       "      <td>0.0620</td>\n",
       "      <td>0.0571</td>\n",
       "      <td>0.0123</td>\n",
       "      <td>0.0387</td>\n",
       "      <td>0.0344</td>\n",
       "      <td>0.0178</td>\n",
       "      <td>0.0061</td>\n",
       "      <td>0.0571</td>\n",
       "      <td>0.0018</td>\n",
       "      <td>0.0883</td>\n",
       "      <td>0.0785</td>\n",
       "      <td>0.0344</td>\n",
       "      <td>0.0025</td>\n",
       "      <td>0.0160</td>\n",
       "      <td>0.0110</td>\n",
       "      <td>0.0479</td>\n",
       "      <td>0.0098</td>\n",
       "      <td>0.0031</td>\n",
       "    </tr>\n",
       "  </tbody>\n",
       "</table>\n",
       "</div>"
      ],
      "text/plain": [
       "genre              Action  Adventure  Animation  Biography  Comedy   Crime  \\\n",
       "streaming_service                                                            \n",
       "Amazon             0.1212     0.1228     0.1619     0.0191  0.2432  0.1252   \n",
       "HBO                0.0769     0.0533     0.0473     0.0355  0.3905  0.1538   \n",
       "Netflix            0.1399     0.1190     0.1675     0.0221  0.2736  0.1466   \n",
       "\n",
       "genre              Documentary   Drama  Family  Fantasy  Game-Show  History  \\\n",
       "streaming_service                                                             \n",
       "Amazon                  0.2018  0.3349  0.1045   0.0574     0.0152   0.0606   \n",
       "HBO                     0.1006  0.5089  0.0414   0.0473     0.0059   0.0769   \n",
       "Netflix                 0.1718  0.3767  0.0620   0.0571     0.0123   0.0387   \n",
       "\n",
       "genre              Horror   Music  Musical  Mystery    News  Reality-TV  \\\n",
       "streaming_service                                                         \n",
       "Amazon             0.0263  0.0096   0.0032   0.0582  0.0048      0.1021   \n",
       "HBO                0.0118  0.0237   0.0059   0.0828  0.0296      0.0237   \n",
       "Netflix            0.0344  0.0178   0.0061   0.0571  0.0018      0.0883   \n",
       "\n",
       "genre              Romance  Sci-Fi   Short   Sport  Talk-Show  Thriller  \\\n",
       "streaming_service                                                         \n",
       "Amazon              0.0550  0.0327  0.0144  0.0152     0.0072    0.0287   \n",
       "HBO                 0.0769  0.0237  0.0000  0.0533     0.0414    0.0355   \n",
       "Netflix             0.0785  0.0344  0.0025  0.0160     0.0110    0.0479   \n",
       "\n",
       "genre                 War  Western  \n",
       "streaming_service                   \n",
       "Amazon             0.0112   0.0199  \n",
       "HBO                0.0059   0.0000  \n",
       "Netflix            0.0098   0.0031  "
      ]
     },
     "execution_count": 3,
     "metadata": {},
     "output_type": "execute_result"
    }
   ],
   "source": [
    "genres_recommender"
   ]
  },
  {
   "cell_type": "code",
   "execution_count": 4,
   "metadata": {},
   "outputs": [],
   "source": [
    "user_netflix_recommender = pd.read_pickle(\"../Data/netflix_test.pkl\")"
   ]
  },
  {
   "cell_type": "markdown",
   "metadata": {},
   "source": [
    "### 2. Join data frames"
   ]
  },
  {
   "cell_type": "code",
   "execution_count": 5,
   "metadata": {},
   "outputs": [],
   "source": [
    "user_netflix = genres_recommender.append(user_netflix_recommender)"
   ]
  },
  {
   "cell_type": "code",
   "execution_count": 6,
   "metadata": {},
   "outputs": [
    {
     "data": {
      "text/html": [
       "<div>\n",
       "<style scoped>\n",
       "    .dataframe tbody tr th:only-of-type {\n",
       "        vertical-align: middle;\n",
       "    }\n",
       "\n",
       "    .dataframe tbody tr th {\n",
       "        vertical-align: top;\n",
       "    }\n",
       "\n",
       "    .dataframe thead th {\n",
       "        text-align: right;\n",
       "    }\n",
       "</style>\n",
       "<table border=\"1\" class=\"dataframe\">\n",
       "  <thead>\n",
       "    <tr style=\"text-align: right;\">\n",
       "      <th>genre</th>\n",
       "      <th>Action</th>\n",
       "      <th>Adventure</th>\n",
       "      <th>Animation</th>\n",
       "      <th>Biography</th>\n",
       "      <th>Comedy</th>\n",
       "      <th>Crime</th>\n",
       "      <th>Documentary</th>\n",
       "      <th>Drama</th>\n",
       "      <th>Family</th>\n",
       "      <th>Fantasy</th>\n",
       "      <th>Game-Show</th>\n",
       "      <th>History</th>\n",
       "      <th>Horror</th>\n",
       "      <th>Music</th>\n",
       "      <th>Musical</th>\n",
       "      <th>Mystery</th>\n",
       "      <th>News</th>\n",
       "      <th>Reality-TV</th>\n",
       "      <th>Romance</th>\n",
       "      <th>Sci-Fi</th>\n",
       "      <th>Short</th>\n",
       "      <th>Sport</th>\n",
       "      <th>Talk-Show</th>\n",
       "      <th>Thriller</th>\n",
       "      <th>War</th>\n",
       "      <th>Western</th>\n",
       "    </tr>\n",
       "  </thead>\n",
       "  <tbody>\n",
       "    <tr>\n",
       "      <th>Amazon</th>\n",
       "      <td>0.1212</td>\n",
       "      <td>0.1228</td>\n",
       "      <td>0.1619</td>\n",
       "      <td>0.0191</td>\n",
       "      <td>0.2432</td>\n",
       "      <td>0.1252</td>\n",
       "      <td>0.2018</td>\n",
       "      <td>0.3349</td>\n",
       "      <td>0.1045</td>\n",
       "      <td>0.0574</td>\n",
       "      <td>0.0152</td>\n",
       "      <td>0.0606</td>\n",
       "      <td>0.0263</td>\n",
       "      <td>0.0096</td>\n",
       "      <td>0.0032</td>\n",
       "      <td>0.0582</td>\n",
       "      <td>0.0048</td>\n",
       "      <td>0.1021</td>\n",
       "      <td>0.0550</td>\n",
       "      <td>0.0327</td>\n",
       "      <td>0.0144</td>\n",
       "      <td>0.0152</td>\n",
       "      <td>0.0072</td>\n",
       "      <td>0.0287</td>\n",
       "      <td>0.0112</td>\n",
       "      <td>0.0199</td>\n",
       "    </tr>\n",
       "    <tr>\n",
       "      <th>HBO</th>\n",
       "      <td>0.0769</td>\n",
       "      <td>0.0533</td>\n",
       "      <td>0.0473</td>\n",
       "      <td>0.0355</td>\n",
       "      <td>0.3905</td>\n",
       "      <td>0.1538</td>\n",
       "      <td>0.1006</td>\n",
       "      <td>0.5089</td>\n",
       "      <td>0.0414</td>\n",
       "      <td>0.0473</td>\n",
       "      <td>0.0059</td>\n",
       "      <td>0.0769</td>\n",
       "      <td>0.0118</td>\n",
       "      <td>0.0237</td>\n",
       "      <td>0.0059</td>\n",
       "      <td>0.0828</td>\n",
       "      <td>0.0296</td>\n",
       "      <td>0.0237</td>\n",
       "      <td>0.0769</td>\n",
       "      <td>0.0237</td>\n",
       "      <td>0.0000</td>\n",
       "      <td>0.0533</td>\n",
       "      <td>0.0414</td>\n",
       "      <td>0.0355</td>\n",
       "      <td>0.0059</td>\n",
       "      <td>0.0000</td>\n",
       "    </tr>\n",
       "    <tr>\n",
       "      <th>Netflix</th>\n",
       "      <td>0.1399</td>\n",
       "      <td>0.1190</td>\n",
       "      <td>0.1675</td>\n",
       "      <td>0.0221</td>\n",
       "      <td>0.2736</td>\n",
       "      <td>0.1466</td>\n",
       "      <td>0.1718</td>\n",
       "      <td>0.3767</td>\n",
       "      <td>0.0620</td>\n",
       "      <td>0.0571</td>\n",
       "      <td>0.0123</td>\n",
       "      <td>0.0387</td>\n",
       "      <td>0.0344</td>\n",
       "      <td>0.0178</td>\n",
       "      <td>0.0061</td>\n",
       "      <td>0.0571</td>\n",
       "      <td>0.0018</td>\n",
       "      <td>0.0883</td>\n",
       "      <td>0.0785</td>\n",
       "      <td>0.0344</td>\n",
       "      <td>0.0025</td>\n",
       "      <td>0.0160</td>\n",
       "      <td>0.0110</td>\n",
       "      <td>0.0479</td>\n",
       "      <td>0.0098</td>\n",
       "      <td>0.0031</td>\n",
       "    </tr>\n",
       "    <tr>\n",
       "      <th>User</th>\n",
       "      <td>0.1333</td>\n",
       "      <td>0.1333</td>\n",
       "      <td>0.1333</td>\n",
       "      <td>0.0333</td>\n",
       "      <td>0.3333</td>\n",
       "      <td>0.1000</td>\n",
       "      <td>0.1333</td>\n",
       "      <td>0.5000</td>\n",
       "      <td>0.0333</td>\n",
       "      <td>0.1667</td>\n",
       "      <td>0.0333</td>\n",
       "      <td>0.0667</td>\n",
       "      <td>0.2333</td>\n",
       "      <td>0.0333</td>\n",
       "      <td>0.0333</td>\n",
       "      <td>0.0333</td>\n",
       "      <td>0.0333</td>\n",
       "      <td>0.0667</td>\n",
       "      <td>0.1000</td>\n",
       "      <td>0.1000</td>\n",
       "      <td>0.0333</td>\n",
       "      <td>0.0333</td>\n",
       "      <td>0.0333</td>\n",
       "      <td>0.1667</td>\n",
       "      <td>0.0333</td>\n",
       "      <td>0.0333</td>\n",
       "    </tr>\n",
       "  </tbody>\n",
       "</table>\n",
       "</div>"
      ],
      "text/plain": [
       "genre    Action  Adventure  Animation  Biography  Comedy   Crime  Documentary  \\\n",
       "Amazon   0.1212     0.1228     0.1619     0.0191  0.2432  0.1252       0.2018   \n",
       "HBO      0.0769     0.0533     0.0473     0.0355  0.3905  0.1538       0.1006   \n",
       "Netflix  0.1399     0.1190     0.1675     0.0221  0.2736  0.1466       0.1718   \n",
       "User     0.1333     0.1333     0.1333     0.0333  0.3333  0.1000       0.1333   \n",
       "\n",
       "genre     Drama  Family  Fantasy  Game-Show  History  Horror   Music  Musical  \\\n",
       "Amazon   0.3349  0.1045   0.0574     0.0152   0.0606  0.0263  0.0096   0.0032   \n",
       "HBO      0.5089  0.0414   0.0473     0.0059   0.0769  0.0118  0.0237   0.0059   \n",
       "Netflix  0.3767  0.0620   0.0571     0.0123   0.0387  0.0344  0.0178   0.0061   \n",
       "User     0.5000  0.0333   0.1667     0.0333   0.0667  0.2333  0.0333   0.0333   \n",
       "\n",
       "genre    Mystery    News  Reality-TV  Romance  Sci-Fi   Short   Sport  \\\n",
       "Amazon    0.0582  0.0048      0.1021   0.0550  0.0327  0.0144  0.0152   \n",
       "HBO       0.0828  0.0296      0.0237   0.0769  0.0237  0.0000  0.0533   \n",
       "Netflix   0.0571  0.0018      0.0883   0.0785  0.0344  0.0025  0.0160   \n",
       "User      0.0333  0.0333      0.0667   0.1000  0.1000  0.0333  0.0333   \n",
       "\n",
       "genre    Talk-Show  Thriller     War  Western  \n",
       "Amazon      0.0072    0.0287  0.0112   0.0199  \n",
       "HBO         0.0414    0.0355  0.0059   0.0000  \n",
       "Netflix     0.0110    0.0479  0.0098   0.0031  \n",
       "User        0.0333    0.1667  0.0333   0.0333  "
      ]
     },
     "execution_count": 6,
     "metadata": {},
     "output_type": "execute_result"
    }
   ],
   "source": [
    "user_netflix"
   ]
  },
  {
   "cell_type": "markdown",
   "metadata": {},
   "source": [
    "### 3. Get Similarities\n",
    "\n",
    "We will use spatial distance from scipy to calculate the distances from the User to each streaming service using the euclidean metric. The one with smaller distance is the one closest (or more similar) to the user."
   ]
  },
  {
   "cell_type": "code",
   "execution_count": 7,
   "metadata": {},
   "outputs": [
    {
     "data": {
      "text/plain": [
       "array([[0.        , 0.31512858, 0.09184111, 0.36605291],\n",
       "       [0.31512858, 0.        , 0.26451248, 0.34741092],\n",
       "       [0.09184111, 0.26451248, 0.        , 0.32043701],\n",
       "       [0.36605291, 0.34741092, 0.32043701, 0.        ]])"
      ]
     },
     "execution_count": 7,
     "metadata": {},
     "output_type": "execute_result"
    }
   ],
   "source": [
    "distances = squareform(pdist(user_netflix, 'euclidean'))\n",
    "\n",
    "distances"
   ]
  },
  {
   "cell_type": "markdown",
   "metadata": {},
   "source": [
    "This function returns the distances between every streaming service and the User, for better understanding, we will convert this to a data frame."
   ]
  },
  {
   "cell_type": "code",
   "execution_count": 8,
   "metadata": {},
   "outputs": [
    {
     "data": {
      "text/html": [
       "<div>\n",
       "<style scoped>\n",
       "    .dataframe tbody tr th:only-of-type {\n",
       "        vertical-align: middle;\n",
       "    }\n",
       "\n",
       "    .dataframe tbody tr th {\n",
       "        vertical-align: top;\n",
       "    }\n",
       "\n",
       "    .dataframe thead th {\n",
       "        text-align: right;\n",
       "    }\n",
       "</style>\n",
       "<table border=\"1\" class=\"dataframe\">\n",
       "  <thead>\n",
       "    <tr style=\"text-align: right;\">\n",
       "      <th></th>\n",
       "      <th>Amazon</th>\n",
       "      <th>HBO</th>\n",
       "      <th>Netflix</th>\n",
       "      <th>User</th>\n",
       "    </tr>\n",
       "  </thead>\n",
       "  <tbody>\n",
       "    <tr>\n",
       "      <th>Amazon</th>\n",
       "      <td>0.000000</td>\n",
       "      <td>0.315129</td>\n",
       "      <td>0.091841</td>\n",
       "      <td>0.366053</td>\n",
       "    </tr>\n",
       "    <tr>\n",
       "      <th>HBO</th>\n",
       "      <td>0.315129</td>\n",
       "      <td>0.000000</td>\n",
       "      <td>0.264512</td>\n",
       "      <td>0.347411</td>\n",
       "    </tr>\n",
       "    <tr>\n",
       "      <th>Netflix</th>\n",
       "      <td>0.091841</td>\n",
       "      <td>0.264512</td>\n",
       "      <td>0.000000</td>\n",
       "      <td>0.320437</td>\n",
       "    </tr>\n",
       "    <tr>\n",
       "      <th>User</th>\n",
       "      <td>0.366053</td>\n",
       "      <td>0.347411</td>\n",
       "      <td>0.320437</td>\n",
       "      <td>0.000000</td>\n",
       "    </tr>\n",
       "  </tbody>\n",
       "</table>\n",
       "</div>"
      ],
      "text/plain": [
       "           Amazon       HBO   Netflix      User\n",
       "Amazon   0.000000  0.315129  0.091841  0.366053\n",
       "HBO      0.315129  0.000000  0.264512  0.347411\n",
       "Netflix  0.091841  0.264512  0.000000  0.320437\n",
       "User     0.366053  0.347411  0.320437  0.000000"
      ]
     },
     "execution_count": 8,
     "metadata": {},
     "output_type": "execute_result"
    }
   ],
   "source": [
    "distances_df = pd.DataFrame((squareform(pdist(user_netflix, 'euclidean'))), \n",
    "                         index=user_netflix.index, columns=user_netflix.index)\n",
    "\n",
    "distances_df"
   ]
  },
  {
   "cell_type": "markdown",
   "metadata": {},
   "source": [
    "From the data frame above we can see the the shortest distance is between the User and Netflix, we would take a better look with a heatmap. In the following heatmap, the darker colors represent shorter distance, as shown on the color scale."
   ]
  },
  {
   "cell_type": "code",
   "execution_count": 9,
   "metadata": {},
   "outputs": [
    {
     "data": {
      "text/plain": [
       "<matplotlib.axes._subplots.AxesSubplot at 0x1ddcae2fb08>"
      ]
     },
     "execution_count": 9,
     "metadata": {},
     "output_type": "execute_result"
    },
    {
     "data": {
      "image/png": "[encoded data removed]",
      "text/plain": [
       "<Figure size 432x288 with 2 Axes>"
      ]
     },
     "metadata": {
      "needs_background": "light"
     },
     "output_type": "display_data"
    }
   ],
   "source": [
    "sns.heatmap(distances_df, cmap=\"Blues_r\", vmin=0.2)"
   ]
  },
  {
   "cell_type": "markdown",
   "metadata": {},
   "source": [
    "Now, we will access the streaming service with the shortest distance."
   ]
  },
  {
   "cell_type": "code",
   "execution_count": 10,
   "metadata": {},
   "outputs": [
    {
     "data": {
      "text/plain": [
       "'Netflix'"
      ]
     },
     "execution_count": 10,
     "metadata": {},
     "output_type": "execute_result"
    }
   ],
   "source": [
    "# we will sort values in ascending order for the User column and remove the first one, since the first value will be\n",
    "# himself, and we are going to look at the first element on the list, which should be Netflix.\n",
    "\n",
    "similarities = distances_df['User'].sort_values()[1:]\n",
    "similarities.index[0]"
   ]
  },
  {
   "cell_type": "markdown",
   "metadata": {},
   "source": [
    "Great, it worked for the first test, we will now define a function in order to test Amazon and HBO's surveys.\n",
    "\n",
    "### 4. Define Function"
   ]
  },
  {
   "cell_type": "code",
   "execution_count": 11,
   "metadata": {},
   "outputs": [],
   "source": [
    "# this function will need the genres_recommender data frame, the user survey data frame and the number of recommendations\n",
    "# you will like to have\n",
    "\n",
    "def get_streaming_recommendation(genres_recommender, user_survey):\n",
    "    \n",
    "    recommendations = []\n",
    "    \n",
    "    user_recommender = genres_recommender.append(user_survey)\n",
    "           \n",
    "    distances_df = pd.DataFrame((squareform(pdist(user_recommender, 'euclidean'))), \n",
    "                         index=user_recommender.index, columns=user_recommender.index)\n",
    "    \n",
    "    similar_streamings = list(distances_df['User'].sort_values()[1:].index)\n",
    "    distances = list(distances_df['User'].sort_values()[1:].values)\n",
    "    \n",
    "    for i in range(3):\n",
    "        recommendations.append(similar_streamings[i])\n",
    "       \n",
    "    # we will show the percentage of similarity, whcih is 1 over 1 plus the distance multiplied by a 100\n",
    "    print(\"Your closest match is \" + recommendations[0] + f\" with {int(1/(1+distances[0])*100)}% genre similarity.\")\n",
    "    print(\"--------------------------\")\n",
    "    print(\"Your next matches are:\")\n",
    "    print(\"2. \" + recommendations[1] + f\" with {int(1/(1+distances[1])*100)}% genre similarity.\")\n",
    "    print(\"3. \" + recommendations[2] + f\" with {int(1/(1+distances[2])*100)}% genre similarity.\")\n",
    "   \n",
    "    # We need to add a return value beacuse if not the streaming_recommendations returns None at the end, we will return\n",
    "    # a blank string\n",
    "    return (\"\")\n"
   ]
  },
  {
   "cell_type": "markdown",
   "metadata": {},
   "source": [
    "### 5. Test Function"
   ]
  },
  {
   "cell_type": "code",
   "execution_count": 12,
   "metadata": {},
   "outputs": [
    {
     "name": "stdout",
     "output_type": "stream",
     "text": [
      "Your closest match is Amazon with 80% genre similarity.\n",
      "--------------------------\n",
      "Your next matches are:\n",
      "2. Netflix with 78% genre similarity.\n",
      "3. HBO with 74% genre similarity.\n"
     ]
    },
    {
     "data": {
      "text/plain": [
       "''"
      ]
     },
     "execution_count": 12,
     "metadata": {},
     "output_type": "execute_result"
    }
   ],
   "source": [
    "# Amazon\n",
    "\n",
    "user_amazon_recommender = pd.read_pickle(\"../Data/amazon_test.pkl\")\n",
    "\n",
    "get_streaming_recommendation(genres_recommender, user_amazon_recommender)"
   ]
  },
  {
   "cell_type": "code",
   "execution_count": 13,
   "metadata": {},
   "outputs": [
    {
     "name": "stdout",
     "output_type": "stream",
     "text": [
      "Your closest match is HBO with 71% genre similarity.\n",
      "--------------------------\n",
      "Your next matches are:\n",
      "2. Netflix with 63% genre similarity.\n",
      "3. Amazon with 61% genre similarity.\n"
     ]
    },
    {
     "data": {
      "text/plain": [
       "''"
      ]
     },
     "execution_count": 13,
     "metadata": {},
     "output_type": "execute_result"
    }
   ],
   "source": [
    "# HBO\n",
    "\n",
    "user_hbo_recommender = pd.read_pickle(\"../Data/hbo_test.pkl\")\n",
    "\n",
    "get_streaming_recommendation(genres_recommender, user_hbo_recommender)"
   ]
  },
  {
   "cell_type": "code",
   "execution_count": null,
   "metadata": {},
   "outputs": [],
   "source": []
  }
 ],
 "metadata": {
  "kernelspec": {
   "display_name": "Python 3",
   "language": "python",
   "name": "python3"
  },
  "language_info": {
   "codemirror_mode": {
    "name": "ipython",
    "version": 3
   },
   "file_extension": ".py",
   "mimetype": "text/x-python",
   "name": "python",
   "nbconvert_exporter": "python",
   "pygments_lexer": "ipython3",
   "version": "3.7.6"
  }
 },
 "nbformat": 4,
 "nbformat_minor": 4
}
