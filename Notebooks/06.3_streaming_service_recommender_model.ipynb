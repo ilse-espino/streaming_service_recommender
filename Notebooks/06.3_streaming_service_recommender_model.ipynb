{
 "cells": [
  {
   "cell_type": "code",
   "execution_count": 1,
   "metadata": {},
   "outputs": [],
   "source": [
    "import pandas as pd\n",
    "import numpy as np\n",
    "import matplotlib.pyplot as plt\n",
    "import seaborn as sns\n",
    "from sklearn.neighbors import NearestNeighbors\n",
    "\n",
    "%matplotlib inline\n",
    "\n",
    "pd.set_option(\"display.max_columns\", None)\n",
    "\n",
    "path = \"C:/Users/Admin/Documents/ironhack/streaming_service_recommender/\""
   ]
  },
  {
   "cell_type": "markdown",
   "metadata": {},
   "source": [
    "## Streaming Service Recommender\n",
    "\n",
    "#### Goals\n",
    "\n",
    "- Create a streaming service recommender model based on similarity\n",
    "\n",
    "### 1. Import data\n",
    "\n",
    "We will start by joining the Netflix data and then we will use Amazon and HBO for more testing."
   ]
  },
  {
   "cell_type": "code",
   "execution_count": 2,
   "metadata": {},
   "outputs": [],
   "source": [
    "genres_recommender = pd.read_pickle(path + \"Data/genres_recommender.pkl\")"
   ]
  },
  {
   "cell_type": "code",
   "execution_count": 3,
   "metadata": {
    "scrolled": true
   },
   "outputs": [
    {
     "data": {
      "text/html": [
       "<div>\n",
       "<style scoped>\n",
       "    .dataframe tbody tr th:only-of-type {\n",
       "        vertical-align: middle;\n",
       "    }\n",
       "\n",
       "    .dataframe tbody tr th {\n",
       "        vertical-align: top;\n",
       "    }\n",
       "\n",
       "    .dataframe thead th {\n",
       "        text-align: right;\n",
       "    }\n",
       "</style>\n",
       "<table border=\"1\" class=\"dataframe\">\n",
       "  <thead>\n",
       "    <tr style=\"text-align: right;\">\n",
       "      <th>genre</th>\n",
       "      <th>Action</th>\n",
       "      <th>Adventure</th>\n",
       "      <th>Animation</th>\n",
       "      <th>Biography</th>\n",
       "      <th>Comedy</th>\n",
       "      <th>Crime</th>\n",
       "      <th>Documentary</th>\n",
       "      <th>Drama</th>\n",
       "      <th>Family</th>\n",
       "      <th>Fantasy</th>\n",
       "      <th>Game-Show</th>\n",
       "      <th>History</th>\n",
       "      <th>Horror</th>\n",
       "      <th>Music</th>\n",
       "      <th>Musical</th>\n",
       "      <th>Mystery</th>\n",
       "      <th>News</th>\n",
       "      <th>Reality-TV</th>\n",
       "      <th>Romance</th>\n",
       "      <th>Sci-Fi</th>\n",
       "      <th>Short</th>\n",
       "      <th>Sport</th>\n",
       "      <th>Talk-Show</th>\n",
       "      <th>Thriller</th>\n",
       "      <th>War</th>\n",
       "      <th>Western</th>\n",
       "    </tr>\n",
       "    <tr>\n",
       "      <th>streaming_service</th>\n",
       "      <th></th>\n",
       "      <th></th>\n",
       "      <th></th>\n",
       "      <th></th>\n",
       "      <th></th>\n",
       "      <th></th>\n",
       "      <th></th>\n",
       "      <th></th>\n",
       "      <th></th>\n",
       "      <th></th>\n",
       "      <th></th>\n",
       "      <th></th>\n",
       "      <th></th>\n",
       "      <th></th>\n",
       "      <th></th>\n",
       "      <th></th>\n",
       "      <th></th>\n",
       "      <th></th>\n",
       "      <th></th>\n",
       "      <th></th>\n",
       "      <th></th>\n",
       "      <th></th>\n",
       "      <th></th>\n",
       "      <th></th>\n",
       "      <th></th>\n",
       "      <th></th>\n",
       "    </tr>\n",
       "  </thead>\n",
       "  <tbody>\n",
       "    <tr>\n",
       "      <th>Amazon</th>\n",
       "      <td>0.1212</td>\n",
       "      <td>0.1228</td>\n",
       "      <td>0.1619</td>\n",
       "      <td>0.0191</td>\n",
       "      <td>0.2432</td>\n",
       "      <td>0.1252</td>\n",
       "      <td>0.2018</td>\n",
       "      <td>0.3349</td>\n",
       "      <td>0.1045</td>\n",
       "      <td>0.0574</td>\n",
       "      <td>0.0152</td>\n",
       "      <td>0.0606</td>\n",
       "      <td>0.0263</td>\n",
       "      <td>0.0096</td>\n",
       "      <td>0.0032</td>\n",
       "      <td>0.0582</td>\n",
       "      <td>0.0048</td>\n",
       "      <td>0.1021</td>\n",
       "      <td>0.0550</td>\n",
       "      <td>0.0327</td>\n",
       "      <td>0.0144</td>\n",
       "      <td>0.0152</td>\n",
       "      <td>0.0072</td>\n",
       "      <td>0.0287</td>\n",
       "      <td>0.0112</td>\n",
       "      <td>0.0199</td>\n",
       "    </tr>\n",
       "    <tr>\n",
       "      <th>HBO</th>\n",
       "      <td>0.0769</td>\n",
       "      <td>0.0533</td>\n",
       "      <td>0.0473</td>\n",
       "      <td>0.0355</td>\n",
       "      <td>0.3905</td>\n",
       "      <td>0.1538</td>\n",
       "      <td>0.1006</td>\n",
       "      <td>0.5089</td>\n",
       "      <td>0.0414</td>\n",
       "      <td>0.0473</td>\n",
       "      <td>0.0059</td>\n",
       "      <td>0.0769</td>\n",
       "      <td>0.0118</td>\n",
       "      <td>0.0237</td>\n",
       "      <td>0.0059</td>\n",
       "      <td>0.0828</td>\n",
       "      <td>0.0296</td>\n",
       "      <td>0.0237</td>\n",
       "      <td>0.0769</td>\n",
       "      <td>0.0237</td>\n",
       "      <td>0.0000</td>\n",
       "      <td>0.0533</td>\n",
       "      <td>0.0414</td>\n",
       "      <td>0.0355</td>\n",
       "      <td>0.0059</td>\n",
       "      <td>0.0000</td>\n",
       "    </tr>\n",
       "    <tr>\n",
       "      <th>Netflix</th>\n",
       "      <td>0.1399</td>\n",
       "      <td>0.1190</td>\n",
       "      <td>0.1675</td>\n",
       "      <td>0.0221</td>\n",
       "      <td>0.2736</td>\n",
       "      <td>0.1466</td>\n",
       "      <td>0.1718</td>\n",
       "      <td>0.3767</td>\n",
       "      <td>0.0620</td>\n",
       "      <td>0.0571</td>\n",
       "      <td>0.0123</td>\n",
       "      <td>0.0387</td>\n",
       "      <td>0.0344</td>\n",
       "      <td>0.0178</td>\n",
       "      <td>0.0061</td>\n",
       "      <td>0.0571</td>\n",
       "      <td>0.0018</td>\n",
       "      <td>0.0883</td>\n",
       "      <td>0.0785</td>\n",
       "      <td>0.0344</td>\n",
       "      <td>0.0025</td>\n",
       "      <td>0.0160</td>\n",
       "      <td>0.0110</td>\n",
       "      <td>0.0479</td>\n",
       "      <td>0.0098</td>\n",
       "      <td>0.0031</td>\n",
       "    </tr>\n",
       "  </tbody>\n",
       "</table>\n",
       "</div>"
      ],
      "text/plain": [
       "genre              Action  Adventure  Animation  Biography  Comedy   Crime  \\\n",
       "streaming_service                                                            \n",
       "Amazon             0.1212     0.1228     0.1619     0.0191  0.2432  0.1252   \n",
       "HBO                0.0769     0.0533     0.0473     0.0355  0.3905  0.1538   \n",
       "Netflix            0.1399     0.1190     0.1675     0.0221  0.2736  0.1466   \n",
       "\n",
       "genre              Documentary   Drama  Family  Fantasy  Game-Show  History  \\\n",
       "streaming_service                                                             \n",
       "Amazon                  0.2018  0.3349  0.1045   0.0574     0.0152   0.0606   \n",
       "HBO                     0.1006  0.5089  0.0414   0.0473     0.0059   0.0769   \n",
       "Netflix                 0.1718  0.3767  0.0620   0.0571     0.0123   0.0387   \n",
       "\n",
       "genre              Horror   Music  Musical  Mystery    News  Reality-TV  \\\n",
       "streaming_service                                                         \n",
       "Amazon             0.0263  0.0096   0.0032   0.0582  0.0048      0.1021   \n",
       "HBO                0.0118  0.0237   0.0059   0.0828  0.0296      0.0237   \n",
       "Netflix            0.0344  0.0178   0.0061   0.0571  0.0018      0.0883   \n",
       "\n",
       "genre              Romance  Sci-Fi   Short   Sport  Talk-Show  Thriller  \\\n",
       "streaming_service                                                         \n",
       "Amazon              0.0550  0.0327  0.0144  0.0152     0.0072    0.0287   \n",
       "HBO                 0.0769  0.0237  0.0000  0.0533     0.0414    0.0355   \n",
       "Netflix             0.0785  0.0344  0.0025  0.0160     0.0110    0.0479   \n",
       "\n",
       "genre                 War  Western  \n",
       "streaming_service                   \n",
       "Amazon             0.0112   0.0199  \n",
       "HBO                0.0059   0.0000  \n",
       "Netflix            0.0098   0.0031  "
      ]
     },
     "execution_count": 3,
     "metadata": {},
     "output_type": "execute_result"
    }
   ],
   "source": [
    "genres_recommender"
   ]
  },
  {
   "cell_type": "markdown",
   "metadata": {},
   "source": [
    "### 2. Modelling"
   ]
  },
  {
   "cell_type": "code",
   "execution_count": 25,
   "metadata": {},
   "outputs": [
    {
     "data": {
      "text/plain": [
       "NearestNeighbors(algorithm='brute', leaf_size=30, metric='cosine',\n",
       "                 metric_params=None, n_jobs=-1, n_neighbors=5, p=2, radius=1.0)"
      ]
     },
     "execution_count": 25,
     "metadata": {},
     "output_type": "execute_result"
    }
   ],
   "source": [
    "# we will train NearestNeighbors using cosine metric\n",
    "\n",
    "model_knn = NearestNeighbors(metric=\"cosine\",\n",
    "                             algorithm=\"brute\",\n",
    "                             n_jobs=-1)\n",
    "model_knn.fit(genres_recommender)"
   ]
  },
  {
   "cell_type": "markdown",
   "metadata": {},
   "source": [
    "Now that we have our model we will test it with the user survey tests created on 06.1_user_df\n",
    "\n",
    "### 3. Test"
   ]
  },
  {
   "cell_type": "code",
   "execution_count": 5,
   "metadata": {},
   "outputs": [],
   "source": [
    "user_netflix = pd.read_pickle(path + (\"Data/netflix_test.pkl\"))"
   ]
  },
  {
   "cell_type": "code",
   "execution_count": 6,
   "metadata": {},
   "outputs": [],
   "source": [
    "user_recommender_netflix = genres_recommender.append(user_netflix)"
   ]
  },
  {
   "cell_type": "markdown",
   "metadata": {},
   "source": [
    "We will first append our user row to genres_recommender data frame."
   ]
  },
  {
   "cell_type": "code",
   "execution_count": 7,
   "metadata": {},
   "outputs": [
    {
     "data": {
      "text/html": [
       "<div>\n",
       "<style scoped>\n",
       "    .dataframe tbody tr th:only-of-type {\n",
       "        vertical-align: middle;\n",
       "    }\n",
       "\n",
       "    .dataframe tbody tr th {\n",
       "        vertical-align: top;\n",
       "    }\n",
       "\n",
       "    .dataframe thead th {\n",
       "        text-align: right;\n",
       "    }\n",
       "</style>\n",
       "<table border=\"1\" class=\"dataframe\">\n",
       "  <thead>\n",
       "    <tr style=\"text-align: right;\">\n",
       "      <th>genre</th>\n",
       "      <th>Action</th>\n",
       "      <th>Adventure</th>\n",
       "      <th>Animation</th>\n",
       "      <th>Biography</th>\n",
       "      <th>Comedy</th>\n",
       "      <th>Crime</th>\n",
       "      <th>Documentary</th>\n",
       "      <th>Drama</th>\n",
       "      <th>Family</th>\n",
       "      <th>Fantasy</th>\n",
       "      <th>Game-Show</th>\n",
       "      <th>History</th>\n",
       "      <th>Horror</th>\n",
       "      <th>Music</th>\n",
       "      <th>Musical</th>\n",
       "      <th>Mystery</th>\n",
       "      <th>News</th>\n",
       "      <th>Reality-TV</th>\n",
       "      <th>Romance</th>\n",
       "      <th>Sci-Fi</th>\n",
       "      <th>Short</th>\n",
       "      <th>Sport</th>\n",
       "      <th>Talk-Show</th>\n",
       "      <th>Thriller</th>\n",
       "      <th>War</th>\n",
       "      <th>Western</th>\n",
       "    </tr>\n",
       "  </thead>\n",
       "  <tbody>\n",
       "    <tr>\n",
       "      <th>Amazon</th>\n",
       "      <td>0.1212</td>\n",
       "      <td>0.1228</td>\n",
       "      <td>0.1619</td>\n",
       "      <td>0.0191</td>\n",
       "      <td>0.2432</td>\n",
       "      <td>0.1252</td>\n",
       "      <td>0.2018</td>\n",
       "      <td>0.3349</td>\n",
       "      <td>0.1045</td>\n",
       "      <td>0.0574</td>\n",
       "      <td>0.0152</td>\n",
       "      <td>0.0606</td>\n",
       "      <td>0.0263</td>\n",
       "      <td>0.0096</td>\n",
       "      <td>0.0032</td>\n",
       "      <td>0.0582</td>\n",
       "      <td>0.0048</td>\n",
       "      <td>0.1021</td>\n",
       "      <td>0.0550</td>\n",
       "      <td>0.0327</td>\n",
       "      <td>0.0144</td>\n",
       "      <td>0.0152</td>\n",
       "      <td>0.0072</td>\n",
       "      <td>0.0287</td>\n",
       "      <td>0.0112</td>\n",
       "      <td>0.0199</td>\n",
       "    </tr>\n",
       "    <tr>\n",
       "      <th>HBO</th>\n",
       "      <td>0.0769</td>\n",
       "      <td>0.0533</td>\n",
       "      <td>0.0473</td>\n",
       "      <td>0.0355</td>\n",
       "      <td>0.3905</td>\n",
       "      <td>0.1538</td>\n",
       "      <td>0.1006</td>\n",
       "      <td>0.5089</td>\n",
       "      <td>0.0414</td>\n",
       "      <td>0.0473</td>\n",
       "      <td>0.0059</td>\n",
       "      <td>0.0769</td>\n",
       "      <td>0.0118</td>\n",
       "      <td>0.0237</td>\n",
       "      <td>0.0059</td>\n",
       "      <td>0.0828</td>\n",
       "      <td>0.0296</td>\n",
       "      <td>0.0237</td>\n",
       "      <td>0.0769</td>\n",
       "      <td>0.0237</td>\n",
       "      <td>0.0000</td>\n",
       "      <td>0.0533</td>\n",
       "      <td>0.0414</td>\n",
       "      <td>0.0355</td>\n",
       "      <td>0.0059</td>\n",
       "      <td>0.0000</td>\n",
       "    </tr>\n",
       "    <tr>\n",
       "      <th>Netflix</th>\n",
       "      <td>0.1399</td>\n",
       "      <td>0.1190</td>\n",
       "      <td>0.1675</td>\n",
       "      <td>0.0221</td>\n",
       "      <td>0.2736</td>\n",
       "      <td>0.1466</td>\n",
       "      <td>0.1718</td>\n",
       "      <td>0.3767</td>\n",
       "      <td>0.0620</td>\n",
       "      <td>0.0571</td>\n",
       "      <td>0.0123</td>\n",
       "      <td>0.0387</td>\n",
       "      <td>0.0344</td>\n",
       "      <td>0.0178</td>\n",
       "      <td>0.0061</td>\n",
       "      <td>0.0571</td>\n",
       "      <td>0.0018</td>\n",
       "      <td>0.0883</td>\n",
       "      <td>0.0785</td>\n",
       "      <td>0.0344</td>\n",
       "      <td>0.0025</td>\n",
       "      <td>0.0160</td>\n",
       "      <td>0.0110</td>\n",
       "      <td>0.0479</td>\n",
       "      <td>0.0098</td>\n",
       "      <td>0.0031</td>\n",
       "    </tr>\n",
       "    <tr>\n",
       "      <th>User_Netflix</th>\n",
       "      <td>0.2000</td>\n",
       "      <td>0.0000</td>\n",
       "      <td>0.2000</td>\n",
       "      <td>0.0000</td>\n",
       "      <td>0.3000</td>\n",
       "      <td>0.0000</td>\n",
       "      <td>0.0000</td>\n",
       "      <td>0.8000</td>\n",
       "      <td>0.0000</td>\n",
       "      <td>0.3000</td>\n",
       "      <td>0.0000</td>\n",
       "      <td>0.0000</td>\n",
       "      <td>0.5000</td>\n",
       "      <td>0.1000</td>\n",
       "      <td>0.1000</td>\n",
       "      <td>0.0000</td>\n",
       "      <td>0.0000</td>\n",
       "      <td>0.0000</td>\n",
       "      <td>0.2000</td>\n",
       "      <td>0.2000</td>\n",
       "      <td>0.0000</td>\n",
       "      <td>0.0000</td>\n",
       "      <td>0.0000</td>\n",
       "      <td>0.4000</td>\n",
       "      <td>0.0000</td>\n",
       "      <td>0.0000</td>\n",
       "    </tr>\n",
       "  </tbody>\n",
       "</table>\n",
       "</div>"
      ],
      "text/plain": [
       "genre         Action  Adventure  Animation  Biography  Comedy   Crime  \\\n",
       "Amazon        0.1212     0.1228     0.1619     0.0191  0.2432  0.1252   \n",
       "HBO           0.0769     0.0533     0.0473     0.0355  0.3905  0.1538   \n",
       "Netflix       0.1399     0.1190     0.1675     0.0221  0.2736  0.1466   \n",
       "User_Netflix  0.2000     0.0000     0.2000     0.0000  0.3000  0.0000   \n",
       "\n",
       "genre         Documentary   Drama  Family  Fantasy  Game-Show  History  \\\n",
       "Amazon             0.2018  0.3349  0.1045   0.0574     0.0152   0.0606   \n",
       "HBO                0.1006  0.5089  0.0414   0.0473     0.0059   0.0769   \n",
       "Netflix            0.1718  0.3767  0.0620   0.0571     0.0123   0.0387   \n",
       "User_Netflix       0.0000  0.8000  0.0000   0.3000     0.0000   0.0000   \n",
       "\n",
       "genre         Horror   Music  Musical  Mystery    News  Reality-TV  Romance  \\\n",
       "Amazon        0.0263  0.0096   0.0032   0.0582  0.0048      0.1021   0.0550   \n",
       "HBO           0.0118  0.0237   0.0059   0.0828  0.0296      0.0237   0.0769   \n",
       "Netflix       0.0344  0.0178   0.0061   0.0571  0.0018      0.0883   0.0785   \n",
       "User_Netflix  0.5000  0.1000   0.1000   0.0000  0.0000      0.0000   0.2000   \n",
       "\n",
       "genre         Sci-Fi   Short   Sport  Talk-Show  Thriller     War  Western  \n",
       "Amazon        0.0327  0.0144  0.0152     0.0072    0.0287  0.0112   0.0199  \n",
       "HBO           0.0237  0.0000  0.0533     0.0414    0.0355  0.0059   0.0000  \n",
       "Netflix       0.0344  0.0025  0.0160     0.0110    0.0479  0.0098   0.0031  \n",
       "User_Netflix  0.2000  0.0000  0.0000     0.0000    0.4000  0.0000   0.0000  "
      ]
     },
     "execution_count": 7,
     "metadata": {},
     "output_type": "execute_result"
    }
   ],
   "source": [
    "user_recommender_netflix"
   ]
  },
  {
   "cell_type": "markdown",
   "metadata": {},
   "source": [
    "Now we will test the model, asking for two closest neighbors, since one of them will be the user himself, this will return two arrays, one for distances and one for the index of the nearest neighboor."
   ]
  },
  {
   "cell_type": "code",
   "execution_count": 8,
   "metadata": {},
   "outputs": [],
   "source": [
    "distances, index = model_knn.kneighbors(user_recommender_netflix.loc[\"User_Netflix\"].values.reshape(1,-1), n_neighbors=2)"
   ]
  },
  {
   "cell_type": "code",
   "execution_count": 9,
   "metadata": {},
   "outputs": [
    {
     "data": {
      "text/plain": [
       "array([[0.26694147, 0.26942758]])"
      ]
     },
     "execution_count": 9,
     "metadata": {},
     "output_type": "execute_result"
    }
   ],
   "source": [
    "distances"
   ]
  },
  {
   "cell_type": "code",
   "execution_count": 10,
   "metadata": {},
   "outputs": [
    {
     "data": {
      "text/plain": [
       "array([[2, 1]], dtype=int64)"
      ]
     },
     "execution_count": 10,
     "metadata": {},
     "output_type": "execute_result"
    }
   ],
   "source": [
    "index"
   ]
  },
  {
   "cell_type": "code",
   "execution_count": 11,
   "metadata": {},
   "outputs": [
    {
     "data": {
      "text/plain": [
       "genre\n",
       "Action         0.1399\n",
       "Adventure      0.1190\n",
       "Animation      0.1675\n",
       "Biography      0.0221\n",
       "Comedy         0.2736\n",
       "Crime          0.1466\n",
       "Documentary    0.1718\n",
       "Drama          0.3767\n",
       "Family         0.0620\n",
       "Fantasy        0.0571\n",
       "Game-Show      0.0123\n",
       "History        0.0387\n",
       "Horror         0.0344\n",
       "Music          0.0178\n",
       "Musical        0.0061\n",
       "Mystery        0.0571\n",
       "News           0.0018\n",
       "Reality-TV     0.0883\n",
       "Romance        0.0785\n",
       "Sci-Fi         0.0344\n",
       "Short          0.0025\n",
       "Sport          0.0160\n",
       "Talk-Show      0.0110\n",
       "Thriller       0.0479\n",
       "War            0.0098\n",
       "Western        0.0031\n",
       "Name: Netflix, dtype: float64"
      ]
     },
     "execution_count": 11,
     "metadata": {},
     "output_type": "execute_result"
    }
   ],
   "source": [
    "user_recommender_netflix.iloc[2]"
   ]
  },
  {
   "cell_type": "code",
   "execution_count": 12,
   "metadata": {},
   "outputs": [
    {
     "data": {
      "text/plain": [
       "'Netflix'"
      ]
     },
     "execution_count": 12,
     "metadata": {},
     "output_type": "execute_result"
    }
   ],
   "source": [
    "user_recommender_netflix.index[index.flatten()[0]]"
   ]
  },
  {
   "cell_type": "markdown",
   "metadata": {},
   "source": [
    "It works, we will now try it for Amazon and HBO"
   ]
  },
  {
   "cell_type": "code",
   "execution_count": 13,
   "metadata": {},
   "outputs": [],
   "source": [
    "user_amazon = pd.read_pickle(path + \"Data/amazon_test.pkl\")\n",
    "\n",
    "user_hbo = pd.read_pickle(path + \"Data/hbo_test.pkl\")"
   ]
  },
  {
   "cell_type": "code",
   "execution_count": 14,
   "metadata": {},
   "outputs": [],
   "source": [
    "user_recommender_amazon = genres_recommender.append(user_amazon)"
   ]
  },
  {
   "cell_type": "code",
   "execution_count": 15,
   "metadata": {},
   "outputs": [
    {
     "data": {
      "text/html": [
       "<div>\n",
       "<style scoped>\n",
       "    .dataframe tbody tr th:only-of-type {\n",
       "        vertical-align: middle;\n",
       "    }\n",
       "\n",
       "    .dataframe tbody tr th {\n",
       "        vertical-align: top;\n",
       "    }\n",
       "\n",
       "    .dataframe thead th {\n",
       "        text-align: right;\n",
       "    }\n",
       "</style>\n",
       "<table border=\"1\" class=\"dataframe\">\n",
       "  <thead>\n",
       "    <tr style=\"text-align: right;\">\n",
       "      <th>genre</th>\n",
       "      <th>Action</th>\n",
       "      <th>Adventure</th>\n",
       "      <th>Animation</th>\n",
       "      <th>Biography</th>\n",
       "      <th>Comedy</th>\n",
       "      <th>Crime</th>\n",
       "      <th>Documentary</th>\n",
       "      <th>Drama</th>\n",
       "      <th>Family</th>\n",
       "      <th>Fantasy</th>\n",
       "      <th>Game-Show</th>\n",
       "      <th>History</th>\n",
       "      <th>Horror</th>\n",
       "      <th>Music</th>\n",
       "      <th>Musical</th>\n",
       "      <th>Mystery</th>\n",
       "      <th>News</th>\n",
       "      <th>Reality-TV</th>\n",
       "      <th>Romance</th>\n",
       "      <th>Sci-Fi</th>\n",
       "      <th>Short</th>\n",
       "      <th>Sport</th>\n",
       "      <th>Talk-Show</th>\n",
       "      <th>Thriller</th>\n",
       "      <th>War</th>\n",
       "      <th>Western</th>\n",
       "    </tr>\n",
       "  </thead>\n",
       "  <tbody>\n",
       "    <tr>\n",
       "      <th>Amazon</th>\n",
       "      <td>0.1212</td>\n",
       "      <td>0.1228</td>\n",
       "      <td>0.1619</td>\n",
       "      <td>0.0191</td>\n",
       "      <td>0.2432</td>\n",
       "      <td>0.1252</td>\n",
       "      <td>0.2018</td>\n",
       "      <td>0.3349</td>\n",
       "      <td>0.1045</td>\n",
       "      <td>0.0574</td>\n",
       "      <td>0.0152</td>\n",
       "      <td>0.0606</td>\n",
       "      <td>0.0263</td>\n",
       "      <td>0.0096</td>\n",
       "      <td>0.0032</td>\n",
       "      <td>0.0582</td>\n",
       "      <td>0.0048</td>\n",
       "      <td>0.1021</td>\n",
       "      <td>0.0550</td>\n",
       "      <td>0.0327</td>\n",
       "      <td>0.0144</td>\n",
       "      <td>0.0152</td>\n",
       "      <td>0.0072</td>\n",
       "      <td>0.0287</td>\n",
       "      <td>0.0112</td>\n",
       "      <td>0.0199</td>\n",
       "    </tr>\n",
       "    <tr>\n",
       "      <th>HBO</th>\n",
       "      <td>0.0769</td>\n",
       "      <td>0.0533</td>\n",
       "      <td>0.0473</td>\n",
       "      <td>0.0355</td>\n",
       "      <td>0.3905</td>\n",
       "      <td>0.1538</td>\n",
       "      <td>0.1006</td>\n",
       "      <td>0.5089</td>\n",
       "      <td>0.0414</td>\n",
       "      <td>0.0473</td>\n",
       "      <td>0.0059</td>\n",
       "      <td>0.0769</td>\n",
       "      <td>0.0118</td>\n",
       "      <td>0.0237</td>\n",
       "      <td>0.0059</td>\n",
       "      <td>0.0828</td>\n",
       "      <td>0.0296</td>\n",
       "      <td>0.0237</td>\n",
       "      <td>0.0769</td>\n",
       "      <td>0.0237</td>\n",
       "      <td>0.0000</td>\n",
       "      <td>0.0533</td>\n",
       "      <td>0.0414</td>\n",
       "      <td>0.0355</td>\n",
       "      <td>0.0059</td>\n",
       "      <td>0.0000</td>\n",
       "    </tr>\n",
       "    <tr>\n",
       "      <th>Netflix</th>\n",
       "      <td>0.1399</td>\n",
       "      <td>0.1190</td>\n",
       "      <td>0.1675</td>\n",
       "      <td>0.0221</td>\n",
       "      <td>0.2736</td>\n",
       "      <td>0.1466</td>\n",
       "      <td>0.1718</td>\n",
       "      <td>0.3767</td>\n",
       "      <td>0.0620</td>\n",
       "      <td>0.0571</td>\n",
       "      <td>0.0123</td>\n",
       "      <td>0.0387</td>\n",
       "      <td>0.0344</td>\n",
       "      <td>0.0178</td>\n",
       "      <td>0.0061</td>\n",
       "      <td>0.0571</td>\n",
       "      <td>0.0018</td>\n",
       "      <td>0.0883</td>\n",
       "      <td>0.0785</td>\n",
       "      <td>0.0344</td>\n",
       "      <td>0.0025</td>\n",
       "      <td>0.0160</td>\n",
       "      <td>0.0110</td>\n",
       "      <td>0.0479</td>\n",
       "      <td>0.0098</td>\n",
       "      <td>0.0031</td>\n",
       "    </tr>\n",
       "    <tr>\n",
       "      <th>User</th>\n",
       "      <td>0.0000</td>\n",
       "      <td>0.3000</td>\n",
       "      <td>0.0000</td>\n",
       "      <td>0.0000</td>\n",
       "      <td>0.0000</td>\n",
       "      <td>0.0000</td>\n",
       "      <td>0.4000</td>\n",
       "      <td>0.3000</td>\n",
       "      <td>0.2000</td>\n",
       "      <td>0.0000</td>\n",
       "      <td>0.2000</td>\n",
       "      <td>0.0000</td>\n",
       "      <td>0.0000</td>\n",
       "      <td>0.0000</td>\n",
       "      <td>0.0000</td>\n",
       "      <td>0.0000</td>\n",
       "      <td>0.0000</td>\n",
       "      <td>0.2000</td>\n",
       "      <td>0.0000</td>\n",
       "      <td>0.0000</td>\n",
       "      <td>0.1000</td>\n",
       "      <td>0.0000</td>\n",
       "      <td>0.0000</td>\n",
       "      <td>0.0000</td>\n",
       "      <td>0.2000</td>\n",
       "      <td>0.2000</td>\n",
       "    </tr>\n",
       "  </tbody>\n",
       "</table>\n",
       "</div>"
      ],
      "text/plain": [
       "genre    Action  Adventure  Animation  Biography  Comedy   Crime  Documentary  \\\n",
       "Amazon   0.1212     0.1228     0.1619     0.0191  0.2432  0.1252       0.2018   \n",
       "HBO      0.0769     0.0533     0.0473     0.0355  0.3905  0.1538       0.1006   \n",
       "Netflix  0.1399     0.1190     0.1675     0.0221  0.2736  0.1466       0.1718   \n",
       "User     0.0000     0.3000     0.0000     0.0000  0.0000  0.0000       0.4000   \n",
       "\n",
       "genre     Drama  Family  Fantasy  Game-Show  History  Horror   Music  Musical  \\\n",
       "Amazon   0.3349  0.1045   0.0574     0.0152   0.0606  0.0263  0.0096   0.0032   \n",
       "HBO      0.5089  0.0414   0.0473     0.0059   0.0769  0.0118  0.0237   0.0059   \n",
       "Netflix  0.3767  0.0620   0.0571     0.0123   0.0387  0.0344  0.0178   0.0061   \n",
       "User     0.3000  0.2000   0.0000     0.2000   0.0000  0.0000  0.0000   0.0000   \n",
       "\n",
       "genre    Mystery    News  Reality-TV  Romance  Sci-Fi   Short   Sport  \\\n",
       "Amazon    0.0582  0.0048      0.1021   0.0550  0.0327  0.0144  0.0152   \n",
       "HBO       0.0828  0.0296      0.0237   0.0769  0.0237  0.0000  0.0533   \n",
       "Netflix   0.0571  0.0018      0.0883   0.0785  0.0344  0.0025  0.0160   \n",
       "User      0.0000  0.0000      0.2000   0.0000  0.0000  0.1000  0.0000   \n",
       "\n",
       "genre    Talk-Show  Thriller     War  Western  \n",
       "Amazon      0.0072    0.0287  0.0112   0.0199  \n",
       "HBO         0.0414    0.0355  0.0059   0.0000  \n",
       "Netflix     0.0110    0.0479  0.0098   0.0031  \n",
       "User        0.0000    0.0000  0.2000   0.2000  "
      ]
     },
     "execution_count": 15,
     "metadata": {},
     "output_type": "execute_result"
    }
   ],
   "source": [
    "user_recommender_amazon"
   ]
  },
  {
   "cell_type": "code",
   "execution_count": 16,
   "metadata": {},
   "outputs": [],
   "source": [
    "distances, index = model_knn.kneighbors(user_recommender_amazon.loc[\"User\"].values.reshape(1,-1), n_neighbors=2)"
   ]
  },
  {
   "cell_type": "code",
   "execution_count": 17,
   "metadata": {},
   "outputs": [
    {
     "data": {
      "text/plain": [
       "'Amazon'"
      ]
     },
     "execution_count": 17,
     "metadata": {},
     "output_type": "execute_result"
    }
   ],
   "source": [
    "user_recommender_amazon.index[index.flatten()[0]]"
   ]
  },
  {
   "cell_type": "code",
   "execution_count": 18,
   "metadata": {},
   "outputs": [],
   "source": [
    "user_recommender_hbo = genres_recommender.append(user_hbo)"
   ]
  },
  {
   "cell_type": "code",
   "execution_count": 19,
   "metadata": {},
   "outputs": [
    {
     "data": {
      "text/html": [
       "<div>\n",
       "<style scoped>\n",
       "    .dataframe tbody tr th:only-of-type {\n",
       "        vertical-align: middle;\n",
       "    }\n",
       "\n",
       "    .dataframe tbody tr th {\n",
       "        vertical-align: top;\n",
       "    }\n",
       "\n",
       "    .dataframe thead th {\n",
       "        text-align: right;\n",
       "    }\n",
       "</style>\n",
       "<table border=\"1\" class=\"dataframe\">\n",
       "  <thead>\n",
       "    <tr style=\"text-align: right;\">\n",
       "      <th>genre</th>\n",
       "      <th>Action</th>\n",
       "      <th>Adventure</th>\n",
       "      <th>Animation</th>\n",
       "      <th>Biography</th>\n",
       "      <th>Comedy</th>\n",
       "      <th>Crime</th>\n",
       "      <th>Documentary</th>\n",
       "      <th>Drama</th>\n",
       "      <th>Family</th>\n",
       "      <th>Fantasy</th>\n",
       "      <th>Game-Show</th>\n",
       "      <th>History</th>\n",
       "      <th>Horror</th>\n",
       "      <th>Music</th>\n",
       "      <th>Musical</th>\n",
       "      <th>Mystery</th>\n",
       "      <th>News</th>\n",
       "      <th>Reality-TV</th>\n",
       "      <th>Romance</th>\n",
       "      <th>Sci-Fi</th>\n",
       "      <th>Short</th>\n",
       "      <th>Sport</th>\n",
       "      <th>Talk-Show</th>\n",
       "      <th>Thriller</th>\n",
       "      <th>War</th>\n",
       "      <th>Western</th>\n",
       "    </tr>\n",
       "  </thead>\n",
       "  <tbody>\n",
       "    <tr>\n",
       "      <th>Amazon</th>\n",
       "      <td>0.1212</td>\n",
       "      <td>0.1228</td>\n",
       "      <td>0.1619</td>\n",
       "      <td>0.0191</td>\n",
       "      <td>0.2432</td>\n",
       "      <td>0.1252</td>\n",
       "      <td>0.2018</td>\n",
       "      <td>0.3349</td>\n",
       "      <td>0.1045</td>\n",
       "      <td>0.0574</td>\n",
       "      <td>0.0152</td>\n",
       "      <td>0.0606</td>\n",
       "      <td>0.0263</td>\n",
       "      <td>0.0096</td>\n",
       "      <td>0.0032</td>\n",
       "      <td>0.0582</td>\n",
       "      <td>0.0048</td>\n",
       "      <td>0.1021</td>\n",
       "      <td>0.0550</td>\n",
       "      <td>0.0327</td>\n",
       "      <td>0.0144</td>\n",
       "      <td>0.0152</td>\n",
       "      <td>0.0072</td>\n",
       "      <td>0.0287</td>\n",
       "      <td>0.0112</td>\n",
       "      <td>0.0199</td>\n",
       "    </tr>\n",
       "    <tr>\n",
       "      <th>HBO</th>\n",
       "      <td>0.0769</td>\n",
       "      <td>0.0533</td>\n",
       "      <td>0.0473</td>\n",
       "      <td>0.0355</td>\n",
       "      <td>0.3905</td>\n",
       "      <td>0.1538</td>\n",
       "      <td>0.1006</td>\n",
       "      <td>0.5089</td>\n",
       "      <td>0.0414</td>\n",
       "      <td>0.0473</td>\n",
       "      <td>0.0059</td>\n",
       "      <td>0.0769</td>\n",
       "      <td>0.0118</td>\n",
       "      <td>0.0237</td>\n",
       "      <td>0.0059</td>\n",
       "      <td>0.0828</td>\n",
       "      <td>0.0296</td>\n",
       "      <td>0.0237</td>\n",
       "      <td>0.0769</td>\n",
       "      <td>0.0237</td>\n",
       "      <td>0.0000</td>\n",
       "      <td>0.0533</td>\n",
       "      <td>0.0414</td>\n",
       "      <td>0.0355</td>\n",
       "      <td>0.0059</td>\n",
       "      <td>0.0000</td>\n",
       "    </tr>\n",
       "    <tr>\n",
       "      <th>Netflix</th>\n",
       "      <td>0.1399</td>\n",
       "      <td>0.1190</td>\n",
       "      <td>0.1675</td>\n",
       "      <td>0.0221</td>\n",
       "      <td>0.2736</td>\n",
       "      <td>0.1466</td>\n",
       "      <td>0.1718</td>\n",
       "      <td>0.3767</td>\n",
       "      <td>0.0620</td>\n",
       "      <td>0.0571</td>\n",
       "      <td>0.0123</td>\n",
       "      <td>0.0387</td>\n",
       "      <td>0.0344</td>\n",
       "      <td>0.0178</td>\n",
       "      <td>0.0061</td>\n",
       "      <td>0.0571</td>\n",
       "      <td>0.0018</td>\n",
       "      <td>0.0883</td>\n",
       "      <td>0.0785</td>\n",
       "      <td>0.0344</td>\n",
       "      <td>0.0025</td>\n",
       "      <td>0.0160</td>\n",
       "      <td>0.0110</td>\n",
       "      <td>0.0479</td>\n",
       "      <td>0.0098</td>\n",
       "      <td>0.0031</td>\n",
       "    </tr>\n",
       "    <tr>\n",
       "      <th>User</th>\n",
       "      <td>0.0000</td>\n",
       "      <td>0.0000</td>\n",
       "      <td>0.0000</td>\n",
       "      <td>0.2000</td>\n",
       "      <td>0.3000</td>\n",
       "      <td>0.4000</td>\n",
       "      <td>0.0000</td>\n",
       "      <td>0.8000</td>\n",
       "      <td>0.0000</td>\n",
       "      <td>0.0000</td>\n",
       "      <td>0.0000</td>\n",
       "      <td>0.2000</td>\n",
       "      <td>0.0000</td>\n",
       "      <td>0.1000</td>\n",
       "      <td>0.0000</td>\n",
       "      <td>0.2000</td>\n",
       "      <td>0.2000</td>\n",
       "      <td>0.0000</td>\n",
       "      <td>0.0000</td>\n",
       "      <td>0.0000</td>\n",
       "      <td>0.0000</td>\n",
       "      <td>0.2000</td>\n",
       "      <td>0.2000</td>\n",
       "      <td>0.0000</td>\n",
       "      <td>0.0000</td>\n",
       "      <td>0.0000</td>\n",
       "    </tr>\n",
       "  </tbody>\n",
       "</table>\n",
       "</div>"
      ],
      "text/plain": [
       "genre    Action  Adventure  Animation  Biography  Comedy   Crime  Documentary  \\\n",
       "Amazon   0.1212     0.1228     0.1619     0.0191  0.2432  0.1252       0.2018   \n",
       "HBO      0.0769     0.0533     0.0473     0.0355  0.3905  0.1538       0.1006   \n",
       "Netflix  0.1399     0.1190     0.1675     0.0221  0.2736  0.1466       0.1718   \n",
       "User     0.0000     0.0000     0.0000     0.2000  0.3000  0.4000       0.0000   \n",
       "\n",
       "genre     Drama  Family  Fantasy  Game-Show  History  Horror   Music  Musical  \\\n",
       "Amazon   0.3349  0.1045   0.0574     0.0152   0.0606  0.0263  0.0096   0.0032   \n",
       "HBO      0.5089  0.0414   0.0473     0.0059   0.0769  0.0118  0.0237   0.0059   \n",
       "Netflix  0.3767  0.0620   0.0571     0.0123   0.0387  0.0344  0.0178   0.0061   \n",
       "User     0.8000  0.0000   0.0000     0.0000   0.2000  0.0000  0.1000   0.0000   \n",
       "\n",
       "genre    Mystery    News  Reality-TV  Romance  Sci-Fi   Short   Sport  \\\n",
       "Amazon    0.0582  0.0048      0.1021   0.0550  0.0327  0.0144  0.0152   \n",
       "HBO       0.0828  0.0296      0.0237   0.0769  0.0237  0.0000  0.0533   \n",
       "Netflix   0.0571  0.0018      0.0883   0.0785  0.0344  0.0025  0.0160   \n",
       "User      0.2000  0.2000      0.0000   0.0000  0.0000  0.0000  0.2000   \n",
       "\n",
       "genre    Talk-Show  Thriller     War  Western  \n",
       "Amazon      0.0072    0.0287  0.0112   0.0199  \n",
       "HBO         0.0414    0.0355  0.0059   0.0000  \n",
       "Netflix     0.0110    0.0479  0.0098   0.0031  \n",
       "User        0.2000    0.0000  0.0000   0.0000  "
      ]
     },
     "execution_count": 19,
     "metadata": {},
     "output_type": "execute_result"
    }
   ],
   "source": [
    "user_recommender_hbo"
   ]
  },
  {
   "cell_type": "code",
   "execution_count": 20,
   "metadata": {},
   "outputs": [],
   "source": [
    "distances, index = model_knn.kneighbors(user_recommender_hbo.loc[\"User\"].values.reshape(1,-1), n_neighbors=2)"
   ]
  },
  {
   "cell_type": "code",
   "execution_count": 21,
   "metadata": {},
   "outputs": [
    {
     "data": {
      "text/plain": [
       "'HBO'"
      ]
     },
     "execution_count": 21,
     "metadata": {},
     "output_type": "execute_result"
    }
   ],
   "source": [
    "user_recommender_hbo.index[index.flatten()[0]]"
   ]
  },
  {
   "cell_type": "markdown",
   "metadata": {},
   "source": [
    "It works for he three streaming services. Now we will create a function with all of these steps.\n",
    "\n",
    "### 4. Create Function"
   ]
  },
  {
   "cell_type": "code",
   "execution_count": 29,
   "metadata": {},
   "outputs": [],
   "source": [
    "def get_streaming_service(genres_recommender, user):\n",
    "    \n",
    "    user_recommender = genres_recommender.append(user)\n",
    "    \n",
    "    model_knn = NearestNeighbors(metric=\"cosine\",\n",
    "                             algorithm=\"brute\",\n",
    "                             n_jobs=-1)\n",
    "    model_knn.fit(user_recommender)\n",
    "    \n",
    "    distances, streaming = model_knn.kneighbors(user_recommender.loc[\"User\"].values.reshape(1,-1), n_neighbors=2)\n",
    "\n",
    "    return (user_recommender.index[streaming.flatten()[1]])\n"
   ]
  },
  {
   "cell_type": "code",
   "execution_count": 31,
   "metadata": {},
   "outputs": [
    {
     "data": {
      "text/plain": [
       "'HBO'"
      ]
     },
     "execution_count": 31,
     "metadata": {},
     "output_type": "execute_result"
    }
   ],
   "source": [
    "get_streaming_service(genres_recommender, user_hbo)"
   ]
  },
  {
   "cell_type": "code",
   "execution_count": 32,
   "metadata": {},
   "outputs": [
    {
     "data": {
      "text/html": [
       "<div>\n",
       "<style scoped>\n",
       "    .dataframe tbody tr th:only-of-type {\n",
       "        vertical-align: middle;\n",
       "    }\n",
       "\n",
       "    .dataframe tbody tr th {\n",
       "        vertical-align: top;\n",
       "    }\n",
       "\n",
       "    .dataframe thead th {\n",
       "        text-align: right;\n",
       "    }\n",
       "</style>\n",
       "<table border=\"1\" class=\"dataframe\">\n",
       "  <thead>\n",
       "    <tr style=\"text-align: right;\">\n",
       "      <th>genre</th>\n",
       "      <th>Action</th>\n",
       "      <th>Adventure</th>\n",
       "      <th>Animation</th>\n",
       "      <th>Biography</th>\n",
       "      <th>Comedy</th>\n",
       "      <th>Crime</th>\n",
       "      <th>Documentary</th>\n",
       "      <th>Drama</th>\n",
       "      <th>Family</th>\n",
       "      <th>Fantasy</th>\n",
       "      <th>Game-Show</th>\n",
       "      <th>History</th>\n",
       "      <th>Horror</th>\n",
       "      <th>Music</th>\n",
       "      <th>Musical</th>\n",
       "      <th>Mystery</th>\n",
       "      <th>News</th>\n",
       "      <th>Reality-TV</th>\n",
       "      <th>Romance</th>\n",
       "      <th>Sci-Fi</th>\n",
       "      <th>Short</th>\n",
       "      <th>Sport</th>\n",
       "      <th>Talk-Show</th>\n",
       "      <th>Thriller</th>\n",
       "      <th>War</th>\n",
       "      <th>Western</th>\n",
       "    </tr>\n",
       "  </thead>\n",
       "  <tbody>\n",
       "    <tr>\n",
       "      <th>Amazon</th>\n",
       "      <td>0.1212</td>\n",
       "      <td>0.1228</td>\n",
       "      <td>0.1619</td>\n",
       "      <td>0.0191</td>\n",
       "      <td>0.2432</td>\n",
       "      <td>0.1252</td>\n",
       "      <td>0.2018</td>\n",
       "      <td>0.3349</td>\n",
       "      <td>0.1045</td>\n",
       "      <td>0.0574</td>\n",
       "      <td>0.0152</td>\n",
       "      <td>0.0606</td>\n",
       "      <td>0.0263</td>\n",
       "      <td>0.0096</td>\n",
       "      <td>0.0032</td>\n",
       "      <td>0.0582</td>\n",
       "      <td>0.0048</td>\n",
       "      <td>0.1021</td>\n",
       "      <td>0.0550</td>\n",
       "      <td>0.0327</td>\n",
       "      <td>0.0144</td>\n",
       "      <td>0.0152</td>\n",
       "      <td>0.0072</td>\n",
       "      <td>0.0287</td>\n",
       "      <td>0.0112</td>\n",
       "      <td>0.0199</td>\n",
       "    </tr>\n",
       "    <tr>\n",
       "      <th>HBO</th>\n",
       "      <td>0.0769</td>\n",
       "      <td>0.0533</td>\n",
       "      <td>0.0473</td>\n",
       "      <td>0.0355</td>\n",
       "      <td>0.3905</td>\n",
       "      <td>0.1538</td>\n",
       "      <td>0.1006</td>\n",
       "      <td>0.5089</td>\n",
       "      <td>0.0414</td>\n",
       "      <td>0.0473</td>\n",
       "      <td>0.0059</td>\n",
       "      <td>0.0769</td>\n",
       "      <td>0.0118</td>\n",
       "      <td>0.0237</td>\n",
       "      <td>0.0059</td>\n",
       "      <td>0.0828</td>\n",
       "      <td>0.0296</td>\n",
       "      <td>0.0237</td>\n",
       "      <td>0.0769</td>\n",
       "      <td>0.0237</td>\n",
       "      <td>0.0000</td>\n",
       "      <td>0.0533</td>\n",
       "      <td>0.0414</td>\n",
       "      <td>0.0355</td>\n",
       "      <td>0.0059</td>\n",
       "      <td>0.0000</td>\n",
       "    </tr>\n",
       "    <tr>\n",
       "      <th>Netflix</th>\n",
       "      <td>0.1399</td>\n",
       "      <td>0.1190</td>\n",
       "      <td>0.1675</td>\n",
       "      <td>0.0221</td>\n",
       "      <td>0.2736</td>\n",
       "      <td>0.1466</td>\n",
       "      <td>0.1718</td>\n",
       "      <td>0.3767</td>\n",
       "      <td>0.0620</td>\n",
       "      <td>0.0571</td>\n",
       "      <td>0.0123</td>\n",
       "      <td>0.0387</td>\n",
       "      <td>0.0344</td>\n",
       "      <td>0.0178</td>\n",
       "      <td>0.0061</td>\n",
       "      <td>0.0571</td>\n",
       "      <td>0.0018</td>\n",
       "      <td>0.0883</td>\n",
       "      <td>0.0785</td>\n",
       "      <td>0.0344</td>\n",
       "      <td>0.0025</td>\n",
       "      <td>0.0160</td>\n",
       "      <td>0.0110</td>\n",
       "      <td>0.0479</td>\n",
       "      <td>0.0098</td>\n",
       "      <td>0.0031</td>\n",
       "    </tr>\n",
       "    <tr>\n",
       "      <th>User_Netflix</th>\n",
       "      <td>0.2000</td>\n",
       "      <td>0.0000</td>\n",
       "      <td>0.2000</td>\n",
       "      <td>0.0000</td>\n",
       "      <td>0.3000</td>\n",
       "      <td>0.0000</td>\n",
       "      <td>0.0000</td>\n",
       "      <td>0.8000</td>\n",
       "      <td>0.0000</td>\n",
       "      <td>0.3000</td>\n",
       "      <td>0.0000</td>\n",
       "      <td>0.0000</td>\n",
       "      <td>0.5000</td>\n",
       "      <td>0.1000</td>\n",
       "      <td>0.1000</td>\n",
       "      <td>0.0000</td>\n",
       "      <td>0.0000</td>\n",
       "      <td>0.0000</td>\n",
       "      <td>0.2000</td>\n",
       "      <td>0.2000</td>\n",
       "      <td>0.0000</td>\n",
       "      <td>0.0000</td>\n",
       "      <td>0.0000</td>\n",
       "      <td>0.4000</td>\n",
       "      <td>0.0000</td>\n",
       "      <td>0.0000</td>\n",
       "    </tr>\n",
       "  </tbody>\n",
       "</table>\n",
       "</div>"
      ],
      "text/plain": [
       "genre         Action  Adventure  Animation  Biography  Comedy   Crime  \\\n",
       "Amazon        0.1212     0.1228     0.1619     0.0191  0.2432  0.1252   \n",
       "HBO           0.0769     0.0533     0.0473     0.0355  0.3905  0.1538   \n",
       "Netflix       0.1399     0.1190     0.1675     0.0221  0.2736  0.1466   \n",
       "User_Netflix  0.2000     0.0000     0.2000     0.0000  0.3000  0.0000   \n",
       "\n",
       "genre         Documentary   Drama  Family  Fantasy  Game-Show  History  \\\n",
       "Amazon             0.2018  0.3349  0.1045   0.0574     0.0152   0.0606   \n",
       "HBO                0.1006  0.5089  0.0414   0.0473     0.0059   0.0769   \n",
       "Netflix            0.1718  0.3767  0.0620   0.0571     0.0123   0.0387   \n",
       "User_Netflix       0.0000  0.8000  0.0000   0.3000     0.0000   0.0000   \n",
       "\n",
       "genre         Horror   Music  Musical  Mystery    News  Reality-TV  Romance  \\\n",
       "Amazon        0.0263  0.0096   0.0032   0.0582  0.0048      0.1021   0.0550   \n",
       "HBO           0.0118  0.0237   0.0059   0.0828  0.0296      0.0237   0.0769   \n",
       "Netflix       0.0344  0.0178   0.0061   0.0571  0.0018      0.0883   0.0785   \n",
       "User_Netflix  0.5000  0.1000   0.1000   0.0000  0.0000      0.0000   0.2000   \n",
       "\n",
       "genre         Sci-Fi   Short   Sport  Talk-Show  Thriller     War  Western  \n",
       "Amazon        0.0327  0.0144  0.0152     0.0072    0.0287  0.0112   0.0199  \n",
       "HBO           0.0237  0.0000  0.0533     0.0414    0.0355  0.0059   0.0000  \n",
       "Netflix       0.0344  0.0025  0.0160     0.0110    0.0479  0.0098   0.0031  \n",
       "User_Netflix  0.2000  0.0000  0.0000     0.0000    0.4000  0.0000   0.0000  "
      ]
     },
     "execution_count": 32,
     "metadata": {},
     "output_type": "execute_result"
    }
   ],
   "source": [
    "user_recommender_netflix"
   ]
  },
  {
   "cell_type": "code",
   "execution_count": 36,
   "metadata": {},
   "outputs": [],
   "source": [
    "netflix_values = user_recommender_netflix.loc[\"Netflix\"].values"
   ]
  },
  {
   "cell_type": "code",
   "execution_count": 37,
   "metadata": {},
   "outputs": [],
   "source": [
    "user_values = user_recommender_netflix.loc[\"User_Netflix\"].values"
   ]
  },
  {
   "cell_type": "code",
   "execution_count": 43,
   "metadata": {},
   "outputs": [],
   "source": [
    "for i in range(26):\n",
    "    distance += (netflix_values[i] - user_values[i])**2\n",
    "\n",
    "distance = distance**(1/2)"
   ]
  },
  {
   "cell_type": "code",
   "execution_count": 44,
   "metadata": {},
   "outputs": [
    {
     "data": {
      "text/plain": [
       "0.8531497992732577"
      ]
     },
     "execution_count": 44,
     "metadata": {},
     "output_type": "execute_result"
    }
   ],
   "source": [
    "distance"
   ]
  },
  {
   "cell_type": "code",
   "execution_count": 40,
   "metadata": {},
   "outputs": [
    {
     "data": {
      "text/plain": [
       "(array([[0.        , 0.82812476, 0.85133106, 0.90354031]]),\n",
       " array([[3, 1, 2, 0]], dtype=int64))"
      ]
     },
     "execution_count": 40,
     "metadata": {},
     "output_type": "execute_result"
    }
   ],
   "source": [
    "model_knn = NearestNeighbors(metric=\"euclidean\",\n",
    "                             algorithm=\"brute\",\n",
    "                             n_jobs=-1)\n",
    "model_knn.fit(user_recommender_netflix)\n",
    "\n",
    "model_knn.kneighbors(user_recommender_netflix.loc[\"User_Netflix\"].values.reshape(1,-1), n_neighbors=4)"
   ]
  },
  {
   "cell_type": "code",
   "execution_count": 50,
   "metadata": {},
   "outputs": [
    {
     "data": {
      "text/plain": [
       "0.7330585296050363"
      ]
     },
     "execution_count": 50,
     "metadata": {},
     "output_type": "execute_result"
    }
   ],
   "source": [
    "product = 0\n",
    "netflix = 0\n",
    "user = 0\n",
    "\n",
    "for i in range(26):\n",
    "    product += netflix_values[i] * user_values[i]\n",
    "    netflix += netflix_values[i]**2\n",
    "    user += user_values[i]**2\n",
    "\n",
    "similarity = product / ((netflix**(1/2)) * (user**(1/2)))\n",
    "\n",
    "similarity"
   ]
  },
  {
   "cell_type": "code",
   "execution_count": 62,
   "metadata": {},
   "outputs": [],
   "source": [
    "from math import acos\n",
    "from math import pi"
   ]
  },
  {
   "cell_type": "code",
   "execution_count": 63,
   "metadata": {},
   "outputs": [
    {
     "data": {
      "text/plain": [
       "0.2380921223472376"
      ]
     },
     "execution_count": 63,
     "metadata": {},
     "output_type": "execute_result"
    }
   ],
   "source": [
    "(acos(similarity) / pi)"
   ]
  },
  {
   "cell_type": "code",
   "execution_count": 51,
   "metadata": {},
   "outputs": [
    {
     "data": {
      "text/plain": [
       "(array([[0.        , 0.26694147, 0.26942758, 0.32079523]]),\n",
       " array([[3, 2, 1, 0]], dtype=int64))"
      ]
     },
     "execution_count": 51,
     "metadata": {},
     "output_type": "execute_result"
    }
   ],
   "source": [
    "model_knn = NearestNeighbors(metric=\"cosine\",\n",
    "                             algorithm=\"brute\",\n",
    "                             n_jobs=-1)\n",
    "model_knn.fit(user_recommender_netflix)\n",
    "\n",
    "model_knn.kneighbors(user_recommender_netflix.loc[\"User_Netflix\"].values.reshape(1,-1), n_neighbors=4)"
   ]
  },
  {
   "cell_type": "code",
   "execution_count": 65,
   "metadata": {},
   "outputs": [],
   "source": [
    "netflix = pd.read_pickle(path + \"Data/netflix_genres.pkl\")"
   ]
  },
  {
   "cell_type": "code",
   "execution_count": 125,
   "metadata": {},
   "outputs": [
    {
     "data": {
      "text/html": [
       "<div>\n",
       "<style scoped>\n",
       "    .dataframe tbody tr th:only-of-type {\n",
       "        vertical-align: middle;\n",
       "    }\n",
       "\n",
       "    .dataframe tbody tr th {\n",
       "        vertical-align: top;\n",
       "    }\n",
       "\n",
       "    .dataframe thead th {\n",
       "        text-align: right;\n",
       "    }\n",
       "</style>\n",
       "<table border=\"1\" class=\"dataframe\">\n",
       "  <thead>\n",
       "    <tr style=\"text-align: right;\">\n",
       "      <th></th>\n",
       "      <th>show</th>\n",
       "      <th>genres</th>\n",
       "      <th>Crime</th>\n",
       "      <th>Drama</th>\n",
       "      <th>Thriller</th>\n",
       "      <th>Fantasy</th>\n",
       "      <th>Horror</th>\n",
       "      <th>Mystery</th>\n",
       "      <th>Comedy</th>\n",
       "      <th>Sci-Fi</th>\n",
       "      <th>Biography</th>\n",
       "      <th>Action</th>\n",
       "      <th>Adventure</th>\n",
       "      <th>Romance</th>\n",
       "      <th>History</th>\n",
       "      <th>Documentary</th>\n",
       "      <th>Animation</th>\n",
       "      <th>War</th>\n",
       "      <th>Sport</th>\n",
       "      <th>Family</th>\n",
       "      <th>Western</th>\n",
       "      <th>Short</th>\n",
       "      <th>Reality-TV</th>\n",
       "      <th>Musical</th>\n",
       "      <th>Music</th>\n",
       "      <th>Game-Show</th>\n",
       "      <th>Talk-Show</th>\n",
       "      <th>News</th>\n",
       "    </tr>\n",
       "  </thead>\n",
       "  <tbody>\n",
       "    <tr>\n",
       "      <th>197</th>\n",
       "      <td>Blue Mountain State</td>\n",
       "      <td>Comedy,Sport</td>\n",
       "      <td>0</td>\n",
       "      <td>0</td>\n",
       "      <td>0</td>\n",
       "      <td>0</td>\n",
       "      <td>0</td>\n",
       "      <td>0</td>\n",
       "      <td>1</td>\n",
       "      <td>0</td>\n",
       "      <td>0</td>\n",
       "      <td>0</td>\n",
       "      <td>0</td>\n",
       "      <td>0</td>\n",
       "      <td>0</td>\n",
       "      <td>0</td>\n",
       "      <td>0</td>\n",
       "      <td>0</td>\n",
       "      <td>1</td>\n",
       "      <td>0</td>\n",
       "      <td>0</td>\n",
       "      <td>0</td>\n",
       "      <td>0</td>\n",
       "      <td>0</td>\n",
       "      <td>0</td>\n",
       "      <td>0</td>\n",
       "      <td>0</td>\n",
       "      <td>0</td>\n",
       "    </tr>\n",
       "  </tbody>\n",
       "</table>\n",
       "</div>"
      ],
      "text/plain": [
       "                    show        genres  Crime  Drama  Thriller  Fantasy  \\\n",
       "197  Blue Mountain State  Comedy,Sport      0      0         0        0   \n",
       "\n",
       "     Horror  Mystery  Comedy  Sci-Fi  Biography  Action  Adventure  Romance  \\\n",
       "197       0        0       1       0          0       0          0        0   \n",
       "\n",
       "     History  Documentary  Animation  War  Sport  Family  Western  Short  \\\n",
       "197        0            0          0    0      1       0        0      0   \n",
       "\n",
       "     Reality-TV  Musical  Music  Game-Show  Talk-Show  News  \n",
       "197           0        0      0          0          0     0  "
      ]
     },
     "execution_count": 125,
     "metadata": {},
     "output_type": "execute_result"
    }
   ],
   "source": [
    "netflix[netflix[\"show\"] == \"Blue Mountain State\"].head(20)"
   ]
  },
  {
   "cell_type": "code",
   "execution_count": 74,
   "metadata": {},
   "outputs": [
    {
     "data": {
      "text/plain": [
       "Amazon          1.9563\n",
       "HBO             1.9525\n",
       "Netflix         1.9960\n",
       "User_Netflix    3.3000\n",
       "dtype: float64"
      ]
     },
     "execution_count": 74,
     "metadata": {},
     "output_type": "execute_result"
    }
   ],
   "source": [
    "user_recommender_netflix.sum(axis=1)"
   ]
  },
  {
   "cell_type": "code",
   "execution_count": 115,
   "metadata": {},
   "outputs": [],
   "source": [
    "test = pd.read_pickle(path + \"Data/user_test.pkl\")"
   ]
  },
  {
   "cell_type": "code",
   "execution_count": 116,
   "metadata": {},
   "outputs": [],
   "source": [
    "user_recommender2 = genres_recommender.append(test)"
   ]
  },
  {
   "cell_type": "code",
   "execution_count": 117,
   "metadata": {},
   "outputs": [
    {
     "data": {
      "text/html": [
       "<div>\n",
       "<style scoped>\n",
       "    .dataframe tbody tr th:only-of-type {\n",
       "        vertical-align: middle;\n",
       "    }\n",
       "\n",
       "    .dataframe tbody tr th {\n",
       "        vertical-align: top;\n",
       "    }\n",
       "\n",
       "    .dataframe thead th {\n",
       "        text-align: right;\n",
       "    }\n",
       "</style>\n",
       "<table border=\"1\" class=\"dataframe\">\n",
       "  <thead>\n",
       "    <tr style=\"text-align: right;\">\n",
       "      <th>genre</th>\n",
       "      <th>Action</th>\n",
       "      <th>Adventure</th>\n",
       "      <th>Animation</th>\n",
       "      <th>Biography</th>\n",
       "      <th>Comedy</th>\n",
       "      <th>Crime</th>\n",
       "      <th>Documentary</th>\n",
       "      <th>Drama</th>\n",
       "      <th>Family</th>\n",
       "      <th>Fantasy</th>\n",
       "      <th>Game-Show</th>\n",
       "      <th>History</th>\n",
       "      <th>Horror</th>\n",
       "      <th>Music</th>\n",
       "      <th>Musical</th>\n",
       "      <th>Mystery</th>\n",
       "      <th>News</th>\n",
       "      <th>Reality-TV</th>\n",
       "      <th>Romance</th>\n",
       "      <th>Sci-Fi</th>\n",
       "      <th>Short</th>\n",
       "      <th>Sport</th>\n",
       "      <th>Talk-Show</th>\n",
       "      <th>Thriller</th>\n",
       "      <th>War</th>\n",
       "      <th>Western</th>\n",
       "    </tr>\n",
       "  </thead>\n",
       "  <tbody>\n",
       "    <tr>\n",
       "      <th>Amazon</th>\n",
       "      <td>0.1212</td>\n",
       "      <td>0.1228</td>\n",
       "      <td>0.1619</td>\n",
       "      <td>0.0191</td>\n",
       "      <td>0.2432</td>\n",
       "      <td>0.1252</td>\n",
       "      <td>0.2018</td>\n",
       "      <td>0.3349</td>\n",
       "      <td>0.1045</td>\n",
       "      <td>0.0574</td>\n",
       "      <td>0.0152</td>\n",
       "      <td>0.0606</td>\n",
       "      <td>0.0263</td>\n",
       "      <td>0.0096</td>\n",
       "      <td>0.0032</td>\n",
       "      <td>0.0582</td>\n",
       "      <td>0.0048</td>\n",
       "      <td>0.1021</td>\n",
       "      <td>0.0550</td>\n",
       "      <td>0.0327</td>\n",
       "      <td>0.0144</td>\n",
       "      <td>0.0152</td>\n",
       "      <td>0.0072</td>\n",
       "      <td>0.0287</td>\n",
       "      <td>0.0112</td>\n",
       "      <td>0.0199</td>\n",
       "    </tr>\n",
       "    <tr>\n",
       "      <th>HBO</th>\n",
       "      <td>0.0769</td>\n",
       "      <td>0.0533</td>\n",
       "      <td>0.0473</td>\n",
       "      <td>0.0355</td>\n",
       "      <td>0.3905</td>\n",
       "      <td>0.1538</td>\n",
       "      <td>0.1006</td>\n",
       "      <td>0.5089</td>\n",
       "      <td>0.0414</td>\n",
       "      <td>0.0473</td>\n",
       "      <td>0.0059</td>\n",
       "      <td>0.0769</td>\n",
       "      <td>0.0118</td>\n",
       "      <td>0.0237</td>\n",
       "      <td>0.0059</td>\n",
       "      <td>0.0828</td>\n",
       "      <td>0.0296</td>\n",
       "      <td>0.0237</td>\n",
       "      <td>0.0769</td>\n",
       "      <td>0.0237</td>\n",
       "      <td>0.0000</td>\n",
       "      <td>0.0533</td>\n",
       "      <td>0.0414</td>\n",
       "      <td>0.0355</td>\n",
       "      <td>0.0059</td>\n",
       "      <td>0.0000</td>\n",
       "    </tr>\n",
       "    <tr>\n",
       "      <th>Netflix</th>\n",
       "      <td>0.1399</td>\n",
       "      <td>0.1190</td>\n",
       "      <td>0.1675</td>\n",
       "      <td>0.0221</td>\n",
       "      <td>0.2736</td>\n",
       "      <td>0.1466</td>\n",
       "      <td>0.1718</td>\n",
       "      <td>0.3767</td>\n",
       "      <td>0.0620</td>\n",
       "      <td>0.0571</td>\n",
       "      <td>0.0123</td>\n",
       "      <td>0.0387</td>\n",
       "      <td>0.0344</td>\n",
       "      <td>0.0178</td>\n",
       "      <td>0.0061</td>\n",
       "      <td>0.0571</td>\n",
       "      <td>0.0018</td>\n",
       "      <td>0.0883</td>\n",
       "      <td>0.0785</td>\n",
       "      <td>0.0344</td>\n",
       "      <td>0.0025</td>\n",
       "      <td>0.0160</td>\n",
       "      <td>0.0110</td>\n",
       "      <td>0.0479</td>\n",
       "      <td>0.0098</td>\n",
       "      <td>0.0031</td>\n",
       "    </tr>\n",
       "    <tr>\n",
       "      <th>User</th>\n",
       "      <td>0.1333</td>\n",
       "      <td>0.1333</td>\n",
       "      <td>0.1333</td>\n",
       "      <td>0.0333</td>\n",
       "      <td>0.3333</td>\n",
       "      <td>0.1000</td>\n",
       "      <td>0.1333</td>\n",
       "      <td>0.5000</td>\n",
       "      <td>0.0333</td>\n",
       "      <td>0.1667</td>\n",
       "      <td>0.0333</td>\n",
       "      <td>0.0667</td>\n",
       "      <td>0.2000</td>\n",
       "      <td>0.0333</td>\n",
       "      <td>0.0333</td>\n",
       "      <td>0.0333</td>\n",
       "      <td>0.0333</td>\n",
       "      <td>0.0667</td>\n",
       "      <td>0.1000</td>\n",
       "      <td>0.1000</td>\n",
       "      <td>0.0333</td>\n",
       "      <td>0.0333</td>\n",
       "      <td>0.0333</td>\n",
       "      <td>0.2000</td>\n",
       "      <td>0.0333</td>\n",
       "      <td>0.0333</td>\n",
       "    </tr>\n",
       "  </tbody>\n",
       "</table>\n",
       "</div>"
      ],
      "text/plain": [
       "genre    Action  Adventure  Animation  Biography  Comedy   Crime  Documentary  \\\n",
       "Amazon   0.1212     0.1228     0.1619     0.0191  0.2432  0.1252       0.2018   \n",
       "HBO      0.0769     0.0533     0.0473     0.0355  0.3905  0.1538       0.1006   \n",
       "Netflix  0.1399     0.1190     0.1675     0.0221  0.2736  0.1466       0.1718   \n",
       "User     0.1333     0.1333     0.1333     0.0333  0.3333  0.1000       0.1333   \n",
       "\n",
       "genre     Drama  Family  Fantasy  Game-Show  History  Horror   Music  Musical  \\\n",
       "Amazon   0.3349  0.1045   0.0574     0.0152   0.0606  0.0263  0.0096   0.0032   \n",
       "HBO      0.5089  0.0414   0.0473     0.0059   0.0769  0.0118  0.0237   0.0059   \n",
       "Netflix  0.3767  0.0620   0.0571     0.0123   0.0387  0.0344  0.0178   0.0061   \n",
       "User     0.5000  0.0333   0.1667     0.0333   0.0667  0.2000  0.0333   0.0333   \n",
       "\n",
       "genre    Mystery    News  Reality-TV  Romance  Sci-Fi   Short   Sport  \\\n",
       "Amazon    0.0582  0.0048      0.1021   0.0550  0.0327  0.0144  0.0152   \n",
       "HBO       0.0828  0.0296      0.0237   0.0769  0.0237  0.0000  0.0533   \n",
       "Netflix   0.0571  0.0018      0.0883   0.0785  0.0344  0.0025  0.0160   \n",
       "User      0.0333  0.0333      0.0667   0.1000  0.1000  0.0333  0.0333   \n",
       "\n",
       "genre    Talk-Show  Thriller     War  Western  \n",
       "Amazon      0.0072    0.0287  0.0112   0.0199  \n",
       "HBO         0.0414    0.0355  0.0059   0.0000  \n",
       "Netflix     0.0110    0.0479  0.0098   0.0031  \n",
       "User        0.0333    0.2000  0.0333   0.0333  "
      ]
     },
     "execution_count": 117,
     "metadata": {},
     "output_type": "execute_result"
    }
   ],
   "source": [
    "user_recommender2"
   ]
  },
  {
   "cell_type": "code",
   "execution_count": 121,
   "metadata": {},
   "outputs": [
    {
     "data": {
      "text/plain": [
       "(array([[2.98023224e-08, 3.15536052e-01, 3.41903715e-01, 3.62790725e-01]]),\n",
       " array([[3, 2, 1, 0]], dtype=int64))"
      ]
     },
     "execution_count": 121,
     "metadata": {},
     "output_type": "execute_result"
    }
   ],
   "source": [
    "model_knn = NearestNeighbors(metric=\"euclidean\",\n",
    "                             algorithm=\"brute\",\n",
    "                             n_jobs=-1)\n",
    "model_knn.fit(user_recommender2)\n",
    "\n",
    "model_knn.kneighbors(user_recommender2.loc[\"User\"].values.reshape(1,-1), n_neighbors=4)"
   ]
  },
  {
   "cell_type": "code",
   "execution_count": 119,
   "metadata": {},
   "outputs": [
    {
     "data": {
      "text/plain": [
       "1.569438269602229"
      ]
     },
     "execution_count": 119,
     "metadata": {},
     "output_type": "execute_result"
    }
   ],
   "source": [
    "netflix_values = user_recommender2.loc[\"Netflix\"].values\n",
    "\n",
    "user_values = user_recommender2.loc[\"User\"].values\n",
    "\n",
    "for i in range(26):\n",
    "    distance += (netflix_values[i] - user_values[i])**2\n",
    "\n",
    "distance = distance**(0.5)\n",
    "\n",
    "distance\n"
   ]
  },
  {
   "cell_type": "code",
   "execution_count": 111,
   "metadata": {},
   "outputs": [
    {
     "data": {
      "text/plain": [
       "2.2888927261381644"
      ]
     },
     "execution_count": 111,
     "metadata": {},
     "output_type": "execute_result"
    }
   ],
   "source": [
    "hbo_values = user_recommender2.loc[\"HBO\"].values\n",
    "\n",
    "user_values = user_recommender2.loc[\"User\"].values\n",
    "\n",
    "for i in range(26):\n",
    "    distance += (hbo_values[i] - user_values[i])**2\n",
    "\n",
    "distance = distance**(0.5)\n",
    "\n",
    "distance"
   ]
  },
  {
   "cell_type": "code",
   "execution_count": 113,
   "metadata": {},
   "outputs": [
    {
     "data": {
      "text/plain": [
       "2.3635734820920398"
      ]
     },
     "execution_count": 113,
     "metadata": {},
     "output_type": "execute_result"
    }
   ],
   "source": [
    "amazon_values = user_recommender2.loc[\"Amazon\"].values\n",
    "\n",
    "user_values = user_recommender2.loc[\"User\"].values\n",
    "\n",
    "for i in range(26):\n",
    "    distance += (amazon_values[i] - user_values[i])**2\n",
    "\n",
    "distance = distance**(0.5)\n",
    "\n",
    "distance"
   ]
  },
  {
   "cell_type": "code",
   "execution_count": 122,
   "metadata": {},
   "outputs": [
    {
     "data": {
      "text/plain": [
       "Amazon     1.9563\n",
       "HBO        1.9525\n",
       "Netflix    1.9960\n",
       "User       2.7662\n",
       "dtype: float64"
      ]
     },
     "execution_count": 122,
     "metadata": {},
     "output_type": "execute_result"
    }
   ],
   "source": [
    "user_recommender2.sum(axis=1)"
   ]
  },
  {
   "cell_type": "code",
   "execution_count": null,
   "metadata": {},
   "outputs": [],
   "source": []
  }
 ],
 "metadata": {
  "kernelspec": {
   "display_name": "Python 3",
   "language": "python",
   "name": "python3"
  },
  "language_info": {
   "codemirror_mode": {
    "name": "ipython",
    "version": 3
   },
   "file_extension": ".py",
   "mimetype": "text/x-python",
   "name": "python",
   "nbconvert_exporter": "python",
   "pygments_lexer": "ipython3",
   "version": "3.7.6"
  }
 },
 "nbformat": 4,
 "nbformat_minor": 4
}
