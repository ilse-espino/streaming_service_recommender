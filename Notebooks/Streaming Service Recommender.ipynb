{
 "cells": [
  {
   "cell_type": "code",
   "execution_count": 1,
   "metadata": {},
   "outputs": [],
   "source": [
    "import pandas as pd\n",
    "import streaming_service_recommender\n",
    "\n",
    "genres_recommender = pd.read_pickle(\"../Data/genres_recommender.pkl\")\n",
    "\n",
    "url = \"https://docs.google.com/spreadsheets/d/1VsL_x7WAcEm-pLNmCqNwrDlFjTR_PUDpiadyUYJM-AQ/export?format=csv&gid=1360685521\"\n",
    "survey_df = pd.read_csv(url)\n",
    "\n",
    "all_shows = pd.read_pickle(\"../Data/all_shows_genres.pkl\")"
   ]
  },
  {
   "cell_type": "markdown",
   "metadata": {},
   "source": [
    "# Streaming Service Recommender\n",
    "\n",
    "This recommender will return your recommended streaming service from the following services:\n",
    "\n",
    "- Netflix\n",
    "- Amazon\n",
    "- HBO\n",
    "\n",
    "\n",
    "## 1. Please fill out the following survey: https://forms.gle/8F5uzYwWKuYe4n1f9\n",
    "\n",
    "## 2. Run the following cell to get your list of recommendations.\n",
    "\n"
   ]
  },
  {
   "cell_type": "code",
   "execution_count": 2,
   "metadata": {},
   "outputs": [
    {
     "name": "stdout",
     "output_type": "stream",
     "text": [
      "How many recommendations would you like from 1 to 3?3\n",
      "\n",
      "\n",
      "Your recommendations in order from most similar to less are the following:\n",
      "1. HBO\n",
      "2. Netflix\n",
      "3. Amazon\n",
      "\n"
     ]
    }
   ],
   "source": [
    "streaming_service_recommender.streaming_recommendations(genres_recommender, survey_df, all_shows)"
   ]
  },
  {
   "cell_type": "code",
   "execution_count": null,
   "metadata": {},
   "outputs": [],
   "source": []
  }
 ],
 "metadata": {
  "kernelspec": {
   "display_name": "Python 3",
   "language": "python",
   "name": "python3"
  },
  "language_info": {
   "codemirror_mode": {
    "name": "ipython",
    "version": 3
   },
   "file_extension": ".py",
   "mimetype": "text/x-python",
   "name": "python",
   "nbconvert_exporter": "python",
   "pygments_lexer": "ipython3",
   "version": "3.7.6"
  }
 },
 "nbformat": 4,
 "nbformat_minor": 4
}
