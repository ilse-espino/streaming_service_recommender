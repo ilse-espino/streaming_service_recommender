{
 "cells": [
  {
   "cell_type": "code",
   "execution_count": 1,
   "metadata": {},
   "outputs": [],
   "source": [
    "import pandas as pd\n",
    "import numpy as np\n",
    "import re\n",
    "from fuzzywuzzy import fuzz\n",
    "from scipy.spatial.distance import pdist, squareform\n",
    "\n",
    "pd.set_option(\"display.max_columns\", None)"
   ]
  },
  {
   "cell_type": "markdown",
   "metadata": {},
   "source": [
    "## Streaming Service Recommender\n",
    "\n",
    "#### Goals\n",
    "\n",
    "- wrap all up together and update some functions\n",
    "- use functions in this notebook to create a module to use for the streaming service recommender\n",
    "\n",
    "### 1. Import data\n",
    "\n",
    "Import all necessary data."
   ]
  },
  {
   "cell_type": "code",
   "execution_count": 2,
   "metadata": {},
   "outputs": [],
   "source": [
    "url = \"https://docs.google.com/spreadsheets/d/1VsL_x7WAcEm-pLNmCqNwrDlFjTR_PUDpiadyUYJM-AQ/export?format=csv&gid=1360685521\"\n",
    "survey_df = pd.read_csv(url)\n",
    "\n",
    "all_shows = pd.read_pickle(\"../Data/all_shows_genres.pkl\")\n",
    "\n",
    "genres_recommender = pd.read_pickle(\"../Data/genres_recommender.pkl\")"
   ]
  },
  {
   "cell_type": "markdown",
   "metadata": {},
   "source": [
    "### 2. Create user_df"
   ]
  },
  {
   "cell_type": "code",
   "execution_count": 3,
   "metadata": {},
   "outputs": [],
   "source": [
    "def get_recommender_df(survey_df, df_all_shows):\n",
    "    \n",
    "    genre_columns = ['Crime', 'Drama', 'Thriller', 'Fantasy', 'Horror', 'Mystery', 'Comedy', 'Sci-Fi', 'Biography',\n",
    "                 'Action', 'Adventure', 'Romance', 'History', 'Documentary', 'Animation', 'War', 'Sport',\n",
    "                 'Family', 'Western', 'Short', 'Reality-TV', 'Musical', 'Music', 'Game-Show', 'Talk-Show', 'News']\n",
    "    \n",
    "    survey_df = survey_df.drop(columns=\"Timestamp\")\n",
    "    \n",
    "    all_shows_lst = [show for show in df_all_shows[\"show\"]]\n",
    "    \n",
    "    titles = []\n",
    "        \n",
    "    # we will select just the last element using the tail pandas method\n",
    "    for show in survey_df.tail(1).values[0]:\n",
    "        # remove the year and description\n",
    "        title_pattern = r\"(.*)\\s\\(\\d{4}\\).*$\"\n",
    "        title = re.findall(title_pattern, show)\n",
    "        titles.append(title[0])\n",
    "\n",
    "    matches = []\n",
    "\n",
    "    for title in titles:\n",
    "        for show in all_shows_lst:\n",
    "            ratio = fuzz.ratio(title.lower(), show.lower())\n",
    "            if ratio == 100:\n",
    "                matches.append(show)\n",
    "                matches = list(set(matches))\n",
    "                              \n",
    "    user_df = df_all_shows[df_all_shows[\"show\"].isin(matches)].reset_index(drop=True)\n",
    "    \n",
    "    user_genre_ratio = (pd.DataFrame(user_df[genre_columns].sum()\n",
    "                                    .sort_values(ascending=False))\n",
    "                       .reset_index()\n",
    "                       .rename(columns={\"index\":\"genre\", 0:\"frequency\"}))\n",
    "\n",
    "    user_genre_ratio[\"ratio\"] = round((user_genre_ratio[\"frequency\"] / 30), 4)\n",
    "\n",
    "    user_genre_ratio[\"user\"] = \"User\"\n",
    "\n",
    "    user_recommender = user_genre_ratio.pivot_table(index=\"user\",\n",
    "                                          columns=\"genre\",\n",
    "                                          values=\"ratio\")\n",
    "    \n",
    "    return user_recommender"
   ]
  },
  {
   "cell_type": "markdown",
   "metadata": {},
   "source": [
    "### 3. Get recommendations"
   ]
  },
  {
   "cell_type": "code",
   "execution_count": 4,
   "metadata": {},
   "outputs": [],
   "source": [
    "def get_streaming_recommendation(genres_recommender, user_survey):\n",
    "    \n",
    "    recommendations = []\n",
    "    \n",
    "    user_recommender = genres_recommender.append(user_survey)\n",
    "        \n",
    "    distances = squareform(pdist(user_recommender, 'euclidean'))\n",
    "    \n",
    "    distances_df = pd.DataFrame((squareform(pdist(user_recommender, 'euclidean'))), \n",
    "                         index=user_recommender.index, columns=user_recommender.index)\n",
    "    \n",
    "    similarities = list(distances_df['User'].sort_values()[1:].index)\n",
    "    distances = list(distances_df['User'].sort_values()[1:].values)\n",
    "    \n",
    "    for i in range(3):\n",
    "        recommendations.append(similarities[i])\n",
    "    \n",
    "    print(\"Your closest match is \" + recommendations[0] + f\" with {int(100-distances[0]*100)}% genre similarity.\")\n",
    "    print(\"--------------------------\")\n",
    "    print(\"Your next matches are:\")\n",
    "    print(\"2. \" + recommendations[1] + f\" with {int(100-distances[1]*100)}% genre similarity.\")\n",
    "    print(\"3. \" + recommendations[2] + f\" with {int(100-distances[2]*100)}% genre similarity.\")\n",
    "   \n",
    "    # We need to add a return value beacuse if not the streaming_recommendations returns None at the end, we will return\n",
    "    # a blank string\n",
    "    return (\"\")\n"
   ]
  },
  {
   "cell_type": "markdown",
   "metadata": {},
   "source": [
    "### 4. Test"
   ]
  },
  {
   "cell_type": "code",
   "execution_count": 5,
   "metadata": {},
   "outputs": [
    {
     "name": "stdout",
     "output_type": "stream",
     "text": [
      "Your closest match is HBO with 60% genre similarity.\n",
      "--------------------------\n",
      "Your next matches are:\n",
      "2. Netflix with 42% genre similarity.\n",
      "3. Amazon with 36% genre similarity.\n",
      "\n"
     ]
    }
   ],
   "source": [
    "print(get_streaming_recommendation(genres_recommender, get_recommender_df(survey_df, all_shows)))"
   ]
  },
  {
   "cell_type": "code",
   "execution_count": null,
   "metadata": {},
   "outputs": [],
   "source": []
  }
 ],
 "metadata": {
  "kernelspec": {
   "display_name": "Python 3",
   "language": "python",
   "name": "python3"
  },
  "language_info": {
   "codemirror_mode": {
    "name": "ipython",
    "version": 3
   },
   "file_extension": ".py",
   "mimetype": "text/x-python",
   "name": "python",
   "nbconvert_exporter": "python",
   "pygments_lexer": "ipython3",
   "version": "3.7.6"
  }
 },
 "nbformat": 4,
 "nbformat_minor": 4
}
