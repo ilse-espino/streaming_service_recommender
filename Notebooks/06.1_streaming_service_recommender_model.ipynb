{
 "cells": [
  {
   "cell_type": "code",
   "execution_count": 12,
   "metadata": {},
   "outputs": [],
   "source": [
    "import pandas as pd\n",
    "import numpy as np\n",
    "import matplotlib.pyplot as plt\n",
    "import seaborn as sns\n",
    "from sklearn.neighbors import NearestNeighbors\n",
    "\n",
    "%matplotlib inline\n",
    "\n",
    "pd.set_option(\"display.max_columns\", None)\n",
    "\n",
    "path = \"C:/Users/Admin/Documents/ironhack/streaming_service_recommender/\""
   ]
  },
  {
   "cell_type": "markdown",
   "metadata": {},
   "source": [
    "## Streaming Service Recommender\n",
    "\n",
    "#### Goals\n",
    "\n",
    "- Create a streaming service recommender model based on similarity\n",
    "\n",
    "### 1. Import data"
   ]
  },
  {
   "cell_type": "code",
   "execution_count": 13,
   "metadata": {},
   "outputs": [],
   "source": [
    "genres_recommender = pd.read_pickle(path + \"Data/genres_recommender.pkl\")"
   ]
  },
  {
   "cell_type": "code",
   "execution_count": 14,
   "metadata": {},
   "outputs": [
    {
     "data": {
      "text/html": [
       "<div>\n",
       "<style scoped>\n",
       "    .dataframe tbody tr th:only-of-type {\n",
       "        vertical-align: middle;\n",
       "    }\n",
       "\n",
       "    .dataframe tbody tr th {\n",
       "        vertical-align: top;\n",
       "    }\n",
       "\n",
       "    .dataframe thead th {\n",
       "        text-align: right;\n",
       "    }\n",
       "</style>\n",
       "<table border=\"1\" class=\"dataframe\">\n",
       "  <thead>\n",
       "    <tr style=\"text-align: right;\">\n",
       "      <th>genre</th>\n",
       "      <th>Action</th>\n",
       "      <th>Adventure</th>\n",
       "      <th>Animation</th>\n",
       "      <th>Biography</th>\n",
       "      <th>Comedy</th>\n",
       "      <th>Crime</th>\n",
       "      <th>Documentary</th>\n",
       "      <th>Drama</th>\n",
       "      <th>Family</th>\n",
       "      <th>Fantasy</th>\n",
       "      <th>Game-Show</th>\n",
       "      <th>History</th>\n",
       "      <th>Horror</th>\n",
       "      <th>Music</th>\n",
       "      <th>Musical</th>\n",
       "      <th>Mystery</th>\n",
       "      <th>News</th>\n",
       "      <th>Reality-TV</th>\n",
       "      <th>Romance</th>\n",
       "      <th>Sci-Fi</th>\n",
       "      <th>Short</th>\n",
       "      <th>Sport</th>\n",
       "      <th>Talk-Show</th>\n",
       "      <th>Thriller</th>\n",
       "      <th>War</th>\n",
       "      <th>Western</th>\n",
       "    </tr>\n",
       "    <tr>\n",
       "      <th>streaming_service</th>\n",
       "      <th></th>\n",
       "      <th></th>\n",
       "      <th></th>\n",
       "      <th></th>\n",
       "      <th></th>\n",
       "      <th></th>\n",
       "      <th></th>\n",
       "      <th></th>\n",
       "      <th></th>\n",
       "      <th></th>\n",
       "      <th></th>\n",
       "      <th></th>\n",
       "      <th></th>\n",
       "      <th></th>\n",
       "      <th></th>\n",
       "      <th></th>\n",
       "      <th></th>\n",
       "      <th></th>\n",
       "      <th></th>\n",
       "      <th></th>\n",
       "      <th></th>\n",
       "      <th></th>\n",
       "      <th></th>\n",
       "      <th></th>\n",
       "      <th></th>\n",
       "      <th></th>\n",
       "    </tr>\n",
       "  </thead>\n",
       "  <tbody>\n",
       "    <tr>\n",
       "      <th>Amazon</th>\n",
       "      <td>0.1212</td>\n",
       "      <td>0.1228</td>\n",
       "      <td>0.1619</td>\n",
       "      <td>0.0191</td>\n",
       "      <td>0.2432</td>\n",
       "      <td>0.1252</td>\n",
       "      <td>0.2018</td>\n",
       "      <td>0.3349</td>\n",
       "      <td>0.1045</td>\n",
       "      <td>0.0574</td>\n",
       "      <td>0.0152</td>\n",
       "      <td>0.0606</td>\n",
       "      <td>0.0263</td>\n",
       "      <td>0.0096</td>\n",
       "      <td>0.0032</td>\n",
       "      <td>0.0582</td>\n",
       "      <td>0.0048</td>\n",
       "      <td>0.1021</td>\n",
       "      <td>0.0550</td>\n",
       "      <td>0.0327</td>\n",
       "      <td>0.0144</td>\n",
       "      <td>0.0152</td>\n",
       "      <td>0.0072</td>\n",
       "      <td>0.0287</td>\n",
       "      <td>0.0112</td>\n",
       "      <td>0.0199</td>\n",
       "    </tr>\n",
       "    <tr>\n",
       "      <th>HBO</th>\n",
       "      <td>0.0769</td>\n",
       "      <td>0.0533</td>\n",
       "      <td>0.0473</td>\n",
       "      <td>0.0355</td>\n",
       "      <td>0.3905</td>\n",
       "      <td>0.1538</td>\n",
       "      <td>0.1006</td>\n",
       "      <td>0.5089</td>\n",
       "      <td>0.0414</td>\n",
       "      <td>0.0473</td>\n",
       "      <td>0.0059</td>\n",
       "      <td>0.0769</td>\n",
       "      <td>0.0118</td>\n",
       "      <td>0.0237</td>\n",
       "      <td>0.0059</td>\n",
       "      <td>0.0828</td>\n",
       "      <td>0.0296</td>\n",
       "      <td>0.0237</td>\n",
       "      <td>0.0769</td>\n",
       "      <td>0.0237</td>\n",
       "      <td>0.0000</td>\n",
       "      <td>0.0533</td>\n",
       "      <td>0.0414</td>\n",
       "      <td>0.0355</td>\n",
       "      <td>0.0059</td>\n",
       "      <td>0.0000</td>\n",
       "    </tr>\n",
       "    <tr>\n",
       "      <th>Netflix</th>\n",
       "      <td>0.1404</td>\n",
       "      <td>0.1189</td>\n",
       "      <td>0.1680</td>\n",
       "      <td>0.0221</td>\n",
       "      <td>0.2735</td>\n",
       "      <td>0.1465</td>\n",
       "      <td>0.1717</td>\n",
       "      <td>0.3765</td>\n",
       "      <td>0.0619</td>\n",
       "      <td>0.0576</td>\n",
       "      <td>0.0123</td>\n",
       "      <td>0.0386</td>\n",
       "      <td>0.0343</td>\n",
       "      <td>0.0178</td>\n",
       "      <td>0.0061</td>\n",
       "      <td>0.0570</td>\n",
       "      <td>0.0018</td>\n",
       "      <td>0.0883</td>\n",
       "      <td>0.0785</td>\n",
       "      <td>0.0343</td>\n",
       "      <td>0.0025</td>\n",
       "      <td>0.0159</td>\n",
       "      <td>0.0110</td>\n",
       "      <td>0.0478</td>\n",
       "      <td>0.0098</td>\n",
       "      <td>0.0031</td>\n",
       "    </tr>\n",
       "  </tbody>\n",
       "</table>\n",
       "</div>"
      ],
      "text/plain": [
       "genre              Action  Adventure  Animation  Biography  Comedy   Crime  \\\n",
       "streaming_service                                                            \n",
       "Amazon             0.1212     0.1228     0.1619     0.0191  0.2432  0.1252   \n",
       "HBO                0.0769     0.0533     0.0473     0.0355  0.3905  0.1538   \n",
       "Netflix            0.1404     0.1189     0.1680     0.0221  0.2735  0.1465   \n",
       "\n",
       "genre              Documentary   Drama  Family  Fantasy  Game-Show  History  \\\n",
       "streaming_service                                                             \n",
       "Amazon                  0.2018  0.3349  0.1045   0.0574     0.0152   0.0606   \n",
       "HBO                     0.1006  0.5089  0.0414   0.0473     0.0059   0.0769   \n",
       "Netflix                 0.1717  0.3765  0.0619   0.0576     0.0123   0.0386   \n",
       "\n",
       "genre              Horror   Music  Musical  Mystery    News  Reality-TV  \\\n",
       "streaming_service                                                         \n",
       "Amazon             0.0263  0.0096   0.0032   0.0582  0.0048      0.1021   \n",
       "HBO                0.0118  0.0237   0.0059   0.0828  0.0296      0.0237   \n",
       "Netflix            0.0343  0.0178   0.0061   0.0570  0.0018      0.0883   \n",
       "\n",
       "genre              Romance  Sci-Fi   Short   Sport  Talk-Show  Thriller  \\\n",
       "streaming_service                                                         \n",
       "Amazon              0.0550  0.0327  0.0144  0.0152     0.0072    0.0287   \n",
       "HBO                 0.0769  0.0237  0.0000  0.0533     0.0414    0.0355   \n",
       "Netflix             0.0785  0.0343  0.0025  0.0159     0.0110    0.0478   \n",
       "\n",
       "genre                 War  Western  \n",
       "streaming_service                   \n",
       "Amazon             0.0112   0.0199  \n",
       "HBO                0.0059   0.0000  \n",
       "Netflix            0.0098   0.0031  "
      ]
     },
     "execution_count": 14,
     "metadata": {},
     "output_type": "execute_result"
    }
   ],
   "source": [
    "genres_recommender"
   ]
  },
  {
   "cell_type": "markdown",
   "metadata": {},
   "source": [
    "### 2. Modelling"
   ]
  },
  {
   "cell_type": "code",
   "execution_count": 16,
   "metadata": {},
   "outputs": [
    {
     "data": {
      "text/plain": [
       "NearestNeighbors(algorithm='brute', leaf_size=30, metric='euclidean',\n",
       "                 metric_params=None, n_jobs=-1, n_neighbors=5, p=2, radius=1.0)"
      ]
     },
     "execution_count": 16,
     "metadata": {},
     "output_type": "execute_result"
    }
   ],
   "source": [
    "# we will train NearestNeighbors using eclidean metric\n",
    "\n",
    "model_knn = NearestNeighbors(metric=\"euclidean\",\n",
    "                             algorithm=\"brute\",\n",
    "                             n_jobs=-1)\n",
    "model_knn.fit(genres_recommender)"
   ]
  },
  {
   "cell_type": "code",
   "execution_count": 27,
   "metadata": {},
   "outputs": [
    {
     "data": {
      "text/plain": [
       "(array([[0.       , 0.0919049]]), array([[2, 0]], dtype=int64))"
      ]
     },
     "execution_count": 27,
     "metadata": {},
     "output_type": "execute_result"
    }
   ],
   "source": [
    "model_knn.kneighbors(genres_recommender.loc[\"Netflix\"].values.reshape(1,-1), n_neighbors=2)"
   ]
  },
  {
   "cell_type": "code",
   "execution_count": 29,
   "metadata": {},
   "outputs": [
    {
     "data": {
      "text/plain": [
       "genre\n",
       "Action         0.1212\n",
       "Adventure      0.1228\n",
       "Animation      0.1619\n",
       "Biography      0.0191\n",
       "Comedy         0.2432\n",
       "Crime          0.1252\n",
       "Documentary    0.2018\n",
       "Drama          0.3349\n",
       "Family         0.1045\n",
       "Fantasy        0.0574\n",
       "Game-Show      0.0152\n",
       "History        0.0606\n",
       "Horror         0.0263\n",
       "Music          0.0096\n",
       "Musical        0.0032\n",
       "Mystery        0.0582\n",
       "News           0.0048\n",
       "Reality-TV     0.1021\n",
       "Romance        0.0550\n",
       "Sci-Fi         0.0327\n",
       "Short          0.0144\n",
       "Sport          0.0152\n",
       "Talk-Show      0.0072\n",
       "Thriller       0.0287\n",
       "War            0.0112\n",
       "Western        0.0199\n",
       "Name: Amazon, dtype: float64"
      ]
     },
     "execution_count": 29,
     "metadata": {},
     "output_type": "execute_result"
    }
   ],
   "source": [
    "genres_recommender.iloc[0]"
   ]
  },
  {
   "cell_type": "code",
   "execution_count": null,
   "metadata": {},
   "outputs": [],
   "source": []
  }
 ],
 "metadata": {
  "kernelspec": {
   "display_name": "Python 3",
   "language": "python",
   "name": "python3"
  },
  "language_info": {
   "codemirror_mode": {
    "name": "ipython",
    "version": 3
   },
   "file_extension": ".py",
   "mimetype": "text/x-python",
   "name": "python",
   "nbconvert_exporter": "python",
   "pygments_lexer": "ipython3",
   "version": "3.7.6"
  }
 },
 "nbformat": 4,
 "nbformat_minor": 4
}
