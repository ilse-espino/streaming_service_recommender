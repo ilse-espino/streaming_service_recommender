{
 "cells": [
  {
   "cell_type": "code",
   "execution_count": 1,
   "metadata": {},
   "outputs": [],
   "source": [
    "import pandas as pd\n",
    "import numpy as np\n",
    "\n",
    "pd.set_option(\"display.max_columns\", None)"
   ]
  },
  {
   "cell_type": "markdown",
   "metadata": {},
   "source": [
    "## Streaming Service Recommender\n",
    "#### Goals\n",
    "\n",
    "- Build data frame to be used for recommender\n",
    "\n",
    "We want our final data frame to llok like the following:\n",
    "\n",
    "| streaming_service | Drama | Comedy | Animation | ... |\n",
    "|-------------------|-------|--------|-----------|-----|\n",
    "| **Netflix**       | 0.3765 | 0.2735 | 0.1680   | ....|\n",
    "| **Amazon**        | 0.3349 | 0.2432 | 0.1619   | ... |\n",
    "| ... | ... | ... |... | ...|\n",
    "\n",
    "Our genres should be our columns and the streaming services should be the index.\n",
    "\n",
    "### 1. Import data"
   ]
  },
  {
   "cell_type": "code",
   "execution_count": 2,
   "metadata": {},
   "outputs": [],
   "source": [
    "netflix = pd.read_pickle(\"../Data/netflix_genres_ratio.pkl\")"
   ]
  },
  {
   "cell_type": "code",
   "execution_count": 3,
   "metadata": {},
   "outputs": [],
   "source": [
    "amazon = pd.read_pickle(\"../Data/amazon_genres_ratio.pkl\")"
   ]
  },
  {
   "cell_type": "code",
   "execution_count": 4,
   "metadata": {},
   "outputs": [],
   "source": [
    "hbo = pd.read_pickle(\"../Data/hbo_genres_ratio.pkl\")"
   ]
  },
  {
   "cell_type": "markdown",
   "metadata": {},
   "source": [
    "### 2. Get list of total genres\n",
    "\n",
    "We will first get the lists of genres for each streaming service, we will them add them together and afterwards convert it to a set to remove duplicates."
   ]
  },
  {
   "cell_type": "code",
   "execution_count": 5,
   "metadata": {},
   "outputs": [],
   "source": [
    "netflix_genres = netflix[\"genre\"].to_list()\n",
    "\n",
    "amazon_genres = amazon[\"genre\"].to_list()\n",
    "\n",
    "hbo_genres = hbo[\"genre\"].to_list()"
   ]
  },
  {
   "cell_type": "code",
   "execution_count": 6,
   "metadata": {},
   "outputs": [
    {
     "data": {
      "text/plain": [
       "26"
      ]
     },
     "execution_count": 6,
     "metadata": {},
     "output_type": "execute_result"
    }
   ],
   "source": [
    "len(netflix_genres)"
   ]
  },
  {
   "cell_type": "code",
   "execution_count": 7,
   "metadata": {},
   "outputs": [
    {
     "data": {
      "text/plain": [
       "26"
      ]
     },
     "execution_count": 7,
     "metadata": {},
     "output_type": "execute_result"
    }
   ],
   "source": [
    "total_genres = list(set(netflix_genres + amazon_genres + hbo_genres))\n",
    "\n",
    "len(total_genres)"
   ]
  },
  {
   "cell_type": "code",
   "execution_count": 8,
   "metadata": {},
   "outputs": [],
   "source": [
    "total_genres.sort()"
   ]
  },
  {
   "cell_type": "code",
   "execution_count": 9,
   "metadata": {},
   "outputs": [
    {
     "data": {
      "text/plain": [
       "['Action',\n",
       " 'Adventure',\n",
       " 'Animation',\n",
       " 'Biography',\n",
       " 'Comedy',\n",
       " 'Crime',\n",
       " 'Documentary',\n",
       " 'Drama',\n",
       " 'Family',\n",
       " 'Fantasy',\n",
       " 'Game-Show',\n",
       " 'History',\n",
       " 'Horror',\n",
       " 'Music',\n",
       " 'Musical',\n",
       " 'Mystery',\n",
       " 'News',\n",
       " 'Reality-TV',\n",
       " 'Romance',\n",
       " 'Sci-Fi',\n",
       " 'Short',\n",
       " 'Sport',\n",
       " 'Talk-Show',\n",
       " 'Thriller',\n",
       " 'War',\n",
       " 'Western']"
      ]
     },
     "execution_count": 9,
     "metadata": {},
     "output_type": "execute_result"
    }
   ],
   "source": [
    "total_genres"
   ]
  },
  {
   "cell_type": "markdown",
   "metadata": {},
   "source": [
    "Looks like the three streaming services shared the same genres because we have the same number of genres as for Netflix and Amazon, HBO has 24.\n",
    "\n",
    "### 3. Create new data frame\n",
    "\n",
    "Since they share the same genres, we will prepare each data frame, then append them with each other and finally creating a pivot table which we will use for the recommender.\n",
    "\n",
    "#### i. Prepare each data frame"
   ]
  },
  {
   "cell_type": "code",
   "execution_count": 10,
   "metadata": {},
   "outputs": [
    {
     "data": {
      "text/html": [
       "<div>\n",
       "<style scoped>\n",
       "    .dataframe tbody tr th:only-of-type {\n",
       "        vertical-align: middle;\n",
       "    }\n",
       "\n",
       "    .dataframe tbody tr th {\n",
       "        vertical-align: top;\n",
       "    }\n",
       "\n",
       "    .dataframe thead th {\n",
       "        text-align: right;\n",
       "    }\n",
       "</style>\n",
       "<table border=\"1\" class=\"dataframe\">\n",
       "  <thead>\n",
       "    <tr style=\"text-align: right;\">\n",
       "      <th></th>\n",
       "      <th>genre</th>\n",
       "      <th>ratio</th>\n",
       "      <th>streaming_service</th>\n",
       "    </tr>\n",
       "  </thead>\n",
       "  <tbody>\n",
       "    <tr>\n",
       "      <th>0</th>\n",
       "      <td>Drama</td>\n",
       "      <td>0.3767</td>\n",
       "      <td>Netflix</td>\n",
       "    </tr>\n",
       "    <tr>\n",
       "      <th>1</th>\n",
       "      <td>Comedy</td>\n",
       "      <td>0.2736</td>\n",
       "      <td>Netflix</td>\n",
       "    </tr>\n",
       "    <tr>\n",
       "      <th>2</th>\n",
       "      <td>Documentary</td>\n",
       "      <td>0.1718</td>\n",
       "      <td>Netflix</td>\n",
       "    </tr>\n",
       "    <tr>\n",
       "      <th>3</th>\n",
       "      <td>Animation</td>\n",
       "      <td>0.1675</td>\n",
       "      <td>Netflix</td>\n",
       "    </tr>\n",
       "    <tr>\n",
       "      <th>4</th>\n",
       "      <td>Crime</td>\n",
       "      <td>0.1466</td>\n",
       "      <td>Netflix</td>\n",
       "    </tr>\n",
       "  </tbody>\n",
       "</table>\n",
       "</div>"
      ],
      "text/plain": [
       "         genre   ratio streaming_service\n",
       "0        Drama  0.3767           Netflix\n",
       "1       Comedy  0.2736           Netflix\n",
       "2  Documentary  0.1718           Netflix\n",
       "3    Animation  0.1675           Netflix\n",
       "4        Crime  0.1466           Netflix"
      ]
     },
     "execution_count": 10,
     "metadata": {},
     "output_type": "execute_result"
    }
   ],
   "source": [
    "netflix[\"streaming_service\"] = \"Netflix\"\n",
    "\n",
    "netflix_genres = netflix[[\"genre\", \"ratio\", \"streaming_service\"]]\n",
    "\n",
    "netflix_genres.head()"
   ]
  },
  {
   "cell_type": "code",
   "execution_count": 11,
   "metadata": {},
   "outputs": [
    {
     "data": {
      "text/html": [
       "<div>\n",
       "<style scoped>\n",
       "    .dataframe tbody tr th:only-of-type {\n",
       "        vertical-align: middle;\n",
       "    }\n",
       "\n",
       "    .dataframe tbody tr th {\n",
       "        vertical-align: top;\n",
       "    }\n",
       "\n",
       "    .dataframe thead th {\n",
       "        text-align: right;\n",
       "    }\n",
       "</style>\n",
       "<table border=\"1\" class=\"dataframe\">\n",
       "  <thead>\n",
       "    <tr style=\"text-align: right;\">\n",
       "      <th></th>\n",
       "      <th>genre</th>\n",
       "      <th>ratio</th>\n",
       "      <th>streaming_service</th>\n",
       "    </tr>\n",
       "  </thead>\n",
       "  <tbody>\n",
       "    <tr>\n",
       "      <th>0</th>\n",
       "      <td>Drama</td>\n",
       "      <td>0.3349</td>\n",
       "      <td>Amazon</td>\n",
       "    </tr>\n",
       "    <tr>\n",
       "      <th>1</th>\n",
       "      <td>Comedy</td>\n",
       "      <td>0.2432</td>\n",
       "      <td>Amazon</td>\n",
       "    </tr>\n",
       "    <tr>\n",
       "      <th>2</th>\n",
       "      <td>Documentary</td>\n",
       "      <td>0.2018</td>\n",
       "      <td>Amazon</td>\n",
       "    </tr>\n",
       "    <tr>\n",
       "      <th>3</th>\n",
       "      <td>Animation</td>\n",
       "      <td>0.1619</td>\n",
       "      <td>Amazon</td>\n",
       "    </tr>\n",
       "    <tr>\n",
       "      <th>4</th>\n",
       "      <td>Crime</td>\n",
       "      <td>0.1252</td>\n",
       "      <td>Amazon</td>\n",
       "    </tr>\n",
       "  </tbody>\n",
       "</table>\n",
       "</div>"
      ],
      "text/plain": [
       "         genre   ratio streaming_service\n",
       "0        Drama  0.3349            Amazon\n",
       "1       Comedy  0.2432            Amazon\n",
       "2  Documentary  0.2018            Amazon\n",
       "3    Animation  0.1619            Amazon\n",
       "4        Crime  0.1252            Amazon"
      ]
     },
     "execution_count": 11,
     "metadata": {},
     "output_type": "execute_result"
    }
   ],
   "source": [
    "amazon[\"streaming_service\"] = \"Amazon\"\n",
    "\n",
    "amazon_genres = amazon[[\"genre\", \"ratio\", \"streaming_service\"]]\n",
    "\n",
    "amazon_genres.head()"
   ]
  },
  {
   "cell_type": "code",
   "execution_count": 12,
   "metadata": {},
   "outputs": [
    {
     "data": {
      "text/html": [
       "<div>\n",
       "<style scoped>\n",
       "    .dataframe tbody tr th:only-of-type {\n",
       "        vertical-align: middle;\n",
       "    }\n",
       "\n",
       "    .dataframe tbody tr th {\n",
       "        vertical-align: top;\n",
       "    }\n",
       "\n",
       "    .dataframe thead th {\n",
       "        text-align: right;\n",
       "    }\n",
       "</style>\n",
       "<table border=\"1\" class=\"dataframe\">\n",
       "  <thead>\n",
       "    <tr style=\"text-align: right;\">\n",
       "      <th></th>\n",
       "      <th>genre</th>\n",
       "      <th>ratio</th>\n",
       "      <th>streaming_service</th>\n",
       "    </tr>\n",
       "  </thead>\n",
       "  <tbody>\n",
       "    <tr>\n",
       "      <th>0</th>\n",
       "      <td>Drama</td>\n",
       "      <td>0.5089</td>\n",
       "      <td>HBO</td>\n",
       "    </tr>\n",
       "    <tr>\n",
       "      <th>1</th>\n",
       "      <td>Comedy</td>\n",
       "      <td>0.3905</td>\n",
       "      <td>HBO</td>\n",
       "    </tr>\n",
       "    <tr>\n",
       "      <th>2</th>\n",
       "      <td>Crime</td>\n",
       "      <td>0.1538</td>\n",
       "      <td>HBO</td>\n",
       "    </tr>\n",
       "    <tr>\n",
       "      <th>3</th>\n",
       "      <td>Documentary</td>\n",
       "      <td>0.1006</td>\n",
       "      <td>HBO</td>\n",
       "    </tr>\n",
       "    <tr>\n",
       "      <th>4</th>\n",
       "      <td>Mystery</td>\n",
       "      <td>0.0828</td>\n",
       "      <td>HBO</td>\n",
       "    </tr>\n",
       "  </tbody>\n",
       "</table>\n",
       "</div>"
      ],
      "text/plain": [
       "         genre   ratio streaming_service\n",
       "0        Drama  0.5089               HBO\n",
       "1       Comedy  0.3905               HBO\n",
       "2        Crime  0.1538               HBO\n",
       "3  Documentary  0.1006               HBO\n",
       "4      Mystery  0.0828               HBO"
      ]
     },
     "execution_count": 12,
     "metadata": {},
     "output_type": "execute_result"
    }
   ],
   "source": [
    "hbo[\"streaming_service\"] = \"HBO\"\n",
    "\n",
    "hbo_genres = hbo[[\"genre\", \"ratio\", \"streaming_service\"]]\n",
    "\n",
    "hbo_genres.head()"
   ]
  },
  {
   "cell_type": "markdown",
   "metadata": {},
   "source": [
    "#### ii. Append data frames"
   ]
  },
  {
   "cell_type": "code",
   "execution_count": 13,
   "metadata": {},
   "outputs": [],
   "source": [
    "genres_features = netflix_genres.append(amazon_genres).append(hbo_genres).reset_index()"
   ]
  },
  {
   "cell_type": "markdown",
   "metadata": {},
   "source": [
    "#### iii. Create pivot table"
   ]
  },
  {
   "cell_type": "code",
   "execution_count": 14,
   "metadata": {},
   "outputs": [],
   "source": [
    "genres_recommender = genres_features.pivot_table(index=\"streaming_service\",\n",
    "                                      columns=\"genre\",\n",
    "                                      values=\"ratio\").fillna(0)"
   ]
  },
  {
   "cell_type": "code",
   "execution_count": 15,
   "metadata": {},
   "outputs": [
    {
     "data": {
      "text/html": [
       "<div>\n",
       "<style scoped>\n",
       "    .dataframe tbody tr th:only-of-type {\n",
       "        vertical-align: middle;\n",
       "    }\n",
       "\n",
       "    .dataframe tbody tr th {\n",
       "        vertical-align: top;\n",
       "    }\n",
       "\n",
       "    .dataframe thead th {\n",
       "        text-align: right;\n",
       "    }\n",
       "</style>\n",
       "<table border=\"1\" class=\"dataframe\">\n",
       "  <thead>\n",
       "    <tr style=\"text-align: right;\">\n",
       "      <th>genre</th>\n",
       "      <th>Action</th>\n",
       "      <th>Adventure</th>\n",
       "      <th>Animation</th>\n",
       "      <th>Biography</th>\n",
       "      <th>Comedy</th>\n",
       "      <th>Crime</th>\n",
       "      <th>Documentary</th>\n",
       "      <th>Drama</th>\n",
       "      <th>Family</th>\n",
       "      <th>Fantasy</th>\n",
       "      <th>Game-Show</th>\n",
       "      <th>History</th>\n",
       "      <th>Horror</th>\n",
       "      <th>Music</th>\n",
       "      <th>Musical</th>\n",
       "      <th>Mystery</th>\n",
       "      <th>News</th>\n",
       "      <th>Reality-TV</th>\n",
       "      <th>Romance</th>\n",
       "      <th>Sci-Fi</th>\n",
       "      <th>Short</th>\n",
       "      <th>Sport</th>\n",
       "      <th>Talk-Show</th>\n",
       "      <th>Thriller</th>\n",
       "      <th>War</th>\n",
       "      <th>Western</th>\n",
       "    </tr>\n",
       "    <tr>\n",
       "      <th>streaming_service</th>\n",
       "      <th></th>\n",
       "      <th></th>\n",
       "      <th></th>\n",
       "      <th></th>\n",
       "      <th></th>\n",
       "      <th></th>\n",
       "      <th></th>\n",
       "      <th></th>\n",
       "      <th></th>\n",
       "      <th></th>\n",
       "      <th></th>\n",
       "      <th></th>\n",
       "      <th></th>\n",
       "      <th></th>\n",
       "      <th></th>\n",
       "      <th></th>\n",
       "      <th></th>\n",
       "      <th></th>\n",
       "      <th></th>\n",
       "      <th></th>\n",
       "      <th></th>\n",
       "      <th></th>\n",
       "      <th></th>\n",
       "      <th></th>\n",
       "      <th></th>\n",
       "      <th></th>\n",
       "    </tr>\n",
       "  </thead>\n",
       "  <tbody>\n",
       "    <tr>\n",
       "      <th>Amazon</th>\n",
       "      <td>0.1212</td>\n",
       "      <td>0.1228</td>\n",
       "      <td>0.1619</td>\n",
       "      <td>0.0191</td>\n",
       "      <td>0.2432</td>\n",
       "      <td>0.1252</td>\n",
       "      <td>0.2018</td>\n",
       "      <td>0.3349</td>\n",
       "      <td>0.1045</td>\n",
       "      <td>0.0574</td>\n",
       "      <td>0.0152</td>\n",
       "      <td>0.0606</td>\n",
       "      <td>0.0263</td>\n",
       "      <td>0.0096</td>\n",
       "      <td>0.0032</td>\n",
       "      <td>0.0582</td>\n",
       "      <td>0.0048</td>\n",
       "      <td>0.1021</td>\n",
       "      <td>0.0550</td>\n",
       "      <td>0.0327</td>\n",
       "      <td>0.0144</td>\n",
       "      <td>0.0152</td>\n",
       "      <td>0.0072</td>\n",
       "      <td>0.0287</td>\n",
       "      <td>0.0112</td>\n",
       "      <td>0.0199</td>\n",
       "    </tr>\n",
       "    <tr>\n",
       "      <th>HBO</th>\n",
       "      <td>0.0769</td>\n",
       "      <td>0.0533</td>\n",
       "      <td>0.0473</td>\n",
       "      <td>0.0355</td>\n",
       "      <td>0.3905</td>\n",
       "      <td>0.1538</td>\n",
       "      <td>0.1006</td>\n",
       "      <td>0.5089</td>\n",
       "      <td>0.0414</td>\n",
       "      <td>0.0473</td>\n",
       "      <td>0.0059</td>\n",
       "      <td>0.0769</td>\n",
       "      <td>0.0118</td>\n",
       "      <td>0.0237</td>\n",
       "      <td>0.0059</td>\n",
       "      <td>0.0828</td>\n",
       "      <td>0.0296</td>\n",
       "      <td>0.0237</td>\n",
       "      <td>0.0769</td>\n",
       "      <td>0.0237</td>\n",
       "      <td>0.0000</td>\n",
       "      <td>0.0533</td>\n",
       "      <td>0.0414</td>\n",
       "      <td>0.0355</td>\n",
       "      <td>0.0059</td>\n",
       "      <td>0.0000</td>\n",
       "    </tr>\n",
       "    <tr>\n",
       "      <th>Netflix</th>\n",
       "      <td>0.1399</td>\n",
       "      <td>0.1190</td>\n",
       "      <td>0.1675</td>\n",
       "      <td>0.0221</td>\n",
       "      <td>0.2736</td>\n",
       "      <td>0.1466</td>\n",
       "      <td>0.1718</td>\n",
       "      <td>0.3767</td>\n",
       "      <td>0.0620</td>\n",
       "      <td>0.0571</td>\n",
       "      <td>0.0123</td>\n",
       "      <td>0.0387</td>\n",
       "      <td>0.0344</td>\n",
       "      <td>0.0178</td>\n",
       "      <td>0.0061</td>\n",
       "      <td>0.0571</td>\n",
       "      <td>0.0018</td>\n",
       "      <td>0.0883</td>\n",
       "      <td>0.0785</td>\n",
       "      <td>0.0344</td>\n",
       "      <td>0.0025</td>\n",
       "      <td>0.0160</td>\n",
       "      <td>0.0110</td>\n",
       "      <td>0.0479</td>\n",
       "      <td>0.0098</td>\n",
       "      <td>0.0031</td>\n",
       "    </tr>\n",
       "  </tbody>\n",
       "</table>\n",
       "</div>"
      ],
      "text/plain": [
       "genre              Action  Adventure  Animation  Biography  Comedy   Crime  \\\n",
       "streaming_service                                                            \n",
       "Amazon             0.1212     0.1228     0.1619     0.0191  0.2432  0.1252   \n",
       "HBO                0.0769     0.0533     0.0473     0.0355  0.3905  0.1538   \n",
       "Netflix            0.1399     0.1190     0.1675     0.0221  0.2736  0.1466   \n",
       "\n",
       "genre              Documentary   Drama  Family  Fantasy  Game-Show  History  \\\n",
       "streaming_service                                                             \n",
       "Amazon                  0.2018  0.3349  0.1045   0.0574     0.0152   0.0606   \n",
       "HBO                     0.1006  0.5089  0.0414   0.0473     0.0059   0.0769   \n",
       "Netflix                 0.1718  0.3767  0.0620   0.0571     0.0123   0.0387   \n",
       "\n",
       "genre              Horror   Music  Musical  Mystery    News  Reality-TV  \\\n",
       "streaming_service                                                         \n",
       "Amazon             0.0263  0.0096   0.0032   0.0582  0.0048      0.1021   \n",
       "HBO                0.0118  0.0237   0.0059   0.0828  0.0296      0.0237   \n",
       "Netflix            0.0344  0.0178   0.0061   0.0571  0.0018      0.0883   \n",
       "\n",
       "genre              Romance  Sci-Fi   Short   Sport  Talk-Show  Thriller  \\\n",
       "streaming_service                                                         \n",
       "Amazon              0.0550  0.0327  0.0144  0.0152     0.0072    0.0287   \n",
       "HBO                 0.0769  0.0237  0.0000  0.0533     0.0414    0.0355   \n",
       "Netflix             0.0785  0.0344  0.0025  0.0160     0.0110    0.0479   \n",
       "\n",
       "genre                 War  Western  \n",
       "streaming_service                   \n",
       "Amazon             0.0112   0.0199  \n",
       "HBO                0.0059   0.0000  \n",
       "Netflix            0.0098   0.0031  "
      ]
     },
     "execution_count": 15,
     "metadata": {},
     "output_type": "execute_result"
    }
   ],
   "source": [
    "genres_recommender"
   ]
  },
  {
   "cell_type": "markdown",
   "metadata": {},
   "source": [
    "### 4. Export final data frame"
   ]
  },
  {
   "cell_type": "code",
   "execution_count": 16,
   "metadata": {},
   "outputs": [],
   "source": [
    "# genres_recommender.to_pickle(\"../Data/genres_recommender.pkl\")"
   ]
  },
  {
   "cell_type": "code",
   "execution_count": null,
   "metadata": {},
   "outputs": [],
   "source": []
  }
 ],
 "metadata": {
  "kernelspec": {
   "display_name": "Python 3",
   "language": "python",
   "name": "python3"
  },
  "language_info": {
   "codemirror_mode": {
    "name": "ipython",
    "version": 3
   },
   "file_extension": ".py",
   "mimetype": "text/x-python",
   "name": "python",
   "nbconvert_exporter": "python",
   "pygments_lexer": "ipython3",
   "version": "3.7.6"
  }
 },
 "nbformat": 4,
 "nbformat_minor": 4
}
