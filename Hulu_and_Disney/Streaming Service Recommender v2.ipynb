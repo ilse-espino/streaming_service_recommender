{
 "cells": [
  {
   "cell_type": "code",
   "execution_count": 1,
   "metadata": {},
   "outputs": [],
   "source": [
    "import pandas as pd\n",
    "import streaming_service_recommender_v2\n",
    "\n",
    "genres_recommender = pd.read_pickle(\"Data_Hulu_Disney/genres_recommender_v2.pkl\")\n",
    "\n",
    "url = \"https://docs.google.com/spreadsheets/d/1VsL_x7WAcEm-pLNmCqNwrDlFjTR_PUDpiadyUYJM-AQ/export?format=csv&gid=1360685521\"\n",
    "survey_df = pd.read_csv(url)\n",
    "\n",
    "all_shows = pd.read_pickle(\"Data_Hulu_Disney/all_shows_genres_v2.pkl\")"
   ]
  },
  {
   "cell_type": "markdown",
   "metadata": {},
   "source": [
    "# Streaming Service Recommender\n",
    "\n",
    "This recommender will return your recommended streaming service from the following services:\n",
    "\n",
    "- Netflix\n",
    "- Amazon\n",
    "- HBO\n",
    "- Hulu\n",
    "- Disney\n",
    "\n",
    "\n",
    "## 1. Please fill out the following survey: https://forms.gle/8F5uzYwWKuYe4n1f9\n",
    "\n",
    "## 2. Run the following cell to get your list of recommendations.\n",
    "\n"
   ]
  },
  {
   "cell_type": "code",
   "execution_count": 2,
   "metadata": {},
   "outputs": [
    {
     "name": "stdout",
     "output_type": "stream",
     "text": [
      "Your closest match is Disney with 44% genre similarity.\n",
      "--------------------------\n",
      "Your next matches are:\n",
      "2. Hulu with 17% genre similarity.\n",
      "3. Amazon with 9% genre similarity.\n",
      "4. Netflix with 8% genre similarity.\n",
      "5. HBO with 0% genre similarity.\n",
      "\n"
     ]
    }
   ],
   "source": [
    "print(streaming_service_recommender_v2.get_streaming_recommendation(genres_recommender, streaming_service_recommender_v2\n",
    "                                                                 .get_recommender_df(survey_df, all_shows)))"
   ]
  },
  {
   "cell_type": "code",
   "execution_count": null,
   "metadata": {},
   "outputs": [],
   "source": []
  }
 ],
 "metadata": {
  "kernelspec": {
   "display_name": "Python 3",
   "language": "python",
   "name": "python3"
  },
  "language_info": {
   "codemirror_mode": {
    "name": "ipython",
    "version": 3
   },
   "file_extension": ".py",
   "mimetype": "text/x-python",
   "name": "python",
   "nbconvert_exporter": "python",
   "pygments_lexer": "ipython3",
   "version": "3.7.6"
  }
 },
 "nbformat": 4,
 "nbformat_minor": 4
}
