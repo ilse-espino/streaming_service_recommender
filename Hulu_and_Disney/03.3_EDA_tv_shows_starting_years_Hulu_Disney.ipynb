{
 "cells": [
  {
   "cell_type": "code",
   "execution_count": 1,
   "metadata": {},
   "outputs": [],
   "source": [
    "import pandas as pd\n",
    "import numpy as np\n",
    "import matplotlib.pyplot as plt\n",
    "import seaborn as sns\n",
    "%matplotlib inline\n",
    "\n",
    "pd.set_option(\"display.max_columns\", None)"
   ]
  },
  {
   "cell_type": "markdown",
   "metadata": {},
   "source": [
    "## EDA TV Shows Starting Years\n",
    "\n",
    "#### Goals\n",
    "\n",
    "- Get descriptive statistics for the starting years of tv shows for each streaming service.\n",
    "\n",
    "- Plot data.\n",
    "\n",
    "- Compare findings.\n",
    "\n",
    "-----\n",
    "\n",
    "### 1. Hulu\n",
    "#### i. Import data"
   ]
  },
  {
   "cell_type": "code",
   "execution_count": 2,
   "metadata": {},
   "outputs": [],
   "source": [
    "hulu = pd.read_pickle(\"Data_Hulu_Disney/hulu_final_clean.pkl\")"
   ]
  },
  {
   "cell_type": "code",
   "execution_count": 3,
   "metadata": {},
   "outputs": [
    {
     "data": {
      "text/html": [
       "<div>\n",
       "<style scoped>\n",
       "    .dataframe tbody tr th:only-of-type {\n",
       "        vertical-align: middle;\n",
       "    }\n",
       "\n",
       "    .dataframe tbody tr th {\n",
       "        vertical-align: top;\n",
       "    }\n",
       "\n",
       "    .dataframe thead th {\n",
       "        text-align: right;\n",
       "    }\n",
       "</style>\n",
       "<table border=\"1\" class=\"dataframe\">\n",
       "  <thead>\n",
       "    <tr style=\"text-align: right;\">\n",
       "      <th></th>\n",
       "      <th>show</th>\n",
       "      <th>year</th>\n",
       "      <th>age</th>\n",
       "      <th>imdb_rating</th>\n",
       "      <th>imdb_id</th>\n",
       "      <th>titleType</th>\n",
       "      <th>primaryTitle</th>\n",
       "      <th>originalTitle</th>\n",
       "      <th>startYear</th>\n",
       "      <th>endYear</th>\n",
       "      <th>runtimeMinutes</th>\n",
       "      <th>genres</th>\n",
       "    </tr>\n",
       "  </thead>\n",
       "  <tbody>\n",
       "    <tr>\n",
       "      <th>0</th>\n",
       "      <td>Rick and Morty</td>\n",
       "      <td>2013</td>\n",
       "      <td>18.0</td>\n",
       "      <td>9.2</td>\n",
       "      <td>tt2861424</td>\n",
       "      <td>tvSeries</td>\n",
       "      <td>Rick and Morty</td>\n",
       "      <td>Rick and Morty</td>\n",
       "      <td>2013.0</td>\n",
       "      <td>2013.0</td>\n",
       "      <td>23.0</td>\n",
       "      <td>Adventure,Animation,Comedy</td>\n",
       "    </tr>\n",
       "    <tr>\n",
       "      <th>1</th>\n",
       "      <td>Fargo</td>\n",
       "      <td>2014</td>\n",
       "      <td>18.0</td>\n",
       "      <td>8.9</td>\n",
       "      <td>tt2802850</td>\n",
       "      <td>tvSeries</td>\n",
       "      <td>Fargo</td>\n",
       "      <td>Fargo</td>\n",
       "      <td>2014.0</td>\n",
       "      <td>2014.0</td>\n",
       "      <td>53.0</td>\n",
       "      <td>Crime,Drama,Thriller</td>\n",
       "    </tr>\n",
       "    <tr>\n",
       "      <th>2</th>\n",
       "      <td>Vikings</td>\n",
       "      <td>2013</td>\n",
       "      <td>18.0</td>\n",
       "      <td>8.5</td>\n",
       "      <td>tt2306299</td>\n",
       "      <td>tvSeries</td>\n",
       "      <td>Vikings</td>\n",
       "      <td>Vikings</td>\n",
       "      <td>2013.0</td>\n",
       "      <td>2013.0</td>\n",
       "      <td>44.0</td>\n",
       "      <td>Action,Adventure,Drama</td>\n",
       "    </tr>\n",
       "    <tr>\n",
       "      <th>3</th>\n",
       "      <td>Brooklyn Nine-Nine</td>\n",
       "      <td>2013</td>\n",
       "      <td>16.0</td>\n",
       "      <td>8.4</td>\n",
       "      <td>tt2467372</td>\n",
       "      <td>tvSeries</td>\n",
       "      <td>Brooklyn Nine-Nine</td>\n",
       "      <td>Brooklyn Nine-Nine</td>\n",
       "      <td>2013.0</td>\n",
       "      <td>2013.0</td>\n",
       "      <td>22.0</td>\n",
       "      <td>Comedy,Crime</td>\n",
       "    </tr>\n",
       "    <tr>\n",
       "      <th>4</th>\n",
       "      <td>Community</td>\n",
       "      <td>2009</td>\n",
       "      <td>7.0</td>\n",
       "      <td>8.5</td>\n",
       "      <td>tt1439629</td>\n",
       "      <td>tvSeries</td>\n",
       "      <td>Community</td>\n",
       "      <td>Community</td>\n",
       "      <td>2009.0</td>\n",
       "      <td>2009.0</td>\n",
       "      <td>22.0</td>\n",
       "      <td>Comedy</td>\n",
       "    </tr>\n",
       "  </tbody>\n",
       "</table>\n",
       "</div>"
      ],
      "text/plain": [
       "                 show  year   age  imdb_rating    imdb_id titleType  \\\n",
       "0      Rick and Morty  2013  18.0          9.2  tt2861424  tvSeries   \n",
       "1               Fargo  2014  18.0          8.9  tt2802850  tvSeries   \n",
       "2             Vikings  2013  18.0          8.5  tt2306299  tvSeries   \n",
       "3  Brooklyn Nine-Nine  2013  16.0          8.4  tt2467372  tvSeries   \n",
       "4           Community  2009   7.0          8.5  tt1439629  tvSeries   \n",
       "\n",
       "         primaryTitle       originalTitle  startYear  endYear  runtimeMinutes  \\\n",
       "0      Rick and Morty      Rick and Morty     2013.0   2013.0            23.0   \n",
       "1               Fargo               Fargo     2014.0   2014.0            53.0   \n",
       "2             Vikings             Vikings     2013.0   2013.0            44.0   \n",
       "3  Brooklyn Nine-Nine  Brooklyn Nine-Nine     2013.0   2013.0            22.0   \n",
       "4           Community           Community     2009.0   2009.0            22.0   \n",
       "\n",
       "                       genres  \n",
       "0  Adventure,Animation,Comedy  \n",
       "1        Crime,Drama,Thriller  \n",
       "2      Action,Adventure,Drama  \n",
       "3                Comedy,Crime  \n",
       "4                      Comedy  "
      ]
     },
     "execution_count": 3,
     "metadata": {},
     "output_type": "execute_result"
    }
   ],
   "source": [
    "hulu.head()"
   ]
  },
  {
   "cell_type": "code",
   "execution_count": 4,
   "metadata": {},
   "outputs": [
    {
     "data": {
      "text/plain": [
       "0"
      ]
     },
     "execution_count": 4,
     "metadata": {},
     "output_type": "execute_result"
    }
   ],
   "source": [
    "hulu[\"startYear\"].isna().sum()"
   ]
  },
  {
   "cell_type": "markdown",
   "metadata": {},
   "source": [
    "We will create an individual data frame to use for this notebook."
   ]
  },
  {
   "cell_type": "code",
   "execution_count": 5,
   "metadata": {},
   "outputs": [],
   "source": [
    "hulu_years = hulu[[\"show\", \"startYear\"]]"
   ]
  },
  {
   "cell_type": "code",
   "execution_count": 6,
   "metadata": {},
   "outputs": [
    {
     "data": {
      "text/html": [
       "<div>\n",
       "<style scoped>\n",
       "    .dataframe tbody tr th:only-of-type {\n",
       "        vertical-align: middle;\n",
       "    }\n",
       "\n",
       "    .dataframe tbody tr th {\n",
       "        vertical-align: top;\n",
       "    }\n",
       "\n",
       "    .dataframe thead th {\n",
       "        text-align: right;\n",
       "    }\n",
       "</style>\n",
       "<table border=\"1\" class=\"dataframe\">\n",
       "  <thead>\n",
       "    <tr style=\"text-align: right;\">\n",
       "      <th></th>\n",
       "      <th>show</th>\n",
       "      <th>startYear</th>\n",
       "    </tr>\n",
       "  </thead>\n",
       "  <tbody>\n",
       "    <tr>\n",
       "      <th>0</th>\n",
       "      <td>Rick and Morty</td>\n",
       "      <td>2013.0</td>\n",
       "    </tr>\n",
       "    <tr>\n",
       "      <th>1</th>\n",
       "      <td>Fargo</td>\n",
       "      <td>2014.0</td>\n",
       "    </tr>\n",
       "    <tr>\n",
       "      <th>2</th>\n",
       "      <td>Vikings</td>\n",
       "      <td>2013.0</td>\n",
       "    </tr>\n",
       "    <tr>\n",
       "      <th>3</th>\n",
       "      <td>Brooklyn Nine-Nine</td>\n",
       "      <td>2013.0</td>\n",
       "    </tr>\n",
       "    <tr>\n",
       "      <th>4</th>\n",
       "      <td>Community</td>\n",
       "      <td>2009.0</td>\n",
       "    </tr>\n",
       "  </tbody>\n",
       "</table>\n",
       "</div>"
      ],
      "text/plain": [
       "                 show  startYear\n",
       "0      Rick and Morty     2013.0\n",
       "1               Fargo     2014.0\n",
       "2             Vikings     2013.0\n",
       "3  Brooklyn Nine-Nine     2013.0\n",
       "4           Community     2009.0"
      ]
     },
     "execution_count": 6,
     "metadata": {},
     "output_type": "execute_result"
    }
   ],
   "source": [
    "hulu_years.head()"
   ]
  },
  {
   "cell_type": "markdown",
   "metadata": {},
   "source": [
    "#### ii. Descriptive Statistics"
   ]
  },
  {
   "cell_type": "code",
   "execution_count": 7,
   "metadata": {},
   "outputs": [
    {
     "data": {
      "text/plain": [
       "count    1466.000000\n",
       "mean     2009.617326\n",
       "std        11.096792\n",
       "min      1947.000000\n",
       "25%      2007.000000\n",
       "50%      2013.000000\n",
       "75%      2016.000000\n",
       "max      2020.000000\n",
       "Name: startYear, dtype: float64"
      ]
     },
     "execution_count": 7,
     "metadata": {},
     "output_type": "execute_result"
    }
   ],
   "source": [
    "hulu_years[\"startYear\"].describe()"
   ]
  },
  {
   "cell_type": "markdown",
   "metadata": {},
   "source": [
    "From the descriptive statistics we can see the following:\n",
    "\n",
    "- The tv shows provided by hulu were originally released in average on 2009.\n",
    "- The tv shows range from 1947 to 2020.\n",
    "- 25% of the tv shows were released on 2007 or earlier.\n",
    "- 50% of the tv shows were released on 2013 or later.\n",
    "- 25% of the tv shows were released on 2016 or later."
   ]
  },
  {
   "cell_type": "markdown",
   "metadata": {},
   "source": [
    "#### iii. Plotting"
   ]
  },
  {
   "cell_type": "code",
   "execution_count": 8,
   "metadata": {},
   "outputs": [
    {
     "data": {
      "image/png": "[encoded data removed]",
      "text/plain": [
       "<Figure size 720x432 with 1 Axes>"
      ]
     },
     "metadata": {
      "needs_background": "light"
     },
     "output_type": "display_data"
    }
   ],
   "source": [
    "fig, ax = plt.subplots(figsize=(10,6))\n",
    "\n",
    "sns.boxplot(hulu_years[\"startYear\"])\n",
    "ax.set_title(\"Hulu TV Shows Release Years\")\n",
    "ax.set_xlabel(\"Year\");"
   ]
  },
  {
   "cell_type": "markdown",
   "metadata": {},
   "source": [
    "We can se from the boxplot above that we have some outliers from 1995 and older. We will make a zoom to this box plot and reduce the x axis limit from 2005 to 2022."
   ]
  },
  {
   "cell_type": "code",
   "execution_count": 9,
   "metadata": {},
   "outputs": [
    {
     "data": {
      "image/png": "[encoded data removed]",
      "text/plain": [
       "<Figure size 720x432 with 1 Axes>"
      ]
     },
     "metadata": {
      "needs_background": "light"
     },
     "output_type": "display_data"
    }
   ],
   "source": [
    "fig, ax = plt.subplots(figsize=(10,6))\n",
    "\n",
    "sns.boxplot(hulu_years[\"startYear\"])\n",
    "ax.set_title(\"Hulu TV Shows Release Years Boxplot\")\n",
    "ax.set_xlabel(\"Year\")\n",
    "\n",
    "ax.set_xlim(2005, 2022);"
   ]
  },
  {
   "cell_type": "markdown",
   "metadata": {},
   "source": [
    "From the zoomed boxplot we can see that most tv shows provided by Hulu had a release date from 2007 to 2016, similar to Amazon,  meaning that most of the tv shows are from 13 to 4 years old."
   ]
  },
  {
   "cell_type": "code",
   "execution_count": 10,
   "metadata": {},
   "outputs": [
    {
     "data": {
      "image/png": "[encoded data removed]",
      "text/plain": [
       "<Figure size 720x432 with 1 Axes>"
      ]
     },
     "metadata": {
      "needs_background": "light"
     },
     "output_type": "display_data"
    }
   ],
   "source": [
    "fig, ax = plt.subplots(figsize=(10,6))\n",
    "\n",
    "plt.hist(hulu_years[\"startYear\"], ec=\"black\", lw=0.5, bins=[i for i in range(1940,2025,5)])\n",
    "ax.set_title(\"Hulu TV Shows Release Years Histogram\")\n",
    "ax.set_xlabel(\"Year\")\n",
    "ax.set_ylabel(\"Frequency\");"
   ]
  },
  {
   "cell_type": "markdown",
   "metadata": {},
   "source": [
    "The histogram above shows that the years disribution is heavily left skewed, having a high peak on dates ranging from 2015 to 2020."
   ]
  },
  {
   "cell_type": "markdown",
   "metadata": {},
   "source": [
    "-----\n",
    "\n",
    "### 2. Disney+\n",
    "#### i. Import data"
   ]
  },
  {
   "cell_type": "code",
   "execution_count": 11,
   "metadata": {},
   "outputs": [],
   "source": [
    "disney = pd.read_pickle(\"Data_Hulu_Disney/disney_final_clean.pkl\")"
   ]
  },
  {
   "cell_type": "code",
   "execution_count": 12,
   "metadata": {},
   "outputs": [
    {
     "data": {
      "text/html": [
       "<div>\n",
       "<style scoped>\n",
       "    .dataframe tbody tr th:only-of-type {\n",
       "        vertical-align: middle;\n",
       "    }\n",
       "\n",
       "    .dataframe tbody tr th {\n",
       "        vertical-align: top;\n",
       "    }\n",
       "\n",
       "    .dataframe thead th {\n",
       "        text-align: right;\n",
       "    }\n",
       "</style>\n",
       "<table border=\"1\" class=\"dataframe\">\n",
       "  <thead>\n",
       "    <tr style=\"text-align: right;\">\n",
       "      <th></th>\n",
       "      <th>show</th>\n",
       "      <th>year</th>\n",
       "      <th>age</th>\n",
       "      <th>imdb_rating</th>\n",
       "      <th>imdb_id</th>\n",
       "      <th>titleType</th>\n",
       "      <th>primaryTitle</th>\n",
       "      <th>originalTitle</th>\n",
       "      <th>startYear</th>\n",
       "      <th>endYear</th>\n",
       "      <th>runtimeMinutes</th>\n",
       "      <th>genres</th>\n",
       "    </tr>\n",
       "  </thead>\n",
       "  <tbody>\n",
       "    <tr>\n",
       "      <th>0</th>\n",
       "      <td>The Mandalorian</td>\n",
       "      <td>2019</td>\n",
       "      <td>7.0</td>\n",
       "      <td>8.7</td>\n",
       "      <td>tt8111088</td>\n",
       "      <td>tvSeries</td>\n",
       "      <td>The Mandalorian</td>\n",
       "      <td>The Mandalorian</td>\n",
       "      <td>2019.0</td>\n",
       "      <td>2019.0</td>\n",
       "      <td>30.0</td>\n",
       "      <td>Action,Adventure,Sci-Fi</td>\n",
       "    </tr>\n",
       "    <tr>\n",
       "      <th>1</th>\n",
       "      <td>The Simpsons</td>\n",
       "      <td>1989</td>\n",
       "      <td>7.0</td>\n",
       "      <td>8.7</td>\n",
       "      <td>tt0096697</td>\n",
       "      <td>tvSeries</td>\n",
       "      <td>The Simpsons</td>\n",
       "      <td>The Simpsons</td>\n",
       "      <td>1989.0</td>\n",
       "      <td>1989.0</td>\n",
       "      <td>22.0</td>\n",
       "      <td>Animation,Comedy</td>\n",
       "    </tr>\n",
       "    <tr>\n",
       "      <th>2</th>\n",
       "      <td>Gravity Falls</td>\n",
       "      <td>2012</td>\n",
       "      <td>7.0</td>\n",
       "      <td>8.9</td>\n",
       "      <td>tt1865718</td>\n",
       "      <td>tvSeries</td>\n",
       "      <td>Gravity Falls</td>\n",
       "      <td>Gravity Falls</td>\n",
       "      <td>2012.0</td>\n",
       "      <td>2012.0</td>\n",
       "      <td>23.0</td>\n",
       "      <td>Action,Adventure,Animation</td>\n",
       "    </tr>\n",
       "    <tr>\n",
       "      <th>3</th>\n",
       "      <td>Star Wars: The Clone Wars</td>\n",
       "      <td>2008</td>\n",
       "      <td>7.0</td>\n",
       "      <td>8.2</td>\n",
       "      <td>tt0458290</td>\n",
       "      <td>tvSeries</td>\n",
       "      <td>Star Wars: The Clone Wars</td>\n",
       "      <td>Star Wars: The Clone Wars</td>\n",
       "      <td>2008.0</td>\n",
       "      <td>2008.0</td>\n",
       "      <td>23.0</td>\n",
       "      <td>Action,Adventure,Animation</td>\n",
       "    </tr>\n",
       "    <tr>\n",
       "      <th>4</th>\n",
       "      <td>DuckTales</td>\n",
       "      <td>2017</td>\n",
       "      <td>7.0</td>\n",
       "      <td>8.2</td>\n",
       "      <td>tt5531466</td>\n",
       "      <td>tvSeries</td>\n",
       "      <td>DuckTales</td>\n",
       "      <td>DuckTales</td>\n",
       "      <td>2017.0</td>\n",
       "      <td>2017.0</td>\n",
       "      <td>21.0</td>\n",
       "      <td>Action,Adventure,Animation</td>\n",
       "    </tr>\n",
       "  </tbody>\n",
       "</table>\n",
       "</div>"
      ],
      "text/plain": [
       "                        show  year  age  imdb_rating    imdb_id titleType  \\\n",
       "0            The Mandalorian  2019  7.0          8.7  tt8111088  tvSeries   \n",
       "1               The Simpsons  1989  7.0          8.7  tt0096697  tvSeries   \n",
       "2              Gravity Falls  2012  7.0          8.9  tt1865718  tvSeries   \n",
       "3  Star Wars: The Clone Wars  2008  7.0          8.2  tt0458290  tvSeries   \n",
       "4                  DuckTales  2017  7.0          8.2  tt5531466  tvSeries   \n",
       "\n",
       "                primaryTitle              originalTitle  startYear  endYear  \\\n",
       "0            The Mandalorian            The Mandalorian     2019.0   2019.0   \n",
       "1               The Simpsons               The Simpsons     1989.0   1989.0   \n",
       "2              Gravity Falls              Gravity Falls     2012.0   2012.0   \n",
       "3  Star Wars: The Clone Wars  Star Wars: The Clone Wars     2008.0   2008.0   \n",
       "4                  DuckTales                  DuckTales     2017.0   2017.0   \n",
       "\n",
       "   runtimeMinutes                      genres  \n",
       "0            30.0     Action,Adventure,Sci-Fi  \n",
       "1            22.0            Animation,Comedy  \n",
       "2            23.0  Action,Adventure,Animation  \n",
       "3            23.0  Action,Adventure,Animation  \n",
       "4            21.0  Action,Adventure,Animation  "
      ]
     },
     "execution_count": 12,
     "metadata": {},
     "output_type": "execute_result"
    }
   ],
   "source": [
    "disney.head()"
   ]
  },
  {
   "cell_type": "code",
   "execution_count": 13,
   "metadata": {},
   "outputs": [
    {
     "data": {
      "text/plain": [
       "0"
      ]
     },
     "execution_count": 13,
     "metadata": {},
     "output_type": "execute_result"
    }
   ],
   "source": [
    "disney[\"startYear\"].isna().sum()"
   ]
  },
  {
   "cell_type": "code",
   "execution_count": 14,
   "metadata": {},
   "outputs": [
    {
     "data": {
      "text/html": [
       "<div>\n",
       "<style scoped>\n",
       "    .dataframe tbody tr th:only-of-type {\n",
       "        vertical-align: middle;\n",
       "    }\n",
       "\n",
       "    .dataframe tbody tr th {\n",
       "        vertical-align: top;\n",
       "    }\n",
       "\n",
       "    .dataframe thead th {\n",
       "        text-align: right;\n",
       "    }\n",
       "</style>\n",
       "<table border=\"1\" class=\"dataframe\">\n",
       "  <thead>\n",
       "    <tr style=\"text-align: right;\">\n",
       "      <th></th>\n",
       "      <th>show</th>\n",
       "      <th>startYear</th>\n",
       "    </tr>\n",
       "  </thead>\n",
       "  <tbody>\n",
       "    <tr>\n",
       "      <th>0</th>\n",
       "      <td>The Mandalorian</td>\n",
       "      <td>2019.0</td>\n",
       "    </tr>\n",
       "    <tr>\n",
       "      <th>1</th>\n",
       "      <td>The Simpsons</td>\n",
       "      <td>1989.0</td>\n",
       "    </tr>\n",
       "    <tr>\n",
       "      <th>2</th>\n",
       "      <td>Gravity Falls</td>\n",
       "      <td>2012.0</td>\n",
       "    </tr>\n",
       "    <tr>\n",
       "      <th>3</th>\n",
       "      <td>Star Wars: The Clone Wars</td>\n",
       "      <td>2008.0</td>\n",
       "    </tr>\n",
       "    <tr>\n",
       "      <th>4</th>\n",
       "      <td>DuckTales</td>\n",
       "      <td>2017.0</td>\n",
       "    </tr>\n",
       "  </tbody>\n",
       "</table>\n",
       "</div>"
      ],
      "text/plain": [
       "                        show  startYear\n",
       "0            The Mandalorian     2019.0\n",
       "1               The Simpsons     1989.0\n",
       "2              Gravity Falls     2012.0\n",
       "3  Star Wars: The Clone Wars     2008.0\n",
       "4                  DuckTales     2017.0"
      ]
     },
     "execution_count": 14,
     "metadata": {},
     "output_type": "execute_result"
    }
   ],
   "source": [
    "disney_years = disney[[\"show\", \"startYear\"]]\n",
    "\n",
    "disney_years.head()"
   ]
  },
  {
   "cell_type": "markdown",
   "metadata": {},
   "source": [
    "#### ii. Descriptive Statistics"
   ]
  },
  {
   "cell_type": "code",
   "execution_count": 15,
   "metadata": {},
   "outputs": [
    {
     "data": {
      "text/plain": [
       "count     152.000000\n",
       "mean     2009.677632\n",
       "std         9.494231\n",
       "min      1979.000000\n",
       "25%      2005.000000\n",
       "50%      2012.000000\n",
       "75%      2017.000000\n",
       "max      2020.000000\n",
       "Name: startYear, dtype: float64"
      ]
     },
     "execution_count": 15,
     "metadata": {},
     "output_type": "execute_result"
    }
   ],
   "source": [
    "disney_years[\"startYear\"].describe()"
   ]
  },
  {
   "cell_type": "markdown",
   "metadata": {},
   "source": [
    "From the descriptive statistics we can see the following:\n",
    "\n",
    "- The tv shows provided by disney+ were originally released in average on 2009.\n",
    "- The tv shows range from 1979 to 2020.\n",
    "- 25% of the tv shows were released on 2005 or earlier.\n",
    "- 50% of the tv shows were released on 2012 or later.\n",
    "- 25% of the tv shows were released on 2017 or later.\n",
    "\n",
    "#### iii. Plotting"
   ]
  },
  {
   "cell_type": "code",
   "execution_count": 16,
   "metadata": {},
   "outputs": [
    {
     "data": {
      "image/png": "[encoded data removed]",
      "text/plain": [
       "<Figure size 720x432 with 1 Axes>"
      ]
     },
     "metadata": {
      "needs_background": "light"
     },
     "output_type": "display_data"
    }
   ],
   "source": [
    "fig, ax = plt.subplots(figsize=(10,6))\n",
    "\n",
    "sns.boxplot(disney_years[\"startYear\"])\n",
    "ax.set_title(\"Disney+ TV Shows Release Years\")\n",
    "ax.set_xlabel(\"Year\");"
   ]
  },
  {
   "cell_type": "markdown",
   "metadata": {},
   "source": [
    "We can se from the boxplot above that we have some outliers from 1955 and older. We will make a zoom to this box plot and reduce the x axis limit from 2000 to 2022."
   ]
  },
  {
   "cell_type": "code",
   "execution_count": 17,
   "metadata": {},
   "outputs": [
    {
     "data": {
      "image/png": "[encoded data removed]",
      "text/plain": [
       "<Figure size 720x432 with 1 Axes>"
      ]
     },
     "metadata": {
      "needs_background": "light"
     },
     "output_type": "display_data"
    }
   ],
   "source": [
    "fig, ax = plt.subplots(figsize=(10,6))\n",
    "\n",
    "sns.boxplot(disney_years[\"startYear\"])\n",
    "ax.set_title(\"Disney+ TV Shows Release Years Boxplot\")\n",
    "ax.set_xlabel(\"Year\")\n",
    "\n",
    "ax.set_xlim(2000, 2022);"
   ]
  },
  {
   "cell_type": "markdown",
   "metadata": {},
   "source": [
    "From the zoomed boxplot we can see that most tv shows provided by Disney+ had a release date from 2005 to 2017, similar to Amazon and Hulu, meaning that most of the tv shows are from 15 to 3 years old."
   ]
  },
  {
   "cell_type": "code",
   "execution_count": 18,
   "metadata": {},
   "outputs": [
    {
     "data": {
      "image/png": "[encoded data removed]",
      "text/plain": [
       "<Figure size 720x432 with 1 Axes>"
      ]
     },
     "metadata": {
      "needs_background": "light"
     },
     "output_type": "display_data"
    }
   ],
   "source": [
    "fig, ax = plt.subplots(figsize=(10,6))\n",
    "\n",
    "plt.hist(disney_years[\"startYear\"], ec=\"black\", lw=0.5, bins=[i for i in range(1975,2025,5)])\n",
    "ax.set_title(\"Disney+ TV Shows Release Years Histogram\")\n",
    "ax.set_xlabel(\"Year\")\n",
    "ax.set_ylabel(\"Frequency\");"
   ]
  },
  {
   "cell_type": "markdown",
   "metadata": {},
   "source": [
    "The histogram above shows that the years disribution is heavily left skewed, having a high peak on dates ranging from 2015 to 2020.\n",
    "\n",
    "------\n",
    "\n",
    "### 3. Comparison with other streaming services\n",
    "\n",
    "#### i. Import data"
   ]
  },
  {
   "cell_type": "code",
   "execution_count": 19,
   "metadata": {},
   "outputs": [],
   "source": [
    "years_range = pd.read_pickle(\"../Data/years_range.pkl\")"
   ]
  },
  {
   "cell_type": "code",
   "execution_count": 20,
   "metadata": {},
   "outputs": [
    {
     "data": {
      "text/html": [
       "<div>\n",
       "<style scoped>\n",
       "    .dataframe tbody tr th:only-of-type {\n",
       "        vertical-align: middle;\n",
       "    }\n",
       "\n",
       "    .dataframe tbody tr th {\n",
       "        vertical-align: top;\n",
       "    }\n",
       "\n",
       "    .dataframe thead th {\n",
       "        text-align: right;\n",
       "    }\n",
       "</style>\n",
       "<table border=\"1\" class=\"dataframe\">\n",
       "  <thead>\n",
       "    <tr style=\"text-align: right;\">\n",
       "      <th></th>\n",
       "      <th>year_range</th>\n",
       "      <th>frequency</th>\n",
       "      <th>normalize</th>\n",
       "      <th>streaming_service</th>\n",
       "    </tr>\n",
       "  </thead>\n",
       "  <tbody>\n",
       "    <tr>\n",
       "      <th>0</th>\n",
       "      <td>(1945, 1950]</td>\n",
       "      <td>0</td>\n",
       "      <td>0.00</td>\n",
       "      <td>Netflix</td>\n",
       "    </tr>\n",
       "    <tr>\n",
       "      <th>1</th>\n",
       "      <td>(1950, 1955]</td>\n",
       "      <td>0</td>\n",
       "      <td>0.00</td>\n",
       "      <td>Netflix</td>\n",
       "    </tr>\n",
       "    <tr>\n",
       "      <th>2</th>\n",
       "      <td>(1955, 1960]</td>\n",
       "      <td>2</td>\n",
       "      <td>0.12</td>\n",
       "      <td>Netflix</td>\n",
       "    </tr>\n",
       "    <tr>\n",
       "      <th>3</th>\n",
       "      <td>(1960, 1965]</td>\n",
       "      <td>1</td>\n",
       "      <td>0.06</td>\n",
       "      <td>Netflix</td>\n",
       "    </tr>\n",
       "    <tr>\n",
       "      <th>4</th>\n",
       "      <td>(1965, 1970]</td>\n",
       "      <td>3</td>\n",
       "      <td>0.18</td>\n",
       "      <td>Netflix</td>\n",
       "    </tr>\n",
       "    <tr>\n",
       "      <th>5</th>\n",
       "      <td>(1970, 1975]</td>\n",
       "      <td>1</td>\n",
       "      <td>0.06</td>\n",
       "      <td>Netflix</td>\n",
       "    </tr>\n",
       "    <tr>\n",
       "      <th>6</th>\n",
       "      <td>(1975, 1980]</td>\n",
       "      <td>0</td>\n",
       "      <td>0.00</td>\n",
       "      <td>Netflix</td>\n",
       "    </tr>\n",
       "    <tr>\n",
       "      <th>7</th>\n",
       "      <td>(1980, 1985]</td>\n",
       "      <td>6</td>\n",
       "      <td>0.37</td>\n",
       "      <td>Netflix</td>\n",
       "    </tr>\n",
       "    <tr>\n",
       "      <th>8</th>\n",
       "      <td>(1985, 1990]</td>\n",
       "      <td>11</td>\n",
       "      <td>0.67</td>\n",
       "      <td>Netflix</td>\n",
       "    </tr>\n",
       "    <tr>\n",
       "      <th>9</th>\n",
       "      <td>(1990, 1995]</td>\n",
       "      <td>11</td>\n",
       "      <td>0.67</td>\n",
       "      <td>Netflix</td>\n",
       "    </tr>\n",
       "    <tr>\n",
       "      <th>10</th>\n",
       "      <td>(1995, 2000]</td>\n",
       "      <td>21</td>\n",
       "      <td>1.28</td>\n",
       "      <td>Netflix</td>\n",
       "    </tr>\n",
       "    <tr>\n",
       "      <th>11</th>\n",
       "      <td>(2000, 2005]</td>\n",
       "      <td>43</td>\n",
       "      <td>2.63</td>\n",
       "      <td>Netflix</td>\n",
       "    </tr>\n",
       "    <tr>\n",
       "      <th>12</th>\n",
       "      <td>(2005, 2010]</td>\n",
       "      <td>139</td>\n",
       "      <td>8.49</td>\n",
       "      <td>Netflix</td>\n",
       "    </tr>\n",
       "    <tr>\n",
       "      <th>13</th>\n",
       "      <td>(2010, 2015]</td>\n",
       "      <td>473</td>\n",
       "      <td>28.89</td>\n",
       "      <td>Netflix</td>\n",
       "    </tr>\n",
       "    <tr>\n",
       "      <th>14</th>\n",
       "      <td>(2015, 2020]</td>\n",
       "      <td>926</td>\n",
       "      <td>56.57</td>\n",
       "      <td>Netflix</td>\n",
       "    </tr>\n",
       "    <tr>\n",
       "      <th>15</th>\n",
       "      <td>(1945, 1950]</td>\n",
       "      <td>2</td>\n",
       "      <td>0.16</td>\n",
       "      <td>Amazon</td>\n",
       "    </tr>\n",
       "    <tr>\n",
       "      <th>16</th>\n",
       "      <td>(1950, 1955]</td>\n",
       "      <td>10</td>\n",
       "      <td>0.78</td>\n",
       "      <td>Amazon</td>\n",
       "    </tr>\n",
       "    <tr>\n",
       "      <th>17</th>\n",
       "      <td>(1955, 1960]</td>\n",
       "      <td>18</td>\n",
       "      <td>1.40</td>\n",
       "      <td>Amazon</td>\n",
       "    </tr>\n",
       "    <tr>\n",
       "      <th>18</th>\n",
       "      <td>(1960, 1965]</td>\n",
       "      <td>11</td>\n",
       "      <td>0.85</td>\n",
       "      <td>Amazon</td>\n",
       "    </tr>\n",
       "    <tr>\n",
       "      <th>19</th>\n",
       "      <td>(1965, 1970]</td>\n",
       "      <td>14</td>\n",
       "      <td>1.09</td>\n",
       "      <td>Amazon</td>\n",
       "    </tr>\n",
       "    <tr>\n",
       "      <th>20</th>\n",
       "      <td>(1970, 1975]</td>\n",
       "      <td>6</td>\n",
       "      <td>0.47</td>\n",
       "      <td>Amazon</td>\n",
       "    </tr>\n",
       "    <tr>\n",
       "      <th>21</th>\n",
       "      <td>(1975, 1980]</td>\n",
       "      <td>12</td>\n",
       "      <td>0.93</td>\n",
       "      <td>Amazon</td>\n",
       "    </tr>\n",
       "    <tr>\n",
       "      <th>22</th>\n",
       "      <td>(1980, 1985]</td>\n",
       "      <td>24</td>\n",
       "      <td>1.86</td>\n",
       "      <td>Amazon</td>\n",
       "    </tr>\n",
       "    <tr>\n",
       "      <th>23</th>\n",
       "      <td>(1985, 1990]</td>\n",
       "      <td>27</td>\n",
       "      <td>2.09</td>\n",
       "      <td>Amazon</td>\n",
       "    </tr>\n",
       "    <tr>\n",
       "      <th>24</th>\n",
       "      <td>(1990, 1995]</td>\n",
       "      <td>44</td>\n",
       "      <td>3.41</td>\n",
       "      <td>Amazon</td>\n",
       "    </tr>\n",
       "    <tr>\n",
       "      <th>25</th>\n",
       "      <td>(1995, 2000]</td>\n",
       "      <td>69</td>\n",
       "      <td>5.35</td>\n",
       "      <td>Amazon</td>\n",
       "    </tr>\n",
       "    <tr>\n",
       "      <th>26</th>\n",
       "      <td>(2000, 2005]</td>\n",
       "      <td>118</td>\n",
       "      <td>9.15</td>\n",
       "      <td>Amazon</td>\n",
       "    </tr>\n",
       "    <tr>\n",
       "      <th>27</th>\n",
       "      <td>(2005, 2010]</td>\n",
       "      <td>204</td>\n",
       "      <td>15.81</td>\n",
       "      <td>Amazon</td>\n",
       "    </tr>\n",
       "    <tr>\n",
       "      <th>28</th>\n",
       "      <td>(2010, 2015]</td>\n",
       "      <td>374</td>\n",
       "      <td>28.99</td>\n",
       "      <td>Amazon</td>\n",
       "    </tr>\n",
       "    <tr>\n",
       "      <th>29</th>\n",
       "      <td>(2015, 2020]</td>\n",
       "      <td>357</td>\n",
       "      <td>27.67</td>\n",
       "      <td>Amazon</td>\n",
       "    </tr>\n",
       "    <tr>\n",
       "      <th>30</th>\n",
       "      <td>(1945, 1950]</td>\n",
       "      <td>0</td>\n",
       "      <td>0.00</td>\n",
       "      <td>HBO</td>\n",
       "    </tr>\n",
       "    <tr>\n",
       "      <th>31</th>\n",
       "      <td>(1950, 1955]</td>\n",
       "      <td>0</td>\n",
       "      <td>0.00</td>\n",
       "      <td>HBO</td>\n",
       "    </tr>\n",
       "    <tr>\n",
       "      <th>32</th>\n",
       "      <td>(1955, 1960]</td>\n",
       "      <td>0</td>\n",
       "      <td>0.00</td>\n",
       "      <td>HBO</td>\n",
       "    </tr>\n",
       "    <tr>\n",
       "      <th>33</th>\n",
       "      <td>(1960, 1965]</td>\n",
       "      <td>0</td>\n",
       "      <td>0.00</td>\n",
       "      <td>HBO</td>\n",
       "    </tr>\n",
       "    <tr>\n",
       "      <th>34</th>\n",
       "      <td>(1965, 1970]</td>\n",
       "      <td>1</td>\n",
       "      <td>0.58</td>\n",
       "      <td>HBO</td>\n",
       "    </tr>\n",
       "    <tr>\n",
       "      <th>35</th>\n",
       "      <td>(1970, 1975]</td>\n",
       "      <td>1</td>\n",
       "      <td>0.58</td>\n",
       "      <td>HBO</td>\n",
       "    </tr>\n",
       "    <tr>\n",
       "      <th>36</th>\n",
       "      <td>(1975, 1980]</td>\n",
       "      <td>0</td>\n",
       "      <td>0.00</td>\n",
       "      <td>HBO</td>\n",
       "    </tr>\n",
       "    <tr>\n",
       "      <th>37</th>\n",
       "      <td>(1980, 1985]</td>\n",
       "      <td>1</td>\n",
       "      <td>0.58</td>\n",
       "      <td>HBO</td>\n",
       "    </tr>\n",
       "    <tr>\n",
       "      <th>38</th>\n",
       "      <td>(1985, 1990]</td>\n",
       "      <td>2</td>\n",
       "      <td>1.16</td>\n",
       "      <td>HBO</td>\n",
       "    </tr>\n",
       "    <tr>\n",
       "      <th>39</th>\n",
       "      <td>(1990, 1995]</td>\n",
       "      <td>6</td>\n",
       "      <td>3.49</td>\n",
       "      <td>HBO</td>\n",
       "    </tr>\n",
       "    <tr>\n",
       "      <th>40</th>\n",
       "      <td>(1995, 2000]</td>\n",
       "      <td>8</td>\n",
       "      <td>4.65</td>\n",
       "      <td>HBO</td>\n",
       "    </tr>\n",
       "    <tr>\n",
       "      <th>41</th>\n",
       "      <td>(2000, 2005]</td>\n",
       "      <td>17</td>\n",
       "      <td>9.88</td>\n",
       "      <td>HBO</td>\n",
       "    </tr>\n",
       "    <tr>\n",
       "      <th>42</th>\n",
       "      <td>(2005, 2010]</td>\n",
       "      <td>25</td>\n",
       "      <td>14.53</td>\n",
       "      <td>HBO</td>\n",
       "    </tr>\n",
       "    <tr>\n",
       "      <th>43</th>\n",
       "      <td>(2010, 2015]</td>\n",
       "      <td>41</td>\n",
       "      <td>23.84</td>\n",
       "      <td>HBO</td>\n",
       "    </tr>\n",
       "    <tr>\n",
       "      <th>44</th>\n",
       "      <td>(2015, 2020]</td>\n",
       "      <td>70</td>\n",
       "      <td>40.70</td>\n",
       "      <td>HBO</td>\n",
       "    </tr>\n",
       "  </tbody>\n",
       "</table>\n",
       "</div>"
      ],
      "text/plain": [
       "      year_range  frequency  normalize streaming_service\n",
       "0   (1945, 1950]          0       0.00           Netflix\n",
       "1   (1950, 1955]          0       0.00           Netflix\n",
       "2   (1955, 1960]          2       0.12           Netflix\n",
       "3   (1960, 1965]          1       0.06           Netflix\n",
       "4   (1965, 1970]          3       0.18           Netflix\n",
       "5   (1970, 1975]          1       0.06           Netflix\n",
       "6   (1975, 1980]          0       0.00           Netflix\n",
       "7   (1980, 1985]          6       0.37           Netflix\n",
       "8   (1985, 1990]         11       0.67           Netflix\n",
       "9   (1990, 1995]         11       0.67           Netflix\n",
       "10  (1995, 2000]         21       1.28           Netflix\n",
       "11  (2000, 2005]         43       2.63           Netflix\n",
       "12  (2005, 2010]        139       8.49           Netflix\n",
       "13  (2010, 2015]        473      28.89           Netflix\n",
       "14  (2015, 2020]        926      56.57           Netflix\n",
       "15  (1945, 1950]          2       0.16            Amazon\n",
       "16  (1950, 1955]         10       0.78            Amazon\n",
       "17  (1955, 1960]         18       1.40            Amazon\n",
       "18  (1960, 1965]         11       0.85            Amazon\n",
       "19  (1965, 1970]         14       1.09            Amazon\n",
       "20  (1970, 1975]          6       0.47            Amazon\n",
       "21  (1975, 1980]         12       0.93            Amazon\n",
       "22  (1980, 1985]         24       1.86            Amazon\n",
       "23  (1985, 1990]         27       2.09            Amazon\n",
       "24  (1990, 1995]         44       3.41            Amazon\n",
       "25  (1995, 2000]         69       5.35            Amazon\n",
       "26  (2000, 2005]        118       9.15            Amazon\n",
       "27  (2005, 2010]        204      15.81            Amazon\n",
       "28  (2010, 2015]        374      28.99            Amazon\n",
       "29  (2015, 2020]        357      27.67            Amazon\n",
       "30  (1945, 1950]          0       0.00               HBO\n",
       "31  (1950, 1955]          0       0.00               HBO\n",
       "32  (1955, 1960]          0       0.00               HBO\n",
       "33  (1960, 1965]          0       0.00               HBO\n",
       "34  (1965, 1970]          1       0.58               HBO\n",
       "35  (1970, 1975]          1       0.58               HBO\n",
       "36  (1975, 1980]          0       0.00               HBO\n",
       "37  (1980, 1985]          1       0.58               HBO\n",
       "38  (1985, 1990]          2       1.16               HBO\n",
       "39  (1990, 1995]          6       3.49               HBO\n",
       "40  (1995, 2000]          8       4.65               HBO\n",
       "41  (2000, 2005]         17       9.88               HBO\n",
       "42  (2005, 2010]         25      14.53               HBO\n",
       "43  (2010, 2015]         41      23.84               HBO\n",
       "44  (2015, 2020]         70      40.70               HBO"
      ]
     },
     "execution_count": 20,
     "metadata": {},
     "output_type": "execute_result"
    }
   ],
   "source": [
    "years_range"
   ]
  },
  {
   "cell_type": "markdown",
   "metadata": {},
   "source": [
    "#### ii. Normalize data for Hulu and Disney+"
   ]
  },
  {
   "cell_type": "code",
   "execution_count": 21,
   "metadata": {},
   "outputs": [
    {
     "name": "stderr",
     "output_type": "stream",
     "text": [
      "C:\\Users\\Admin\\.conda\\envs\\backpack_banana\\lib\\site-packages\\ipykernel_launcher.py:1: SettingWithCopyWarning: \n",
      "A value is trying to be set on a copy of a slice from a DataFrame.\n",
      "Try using .loc[row_indexer,col_indexer] = value instead\n",
      "\n",
      "See the caveats in the documentation: https://pandas.pydata.org/pandas-docs/stable/user_guide/indexing.html#returning-a-view-versus-a-copy\n",
      "  \"\"\"Entry point for launching an IPython kernel.\n"
     ]
    },
    {
     "data": {
      "text/html": [
       "<div>\n",
       "<style scoped>\n",
       "    .dataframe tbody tr th:only-of-type {\n",
       "        vertical-align: middle;\n",
       "    }\n",
       "\n",
       "    .dataframe tbody tr th {\n",
       "        vertical-align: top;\n",
       "    }\n",
       "\n",
       "    .dataframe thead th {\n",
       "        text-align: right;\n",
       "    }\n",
       "</style>\n",
       "<table border=\"1\" class=\"dataframe\">\n",
       "  <thead>\n",
       "    <tr style=\"text-align: right;\">\n",
       "      <th></th>\n",
       "      <th>show</th>\n",
       "      <th>startYear</th>\n",
       "      <th>year_range</th>\n",
       "    </tr>\n",
       "  </thead>\n",
       "  <tbody>\n",
       "    <tr>\n",
       "      <th>0</th>\n",
       "      <td>Rick and Morty</td>\n",
       "      <td>2013.0</td>\n",
       "      <td>(2010, 2015]</td>\n",
       "    </tr>\n",
       "    <tr>\n",
       "      <th>1</th>\n",
       "      <td>Fargo</td>\n",
       "      <td>2014.0</td>\n",
       "      <td>(2010, 2015]</td>\n",
       "    </tr>\n",
       "    <tr>\n",
       "      <th>2</th>\n",
       "      <td>Vikings</td>\n",
       "      <td>2013.0</td>\n",
       "      <td>(2010, 2015]</td>\n",
       "    </tr>\n",
       "    <tr>\n",
       "      <th>3</th>\n",
       "      <td>Brooklyn Nine-Nine</td>\n",
       "      <td>2013.0</td>\n",
       "      <td>(2010, 2015]</td>\n",
       "    </tr>\n",
       "    <tr>\n",
       "      <th>4</th>\n",
       "      <td>Community</td>\n",
       "      <td>2009.0</td>\n",
       "      <td>(2005, 2010]</td>\n",
       "    </tr>\n",
       "  </tbody>\n",
       "</table>\n",
       "</div>"
      ],
      "text/plain": [
       "                 show  startYear    year_range\n",
       "0      Rick and Morty     2013.0  (2010, 2015]\n",
       "1               Fargo     2014.0  (2010, 2015]\n",
       "2             Vikings     2013.0  (2010, 2015]\n",
       "3  Brooklyn Nine-Nine     2013.0  (2010, 2015]\n",
       "4           Community     2009.0  (2005, 2010]"
      ]
     },
     "execution_count": 21,
     "metadata": {},
     "output_type": "execute_result"
    }
   ],
   "source": [
    "hulu_years[\"year_range\"] = pd.cut(hulu_years[\"startYear\"], bins=[i for i in range(1945,2025,5)])\n",
    "\n",
    "hulu_years.head()"
   ]
  },
  {
   "cell_type": "code",
   "execution_count": 22,
   "metadata": {},
   "outputs": [
    {
     "data": {
      "text/html": [
       "<div>\n",
       "<style scoped>\n",
       "    .dataframe tbody tr th:only-of-type {\n",
       "        vertical-align: middle;\n",
       "    }\n",
       "\n",
       "    .dataframe tbody tr th {\n",
       "        vertical-align: top;\n",
       "    }\n",
       "\n",
       "    .dataframe thead th {\n",
       "        text-align: right;\n",
       "    }\n",
       "</style>\n",
       "<table border=\"1\" class=\"dataframe\">\n",
       "  <thead>\n",
       "    <tr style=\"text-align: right;\">\n",
       "      <th></th>\n",
       "      <th>year_range</th>\n",
       "      <th>frequency</th>\n",
       "      <th>normalize</th>\n",
       "      <th>streaming_service</th>\n",
       "    </tr>\n",
       "  </thead>\n",
       "  <tbody>\n",
       "    <tr>\n",
       "      <th>0</th>\n",
       "      <td>(1945, 1950]</td>\n",
       "      <td>2</td>\n",
       "      <td>0.14</td>\n",
       "      <td>Hulu</td>\n",
       "    </tr>\n",
       "    <tr>\n",
       "      <th>1</th>\n",
       "      <td>(1950, 1955]</td>\n",
       "      <td>4</td>\n",
       "      <td>0.27</td>\n",
       "      <td>Hulu</td>\n",
       "    </tr>\n",
       "    <tr>\n",
       "      <th>2</th>\n",
       "      <td>(1955, 1960]</td>\n",
       "      <td>4</td>\n",
       "      <td>0.27</td>\n",
       "      <td>Hulu</td>\n",
       "    </tr>\n",
       "    <tr>\n",
       "      <th>3</th>\n",
       "      <td>(1960, 1965]</td>\n",
       "      <td>11</td>\n",
       "      <td>0.75</td>\n",
       "      <td>Hulu</td>\n",
       "    </tr>\n",
       "    <tr>\n",
       "      <th>4</th>\n",
       "      <td>(1965, 1970]</td>\n",
       "      <td>11</td>\n",
       "      <td>0.75</td>\n",
       "      <td>Hulu</td>\n",
       "    </tr>\n",
       "  </tbody>\n",
       "</table>\n",
       "</div>"
      ],
      "text/plain": [
       "     year_range  frequency  normalize streaming_service\n",
       "0  (1945, 1950]          2       0.14              Hulu\n",
       "1  (1950, 1955]          4       0.27              Hulu\n",
       "2  (1955, 1960]          4       0.27              Hulu\n",
       "3  (1960, 1965]         11       0.75              Hulu\n",
       "4  (1965, 1970]         11       0.75              Hulu"
      ]
     },
     "execution_count": 22,
     "metadata": {},
     "output_type": "execute_result"
    }
   ],
   "source": [
    "hulu_years_range = (hulu_years.groupby(\"year_range\")\n",
    "                            .agg({\"show\":\"count\"})\n",
    "                            .reset_index()\n",
    "                            .rename(columns={\"show\":\"frequency\"}))\n",
    "\n",
    "hulu_years_range[\"normalize\"] = round(((hulu_years_range[\"frequency\"] / hulu_years_range[\"frequency\"].sum()) * 100)\n",
    "                                         , 2)\n",
    "\n",
    "hulu_years_range[\"streaming_service\"] = \"Hulu\"\n",
    "\n",
    "hulu_years_range.head()"
   ]
  },
  {
   "cell_type": "code",
   "execution_count": 23,
   "metadata": {},
   "outputs": [
    {
     "name": "stderr",
     "output_type": "stream",
     "text": [
      "C:\\Users\\Admin\\.conda\\envs\\backpack_banana\\lib\\site-packages\\ipykernel_launcher.py:1: SettingWithCopyWarning: \n",
      "A value is trying to be set on a copy of a slice from a DataFrame.\n",
      "Try using .loc[row_indexer,col_indexer] = value instead\n",
      "\n",
      "See the caveats in the documentation: https://pandas.pydata.org/pandas-docs/stable/user_guide/indexing.html#returning-a-view-versus-a-copy\n",
      "  \"\"\"Entry point for launching an IPython kernel.\n"
     ]
    },
    {
     "data": {
      "text/html": [
       "<div>\n",
       "<style scoped>\n",
       "    .dataframe tbody tr th:only-of-type {\n",
       "        vertical-align: middle;\n",
       "    }\n",
       "\n",
       "    .dataframe tbody tr th {\n",
       "        vertical-align: top;\n",
       "    }\n",
       "\n",
       "    .dataframe thead th {\n",
       "        text-align: right;\n",
       "    }\n",
       "</style>\n",
       "<table border=\"1\" class=\"dataframe\">\n",
       "  <thead>\n",
       "    <tr style=\"text-align: right;\">\n",
       "      <th></th>\n",
       "      <th>show</th>\n",
       "      <th>startYear</th>\n",
       "      <th>year_range</th>\n",
       "    </tr>\n",
       "  </thead>\n",
       "  <tbody>\n",
       "    <tr>\n",
       "      <th>0</th>\n",
       "      <td>The Mandalorian</td>\n",
       "      <td>2019.0</td>\n",
       "      <td>(2015, 2020]</td>\n",
       "    </tr>\n",
       "    <tr>\n",
       "      <th>1</th>\n",
       "      <td>The Simpsons</td>\n",
       "      <td>1989.0</td>\n",
       "      <td>(1985, 1990]</td>\n",
       "    </tr>\n",
       "    <tr>\n",
       "      <th>2</th>\n",
       "      <td>Gravity Falls</td>\n",
       "      <td>2012.0</td>\n",
       "      <td>(2010, 2015]</td>\n",
       "    </tr>\n",
       "    <tr>\n",
       "      <th>3</th>\n",
       "      <td>Star Wars: The Clone Wars</td>\n",
       "      <td>2008.0</td>\n",
       "      <td>(2005, 2010]</td>\n",
       "    </tr>\n",
       "    <tr>\n",
       "      <th>4</th>\n",
       "      <td>DuckTales</td>\n",
       "      <td>2017.0</td>\n",
       "      <td>(2015, 2020]</td>\n",
       "    </tr>\n",
       "  </tbody>\n",
       "</table>\n",
       "</div>"
      ],
      "text/plain": [
       "                        show  startYear    year_range\n",
       "0            The Mandalorian     2019.0  (2015, 2020]\n",
       "1               The Simpsons     1989.0  (1985, 1990]\n",
       "2              Gravity Falls     2012.0  (2010, 2015]\n",
       "3  Star Wars: The Clone Wars     2008.0  (2005, 2010]\n",
       "4                  DuckTales     2017.0  (2015, 2020]"
      ]
     },
     "execution_count": 23,
     "metadata": {},
     "output_type": "execute_result"
    }
   ],
   "source": [
    "disney_years[\"year_range\"] = pd.cut(disney_years[\"startYear\"], bins=[i for i in range(1945,2025,5)])\n",
    "\n",
    "disney_years.head()"
   ]
  },
  {
   "cell_type": "code",
   "execution_count": 24,
   "metadata": {},
   "outputs": [
    {
     "data": {
      "text/html": [
       "<div>\n",
       "<style scoped>\n",
       "    .dataframe tbody tr th:only-of-type {\n",
       "        vertical-align: middle;\n",
       "    }\n",
       "\n",
       "    .dataframe tbody tr th {\n",
       "        vertical-align: top;\n",
       "    }\n",
       "\n",
       "    .dataframe thead th {\n",
       "        text-align: right;\n",
       "    }\n",
       "</style>\n",
       "<table border=\"1\" class=\"dataframe\">\n",
       "  <thead>\n",
       "    <tr style=\"text-align: right;\">\n",
       "      <th></th>\n",
       "      <th>year_range</th>\n",
       "      <th>frequency</th>\n",
       "      <th>normalize</th>\n",
       "      <th>streaming_service</th>\n",
       "    </tr>\n",
       "  </thead>\n",
       "  <tbody>\n",
       "    <tr>\n",
       "      <th>0</th>\n",
       "      <td>(1945, 1950]</td>\n",
       "      <td>0</td>\n",
       "      <td>0.0</td>\n",
       "      <td>Disney</td>\n",
       "    </tr>\n",
       "    <tr>\n",
       "      <th>1</th>\n",
       "      <td>(1950, 1955]</td>\n",
       "      <td>0</td>\n",
       "      <td>0.0</td>\n",
       "      <td>Disney</td>\n",
       "    </tr>\n",
       "    <tr>\n",
       "      <th>2</th>\n",
       "      <td>(1955, 1960]</td>\n",
       "      <td>0</td>\n",
       "      <td>0.0</td>\n",
       "      <td>Disney</td>\n",
       "    </tr>\n",
       "    <tr>\n",
       "      <th>3</th>\n",
       "      <td>(1960, 1965]</td>\n",
       "      <td>0</td>\n",
       "      <td>0.0</td>\n",
       "      <td>Disney</td>\n",
       "    </tr>\n",
       "    <tr>\n",
       "      <th>4</th>\n",
       "      <td>(1965, 1970]</td>\n",
       "      <td>0</td>\n",
       "      <td>0.0</td>\n",
       "      <td>Disney</td>\n",
       "    </tr>\n",
       "  </tbody>\n",
       "</table>\n",
       "</div>"
      ],
      "text/plain": [
       "     year_range  frequency  normalize streaming_service\n",
       "0  (1945, 1950]          0        0.0            Disney\n",
       "1  (1950, 1955]          0        0.0            Disney\n",
       "2  (1955, 1960]          0        0.0            Disney\n",
       "3  (1960, 1965]          0        0.0            Disney\n",
       "4  (1965, 1970]          0        0.0            Disney"
      ]
     },
     "execution_count": 24,
     "metadata": {},
     "output_type": "execute_result"
    }
   ],
   "source": [
    "disney_years_range = (disney_years.groupby(\"year_range\")\n",
    "                            .agg({\"show\":\"count\"})\n",
    "                            .reset_index()\n",
    "                            .rename(columns={\"show\":\"frequency\"}))\n",
    "\n",
    "disney_years_range[\"normalize\"] = round(((disney_years_range[\"frequency\"] / disney_years_range[\"frequency\"].sum()) * 100)\n",
    "                                         , 2)\n",
    "\n",
    "disney_years_range[\"streaming_service\"] = \"Disney\"\n",
    "\n",
    "disney_years_range.head()"
   ]
  },
  {
   "cell_type": "markdown",
   "metadata": {},
   "source": [
    "#### iii. Combine data frames"
   ]
  },
  {
   "cell_type": "code",
   "execution_count": 25,
   "metadata": {},
   "outputs": [],
   "source": [
    "years_range = years_range.append(hulu_years_range).append(disney_years_range).reset_index(drop=True)"
   ]
  },
  {
   "cell_type": "code",
   "execution_count": 26,
   "metadata": {},
   "outputs": [
    {
     "data": {
      "text/html": [
       "<div>\n",
       "<style scoped>\n",
       "    .dataframe tbody tr th:only-of-type {\n",
       "        vertical-align: middle;\n",
       "    }\n",
       "\n",
       "    .dataframe tbody tr th {\n",
       "        vertical-align: top;\n",
       "    }\n",
       "\n",
       "    .dataframe thead th {\n",
       "        text-align: right;\n",
       "    }\n",
       "</style>\n",
       "<table border=\"1\" class=\"dataframe\">\n",
       "  <thead>\n",
       "    <tr style=\"text-align: right;\">\n",
       "      <th></th>\n",
       "      <th>year_range</th>\n",
       "      <th>frequency</th>\n",
       "      <th>normalize</th>\n",
       "      <th>streaming_service</th>\n",
       "    </tr>\n",
       "  </thead>\n",
       "  <tbody>\n",
       "    <tr>\n",
       "      <th>0</th>\n",
       "      <td>(1945, 1950]</td>\n",
       "      <td>0</td>\n",
       "      <td>0.00</td>\n",
       "      <td>Netflix</td>\n",
       "    </tr>\n",
       "    <tr>\n",
       "      <th>1</th>\n",
       "      <td>(1950, 1955]</td>\n",
       "      <td>0</td>\n",
       "      <td>0.00</td>\n",
       "      <td>Netflix</td>\n",
       "    </tr>\n",
       "    <tr>\n",
       "      <th>2</th>\n",
       "      <td>(1955, 1960]</td>\n",
       "      <td>2</td>\n",
       "      <td>0.12</td>\n",
       "      <td>Netflix</td>\n",
       "    </tr>\n",
       "    <tr>\n",
       "      <th>3</th>\n",
       "      <td>(1960, 1965]</td>\n",
       "      <td>1</td>\n",
       "      <td>0.06</td>\n",
       "      <td>Netflix</td>\n",
       "    </tr>\n",
       "    <tr>\n",
       "      <th>4</th>\n",
       "      <td>(1965, 1970]</td>\n",
       "      <td>3</td>\n",
       "      <td>0.18</td>\n",
       "      <td>Netflix</td>\n",
       "    </tr>\n",
       "    <tr>\n",
       "      <th>...</th>\n",
       "      <td>...</td>\n",
       "      <td>...</td>\n",
       "      <td>...</td>\n",
       "      <td>...</td>\n",
       "    </tr>\n",
       "    <tr>\n",
       "      <th>70</th>\n",
       "      <td>(1995, 2000]</td>\n",
       "      <td>12</td>\n",
       "      <td>7.89</td>\n",
       "      <td>Disney</td>\n",
       "    </tr>\n",
       "    <tr>\n",
       "      <th>71</th>\n",
       "      <td>(2000, 2005]</td>\n",
       "      <td>9</td>\n",
       "      <td>5.92</td>\n",
       "      <td>Disney</td>\n",
       "    </tr>\n",
       "    <tr>\n",
       "      <th>72</th>\n",
       "      <td>(2005, 2010]</td>\n",
       "      <td>21</td>\n",
       "      <td>13.82</td>\n",
       "      <td>Disney</td>\n",
       "    </tr>\n",
       "    <tr>\n",
       "      <th>73</th>\n",
       "      <td>(2010, 2015]</td>\n",
       "      <td>36</td>\n",
       "      <td>23.68</td>\n",
       "      <td>Disney</td>\n",
       "    </tr>\n",
       "    <tr>\n",
       "      <th>74</th>\n",
       "      <td>(2015, 2020]</td>\n",
       "      <td>56</td>\n",
       "      <td>36.84</td>\n",
       "      <td>Disney</td>\n",
       "    </tr>\n",
       "  </tbody>\n",
       "</table>\n",
       "<p>75 rows × 4 columns</p>\n",
       "</div>"
      ],
      "text/plain": [
       "      year_range  frequency  normalize streaming_service\n",
       "0   (1945, 1950]          0       0.00           Netflix\n",
       "1   (1950, 1955]          0       0.00           Netflix\n",
       "2   (1955, 1960]          2       0.12           Netflix\n",
       "3   (1960, 1965]          1       0.06           Netflix\n",
       "4   (1965, 1970]          3       0.18           Netflix\n",
       "..           ...        ...        ...               ...\n",
       "70  (1995, 2000]         12       7.89            Disney\n",
       "71  (2000, 2005]          9       5.92            Disney\n",
       "72  (2005, 2010]         21      13.82            Disney\n",
       "73  (2010, 2015]         36      23.68            Disney\n",
       "74  (2015, 2020]         56      36.84            Disney\n",
       "\n",
       "[75 rows x 4 columns]"
      ]
     },
     "execution_count": 26,
     "metadata": {},
     "output_type": "execute_result"
    }
   ],
   "source": [
    "years_range"
   ]
  },
  {
   "cell_type": "code",
   "execution_count": 27,
   "metadata": {},
   "outputs": [
    {
     "data": {
      "image/png": "[encoded data removed]",
      "text/plain": [
       "<Figure size 720x432 with 1 Axes>"
      ]
     },
     "metadata": {
      "needs_background": "light"
     },
     "output_type": "display_data"
    }
   ],
   "source": [
    "fig, ax = plt.subplots(figsize=(10,6))\n",
    "\n",
    "sns.barplot(x=years_range[\"year_range\"]\n",
    "            , y=years_range[\"normalize\"]\n",
    "            , hue=years_range[\"streaming_service\"]\n",
    "            , palette=\"Blues\"\n",
    "           , ci=None)\n",
    "\n",
    "ax.set_xlabel(\"Year\")\n",
    "ax.set_ylabel(\"Percentage\")\n",
    "ax.set_title(\"TV Shows' Release Years Bar Plot\")\n",
    "\n",
    "labels = [i for i in range(1945,2020, 5)]\n",
    "ax.set_xticklabels(labels)\n",
    "\n",
    "plt.legend(title=\"Streaming Service\");"
   ]
  },
  {
   "cell_type": "markdown",
   "metadata": {},
   "source": [
    "- From the bar plot above we can see that Netflix has newer TV shows, with release dates ranging from 2015 to 2020, followed by HBO and then Disney+.\n",
    "\n",
    "- Amazon and HBO seem to have similar amount of tv shows for the reset of the years.\n",
    "\n",
    "- Disney+ has a great amount of TV shows for the years 1990-2000.\n",
    "\n",
    "- Hulu has a greater amount of TV shows from 2010-2015 than the other streaming services."
   ]
  },
  {
   "cell_type": "code",
   "execution_count": null,
   "metadata": {},
   "outputs": [],
   "source": []
  }
 ],
 "metadata": {
  "kernelspec": {
   "display_name": "Python 3",
   "language": "python",
   "name": "python3"
  },
  "language_info": {
   "codemirror_mode": {
    "name": "ipython",
    "version": 3
   },
   "file_extension": ".py",
   "mimetype": "text/x-python",
   "name": "python",
   "nbconvert_exporter": "python",
   "pygments_lexer": "ipython3",
   "version": "3.7.6"
  }
 },
 "nbformat": 4,
 "nbformat_minor": 4
}
