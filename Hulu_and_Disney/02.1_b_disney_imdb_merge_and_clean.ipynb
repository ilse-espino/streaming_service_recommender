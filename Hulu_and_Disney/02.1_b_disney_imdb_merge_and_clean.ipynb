{
 "cells": [
  {
   "cell_type": "code",
   "execution_count": 1,
   "metadata": {},
   "outputs": [],
   "source": [
    "import pandas as pd\n",
    "import numpy as np\n",
    "from fuzzywuzzy import fuzz"
   ]
  },
  {
   "cell_type": "markdown",
   "metadata": {},
   "source": [
    "## Hulu Merge\n",
    "\n",
    "#### Goals:\n",
    "\n",
    "- Merge Hulu tv shows with IMDB ID\n",
    "\n",
    "\n",
    "## 1. Import imdb and hulu data"
   ]
  },
  {
   "cell_type": "code",
   "execution_count": 2,
   "metadata": {},
   "outputs": [],
   "source": [
    "imdb = pd.read_pickle(\"../Data/imdb_tv_all.pkl\")\n",
    "\n",
    "disney = pd.read_csv(\"Data_Hulu_Disney/disney_shows.csv\")"
   ]
  },
  {
   "cell_type": "markdown",
   "metadata": {},
   "source": [
    "We will look at how many titles we have using the shape function, which will return a tuple indicating number of rows and number of columns."
   ]
  },
  {
   "cell_type": "code",
   "execution_count": 3,
   "metadata": {},
   "outputs": [
    {
     "data": {
      "text/plain": [
       "(179, 5)"
      ]
     },
     "execution_count": 3,
     "metadata": {},
     "output_type": "execute_result"
    }
   ],
   "source": [
    "disney.shape"
   ]
  },
  {
   "cell_type": "markdown",
   "metadata": {},
   "source": [
    "## 2. Merge dataframes\n",
    "\n",
    "We will start by merging on title and year in order to get the right IMDB ID (tconst) because there might be some remakes.\n",
    "We will do this by using a left join in order to keep all the original hulu titles."
   ]
  },
  {
   "cell_type": "code",
   "execution_count": 4,
   "metadata": {},
   "outputs": [],
   "source": [
    "disney_genres = disney.merge(imdb, left_on=[\"show\", \"year\"], right_on=[\"originalTitle\", \"startYear\"], how=\"left\")"
   ]
  },
  {
   "cell_type": "markdown",
   "metadata": {},
   "source": [
    "From the new merged data frame, we will get a new data frame called hulu_missing1 to get the missing titles that didn't find a match."
   ]
  },
  {
   "cell_type": "code",
   "execution_count": 5,
   "metadata": {},
   "outputs": [],
   "source": [
    "disney_missing1 = disney_genres[disney_genres[\"tconst\"].isna()].reset_index(drop=True)[[\"show\", \"year\", \"rating\"\n",
    "                                                                                           , \"imdb\", \"rotten_tomatoes\"]]"
   ]
  },
  {
   "cell_type": "code",
   "execution_count": 6,
   "metadata": {},
   "outputs": [
    {
     "data": {
      "text/plain": [
       "(41, 5)"
      ]
     },
     "execution_count": 6,
     "metadata": {},
     "output_type": "execute_result"
    }
   ],
   "source": [
    "disney_missing1.shape"
   ]
  },
  {
   "cell_type": "markdown",
   "metadata": {},
   "source": [
    "We are missing 41 titles from 179 in total.\n",
    "\n",
    "We will now merge but now using primaryTitle instead of originalTitle, since some of the titles might be in their original language."
   ]
  },
  {
   "cell_type": "code",
   "execution_count": 7,
   "metadata": {},
   "outputs": [],
   "source": [
    "disney_missing1 = disney_missing1.merge(imdb, left_on=[\"show\", \"year\"], right_on=[\"primaryTitle\", \"startYear\"], how=\"left\")"
   ]
  },
  {
   "cell_type": "markdown",
   "metadata": {},
   "source": [
    "We will create another data frame for those titles who weren't matched."
   ]
  },
  {
   "cell_type": "code",
   "execution_count": 8,
   "metadata": {},
   "outputs": [],
   "source": [
    "disney_missing2 = disney_missing1[disney_missing1[\"tconst\"].isna()].reset_index(drop=True)[[\"show\", \"year\", \"rating\"\n",
    "                                                                                               , \"imdb\", \"rotten_tomatoes\"]]"
   ]
  },
  {
   "cell_type": "code",
   "execution_count": 9,
   "metadata": {},
   "outputs": [
    {
     "data": {
      "text/plain": [
       "(39, 5)"
      ]
     },
     "execution_count": 9,
     "metadata": {},
     "output_type": "execute_result"
    }
   ],
   "source": [
    "disney_missing2.shape"
   ]
  },
  {
   "cell_type": "markdown",
   "metadata": {},
   "source": [
    "We are now missing 39 titles. Since we don't have something else to relate to in this dataframe, we will now import the other data frame from the IMDB data base which includes all different titles created for a single one and the IMDB ID (titleID)."
   ]
  },
  {
   "cell_type": "code",
   "execution_count": 10,
   "metadata": {},
   "outputs": [],
   "source": [
    "title_regions = pd.read_csv(\"C:/Users/Admin/Documents/ironhack/title.akas.tsv.gz\", sep=\"\\t\", low_memory=False)"
   ]
  },
  {
   "cell_type": "code",
   "execution_count": 11,
   "metadata": {},
   "outputs": [
    {
     "data": {
      "text/html": [
       "<div>\n",
       "<style scoped>\n",
       "    .dataframe tbody tr th:only-of-type {\n",
       "        vertical-align: middle;\n",
       "    }\n",
       "\n",
       "    .dataframe tbody tr th {\n",
       "        vertical-align: top;\n",
       "    }\n",
       "\n",
       "    .dataframe thead th {\n",
       "        text-align: right;\n",
       "    }\n",
       "</style>\n",
       "<table border=\"1\" class=\"dataframe\">\n",
       "  <thead>\n",
       "    <tr style=\"text-align: right;\">\n",
       "      <th></th>\n",
       "      <th>titleId</th>\n",
       "      <th>ordering</th>\n",
       "      <th>title</th>\n",
       "      <th>region</th>\n",
       "      <th>language</th>\n",
       "      <th>types</th>\n",
       "      <th>attributes</th>\n",
       "      <th>isOriginalTitle</th>\n",
       "    </tr>\n",
       "  </thead>\n",
       "  <tbody>\n",
       "    <tr>\n",
       "      <th>0</th>\n",
       "      <td>tt0000001</td>\n",
       "      <td>1</td>\n",
       "      <td>Карменсіта</td>\n",
       "      <td>UA</td>\n",
       "      <td>\\N</td>\n",
       "      <td>imdbDisplay</td>\n",
       "      <td>\\N</td>\n",
       "      <td>0</td>\n",
       "    </tr>\n",
       "    <tr>\n",
       "      <th>1</th>\n",
       "      <td>tt0000001</td>\n",
       "      <td>2</td>\n",
       "      <td>Carmencita</td>\n",
       "      <td>DE</td>\n",
       "      <td>\\N</td>\n",
       "      <td>\\N</td>\n",
       "      <td>literal title</td>\n",
       "      <td>0</td>\n",
       "    </tr>\n",
       "    <tr>\n",
       "      <th>2</th>\n",
       "      <td>tt0000001</td>\n",
       "      <td>3</td>\n",
       "      <td>Carmencita - spanyol tánc</td>\n",
       "      <td>HU</td>\n",
       "      <td>\\N</td>\n",
       "      <td>imdbDisplay</td>\n",
       "      <td>\\N</td>\n",
       "      <td>0</td>\n",
       "    </tr>\n",
       "    <tr>\n",
       "      <th>3</th>\n",
       "      <td>tt0000001</td>\n",
       "      <td>4</td>\n",
       "      <td>Καρμενσίτα</td>\n",
       "      <td>GR</td>\n",
       "      <td>\\N</td>\n",
       "      <td>imdbDisplay</td>\n",
       "      <td>\\N</td>\n",
       "      <td>0</td>\n",
       "    </tr>\n",
       "    <tr>\n",
       "      <th>4</th>\n",
       "      <td>tt0000001</td>\n",
       "      <td>5</td>\n",
       "      <td>Карменсита</td>\n",
       "      <td>RU</td>\n",
       "      <td>\\N</td>\n",
       "      <td>imdbDisplay</td>\n",
       "      <td>\\N</td>\n",
       "      <td>0</td>\n",
       "    </tr>\n",
       "  </tbody>\n",
       "</table>\n",
       "</div>"
      ],
      "text/plain": [
       "     titleId  ordering                      title region language  \\\n",
       "0  tt0000001         1                 Карменсіта     UA       \\N   \n",
       "1  tt0000001         2                 Carmencita     DE       \\N   \n",
       "2  tt0000001         3  Carmencita - spanyol tánc     HU       \\N   \n",
       "3  tt0000001         4                 Καρμενσίτα     GR       \\N   \n",
       "4  tt0000001         5                 Карменсита     RU       \\N   \n",
       "\n",
       "         types     attributes isOriginalTitle  \n",
       "0  imdbDisplay             \\N               0  \n",
       "1           \\N  literal title               0  \n",
       "2  imdbDisplay             \\N               0  \n",
       "3  imdbDisplay             \\N               0  \n",
       "4  imdbDisplay             \\N               0  "
      ]
     },
     "execution_count": 11,
     "metadata": {},
     "output_type": "execute_result"
    }
   ],
   "source": [
    "title_regions.head()"
   ]
  },
  {
   "cell_type": "markdown",
   "metadata": {},
   "source": [
    "We will do the merge of the missing titles with the new title_regions data frame by title name."
   ]
  },
  {
   "cell_type": "code",
   "execution_count": 12,
   "metadata": {},
   "outputs": [],
   "source": [
    "disney_missing2 = disney_missing2.merge(title_regions, left_on=[\"show\"], right_on=[\"title\"], how=\"left\")"
   ]
  },
  {
   "cell_type": "code",
   "execution_count": 13,
   "metadata": {},
   "outputs": [],
   "source": [
    "disney_missing3 = disney_missing2[disney_missing2[\"titleId\"].isna()].reset_index(drop=True)[[\"show\", \"year\", \"rating\"\n",
    "                                                                                                , \"imdb\", \"rotten_tomatoes\"]]"
   ]
  },
  {
   "cell_type": "code",
   "execution_count": 14,
   "metadata": {},
   "outputs": [
    {
     "data": {
      "text/plain": [
       "(21, 5)"
      ]
     },
     "execution_count": 14,
     "metadata": {},
     "output_type": "execute_result"
    }
   ],
   "source": [
    "disney_missing3.shape"
   ]
  },
  {
   "cell_type": "markdown",
   "metadata": {},
   "source": [
    "Now we are just missing 21 titles. We will now try to find the missing title IDs with fuzzy wuzzy."
   ]
  },
  {
   "cell_type": "markdown",
   "metadata": {},
   "source": [
    "### 3. Find missing titles using fuzzywuzzy\n",
    "\n",
    "We will first create a list for missing shows."
   ]
  },
  {
   "cell_type": "code",
   "execution_count": 15,
   "metadata": {},
   "outputs": [],
   "source": [
    "disney_shows_missing = [show for show in disney_missing3[\"show\"]]"
   ]
  },
  {
   "cell_type": "code",
   "execution_count": 16,
   "metadata": {},
   "outputs": [],
   "source": [
    "imdb_titles = [title for title in imdb[\"primaryTitle\"]]"
   ]
  },
  {
   "cell_type": "markdown",
   "metadata": {},
   "source": [
    "We will use the same function we created on 03.2_a_netflix_missing_title_ids to find the most similar title on the imdb title basics file."
   ]
  },
  {
   "cell_type": "code",
   "execution_count": 17,
   "metadata": {},
   "outputs": [],
   "source": [
    "def find_shows(show):\n",
    "    matches = []\n",
    "\n",
    "    for title in imdb_titles:\n",
    "        # compute ratio and remove case-sensitivity\n",
    "        ratio = fuzz.ratio(title.lower(), show.lower())\n",
    "\n",
    "        # add all matches to list with ratio > 60\n",
    "        if ratio >= 60:\n",
    "            matches.append((title, show, ratio))\n",
    "    \n",
    "    # return none if there was no match found\n",
    "    if len(matches) == 0:\n",
    "        return None\n",
    "    return sorted(matches, key=lambda x: x[2], reverse=True)[0][0]"
   ]
  },
  {
   "cell_type": "code",
   "execution_count": 18,
   "metadata": {},
   "outputs": [],
   "source": [
    "disney_missing3[\"imdb_titles\"] = disney_missing3[\"show\"].apply(lambda x: find_shows(x))"
   ]
  },
  {
   "cell_type": "code",
   "execution_count": 21,
   "metadata": {},
   "outputs": [
    {
     "data": {
      "text/html": [
       "<div>\n",
       "<style scoped>\n",
       "    .dataframe tbody tr th:only-of-type {\n",
       "        vertical-align: middle;\n",
       "    }\n",
       "\n",
       "    .dataframe tbody tr th {\n",
       "        vertical-align: top;\n",
       "    }\n",
       "\n",
       "    .dataframe thead th {\n",
       "        text-align: right;\n",
       "    }\n",
       "</style>\n",
       "<table border=\"1\" class=\"dataframe\">\n",
       "  <thead>\n",
       "    <tr style=\"text-align: right;\">\n",
       "      <th></th>\n",
       "      <th>show</th>\n",
       "      <th>year</th>\n",
       "      <th>rating</th>\n",
       "      <th>imdb</th>\n",
       "      <th>rotten_tomatoes</th>\n",
       "      <th>imdb_titles</th>\n",
       "    </tr>\n",
       "  </thead>\n",
       "  <tbody>\n",
       "    <tr>\n",
       "      <th>0</th>\n",
       "      <td>High School Musical: The Musical: The Series</td>\n",
       "      <td>2019</td>\n",
       "      <td>7+</td>\n",
       "      <td>7.3</td>\n",
       "      <td>79%</td>\n",
       "      <td>High School Musical: The Musical - The Series</td>\n",
       "    </tr>\n",
       "    <tr>\n",
       "      <th>1</th>\n",
       "      <td>Marvel's Ultimate Spider-Man</td>\n",
       "      <td>2012</td>\n",
       "      <td>7+</td>\n",
       "      <td>7.1</td>\n",
       "      <td>NaN</td>\n",
       "      <td>Ultimate Spider-Man</td>\n",
       "    </tr>\n",
       "    <tr>\n",
       "      <th>2</th>\n",
       "      <td>Disney Gallery / Star Wars: The Mandalorian</td>\n",
       "      <td>2020</td>\n",
       "      <td>7+</td>\n",
       "      <td>8.4</td>\n",
       "      <td>NaN</td>\n",
       "      <td>Lego Star Wars: The Padawan Menace</td>\n",
       "    </tr>\n",
       "    <tr>\n",
       "      <th>3</th>\n",
       "      <td>I am Luna</td>\n",
       "      <td>2016</td>\n",
       "      <td>NaN</td>\n",
       "      <td>6.8</td>\n",
       "      <td>NaN</td>\n",
       "      <td>Hey I am Luna</td>\n",
       "    </tr>\n",
       "    <tr>\n",
       "      <th>4</th>\n",
       "      <td>Big Hero 6 The Series</td>\n",
       "      <td>2017</td>\n",
       "      <td>7+</td>\n",
       "      <td>7.1</td>\n",
       "      <td>NaN</td>\n",
       "      <td>Big Hero 6: The Series</td>\n",
       "    </tr>\n",
       "    <tr>\n",
       "      <th>5</th>\n",
       "      <td>Dr. K's Exotic Animal ER</td>\n",
       "      <td>2014</td>\n",
       "      <td>7+</td>\n",
       "      <td>7.9</td>\n",
       "      <td>NaN</td>\n",
       "      <td>Dr K's Exotic Animal ER</td>\n",
       "    </tr>\n",
       "    <tr>\n",
       "      <th>6</th>\n",
       "      <td>Coop &amp; Cami Ask The World</td>\n",
       "      <td>2018</td>\n",
       "      <td>all</td>\n",
       "      <td>5.8</td>\n",
       "      <td>NaN</td>\n",
       "      <td>Coop and Cami Ask the World</td>\n",
       "    </tr>\n",
       "    <tr>\n",
       "      <th>7</th>\n",
       "      <td>Marvel’s Hulk and the Agents of S.M.A.S.H</td>\n",
       "      <td>2013</td>\n",
       "      <td>7+</td>\n",
       "      <td>6.1</td>\n",
       "      <td>NaN</td>\n",
       "      <td>Hulk and the Agents of S.M.A.S.H.</td>\n",
       "    </tr>\n",
       "    <tr>\n",
       "      <th>8</th>\n",
       "      <td>JONAS</td>\n",
       "      <td>2009</td>\n",
       "      <td>NaN</td>\n",
       "      <td>4.6</td>\n",
       "      <td>NaN</td>\n",
       "      <td>Jonas</td>\n",
       "    </tr>\n",
       "    <tr>\n",
       "      <th>9</th>\n",
       "      <td>Mighty Ducks: The Animated Series</td>\n",
       "      <td>1996</td>\n",
       "      <td>7+</td>\n",
       "      <td>6.4</td>\n",
       "      <td>NaN</td>\n",
       "      <td>It: The Animated Series</td>\n",
       "    </tr>\n",
       "  </tbody>\n",
       "</table>\n",
       "</div>"
      ],
      "text/plain": [
       "                                           show  year rating  imdb  \\\n",
       "0  High School Musical: The Musical: The Series  2019     7+   7.3   \n",
       "1                  Marvel's Ultimate Spider-Man  2012     7+   7.1   \n",
       "2   Disney Gallery / Star Wars: The Mandalorian  2020     7+   8.4   \n",
       "3                                     I am Luna  2016    NaN   6.8   \n",
       "4                         Big Hero 6 The Series  2017     7+   7.1   \n",
       "5                      Dr. K's Exotic Animal ER  2014     7+   7.9   \n",
       "6                     Coop & Cami Ask The World  2018    all   5.8   \n",
       "7     Marvel’s Hulk and the Agents of S.M.A.S.H  2013     7+   6.1   \n",
       "8                                         JONAS  2009    NaN   4.6   \n",
       "9             Mighty Ducks: The Animated Series  1996     7+   6.4   \n",
       "\n",
       "  rotten_tomatoes                                    imdb_titles  \n",
       "0             79%  High School Musical: The Musical - The Series  \n",
       "1             NaN                            Ultimate Spider-Man  \n",
       "2             NaN             Lego Star Wars: The Padawan Menace  \n",
       "3             NaN                                  Hey I am Luna  \n",
       "4             NaN                         Big Hero 6: The Series  \n",
       "5             NaN                        Dr K's Exotic Animal ER  \n",
       "6             NaN                    Coop and Cami Ask the World  \n",
       "7             NaN              Hulk and the Agents of S.M.A.S.H.  \n",
       "8             NaN                                          Jonas  \n",
       "9             NaN                        It: The Animated Series  "
      ]
     },
     "execution_count": 21,
     "metadata": {},
     "output_type": "execute_result"
    }
   ],
   "source": [
    "disney_missing3.head(10)"
   ]
  },
  {
   "cell_type": "markdown",
   "metadata": {},
   "source": [
    "From the first 10 missing titles we can see that our function did a good job, we will now take a look at the titles that weren't found a match."
   ]
  },
  {
   "cell_type": "code",
   "execution_count": 22,
   "metadata": {},
   "outputs": [
    {
     "data": {
      "text/html": [
       "<div>\n",
       "<style scoped>\n",
       "    .dataframe tbody tr th:only-of-type {\n",
       "        vertical-align: middle;\n",
       "    }\n",
       "\n",
       "    .dataframe tbody tr th {\n",
       "        vertical-align: top;\n",
       "    }\n",
       "\n",
       "    .dataframe thead th {\n",
       "        text-align: right;\n",
       "    }\n",
       "</style>\n",
       "<table border=\"1\" class=\"dataframe\">\n",
       "  <thead>\n",
       "    <tr style=\"text-align: right;\">\n",
       "      <th></th>\n",
       "      <th>show</th>\n",
       "      <th>year</th>\n",
       "      <th>rating</th>\n",
       "      <th>imdb</th>\n",
       "      <th>rotten_tomatoes</th>\n",
       "      <th>imdb_titles</th>\n",
       "    </tr>\n",
       "  </thead>\n",
       "  <tbody>\n",
       "  </tbody>\n",
       "</table>\n",
       "</div>"
      ],
      "text/plain": [
       "Empty DataFrame\n",
       "Columns: [show, year, rating, imdb, rotten_tomatoes, imdb_titles]\n",
       "Index: []"
      ]
     },
     "execution_count": 22,
     "metadata": {},
     "output_type": "execute_result"
    }
   ],
   "source": [
    "disney_missing3[disney_missing3[\"imdb_titles\"].isna()]"
   ]
  },
  {
   "cell_type": "markdown",
   "metadata": {},
   "source": [
    "We found a match for all the missing titles, we will now merge them with their IMDB ID and the year.\n",
    "\n",
    "## 4. Merge IMDB IDs with missing titles\n",
    "\n",
    "We will still merge on the year, in order to be sure that we are not merging a remake or a similar title."
   ]
  },
  {
   "cell_type": "code",
   "execution_count": 23,
   "metadata": {},
   "outputs": [],
   "source": [
    "disney_missing3 = disney_missing3.merge(imdb, how=\"left\", left_on=[\"imdb_titles\", \"year\"], right_on=[\"primaryTitle\", \"startYear\"])"
   ]
  },
  {
   "cell_type": "code",
   "execution_count": 24,
   "metadata": {},
   "outputs": [
    {
     "data": {
      "text/html": [
       "<div>\n",
       "<style scoped>\n",
       "    .dataframe tbody tr th:only-of-type {\n",
       "        vertical-align: middle;\n",
       "    }\n",
       "\n",
       "    .dataframe tbody tr th {\n",
       "        vertical-align: top;\n",
       "    }\n",
       "\n",
       "    .dataframe thead th {\n",
       "        text-align: right;\n",
       "    }\n",
       "</style>\n",
       "<table border=\"1\" class=\"dataframe\">\n",
       "  <thead>\n",
       "    <tr style=\"text-align: right;\">\n",
       "      <th></th>\n",
       "      <th>show</th>\n",
       "      <th>year</th>\n",
       "      <th>rating</th>\n",
       "      <th>imdb</th>\n",
       "      <th>rotten_tomatoes</th>\n",
       "      <th>imdb_titles</th>\n",
       "      <th>tconst</th>\n",
       "      <th>titleType</th>\n",
       "      <th>primaryTitle</th>\n",
       "      <th>originalTitle</th>\n",
       "      <th>isAdult</th>\n",
       "      <th>startYear</th>\n",
       "      <th>endYear</th>\n",
       "      <th>runtimeMinutes</th>\n",
       "      <th>genres</th>\n",
       "    </tr>\n",
       "  </thead>\n",
       "  <tbody>\n",
       "    <tr>\n",
       "      <th>0</th>\n",
       "      <td>High School Musical: The Musical: The Series</td>\n",
       "      <td>2019</td>\n",
       "      <td>7+</td>\n",
       "      <td>7.3</td>\n",
       "      <td>79%</td>\n",
       "      <td>High School Musical: The Musical - The Series</td>\n",
       "      <td>tt8510382</td>\n",
       "      <td>tvSeries</td>\n",
       "      <td>High School Musical: The Musical - The Series</td>\n",
       "      <td>High School Musical: The Musical - The Series</td>\n",
       "      <td>0.0</td>\n",
       "      <td>2019.0</td>\n",
       "      <td>2019.0</td>\n",
       "      <td>31</td>\n",
       "      <td>Comedy,Musical</td>\n",
       "    </tr>\n",
       "    <tr>\n",
       "      <th>1</th>\n",
       "      <td>Marvel's Ultimate Spider-Man</td>\n",
       "      <td>2012</td>\n",
       "      <td>7+</td>\n",
       "      <td>7.1</td>\n",
       "      <td>NaN</td>\n",
       "      <td>Ultimate Spider-Man</td>\n",
       "      <td>tt1722512</td>\n",
       "      <td>tvSeries</td>\n",
       "      <td>Ultimate Spider-Man</td>\n",
       "      <td>Ultimate Spider-Man</td>\n",
       "      <td>0.0</td>\n",
       "      <td>2012.0</td>\n",
       "      <td>2012.0</td>\n",
       "      <td>23</td>\n",
       "      <td>Action,Adventure,Animation</td>\n",
       "    </tr>\n",
       "    <tr>\n",
       "      <th>2</th>\n",
       "      <td>Disney Gallery / Star Wars: The Mandalorian</td>\n",
       "      <td>2020</td>\n",
       "      <td>7+</td>\n",
       "      <td>8.4</td>\n",
       "      <td>NaN</td>\n",
       "      <td>Lego Star Wars: The Padawan Menace</td>\n",
       "      <td>NaN</td>\n",
       "      <td>NaN</td>\n",
       "      <td>NaN</td>\n",
       "      <td>NaN</td>\n",
       "      <td>NaN</td>\n",
       "      <td>NaN</td>\n",
       "      <td>NaN</td>\n",
       "      <td>NaN</td>\n",
       "      <td>NaN</td>\n",
       "    </tr>\n",
       "    <tr>\n",
       "      <th>3</th>\n",
       "      <td>I am Luna</td>\n",
       "      <td>2016</td>\n",
       "      <td>NaN</td>\n",
       "      <td>6.8</td>\n",
       "      <td>NaN</td>\n",
       "      <td>Hey I am Luna</td>\n",
       "      <td>NaN</td>\n",
       "      <td>NaN</td>\n",
       "      <td>NaN</td>\n",
       "      <td>NaN</td>\n",
       "      <td>NaN</td>\n",
       "      <td>NaN</td>\n",
       "      <td>NaN</td>\n",
       "      <td>NaN</td>\n",
       "      <td>NaN</td>\n",
       "    </tr>\n",
       "    <tr>\n",
       "      <th>4</th>\n",
       "      <td>Big Hero 6 The Series</td>\n",
       "      <td>2017</td>\n",
       "      <td>7+</td>\n",
       "      <td>7.1</td>\n",
       "      <td>NaN</td>\n",
       "      <td>Big Hero 6: The Series</td>\n",
       "      <td>tt5515212</td>\n",
       "      <td>tvSeries</td>\n",
       "      <td>Big Hero 6: The Series</td>\n",
       "      <td>Big Hero 6: The Series</td>\n",
       "      <td>0.0</td>\n",
       "      <td>2017.0</td>\n",
       "      <td>2017.0</td>\n",
       "      <td>21</td>\n",
       "      <td>Action,Adventure,Animation</td>\n",
       "    </tr>\n",
       "  </tbody>\n",
       "</table>\n",
       "</div>"
      ],
      "text/plain": [
       "                                           show  year rating  imdb  \\\n",
       "0  High School Musical: The Musical: The Series  2019     7+   7.3   \n",
       "1                  Marvel's Ultimate Spider-Man  2012     7+   7.1   \n",
       "2   Disney Gallery / Star Wars: The Mandalorian  2020     7+   8.4   \n",
       "3                                     I am Luna  2016    NaN   6.8   \n",
       "4                         Big Hero 6 The Series  2017     7+   7.1   \n",
       "\n",
       "  rotten_tomatoes                                    imdb_titles     tconst  \\\n",
       "0             79%  High School Musical: The Musical - The Series  tt8510382   \n",
       "1             NaN                            Ultimate Spider-Man  tt1722512   \n",
       "2             NaN             Lego Star Wars: The Padawan Menace        NaN   \n",
       "3             NaN                                  Hey I am Luna        NaN   \n",
       "4             NaN                         Big Hero 6: The Series  tt5515212   \n",
       "\n",
       "  titleType                                   primaryTitle  \\\n",
       "0  tvSeries  High School Musical: The Musical - The Series   \n",
       "1  tvSeries                            Ultimate Spider-Man   \n",
       "2       NaN                                            NaN   \n",
       "3       NaN                                            NaN   \n",
       "4  tvSeries                         Big Hero 6: The Series   \n",
       "\n",
       "                                   originalTitle  isAdult  startYear  endYear  \\\n",
       "0  High School Musical: The Musical - The Series      0.0     2019.0   2019.0   \n",
       "1                            Ultimate Spider-Man      0.0     2012.0   2012.0   \n",
       "2                                            NaN      NaN        NaN      NaN   \n",
       "3                                            NaN      NaN        NaN      NaN   \n",
       "4                         Big Hero 6: The Series      0.0     2017.0   2017.0   \n",
       "\n",
       "  runtimeMinutes                      genres  \n",
       "0             31              Comedy,Musical  \n",
       "1             23  Action,Adventure,Animation  \n",
       "2            NaN                         NaN  \n",
       "3            NaN                         NaN  \n",
       "4             21  Action,Adventure,Animation  "
      ]
     },
     "execution_count": 24,
     "metadata": {},
     "output_type": "execute_result"
    }
   ],
   "source": [
    "disney_missing3.head()"
   ]
  },
  {
   "cell_type": "markdown",
   "metadata": {},
   "source": [
    "We will now take a look at the titles who didn't find a match."
   ]
  },
  {
   "cell_type": "code",
   "execution_count": 25,
   "metadata": {},
   "outputs": [
    {
     "data": {
      "text/html": [
       "<div>\n",
       "<style scoped>\n",
       "    .dataframe tbody tr th:only-of-type {\n",
       "        vertical-align: middle;\n",
       "    }\n",
       "\n",
       "    .dataframe tbody tr th {\n",
       "        vertical-align: top;\n",
       "    }\n",
       "\n",
       "    .dataframe thead th {\n",
       "        text-align: right;\n",
       "    }\n",
       "</style>\n",
       "<table border=\"1\" class=\"dataframe\">\n",
       "  <thead>\n",
       "    <tr style=\"text-align: right;\">\n",
       "      <th></th>\n",
       "      <th>show</th>\n",
       "      <th>year</th>\n",
       "      <th>rating</th>\n",
       "      <th>imdb</th>\n",
       "      <th>rotten_tomatoes</th>\n",
       "      <th>imdb_titles</th>\n",
       "      <th>tconst</th>\n",
       "      <th>titleType</th>\n",
       "      <th>primaryTitle</th>\n",
       "      <th>originalTitle</th>\n",
       "      <th>isAdult</th>\n",
       "      <th>startYear</th>\n",
       "      <th>endYear</th>\n",
       "      <th>runtimeMinutes</th>\n",
       "      <th>genres</th>\n",
       "    </tr>\n",
       "  </thead>\n",
       "  <tbody>\n",
       "    <tr>\n",
       "      <th>2</th>\n",
       "      <td>Disney Gallery / Star Wars: The Mandalorian</td>\n",
       "      <td>2020</td>\n",
       "      <td>7+</td>\n",
       "      <td>8.4</td>\n",
       "      <td>NaN</td>\n",
       "      <td>Lego Star Wars: The Padawan Menace</td>\n",
       "      <td>NaN</td>\n",
       "      <td>NaN</td>\n",
       "      <td>NaN</td>\n",
       "      <td>NaN</td>\n",
       "      <td>NaN</td>\n",
       "      <td>NaN</td>\n",
       "      <td>NaN</td>\n",
       "      <td>NaN</td>\n",
       "      <td>NaN</td>\n",
       "    </tr>\n",
       "    <tr>\n",
       "      <th>3</th>\n",
       "      <td>I am Luna</td>\n",
       "      <td>2016</td>\n",
       "      <td>NaN</td>\n",
       "      <td>6.8</td>\n",
       "      <td>NaN</td>\n",
       "      <td>Hey I am Luna</td>\n",
       "      <td>NaN</td>\n",
       "      <td>NaN</td>\n",
       "      <td>NaN</td>\n",
       "      <td>NaN</td>\n",
       "      <td>NaN</td>\n",
       "      <td>NaN</td>\n",
       "      <td>NaN</td>\n",
       "      <td>NaN</td>\n",
       "      <td>NaN</td>\n",
       "    </tr>\n",
       "    <tr>\n",
       "      <th>9</th>\n",
       "      <td>Mighty Ducks: The Animated Series</td>\n",
       "      <td>1996</td>\n",
       "      <td>7+</td>\n",
       "      <td>6.4</td>\n",
       "      <td>NaN</td>\n",
       "      <td>It: The Animated Series</td>\n",
       "      <td>NaN</td>\n",
       "      <td>NaN</td>\n",
       "      <td>NaN</td>\n",
       "      <td>NaN</td>\n",
       "      <td>NaN</td>\n",
       "      <td>NaN</td>\n",
       "      <td>NaN</td>\n",
       "      <td>NaN</td>\n",
       "      <td>NaN</td>\n",
       "    </tr>\n",
       "    <tr>\n",
       "      <th>10</th>\n",
       "      <td>Spin and Marty</td>\n",
       "      <td>1955</td>\n",
       "      <td>all</td>\n",
       "      <td>8.2</td>\n",
       "      <td>NaN</td>\n",
       "      <td>Desi and Mari</td>\n",
       "      <td>NaN</td>\n",
       "      <td>NaN</td>\n",
       "      <td>NaN</td>\n",
       "      <td>NaN</td>\n",
       "      <td>NaN</td>\n",
       "      <td>NaN</td>\n",
       "      <td>NaN</td>\n",
       "      <td>NaN</td>\n",
       "      <td>NaN</td>\n",
       "    </tr>\n",
       "    <tr>\n",
       "      <th>14</th>\n",
       "      <td>Holiday Magic</td>\n",
       "      <td>2017</td>\n",
       "      <td>NaN</td>\n",
       "      <td>7.0</td>\n",
       "      <td>NaN</td>\n",
       "      <td>Holiday Music</td>\n",
       "      <td>NaN</td>\n",
       "      <td>NaN</td>\n",
       "      <td>NaN</td>\n",
       "      <td>NaN</td>\n",
       "      <td>NaN</td>\n",
       "      <td>NaN</td>\n",
       "      <td>NaN</td>\n",
       "      <td>NaN</td>\n",
       "      <td>NaN</td>\n",
       "    </tr>\n",
       "    <tr>\n",
       "      <th>15</th>\n",
       "      <td>Buried Secrets of the Bible with Albert Lin</td>\n",
       "      <td>2019</td>\n",
       "      <td>NaN</td>\n",
       "      <td>5.1</td>\n",
       "      <td>NaN</td>\n",
       "      <td>Ancient Secrets of the Bible</td>\n",
       "      <td>NaN</td>\n",
       "      <td>NaN</td>\n",
       "      <td>NaN</td>\n",
       "      <td>NaN</td>\n",
       "      <td>NaN</td>\n",
       "      <td>NaN</td>\n",
       "      <td>NaN</td>\n",
       "      <td>NaN</td>\n",
       "      <td>NaN</td>\n",
       "    </tr>\n",
       "    <tr>\n",
       "      <th>16</th>\n",
       "      <td>Lost Treasures of Egypt</td>\n",
       "      <td>2019</td>\n",
       "      <td>NaN</td>\n",
       "      <td>NaN</td>\n",
       "      <td>NaN</td>\n",
       "      <td>Lost Treasures of the Maya</td>\n",
       "      <td>NaN</td>\n",
       "      <td>NaN</td>\n",
       "      <td>NaN</td>\n",
       "      <td>NaN</td>\n",
       "      <td>NaN</td>\n",
       "      <td>NaN</td>\n",
       "      <td>NaN</td>\n",
       "      <td>NaN</td>\n",
       "      <td>NaN</td>\n",
       "    </tr>\n",
       "    <tr>\n",
       "      <th>17</th>\n",
       "      <td>Tut's Treasures: Hidden Secrets</td>\n",
       "      <td>2018</td>\n",
       "      <td>NaN</td>\n",
       "      <td>NaN</td>\n",
       "      <td>NaN</td>\n",
       "      <td>Seaside Secrets</td>\n",
       "      <td>NaN</td>\n",
       "      <td>NaN</td>\n",
       "      <td>NaN</td>\n",
       "      <td>NaN</td>\n",
       "      <td>NaN</td>\n",
       "      <td>NaN</td>\n",
       "      <td>NaN</td>\n",
       "      <td>NaN</td>\n",
       "      <td>NaN</td>\n",
       "    </tr>\n",
       "    <tr>\n",
       "      <th>18</th>\n",
       "      <td>Awesome Animals</td>\n",
       "      <td>2013</td>\n",
       "      <td>NaN</td>\n",
       "      <td>NaN</td>\n",
       "      <td>NaN</td>\n",
       "      <td>We Move Animals</td>\n",
       "      <td>NaN</td>\n",
       "      <td>NaN</td>\n",
       "      <td>NaN</td>\n",
       "      <td>NaN</td>\n",
       "      <td>NaN</td>\n",
       "      <td>NaN</td>\n",
       "      <td>NaN</td>\n",
       "      <td>NaN</td>\n",
       "      <td>NaN</td>\n",
       "    </tr>\n",
       "    <tr>\n",
       "      <th>19</th>\n",
       "      <td>Paradise Islands</td>\n",
       "      <td>2017</td>\n",
       "      <td>NaN</td>\n",
       "      <td>NaN</td>\n",
       "      <td>NaN</td>\n",
       "      <td>Paradise Island</td>\n",
       "      <td>NaN</td>\n",
       "      <td>NaN</td>\n",
       "      <td>NaN</td>\n",
       "      <td>NaN</td>\n",
       "      <td>NaN</td>\n",
       "      <td>NaN</td>\n",
       "      <td>NaN</td>\n",
       "      <td>NaN</td>\n",
       "      <td>NaN</td>\n",
       "    </tr>\n",
       "  </tbody>\n",
       "</table>\n",
       "</div>"
      ],
      "text/plain": [
       "                                           show  year rating  imdb  \\\n",
       "2   Disney Gallery / Star Wars: The Mandalorian  2020     7+   8.4   \n",
       "3                                     I am Luna  2016    NaN   6.8   \n",
       "9             Mighty Ducks: The Animated Series  1996     7+   6.4   \n",
       "10                               Spin and Marty  1955    all   8.2   \n",
       "14                                Holiday Magic  2017    NaN   7.0   \n",
       "15  Buried Secrets of the Bible with Albert Lin  2019    NaN   5.1   \n",
       "16                      Lost Treasures of Egypt  2019    NaN   NaN   \n",
       "17              Tut's Treasures: Hidden Secrets  2018    NaN   NaN   \n",
       "18                              Awesome Animals  2013    NaN   NaN   \n",
       "19                             Paradise Islands  2017    NaN   NaN   \n",
       "\n",
       "   rotten_tomatoes                         imdb_titles tconst titleType  \\\n",
       "2              NaN  Lego Star Wars: The Padawan Menace    NaN       NaN   \n",
       "3              NaN                       Hey I am Luna    NaN       NaN   \n",
       "9              NaN             It: The Animated Series    NaN       NaN   \n",
       "10             NaN                       Desi and Mari    NaN       NaN   \n",
       "14             NaN                       Holiday Music    NaN       NaN   \n",
       "15             NaN        Ancient Secrets of the Bible    NaN       NaN   \n",
       "16             NaN          Lost Treasures of the Maya    NaN       NaN   \n",
       "17             NaN                     Seaside Secrets    NaN       NaN   \n",
       "18             NaN                     We Move Animals    NaN       NaN   \n",
       "19             NaN                     Paradise Island    NaN       NaN   \n",
       "\n",
       "   primaryTitle originalTitle  isAdult  startYear  endYear runtimeMinutes  \\\n",
       "2           NaN           NaN      NaN        NaN      NaN            NaN   \n",
       "3           NaN           NaN      NaN        NaN      NaN            NaN   \n",
       "9           NaN           NaN      NaN        NaN      NaN            NaN   \n",
       "10          NaN           NaN      NaN        NaN      NaN            NaN   \n",
       "14          NaN           NaN      NaN        NaN      NaN            NaN   \n",
       "15          NaN           NaN      NaN        NaN      NaN            NaN   \n",
       "16          NaN           NaN      NaN        NaN      NaN            NaN   \n",
       "17          NaN           NaN      NaN        NaN      NaN            NaN   \n",
       "18          NaN           NaN      NaN        NaN      NaN            NaN   \n",
       "19          NaN           NaN      NaN        NaN      NaN            NaN   \n",
       "\n",
       "   genres  \n",
       "2     NaN  \n",
       "3     NaN  \n",
       "9     NaN  \n",
       "10    NaN  \n",
       "14    NaN  \n",
       "15    NaN  \n",
       "16    NaN  \n",
       "17    NaN  \n",
       "18    NaN  \n",
       "19    NaN  "
      ]
     },
     "execution_count": 25,
     "metadata": {},
     "output_type": "execute_result"
    }
   ],
   "source": [
    "disney_missing3[disney_missing3[\"tconst\"].isna()]"
   ]
  },
  {
   "cell_type": "markdown",
   "metadata": {},
   "source": [
    "We can see that most of this titles don't have a similar imdb titles, due to this, we will drop this rows."
   ]
  },
  {
   "cell_type": "code",
   "execution_count": 26,
   "metadata": {},
   "outputs": [],
   "source": [
    "disney_missing_ids = disney_missing3[~disney_missing3[\"tconst\"].isna()].reset_index(drop=True).drop_duplicates(\"tconst\")"
   ]
  },
  {
   "cell_type": "markdown",
   "metadata": {},
   "source": [
    "Now we are just missing 10 titles. We will remove this titles for our project.\n",
    "\n",
    "## 5. Join data frames with IMDB IDs\n",
    "\n",
    "We will join all data frames without null values to get a final hulu data frame containing the IMDB ID.\n",
    "We will drop duplicates because the title regions may have joined multiple rows since some titles have the same name in different regions."
   ]
  },
  {
   "cell_type": "code",
   "execution_count": 27,
   "metadata": {},
   "outputs": [],
   "source": [
    "disney_genres = disney_genres[~disney_genres[\"tconst\"].isna()]"
   ]
  },
  {
   "cell_type": "code",
   "execution_count": 28,
   "metadata": {},
   "outputs": [],
   "source": [
    "disney_genres = disney_genres.append(disney_missing1[~disney_missing1[\"tconst\"].isna()])"
   ]
  },
  {
   "cell_type": "code",
   "execution_count": 29,
   "metadata": {},
   "outputs": [],
   "source": [
    "disney_genres = disney_genres.append(disney_missing2[~disney_missing2[\"titleId\"].isna()])"
   ]
  },
  {
   "cell_type": "code",
   "execution_count": 30,
   "metadata": {},
   "outputs": [],
   "source": [
    "disney_genres = disney_genres.append(disney_missing_ids)"
   ]
  },
  {
   "cell_type": "code",
   "execution_count": 31,
   "metadata": {},
   "outputs": [],
   "source": [
    "disney_genres = disney_genres.drop_duplicates(\"tconst\").reset_index(drop=True)"
   ]
  },
  {
   "cell_type": "code",
   "execution_count": 32,
   "metadata": {},
   "outputs": [
    {
     "data": {
      "text/html": [
       "<div>\n",
       "<style scoped>\n",
       "    .dataframe tbody tr th:only-of-type {\n",
       "        vertical-align: middle;\n",
       "    }\n",
       "\n",
       "    .dataframe tbody tr th {\n",
       "        vertical-align: top;\n",
       "    }\n",
       "\n",
       "    .dataframe thead th {\n",
       "        text-align: right;\n",
       "    }\n",
       "</style>\n",
       "<table border=\"1\" class=\"dataframe\">\n",
       "  <thead>\n",
       "    <tr style=\"text-align: right;\">\n",
       "      <th></th>\n",
       "      <th>show</th>\n",
       "      <th>year</th>\n",
       "      <th>rating</th>\n",
       "      <th>imdb</th>\n",
       "      <th>rotten_tomatoes</th>\n",
       "      <th>tconst</th>\n",
       "      <th>titleType</th>\n",
       "      <th>primaryTitle</th>\n",
       "      <th>originalTitle</th>\n",
       "      <th>isAdult</th>\n",
       "      <th>...</th>\n",
       "      <th>genres</th>\n",
       "      <th>titleId</th>\n",
       "      <th>ordering</th>\n",
       "      <th>title</th>\n",
       "      <th>region</th>\n",
       "      <th>language</th>\n",
       "      <th>types</th>\n",
       "      <th>attributes</th>\n",
       "      <th>isOriginalTitle</th>\n",
       "      <th>imdb_titles</th>\n",
       "    </tr>\n",
       "  </thead>\n",
       "  <tbody>\n",
       "    <tr>\n",
       "      <th>0</th>\n",
       "      <td>The Mandalorian</td>\n",
       "      <td>2019</td>\n",
       "      <td>7+</td>\n",
       "      <td>8.7</td>\n",
       "      <td>93%</td>\n",
       "      <td>tt8111088</td>\n",
       "      <td>tvSeries</td>\n",
       "      <td>The Mandalorian</td>\n",
       "      <td>The Mandalorian</td>\n",
       "      <td>0.0</td>\n",
       "      <td>...</td>\n",
       "      <td>Action,Adventure,Sci-Fi</td>\n",
       "      <td>NaN</td>\n",
       "      <td>NaN</td>\n",
       "      <td>NaN</td>\n",
       "      <td>NaN</td>\n",
       "      <td>NaN</td>\n",
       "      <td>NaN</td>\n",
       "      <td>NaN</td>\n",
       "      <td>NaN</td>\n",
       "      <td>NaN</td>\n",
       "    </tr>\n",
       "    <tr>\n",
       "      <th>1</th>\n",
       "      <td>The Simpsons</td>\n",
       "      <td>1989</td>\n",
       "      <td>7+</td>\n",
       "      <td>8.7</td>\n",
       "      <td>85%</td>\n",
       "      <td>tt0096697</td>\n",
       "      <td>tvSeries</td>\n",
       "      <td>The Simpsons</td>\n",
       "      <td>The Simpsons</td>\n",
       "      <td>0.0</td>\n",
       "      <td>...</td>\n",
       "      <td>Animation,Comedy</td>\n",
       "      <td>NaN</td>\n",
       "      <td>NaN</td>\n",
       "      <td>NaN</td>\n",
       "      <td>NaN</td>\n",
       "      <td>NaN</td>\n",
       "      <td>NaN</td>\n",
       "      <td>NaN</td>\n",
       "      <td>NaN</td>\n",
       "      <td>NaN</td>\n",
       "    </tr>\n",
       "    <tr>\n",
       "      <th>2</th>\n",
       "      <td>Gravity Falls</td>\n",
       "      <td>2012</td>\n",
       "      <td>7+</td>\n",
       "      <td>8.9</td>\n",
       "      <td>100%</td>\n",
       "      <td>tt1865718</td>\n",
       "      <td>tvSeries</td>\n",
       "      <td>Gravity Falls</td>\n",
       "      <td>Gravity Falls</td>\n",
       "      <td>0.0</td>\n",
       "      <td>...</td>\n",
       "      <td>Action,Adventure,Animation</td>\n",
       "      <td>NaN</td>\n",
       "      <td>NaN</td>\n",
       "      <td>NaN</td>\n",
       "      <td>NaN</td>\n",
       "      <td>NaN</td>\n",
       "      <td>NaN</td>\n",
       "      <td>NaN</td>\n",
       "      <td>NaN</td>\n",
       "      <td>NaN</td>\n",
       "    </tr>\n",
       "    <tr>\n",
       "      <th>3</th>\n",
       "      <td>Star Wars: The Clone Wars</td>\n",
       "      <td>2008</td>\n",
       "      <td>7+</td>\n",
       "      <td>8.2</td>\n",
       "      <td>93%</td>\n",
       "      <td>tt0458290</td>\n",
       "      <td>tvSeries</td>\n",
       "      <td>Star Wars: The Clone Wars</td>\n",
       "      <td>Star Wars: The Clone Wars</td>\n",
       "      <td>0.0</td>\n",
       "      <td>...</td>\n",
       "      <td>Action,Adventure,Animation</td>\n",
       "      <td>NaN</td>\n",
       "      <td>NaN</td>\n",
       "      <td>NaN</td>\n",
       "      <td>NaN</td>\n",
       "      <td>NaN</td>\n",
       "      <td>NaN</td>\n",
       "      <td>NaN</td>\n",
       "      <td>NaN</td>\n",
       "      <td>NaN</td>\n",
       "    </tr>\n",
       "    <tr>\n",
       "      <th>4</th>\n",
       "      <td>DuckTales</td>\n",
       "      <td>2017</td>\n",
       "      <td>7+</td>\n",
       "      <td>8.2</td>\n",
       "      <td>100%</td>\n",
       "      <td>tt5531466</td>\n",
       "      <td>tvSeries</td>\n",
       "      <td>DuckTales</td>\n",
       "      <td>DuckTales</td>\n",
       "      <td>0.0</td>\n",
       "      <td>...</td>\n",
       "      <td>Action,Adventure,Animation</td>\n",
       "      <td>NaN</td>\n",
       "      <td>NaN</td>\n",
       "      <td>NaN</td>\n",
       "      <td>NaN</td>\n",
       "      <td>NaN</td>\n",
       "      <td>NaN</td>\n",
       "      <td>NaN</td>\n",
       "      <td>NaN</td>\n",
       "      <td>NaN</td>\n",
       "    </tr>\n",
       "  </tbody>\n",
       "</table>\n",
       "<p>5 rows × 23 columns</p>\n",
       "</div>"
      ],
      "text/plain": [
       "                        show  year rating  imdb rotten_tomatoes     tconst  \\\n",
       "0            The Mandalorian  2019     7+   8.7             93%  tt8111088   \n",
       "1               The Simpsons  1989     7+   8.7             85%  tt0096697   \n",
       "2              Gravity Falls  2012     7+   8.9            100%  tt1865718   \n",
       "3  Star Wars: The Clone Wars  2008     7+   8.2             93%  tt0458290   \n",
       "4                  DuckTales  2017     7+   8.2            100%  tt5531466   \n",
       "\n",
       "  titleType               primaryTitle              originalTitle  isAdult  \\\n",
       "0  tvSeries            The Mandalorian            The Mandalorian      0.0   \n",
       "1  tvSeries               The Simpsons               The Simpsons      0.0   \n",
       "2  tvSeries              Gravity Falls              Gravity Falls      0.0   \n",
       "3  tvSeries  Star Wars: The Clone Wars  Star Wars: The Clone Wars      0.0   \n",
       "4  tvSeries                  DuckTales                  DuckTales      0.0   \n",
       "\n",
       "   ...                      genres  titleId ordering title region  language  \\\n",
       "0  ...     Action,Adventure,Sci-Fi      NaN      NaN   NaN    NaN       NaN   \n",
       "1  ...            Animation,Comedy      NaN      NaN   NaN    NaN       NaN   \n",
       "2  ...  Action,Adventure,Animation      NaN      NaN   NaN    NaN       NaN   \n",
       "3  ...  Action,Adventure,Animation      NaN      NaN   NaN    NaN       NaN   \n",
       "4  ...  Action,Adventure,Animation      NaN      NaN   NaN    NaN       NaN   \n",
       "\n",
       "  types attributes isOriginalTitle imdb_titles  \n",
       "0   NaN        NaN             NaN         NaN  \n",
       "1   NaN        NaN             NaN         NaN  \n",
       "2   NaN        NaN             NaN         NaN  \n",
       "3   NaN        NaN             NaN         NaN  \n",
       "4   NaN        NaN             NaN         NaN  \n",
       "\n",
       "[5 rows x 23 columns]"
      ]
     },
     "execution_count": 32,
     "metadata": {},
     "output_type": "execute_result"
    }
   ],
   "source": [
    "disney_genres.head()"
   ]
  },
  {
   "cell_type": "markdown",
   "metadata": {},
   "source": [
    "We will now calculate the ratio of titles with an imdb id match and the original titles."
   ]
  },
  {
   "cell_type": "code",
   "execution_count": 33,
   "metadata": {},
   "outputs": [
    {
     "data": {
      "text/plain": [
       "0.8491620111731844"
      ]
     },
     "execution_count": 33,
     "metadata": {},
     "output_type": "execute_result"
    }
   ],
   "source": [
    "len(disney_genres) / len(disney)"
   ]
  },
  {
   "cell_type": "markdown",
   "metadata": {},
   "source": [
    "This means that we will be using 85% of the original data.\n",
    "\n",
    "## 6. Cleaning final data\n",
    "\n",
    "We will create a final data frame including:\n",
    "- show\n",
    "- year\n",
    "- rating\n",
    "- imdb\n",
    "- rotten_tomatoes\n",
    "- imdb_id\n",
    "- all data from title basics\n",
    "\n",
    "First, we will need to create the imdb_id column, this will have tconst and titleId values."
   ]
  },
  {
   "cell_type": "code",
   "execution_count": 34,
   "metadata": {},
   "outputs": [],
   "source": [
    "disney_genres[\"imdb_id\"] = np.where(disney_genres[\"tconst\"].isna(), disney_genres[\"titleId\"], disney_genres[\"tconst\"])"
   ]
  },
  {
   "cell_type": "code",
   "execution_count": 35,
   "metadata": {},
   "outputs": [
    {
     "data": {
      "text/plain": [
       "False    152\n",
       "Name: imdb_id, dtype: int64"
      ]
     },
     "execution_count": 35,
     "metadata": {},
     "output_type": "execute_result"
    }
   ],
   "source": [
    "disney_genres[\"imdb_id\"].isna().value_counts()"
   ]
  },
  {
   "cell_type": "markdown",
   "metadata": {},
   "source": [
    "This means we have all the IMDB IDs for all the titles in this final data frame. We will now remove columns that are not show, year, rating, imdb, rotten_tomatoes and imdb_id and merge again."
   ]
  },
  {
   "cell_type": "code",
   "execution_count": 36,
   "metadata": {},
   "outputs": [],
   "source": [
    "to_drop = [col for col in disney_genres.columns if col not in [\"show\", \"year\", \"rating\", \"imdb\", \"rotten_tomatoes\", \"imdb_id\"]]"
   ]
  },
  {
   "cell_type": "code",
   "execution_count": 37,
   "metadata": {},
   "outputs": [],
   "source": [
    "disney_genres = disney_genres.drop(columns=to_drop)"
   ]
  },
  {
   "cell_type": "code",
   "execution_count": 38,
   "metadata": {},
   "outputs": [
    {
     "data": {
      "text/html": [
       "<div>\n",
       "<style scoped>\n",
       "    .dataframe tbody tr th:only-of-type {\n",
       "        vertical-align: middle;\n",
       "    }\n",
       "\n",
       "    .dataframe tbody tr th {\n",
       "        vertical-align: top;\n",
       "    }\n",
       "\n",
       "    .dataframe thead th {\n",
       "        text-align: right;\n",
       "    }\n",
       "</style>\n",
       "<table border=\"1\" class=\"dataframe\">\n",
       "  <thead>\n",
       "    <tr style=\"text-align: right;\">\n",
       "      <th></th>\n",
       "      <th>show</th>\n",
       "      <th>year</th>\n",
       "      <th>rating</th>\n",
       "      <th>imdb</th>\n",
       "      <th>rotten_tomatoes</th>\n",
       "      <th>imdb_id</th>\n",
       "    </tr>\n",
       "  </thead>\n",
       "  <tbody>\n",
       "    <tr>\n",
       "      <th>0</th>\n",
       "      <td>The Mandalorian</td>\n",
       "      <td>2019</td>\n",
       "      <td>7+</td>\n",
       "      <td>8.7</td>\n",
       "      <td>93%</td>\n",
       "      <td>tt8111088</td>\n",
       "    </tr>\n",
       "    <tr>\n",
       "      <th>1</th>\n",
       "      <td>The Simpsons</td>\n",
       "      <td>1989</td>\n",
       "      <td>7+</td>\n",
       "      <td>8.7</td>\n",
       "      <td>85%</td>\n",
       "      <td>tt0096697</td>\n",
       "    </tr>\n",
       "    <tr>\n",
       "      <th>2</th>\n",
       "      <td>Gravity Falls</td>\n",
       "      <td>2012</td>\n",
       "      <td>7+</td>\n",
       "      <td>8.9</td>\n",
       "      <td>100%</td>\n",
       "      <td>tt1865718</td>\n",
       "    </tr>\n",
       "    <tr>\n",
       "      <th>3</th>\n",
       "      <td>Star Wars: The Clone Wars</td>\n",
       "      <td>2008</td>\n",
       "      <td>7+</td>\n",
       "      <td>8.2</td>\n",
       "      <td>93%</td>\n",
       "      <td>tt0458290</td>\n",
       "    </tr>\n",
       "    <tr>\n",
       "      <th>4</th>\n",
       "      <td>DuckTales</td>\n",
       "      <td>2017</td>\n",
       "      <td>7+</td>\n",
       "      <td>8.2</td>\n",
       "      <td>100%</td>\n",
       "      <td>tt5531466</td>\n",
       "    </tr>\n",
       "  </tbody>\n",
       "</table>\n",
       "</div>"
      ],
      "text/plain": [
       "                        show  year rating  imdb rotten_tomatoes    imdb_id\n",
       "0            The Mandalorian  2019     7+   8.7             93%  tt8111088\n",
       "1               The Simpsons  1989     7+   8.7             85%  tt0096697\n",
       "2              Gravity Falls  2012     7+   8.9            100%  tt1865718\n",
       "3  Star Wars: The Clone Wars  2008     7+   8.2             93%  tt0458290\n",
       "4                  DuckTales  2017     7+   8.2            100%  tt5531466"
      ]
     },
     "execution_count": 38,
     "metadata": {},
     "output_type": "execute_result"
    }
   ],
   "source": [
    "disney_genres.head()"
   ]
  },
  {
   "cell_type": "markdown",
   "metadata": {},
   "source": [
    "Now we will merge all data from title basics"
   ]
  },
  {
   "cell_type": "code",
   "execution_count": 39,
   "metadata": {},
   "outputs": [],
   "source": [
    "disney_genres = disney_genres.merge(imdb, how=\"left\", left_on=\"imdb_id\", right_on=\"tconst\")"
   ]
  },
  {
   "cell_type": "code",
   "execution_count": 40,
   "metadata": {},
   "outputs": [
    {
     "data": {
      "text/html": [
       "<div>\n",
       "<style scoped>\n",
       "    .dataframe tbody tr th:only-of-type {\n",
       "        vertical-align: middle;\n",
       "    }\n",
       "\n",
       "    .dataframe tbody tr th {\n",
       "        vertical-align: top;\n",
       "    }\n",
       "\n",
       "    .dataframe thead th {\n",
       "        text-align: right;\n",
       "    }\n",
       "</style>\n",
       "<table border=\"1\" class=\"dataframe\">\n",
       "  <thead>\n",
       "    <tr style=\"text-align: right;\">\n",
       "      <th></th>\n",
       "      <th>show</th>\n",
       "      <th>year</th>\n",
       "      <th>rating</th>\n",
       "      <th>imdb</th>\n",
       "      <th>rotten_tomatoes</th>\n",
       "      <th>imdb_id</th>\n",
       "      <th>tconst</th>\n",
       "      <th>titleType</th>\n",
       "      <th>primaryTitle</th>\n",
       "      <th>originalTitle</th>\n",
       "      <th>isAdult</th>\n",
       "      <th>startYear</th>\n",
       "      <th>endYear</th>\n",
       "      <th>runtimeMinutes</th>\n",
       "      <th>genres</th>\n",
       "    </tr>\n",
       "  </thead>\n",
       "  <tbody>\n",
       "    <tr>\n",
       "      <th>0</th>\n",
       "      <td>The Mandalorian</td>\n",
       "      <td>2019</td>\n",
       "      <td>7+</td>\n",
       "      <td>8.7</td>\n",
       "      <td>93%</td>\n",
       "      <td>tt8111088</td>\n",
       "      <td>tt8111088</td>\n",
       "      <td>tvSeries</td>\n",
       "      <td>The Mandalorian</td>\n",
       "      <td>The Mandalorian</td>\n",
       "      <td>0</td>\n",
       "      <td>2019.0</td>\n",
       "      <td>2019.0</td>\n",
       "      <td>30</td>\n",
       "      <td>Action,Adventure,Sci-Fi</td>\n",
       "    </tr>\n",
       "    <tr>\n",
       "      <th>1</th>\n",
       "      <td>The Simpsons</td>\n",
       "      <td>1989</td>\n",
       "      <td>7+</td>\n",
       "      <td>8.7</td>\n",
       "      <td>85%</td>\n",
       "      <td>tt0096697</td>\n",
       "      <td>tt0096697</td>\n",
       "      <td>tvSeries</td>\n",
       "      <td>The Simpsons</td>\n",
       "      <td>The Simpsons</td>\n",
       "      <td>0</td>\n",
       "      <td>1989.0</td>\n",
       "      <td>1989.0</td>\n",
       "      <td>22</td>\n",
       "      <td>Animation,Comedy</td>\n",
       "    </tr>\n",
       "    <tr>\n",
       "      <th>2</th>\n",
       "      <td>Gravity Falls</td>\n",
       "      <td>2012</td>\n",
       "      <td>7+</td>\n",
       "      <td>8.9</td>\n",
       "      <td>100%</td>\n",
       "      <td>tt1865718</td>\n",
       "      <td>tt1865718</td>\n",
       "      <td>tvSeries</td>\n",
       "      <td>Gravity Falls</td>\n",
       "      <td>Gravity Falls</td>\n",
       "      <td>0</td>\n",
       "      <td>2012.0</td>\n",
       "      <td>2012.0</td>\n",
       "      <td>23</td>\n",
       "      <td>Action,Adventure,Animation</td>\n",
       "    </tr>\n",
       "    <tr>\n",
       "      <th>3</th>\n",
       "      <td>Star Wars: The Clone Wars</td>\n",
       "      <td>2008</td>\n",
       "      <td>7+</td>\n",
       "      <td>8.2</td>\n",
       "      <td>93%</td>\n",
       "      <td>tt0458290</td>\n",
       "      <td>tt0458290</td>\n",
       "      <td>tvSeries</td>\n",
       "      <td>Star Wars: The Clone Wars</td>\n",
       "      <td>Star Wars: The Clone Wars</td>\n",
       "      <td>0</td>\n",
       "      <td>2008.0</td>\n",
       "      <td>2008.0</td>\n",
       "      <td>23</td>\n",
       "      <td>Action,Adventure,Animation</td>\n",
       "    </tr>\n",
       "    <tr>\n",
       "      <th>4</th>\n",
       "      <td>DuckTales</td>\n",
       "      <td>2017</td>\n",
       "      <td>7+</td>\n",
       "      <td>8.2</td>\n",
       "      <td>100%</td>\n",
       "      <td>tt5531466</td>\n",
       "      <td>tt5531466</td>\n",
       "      <td>tvSeries</td>\n",
       "      <td>DuckTales</td>\n",
       "      <td>DuckTales</td>\n",
       "      <td>0</td>\n",
       "      <td>2017.0</td>\n",
       "      <td>2017.0</td>\n",
       "      <td>21</td>\n",
       "      <td>Action,Adventure,Animation</td>\n",
       "    </tr>\n",
       "  </tbody>\n",
       "</table>\n",
       "</div>"
      ],
      "text/plain": [
       "                        show  year rating  imdb rotten_tomatoes    imdb_id  \\\n",
       "0            The Mandalorian  2019     7+   8.7             93%  tt8111088   \n",
       "1               The Simpsons  1989     7+   8.7             85%  tt0096697   \n",
       "2              Gravity Falls  2012     7+   8.9            100%  tt1865718   \n",
       "3  Star Wars: The Clone Wars  2008     7+   8.2             93%  tt0458290   \n",
       "4                  DuckTales  2017     7+   8.2            100%  tt5531466   \n",
       "\n",
       "      tconst titleType               primaryTitle              originalTitle  \\\n",
       "0  tt8111088  tvSeries            The Mandalorian            The Mandalorian   \n",
       "1  tt0096697  tvSeries               The Simpsons               The Simpsons   \n",
       "2  tt1865718  tvSeries              Gravity Falls              Gravity Falls   \n",
       "3  tt0458290  tvSeries  Star Wars: The Clone Wars  Star Wars: The Clone Wars   \n",
       "4  tt5531466  tvSeries                  DuckTales                  DuckTales   \n",
       "\n",
       "   isAdult  startYear  endYear runtimeMinutes                      genres  \n",
       "0        0     2019.0   2019.0             30     Action,Adventure,Sci-Fi  \n",
       "1        0     1989.0   1989.0             22            Animation,Comedy  \n",
       "2        0     2012.0   2012.0             23  Action,Adventure,Animation  \n",
       "3        0     2008.0   2008.0             23  Action,Adventure,Animation  \n",
       "4        0     2017.0   2017.0             21  Action,Adventure,Animation  "
      ]
     },
     "execution_count": 40,
     "metadata": {},
     "output_type": "execute_result"
    }
   ],
   "source": [
    "disney_genres.head()"
   ]
  },
  {
   "cell_type": "code",
   "execution_count": 41,
   "metadata": {},
   "outputs": [],
   "source": [
    "disney_genres = disney_genres.drop(columns=\"tconst\")"
   ]
  },
  {
   "cell_type": "markdown",
   "metadata": {},
   "source": [
    "## 7. Check null and unique values"
   ]
  },
  {
   "cell_type": "code",
   "execution_count": 42,
   "metadata": {},
   "outputs": [
    {
     "data": {
      "text/plain": [
       "show                 0\n",
       "year                 0\n",
       "rating              20\n",
       "imdb                 3\n",
       "rotten_tomatoes    131\n",
       "imdb_id              0\n",
       "titleType            0\n",
       "primaryTitle         0\n",
       "originalTitle        0\n",
       "isAdult              0\n",
       "startYear            0\n",
       "endYear              0\n",
       "runtimeMinutes       0\n",
       "genres               0\n",
       "dtype: int64"
      ]
     },
     "execution_count": 42,
     "metadata": {},
     "output_type": "execute_result"
    }
   ],
   "source": [
    "disney_genres.isna().sum()"
   ]
  },
  {
   "cell_type": "code",
   "execution_count": 43,
   "metadata": {},
   "outputs": [
    {
     "data": {
      "text/plain": [
       "show               151\n",
       "year                36\n",
       "rating               3\n",
       "imdb                43\n",
       "rotten_tomatoes     11\n",
       "imdb_id            152\n",
       "titleType            2\n",
       "primaryTitle       151\n",
       "originalTitle      151\n",
       "isAdult              1\n",
       "startYear           36\n",
       "endYear             36\n",
       "runtimeMinutes      20\n",
       "genres              43\n",
       "dtype: int64"
      ]
     },
     "execution_count": 43,
     "metadata": {},
     "output_type": "execute_result"
    }
   ],
   "source": [
    "disney_genres.nunique(axis=0)"
   ]
  },
  {
   "cell_type": "markdown",
   "metadata": {},
   "source": [
    "From the previous cells we can see that:\n",
    "- Most values are missing for rotten_tomatoes.\n",
    "- isAdult has just one value.\n",
    "\n",
    "We will drop this two columns, since we cannot get much information from it."
   ]
  },
  {
   "cell_type": "code",
   "execution_count": 44,
   "metadata": {},
   "outputs": [],
   "source": [
    "disney_genres = disney_genres.drop(columns=[\"rotten_tomatoes\", \"isAdult\"])"
   ]
  },
  {
   "cell_type": "markdown",
   "metadata": {},
   "source": [
    "## 8. Change data types\n",
    "\n",
    "- rating: We will remove the '+' sign and turn it into an integer\n",
    "- runtimeMinutes: we will change the type to integer\n",
    "\n",
    "#### i. rating"
   ]
  },
  {
   "cell_type": "code",
   "execution_count": 45,
   "metadata": {},
   "outputs": [],
   "source": [
    "disney_genres[\"rating\"] = [str(i).replace(\"+\", \"\") for i in disney_genres[\"rating\"]]"
   ]
  },
  {
   "cell_type": "code",
   "execution_count": 46,
   "metadata": {},
   "outputs": [
    {
     "data": {
      "text/plain": [
       "all    73\n",
       "7      57\n",
       "nan    20\n",
       "16      2\n",
       "Name: rating, dtype: int64"
      ]
     },
     "execution_count": 46,
     "metadata": {},
     "output_type": "execute_result"
    }
   ],
   "source": [
    "disney_genres[\"rating\"].value_counts()"
   ]
  },
  {
   "cell_type": "markdown",
   "metadata": {},
   "source": [
    "Since rating is a string type, we will convert the 'nan' values to null and 'all' to 0, meaning that the series can be watched by all ages."
   ]
  },
  {
   "cell_type": "code",
   "execution_count": 47,
   "metadata": {},
   "outputs": [],
   "source": [
    "disney_genres[\"rating\"] = np.where(disney_genres[\"rating\"] == \"nan\", None, disney_genres[\"rating\"])\n",
    "disney_genres[\"rating\"] = np.where(disney_genres[\"rating\"] == \"all\", 0, disney_genres[\"rating\"])"
   ]
  },
  {
   "cell_type": "code",
   "execution_count": 48,
   "metadata": {},
   "outputs": [
    {
     "data": {
      "text/plain": [
       "0     73\n",
       "7     57\n",
       "16     2\n",
       "Name: rating, dtype: int64"
      ]
     },
     "execution_count": 48,
     "metadata": {},
     "output_type": "execute_result"
    }
   ],
   "source": [
    "disney_genres[\"rating\"].value_counts()"
   ]
  },
  {
   "cell_type": "code",
   "execution_count": 49,
   "metadata": {},
   "outputs": [],
   "source": [
    "disney_genres[\"rating\"] = pd.to_numeric(disney_genres[\"rating\"], errors=\"coerce\")"
   ]
  },
  {
   "cell_type": "markdown",
   "metadata": {},
   "source": [
    "#### ii. runtimeMinutes"
   ]
  },
  {
   "cell_type": "code",
   "execution_count": 50,
   "metadata": {},
   "outputs": [],
   "source": [
    "disney_genres[\"runtimeMinutes\"] = pd.to_numeric(disney_genres[\"runtimeMinutes\"], errors=\"coerce\")"
   ]
  },
  {
   "cell_type": "markdown",
   "metadata": {},
   "source": [
    "#### ii. Check final data types"
   ]
  },
  {
   "cell_type": "code",
   "execution_count": 51,
   "metadata": {},
   "outputs": [
    {
     "data": {
      "text/plain": [
       "show               object\n",
       "year                int64\n",
       "rating            float64\n",
       "imdb              float64\n",
       "imdb_id            object\n",
       "titleType          object\n",
       "primaryTitle       object\n",
       "originalTitle      object\n",
       "startYear         float64\n",
       "endYear           float64\n",
       "runtimeMinutes    float64\n",
       "genres             object\n",
       "dtype: object"
      ]
     },
     "execution_count": 51,
     "metadata": {},
     "output_type": "execute_result"
    }
   ],
   "source": [
    "disney_genres.dtypes"
   ]
  },
  {
   "cell_type": "markdown",
   "metadata": {},
   "source": [
    "## 9. Rename rating and imdb columns"
   ]
  },
  {
   "cell_type": "code",
   "execution_count": 52,
   "metadata": {},
   "outputs": [],
   "source": [
    "disney_genres = disney_genres.rename(columns={\"rating\":\"age\", \"imdb\":\"imdb_rating\"})"
   ]
  },
  {
   "cell_type": "markdown",
   "metadata": {},
   "source": [
    "## 10. Export data"
   ]
  },
  {
   "cell_type": "code",
   "execution_count": 53,
   "metadata": {},
   "outputs": [],
   "source": [
    "# disney_genres.to_pickle(\"Data_Hulu_Disney/disney_final_clean.pkl\")"
   ]
  },
  {
   "cell_type": "code",
   "execution_count": null,
   "metadata": {},
   "outputs": [],
   "source": []
  }
 ],
 "metadata": {
  "kernelspec": {
   "display_name": "Python 3",
   "language": "python",
   "name": "python3"
  },
  "language_info": {
   "codemirror_mode": {
    "name": "ipython",
    "version": 3
   },
   "file_extension": ".py",
   "mimetype": "text/x-python",
   "name": "python",
   "nbconvert_exporter": "python",
   "pygments_lexer": "ipython3",
   "version": "3.7.6"
  }
 },
 "nbformat": 4,
 "nbformat_minor": 4
}
