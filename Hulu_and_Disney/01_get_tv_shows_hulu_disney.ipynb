{
 "cells": [
  {
   "cell_type": "code",
   "execution_count": 1,
   "metadata": {},
   "outputs": [],
   "source": [
    "import requests\n",
    "import bs4\n",
    "import pandas as pd\n",
    "import numpy as np"
   ]
  },
  {
   "cell_type": "markdown",
   "metadata": {},
   "source": [
    "## Get TV shows from Hulu and Disney+\n",
    "\n",
    "#### Goal\n",
    "\n",
    "- Use webscraping to get the tv shows\n",
    "- Export each data frame as csv\n",
    "\n",
    "#### General information:\n",
    "\n",
    "- Hulu has 1,744 tv shows, 50 per page, 35 pages in total.\n",
    "\n",
    "- Disney+ has 179 tv shows, 50 per page, 4 in total.\n",
    "\n",
    "\n",
    "### 1. Define function to get tv shows and additional information\n",
    "\n",
    "We will use webscarping to get the tv shows from the website reelgood.com.\n",
    "\n",
    "Each page has up to 50 tv shows.\n",
    "\n",
    "**NOTE: We are using the same function as in 01_get_tv_shows_df notebook.**"
   ]
  },
  {
   "cell_type": "code",
   "execution_count": 2,
   "metadata": {},
   "outputs": [],
   "source": [
    "# Define function that takes the url and number of tv shows you want to get from it, default is 50 which is the maximum.\n",
    "\n",
    "def get_tv_shows(url, no=50):\n",
    "    \n",
    "    # define empty variables\n",
    "    shows = {}\n",
    "    year = []\n",
    "    rating = []\n",
    "    imdb = []\n",
    "    rotten_tom = []\n",
    "    \n",
    "    # get response and contents using beautiful soup\n",
    "    resp = requests.get(url)\n",
    "    soup = bs4.BeautifulSoup(resp.content, \"html.parser\")\n",
    "    tv_titles = soup.find(\"table\", class_=\"css-1179hly\").find_all(\"td\", class_=\"css-1u7zfla\")\n",
    "    extras = soup.find(\"table\", class_=\"css-1179hly\").find_all(\"td\", class_=\"css-1u7zfla\")\n",
    "    \n",
    "    # get list of tv shows\n",
    "    shows[\"show\"] = [tv_titles[i].find(\"a\").contents[0] for i in range(no)]\n",
    "    \n",
    "    # get lists for years, rating, imdb and rotten tomatoes reviews\n",
    "    for i in range(no):\n",
    "        year.append(soup.find(\"table\", class_=\"css-1179hly\").find_all(\"td\", class_=\"css-1u11l3y\")[i*4+0].contents[0])\n",
    "        rating.append(soup.find(\"table\", class_=\"css-1179hly\").find_all(\"td\", class_=\"css-1u11l3y\")[i*4+1].contents[0])\n",
    "        imdb.append(soup.find(\"table\", class_=\"css-1179hly\").find_all(\"td\", class_=\"css-1u11l3y\")[i*4+2].contents[0])\n",
    "        rotten_tom.append(soup.find(\"table\", class_=\"css-1179hly\").find_all(\"td\", class_=\"css-1u11l3y\")[i*4+3].contents[0])\n",
    "\n",
    "    shows[\"year\"] = year\n",
    "    shows[\"rating\"] = rating\n",
    "    shows[\"imdb\"] = imdb\n",
    "    shows[\"rotten_tomatoes\"] = rotten_tom\n",
    "    \n",
    "    return shows"
   ]
  },
  {
   "cell_type": "markdown",
   "metadata": {},
   "source": [
    "## 2. Get tv shows for each streaming service using get_tv_shows function\n",
    "\n",
    "\n",
    "## Hulu"
   ]
  },
  {
   "cell_type": "code",
   "execution_count": 3,
   "metadata": {},
   "outputs": [],
   "source": [
    "url = \"https://reelgood.com/tv/source/hulu\"\n",
    "pages = 0\n",
    "hulu_shows = pd.DataFrame(columns=[\"show\", \"year\", \"rating\", \"imdb\", \"rotten_tomatoes\"])\n",
    "\n",
    "while pages < 1700:\n",
    "    new_pd = pd.DataFrame(get_tv_shows(url))\n",
    "    hulu_shows = hulu_shows.append(new_pd)\n",
    "    pages +=50\n",
    "    url = \"https://reelgood.com/tv/source/hulu?offset=\" + str(pages)"
   ]
  },
  {
   "cell_type": "code",
   "execution_count": 4,
   "metadata": {},
   "outputs": [],
   "source": [
    "hulu_shows = hulu_shows.append(pd.DataFrame(get_tv_shows(\"https://reelgood.com/tv/source/hulu?offset=1700\", 44)))\n"
   ]
  },
  {
   "cell_type": "code",
   "execution_count": 5,
   "metadata": {},
   "outputs": [
    {
     "data": {
      "text/html": [
       "<div>\n",
       "<style scoped>\n",
       "    .dataframe tbody tr th:only-of-type {\n",
       "        vertical-align: middle;\n",
       "    }\n",
       "\n",
       "    .dataframe tbody tr th {\n",
       "        vertical-align: top;\n",
       "    }\n",
       "\n",
       "    .dataframe thead th {\n",
       "        text-align: right;\n",
       "    }\n",
       "</style>\n",
       "<table border=\"1\" class=\"dataframe\">\n",
       "  <thead>\n",
       "    <tr style=\"text-align: right;\">\n",
       "      <th></th>\n",
       "      <th>show</th>\n",
       "      <th>year</th>\n",
       "      <th>rating</th>\n",
       "      <th>imdb</th>\n",
       "      <th>rotten_tomatoes</th>\n",
       "    </tr>\n",
       "  </thead>\n",
       "  <tbody>\n",
       "    <tr>\n",
       "      <th>0</th>\n",
       "      <td>Rick and Morty</td>\n",
       "      <td>2013</td>\n",
       "      <td>18+</td>\n",
       "      <td>9.2</td>\n",
       "      <td>94%</td>\n",
       "    </tr>\n",
       "    <tr>\n",
       "      <th>1</th>\n",
       "      <td>Fargo</td>\n",
       "      <td>2014</td>\n",
       "      <td>18+</td>\n",
       "      <td>8.9</td>\n",
       "      <td>96%</td>\n",
       "    </tr>\n",
       "    <tr>\n",
       "      <th>2</th>\n",
       "      <td>Vikings</td>\n",
       "      <td>2013</td>\n",
       "      <td>18+</td>\n",
       "      <td>8.5</td>\n",
       "      <td>93%</td>\n",
       "    </tr>\n",
       "    <tr>\n",
       "      <th>3</th>\n",
       "      <td>Brooklyn Nine-Nine</td>\n",
       "      <td>2013</td>\n",
       "      <td>16+</td>\n",
       "      <td>8.4</td>\n",
       "      <td>97%</td>\n",
       "    </tr>\n",
       "    <tr>\n",
       "      <th>4</th>\n",
       "      <td>Attack on Titan</td>\n",
       "      <td>2013</td>\n",
       "      <td>16+</td>\n",
       "      <td>8.8</td>\n",
       "      <td>94%</td>\n",
       "    </tr>\n",
       "  </tbody>\n",
       "</table>\n",
       "</div>"
      ],
      "text/plain": [
       "                 show  year rating imdb rotten_tomatoes\n",
       "0      Rick and Morty  2013    18+  9.2             94%\n",
       "1               Fargo  2014    18+  8.9             96%\n",
       "2             Vikings  2013    18+  8.5             93%\n",
       "3  Brooklyn Nine-Nine  2013    16+  8.4             97%\n",
       "4     Attack on Titan  2013    16+  8.8             94%"
      ]
     },
     "execution_count": 5,
     "metadata": {},
     "output_type": "execute_result"
    }
   ],
   "source": [
    "hulu_shows.head()"
   ]
  },
  {
   "cell_type": "markdown",
   "metadata": {},
   "source": [
    "## Disney+"
   ]
  },
  {
   "cell_type": "code",
   "execution_count": 6,
   "metadata": {},
   "outputs": [],
   "source": [
    "url = \"https://reelgood.com/tv/source/disney_plus\"\n",
    "pages = 0\n",
    "disney_shows = pd.DataFrame(columns=[\"show\", \"year\", \"rating\", \"imdb\", \"rotten_tomatoes\"])\n",
    "\n",
    "while pages < 150:\n",
    "    new_pd = pd.DataFrame(get_tv_shows(url))\n",
    "    disney_shows = disney_shows.append(new_pd)\n",
    "    pages +=50\n",
    "    url = \"https://reelgood.com/tv/source/disney_plus?offset=\" + str(pages)"
   ]
  },
  {
   "cell_type": "code",
   "execution_count": 7,
   "metadata": {},
   "outputs": [],
   "source": [
    "disney_shows = disney_shows.append(pd.DataFrame(get_tv_shows(\"https://reelgood.com/tv/source/disney_plus?offset=150\", 29)))\n"
   ]
  },
  {
   "cell_type": "code",
   "execution_count": 8,
   "metadata": {},
   "outputs": [
    {
     "data": {
      "text/html": [
       "<div>\n",
       "<style scoped>\n",
       "    .dataframe tbody tr th:only-of-type {\n",
       "        vertical-align: middle;\n",
       "    }\n",
       "\n",
       "    .dataframe tbody tr th {\n",
       "        vertical-align: top;\n",
       "    }\n",
       "\n",
       "    .dataframe thead th {\n",
       "        text-align: right;\n",
       "    }\n",
       "</style>\n",
       "<table border=\"1\" class=\"dataframe\">\n",
       "  <thead>\n",
       "    <tr style=\"text-align: right;\">\n",
       "      <th></th>\n",
       "      <th>show</th>\n",
       "      <th>year</th>\n",
       "      <th>rating</th>\n",
       "      <th>imdb</th>\n",
       "      <th>rotten_tomatoes</th>\n",
       "    </tr>\n",
       "  </thead>\n",
       "  <tbody>\n",
       "    <tr>\n",
       "      <th>0</th>\n",
       "      <td>The Mandalorian</td>\n",
       "      <td>2019</td>\n",
       "      <td>7+</td>\n",
       "      <td>8.7</td>\n",
       "      <td>93%</td>\n",
       "    </tr>\n",
       "    <tr>\n",
       "      <th>1</th>\n",
       "      <td>The Simpsons</td>\n",
       "      <td>1989</td>\n",
       "      <td>7+</td>\n",
       "      <td>8.7</td>\n",
       "      <td>85%</td>\n",
       "    </tr>\n",
       "    <tr>\n",
       "      <th>2</th>\n",
       "      <td>Gravity Falls</td>\n",
       "      <td>2012</td>\n",
       "      <td>7+</td>\n",
       "      <td>8.9</td>\n",
       "      <td>100%</td>\n",
       "    </tr>\n",
       "    <tr>\n",
       "      <th>3</th>\n",
       "      <td>Star Wars: The Clone Wars</td>\n",
       "      <td>2008</td>\n",
       "      <td>7+</td>\n",
       "      <td>8.2</td>\n",
       "      <td>93%</td>\n",
       "    </tr>\n",
       "    <tr>\n",
       "      <th>4</th>\n",
       "      <td>Marvel's Agent Carter</td>\n",
       "      <td>2015</td>\n",
       "      <td>7+</td>\n",
       "      <td>7.9</td>\n",
       "      <td>86%</td>\n",
       "    </tr>\n",
       "  </tbody>\n",
       "</table>\n",
       "</div>"
      ],
      "text/plain": [
       "                        show  year rating imdb rotten_tomatoes\n",
       "0            The Mandalorian  2019     7+  8.7             93%\n",
       "1               The Simpsons  1989     7+  8.7             85%\n",
       "2              Gravity Falls  2012     7+  8.9            100%\n",
       "3  Star Wars: The Clone Wars  2008     7+  8.2             93%\n",
       "4      Marvel's Agent Carter  2015     7+  7.9             86%"
      ]
     },
     "execution_count": 8,
     "metadata": {},
     "output_type": "execute_result"
    }
   ],
   "source": [
    "disney_shows.head()"
   ]
  },
  {
   "cell_type": "markdown",
   "metadata": {},
   "source": [
    "## 3. Export data"
   ]
  },
  {
   "cell_type": "code",
   "execution_count": 9,
   "metadata": {},
   "outputs": [],
   "source": [
    "# hulu_shows.to_csv(\"Data_Hulu_Disney/hulu_shows.csv\", index_label=False)\n",
    "# disney_shows.to_csv(\"Data_Hulu_Disney/disney_shows.csv\", index_label=False)"
   ]
  },
  {
   "cell_type": "code",
   "execution_count": null,
   "metadata": {},
   "outputs": [],
   "source": []
  }
 ],
 "metadata": {
  "kernelspec": {
   "display_name": "Python 3",
   "language": "python",
   "name": "python3"
  },
  "language_info": {
   "codemirror_mode": {
    "name": "ipython",
    "version": 3
   },
   "file_extension": ".py",
   "mimetype": "text/x-python",
   "name": "python",
   "nbconvert_exporter": "python",
   "pygments_lexer": "ipython3",
   "version": "3.7.6"
  }
 },
 "nbformat": 4,
 "nbformat_minor": 4
}
