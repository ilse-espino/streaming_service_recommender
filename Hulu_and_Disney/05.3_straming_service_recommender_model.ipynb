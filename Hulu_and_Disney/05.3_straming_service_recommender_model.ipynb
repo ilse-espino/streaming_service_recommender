{
 "cells": [
  {
   "cell_type": "code",
   "execution_count": 1,
   "metadata": {},
   "outputs": [],
   "source": [
    "import pandas as pd\n",
    "import numpy as np\n",
    "import re \n",
    "from fuzzywuzzy import fuzz\n",
    "from scipy.spatial.distance import pdist, squareform\n",
    "\n",
    "pd.set_option(\"display.max_columns\", None)"
   ]
  },
  {
   "cell_type": "markdown",
   "metadata": {},
   "source": [
    "## Streaming Service Recommender Model\n",
    "\n",
    "#### Goals\n",
    "\n",
    "- Test the streaming service recommender model created previously on 06.3_streaming_service_recommender_model notebook\n",
    "\n",
    "### 1. Import data\n"
   ]
  },
  {
   "cell_type": "code",
   "execution_count": 2,
   "metadata": {},
   "outputs": [],
   "source": [
    "genres_recommender = pd.read_pickle(\"Data_Hulu_Disney/genres_recommender_v2.pkl\")"
   ]
  },
  {
   "cell_type": "code",
   "execution_count": 3,
   "metadata": {},
   "outputs": [
    {
     "data": {
      "text/html": [
       "<div>\n",
       "<style scoped>\n",
       "    .dataframe tbody tr th:only-of-type {\n",
       "        vertical-align: middle;\n",
       "    }\n",
       "\n",
       "    .dataframe tbody tr th {\n",
       "        vertical-align: top;\n",
       "    }\n",
       "\n",
       "    .dataframe thead th {\n",
       "        text-align: right;\n",
       "    }\n",
       "</style>\n",
       "<table border=\"1\" class=\"dataframe\">\n",
       "  <thead>\n",
       "    <tr style=\"text-align: right;\">\n",
       "      <th>genre</th>\n",
       "      <th>Action</th>\n",
       "      <th>Adventure</th>\n",
       "      <th>Animation</th>\n",
       "      <th>Biography</th>\n",
       "      <th>Comedy</th>\n",
       "      <th>Crime</th>\n",
       "      <th>Documentary</th>\n",
       "      <th>Drama</th>\n",
       "      <th>Family</th>\n",
       "      <th>Fantasy</th>\n",
       "      <th>Game-Show</th>\n",
       "      <th>History</th>\n",
       "      <th>Horror</th>\n",
       "      <th>Music</th>\n",
       "      <th>Musical</th>\n",
       "      <th>Mystery</th>\n",
       "      <th>News</th>\n",
       "      <th>Reality-TV</th>\n",
       "      <th>Romance</th>\n",
       "      <th>Sci-Fi</th>\n",
       "      <th>Short</th>\n",
       "      <th>Sport</th>\n",
       "      <th>Talk-Show</th>\n",
       "      <th>Thriller</th>\n",
       "      <th>War</th>\n",
       "      <th>Western</th>\n",
       "    </tr>\n",
       "    <tr>\n",
       "      <th>streaming_service</th>\n",
       "      <th></th>\n",
       "      <th></th>\n",
       "      <th></th>\n",
       "      <th></th>\n",
       "      <th></th>\n",
       "      <th></th>\n",
       "      <th></th>\n",
       "      <th></th>\n",
       "      <th></th>\n",
       "      <th></th>\n",
       "      <th></th>\n",
       "      <th></th>\n",
       "      <th></th>\n",
       "      <th></th>\n",
       "      <th></th>\n",
       "      <th></th>\n",
       "      <th></th>\n",
       "      <th></th>\n",
       "      <th></th>\n",
       "      <th></th>\n",
       "      <th></th>\n",
       "      <th></th>\n",
       "      <th></th>\n",
       "      <th></th>\n",
       "      <th></th>\n",
       "      <th></th>\n",
       "    </tr>\n",
       "  </thead>\n",
       "  <tbody>\n",
       "    <tr>\n",
       "      <th>Amazon</th>\n",
       "      <td>0.1212</td>\n",
       "      <td>0.1228</td>\n",
       "      <td>0.1619</td>\n",
       "      <td>0.0191</td>\n",
       "      <td>0.2432</td>\n",
       "      <td>0.1252</td>\n",
       "      <td>0.2018</td>\n",
       "      <td>0.3349</td>\n",
       "      <td>0.1045</td>\n",
       "      <td>0.0574</td>\n",
       "      <td>0.0152</td>\n",
       "      <td>0.0606</td>\n",
       "      <td>0.0263</td>\n",
       "      <td>0.0096</td>\n",
       "      <td>0.0032</td>\n",
       "      <td>0.0582</td>\n",
       "      <td>0.0048</td>\n",
       "      <td>0.1021</td>\n",
       "      <td>0.0550</td>\n",
       "      <td>0.0327</td>\n",
       "      <td>0.0144</td>\n",
       "      <td>0.0152</td>\n",
       "      <td>0.0072</td>\n",
       "      <td>0.0287</td>\n",
       "      <td>0.0112</td>\n",
       "      <td>0.0199</td>\n",
       "    </tr>\n",
       "    <tr>\n",
       "      <th>HBO</th>\n",
       "      <td>0.0769</td>\n",
       "      <td>0.0533</td>\n",
       "      <td>0.0473</td>\n",
       "      <td>0.0355</td>\n",
       "      <td>0.3905</td>\n",
       "      <td>0.1538</td>\n",
       "      <td>0.1006</td>\n",
       "      <td>0.5089</td>\n",
       "      <td>0.0414</td>\n",
       "      <td>0.0473</td>\n",
       "      <td>0.0059</td>\n",
       "      <td>0.0769</td>\n",
       "      <td>0.0118</td>\n",
       "      <td>0.0237</td>\n",
       "      <td>0.0059</td>\n",
       "      <td>0.0828</td>\n",
       "      <td>0.0296</td>\n",
       "      <td>0.0237</td>\n",
       "      <td>0.0769</td>\n",
       "      <td>0.0237</td>\n",
       "      <td>0.0000</td>\n",
       "      <td>0.0533</td>\n",
       "      <td>0.0414</td>\n",
       "      <td>0.0355</td>\n",
       "      <td>0.0059</td>\n",
       "      <td>0.0000</td>\n",
       "    </tr>\n",
       "    <tr>\n",
       "      <th>Netflix</th>\n",
       "      <td>0.1399</td>\n",
       "      <td>0.1190</td>\n",
       "      <td>0.1675</td>\n",
       "      <td>0.0221</td>\n",
       "      <td>0.2736</td>\n",
       "      <td>0.1466</td>\n",
       "      <td>0.1718</td>\n",
       "      <td>0.3767</td>\n",
       "      <td>0.0620</td>\n",
       "      <td>0.0571</td>\n",
       "      <td>0.0123</td>\n",
       "      <td>0.0387</td>\n",
       "      <td>0.0344</td>\n",
       "      <td>0.0178</td>\n",
       "      <td>0.0061</td>\n",
       "      <td>0.0571</td>\n",
       "      <td>0.0018</td>\n",
       "      <td>0.0883</td>\n",
       "      <td>0.0785</td>\n",
       "      <td>0.0344</td>\n",
       "      <td>0.0025</td>\n",
       "      <td>0.0160</td>\n",
       "      <td>0.0110</td>\n",
       "      <td>0.0479</td>\n",
       "      <td>0.0098</td>\n",
       "      <td>0.0031</td>\n",
       "    </tr>\n",
       "    <tr>\n",
       "      <th>Disney</th>\n",
       "      <td>0.3061</td>\n",
       "      <td>0.4286</td>\n",
       "      <td>0.4898</td>\n",
       "      <td>0.0000</td>\n",
       "      <td>0.4422</td>\n",
       "      <td>0.0000</td>\n",
       "      <td>0.1361</td>\n",
       "      <td>0.0680</td>\n",
       "      <td>0.3469</td>\n",
       "      <td>0.0340</td>\n",
       "      <td>0.0000</td>\n",
       "      <td>0.0000</td>\n",
       "      <td>0.0000</td>\n",
       "      <td>0.0408</td>\n",
       "      <td>0.0136</td>\n",
       "      <td>0.0068</td>\n",
       "      <td>0.0000</td>\n",
       "      <td>0.1156</td>\n",
       "      <td>0.0068</td>\n",
       "      <td>0.0408</td>\n",
       "      <td>0.0000</td>\n",
       "      <td>0.0000</td>\n",
       "      <td>0.0000</td>\n",
       "      <td>0.0000</td>\n",
       "      <td>0.0000</td>\n",
       "      <td>0.0000</td>\n",
       "    </tr>\n",
       "    <tr>\n",
       "      <th>Hulu</th>\n",
       "      <td>0.1607</td>\n",
       "      <td>0.1251</td>\n",
       "      <td>0.2187</td>\n",
       "      <td>0.0154</td>\n",
       "      <td>0.3536</td>\n",
       "      <td>0.1251</td>\n",
       "      <td>0.0804</td>\n",
       "      <td>0.3319</td>\n",
       "      <td>0.0727</td>\n",
       "      <td>0.0566</td>\n",
       "      <td>0.0524</td>\n",
       "      <td>0.0196</td>\n",
       "      <td>0.0294</td>\n",
       "      <td>0.0377</td>\n",
       "      <td>0.0063</td>\n",
       "      <td>0.0671</td>\n",
       "      <td>0.0098</td>\n",
       "      <td>0.1670</td>\n",
       "      <td>0.0664</td>\n",
       "      <td>0.0342</td>\n",
       "      <td>0.0049</td>\n",
       "      <td>0.0147</td>\n",
       "      <td>0.0231</td>\n",
       "      <td>0.0349</td>\n",
       "      <td>0.0049</td>\n",
       "      <td>0.0049</td>\n",
       "    </tr>\n",
       "  </tbody>\n",
       "</table>\n",
       "</div>"
      ],
      "text/plain": [
       "genre              Action  Adventure  Animation  Biography  Comedy   Crime  \\\n",
       "streaming_service                                                            \n",
       "Amazon             0.1212     0.1228     0.1619     0.0191  0.2432  0.1252   \n",
       "HBO                0.0769     0.0533     0.0473     0.0355  0.3905  0.1538   \n",
       "Netflix            0.1399     0.1190     0.1675     0.0221  0.2736  0.1466   \n",
       "Disney             0.3061     0.4286     0.4898     0.0000  0.4422  0.0000   \n",
       "Hulu               0.1607     0.1251     0.2187     0.0154  0.3536  0.1251   \n",
       "\n",
       "genre              Documentary   Drama  Family  Fantasy  Game-Show  History  \\\n",
       "streaming_service                                                             \n",
       "Amazon                  0.2018  0.3349  0.1045   0.0574     0.0152   0.0606   \n",
       "HBO                     0.1006  0.5089  0.0414   0.0473     0.0059   0.0769   \n",
       "Netflix                 0.1718  0.3767  0.0620   0.0571     0.0123   0.0387   \n",
       "Disney                  0.1361  0.0680  0.3469   0.0340     0.0000   0.0000   \n",
       "Hulu                    0.0804  0.3319  0.0727   0.0566     0.0524   0.0196   \n",
       "\n",
       "genre              Horror   Music  Musical  Mystery    News  Reality-TV  \\\n",
       "streaming_service                                                         \n",
       "Amazon             0.0263  0.0096   0.0032   0.0582  0.0048      0.1021   \n",
       "HBO                0.0118  0.0237   0.0059   0.0828  0.0296      0.0237   \n",
       "Netflix            0.0344  0.0178   0.0061   0.0571  0.0018      0.0883   \n",
       "Disney             0.0000  0.0408   0.0136   0.0068  0.0000      0.1156   \n",
       "Hulu               0.0294  0.0377   0.0063   0.0671  0.0098      0.1670   \n",
       "\n",
       "genre              Romance  Sci-Fi   Short   Sport  Talk-Show  Thriller  \\\n",
       "streaming_service                                                         \n",
       "Amazon              0.0550  0.0327  0.0144  0.0152     0.0072    0.0287   \n",
       "HBO                 0.0769  0.0237  0.0000  0.0533     0.0414    0.0355   \n",
       "Netflix             0.0785  0.0344  0.0025  0.0160     0.0110    0.0479   \n",
       "Disney              0.0068  0.0408  0.0000  0.0000     0.0000    0.0000   \n",
       "Hulu                0.0664  0.0342  0.0049  0.0147     0.0231    0.0349   \n",
       "\n",
       "genre                 War  Western  \n",
       "streaming_service                   \n",
       "Amazon             0.0112   0.0199  \n",
       "HBO                0.0059   0.0000  \n",
       "Netflix            0.0098   0.0031  \n",
       "Disney             0.0000   0.0000  \n",
       "Hulu               0.0049   0.0049  "
      ]
     },
     "execution_count": 3,
     "metadata": {},
     "output_type": "execute_result"
    }
   ],
   "source": [
    "genres_recommender"
   ]
  },
  {
   "cell_type": "code",
   "execution_count": 4,
   "metadata": {},
   "outputs": [],
   "source": [
    "all_shows = pd.read_pickle(\"Data_Hulu_Disney/all_shows_genres_v2.pkl\")"
   ]
  },
  {
   "cell_type": "markdown",
   "metadata": {},
   "source": [
    "### 2. Define function get_streaming_recommendation"
   ]
  },
  {
   "cell_type": "code",
   "execution_count": 5,
   "metadata": {},
   "outputs": [],
   "source": [
    "def get_streaming_recommendation(genres_recommender, user_survey):\n",
    "    \n",
    "    recommendations = []\n",
    "    \n",
    "    user_recommender = genres_recommender.append(user_survey)\n",
    "        \n",
    "    distances = squareform(pdist(user_recommender, 'euclidean'))\n",
    "    \n",
    "    distances_df = pd.DataFrame((squareform(pdist(user_recommender, 'euclidean'))), \n",
    "                         index=user_recommender.index, columns=user_recommender.index)\n",
    "    \n",
    "    similar_streamings = list(distances_df['User'].sort_values()[1:].index)\n",
    "    distances = list(distances_df['User'].sort_values()[1:].values)\n",
    "    \n",
    "    # we will increase the range in order to get the similarities for all 5 streaming services\n",
    "    for i in range(5):\n",
    "        recommendations.append(similar_streamings[i])\n",
    "       \n",
    "    # we will show the percentage of similarity, whcih is 1 minus the distance multiplied by a 100\n",
    "    print(\"Your closest match is \" + recommendations[0] + f\" with {int(100-distances[0]*100)}% genre similarity.\")\n",
    "    print(\"--------------------------\")\n",
    "    print(\"Your next matches are:\")\n",
    "    print(\"2. \" + recommendations[1] + f\" with {int(100-distances[1]*100)}% genre similarity.\")\n",
    "    print(\"3. \" + recommendations[2] + f\" with {int(100-distances[2]*100)}% genre similarity.\")\n",
    "    print(\"4. \" + recommendations[3] + f\" with {int(100-distances[3]*100)}% genre similarity.\")\n",
    "    print(\"5. \" + recommendations[4] + f\" with {int(100-distances[4]*100)}% genre similarity.\")\n",
    "    \n",
    "    return (\"\")\n"
   ]
  },
  {
   "cell_type": "markdown",
   "metadata": {},
   "source": [
    "### 3. Test"
   ]
  },
  {
   "cell_type": "code",
   "execution_count": 6,
   "metadata": {},
   "outputs": [],
   "source": [
    "user_netflix = pd.read_pickle(\"../Data/netflix_test.pkl\")\n",
    "user_amazon = pd.read_pickle(\"../Data/amazon_test.pkl\")\n",
    "user_hbo = pd.read_pickle(\"../Data/hbo_test.pkl\")\n",
    "user_hulu = pd.read_pickle(\"Data_Hulu_Disney/hulu_test.pkl\")\n",
    "user_disney = pd.read_pickle(\"Data_Hulu_Disney/disney_test.pkl\")"
   ]
  },
  {
   "cell_type": "code",
   "execution_count": 7,
   "metadata": {},
   "outputs": [
    {
     "name": "stdout",
     "output_type": "stream",
     "text": [
      "Your closest match is Netflix with 67% genre similarity.\n",
      "--------------------------\n",
      "Your next matches are:\n",
      "2. HBO with 65% genre similarity.\n",
      "3. Amazon with 63% genre similarity.\n",
      "4. Hulu with 63% genre similarity.\n",
      "5. Disney with 17% genre similarity.\n"
     ]
    },
    {
     "data": {
      "text/plain": [
       "''"
      ]
     },
     "execution_count": 7,
     "metadata": {},
     "output_type": "execute_result"
    }
   ],
   "source": [
    "get_streaming_recommendation(genres_recommender, user_netflix)"
   ]
  },
  {
   "cell_type": "code",
   "execution_count": 8,
   "metadata": {},
   "outputs": [
    {
     "name": "stdout",
     "output_type": "stream",
     "text": [
      "Your closest match is Amazon with 75% genre similarity.\n",
      "--------------------------\n",
      "Your next matches are:\n",
      "2. Netflix with 73% genre similarity.\n",
      "3. Hulu with 71% genre similarity.\n",
      "4. HBO with 65% genre similarity.\n",
      "5. Disney with 32% genre similarity.\n"
     ]
    },
    {
     "data": {
      "text/plain": [
       "''"
      ]
     },
     "execution_count": 8,
     "metadata": {},
     "output_type": "execute_result"
    }
   ],
   "source": [
    "get_streaming_recommendation(genres_recommender, user_amazon)"
   ]
  },
  {
   "cell_type": "code",
   "execution_count": 9,
   "metadata": {},
   "outputs": [
    {
     "name": "stdout",
     "output_type": "stream",
     "text": [
      "Your closest match is HBO with 60% genre similarity.\n",
      "--------------------------\n",
      "Your next matches are:\n",
      "2. Netflix with 42% genre similarity.\n",
      "3. Hulu with 37% genre similarity.\n",
      "4. Amazon with 36% genre similarity.\n",
      "5. Disney with -10% genre similarity.\n"
     ]
    },
    {
     "data": {
      "text/plain": [
       "''"
      ]
     },
     "execution_count": 9,
     "metadata": {},
     "output_type": "execute_result"
    }
   ],
   "source": [
    "get_streaming_recommendation(genres_recommender, user_hbo)"
   ]
  },
  {
   "cell_type": "code",
   "execution_count": 10,
   "metadata": {},
   "outputs": [
    {
     "name": "stdout",
     "output_type": "stream",
     "text": [
      "Your closest match is Hulu with 65% genre similarity.\n",
      "--------------------------\n",
      "Your next matches are:\n",
      "2. HBO with 61% genre similarity.\n",
      "3. Netflix with 57% genre similarity.\n",
      "4. Amazon with 52% genre similarity.\n",
      "5. Disney with 24% genre similarity.\n"
     ]
    },
    {
     "data": {
      "text/plain": [
       "''"
      ]
     },
     "execution_count": 10,
     "metadata": {},
     "output_type": "execute_result"
    }
   ],
   "source": [
    "get_streaming_recommendation(genres_recommender, user_hulu)"
   ]
  },
  {
   "cell_type": "code",
   "execution_count": 11,
   "metadata": {},
   "outputs": [
    {
     "name": "stdout",
     "output_type": "stream",
     "text": [
      "Your closest match is Disney with 44% genre similarity.\n",
      "--------------------------\n",
      "Your next matches are:\n",
      "2. Hulu with 17% genre similarity.\n",
      "3. Amazon with 9% genre similarity.\n",
      "4. Netflix with 8% genre similarity.\n",
      "5. HBO with 0% genre similarity.\n"
     ]
    },
    {
     "data": {
      "text/plain": [
       "''"
      ]
     },
     "execution_count": 11,
     "metadata": {},
     "output_type": "execute_result"
    }
   ],
   "source": [
    "get_streaming_recommendation(genres_recommender, user_disney)"
   ]
  },
  {
   "cell_type": "markdown",
   "metadata": {},
   "source": [
    "The survey worked, we can now create a module and notebook for the new data frames including Hulu and Disney+."
   ]
  },
  {
   "cell_type": "code",
   "execution_count": null,
   "metadata": {},
   "outputs": [],
   "source": []
  }
 ],
 "metadata": {
  "kernelspec": {
   "display_name": "Python 3",
   "language": "python",
   "name": "python3"
  },
  "language_info": {
   "codemirror_mode": {
    "name": "ipython",
    "version": 3
   },
   "file_extension": ".py",
   "mimetype": "text/x-python",
   "name": "python",
   "nbconvert_exporter": "python",
   "pygments_lexer": "ipython3",
   "version": "3.7.6"
  }
 },
 "nbformat": 4,
 "nbformat_minor": 4
}
