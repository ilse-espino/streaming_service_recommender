{
 "cells": [
  {
   "cell_type": "code",
   "execution_count": 1,
   "metadata": {},
   "outputs": [],
   "source": [
    "import pandas as pd\n",
    "import numpy as np\n",
    "import re\n",
    "from fuzzywuzzy import fuzz\n",
    "from scipy.spatial.distance import pdist, squareform\n",
    "\n",
    "genres_recommender = pd.read_pickle(\"Data_Hulu_Disney/genres_recommender_v2.pkl\")\n",
    "\n",
    "url = \"https://docs.google.com/spreadsheets/d/1VsL_x7WAcEm-pLNmCqNwrDlFjTR_PUDpiadyUYJM-AQ/export?format=csv&gid=1360685521\"\n",
    "\n",
    "survey_shows = pd.read_pickle(\"Data_Hulu_Disney/survey_shows.pkl\")"
   ]
  },
  {
   "cell_type": "markdown",
   "metadata": {},
   "source": [
    "# Updates\n",
    "\n",
    "#### Goals\n",
    "\n",
    "- Update the streaming service recommender functions in order to input a name, which will match the row of the same user and use this information to create the user data frame\n",
    "- Have the final ouput print: Matches for {name}, in order to personalize it\n",
    "\n",
    "## 1. Import data"
   ]
  },
  {
   "cell_type": "code",
   "execution_count": 2,
   "metadata": {},
   "outputs": [],
   "source": [
    "survey_df = pd.read_csv(url)\n"
   ]
  },
  {
   "cell_type": "markdown",
   "metadata": {},
   "source": [
    "## 2. Update function"
   ]
  },
  {
   "cell_type": "code",
   "execution_count": 3,
   "metadata": {},
   "outputs": [],
   "source": [
    "def get_recommender_df(survey_df, df_all_shows):\n",
    "    \n",
    "    # we will add try except blocks in order to ask for the name in which the survey was filled out, in case\n",
    "    # the name doesn't match any of the names on our survey data frame, it will ask again\n",
    "    \n",
    "    while True:\n",
    "        \n",
    "        name = input(\"Please enter your user name:\")\n",
    "        \n",
    "        try:\n",
    "\n",
    "            if name in survey_df[\"Name\"].values:\n",
    "                break;\n",
    "            \n",
    "            else:\n",
    "                print(\"That user name does not match. Please try again.\")\n",
    "                \n",
    "        except ValueError:\n",
    "            print(\"That user name does not match. Please try again.\")\n",
    "\n",
    "    # we will now define the user_df as the row that matches the name entered and has the newest entry, we could have\n",
    "    # repeated names\n",
    "    user_df = survey_df.loc[np.where(survey_df[\"Name\"] == name)]\n",
    "    \n",
    "    user_df[\"Timestamp\"] = pd.to_datetime(user_df[\"Timestamp\"])\n",
    "    \n",
    "    user_df = user_df.iloc[np.where(user_df[\"Timestamp\"] == user_df[\"Timestamp\"].max())]\n",
    "    \n",
    "    # next, we will drop the timestamps and name columns, since they will no longer be needed\n",
    "    user_df = user_df.drop(columns=[\"Timestamp\", \"Name\"])\n",
    "   \n",
    "    genre_columns = ['Crime', 'Drama', 'Thriller', 'Fantasy', 'Horror', 'Mystery', 'Comedy', 'Sci-Fi', 'Biography',\n",
    "                 'Action', 'Adventure', 'Romance', 'History', 'Documentary', 'Animation', 'War', 'Sport',\n",
    "                 'Family', 'Western', 'Short', 'Reality-TV', 'Musical', 'Music', 'Game-Show', 'Talk-Show', 'News']\n",
    "        \n",
    "    all_shows_lst = [show for show in df_all_shows[\"show\"]]\n",
    "    \n",
    "    titles = []\n",
    "        \n",
    "    # we will select just the last element using the tail pandas method\n",
    "    for show in user_df.values[0]:\n",
    "        # remove the year and description\n",
    "        title_pattern = r\"(.*)\\s\\(\\d{4}\\).*$\"\n",
    "        title = re.findall(title_pattern, show)\n",
    "        titles.append(title[0])\n",
    "\n",
    "    matches = []\n",
    "\n",
    "    for title in titles:\n",
    "        for show in all_shows_lst:\n",
    "            ratio = fuzz.ratio(title.lower(), show.lower())\n",
    "            if ratio == 100:\n",
    "                matches.append(show)\n",
    "                matches = list(set(matches))\n",
    "                              \n",
    "    user_df = df_all_shows[df_all_shows[\"show\"].isin(matches)].reset_index(drop=True)\n",
    "    \n",
    "    user_genre_ratio = (pd.DataFrame(user_df[genre_columns].sum()\n",
    "                                    .sort_values(ascending=False))\n",
    "                       .reset_index()\n",
    "                       .rename(columns={\"index\":\"genre\", 0:\"frequency\"}))\n",
    "\n",
    "    user_genre_ratio[\"ratio\"] = round((user_genre_ratio[\"frequency\"] / 30), 4)\n",
    "\n",
    "    user_genre_ratio[\"user\"] = \"User\"\n",
    "\n",
    "    user_recommender = user_genre_ratio.pivot_table(index=\"user\",\n",
    "                                          columns=\"genre\",\n",
    "                                          values=\"ratio\")\n",
    "    \n",
    "    # our output will now be the user_recommender df and the name, in order to use both of them on the next function\n",
    "    return user_recommender, name"
   ]
  },
  {
   "cell_type": "code",
   "execution_count": 4,
   "metadata": {},
   "outputs": [],
   "source": [
    "# we will now need to input the name\n",
    "def get_streaming_recommendation(genres_recommender, user_survey, name):\n",
    "    \n",
    "    recommendations = []\n",
    "    \n",
    "    user_recommender = genres_recommender.append(user_survey)\n",
    "           \n",
    "    distances_df = pd.DataFrame((squareform(pdist(user_recommender, 'euclidean'))), \n",
    "                                 index=user_recommender.index, columns=user_recommender.index)\n",
    "    \n",
    "    similar_streamings = list(distances_df['User'].sort_values()[1:].index)\n",
    "    distances = list(distances_df['User'].sort_values()[1:].values)\n",
    "    \n",
    "    # we will increase the range in order to get the similarities for all 5 streaming services\n",
    "    for i in range(5):\n",
    "        recommendations.append(similar_streamings[i])\n",
    "       \n",
    "    # we will show the percentage of similarity, which is 1 minus the distance multiplied by a 100\n",
    "    print(\"\\n\")\n",
    "    # we will return a string saying: Matches for {name}\n",
    "    print(f\"Matches for {name}\")\n",
    "    print(\"--------------------------\")\n",
    "    print(\"\\n\")\n",
    "    print('\\033[1m' + \"Your closest match is \" + recommendations[0] + f\" with {int(1/(1+distances[0])*100)}% genre similarity.\" + '\\033[0;0m')\n",
    "    print(\"\\n\")\n",
    "    print(\"Your next matches are:\")\n",
    "    print(\"2. \" + recommendations[1] + f\" with {int(1/(1+distances[1])*100)}% genre similarity.\")\n",
    "    print(\"3. \" + recommendations[2] + f\" with {int(1/(1+distances[2])*100)}% genre similarity.\")\n",
    "    print(\"4. \" + recommendations[3] + f\" with {int(1/(1+distances[3])*100)}% genre similarity.\")\n",
    "    print(\"5. \" + recommendations[4] + f\" with {int(1/(1+distances[4])*100)}% genre similarity.\")\n",
    "    \n",
    "    return (\"\")"
   ]
  },
  {
   "cell_type": "markdown",
   "metadata": {},
   "source": [
    "## 3. Test\n",
    "We will first test the get_recommender_df function and then the get_streaming_recommendations function."
   ]
  },
  {
   "cell_type": "code",
   "execution_count": 5,
   "metadata": {},
   "outputs": [
    {
     "name": "stdout",
     "output_type": "stream",
     "text": [
      "Please enter your user name:ilse\n"
     ]
    }
   ],
   "source": [
    "df, user = get_recommender_df(survey_df, survey_shows)"
   ]
  },
  {
   "cell_type": "code",
   "execution_count": 6,
   "metadata": {},
   "outputs": [
    {
     "data": {
      "text/html": [
       "<div>\n",
       "<style scoped>\n",
       "    .dataframe tbody tr th:only-of-type {\n",
       "        vertical-align: middle;\n",
       "    }\n",
       "\n",
       "    .dataframe tbody tr th {\n",
       "        vertical-align: top;\n",
       "    }\n",
       "\n",
       "    .dataframe thead th {\n",
       "        text-align: right;\n",
       "    }\n",
       "</style>\n",
       "<table border=\"1\" class=\"dataframe\">\n",
       "  <thead>\n",
       "    <tr style=\"text-align: right;\">\n",
       "      <th>genre</th>\n",
       "      <th>Action</th>\n",
       "      <th>Adventure</th>\n",
       "      <th>Animation</th>\n",
       "      <th>Biography</th>\n",
       "      <th>Comedy</th>\n",
       "      <th>Crime</th>\n",
       "      <th>Documentary</th>\n",
       "      <th>Drama</th>\n",
       "      <th>Family</th>\n",
       "      <th>Fantasy</th>\n",
       "      <th>...</th>\n",
       "      <th>News</th>\n",
       "      <th>Reality-TV</th>\n",
       "      <th>Romance</th>\n",
       "      <th>Sci-Fi</th>\n",
       "      <th>Short</th>\n",
       "      <th>Sport</th>\n",
       "      <th>Talk-Show</th>\n",
       "      <th>Thriller</th>\n",
       "      <th>War</th>\n",
       "      <th>Western</th>\n",
       "    </tr>\n",
       "    <tr>\n",
       "      <th>user</th>\n",
       "      <th></th>\n",
       "      <th></th>\n",
       "      <th></th>\n",
       "      <th></th>\n",
       "      <th></th>\n",
       "      <th></th>\n",
       "      <th></th>\n",
       "      <th></th>\n",
       "      <th></th>\n",
       "      <th></th>\n",
       "      <th></th>\n",
       "      <th></th>\n",
       "      <th></th>\n",
       "      <th></th>\n",
       "      <th></th>\n",
       "      <th></th>\n",
       "      <th></th>\n",
       "      <th></th>\n",
       "      <th></th>\n",
       "      <th></th>\n",
       "      <th></th>\n",
       "    </tr>\n",
       "  </thead>\n",
       "  <tbody>\n",
       "    <tr>\n",
       "      <th>User</th>\n",
       "      <td>0.4</td>\n",
       "      <td>0.4</td>\n",
       "      <td>0.3333</td>\n",
       "      <td>0.0</td>\n",
       "      <td>0.8333</td>\n",
       "      <td>0.0</td>\n",
       "      <td>0.2333</td>\n",
       "      <td>0.2333</td>\n",
       "      <td>0.5333</td>\n",
       "      <td>0.0333</td>\n",
       "      <td>...</td>\n",
       "      <td>0.0</td>\n",
       "      <td>0.3</td>\n",
       "      <td>0.0333</td>\n",
       "      <td>0.0667</td>\n",
       "      <td>0.0</td>\n",
       "      <td>0.0</td>\n",
       "      <td>0.0</td>\n",
       "      <td>0.0</td>\n",
       "      <td>0.0</td>\n",
       "      <td>0.0</td>\n",
       "    </tr>\n",
       "  </tbody>\n",
       "</table>\n",
       "<p>1 rows × 26 columns</p>\n",
       "</div>"
      ],
      "text/plain": [
       "genre  Action  Adventure  Animation  Biography  Comedy  Crime  Documentary  \\\n",
       "user                                                                         \n",
       "User      0.4        0.4     0.3333        0.0  0.8333    0.0       0.2333   \n",
       "\n",
       "genre   Drama  Family  Fantasy  ...  News  Reality-TV  Romance  Sci-Fi  Short  \\\n",
       "user                            ...                                             \n",
       "User   0.2333  0.5333   0.0333  ...   0.0         0.3   0.0333  0.0667    0.0   \n",
       "\n",
       "genre  Sport  Talk-Show  Thriller  War  Western  \n",
       "user                                             \n",
       "User     0.0        0.0       0.0  0.0      0.0  \n",
       "\n",
       "[1 rows x 26 columns]"
      ]
     },
     "execution_count": 6,
     "metadata": {},
     "output_type": "execute_result"
    }
   ],
   "source": [
    "df"
   ]
  },
  {
   "cell_type": "code",
   "execution_count": 7,
   "metadata": {},
   "outputs": [
    {
     "data": {
      "text/plain": [
       "'ilse'"
      ]
     },
     "execution_count": 7,
     "metadata": {},
     "output_type": "execute_result"
    }
   ],
   "source": [
    "user"
   ]
  },
  {
   "cell_type": "code",
   "execution_count": 8,
   "metadata": {},
   "outputs": [
    {
     "name": "stdout",
     "output_type": "stream",
     "text": [
      "\n",
      "\n",
      "Matches for ilse\n",
      "--------------------------\n",
      "\n",
      "\n",
      "\u001b[1mYour closest match is Disney with 64% genre similarity.\u001b[0;0m\n",
      "\n",
      "\n",
      "Your next matches are:\n",
      "2. Hulu with 54% genre similarity.\n",
      "3. Amazon with 52% genre similarity.\n",
      "4. Netflix with 52% genre similarity.\n",
      "5. HBO with 50% genre similarity.\n"
     ]
    },
    {
     "data": {
      "text/plain": [
       "''"
      ]
     },
     "execution_count": 8,
     "metadata": {},
     "output_type": "execute_result"
    }
   ],
   "source": [
    "get_streaming_recommendation(genres_recommender, df, user)"
   ]
  },
  {
   "cell_type": "markdown",
   "metadata": {},
   "source": [
    "It works, this updates will be added to the Streaming Service Recommender v2"
   ]
  },
  {
   "cell_type": "code",
   "execution_count": null,
   "metadata": {},
   "outputs": [],
   "source": []
  }
 ],
 "metadata": {
  "kernelspec": {
   "display_name": "Python 3",
   "language": "python",
   "name": "python3"
  },
  "language_info": {
   "codemirror_mode": {
    "name": "ipython",
    "version": 3
   },
   "file_extension": ".py",
   "mimetype": "text/x-python",
   "name": "python",
   "nbconvert_exporter": "python",
   "pygments_lexer": "ipython3",
   "version": "3.7.6"
  }
 },
 "nbformat": 4,
 "nbformat_minor": 4
}
