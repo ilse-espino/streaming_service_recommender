{
 "cells": [
  {
   "cell_type": "code",
   "execution_count": 1,
   "metadata": {},
   "outputs": [],
   "source": [
    "import pandas as pd\n",
    "import numpy as np\n",
    "import matplotlib.pyplot as plt\n",
    "import seaborn as sns\n",
    "%matplotlib inline\n",
    "\n",
    "pd.set_option(\"display.max_columns\", None)"
   ]
  },
  {
   "cell_type": "markdown",
   "metadata": {},
   "source": [
    "## EDA Runtime Minutes\n",
    "#### Goals\n",
    "\n",
    "Runtime minutes are the average minutes for each episode for each show.\n",
    "\n",
    "- Get descriptive statistics for the runtime minutes of tv shows for each streaming service.\n",
    "\n",
    "- Plot data.\n",
    "\n",
    "- Compare findings.\n",
    "\n",
    "-----\n",
    "\n",
    "### 1. Hulu\n",
    "#### i. Import data"
   ]
  },
  {
   "cell_type": "code",
   "execution_count": 2,
   "metadata": {},
   "outputs": [],
   "source": [
    "hulu = pd.read_pickle(\"Data_Hulu_Disney/hulu_final_clean.pkl\")"
   ]
  },
  {
   "cell_type": "code",
   "execution_count": 3,
   "metadata": {},
   "outputs": [
    {
     "data": {
      "text/html": [
       "<div>\n",
       "<style scoped>\n",
       "    .dataframe tbody tr th:only-of-type {\n",
       "        vertical-align: middle;\n",
       "    }\n",
       "\n",
       "    .dataframe tbody tr th {\n",
       "        vertical-align: top;\n",
       "    }\n",
       "\n",
       "    .dataframe thead th {\n",
       "        text-align: right;\n",
       "    }\n",
       "</style>\n",
       "<table border=\"1\" class=\"dataframe\">\n",
       "  <thead>\n",
       "    <tr style=\"text-align: right;\">\n",
       "      <th></th>\n",
       "      <th>show</th>\n",
       "      <th>year</th>\n",
       "      <th>age</th>\n",
       "      <th>imdb_rating</th>\n",
       "      <th>imdb_id</th>\n",
       "      <th>titleType</th>\n",
       "      <th>primaryTitle</th>\n",
       "      <th>originalTitle</th>\n",
       "      <th>startYear</th>\n",
       "      <th>endYear</th>\n",
       "      <th>runtimeMinutes</th>\n",
       "      <th>genres</th>\n",
       "    </tr>\n",
       "  </thead>\n",
       "  <tbody>\n",
       "    <tr>\n",
       "      <th>0</th>\n",
       "      <td>Rick and Morty</td>\n",
       "      <td>2013</td>\n",
       "      <td>18.0</td>\n",
       "      <td>9.2</td>\n",
       "      <td>tt2861424</td>\n",
       "      <td>tvSeries</td>\n",
       "      <td>Rick and Morty</td>\n",
       "      <td>Rick and Morty</td>\n",
       "      <td>2013.0</td>\n",
       "      <td>2013.0</td>\n",
       "      <td>23.0</td>\n",
       "      <td>Adventure,Animation,Comedy</td>\n",
       "    </tr>\n",
       "    <tr>\n",
       "      <th>1</th>\n",
       "      <td>Fargo</td>\n",
       "      <td>2014</td>\n",
       "      <td>18.0</td>\n",
       "      <td>8.9</td>\n",
       "      <td>tt2802850</td>\n",
       "      <td>tvSeries</td>\n",
       "      <td>Fargo</td>\n",
       "      <td>Fargo</td>\n",
       "      <td>2014.0</td>\n",
       "      <td>2014.0</td>\n",
       "      <td>53.0</td>\n",
       "      <td>Crime,Drama,Thriller</td>\n",
       "    </tr>\n",
       "    <tr>\n",
       "      <th>2</th>\n",
       "      <td>Vikings</td>\n",
       "      <td>2013</td>\n",
       "      <td>18.0</td>\n",
       "      <td>8.5</td>\n",
       "      <td>tt2306299</td>\n",
       "      <td>tvSeries</td>\n",
       "      <td>Vikings</td>\n",
       "      <td>Vikings</td>\n",
       "      <td>2013.0</td>\n",
       "      <td>2013.0</td>\n",
       "      <td>44.0</td>\n",
       "      <td>Action,Adventure,Drama</td>\n",
       "    </tr>\n",
       "    <tr>\n",
       "      <th>3</th>\n",
       "      <td>Brooklyn Nine-Nine</td>\n",
       "      <td>2013</td>\n",
       "      <td>16.0</td>\n",
       "      <td>8.4</td>\n",
       "      <td>tt2467372</td>\n",
       "      <td>tvSeries</td>\n",
       "      <td>Brooklyn Nine-Nine</td>\n",
       "      <td>Brooklyn Nine-Nine</td>\n",
       "      <td>2013.0</td>\n",
       "      <td>2013.0</td>\n",
       "      <td>22.0</td>\n",
       "      <td>Comedy,Crime</td>\n",
       "    </tr>\n",
       "    <tr>\n",
       "      <th>4</th>\n",
       "      <td>Community</td>\n",
       "      <td>2009</td>\n",
       "      <td>7.0</td>\n",
       "      <td>8.5</td>\n",
       "      <td>tt1439629</td>\n",
       "      <td>tvSeries</td>\n",
       "      <td>Community</td>\n",
       "      <td>Community</td>\n",
       "      <td>2009.0</td>\n",
       "      <td>2009.0</td>\n",
       "      <td>22.0</td>\n",
       "      <td>Comedy</td>\n",
       "    </tr>\n",
       "  </tbody>\n",
       "</table>\n",
       "</div>"
      ],
      "text/plain": [
       "                 show  year   age  imdb_rating    imdb_id titleType  \\\n",
       "0      Rick and Morty  2013  18.0          9.2  tt2861424  tvSeries   \n",
       "1               Fargo  2014  18.0          8.9  tt2802850  tvSeries   \n",
       "2             Vikings  2013  18.0          8.5  tt2306299  tvSeries   \n",
       "3  Brooklyn Nine-Nine  2013  16.0          8.4  tt2467372  tvSeries   \n",
       "4           Community  2009   7.0          8.5  tt1439629  tvSeries   \n",
       "\n",
       "         primaryTitle       originalTitle  startYear  endYear  runtimeMinutes  \\\n",
       "0      Rick and Morty      Rick and Morty     2013.0   2013.0            23.0   \n",
       "1               Fargo               Fargo     2014.0   2014.0            53.0   \n",
       "2             Vikings             Vikings     2013.0   2013.0            44.0   \n",
       "3  Brooklyn Nine-Nine  Brooklyn Nine-Nine     2013.0   2013.0            22.0   \n",
       "4           Community           Community     2009.0   2009.0            22.0   \n",
       "\n",
       "                       genres  \n",
       "0  Adventure,Animation,Comedy  \n",
       "1        Crime,Drama,Thriller  \n",
       "2      Action,Adventure,Drama  \n",
       "3                Comedy,Crime  \n",
       "4                      Comedy  "
      ]
     },
     "execution_count": 3,
     "metadata": {},
     "output_type": "execute_result"
    }
   ],
   "source": [
    "hulu.head()"
   ]
  },
  {
   "cell_type": "markdown",
   "metadata": {},
   "source": [
    "First, we will look at what are the longest runtime minutes."
   ]
  },
  {
   "cell_type": "code",
   "execution_count": 4,
   "metadata": {},
   "outputs": [
    {
     "data": {
      "text/plain": [
       "742     584.0\n",
       "311     510.0\n",
       "194     492.0\n",
       "853     391.0\n",
       "39      350.0\n",
       "532     346.0\n",
       "28      327.0\n",
       "844     303.0\n",
       "1009    258.0\n",
       "265     230.0\n",
       "664     210.0\n",
       "145     207.0\n",
       "407     192.0\n",
       "245     180.0\n",
       "696     180.0\n",
       "196     152.0\n",
       "1295    122.0\n",
       "592     120.0\n",
       "746     120.0\n",
       "636     120.0\n",
       "Name: runtimeMinutes, dtype: float64"
      ]
     },
     "execution_count": 4,
     "metadata": {},
     "output_type": "execute_result"
    }
   ],
   "source": [
    "hulu[\"runtimeMinutes\"].sort_values(ascending=False).head(20)"
   ]
  },
  {
   "cell_type": "markdown",
   "metadata": {},
   "source": [
    "Some values from runtime minutes are taking into account all the episodes of the series, this could skew our values and not give us meaningful information. We will remove shows with runtime minutes higher than 100 from our data frame for this analysis for all streaming services.\n",
    "\n",
    "We will also remove null values."
   ]
  },
  {
   "cell_type": "code",
   "execution_count": 5,
   "metadata": {},
   "outputs": [
    {
     "data": {
      "text/html": [
       "<div>\n",
       "<style scoped>\n",
       "    .dataframe tbody tr th:only-of-type {\n",
       "        vertical-align: middle;\n",
       "    }\n",
       "\n",
       "    .dataframe tbody tr th {\n",
       "        vertical-align: top;\n",
       "    }\n",
       "\n",
       "    .dataframe thead th {\n",
       "        text-align: right;\n",
       "    }\n",
       "</style>\n",
       "<table border=\"1\" class=\"dataframe\">\n",
       "  <thead>\n",
       "    <tr style=\"text-align: right;\">\n",
       "      <th></th>\n",
       "      <th>show</th>\n",
       "      <th>runtimeMinutes</th>\n",
       "    </tr>\n",
       "  </thead>\n",
       "  <tbody>\n",
       "    <tr>\n",
       "      <th>0</th>\n",
       "      <td>Rick and Morty</td>\n",
       "      <td>23.0</td>\n",
       "    </tr>\n",
       "    <tr>\n",
       "      <th>1</th>\n",
       "      <td>Fargo</td>\n",
       "      <td>53.0</td>\n",
       "    </tr>\n",
       "    <tr>\n",
       "      <th>2</th>\n",
       "      <td>Vikings</td>\n",
       "      <td>44.0</td>\n",
       "    </tr>\n",
       "    <tr>\n",
       "      <th>3</th>\n",
       "      <td>Brooklyn Nine-Nine</td>\n",
       "      <td>22.0</td>\n",
       "    </tr>\n",
       "    <tr>\n",
       "      <th>4</th>\n",
       "      <td>Community</td>\n",
       "      <td>22.0</td>\n",
       "    </tr>\n",
       "  </tbody>\n",
       "</table>\n",
       "</div>"
      ],
      "text/plain": [
       "                 show  runtimeMinutes\n",
       "0      Rick and Morty            23.0\n",
       "1               Fargo            53.0\n",
       "2             Vikings            44.0\n",
       "3  Brooklyn Nine-Nine            22.0\n",
       "4           Community            22.0"
      ]
     },
     "execution_count": 5,
     "metadata": {},
     "output_type": "execute_result"
    }
   ],
   "source": [
    "hulu_runtime = hulu[hulu[\"runtimeMinutes\"] <= 100][[\"show\", \"runtimeMinutes\"]].reset_index(drop=True)\n",
    "\n",
    "hulu_runtime = hulu_runtime[~hulu_runtime[\"runtimeMinutes\"].isna()].reset_index(drop=True)\n",
    "\n",
    "hulu_runtime.head()"
   ]
  },
  {
   "cell_type": "code",
   "execution_count": 6,
   "metadata": {},
   "outputs": [
    {
     "data": {
      "text/plain": [
       "0.7967257844474761"
      ]
     },
     "execution_count": 6,
     "metadata": {},
     "output_type": "execute_result"
    }
   ],
   "source": [
    "len(hulu_runtime) / len(hulu)"
   ]
  },
  {
   "cell_type": "markdown",
   "metadata": {},
   "source": [
    "We will be working with 79% of our data.\n",
    "\n",
    "#### ii. Descriptive Statistics"
   ]
  },
  {
   "cell_type": "code",
   "execution_count": 7,
   "metadata": {},
   "outputs": [
    {
     "data": {
      "text/plain": [
       "count    1168.000000\n",
       "mean       38.259418\n",
       "std        16.386987\n",
       "min         3.000000\n",
       "25%        24.000000\n",
       "50%        30.000000\n",
       "75%        55.000000\n",
       "max        93.000000\n",
       "Name: runtimeMinutes, dtype: float64"
      ]
     },
     "execution_count": 7,
     "metadata": {},
     "output_type": "execute_result"
    }
   ],
   "source": [
    "hulu_runtime[\"runtimeMinutes\"].describe()"
   ]
  },
  {
   "cell_type": "markdown",
   "metadata": {},
   "source": [
    "From the descriptive statistics we can see the following:\n",
    "\n",
    "- The tv shows provided by hulu last in average 38 minutes per episode.\n",
    "- 25% of the tv shows last 24 minutes or less.\n",
    "- 50% of the tv shows last 30 minutes or more.\n",
    "- 25% of the tv shows last 55 minutes or more.\n",
    "- The minimum is of 3 minutes and the highest is of 93 minutes.\n",
    "\n",
    "#### ii. Plotting\n"
   ]
  },
  {
   "cell_type": "code",
   "execution_count": 16,
   "metadata": {},
   "outputs": [
    {
     "data": {
      "image/png": "[encoded data removed]",
      "text/plain": [
       "<Figure size 720x432 with 1 Axes>"
      ]
     },
     "metadata": {
      "needs_background": "light"
     },
     "output_type": "display_data"
    }
   ],
   "source": [
    "fig, ax = plt.subplots(figsize=(10,6))\n",
    "\n",
    "sns.boxplot(hulu_runtime[\"runtimeMinutes\"])\n",
    "ax.set_title(\"Hulu Runtime Minutes per TV Show Boxplot\")\n",
    "ax.set_xlabel(\"Minutes\");"
   ]
  },
  {
   "cell_type": "markdown",
   "metadata": {},
   "source": [
    "We can see from the boxplot above that most of Hulu's TV shows last from 20 minutes to 55 minutes, with a median of 30 minutes."
   ]
  },
  {
   "cell_type": "code",
   "execution_count": 18,
   "metadata": {},
   "outputs": [
    {
     "data": {
      "image/png": "[encoded data removed]",
      "text/plain": [
       "<Figure size 720x432 with 1 Axes>"
      ]
     },
     "metadata": {
      "needs_background": "light"
     },
     "output_type": "display_data"
    }
   ],
   "source": [
    "fig, ax = plt.subplots(figsize=(10,6))\n",
    "\n",
    "plt.hist(hulu_runtime[\"runtimeMinutes\"], ec=\"black\", lw=0.5)\n",
    "ax.set_title(\"Hulu Runtime Minutes per TV Show Histogram\")\n",
    "ax.set_xlabel(\"Minutes\")\n",
    "ax.set_ylabel(\"Frequency\");"
   ]
  },
  {
   "cell_type": "markdown",
   "metadata": {},
   "source": [
    "From the histogram we can see that most of the TV shows last between 20 and 30 minutes, followed by 40 to 60 minutes.\n",
    "\n",
    "-------\n",
    "\n",
    "### 2. Disney+\n",
    "#### i. Import data"
   ]
  },
  {
   "cell_type": "code",
   "execution_count": 10,
   "metadata": {},
   "outputs": [],
   "source": [
    "disney = pd.read_pickle(\"Data_Hulu_Disney/disney_final_clean.pkl\")"
   ]
  },
  {
   "cell_type": "code",
   "execution_count": 11,
   "metadata": {},
   "outputs": [
    {
     "data": {
      "text/html": [
       "<div>\n",
       "<style scoped>\n",
       "    .dataframe tbody tr th:only-of-type {\n",
       "        vertical-align: middle;\n",
       "    }\n",
       "\n",
       "    .dataframe tbody tr th {\n",
       "        vertical-align: top;\n",
       "    }\n",
       "\n",
       "    .dataframe thead th {\n",
       "        text-align: right;\n",
       "    }\n",
       "</style>\n",
       "<table border=\"1\" class=\"dataframe\">\n",
       "  <thead>\n",
       "    <tr style=\"text-align: right;\">\n",
       "      <th></th>\n",
       "      <th>show</th>\n",
       "      <th>year</th>\n",
       "      <th>age</th>\n",
       "      <th>imdb_rating</th>\n",
       "      <th>imdb_id</th>\n",
       "      <th>titleType</th>\n",
       "      <th>primaryTitle</th>\n",
       "      <th>originalTitle</th>\n",
       "      <th>startYear</th>\n",
       "      <th>endYear</th>\n",
       "      <th>runtimeMinutes</th>\n",
       "      <th>genres</th>\n",
       "    </tr>\n",
       "  </thead>\n",
       "  <tbody>\n",
       "    <tr>\n",
       "      <th>0</th>\n",
       "      <td>The Mandalorian</td>\n",
       "      <td>2019</td>\n",
       "      <td>7.0</td>\n",
       "      <td>8.7</td>\n",
       "      <td>tt8111088</td>\n",
       "      <td>tvSeries</td>\n",
       "      <td>The Mandalorian</td>\n",
       "      <td>The Mandalorian</td>\n",
       "      <td>2019.0</td>\n",
       "      <td>2019.0</td>\n",
       "      <td>30.0</td>\n",
       "      <td>Action,Adventure,Sci-Fi</td>\n",
       "    </tr>\n",
       "    <tr>\n",
       "      <th>1</th>\n",
       "      <td>The Simpsons</td>\n",
       "      <td>1989</td>\n",
       "      <td>7.0</td>\n",
       "      <td>8.7</td>\n",
       "      <td>tt0096697</td>\n",
       "      <td>tvSeries</td>\n",
       "      <td>The Simpsons</td>\n",
       "      <td>The Simpsons</td>\n",
       "      <td>1989.0</td>\n",
       "      <td>1989.0</td>\n",
       "      <td>22.0</td>\n",
       "      <td>Animation,Comedy</td>\n",
       "    </tr>\n",
       "    <tr>\n",
       "      <th>2</th>\n",
       "      <td>Gravity Falls</td>\n",
       "      <td>2012</td>\n",
       "      <td>7.0</td>\n",
       "      <td>8.9</td>\n",
       "      <td>tt1865718</td>\n",
       "      <td>tvSeries</td>\n",
       "      <td>Gravity Falls</td>\n",
       "      <td>Gravity Falls</td>\n",
       "      <td>2012.0</td>\n",
       "      <td>2012.0</td>\n",
       "      <td>23.0</td>\n",
       "      <td>Action,Adventure,Animation</td>\n",
       "    </tr>\n",
       "    <tr>\n",
       "      <th>3</th>\n",
       "      <td>Star Wars: The Clone Wars</td>\n",
       "      <td>2008</td>\n",
       "      <td>7.0</td>\n",
       "      <td>8.2</td>\n",
       "      <td>tt0458290</td>\n",
       "      <td>tvSeries</td>\n",
       "      <td>Star Wars: The Clone Wars</td>\n",
       "      <td>Star Wars: The Clone Wars</td>\n",
       "      <td>2008.0</td>\n",
       "      <td>2008.0</td>\n",
       "      <td>23.0</td>\n",
       "      <td>Action,Adventure,Animation</td>\n",
       "    </tr>\n",
       "    <tr>\n",
       "      <th>4</th>\n",
       "      <td>DuckTales</td>\n",
       "      <td>2017</td>\n",
       "      <td>7.0</td>\n",
       "      <td>8.2</td>\n",
       "      <td>tt5531466</td>\n",
       "      <td>tvSeries</td>\n",
       "      <td>DuckTales</td>\n",
       "      <td>DuckTales</td>\n",
       "      <td>2017.0</td>\n",
       "      <td>2017.0</td>\n",
       "      <td>21.0</td>\n",
       "      <td>Action,Adventure,Animation</td>\n",
       "    </tr>\n",
       "  </tbody>\n",
       "</table>\n",
       "</div>"
      ],
      "text/plain": [
       "                        show  year  age  imdb_rating    imdb_id titleType  \\\n",
       "0            The Mandalorian  2019  7.0          8.7  tt8111088  tvSeries   \n",
       "1               The Simpsons  1989  7.0          8.7  tt0096697  tvSeries   \n",
       "2              Gravity Falls  2012  7.0          8.9  tt1865718  tvSeries   \n",
       "3  Star Wars: The Clone Wars  2008  7.0          8.2  tt0458290  tvSeries   \n",
       "4                  DuckTales  2017  7.0          8.2  tt5531466  tvSeries   \n",
       "\n",
       "                primaryTitle              originalTitle  startYear  endYear  \\\n",
       "0            The Mandalorian            The Mandalorian     2019.0   2019.0   \n",
       "1               The Simpsons               The Simpsons     1989.0   1989.0   \n",
       "2              Gravity Falls              Gravity Falls     2012.0   2012.0   \n",
       "3  Star Wars: The Clone Wars  Star Wars: The Clone Wars     2008.0   2008.0   \n",
       "4                  DuckTales                  DuckTales     2017.0   2017.0   \n",
       "\n",
       "   runtimeMinutes                      genres  \n",
       "0            30.0     Action,Adventure,Sci-Fi  \n",
       "1            22.0            Animation,Comedy  \n",
       "2            23.0  Action,Adventure,Animation  \n",
       "3            23.0  Action,Adventure,Animation  \n",
       "4            21.0  Action,Adventure,Animation  "
      ]
     },
     "execution_count": 11,
     "metadata": {},
     "output_type": "execute_result"
    }
   ],
   "source": [
    "disney.head()"
   ]
  },
  {
   "cell_type": "code",
   "execution_count": 12,
   "metadata": {},
   "outputs": [
    {
     "data": {
      "text/html": [
       "<div>\n",
       "<style scoped>\n",
       "    .dataframe tbody tr th:only-of-type {\n",
       "        vertical-align: middle;\n",
       "    }\n",
       "\n",
       "    .dataframe tbody tr th {\n",
       "        vertical-align: top;\n",
       "    }\n",
       "\n",
       "    .dataframe thead th {\n",
       "        text-align: right;\n",
       "    }\n",
       "</style>\n",
       "<table border=\"1\" class=\"dataframe\">\n",
       "  <thead>\n",
       "    <tr style=\"text-align: right;\">\n",
       "      <th></th>\n",
       "      <th>show</th>\n",
       "      <th>runtimeMinutes</th>\n",
       "    </tr>\n",
       "  </thead>\n",
       "  <tbody>\n",
       "    <tr>\n",
       "      <th>0</th>\n",
       "      <td>The Mandalorian</td>\n",
       "      <td>30.0</td>\n",
       "    </tr>\n",
       "    <tr>\n",
       "      <th>1</th>\n",
       "      <td>The Simpsons</td>\n",
       "      <td>22.0</td>\n",
       "    </tr>\n",
       "    <tr>\n",
       "      <th>2</th>\n",
       "      <td>Gravity Falls</td>\n",
       "      <td>23.0</td>\n",
       "    </tr>\n",
       "    <tr>\n",
       "      <th>3</th>\n",
       "      <td>Star Wars: The Clone Wars</td>\n",
       "      <td>23.0</td>\n",
       "    </tr>\n",
       "    <tr>\n",
       "      <th>4</th>\n",
       "      <td>DuckTales</td>\n",
       "      <td>21.0</td>\n",
       "    </tr>\n",
       "  </tbody>\n",
       "</table>\n",
       "</div>"
      ],
      "text/plain": [
       "                        show  runtimeMinutes\n",
       "0            The Mandalorian            30.0\n",
       "1               The Simpsons            22.0\n",
       "2              Gravity Falls            23.0\n",
       "3  Star Wars: The Clone Wars            23.0\n",
       "4                  DuckTales            21.0"
      ]
     },
     "execution_count": 12,
     "metadata": {},
     "output_type": "execute_result"
    }
   ],
   "source": [
    "disney_runtime = disney[disney[\"runtimeMinutes\"] <= 100][[\"show\", \"runtimeMinutes\"]].reset_index(drop=True)\n",
    "\n",
    "disney_runtime = disney_runtime[~disney_runtime[\"runtimeMinutes\"].isna()].reset_index(drop=True)\n",
    "\n",
    "disney_runtime.head()"
   ]
  },
  {
   "cell_type": "code",
   "execution_count": 13,
   "metadata": {},
   "outputs": [
    {
     "data": {
      "text/plain": [
       "0.8421052631578947"
      ]
     },
     "execution_count": 13,
     "metadata": {},
     "output_type": "execute_result"
    }
   ],
   "source": [
    "len(disney_runtime) / len(disney)"
   ]
  },
  {
   "cell_type": "markdown",
   "metadata": {},
   "source": [
    "We will be working with 84% of our data.\n",
    "\n",
    "#### ii. Descriptive Statistics"
   ]
  },
  {
   "cell_type": "code",
   "execution_count": 15,
   "metadata": {},
   "outputs": [
    {
     "data": {
      "text/plain": [
       "count    128.000000\n",
       "mean      28.046875\n",
       "std        9.877087\n",
       "min        4.000000\n",
       "25%       22.000000\n",
       "50%       25.000000\n",
       "75%       30.000000\n",
       "max       60.000000\n",
       "Name: runtimeMinutes, dtype: float64"
      ]
     },
     "execution_count": 15,
     "metadata": {},
     "output_type": "execute_result"
    }
   ],
   "source": [
    "disney_runtime[\"runtimeMinutes\"].describe()"
   ]
  },
  {
   "cell_type": "markdown",
   "metadata": {},
   "source": [
    "From the descriptive statistics we can see the following:\n",
    "\n",
    "- The tv shows provided by disney+ last in average 28 minutes per episode.\n",
    "- 25% of the tv shows last 22 minutes or less.\n",
    "- 50% of the tv shows last 25 minutes or more.\n",
    "- 25% of the tv shows last 30 minutes or more.\n",
    "- The minimum is of 4 minutes and the highest is of 60 minutes.\n",
    "\n",
    "#### ii. Plotting\n"
   ]
  },
  {
   "cell_type": "code",
   "execution_count": 17,
   "metadata": {},
   "outputs": [
    {
     "data": {
      "image/png": "[encoded data removed]",
      "text/plain": [
       "<Figure size 720x432 with 1 Axes>"
      ]
     },
     "metadata": {
      "needs_background": "light"
     },
     "output_type": "display_data"
    }
   ],
   "source": [
    "fig, ax = plt.subplots(figsize=(10,6))\n",
    "\n",
    "sns.boxplot(disney_runtime[\"runtimeMinutes\"])\n",
    "ax.set_title(\"Disney+ Runtime Minutes per TV Show Boxplot\")\n",
    "ax.set_xlabel(\"Minutes\");"
   ]
  },
  {
   "cell_type": "markdown",
   "metadata": {},
   "source": [
    "We can see from the boxplot above that most of Disney+'s TV shows last from 20 minutes to 30 minutes, with a median of 25 minutes. There are some outliers with less tahn 10 minutes and more than 43 minutes."
   ]
  },
  {
   "cell_type": "code",
   "execution_count": 19,
   "metadata": {},
   "outputs": [
    {
     "data": {
      "image/png": "[encoded data removed]",
      "text/plain": [
       "<Figure size 720x432 with 1 Axes>"
      ]
     },
     "metadata": {
      "needs_background": "light"
     },
     "output_type": "display_data"
    }
   ],
   "source": [
    "fig, ax = plt.subplots(figsize=(10,6))\n",
    "\n",
    "plt.hist(disney_runtime[\"runtimeMinutes\"], ec=\"black\", lw=0.5)\n",
    "ax.set_title(\"Disney+ Runtime Minutes per TV Show Histogram\")\n",
    "ax.set_xlabel(\"Minutes\")\n",
    "ax.set_ylabel(\"Frequency\");"
   ]
  },
  {
   "cell_type": "markdown",
   "metadata": {},
   "source": [
    "From the histogram we can see that most of the TV shows last between 20 and 30 minutes, having very few shows that last longer or smaller than that.\n",
    "\n",
    "### 3. Comparison\n",
    "\n",
    "#### i. Import data"
   ]
  },
  {
   "cell_type": "code",
   "execution_count": 20,
   "metadata": {},
   "outputs": [],
   "source": [
    "runtime_minutes = pd.read_pickle(\"../Data/runtime_minutes.pkl\")"
   ]
  },
  {
   "cell_type": "code",
   "execution_count": 21,
   "metadata": {},
   "outputs": [
    {
     "data": {
      "text/html": [
       "<div>\n",
       "<style scoped>\n",
       "    .dataframe tbody tr th:only-of-type {\n",
       "        vertical-align: middle;\n",
       "    }\n",
       "\n",
       "    .dataframe tbody tr th {\n",
       "        vertical-align: top;\n",
       "    }\n",
       "\n",
       "    .dataframe thead th {\n",
       "        text-align: right;\n",
       "    }\n",
       "</style>\n",
       "<table border=\"1\" class=\"dataframe\">\n",
       "  <thead>\n",
       "    <tr style=\"text-align: right;\">\n",
       "      <th></th>\n",
       "      <th>minutes_range</th>\n",
       "      <th>frequency</th>\n",
       "      <th>normalize</th>\n",
       "      <th>streaming_service</th>\n",
       "    </tr>\n",
       "  </thead>\n",
       "  <tbody>\n",
       "    <tr>\n",
       "      <th>0</th>\n",
       "      <td>(0, 5]</td>\n",
       "      <td>4</td>\n",
       "      <td>0.34</td>\n",
       "      <td>Netflix</td>\n",
       "    </tr>\n",
       "    <tr>\n",
       "      <th>1</th>\n",
       "      <td>(5, 10]</td>\n",
       "      <td>16</td>\n",
       "      <td>1.35</td>\n",
       "      <td>Netflix</td>\n",
       "    </tr>\n",
       "    <tr>\n",
       "      <th>2</th>\n",
       "      <td>(10, 15]</td>\n",
       "      <td>30</td>\n",
       "      <td>2.54</td>\n",
       "      <td>Netflix</td>\n",
       "    </tr>\n",
       "    <tr>\n",
       "      <th>3</th>\n",
       "      <td>(15, 20]</td>\n",
       "      <td>12</td>\n",
       "      <td>1.01</td>\n",
       "      <td>Netflix</td>\n",
       "    </tr>\n",
       "    <tr>\n",
       "      <th>4</th>\n",
       "      <td>(20, 25]</td>\n",
       "      <td>221</td>\n",
       "      <td>18.68</td>\n",
       "      <td>Netflix</td>\n",
       "    </tr>\n",
       "  </tbody>\n",
       "</table>\n",
       "</div>"
      ],
      "text/plain": [
       "  minutes_range  frequency  normalize streaming_service\n",
       "0        (0, 5]          4       0.34           Netflix\n",
       "1       (5, 10]         16       1.35           Netflix\n",
       "2      (10, 15]         30       2.54           Netflix\n",
       "3      (15, 20]         12       1.01           Netflix\n",
       "4      (20, 25]        221      18.68           Netflix"
      ]
     },
     "execution_count": 21,
     "metadata": {},
     "output_type": "execute_result"
    }
   ],
   "source": [
    "runtime_minutes.head()"
   ]
  },
  {
   "cell_type": "markdown",
   "metadata": {},
   "source": [
    "#### ii. Normalize data"
   ]
  },
  {
   "cell_type": "code",
   "execution_count": 23,
   "metadata": {},
   "outputs": [
    {
     "data": {
      "text/html": [
       "<div>\n",
       "<style scoped>\n",
       "    .dataframe tbody tr th:only-of-type {\n",
       "        vertical-align: middle;\n",
       "    }\n",
       "\n",
       "    .dataframe tbody tr th {\n",
       "        vertical-align: top;\n",
       "    }\n",
       "\n",
       "    .dataframe thead th {\n",
       "        text-align: right;\n",
       "    }\n",
       "</style>\n",
       "<table border=\"1\" class=\"dataframe\">\n",
       "  <thead>\n",
       "    <tr style=\"text-align: right;\">\n",
       "      <th></th>\n",
       "      <th>minutes_range</th>\n",
       "      <th>frequency</th>\n",
       "      <th>normalize</th>\n",
       "      <th>streaming_service</th>\n",
       "    </tr>\n",
       "  </thead>\n",
       "  <tbody>\n",
       "    <tr>\n",
       "      <th>0</th>\n",
       "      <td>(0, 5]</td>\n",
       "      <td>9</td>\n",
       "      <td>0.77</td>\n",
       "      <td>Hulu</td>\n",
       "    </tr>\n",
       "    <tr>\n",
       "      <th>1</th>\n",
       "      <td>(5, 10]</td>\n",
       "      <td>15</td>\n",
       "      <td>1.28</td>\n",
       "      <td>Hulu</td>\n",
       "    </tr>\n",
       "    <tr>\n",
       "      <th>2</th>\n",
       "      <td>(10, 15]</td>\n",
       "      <td>40</td>\n",
       "      <td>3.42</td>\n",
       "      <td>Hulu</td>\n",
       "    </tr>\n",
       "    <tr>\n",
       "      <th>3</th>\n",
       "      <td>(15, 20]</td>\n",
       "      <td>8</td>\n",
       "      <td>0.68</td>\n",
       "      <td>Hulu</td>\n",
       "    </tr>\n",
       "    <tr>\n",
       "      <th>4</th>\n",
       "      <td>(20, 25]</td>\n",
       "      <td>305</td>\n",
       "      <td>26.11</td>\n",
       "      <td>Hulu</td>\n",
       "    </tr>\n",
       "  </tbody>\n",
       "</table>\n",
       "</div>"
      ],
      "text/plain": [
       "  minutes_range  frequency  normalize streaming_service\n",
       "0        (0, 5]          9       0.77              Hulu\n",
       "1       (5, 10]         15       1.28              Hulu\n",
       "2      (10, 15]         40       3.42              Hulu\n",
       "3      (15, 20]          8       0.68              Hulu\n",
       "4      (20, 25]        305      26.11              Hulu"
      ]
     },
     "execution_count": 23,
     "metadata": {},
     "output_type": "execute_result"
    }
   ],
   "source": [
    "hulu_runtime[\"minutes_range\"] = pd.cut(hulu_runtime[\"runtimeMinutes\"], bins=[i for i in range(0,105,5)])\n",
    "\n",
    "hulu_runtime_range = (hulu_runtime.groupby(\"minutes_range\")\n",
    "                         .agg({\"show\":\"count\"})\n",
    "                         .reset_index()\n",
    "                         .rename(columns={\"show\":\"frequency\"}))\n",
    "\n",
    "hulu_runtime_range[\"normalize\"] = round(((hulu_runtime_range[\"frequency\"] / hulu_runtime_range[\"frequency\"].sum()) * 100)\n",
    "                                         , 2)\n",
    "\n",
    "hulu_runtime_range[\"streaming_service\"] = \"Hulu\"\n",
    "\n",
    "hulu_runtime_range.head()"
   ]
  },
  {
   "cell_type": "code",
   "execution_count": 24,
   "metadata": {},
   "outputs": [
    {
     "data": {
      "text/html": [
       "<div>\n",
       "<style scoped>\n",
       "    .dataframe tbody tr th:only-of-type {\n",
       "        vertical-align: middle;\n",
       "    }\n",
       "\n",
       "    .dataframe tbody tr th {\n",
       "        vertical-align: top;\n",
       "    }\n",
       "\n",
       "    .dataframe thead th {\n",
       "        text-align: right;\n",
       "    }\n",
       "</style>\n",
       "<table border=\"1\" class=\"dataframe\">\n",
       "  <thead>\n",
       "    <tr style=\"text-align: right;\">\n",
       "      <th></th>\n",
       "      <th>minutes_range</th>\n",
       "      <th>frequency</th>\n",
       "      <th>normalize</th>\n",
       "      <th>streaming_service</th>\n",
       "    </tr>\n",
       "  </thead>\n",
       "  <tbody>\n",
       "    <tr>\n",
       "      <th>0</th>\n",
       "      <td>(0, 5]</td>\n",
       "      <td>2</td>\n",
       "      <td>1.56</td>\n",
       "      <td>Disney</td>\n",
       "    </tr>\n",
       "    <tr>\n",
       "      <th>1</th>\n",
       "      <td>(5, 10]</td>\n",
       "      <td>0</td>\n",
       "      <td>0.00</td>\n",
       "      <td>Disney</td>\n",
       "    </tr>\n",
       "    <tr>\n",
       "      <th>2</th>\n",
       "      <td>(10, 15]</td>\n",
       "      <td>5</td>\n",
       "      <td>3.91</td>\n",
       "      <td>Disney</td>\n",
       "    </tr>\n",
       "    <tr>\n",
       "      <th>3</th>\n",
       "      <td>(15, 20]</td>\n",
       "      <td>1</td>\n",
       "      <td>0.78</td>\n",
       "      <td>Disney</td>\n",
       "    </tr>\n",
       "    <tr>\n",
       "      <th>4</th>\n",
       "      <td>(20, 25]</td>\n",
       "      <td>57</td>\n",
       "      <td>44.53</td>\n",
       "      <td>Disney</td>\n",
       "    </tr>\n",
       "  </tbody>\n",
       "</table>\n",
       "</div>"
      ],
      "text/plain": [
       "  minutes_range  frequency  normalize streaming_service\n",
       "0        (0, 5]          2       1.56            Disney\n",
       "1       (5, 10]          0       0.00            Disney\n",
       "2      (10, 15]          5       3.91            Disney\n",
       "3      (15, 20]          1       0.78            Disney\n",
       "4      (20, 25]         57      44.53            Disney"
      ]
     },
     "execution_count": 24,
     "metadata": {},
     "output_type": "execute_result"
    }
   ],
   "source": [
    "disney_runtime[\"minutes_range\"] = pd.cut(disney_runtime[\"runtimeMinutes\"], bins=[i for i in range(0,105,5)])\n",
    "\n",
    "disney_runtime_range = (disney_runtime.groupby(\"minutes_range\")\n",
    "                         .agg({\"show\":\"count\"})\n",
    "                         .reset_index()\n",
    "                         .rename(columns={\"show\":\"frequency\"}))\n",
    "\n",
    "disney_runtime_range[\"normalize\"] = round(((disney_runtime_range[\"frequency\"] / disney_runtime_range[\"frequency\"].sum()) * 100)\n",
    "                                         , 2)\n",
    "\n",
    "disney_runtime_range[\"streaming_service\"] = \"Disney\"\n",
    "\n",
    "disney_runtime_range.head()"
   ]
  },
  {
   "cell_type": "markdown",
   "metadata": {},
   "source": [
    "#### iii. Combine data frames"
   ]
  },
  {
   "cell_type": "code",
   "execution_count": 25,
   "metadata": {},
   "outputs": [
    {
     "data": {
      "text/html": [
       "<div>\n",
       "<style scoped>\n",
       "    .dataframe tbody tr th:only-of-type {\n",
       "        vertical-align: middle;\n",
       "    }\n",
       "\n",
       "    .dataframe tbody tr th {\n",
       "        vertical-align: top;\n",
       "    }\n",
       "\n",
       "    .dataframe thead th {\n",
       "        text-align: right;\n",
       "    }\n",
       "</style>\n",
       "<table border=\"1\" class=\"dataframe\">\n",
       "  <thead>\n",
       "    <tr style=\"text-align: right;\">\n",
       "      <th></th>\n",
       "      <th>minutes_range</th>\n",
       "      <th>frequency</th>\n",
       "      <th>normalize</th>\n",
       "      <th>streaming_service</th>\n",
       "    </tr>\n",
       "  </thead>\n",
       "  <tbody>\n",
       "    <tr>\n",
       "      <th>0</th>\n",
       "      <td>(0, 5]</td>\n",
       "      <td>4</td>\n",
       "      <td>0.34</td>\n",
       "      <td>Netflix</td>\n",
       "    </tr>\n",
       "    <tr>\n",
       "      <th>1</th>\n",
       "      <td>(5, 10]</td>\n",
       "      <td>16</td>\n",
       "      <td>1.35</td>\n",
       "      <td>Netflix</td>\n",
       "    </tr>\n",
       "    <tr>\n",
       "      <th>2</th>\n",
       "      <td>(10, 15]</td>\n",
       "      <td>30</td>\n",
       "      <td>2.54</td>\n",
       "      <td>Netflix</td>\n",
       "    </tr>\n",
       "    <tr>\n",
       "      <th>3</th>\n",
       "      <td>(15, 20]</td>\n",
       "      <td>12</td>\n",
       "      <td>1.01</td>\n",
       "      <td>Netflix</td>\n",
       "    </tr>\n",
       "    <tr>\n",
       "      <th>4</th>\n",
       "      <td>(20, 25]</td>\n",
       "      <td>221</td>\n",
       "      <td>18.68</td>\n",
       "      <td>Netflix</td>\n",
       "    </tr>\n",
       "    <tr>\n",
       "      <th>...</th>\n",
       "      <td>...</td>\n",
       "      <td>...</td>\n",
       "      <td>...</td>\n",
       "      <td>...</td>\n",
       "    </tr>\n",
       "    <tr>\n",
       "      <th>95</th>\n",
       "      <td>(75, 80]</td>\n",
       "      <td>0</td>\n",
       "      <td>0.00</td>\n",
       "      <td>Disney</td>\n",
       "    </tr>\n",
       "    <tr>\n",
       "      <th>96</th>\n",
       "      <td>(80, 85]</td>\n",
       "      <td>0</td>\n",
       "      <td>0.00</td>\n",
       "      <td>Disney</td>\n",
       "    </tr>\n",
       "    <tr>\n",
       "      <th>97</th>\n",
       "      <td>(85, 90]</td>\n",
       "      <td>0</td>\n",
       "      <td>0.00</td>\n",
       "      <td>Disney</td>\n",
       "    </tr>\n",
       "    <tr>\n",
       "      <th>98</th>\n",
       "      <td>(90, 95]</td>\n",
       "      <td>0</td>\n",
       "      <td>0.00</td>\n",
       "      <td>Disney</td>\n",
       "    </tr>\n",
       "    <tr>\n",
       "      <th>99</th>\n",
       "      <td>(95, 100]</td>\n",
       "      <td>0</td>\n",
       "      <td>0.00</td>\n",
       "      <td>Disney</td>\n",
       "    </tr>\n",
       "  </tbody>\n",
       "</table>\n",
       "<p>100 rows × 4 columns</p>\n",
       "</div>"
      ],
      "text/plain": [
       "   minutes_range  frequency  normalize streaming_service\n",
       "0         (0, 5]          4       0.34           Netflix\n",
       "1        (5, 10]         16       1.35           Netflix\n",
       "2       (10, 15]         30       2.54           Netflix\n",
       "3       (15, 20]         12       1.01           Netflix\n",
       "4       (20, 25]        221      18.68           Netflix\n",
       "..           ...        ...        ...               ...\n",
       "95      (75, 80]          0       0.00            Disney\n",
       "96      (80, 85]          0       0.00            Disney\n",
       "97      (85, 90]          0       0.00            Disney\n",
       "98      (90, 95]          0       0.00            Disney\n",
       "99     (95, 100]          0       0.00            Disney\n",
       "\n",
       "[100 rows x 4 columns]"
      ]
     },
     "execution_count": 25,
     "metadata": {},
     "output_type": "execute_result"
    }
   ],
   "source": [
    "runtime_minutes = runtime_minutes.append(hulu_runtime_range).append(disney_runtime_range).reset_index(drop=True)\n",
    "\n",
    "runtime_minutes"
   ]
  },
  {
   "cell_type": "markdown",
   "metadata": {},
   "source": [
    "#### iv. Plotting"
   ]
  },
  {
   "cell_type": "code",
   "execution_count": 26,
   "metadata": {},
   "outputs": [
    {
     "data": {
      "image/png": "[encoded data removed]",
      "text/plain": [
       "<Figure size 720x432 with 1 Axes>"
      ]
     },
     "metadata": {
      "needs_background": "light"
     },
     "output_type": "display_data"
    }
   ],
   "source": [
    "fig, ax = plt.subplots(figsize=(10,6))\n",
    "\n",
    "sns.barplot(x=runtime_minutes[\"minutes_range\"]\n",
    "            , y=runtime_minutes[\"normalize\"]\n",
    "            , hue=runtime_minutes[\"streaming_service\"]\n",
    "            , palette=\"Blues\"\n",
    "           , ci=None)\n",
    "\n",
    "ax.set_xlabel(\"Minutes\")\n",
    "ax.set_ylabel(\"Percentage\")\n",
    "ax.set_title(\"TV Shows' Runtime Minutes\")\n",
    "\n",
    "labels = [i for i in range(0,105, 5)]\n",
    "ax.set_xticklabels(labels)\n",
    "\n",
    "plt.legend(title=\"Streaming Service\");"
   ]
  },
  {
   "cell_type": "markdown",
   "metadata": {},
   "source": [
    "- Fromt the histogram above we can see that HBO has most TV shows that last from 25 to 30 minutes, as well as TV shows that last 50 to 60 minutes.\n",
    "\n",
    "- Disney has the most TV shows that last between 20-25 minutes, and it is second to HBO for TV shows that last between 25-30 minutes.\n",
    "\n",
    "- Most TV shows last from 20 to 30 minutes and from 40 to 55 minutes in general.\n",
    "\n",
    "- Very few TV shows last more than 60 minutes or less than 20 minutes.\n",
    "\n",
    "- Netflix, Hulu and Amazon seem to have very similar distributions of runtime minutes."
   ]
  },
  {
   "cell_type": "code",
   "execution_count": null,
   "metadata": {},
   "outputs": [],
   "source": []
  }
 ],
 "metadata": {
  "kernelspec": {
   "display_name": "Python 3",
   "language": "python",
   "name": "python3"
  },
  "language_info": {
   "codemirror_mode": {
    "name": "ipython",
    "version": 3
   },
   "file_extension": ".py",
   "mimetype": "text/x-python",
   "name": "python",
   "nbconvert_exporter": "python",
   "pygments_lexer": "ipython3",
   "version": "3.7.6"
  }
 },
 "nbformat": 4,
 "nbformat_minor": 4
}
