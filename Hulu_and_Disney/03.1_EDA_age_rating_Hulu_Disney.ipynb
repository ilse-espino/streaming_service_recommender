{
 "cells": [
  {
   "cell_type": "code",
   "execution_count": 1,
   "metadata": {},
   "outputs": [],
   "source": [
    "import pandas as pd\n",
    "import numpy as np\n",
    "import matplotlib.pyplot as plt\n",
    "import seaborn as sns\n",
    "%matplotlib inline\n",
    "\n",
    "pd.set_option(\"display.max_columns\", None)"
   ]
  },
  {
   "cell_type": "markdown",
   "metadata": {},
   "source": [
    "## EDA Age Rating\n",
    "\n",
    "#### Goals\n",
    "\n",
    "- Get descriptive statistics for age ratings for each streaming service.\n",
    "\n",
    "- Plot data.\n",
    "\n",
    "- Compare findings.\n",
    "\n",
    "-----\n",
    "\n",
    "### 1. Hulu\n",
    "#### i. Import data"
   ]
  },
  {
   "cell_type": "code",
   "execution_count": 2,
   "metadata": {},
   "outputs": [],
   "source": [
    "hulu = pd.read_pickle(\"Data_Hulu_Disney/hulu_final_clean.pkl\")"
   ]
  },
  {
   "cell_type": "code",
   "execution_count": 3,
   "metadata": {},
   "outputs": [
    {
     "data": {
      "text/html": [
       "<div>\n",
       "<style scoped>\n",
       "    .dataframe tbody tr th:only-of-type {\n",
       "        vertical-align: middle;\n",
       "    }\n",
       "\n",
       "    .dataframe tbody tr th {\n",
       "        vertical-align: top;\n",
       "    }\n",
       "\n",
       "    .dataframe thead th {\n",
       "        text-align: right;\n",
       "    }\n",
       "</style>\n",
       "<table border=\"1\" class=\"dataframe\">\n",
       "  <thead>\n",
       "    <tr style=\"text-align: right;\">\n",
       "      <th></th>\n",
       "      <th>show</th>\n",
       "      <th>year</th>\n",
       "      <th>age</th>\n",
       "      <th>imdb_rating</th>\n",
       "      <th>imdb_id</th>\n",
       "      <th>titleType</th>\n",
       "      <th>primaryTitle</th>\n",
       "      <th>originalTitle</th>\n",
       "      <th>startYear</th>\n",
       "      <th>endYear</th>\n",
       "      <th>runtimeMinutes</th>\n",
       "      <th>genres</th>\n",
       "    </tr>\n",
       "  </thead>\n",
       "  <tbody>\n",
       "    <tr>\n",
       "      <th>0</th>\n",
       "      <td>Rick and Morty</td>\n",
       "      <td>2013</td>\n",
       "      <td>18.0</td>\n",
       "      <td>9.2</td>\n",
       "      <td>tt2861424</td>\n",
       "      <td>tvSeries</td>\n",
       "      <td>Rick and Morty</td>\n",
       "      <td>Rick and Morty</td>\n",
       "      <td>2013.0</td>\n",
       "      <td>2013.0</td>\n",
       "      <td>23.0</td>\n",
       "      <td>Adventure,Animation,Comedy</td>\n",
       "    </tr>\n",
       "    <tr>\n",
       "      <th>1</th>\n",
       "      <td>Fargo</td>\n",
       "      <td>2014</td>\n",
       "      <td>18.0</td>\n",
       "      <td>8.9</td>\n",
       "      <td>tt2802850</td>\n",
       "      <td>tvSeries</td>\n",
       "      <td>Fargo</td>\n",
       "      <td>Fargo</td>\n",
       "      <td>2014.0</td>\n",
       "      <td>2014.0</td>\n",
       "      <td>53.0</td>\n",
       "      <td>Crime,Drama,Thriller</td>\n",
       "    </tr>\n",
       "    <tr>\n",
       "      <th>2</th>\n",
       "      <td>Vikings</td>\n",
       "      <td>2013</td>\n",
       "      <td>18.0</td>\n",
       "      <td>8.5</td>\n",
       "      <td>tt2306299</td>\n",
       "      <td>tvSeries</td>\n",
       "      <td>Vikings</td>\n",
       "      <td>Vikings</td>\n",
       "      <td>2013.0</td>\n",
       "      <td>2013.0</td>\n",
       "      <td>44.0</td>\n",
       "      <td>Action,Adventure,Drama</td>\n",
       "    </tr>\n",
       "    <tr>\n",
       "      <th>3</th>\n",
       "      <td>Brooklyn Nine-Nine</td>\n",
       "      <td>2013</td>\n",
       "      <td>16.0</td>\n",
       "      <td>8.4</td>\n",
       "      <td>tt2467372</td>\n",
       "      <td>tvSeries</td>\n",
       "      <td>Brooklyn Nine-Nine</td>\n",
       "      <td>Brooklyn Nine-Nine</td>\n",
       "      <td>2013.0</td>\n",
       "      <td>2013.0</td>\n",
       "      <td>22.0</td>\n",
       "      <td>Comedy,Crime</td>\n",
       "    </tr>\n",
       "    <tr>\n",
       "      <th>4</th>\n",
       "      <td>Community</td>\n",
       "      <td>2009</td>\n",
       "      <td>7.0</td>\n",
       "      <td>8.5</td>\n",
       "      <td>tt1439629</td>\n",
       "      <td>tvSeries</td>\n",
       "      <td>Community</td>\n",
       "      <td>Community</td>\n",
       "      <td>2009.0</td>\n",
       "      <td>2009.0</td>\n",
       "      <td>22.0</td>\n",
       "      <td>Comedy</td>\n",
       "    </tr>\n",
       "  </tbody>\n",
       "</table>\n",
       "</div>"
      ],
      "text/plain": [
       "                 show  year   age  imdb_rating    imdb_id titleType  \\\n",
       "0      Rick and Morty  2013  18.0          9.2  tt2861424  tvSeries   \n",
       "1               Fargo  2014  18.0          8.9  tt2802850  tvSeries   \n",
       "2             Vikings  2013  18.0          8.5  tt2306299  tvSeries   \n",
       "3  Brooklyn Nine-Nine  2013  16.0          8.4  tt2467372  tvSeries   \n",
       "4           Community  2009   7.0          8.5  tt1439629  tvSeries   \n",
       "\n",
       "         primaryTitle       originalTitle  startYear  endYear  runtimeMinutes  \\\n",
       "0      Rick and Morty      Rick and Morty     2013.0   2013.0            23.0   \n",
       "1               Fargo               Fargo     2014.0   2014.0            53.0   \n",
       "2             Vikings             Vikings     2013.0   2013.0            44.0   \n",
       "3  Brooklyn Nine-Nine  Brooklyn Nine-Nine     2013.0   2013.0            22.0   \n",
       "4           Community           Community     2009.0   2009.0            22.0   \n",
       "\n",
       "                       genres  \n",
       "0  Adventure,Animation,Comedy  \n",
       "1        Crime,Drama,Thriller  \n",
       "2      Action,Adventure,Drama  \n",
       "3                Comedy,Crime  \n",
       "4                      Comedy  "
      ]
     },
     "execution_count": 3,
     "metadata": {},
     "output_type": "execute_result"
    }
   ],
   "source": [
    "hulu.head()"
   ]
  },
  {
   "cell_type": "code",
   "execution_count": 4,
   "metadata": {},
   "outputs": [
    {
     "data": {
      "text/plain": [
       "332"
      ]
     },
     "execution_count": 4,
     "metadata": {},
     "output_type": "execute_result"
    }
   ],
   "source": [
    "hulu[\"age\"].isna().sum()"
   ]
  },
  {
   "cell_type": "code",
   "execution_count": 5,
   "metadata": {},
   "outputs": [
    {
     "data": {
      "text/plain": [
       "0.7735334242837654"
      ]
     },
     "execution_count": 5,
     "metadata": {},
     "output_type": "execute_result"
    }
   ],
   "source": [
    "1 - (hulu[\"age\"].isna().sum() / len(hulu))"
   ]
  },
  {
   "cell_type": "markdown",
   "metadata": {},
   "source": [
    "**NOTE : We have 332 null values for the ratings column, meaning that we are using just 77% of the values for this analysis.**\n"
   ]
  },
  {
   "cell_type": "code",
   "execution_count": 6,
   "metadata": {},
   "outputs": [],
   "source": [
    "hulu = hulu[~hulu[\"age\"].isna()]"
   ]
  },
  {
   "cell_type": "markdown",
   "metadata": {},
   "source": [
    "#### ii. Descriptive Statistics"
   ]
  },
  {
   "cell_type": "code",
   "execution_count": 7,
   "metadata": {},
   "outputs": [
    {
     "data": {
      "text/plain": [
       "count    1134.000000\n",
       "mean       11.970018\n",
       "std         6.072450\n",
       "min         0.000000\n",
       "25%         7.000000\n",
       "50%        16.000000\n",
       "75%        16.000000\n",
       "max        18.000000\n",
       "Name: age, dtype: float64"
      ]
     },
     "execution_count": 7,
     "metadata": {},
     "output_type": "execute_result"
    }
   ],
   "source": [
    "hulu[\"age\"].describe()"
   ]
  },
  {
   "cell_type": "markdown",
   "metadata": {},
   "source": [
    "From the descriptive statistics we can see the following:\n",
    "\n",
    "- One quarter of the tv shows are for 7 years or younger.\n",
    "- Half of the tv shows are for 16 years or older."
   ]
  },
  {
   "cell_type": "markdown",
   "metadata": {},
   "source": [
    "#### iii. Plotting"
   ]
  },
  {
   "cell_type": "code",
   "execution_count": 8,
   "metadata": {},
   "outputs": [
    {
     "data": {
      "image/png": "[encoded data removed]",
      "text/plain": [
       "<Figure size 720x432 with 1 Axes>"
      ]
     },
     "metadata": {
      "needs_background": "light"
     },
     "output_type": "display_data"
    }
   ],
   "source": [
    "fig, ax = plt.subplots(figsize=(10,6))\n",
    "\n",
    "sns.boxplot(hulu[\"age\"])\n",
    "ax.set_title(\"Hulu Age Ratings Boxplot\")\n",
    "ax.set_xlabel(\"Age\");"
   ]
  },
  {
   "cell_type": "markdown",
   "metadata": {},
   "source": [
    "From the box plot we can clearly see how most of the tv shows are distributed from 7 years or older to 16 years or older.\n",
    "\n",
    "We will create a new column specifying the audience:\n",
    "\n",
    "- 0-7 years: Children\n",
    "- 7-16 years: Teen\n",
    "- 18 years: Adult"
   ]
  },
  {
   "cell_type": "code",
   "execution_count": 9,
   "metadata": {},
   "outputs": [],
   "source": [
    "hulu[\"audience\"] = np.where(hulu[\"age\"] <= 12, \"Children\", np.where(hulu[\"age\"] < 18, \"Teen\", \"Adult\"))"
   ]
  },
  {
   "cell_type": "code",
   "execution_count": 10,
   "metadata": {},
   "outputs": [
    {
     "data": {
      "image/png": "[encoded data removed]",
      "text/plain": [
       "<Figure size 720x432 with 1 Axes>"
      ]
     },
     "metadata": {
      "needs_background": "light"
     },
     "output_type": "display_data"
    }
   ],
   "source": [
    "fig, ax = plt.subplots(figsize=(10,6))\n",
    "\n",
    "plt.hist(hulu[\"audience\"])\n",
    "ax.set_title(\"Hulu Age Ratings Histogram\")\n",
    "ax.set_xlabel(\"Audience\")\n",
    "ax.set_ylabel(\"Frequency\");"
   ]
  },
  {
   "cell_type": "markdown",
   "metadata": {},
   "source": [
    "From the histogram above, we can see, as stated before, that most of the tv shows are for Teens and Children, having aroung 480 TV shows each. Adult coming at last with arounf 210 TV shows."
   ]
  },
  {
   "cell_type": "markdown",
   "metadata": {},
   "source": [
    "-----\n",
    "\n",
    "### 2. Disney+\n",
    "#### i. Import data"
   ]
  },
  {
   "cell_type": "code",
   "execution_count": 11,
   "metadata": {},
   "outputs": [],
   "source": [
    "disney = pd.read_pickle(\"Data_Hulu_Disney/disney_final_clean.pkl\")"
   ]
  },
  {
   "cell_type": "code",
   "execution_count": 12,
   "metadata": {},
   "outputs": [
    {
     "data": {
      "text/html": [
       "<div>\n",
       "<style scoped>\n",
       "    .dataframe tbody tr th:only-of-type {\n",
       "        vertical-align: middle;\n",
       "    }\n",
       "\n",
       "    .dataframe tbody tr th {\n",
       "        vertical-align: top;\n",
       "    }\n",
       "\n",
       "    .dataframe thead th {\n",
       "        text-align: right;\n",
       "    }\n",
       "</style>\n",
       "<table border=\"1\" class=\"dataframe\">\n",
       "  <thead>\n",
       "    <tr style=\"text-align: right;\">\n",
       "      <th></th>\n",
       "      <th>show</th>\n",
       "      <th>year</th>\n",
       "      <th>age</th>\n",
       "      <th>imdb_rating</th>\n",
       "      <th>imdb_id</th>\n",
       "      <th>titleType</th>\n",
       "      <th>primaryTitle</th>\n",
       "      <th>originalTitle</th>\n",
       "      <th>startYear</th>\n",
       "      <th>endYear</th>\n",
       "      <th>runtimeMinutes</th>\n",
       "      <th>genres</th>\n",
       "    </tr>\n",
       "  </thead>\n",
       "  <tbody>\n",
       "    <tr>\n",
       "      <th>0</th>\n",
       "      <td>The Mandalorian</td>\n",
       "      <td>2019</td>\n",
       "      <td>7.0</td>\n",
       "      <td>8.7</td>\n",
       "      <td>tt8111088</td>\n",
       "      <td>tvSeries</td>\n",
       "      <td>The Mandalorian</td>\n",
       "      <td>The Mandalorian</td>\n",
       "      <td>2019.0</td>\n",
       "      <td>2019.0</td>\n",
       "      <td>30.0</td>\n",
       "      <td>Action,Adventure,Sci-Fi</td>\n",
       "    </tr>\n",
       "    <tr>\n",
       "      <th>1</th>\n",
       "      <td>The Simpsons</td>\n",
       "      <td>1989</td>\n",
       "      <td>7.0</td>\n",
       "      <td>8.7</td>\n",
       "      <td>tt0096697</td>\n",
       "      <td>tvSeries</td>\n",
       "      <td>The Simpsons</td>\n",
       "      <td>The Simpsons</td>\n",
       "      <td>1989.0</td>\n",
       "      <td>1989.0</td>\n",
       "      <td>22.0</td>\n",
       "      <td>Animation,Comedy</td>\n",
       "    </tr>\n",
       "    <tr>\n",
       "      <th>2</th>\n",
       "      <td>Gravity Falls</td>\n",
       "      <td>2012</td>\n",
       "      <td>7.0</td>\n",
       "      <td>8.9</td>\n",
       "      <td>tt1865718</td>\n",
       "      <td>tvSeries</td>\n",
       "      <td>Gravity Falls</td>\n",
       "      <td>Gravity Falls</td>\n",
       "      <td>2012.0</td>\n",
       "      <td>2012.0</td>\n",
       "      <td>23.0</td>\n",
       "      <td>Action,Adventure,Animation</td>\n",
       "    </tr>\n",
       "    <tr>\n",
       "      <th>3</th>\n",
       "      <td>Star Wars: The Clone Wars</td>\n",
       "      <td>2008</td>\n",
       "      <td>7.0</td>\n",
       "      <td>8.2</td>\n",
       "      <td>tt0458290</td>\n",
       "      <td>tvSeries</td>\n",
       "      <td>Star Wars: The Clone Wars</td>\n",
       "      <td>Star Wars: The Clone Wars</td>\n",
       "      <td>2008.0</td>\n",
       "      <td>2008.0</td>\n",
       "      <td>23.0</td>\n",
       "      <td>Action,Adventure,Animation</td>\n",
       "    </tr>\n",
       "    <tr>\n",
       "      <th>4</th>\n",
       "      <td>DuckTales</td>\n",
       "      <td>2017</td>\n",
       "      <td>7.0</td>\n",
       "      <td>8.2</td>\n",
       "      <td>tt5531466</td>\n",
       "      <td>tvSeries</td>\n",
       "      <td>DuckTales</td>\n",
       "      <td>DuckTales</td>\n",
       "      <td>2017.0</td>\n",
       "      <td>2017.0</td>\n",
       "      <td>21.0</td>\n",
       "      <td>Action,Adventure,Animation</td>\n",
       "    </tr>\n",
       "  </tbody>\n",
       "</table>\n",
       "</div>"
      ],
      "text/plain": [
       "                        show  year  age  imdb_rating    imdb_id titleType  \\\n",
       "0            The Mandalorian  2019  7.0          8.7  tt8111088  tvSeries   \n",
       "1               The Simpsons  1989  7.0          8.7  tt0096697  tvSeries   \n",
       "2              Gravity Falls  2012  7.0          8.9  tt1865718  tvSeries   \n",
       "3  Star Wars: The Clone Wars  2008  7.0          8.2  tt0458290  tvSeries   \n",
       "4                  DuckTales  2017  7.0          8.2  tt5531466  tvSeries   \n",
       "\n",
       "                primaryTitle              originalTitle  startYear  endYear  \\\n",
       "0            The Mandalorian            The Mandalorian     2019.0   2019.0   \n",
       "1               The Simpsons               The Simpsons     1989.0   1989.0   \n",
       "2              Gravity Falls              Gravity Falls     2012.0   2012.0   \n",
       "3  Star Wars: The Clone Wars  Star Wars: The Clone Wars     2008.0   2008.0   \n",
       "4                  DuckTales                  DuckTales     2017.0   2017.0   \n",
       "\n",
       "   runtimeMinutes                      genres  \n",
       "0            30.0     Action,Adventure,Sci-Fi  \n",
       "1            22.0            Animation,Comedy  \n",
       "2            23.0  Action,Adventure,Animation  \n",
       "3            23.0  Action,Adventure,Animation  \n",
       "4            21.0  Action,Adventure,Animation  "
      ]
     },
     "execution_count": 12,
     "metadata": {},
     "output_type": "execute_result"
    }
   ],
   "source": [
    "disney.head()"
   ]
  },
  {
   "cell_type": "code",
   "execution_count": 13,
   "metadata": {},
   "outputs": [
    {
     "data": {
      "text/plain": [
       "20"
      ]
     },
     "execution_count": 13,
     "metadata": {},
     "output_type": "execute_result"
    }
   ],
   "source": [
    "disney[\"age\"].isna().sum()"
   ]
  },
  {
   "cell_type": "code",
   "execution_count": 14,
   "metadata": {},
   "outputs": [
    {
     "data": {
      "text/plain": [
       "0.868421052631579"
      ]
     },
     "execution_count": 14,
     "metadata": {},
     "output_type": "execute_result"
    }
   ],
   "source": [
    "1 - (disney[\"age\"].isna().sum() / len(disney))"
   ]
  },
  {
   "cell_type": "markdown",
   "metadata": {},
   "source": [
    "**NOTE : We have 20 null values for the ratings column, meaning that we are using just 86% of the values for this analysis.**"
   ]
  },
  {
   "cell_type": "code",
   "execution_count": 15,
   "metadata": {},
   "outputs": [],
   "source": [
    "disney = disney[~disney[\"age\"].isna()]"
   ]
  },
  {
   "cell_type": "markdown",
   "metadata": {},
   "source": [
    "#### ii. Descriptive Statistics"
   ]
  },
  {
   "cell_type": "code",
   "execution_count": 16,
   "metadata": {},
   "outputs": [
    {
     "data": {
      "text/plain": [
       "count    132.000000\n",
       "mean       3.265152\n",
       "std        3.806102\n",
       "min        0.000000\n",
       "25%        0.000000\n",
       "50%        0.000000\n",
       "75%        7.000000\n",
       "max       16.000000\n",
       "Name: age, dtype: float64"
      ]
     },
     "execution_count": 16,
     "metadata": {},
     "output_type": "execute_result"
    }
   ],
   "source": [
    "disney[\"age\"].describe()"
   ]
  },
  {
   "cell_type": "markdown",
   "metadata": {},
   "source": [
    "From the descriptive statistics we can see the following:\n",
    "\n",
    "- 75% of the tv shows are for 7 years or younger.\n",
    "- 25% of the tv shows are for 16 years or older.\n",
    "\n",
    "#### iii. Plotting"
   ]
  },
  {
   "cell_type": "code",
   "execution_count": 17,
   "metadata": {},
   "outputs": [
    {
     "data": {
      "image/png": "[encoded data removed]",
      "text/plain": [
       "<Figure size 720x432 with 1 Axes>"
      ]
     },
     "metadata": {
      "needs_background": "light"
     },
     "output_type": "display_data"
    }
   ],
   "source": [
    "fig, ax = plt.subplots(figsize=(10,6))\n",
    "\n",
    "sns.boxplot(disney[\"age\"])\n",
    "ax.set_title(\"Disney Age Ratings Boxplot\")\n",
    "ax.set_xlabel(\"Age\");"
   ]
  },
  {
   "cell_type": "markdown",
   "metadata": {},
   "source": [
    "From the box plot we can see how most of the tv shows are for 7 years or younger, making ita heavily skewed data."
   ]
  },
  {
   "cell_type": "code",
   "execution_count": 18,
   "metadata": {},
   "outputs": [],
   "source": [
    "disney[\"audience\"] = np.where(disney[\"age\"] <= 12, \"Children\", np.where(disney[\"age\"] < 18, \"Teen\", \"Adult\"))"
   ]
  },
  {
   "cell_type": "code",
   "execution_count": 19,
   "metadata": {},
   "outputs": [
    {
     "data": {
      "image/png": "[encoded data removed]",
      "text/plain": [
       "<Figure size 720x432 with 1 Axes>"
      ]
     },
     "metadata": {
      "needs_background": "light"
     },
     "output_type": "display_data"
    }
   ],
   "source": [
    "fig, ax = plt.subplots(figsize=(10,6))\n",
    "\n",
    "plt.hist(disney[\"audience\"])\n",
    "ax.set_title(\"Disney Age Ratings Histogram\")\n",
    "ax.set_xlabel(\"Audience\")\n",
    "ax.set_ylabel(\"Frequency\");"
   ]
  },
  {
   "cell_type": "markdown",
   "metadata": {},
   "source": [
    "As stated before, we can see that most of the tv shows are for Children. Around 5 TV shows are for teens and we have no shows just for adults.\n",
    "\n",
    "\n",
    "### 3. Comparison with other streaming services\n",
    "\n",
    "#### i. Import data"
   ]
  },
  {
   "cell_type": "code",
   "execution_count": 20,
   "metadata": {},
   "outputs": [],
   "source": [
    "age_ratings = pd.read_pickle(\"../Data/age_ratings.pkl\")"
   ]
  },
  {
   "cell_type": "code",
   "execution_count": 21,
   "metadata": {},
   "outputs": [
    {
     "data": {
      "text/html": [
       "<div>\n",
       "<style scoped>\n",
       "    .dataframe tbody tr th:only-of-type {\n",
       "        vertical-align: middle;\n",
       "    }\n",
       "\n",
       "    .dataframe tbody tr th {\n",
       "        vertical-align: top;\n",
       "    }\n",
       "\n",
       "    .dataframe thead th {\n",
       "        text-align: right;\n",
       "    }\n",
       "</style>\n",
       "<table border=\"1\" class=\"dataframe\">\n",
       "  <thead>\n",
       "    <tr style=\"text-align: right;\">\n",
       "      <th></th>\n",
       "      <th>audience</th>\n",
       "      <th>frequency</th>\n",
       "      <th>normalize</th>\n",
       "      <th>streaming_service</th>\n",
       "    </tr>\n",
       "  </thead>\n",
       "  <tbody>\n",
       "    <tr>\n",
       "      <th>0</th>\n",
       "      <td>Adult</td>\n",
       "      <td>340</td>\n",
       "      <td>30.69</td>\n",
       "      <td>Netflix</td>\n",
       "    </tr>\n",
       "    <tr>\n",
       "      <th>1</th>\n",
       "      <td>Children</td>\n",
       "      <td>403</td>\n",
       "      <td>36.37</td>\n",
       "      <td>Netflix</td>\n",
       "    </tr>\n",
       "    <tr>\n",
       "      <th>2</th>\n",
       "      <td>Teen</td>\n",
       "      <td>365</td>\n",
       "      <td>32.94</td>\n",
       "      <td>Netflix</td>\n",
       "    </tr>\n",
       "    <tr>\n",
       "      <th>3</th>\n",
       "      <td>Adult</td>\n",
       "      <td>162</td>\n",
       "      <td>23.82</td>\n",
       "      <td>Amazon</td>\n",
       "    </tr>\n",
       "    <tr>\n",
       "      <th>4</th>\n",
       "      <td>Children</td>\n",
       "      <td>332</td>\n",
       "      <td>48.82</td>\n",
       "      <td>Amazon</td>\n",
       "    </tr>\n",
       "    <tr>\n",
       "      <th>5</th>\n",
       "      <td>Teen</td>\n",
       "      <td>186</td>\n",
       "      <td>27.35</td>\n",
       "      <td>Amazon</td>\n",
       "    </tr>\n",
       "    <tr>\n",
       "      <th>6</th>\n",
       "      <td>Adult</td>\n",
       "      <td>107</td>\n",
       "      <td>75.35</td>\n",
       "      <td>HBO</td>\n",
       "    </tr>\n",
       "    <tr>\n",
       "      <th>7</th>\n",
       "      <td>Children</td>\n",
       "      <td>14</td>\n",
       "      <td>9.86</td>\n",
       "      <td>HBO</td>\n",
       "    </tr>\n",
       "    <tr>\n",
       "      <th>8</th>\n",
       "      <td>Teen</td>\n",
       "      <td>21</td>\n",
       "      <td>14.79</td>\n",
       "      <td>HBO</td>\n",
       "    </tr>\n",
       "  </tbody>\n",
       "</table>\n",
       "</div>"
      ],
      "text/plain": [
       "   audience  frequency  normalize streaming_service\n",
       "0     Adult        340      30.69           Netflix\n",
       "1  Children        403      36.37           Netflix\n",
       "2      Teen        365      32.94           Netflix\n",
       "3     Adult        162      23.82            Amazon\n",
       "4  Children        332      48.82            Amazon\n",
       "5      Teen        186      27.35            Amazon\n",
       "6     Adult        107      75.35               HBO\n",
       "7  Children         14       9.86               HBO\n",
       "8      Teen         21      14.79               HBO"
      ]
     },
     "execution_count": 21,
     "metadata": {},
     "output_type": "execute_result"
    }
   ],
   "source": [
    "age_ratings"
   ]
  },
  {
   "cell_type": "markdown",
   "metadata": {},
   "source": [
    "#### ii. Normalize data for Hulu and Disney+"
   ]
  },
  {
   "cell_type": "code",
   "execution_count": 22,
   "metadata": {},
   "outputs": [],
   "source": [
    "hulu_age = (hulu.groupby(\"audience\")\n",
    "               .agg({\"show\":\"count\"})\n",
    "               .reset_index()\n",
    "               .rename(columns={\"show\":\"frequency\"}))\n",
    "\n",
    "hulu_age[\"normalize\"] = round(((hulu_age[\"frequency\"] / hulu_age[\"frequency\"].sum()) * 100), 2)\n",
    "\n",
    "hulu_age[\"streaming_service\"] = \"Hulu\""
   ]
  },
  {
   "cell_type": "code",
   "execution_count": 23,
   "metadata": {},
   "outputs": [],
   "source": [
    "disney_age = (disney.groupby(\"audience\")\n",
    "               .agg({\"show\":\"count\"})\n",
    "               .reset_index()\n",
    "               .rename(columns={\"show\":\"frequency\"}))\n",
    "\n",
    "disney_age[\"normalize\"] = round(((disney_age[\"frequency\"] / disney_age[\"frequency\"].sum()) * 100), 2)\n",
    "\n",
    "disney_age[\"streaming_service\"] = \"Disney+\""
   ]
  },
  {
   "cell_type": "markdown",
   "metadata": {},
   "source": [
    "#### iii. Combine data frames"
   ]
  },
  {
   "cell_type": "code",
   "execution_count": 24,
   "metadata": {},
   "outputs": [],
   "source": [
    "age_ratings = age_ratings.append(hulu_age).append(disney_age).reset_index(drop=True)"
   ]
  },
  {
   "cell_type": "code",
   "execution_count": 25,
   "metadata": {},
   "outputs": [
    {
     "data": {
      "text/html": [
       "<div>\n",
       "<style scoped>\n",
       "    .dataframe tbody tr th:only-of-type {\n",
       "        vertical-align: middle;\n",
       "    }\n",
       "\n",
       "    .dataframe tbody tr th {\n",
       "        vertical-align: top;\n",
       "    }\n",
       "\n",
       "    .dataframe thead th {\n",
       "        text-align: right;\n",
       "    }\n",
       "</style>\n",
       "<table border=\"1\" class=\"dataframe\">\n",
       "  <thead>\n",
       "    <tr style=\"text-align: right;\">\n",
       "      <th></th>\n",
       "      <th>audience</th>\n",
       "      <th>frequency</th>\n",
       "      <th>normalize</th>\n",
       "      <th>streaming_service</th>\n",
       "    </tr>\n",
       "  </thead>\n",
       "  <tbody>\n",
       "    <tr>\n",
       "      <th>0</th>\n",
       "      <td>Adult</td>\n",
       "      <td>340</td>\n",
       "      <td>30.69</td>\n",
       "      <td>Netflix</td>\n",
       "    </tr>\n",
       "    <tr>\n",
       "      <th>1</th>\n",
       "      <td>Children</td>\n",
       "      <td>403</td>\n",
       "      <td>36.37</td>\n",
       "      <td>Netflix</td>\n",
       "    </tr>\n",
       "    <tr>\n",
       "      <th>2</th>\n",
       "      <td>Teen</td>\n",
       "      <td>365</td>\n",
       "      <td>32.94</td>\n",
       "      <td>Netflix</td>\n",
       "    </tr>\n",
       "    <tr>\n",
       "      <th>3</th>\n",
       "      <td>Adult</td>\n",
       "      <td>162</td>\n",
       "      <td>23.82</td>\n",
       "      <td>Amazon</td>\n",
       "    </tr>\n",
       "    <tr>\n",
       "      <th>4</th>\n",
       "      <td>Children</td>\n",
       "      <td>332</td>\n",
       "      <td>48.82</td>\n",
       "      <td>Amazon</td>\n",
       "    </tr>\n",
       "    <tr>\n",
       "      <th>5</th>\n",
       "      <td>Teen</td>\n",
       "      <td>186</td>\n",
       "      <td>27.35</td>\n",
       "      <td>Amazon</td>\n",
       "    </tr>\n",
       "    <tr>\n",
       "      <th>6</th>\n",
       "      <td>Adult</td>\n",
       "      <td>107</td>\n",
       "      <td>75.35</td>\n",
       "      <td>HBO</td>\n",
       "    </tr>\n",
       "    <tr>\n",
       "      <th>7</th>\n",
       "      <td>Children</td>\n",
       "      <td>14</td>\n",
       "      <td>9.86</td>\n",
       "      <td>HBO</td>\n",
       "    </tr>\n",
       "    <tr>\n",
       "      <th>8</th>\n",
       "      <td>Teen</td>\n",
       "      <td>21</td>\n",
       "      <td>14.79</td>\n",
       "      <td>HBO</td>\n",
       "    </tr>\n",
       "    <tr>\n",
       "      <th>9</th>\n",
       "      <td>Adult</td>\n",
       "      <td>215</td>\n",
       "      <td>18.96</td>\n",
       "      <td>Hulu</td>\n",
       "    </tr>\n",
       "    <tr>\n",
       "      <th>10</th>\n",
       "      <td>Children</td>\n",
       "      <td>456</td>\n",
       "      <td>40.21</td>\n",
       "      <td>Hulu</td>\n",
       "    </tr>\n",
       "    <tr>\n",
       "      <th>11</th>\n",
       "      <td>Teen</td>\n",
       "      <td>463</td>\n",
       "      <td>40.83</td>\n",
       "      <td>Hulu</td>\n",
       "    </tr>\n",
       "    <tr>\n",
       "      <th>12</th>\n",
       "      <td>Children</td>\n",
       "      <td>130</td>\n",
       "      <td>98.48</td>\n",
       "      <td>Disney+</td>\n",
       "    </tr>\n",
       "    <tr>\n",
       "      <th>13</th>\n",
       "      <td>Teen</td>\n",
       "      <td>2</td>\n",
       "      <td>1.52</td>\n",
       "      <td>Disney+</td>\n",
       "    </tr>\n",
       "  </tbody>\n",
       "</table>\n",
       "</div>"
      ],
      "text/plain": [
       "    audience  frequency  normalize streaming_service\n",
       "0      Adult        340      30.69           Netflix\n",
       "1   Children        403      36.37           Netflix\n",
       "2       Teen        365      32.94           Netflix\n",
       "3      Adult        162      23.82            Amazon\n",
       "4   Children        332      48.82            Amazon\n",
       "5       Teen        186      27.35            Amazon\n",
       "6      Adult        107      75.35               HBO\n",
       "7   Children         14       9.86               HBO\n",
       "8       Teen         21      14.79               HBO\n",
       "9      Adult        215      18.96              Hulu\n",
       "10  Children        456      40.21              Hulu\n",
       "11      Teen        463      40.83              Hulu\n",
       "12  Children        130      98.48           Disney+\n",
       "13      Teen          2       1.52           Disney+"
      ]
     },
     "execution_count": 25,
     "metadata": {},
     "output_type": "execute_result"
    }
   ],
   "source": [
    "age_ratings"
   ]
  },
  {
   "cell_type": "code",
   "execution_count": 26,
   "metadata": {},
   "outputs": [
    {
     "data": {
      "image/png": "[encoded data removed]",
      "text/plain": [
       "<Figure size 720x432 with 1 Axes>"
      ]
     },
     "metadata": {
      "needs_background": "light"
     },
     "output_type": "display_data"
    }
   ],
   "source": [
    "fig, ax = plt.subplots(figsize=(10,6))\n",
    "\n",
    "sns.barplot(x=age_ratings[\"audience\"]\n",
    "            , y=age_ratings[\"normalize\"]\n",
    "            , hue=age_ratings[\"streaming_service\"]\n",
    "            , palette=\"Blues\"\n",
    "           , ci=None)\n",
    "\n",
    "ax.set_xlabel(\"Audience\")\n",
    "ax.set_ylabel(\"Percentage\")\n",
    "ax.set_title(\"Age Ratings Bar Plot\")\n",
    "\n",
    "plt.legend(title=\"Streaming Service\");"
   ]
  },
  {
   "cell_type": "markdown",
   "metadata": {},
   "source": [
    "From the histogram above we can conclude the following:\n",
    "\n",
    "- Disney+ stands out with the most TV shows for children.\n",
    "- HBO stands out with the most TV shows for adults.\n",
    "- Netflix, Amazon, and Hulu seem to follow the same distributions, Netflix having more TV shows for adults, Hulu having more TV shows for teens, and Amazon more for Children."
   ]
  },
  {
   "cell_type": "code",
   "execution_count": null,
   "metadata": {},
   "outputs": [],
   "source": []
  }
 ],
 "metadata": {
  "kernelspec": {
   "display_name": "Python 3",
   "language": "python",
   "name": "python3"
  },
  "language_info": {
   "codemirror_mode": {
    "name": "ipython",
    "version": 3
   },
   "file_extension": ".py",
   "mimetype": "text/x-python",
   "name": "python",
   "nbconvert_exporter": "python",
   "pygments_lexer": "ipython3",
   "version": "3.7.6"
  }
 },
 "nbformat": 4,
 "nbformat_minor": 4
}
