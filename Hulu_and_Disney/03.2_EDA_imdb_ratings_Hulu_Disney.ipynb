{
 "cells": [
  {
   "cell_type": "code",
   "execution_count": 1,
   "metadata": {},
   "outputs": [],
   "source": [
    "import pandas as pd\n",
    "import numpy as np\n",
    "import matplotlib.pyplot as plt\n",
    "import seaborn as sns\n",
    "%matplotlib inline\n",
    "\n",
    "pd.set_option(\"display.max_columns\", None)"
   ]
  },
  {
   "cell_type": "markdown",
   "metadata": {},
   "source": [
    "## EDA IMDB Ratings\n",
    "\n",
    "#### Goals\n",
    "\n",
    "- Get descriptive statistics for imdb tv shows ratings for each streaming service.\n",
    "\n",
    "- Plot data.\n",
    "\n",
    "- Compare findings.\n",
    "\n",
    "-----\n",
    "\n",
    "### 1. Hulu\n",
    "#### i. Import data"
   ]
  },
  {
   "cell_type": "code",
   "execution_count": 2,
   "metadata": {},
   "outputs": [],
   "source": [
    "hulu = pd.read_pickle(\"Data_Hulu_Disney/hulu_final_clean.pkl\")"
   ]
  },
  {
   "cell_type": "code",
   "execution_count": 3,
   "metadata": {},
   "outputs": [
    {
     "data": {
      "text/html": [
       "<div>\n",
       "<style scoped>\n",
       "    .dataframe tbody tr th:only-of-type {\n",
       "        vertical-align: middle;\n",
       "    }\n",
       "\n",
       "    .dataframe tbody tr th {\n",
       "        vertical-align: top;\n",
       "    }\n",
       "\n",
       "    .dataframe thead th {\n",
       "        text-align: right;\n",
       "    }\n",
       "</style>\n",
       "<table border=\"1\" class=\"dataframe\">\n",
       "  <thead>\n",
       "    <tr style=\"text-align: right;\">\n",
       "      <th></th>\n",
       "      <th>show</th>\n",
       "      <th>year</th>\n",
       "      <th>age</th>\n",
       "      <th>imdb_rating</th>\n",
       "      <th>imdb_id</th>\n",
       "      <th>titleType</th>\n",
       "      <th>primaryTitle</th>\n",
       "      <th>originalTitle</th>\n",
       "      <th>startYear</th>\n",
       "      <th>endYear</th>\n",
       "      <th>runtimeMinutes</th>\n",
       "      <th>genres</th>\n",
       "    </tr>\n",
       "  </thead>\n",
       "  <tbody>\n",
       "    <tr>\n",
       "      <th>0</th>\n",
       "      <td>Rick and Morty</td>\n",
       "      <td>2013</td>\n",
       "      <td>18.0</td>\n",
       "      <td>9.2</td>\n",
       "      <td>tt2861424</td>\n",
       "      <td>tvSeries</td>\n",
       "      <td>Rick and Morty</td>\n",
       "      <td>Rick and Morty</td>\n",
       "      <td>2013.0</td>\n",
       "      <td>2013.0</td>\n",
       "      <td>23.0</td>\n",
       "      <td>Adventure,Animation,Comedy</td>\n",
       "    </tr>\n",
       "    <tr>\n",
       "      <th>1</th>\n",
       "      <td>Fargo</td>\n",
       "      <td>2014</td>\n",
       "      <td>18.0</td>\n",
       "      <td>8.9</td>\n",
       "      <td>tt2802850</td>\n",
       "      <td>tvSeries</td>\n",
       "      <td>Fargo</td>\n",
       "      <td>Fargo</td>\n",
       "      <td>2014.0</td>\n",
       "      <td>2014.0</td>\n",
       "      <td>53.0</td>\n",
       "      <td>Crime,Drama,Thriller</td>\n",
       "    </tr>\n",
       "    <tr>\n",
       "      <th>2</th>\n",
       "      <td>Vikings</td>\n",
       "      <td>2013</td>\n",
       "      <td>18.0</td>\n",
       "      <td>8.5</td>\n",
       "      <td>tt2306299</td>\n",
       "      <td>tvSeries</td>\n",
       "      <td>Vikings</td>\n",
       "      <td>Vikings</td>\n",
       "      <td>2013.0</td>\n",
       "      <td>2013.0</td>\n",
       "      <td>44.0</td>\n",
       "      <td>Action,Adventure,Drama</td>\n",
       "    </tr>\n",
       "    <tr>\n",
       "      <th>3</th>\n",
       "      <td>Brooklyn Nine-Nine</td>\n",
       "      <td>2013</td>\n",
       "      <td>16.0</td>\n",
       "      <td>8.4</td>\n",
       "      <td>tt2467372</td>\n",
       "      <td>tvSeries</td>\n",
       "      <td>Brooklyn Nine-Nine</td>\n",
       "      <td>Brooklyn Nine-Nine</td>\n",
       "      <td>2013.0</td>\n",
       "      <td>2013.0</td>\n",
       "      <td>22.0</td>\n",
       "      <td>Comedy,Crime</td>\n",
       "    </tr>\n",
       "    <tr>\n",
       "      <th>4</th>\n",
       "      <td>Community</td>\n",
       "      <td>2009</td>\n",
       "      <td>7.0</td>\n",
       "      <td>8.5</td>\n",
       "      <td>tt1439629</td>\n",
       "      <td>tvSeries</td>\n",
       "      <td>Community</td>\n",
       "      <td>Community</td>\n",
       "      <td>2009.0</td>\n",
       "      <td>2009.0</td>\n",
       "      <td>22.0</td>\n",
       "      <td>Comedy</td>\n",
       "    </tr>\n",
       "  </tbody>\n",
       "</table>\n",
       "</div>"
      ],
      "text/plain": [
       "                 show  year   age  imdb_rating    imdb_id titleType  \\\n",
       "0      Rick and Morty  2013  18.0          9.2  tt2861424  tvSeries   \n",
       "1               Fargo  2014  18.0          8.9  tt2802850  tvSeries   \n",
       "2             Vikings  2013  18.0          8.5  tt2306299  tvSeries   \n",
       "3  Brooklyn Nine-Nine  2013  16.0          8.4  tt2467372  tvSeries   \n",
       "4           Community  2009   7.0          8.5  tt1439629  tvSeries   \n",
       "\n",
       "         primaryTitle       originalTitle  startYear  endYear  runtimeMinutes  \\\n",
       "0      Rick and Morty      Rick and Morty     2013.0   2013.0            23.0   \n",
       "1               Fargo               Fargo     2014.0   2014.0            53.0   \n",
       "2             Vikings             Vikings     2013.0   2013.0            44.0   \n",
       "3  Brooklyn Nine-Nine  Brooklyn Nine-Nine     2013.0   2013.0            22.0   \n",
       "4           Community           Community     2009.0   2009.0            22.0   \n",
       "\n",
       "                       genres  \n",
       "0  Adventure,Animation,Comedy  \n",
       "1        Crime,Drama,Thriller  \n",
       "2      Action,Adventure,Drama  \n",
       "3                Comedy,Crime  \n",
       "4                      Comedy  "
      ]
     },
     "execution_count": 3,
     "metadata": {},
     "output_type": "execute_result"
    }
   ],
   "source": [
    "hulu.head()"
   ]
  },
  {
   "cell_type": "code",
   "execution_count": 4,
   "metadata": {},
   "outputs": [
    {
     "data": {
      "text/plain": [
       "123"
      ]
     },
     "execution_count": 4,
     "metadata": {},
     "output_type": "execute_result"
    }
   ],
   "source": [
    "hulu[\"imdb_rating\"].isna().sum()"
   ]
  },
  {
   "cell_type": "markdown",
   "metadata": {},
   "source": [
    "Since the information for imdb_rating column was obtained from web scraping, we will now join the ratings table from IMDB Database in order to get all the correct values for imdb_ratings."
   ]
  },
  {
   "cell_type": "code",
   "execution_count": 5,
   "metadata": {},
   "outputs": [],
   "source": [
    "ratings = pd.read_csv(\"C:/Users/Admin/Documents/ironhack/title.ratings.tsv.gz\", sep=\"\\t\")"
   ]
  },
  {
   "cell_type": "code",
   "execution_count": 6,
   "metadata": {},
   "outputs": [
    {
     "data": {
      "text/html": [
       "<div>\n",
       "<style scoped>\n",
       "    .dataframe tbody tr th:only-of-type {\n",
       "        vertical-align: middle;\n",
       "    }\n",
       "\n",
       "    .dataframe tbody tr th {\n",
       "        vertical-align: top;\n",
       "    }\n",
       "\n",
       "    .dataframe thead th {\n",
       "        text-align: right;\n",
       "    }\n",
       "</style>\n",
       "<table border=\"1\" class=\"dataframe\">\n",
       "  <thead>\n",
       "    <tr style=\"text-align: right;\">\n",
       "      <th></th>\n",
       "      <th>tconst</th>\n",
       "      <th>averageRating</th>\n",
       "      <th>numVotes</th>\n",
       "    </tr>\n",
       "  </thead>\n",
       "  <tbody>\n",
       "    <tr>\n",
       "      <th>0</th>\n",
       "      <td>tt0000001</td>\n",
       "      <td>5.6</td>\n",
       "      <td>1613</td>\n",
       "    </tr>\n",
       "    <tr>\n",
       "      <th>1</th>\n",
       "      <td>tt0000002</td>\n",
       "      <td>6.0</td>\n",
       "      <td>197</td>\n",
       "    </tr>\n",
       "    <tr>\n",
       "      <th>2</th>\n",
       "      <td>tt0000003</td>\n",
       "      <td>6.5</td>\n",
       "      <td>1294</td>\n",
       "    </tr>\n",
       "    <tr>\n",
       "      <th>3</th>\n",
       "      <td>tt0000004</td>\n",
       "      <td>6.1</td>\n",
       "      <td>121</td>\n",
       "    </tr>\n",
       "    <tr>\n",
       "      <th>4</th>\n",
       "      <td>tt0000005</td>\n",
       "      <td>6.1</td>\n",
       "      <td>2066</td>\n",
       "    </tr>\n",
       "  </tbody>\n",
       "</table>\n",
       "</div>"
      ],
      "text/plain": [
       "      tconst  averageRating  numVotes\n",
       "0  tt0000001            5.6      1613\n",
       "1  tt0000002            6.0       197\n",
       "2  tt0000003            6.5      1294\n",
       "3  tt0000004            6.1       121\n",
       "4  tt0000005            6.1      2066"
      ]
     },
     "execution_count": 6,
     "metadata": {},
     "output_type": "execute_result"
    }
   ],
   "source": [
    "ratings.head()"
   ]
  },
  {
   "cell_type": "code",
   "execution_count": 7,
   "metadata": {},
   "outputs": [],
   "source": [
    "ratings = ratings.drop(columns=\"numVotes\")"
   ]
  },
  {
   "cell_type": "markdown",
   "metadata": {},
   "source": [
    "We will join both tables by imdb_id and tconst."
   ]
  },
  {
   "cell_type": "code",
   "execution_count": 8,
   "metadata": {},
   "outputs": [],
   "source": [
    "hulu = hulu.merge(ratings, how=\"left\", left_on=\"imdb_id\", right_on=\"tconst\")"
   ]
  },
  {
   "cell_type": "code",
   "execution_count": 9,
   "metadata": {},
   "outputs": [
    {
     "data": {
      "text/html": [
       "<div>\n",
       "<style scoped>\n",
       "    .dataframe tbody tr th:only-of-type {\n",
       "        vertical-align: middle;\n",
       "    }\n",
       "\n",
       "    .dataframe tbody tr th {\n",
       "        vertical-align: top;\n",
       "    }\n",
       "\n",
       "    .dataframe thead th {\n",
       "        text-align: right;\n",
       "    }\n",
       "</style>\n",
       "<table border=\"1\" class=\"dataframe\">\n",
       "  <thead>\n",
       "    <tr style=\"text-align: right;\">\n",
       "      <th></th>\n",
       "      <th>show</th>\n",
       "      <th>year</th>\n",
       "      <th>age</th>\n",
       "      <th>imdb_rating</th>\n",
       "      <th>imdb_id</th>\n",
       "      <th>titleType</th>\n",
       "      <th>primaryTitle</th>\n",
       "      <th>originalTitle</th>\n",
       "      <th>startYear</th>\n",
       "      <th>endYear</th>\n",
       "      <th>runtimeMinutes</th>\n",
       "      <th>genres</th>\n",
       "      <th>tconst</th>\n",
       "      <th>averageRating</th>\n",
       "    </tr>\n",
       "  </thead>\n",
       "  <tbody>\n",
       "    <tr>\n",
       "      <th>0</th>\n",
       "      <td>Rick and Morty</td>\n",
       "      <td>2013</td>\n",
       "      <td>18.0</td>\n",
       "      <td>9.2</td>\n",
       "      <td>tt2861424</td>\n",
       "      <td>tvSeries</td>\n",
       "      <td>Rick and Morty</td>\n",
       "      <td>Rick and Morty</td>\n",
       "      <td>2013.0</td>\n",
       "      <td>2013.0</td>\n",
       "      <td>23.0</td>\n",
       "      <td>Adventure,Animation,Comedy</td>\n",
       "      <td>tt2861424</td>\n",
       "      <td>9.2</td>\n",
       "    </tr>\n",
       "    <tr>\n",
       "      <th>1</th>\n",
       "      <td>Fargo</td>\n",
       "      <td>2014</td>\n",
       "      <td>18.0</td>\n",
       "      <td>8.9</td>\n",
       "      <td>tt2802850</td>\n",
       "      <td>tvSeries</td>\n",
       "      <td>Fargo</td>\n",
       "      <td>Fargo</td>\n",
       "      <td>2014.0</td>\n",
       "      <td>2014.0</td>\n",
       "      <td>53.0</td>\n",
       "      <td>Crime,Drama,Thriller</td>\n",
       "      <td>tt2802850</td>\n",
       "      <td>8.9</td>\n",
       "    </tr>\n",
       "    <tr>\n",
       "      <th>2</th>\n",
       "      <td>Vikings</td>\n",
       "      <td>2013</td>\n",
       "      <td>18.0</td>\n",
       "      <td>8.5</td>\n",
       "      <td>tt2306299</td>\n",
       "      <td>tvSeries</td>\n",
       "      <td>Vikings</td>\n",
       "      <td>Vikings</td>\n",
       "      <td>2013.0</td>\n",
       "      <td>2013.0</td>\n",
       "      <td>44.0</td>\n",
       "      <td>Action,Adventure,Drama</td>\n",
       "      <td>tt2306299</td>\n",
       "      <td>8.5</td>\n",
       "    </tr>\n",
       "    <tr>\n",
       "      <th>3</th>\n",
       "      <td>Brooklyn Nine-Nine</td>\n",
       "      <td>2013</td>\n",
       "      <td>16.0</td>\n",
       "      <td>8.4</td>\n",
       "      <td>tt2467372</td>\n",
       "      <td>tvSeries</td>\n",
       "      <td>Brooklyn Nine-Nine</td>\n",
       "      <td>Brooklyn Nine-Nine</td>\n",
       "      <td>2013.0</td>\n",
       "      <td>2013.0</td>\n",
       "      <td>22.0</td>\n",
       "      <td>Comedy,Crime</td>\n",
       "      <td>tt2467372</td>\n",
       "      <td>8.4</td>\n",
       "    </tr>\n",
       "    <tr>\n",
       "      <th>4</th>\n",
       "      <td>Community</td>\n",
       "      <td>2009</td>\n",
       "      <td>7.0</td>\n",
       "      <td>8.5</td>\n",
       "      <td>tt1439629</td>\n",
       "      <td>tvSeries</td>\n",
       "      <td>Community</td>\n",
       "      <td>Community</td>\n",
       "      <td>2009.0</td>\n",
       "      <td>2009.0</td>\n",
       "      <td>22.0</td>\n",
       "      <td>Comedy</td>\n",
       "      <td>tt1439629</td>\n",
       "      <td>8.5</td>\n",
       "    </tr>\n",
       "  </tbody>\n",
       "</table>\n",
       "</div>"
      ],
      "text/plain": [
       "                 show  year   age  imdb_rating    imdb_id titleType  \\\n",
       "0      Rick and Morty  2013  18.0          9.2  tt2861424  tvSeries   \n",
       "1               Fargo  2014  18.0          8.9  tt2802850  tvSeries   \n",
       "2             Vikings  2013  18.0          8.5  tt2306299  tvSeries   \n",
       "3  Brooklyn Nine-Nine  2013  16.0          8.4  tt2467372  tvSeries   \n",
       "4           Community  2009   7.0          8.5  tt1439629  tvSeries   \n",
       "\n",
       "         primaryTitle       originalTitle  startYear  endYear  runtimeMinutes  \\\n",
       "0      Rick and Morty      Rick and Morty     2013.0   2013.0            23.0   \n",
       "1               Fargo               Fargo     2014.0   2014.0            53.0   \n",
       "2             Vikings             Vikings     2013.0   2013.0            44.0   \n",
       "3  Brooklyn Nine-Nine  Brooklyn Nine-Nine     2013.0   2013.0            22.0   \n",
       "4           Community           Community     2009.0   2009.0            22.0   \n",
       "\n",
       "                       genres     tconst  averageRating  \n",
       "0  Adventure,Animation,Comedy  tt2861424            9.2  \n",
       "1        Crime,Drama,Thriller  tt2802850            8.9  \n",
       "2      Action,Adventure,Drama  tt2306299            8.5  \n",
       "3                Comedy,Crime  tt2467372            8.4  \n",
       "4                      Comedy  tt1439629            8.5  "
      ]
     },
     "execution_count": 9,
     "metadata": {},
     "output_type": "execute_result"
    }
   ],
   "source": [
    "hulu.head()"
   ]
  },
  {
   "cell_type": "code",
   "execution_count": 10,
   "metadata": {},
   "outputs": [
    {
     "data": {
      "text/plain": [
       "99"
      ]
     },
     "execution_count": 10,
     "metadata": {},
     "output_type": "execute_result"
    }
   ],
   "source": [
    "hulu[\"averageRating\"].isna().sum()"
   ]
  },
  {
   "cell_type": "code",
   "execution_count": 11,
   "metadata": {},
   "outputs": [
    {
     "data": {
      "text/plain": [
       "0.932469304229195"
      ]
     },
     "execution_count": 11,
     "metadata": {},
     "output_type": "execute_result"
    }
   ],
   "source": [
    "1 - (hulu[\"averageRating\"].isna().sum() / len(hulu))"
   ]
  },
  {
   "cell_type": "markdown",
   "metadata": {},
   "source": [
    "Now we have less null values for imdb ratings, now we will reate a data frame which will have only the show names and ratings.\n"
   ]
  },
  {
   "cell_type": "code",
   "execution_count": 12,
   "metadata": {},
   "outputs": [],
   "source": [
    "hulu_ratings = hulu[[\"show\", \"averageRating\"]]"
   ]
  },
  {
   "cell_type": "code",
   "execution_count": 13,
   "metadata": {},
   "outputs": [],
   "source": [
    "hulu_ratings = hulu_ratings[~hulu_ratings[\"averageRating\"].isna()]"
   ]
  },
  {
   "cell_type": "markdown",
   "metadata": {},
   "source": [
    "#### ii. Descriptive Statistics"
   ]
  },
  {
   "cell_type": "code",
   "execution_count": 14,
   "metadata": {},
   "outputs": [
    {
     "data": {
      "text/plain": [
       "count    1367.000000\n",
       "mean        7.047769\n",
       "std         1.209416\n",
       "min         1.800000\n",
       "25%         6.500000\n",
       "50%         7.300000\n",
       "75%         7.900000\n",
       "max         9.500000\n",
       "Name: averageRating, dtype: float64"
      ]
     },
     "execution_count": 14,
     "metadata": {},
     "output_type": "execute_result"
    }
   ],
   "source": [
    "hulu_ratings[\"averageRating\"].describe()"
   ]
  },
  {
   "cell_type": "markdown",
   "metadata": {},
   "source": [
    "From the descriptive statistics we can see the following:\n",
    "\n",
    "- The tv shows provided by hulu have 7.04 as an average rating.\n",
    "- 25% of the tv shows have 6.5 or lower as average rating.\n",
    "- 50% of the tv shows have 7.3 or higher average rating.\n",
    "- 25% of the tv shows have 7.9 or higher as average rating."
   ]
  },
  {
   "cell_type": "markdown",
   "metadata": {},
   "source": [
    "#### iii. Plotting"
   ]
  },
  {
   "cell_type": "code",
   "execution_count": 15,
   "metadata": {},
   "outputs": [
    {
     "data": {
      "image/png": "[encoded data removed]",
      "text/plain": [
       "<Figure size 720x432 with 1 Axes>"
      ]
     },
     "metadata": {
      "needs_background": "light"
     },
     "output_type": "display_data"
    }
   ],
   "source": [
    "fig, ax = plt.subplots(figsize=(10,6))\n",
    "\n",
    "sns.boxplot(hulu_ratings[\"averageRating\"])\n",
    "ax.set_title(\"Hulu IMDB Ratings Boxplot\")\n",
    "ax.set_xlabel(\"Average Rating\");"
   ]
  },
  {
   "cell_type": "markdown",
   "metadata": {},
   "source": [
    "From the box plot we can clearly see how most of the tv shows have between 6.5 and 8 as an average rating. There are some outliers that have less than around 4.5 average rating up unitl 1.8, the minimum value."
   ]
  },
  {
   "cell_type": "code",
   "execution_count": 16,
   "metadata": {},
   "outputs": [
    {
     "data": {
      "image/png": "[encoded data removed]",
      "text/plain": [
       "<Figure size 720x432 with 1 Axes>"
      ]
     },
     "metadata": {
      "needs_background": "light"
     },
     "output_type": "display_data"
    }
   ],
   "source": [
    "fig, ax = plt.subplots(figsize=(10,6))\n",
    "\n",
    "plt.hist(hulu_ratings[\"averageRating\"], ec=\"black\", lw=0.5)\n",
    "ax.set_title(\"Hulu IMDB Average Ratings Histogram\")\n",
    "ax.set_xlabel(\"Average Rating\")\n",
    "ax.set_ylabel(\"Frequency\");"
   ]
  },
  {
   "cell_type": "markdown",
   "metadata": {},
   "source": [
    "The histogram above is left skewed, most of the tv shows provided by Hulu, as stated previously, have average ratings between 7 and 8, and very few have a rating lower than 5."
   ]
  },
  {
   "cell_type": "markdown",
   "metadata": {},
   "source": [
    "-----\n",
    "\n",
    "### 2. Disney+\n",
    "#### i. Import data"
   ]
  },
  {
   "cell_type": "code",
   "execution_count": 17,
   "metadata": {},
   "outputs": [],
   "source": [
    "disney = pd.read_pickle(\"Data_Hulu_Disney/disney_final_clean.pkl\")"
   ]
  },
  {
   "cell_type": "code",
   "execution_count": 18,
   "metadata": {},
   "outputs": [
    {
     "data": {
      "text/html": [
       "<div>\n",
       "<style scoped>\n",
       "    .dataframe tbody tr th:only-of-type {\n",
       "        vertical-align: middle;\n",
       "    }\n",
       "\n",
       "    .dataframe tbody tr th {\n",
       "        vertical-align: top;\n",
       "    }\n",
       "\n",
       "    .dataframe thead th {\n",
       "        text-align: right;\n",
       "    }\n",
       "</style>\n",
       "<table border=\"1\" class=\"dataframe\">\n",
       "  <thead>\n",
       "    <tr style=\"text-align: right;\">\n",
       "      <th></th>\n",
       "      <th>show</th>\n",
       "      <th>year</th>\n",
       "      <th>age</th>\n",
       "      <th>imdb_rating</th>\n",
       "      <th>imdb_id</th>\n",
       "      <th>titleType</th>\n",
       "      <th>primaryTitle</th>\n",
       "      <th>originalTitle</th>\n",
       "      <th>startYear</th>\n",
       "      <th>endYear</th>\n",
       "      <th>runtimeMinutes</th>\n",
       "      <th>genres</th>\n",
       "    </tr>\n",
       "  </thead>\n",
       "  <tbody>\n",
       "    <tr>\n",
       "      <th>0</th>\n",
       "      <td>The Mandalorian</td>\n",
       "      <td>2019</td>\n",
       "      <td>7.0</td>\n",
       "      <td>8.7</td>\n",
       "      <td>tt8111088</td>\n",
       "      <td>tvSeries</td>\n",
       "      <td>The Mandalorian</td>\n",
       "      <td>The Mandalorian</td>\n",
       "      <td>2019.0</td>\n",
       "      <td>2019.0</td>\n",
       "      <td>30.0</td>\n",
       "      <td>Action,Adventure,Sci-Fi</td>\n",
       "    </tr>\n",
       "    <tr>\n",
       "      <th>1</th>\n",
       "      <td>The Simpsons</td>\n",
       "      <td>1989</td>\n",
       "      <td>7.0</td>\n",
       "      <td>8.7</td>\n",
       "      <td>tt0096697</td>\n",
       "      <td>tvSeries</td>\n",
       "      <td>The Simpsons</td>\n",
       "      <td>The Simpsons</td>\n",
       "      <td>1989.0</td>\n",
       "      <td>1989.0</td>\n",
       "      <td>22.0</td>\n",
       "      <td>Animation,Comedy</td>\n",
       "    </tr>\n",
       "    <tr>\n",
       "      <th>2</th>\n",
       "      <td>Gravity Falls</td>\n",
       "      <td>2012</td>\n",
       "      <td>7.0</td>\n",
       "      <td>8.9</td>\n",
       "      <td>tt1865718</td>\n",
       "      <td>tvSeries</td>\n",
       "      <td>Gravity Falls</td>\n",
       "      <td>Gravity Falls</td>\n",
       "      <td>2012.0</td>\n",
       "      <td>2012.0</td>\n",
       "      <td>23.0</td>\n",
       "      <td>Action,Adventure,Animation</td>\n",
       "    </tr>\n",
       "    <tr>\n",
       "      <th>3</th>\n",
       "      <td>Star Wars: The Clone Wars</td>\n",
       "      <td>2008</td>\n",
       "      <td>7.0</td>\n",
       "      <td>8.2</td>\n",
       "      <td>tt0458290</td>\n",
       "      <td>tvSeries</td>\n",
       "      <td>Star Wars: The Clone Wars</td>\n",
       "      <td>Star Wars: The Clone Wars</td>\n",
       "      <td>2008.0</td>\n",
       "      <td>2008.0</td>\n",
       "      <td>23.0</td>\n",
       "      <td>Action,Adventure,Animation</td>\n",
       "    </tr>\n",
       "    <tr>\n",
       "      <th>4</th>\n",
       "      <td>DuckTales</td>\n",
       "      <td>2017</td>\n",
       "      <td>7.0</td>\n",
       "      <td>8.2</td>\n",
       "      <td>tt5531466</td>\n",
       "      <td>tvSeries</td>\n",
       "      <td>DuckTales</td>\n",
       "      <td>DuckTales</td>\n",
       "      <td>2017.0</td>\n",
       "      <td>2017.0</td>\n",
       "      <td>21.0</td>\n",
       "      <td>Action,Adventure,Animation</td>\n",
       "    </tr>\n",
       "  </tbody>\n",
       "</table>\n",
       "</div>"
      ],
      "text/plain": [
       "                        show  year  age  imdb_rating    imdb_id titleType  \\\n",
       "0            The Mandalorian  2019  7.0          8.7  tt8111088  tvSeries   \n",
       "1               The Simpsons  1989  7.0          8.7  tt0096697  tvSeries   \n",
       "2              Gravity Falls  2012  7.0          8.9  tt1865718  tvSeries   \n",
       "3  Star Wars: The Clone Wars  2008  7.0          8.2  tt0458290  tvSeries   \n",
       "4                  DuckTales  2017  7.0          8.2  tt5531466  tvSeries   \n",
       "\n",
       "                primaryTitle              originalTitle  startYear  endYear  \\\n",
       "0            The Mandalorian            The Mandalorian     2019.0   2019.0   \n",
       "1               The Simpsons               The Simpsons     1989.0   1989.0   \n",
       "2              Gravity Falls              Gravity Falls     2012.0   2012.0   \n",
       "3  Star Wars: The Clone Wars  Star Wars: The Clone Wars     2008.0   2008.0   \n",
       "4                  DuckTales                  DuckTales     2017.0   2017.0   \n",
       "\n",
       "   runtimeMinutes                      genres  \n",
       "0            30.0     Action,Adventure,Sci-Fi  \n",
       "1            22.0            Animation,Comedy  \n",
       "2            23.0  Action,Adventure,Animation  \n",
       "3            23.0  Action,Adventure,Animation  \n",
       "4            21.0  Action,Adventure,Animation  "
      ]
     },
     "execution_count": 18,
     "metadata": {},
     "output_type": "execute_result"
    }
   ],
   "source": [
    "disney.head()"
   ]
  },
  {
   "cell_type": "code",
   "execution_count": 19,
   "metadata": {},
   "outputs": [
    {
     "data": {
      "text/plain": [
       "3"
      ]
     },
     "execution_count": 19,
     "metadata": {},
     "output_type": "execute_result"
    }
   ],
   "source": [
    "disney[\"imdb_rating\"].isna().sum()"
   ]
  },
  {
   "cell_type": "code",
   "execution_count": 20,
   "metadata": {},
   "outputs": [],
   "source": [
    "disney = disney.merge(ratings, how=\"left\", left_on=\"imdb_id\", right_on=\"tconst\")"
   ]
  },
  {
   "cell_type": "code",
   "execution_count": 21,
   "metadata": {},
   "outputs": [
    {
     "data": {
      "text/plain": [
       "1"
      ]
     },
     "execution_count": 21,
     "metadata": {},
     "output_type": "execute_result"
    }
   ],
   "source": [
    "disney[\"averageRating\"].isna().sum()"
   ]
  },
  {
   "cell_type": "code",
   "execution_count": 22,
   "metadata": {},
   "outputs": [],
   "source": [
    "disney_ratings = disney[[\"show\", \"averageRating\"]]"
   ]
  },
  {
   "cell_type": "code",
   "execution_count": 23,
   "metadata": {},
   "outputs": [],
   "source": [
    "disney_ratings = disney_ratings[~disney_ratings[\"averageRating\"].isna()]"
   ]
  },
  {
   "cell_type": "markdown",
   "metadata": {},
   "source": [
    "#### ii. Descriptive Statistics"
   ]
  },
  {
   "cell_type": "code",
   "execution_count": 24,
   "metadata": {},
   "outputs": [
    {
     "data": {
      "text/plain": [
       "count    151.000000\n",
       "mean       6.947682\n",
       "std        1.108863\n",
       "min        3.500000\n",
       "25%        6.200000\n",
       "50%        6.900000\n",
       "75%        7.900000\n",
       "max        9.100000\n",
       "Name: averageRating, dtype: float64"
      ]
     },
     "execution_count": 24,
     "metadata": {},
     "output_type": "execute_result"
    }
   ],
   "source": [
    "disney_ratings[\"averageRating\"].describe()"
   ]
  },
  {
   "cell_type": "markdown",
   "metadata": {},
   "source": [
    "From the descriptive statistics we can see the following:\n",
    "\n",
    "- The tv shows provided by disney+ have 6.94 as an average rating.\n",
    "- 25% of the tv shows have 6.2 or lower as average rating.\n",
    "- 50% of the tv shows have 6.9 or higher average rating.\n",
    "- 25% of the tv shows have 7.9 or higher as average rating.\n",
    "\n",
    "#### iii. Plotting"
   ]
  },
  {
   "cell_type": "code",
   "execution_count": 25,
   "metadata": {},
   "outputs": [
    {
     "data": {
      "image/png": "[encoded data removed]",
      "text/plain": [
       "<Figure size 720x432 with 1 Axes>"
      ]
     },
     "metadata": {
      "needs_background": "light"
     },
     "output_type": "display_data"
    }
   ],
   "source": [
    "fig, ax = plt.subplots(figsize=(10,6))\n",
    "\n",
    "sns.boxplot(disney_ratings[\"averageRating\"])\n",
    "ax.set_title(\"Disney IMDB Ratings Boxplot\")\n",
    "ax.set_xlabel(\"Average Rating\");"
   ]
  },
  {
   "cell_type": "markdown",
   "metadata": {},
   "source": [
    "From the box plot we can clearly see how most of the tv shows have between 6.2 and 8 as an average rating. There are some outliers that have less than around 4.5 average rating up unitl 3.5, the minimum value."
   ]
  },
  {
   "cell_type": "code",
   "execution_count": 26,
   "metadata": {},
   "outputs": [
    {
     "data": {
      "image/png": "[encoded data removed]",
      "text/plain": [
       "<Figure size 720x432 with 1 Axes>"
      ]
     },
     "metadata": {
      "needs_background": "light"
     },
     "output_type": "display_data"
    }
   ],
   "source": [
    "fig, ax = plt.subplots(figsize=(10,6))\n",
    "\n",
    "plt.hist(disney_ratings[\"averageRating\"], ec=\"black\", lw=0.5)\n",
    "ax.set_title(\"Disney IMDB Average Ratings Histogram\")\n",
    "ax.set_xlabel(\"Average Rating\")\n",
    "ax.set_ylabel(\"Frequency\");"
   ]
  },
  {
   "cell_type": "markdown",
   "metadata": {},
   "source": [
    "The histogram above shows that most of the TV shows provided by Disney+ have average ratings between 6-7 and 8-8.5. Very few have ratings lower than 5.\n",
    "\n",
    "-----\n",
    "\n",
    "### 3. Comparison\n",
    "\n",
    "- Hulu seems to have very similar ratings as Netflix and Amazon, all having 1.8 as a minimum and 9.5 as a maximum average rating. Half of their TV shows have 7.4 or higher average rating. Most of their ratings range from 7-8.\n",
    "- Disney+  has unequal distribution of ratings, having most TV shows between 6-7 and 8-8.5 average ratings. Its lowest average rating is of 3.5 and maximum is 9.1.\n",
    "- HBO has higher average ratings than the other streaming services. It has 4.8 as a minimum and 9.4 as a maximum. Most of its ratings range between 7 and 9.\n",
    "- It seems that HBO has higher average ratings in general."
   ]
  },
  {
   "cell_type": "code",
   "execution_count": null,
   "metadata": {},
   "outputs": [],
   "source": []
  }
 ],
 "metadata": {
  "kernelspec": {
   "display_name": "Python 3",
   "language": "python",
   "name": "python3"
  },
  "language_info": {
   "codemirror_mode": {
    "name": "ipython",
    "version": 3
   },
   "file_extension": ".py",
   "mimetype": "text/x-python",
   "name": "python",
   "nbconvert_exporter": "python",
   "pygments_lexer": "ipython3",
   "version": "3.7.6"
  }
 },
 "nbformat": 4,
 "nbformat_minor": 4
}
