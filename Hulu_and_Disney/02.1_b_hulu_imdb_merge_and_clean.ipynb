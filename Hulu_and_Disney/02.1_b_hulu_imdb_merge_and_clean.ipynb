{
 "cells": [
  {
   "cell_type": "code",
   "execution_count": 1,
   "metadata": {},
   "outputs": [],
   "source": [
    "import pandas as pd\n",
    "import numpy as np\n",
    "from fuzzywuzzy import fuzz"
   ]
  },
  {
   "cell_type": "markdown",
   "metadata": {},
   "source": [
    "## Hulu Merge\n",
    "\n",
    "#### Goals:\n",
    "\n",
    "- Merge Hulu tv shows with IMDB ID\n",
    "\n",
    "\n",
    "## 1. Import imdb and hulu data"
   ]
  },
  {
   "cell_type": "code",
   "execution_count": 2,
   "metadata": {},
   "outputs": [],
   "source": [
    "imdb = pd.read_pickle(\"../Data/imdb_tv_all.pkl\")\n",
    "\n",
    "hulu = pd.read_csv(\"Data_Hulu_Disney/hulu_shows.csv\")"
   ]
  },
  {
   "cell_type": "markdown",
   "metadata": {},
   "source": [
    "We will look at how many titles we have using the shape function, which will return a tuple indicating number of rows and number of columns."
   ]
  },
  {
   "cell_type": "code",
   "execution_count": 3,
   "metadata": {},
   "outputs": [
    {
     "data": {
      "text/plain": [
       "(1744, 5)"
      ]
     },
     "execution_count": 3,
     "metadata": {},
     "output_type": "execute_result"
    }
   ],
   "source": [
    "hulu.shape"
   ]
  },
  {
   "cell_type": "markdown",
   "metadata": {},
   "source": [
    "## 2. Merge dataframes\n",
    "\n",
    "We will start by merging on title and year in order to get the right IMDB ID (tconst) because there might be some remakes.\n",
    "We will do this by using a left join in order to keep all the original hulu titles."
   ]
  },
  {
   "cell_type": "code",
   "execution_count": 4,
   "metadata": {},
   "outputs": [],
   "source": [
    "hulu_genres = hulu.merge(imdb, left_on=[\"show\", \"year\"], right_on=[\"originalTitle\", \"startYear\"], how=\"left\")"
   ]
  },
  {
   "cell_type": "markdown",
   "metadata": {},
   "source": [
    "From the new merged data frame, we will get a new data frame called hulu_missing1 to get the missing titles that didn't find a match."
   ]
  },
  {
   "cell_type": "code",
   "execution_count": 5,
   "metadata": {},
   "outputs": [],
   "source": [
    "hulu_missing1 = hulu_genres[hulu_genres[\"tconst\"].isna()].reset_index(drop=True)[[\"show\", \"year\", \"rating\"\n",
    "                                                                                           , \"imdb\", \"rotten_tomatoes\"]]"
   ]
  },
  {
   "cell_type": "code",
   "execution_count": 6,
   "metadata": {},
   "outputs": [
    {
     "data": {
      "text/plain": [
       "(526, 5)"
      ]
     },
     "execution_count": 6,
     "metadata": {},
     "output_type": "execute_result"
    }
   ],
   "source": [
    "hulu_missing1.shape"
   ]
  },
  {
   "cell_type": "markdown",
   "metadata": {},
   "source": [
    "We are missing 526 titles from 1744 in total.\n",
    "\n",
    "We will now merge but now using primaryTitle instead of originalTitle, since some of the titles might be in their original language."
   ]
  },
  {
   "cell_type": "code",
   "execution_count": 7,
   "metadata": {},
   "outputs": [],
   "source": [
    "hulu_missing1 = hulu_missing1.merge(imdb, left_on=[\"show\", \"year\"], right_on=[\"primaryTitle\", \"startYear\"], how=\"left\")"
   ]
  },
  {
   "cell_type": "markdown",
   "metadata": {},
   "source": [
    "We will create another data frame for those titles who weren't matched."
   ]
  },
  {
   "cell_type": "code",
   "execution_count": 8,
   "metadata": {},
   "outputs": [],
   "source": [
    "hulu_missing2 = hulu_missing1[hulu_missing1[\"tconst\"].isna()].reset_index(drop=True)[[\"show\", \"year\", \"rating\"\n",
    "                                                                                               , \"imdb\", \"rotten_tomatoes\"]]"
   ]
  },
  {
   "cell_type": "code",
   "execution_count": 9,
   "metadata": {},
   "outputs": [
    {
     "data": {
      "text/plain": [
       "(416, 5)"
      ]
     },
     "execution_count": 9,
     "metadata": {},
     "output_type": "execute_result"
    }
   ],
   "source": [
    "hulu_missing2.shape"
   ]
  },
  {
   "cell_type": "markdown",
   "metadata": {},
   "source": [
    "We are now missing 416 titles. Since we don't have something else to relate to in this dataframe, we will now import the other data frame from the IMDB data base which includes all different titles created for a single one and the IMDB ID (titleID)."
   ]
  },
  {
   "cell_type": "code",
   "execution_count": 10,
   "metadata": {},
   "outputs": [],
   "source": [
    "title_regions = pd.read_csv(\"C:/Users/Admin/Documents/ironhack/title.akas.tsv.gz\", sep=\"\\t\", low_memory=False)"
   ]
  },
  {
   "cell_type": "code",
   "execution_count": 11,
   "metadata": {},
   "outputs": [
    {
     "data": {
      "text/html": [
       "<div>\n",
       "<style scoped>\n",
       "    .dataframe tbody tr th:only-of-type {\n",
       "        vertical-align: middle;\n",
       "    }\n",
       "\n",
       "    .dataframe tbody tr th {\n",
       "        vertical-align: top;\n",
       "    }\n",
       "\n",
       "    .dataframe thead th {\n",
       "        text-align: right;\n",
       "    }\n",
       "</style>\n",
       "<table border=\"1\" class=\"dataframe\">\n",
       "  <thead>\n",
       "    <tr style=\"text-align: right;\">\n",
       "      <th></th>\n",
       "      <th>titleId</th>\n",
       "      <th>ordering</th>\n",
       "      <th>title</th>\n",
       "      <th>region</th>\n",
       "      <th>language</th>\n",
       "      <th>types</th>\n",
       "      <th>attributes</th>\n",
       "      <th>isOriginalTitle</th>\n",
       "    </tr>\n",
       "  </thead>\n",
       "  <tbody>\n",
       "    <tr>\n",
       "      <th>0</th>\n",
       "      <td>tt0000001</td>\n",
       "      <td>1</td>\n",
       "      <td>Карменсіта</td>\n",
       "      <td>UA</td>\n",
       "      <td>\\N</td>\n",
       "      <td>imdbDisplay</td>\n",
       "      <td>\\N</td>\n",
       "      <td>0</td>\n",
       "    </tr>\n",
       "    <tr>\n",
       "      <th>1</th>\n",
       "      <td>tt0000001</td>\n",
       "      <td>2</td>\n",
       "      <td>Carmencita</td>\n",
       "      <td>DE</td>\n",
       "      <td>\\N</td>\n",
       "      <td>\\N</td>\n",
       "      <td>literal title</td>\n",
       "      <td>0</td>\n",
       "    </tr>\n",
       "    <tr>\n",
       "      <th>2</th>\n",
       "      <td>tt0000001</td>\n",
       "      <td>3</td>\n",
       "      <td>Carmencita - spanyol tánc</td>\n",
       "      <td>HU</td>\n",
       "      <td>\\N</td>\n",
       "      <td>imdbDisplay</td>\n",
       "      <td>\\N</td>\n",
       "      <td>0</td>\n",
       "    </tr>\n",
       "    <tr>\n",
       "      <th>3</th>\n",
       "      <td>tt0000001</td>\n",
       "      <td>4</td>\n",
       "      <td>Καρμενσίτα</td>\n",
       "      <td>GR</td>\n",
       "      <td>\\N</td>\n",
       "      <td>imdbDisplay</td>\n",
       "      <td>\\N</td>\n",
       "      <td>0</td>\n",
       "    </tr>\n",
       "    <tr>\n",
       "      <th>4</th>\n",
       "      <td>tt0000001</td>\n",
       "      <td>5</td>\n",
       "      <td>Карменсита</td>\n",
       "      <td>RU</td>\n",
       "      <td>\\N</td>\n",
       "      <td>imdbDisplay</td>\n",
       "      <td>\\N</td>\n",
       "      <td>0</td>\n",
       "    </tr>\n",
       "  </tbody>\n",
       "</table>\n",
       "</div>"
      ],
      "text/plain": [
       "     titleId  ordering                      title region language  \\\n",
       "0  tt0000001         1                 Карменсіта     UA       \\N   \n",
       "1  tt0000001         2                 Carmencita     DE       \\N   \n",
       "2  tt0000001         3  Carmencita - spanyol tánc     HU       \\N   \n",
       "3  tt0000001         4                 Καρμενσίτα     GR       \\N   \n",
       "4  tt0000001         5                 Карменсита     RU       \\N   \n",
       "\n",
       "         types     attributes isOriginalTitle  \n",
       "0  imdbDisplay             \\N               0  \n",
       "1           \\N  literal title               0  \n",
       "2  imdbDisplay             \\N               0  \n",
       "3  imdbDisplay             \\N               0  \n",
       "4  imdbDisplay             \\N               0  "
      ]
     },
     "execution_count": 11,
     "metadata": {},
     "output_type": "execute_result"
    }
   ],
   "source": [
    "title_regions.head()"
   ]
  },
  {
   "cell_type": "markdown",
   "metadata": {},
   "source": [
    "We will do the merge of the missing titles with the new title_regions data frame by title name."
   ]
  },
  {
   "cell_type": "code",
   "execution_count": 12,
   "metadata": {},
   "outputs": [],
   "source": [
    "hulu_missing2 = hulu_missing2.merge(title_regions, left_on=[\"show\"], right_on=[\"title\"], how=\"left\")"
   ]
  },
  {
   "cell_type": "code",
   "execution_count": 13,
   "metadata": {},
   "outputs": [],
   "source": [
    "hulu_missing3 = hulu_missing2[hulu_missing2[\"titleId\"].isna()].reset_index(drop=True)[[\"show\", \"year\", \"rating\"\n",
    "                                                                                                , \"imdb\", \"rotten_tomatoes\"]]"
   ]
  },
  {
   "cell_type": "code",
   "execution_count": 14,
   "metadata": {},
   "outputs": [
    {
     "data": {
      "text/plain": [
       "(219, 5)"
      ]
     },
     "execution_count": 14,
     "metadata": {},
     "output_type": "execute_result"
    }
   ],
   "source": [
    "hulu_missing3.shape"
   ]
  },
  {
   "cell_type": "markdown",
   "metadata": {},
   "source": [
    "Now we are just missing 219 titles. We will now try to find the missing title IDs with fuzzy wuzzy."
   ]
  },
  {
   "cell_type": "markdown",
   "metadata": {},
   "source": [
    "### 3. Find missing titles using fuzzywuzzy\n",
    "\n",
    "We will first create a list for missing shows."
   ]
  },
  {
   "cell_type": "code",
   "execution_count": 15,
   "metadata": {},
   "outputs": [],
   "source": [
    "hulu_shows_missing = [show for show in hulu_missing3[\"show\"]]"
   ]
  },
  {
   "cell_type": "code",
   "execution_count": 16,
   "metadata": {},
   "outputs": [],
   "source": [
    "imdb_titles = [title for title in imdb[\"primaryTitle\"]]"
   ]
  },
  {
   "cell_type": "markdown",
   "metadata": {},
   "source": [
    "We will use the same function we created on 03.2_a_netflix_missing_title_ids to find the most similar title on the imdb title basics file."
   ]
  },
  {
   "cell_type": "code",
   "execution_count": 17,
   "metadata": {},
   "outputs": [],
   "source": [
    "def find_shows(show):\n",
    "    matches = []\n",
    "\n",
    "    for title in imdb_titles:\n",
    "        # compute ratio and remove case-sensitivity\n",
    "        ratio = fuzz.ratio(title.lower(), show.lower())\n",
    "\n",
    "        # add all matches to list with ratio > 60\n",
    "        if ratio >= 60:\n",
    "            matches.append((title, show, ratio))\n",
    "    \n",
    "    # return none if there was no match found\n",
    "    if len(matches) == 0:\n",
    "        return None\n",
    "    return sorted(matches, key=lambda x: x[2], reverse=True)[0][0]"
   ]
  },
  {
   "cell_type": "code",
   "execution_count": 18,
   "metadata": {},
   "outputs": [],
   "source": [
    "hulu_missing3[\"imdb_titles\"] = hulu_missing3[\"show\"].apply(lambda x: find_shows(x))"
   ]
  },
  {
   "cell_type": "code",
   "execution_count": 19,
   "metadata": {},
   "outputs": [
    {
     "data": {
      "text/html": [
       "<div>\n",
       "<style scoped>\n",
       "    .dataframe tbody tr th:only-of-type {\n",
       "        vertical-align: middle;\n",
       "    }\n",
       "\n",
       "    .dataframe tbody tr th {\n",
       "        vertical-align: top;\n",
       "    }\n",
       "\n",
       "    .dataframe thead th {\n",
       "        text-align: right;\n",
       "    }\n",
       "</style>\n",
       "<table border=\"1\" class=\"dataframe\">\n",
       "  <thead>\n",
       "    <tr style=\"text-align: right;\">\n",
       "      <th></th>\n",
       "      <th>show</th>\n",
       "      <th>year</th>\n",
       "      <th>rating</th>\n",
       "      <th>imdb</th>\n",
       "      <th>rotten_tomatoes</th>\n",
       "      <th>imdb_titles</th>\n",
       "    </tr>\n",
       "  </thead>\n",
       "  <tbody>\n",
       "    <tr>\n",
       "      <th>0</th>\n",
       "      <td>Naruto Shippūden</td>\n",
       "      <td>2007</td>\n",
       "      <td>7+</td>\n",
       "      <td>8.6</td>\n",
       "      <td>NaN</td>\n",
       "      <td>Naruto: Shippûden</td>\n",
       "    </tr>\n",
       "    <tr>\n",
       "      <th>1</th>\n",
       "      <td>Peep show</td>\n",
       "      <td>2003</td>\n",
       "      <td>18+</td>\n",
       "      <td>8.6</td>\n",
       "      <td>96%</td>\n",
       "      <td>Peep Show</td>\n",
       "    </tr>\n",
       "    <tr>\n",
       "      <th>2</th>\n",
       "      <td>DAVE</td>\n",
       "      <td>2020</td>\n",
       "      <td>18+</td>\n",
       "      <td>8.4</td>\n",
       "      <td>62%</td>\n",
       "      <td>Dave</td>\n",
       "    </tr>\n",
       "    <tr>\n",
       "      <th>3</th>\n",
       "      <td>Food Wars! Shokugeki no Soma</td>\n",
       "      <td>2015</td>\n",
       "      <td>18+</td>\n",
       "      <td>8.3</td>\n",
       "      <td>NaN</td>\n",
       "      <td>None</td>\n",
       "    </tr>\n",
       "    <tr>\n",
       "      <th>4</th>\n",
       "      <td>Nathan For You</td>\n",
       "      <td>2013</td>\n",
       "      <td>16+</td>\n",
       "      <td>8.8</td>\n",
       "      <td>97%</td>\n",
       "      <td>Nathan for You</td>\n",
       "    </tr>\n",
       "  </tbody>\n",
       "</table>\n",
       "</div>"
      ],
      "text/plain": [
       "                           show  year rating  imdb rotten_tomatoes  \\\n",
       "0              Naruto Shippūden  2007     7+   8.6             NaN   \n",
       "1                     Peep show  2003    18+   8.6             96%   \n",
       "2                          DAVE  2020    18+   8.4             62%   \n",
       "3  Food Wars! Shokugeki no Soma  2015    18+   8.3             NaN   \n",
       "4                Nathan For You  2013    16+   8.8             97%   \n",
       "\n",
       "         imdb_titles  \n",
       "0  Naruto: Shippûden  \n",
       "1          Peep Show  \n",
       "2               Dave  \n",
       "3               None  \n",
       "4     Nathan for You  "
      ]
     },
     "execution_count": 19,
     "metadata": {},
     "output_type": "execute_result"
    }
   ],
   "source": [
    "hulu_missing3.head()"
   ]
  },
  {
   "cell_type": "markdown",
   "metadata": {},
   "source": [
    "From the first 10 missing titles we can see that our function did a good job, we will now take a look at the titles that weren't found a match."
   ]
  },
  {
   "cell_type": "code",
   "execution_count": 20,
   "metadata": {},
   "outputs": [
    {
     "data": {
      "text/html": [
       "<div>\n",
       "<style scoped>\n",
       "    .dataframe tbody tr th:only-of-type {\n",
       "        vertical-align: middle;\n",
       "    }\n",
       "\n",
       "    .dataframe tbody tr th {\n",
       "        vertical-align: top;\n",
       "    }\n",
       "\n",
       "    .dataframe thead th {\n",
       "        text-align: right;\n",
       "    }\n",
       "</style>\n",
       "<table border=\"1\" class=\"dataframe\">\n",
       "  <thead>\n",
       "    <tr style=\"text-align: right;\">\n",
       "      <th></th>\n",
       "      <th>show</th>\n",
       "      <th>year</th>\n",
       "      <th>rating</th>\n",
       "      <th>imdb</th>\n",
       "      <th>rotten_tomatoes</th>\n",
       "      <th>imdb_titles</th>\n",
       "    </tr>\n",
       "  </thead>\n",
       "  <tbody>\n",
       "    <tr>\n",
       "      <th>3</th>\n",
       "      <td>Food Wars! Shokugeki no Soma</td>\n",
       "      <td>2015</td>\n",
       "      <td>18+</td>\n",
       "      <td>8.3</td>\n",
       "      <td>NaN</td>\n",
       "      <td>None</td>\n",
       "    </tr>\n",
       "    <tr>\n",
       "      <th>59</th>\n",
       "      <td>Kono Yuusha ga Ore Tueee Kuse ni Shinchou Sugiru</td>\n",
       "      <td>2019</td>\n",
       "      <td>NaN</td>\n",
       "      <td>7.4</td>\n",
       "      <td>NaN</td>\n",
       "      <td>None</td>\n",
       "    </tr>\n",
       "    <tr>\n",
       "      <th>60</th>\n",
       "      <td>Hakuoki -Demon Of The Fleeting Blossom-</td>\n",
       "      <td>2010</td>\n",
       "      <td>18+</td>\n",
       "      <td>7.4</td>\n",
       "      <td>NaN</td>\n",
       "      <td>None</td>\n",
       "    </tr>\n",
       "    <tr>\n",
       "      <th>83</th>\n",
       "      <td>恋と選挙とチョコレート</td>\n",
       "      <td>2012</td>\n",
       "      <td>18+</td>\n",
       "      <td>7.2</td>\n",
       "      <td>NaN</td>\n",
       "      <td>None</td>\n",
       "    </tr>\n",
       "    <tr>\n",
       "      <th>105</th>\n",
       "      <td>To LOVEる -とらぶる- ダークネス2nd</td>\n",
       "      <td>2012</td>\n",
       "      <td>16+</td>\n",
       "      <td>7.1</td>\n",
       "      <td>NaN</td>\n",
       "      <td>None</td>\n",
       "    </tr>\n",
       "    <tr>\n",
       "      <th>165</th>\n",
       "      <td>Ryan's World Specials presented by pocket.watch</td>\n",
       "      <td>2019</td>\n",
       "      <td>NaN</td>\n",
       "      <td>NaN</td>\n",
       "      <td>NaN</td>\n",
       "      <td>None</td>\n",
       "    </tr>\n",
       "  </tbody>\n",
       "</table>\n",
       "</div>"
      ],
      "text/plain": [
       "                                                 show  year rating  imdb  \\\n",
       "3                        Food Wars! Shokugeki no Soma  2015    18+   8.3   \n",
       "59   Kono Yuusha ga Ore Tueee Kuse ni Shinchou Sugiru  2019    NaN   7.4   \n",
       "60            Hakuoki -Demon Of The Fleeting Blossom-  2010    18+   7.4   \n",
       "83                                        恋と選挙とチョコレート  2012    18+   7.2   \n",
       "105                          To LOVEる -とらぶる- ダークネス2nd  2012    16+   7.1   \n",
       "165   Ryan's World Specials presented by pocket.watch  2019    NaN   NaN   \n",
       "\n",
       "    rotten_tomatoes imdb_titles  \n",
       "3               NaN        None  \n",
       "59              NaN        None  \n",
       "60              NaN        None  \n",
       "83              NaN        None  \n",
       "105             NaN        None  \n",
       "165             NaN        None  "
      ]
     },
     "execution_count": 20,
     "metadata": {},
     "output_type": "execute_result"
    }
   ],
   "source": [
    "hulu_missing3[hulu_missing3[\"imdb_titles\"].isna()]"
   ]
  },
  {
   "cell_type": "markdown",
   "metadata": {},
   "source": [
    "Since we have only 6 titles, we will remove them from our data.\n",
    "\n",
    "## 4. Merge IMDB IDs with missing titles\n",
    "\n",
    "We will still merge on the year, in order to be sure that we are not merging a remake or a similar title."
   ]
  },
  {
   "cell_type": "code",
   "execution_count": 21,
   "metadata": {},
   "outputs": [],
   "source": [
    "hulu_missing3 = hulu_missing3.merge(imdb, how=\"left\", left_on=[\"imdb_titles\", \"year\"], right_on=[\"primaryTitle\", \"startYear\"])"
   ]
  },
  {
   "cell_type": "code",
   "execution_count": 22,
   "metadata": {},
   "outputs": [
    {
     "data": {
      "text/html": [
       "<div>\n",
       "<style scoped>\n",
       "    .dataframe tbody tr th:only-of-type {\n",
       "        vertical-align: middle;\n",
       "    }\n",
       "\n",
       "    .dataframe tbody tr th {\n",
       "        vertical-align: top;\n",
       "    }\n",
       "\n",
       "    .dataframe thead th {\n",
       "        text-align: right;\n",
       "    }\n",
       "</style>\n",
       "<table border=\"1\" class=\"dataframe\">\n",
       "  <thead>\n",
       "    <tr style=\"text-align: right;\">\n",
       "      <th></th>\n",
       "      <th>show</th>\n",
       "      <th>year</th>\n",
       "      <th>rating</th>\n",
       "      <th>imdb</th>\n",
       "      <th>rotten_tomatoes</th>\n",
       "      <th>imdb_titles</th>\n",
       "      <th>tconst</th>\n",
       "      <th>titleType</th>\n",
       "      <th>primaryTitle</th>\n",
       "      <th>originalTitle</th>\n",
       "      <th>isAdult</th>\n",
       "      <th>startYear</th>\n",
       "      <th>endYear</th>\n",
       "      <th>runtimeMinutes</th>\n",
       "      <th>genres</th>\n",
       "    </tr>\n",
       "  </thead>\n",
       "  <tbody>\n",
       "    <tr>\n",
       "      <th>0</th>\n",
       "      <td>Naruto Shippūden</td>\n",
       "      <td>2007</td>\n",
       "      <td>7+</td>\n",
       "      <td>8.6</td>\n",
       "      <td>NaN</td>\n",
       "      <td>Naruto: Shippûden</td>\n",
       "      <td>tt0988824</td>\n",
       "      <td>tvSeries</td>\n",
       "      <td>Naruto: Shippûden</td>\n",
       "      <td>Naruto: Shippûden</td>\n",
       "      <td>0.0</td>\n",
       "      <td>2007.0</td>\n",
       "      <td>2007.0</td>\n",
       "      <td>24</td>\n",
       "      <td>Action,Adventure,Animation</td>\n",
       "    </tr>\n",
       "    <tr>\n",
       "      <th>1</th>\n",
       "      <td>Peep show</td>\n",
       "      <td>2003</td>\n",
       "      <td>18+</td>\n",
       "      <td>8.6</td>\n",
       "      <td>96%</td>\n",
       "      <td>Peep Show</td>\n",
       "      <td>tt0387764</td>\n",
       "      <td>tvSeries</td>\n",
       "      <td>Peep Show</td>\n",
       "      <td>Peep Show</td>\n",
       "      <td>0.0</td>\n",
       "      <td>2003.0</td>\n",
       "      <td>2003.0</td>\n",
       "      <td>25</td>\n",
       "      <td>Comedy</td>\n",
       "    </tr>\n",
       "    <tr>\n",
       "      <th>2</th>\n",
       "      <td>DAVE</td>\n",
       "      <td>2020</td>\n",
       "      <td>18+</td>\n",
       "      <td>8.4</td>\n",
       "      <td>62%</td>\n",
       "      <td>Dave</td>\n",
       "      <td>tt8531222</td>\n",
       "      <td>tvSeries</td>\n",
       "      <td>Dave</td>\n",
       "      <td>Dave</td>\n",
       "      <td>0.0</td>\n",
       "      <td>2020.0</td>\n",
       "      <td>2020.0</td>\n",
       "      <td>30</td>\n",
       "      <td>Comedy</td>\n",
       "    </tr>\n",
       "    <tr>\n",
       "      <th>3</th>\n",
       "      <td>Food Wars! Shokugeki no Soma</td>\n",
       "      <td>2015</td>\n",
       "      <td>18+</td>\n",
       "      <td>8.3</td>\n",
       "      <td>NaN</td>\n",
       "      <td>None</td>\n",
       "      <td>NaN</td>\n",
       "      <td>NaN</td>\n",
       "      <td>NaN</td>\n",
       "      <td>NaN</td>\n",
       "      <td>NaN</td>\n",
       "      <td>NaN</td>\n",
       "      <td>NaN</td>\n",
       "      <td>NaN</td>\n",
       "      <td>NaN</td>\n",
       "    </tr>\n",
       "    <tr>\n",
       "      <th>4</th>\n",
       "      <td>Nathan For You</td>\n",
       "      <td>2013</td>\n",
       "      <td>16+</td>\n",
       "      <td>8.8</td>\n",
       "      <td>97%</td>\n",
       "      <td>Nathan for You</td>\n",
       "      <td>tt2297757</td>\n",
       "      <td>tvSeries</td>\n",
       "      <td>Nathan for You</td>\n",
       "      <td>Nathan for You</td>\n",
       "      <td>0.0</td>\n",
       "      <td>2013.0</td>\n",
       "      <td>2013.0</td>\n",
       "      <td>30</td>\n",
       "      <td>Comedy,Documentary</td>\n",
       "    </tr>\n",
       "  </tbody>\n",
       "</table>\n",
       "</div>"
      ],
      "text/plain": [
       "                           show  year rating  imdb rotten_tomatoes  \\\n",
       "0              Naruto Shippūden  2007     7+   8.6             NaN   \n",
       "1                     Peep show  2003    18+   8.6             96%   \n",
       "2                          DAVE  2020    18+   8.4             62%   \n",
       "3  Food Wars! Shokugeki no Soma  2015    18+   8.3             NaN   \n",
       "4                Nathan For You  2013    16+   8.8             97%   \n",
       "\n",
       "         imdb_titles     tconst titleType       primaryTitle  \\\n",
       "0  Naruto: Shippûden  tt0988824  tvSeries  Naruto: Shippûden   \n",
       "1          Peep Show  tt0387764  tvSeries          Peep Show   \n",
       "2               Dave  tt8531222  tvSeries               Dave   \n",
       "3               None        NaN       NaN                NaN   \n",
       "4     Nathan for You  tt2297757  tvSeries     Nathan for You   \n",
       "\n",
       "       originalTitle  isAdult  startYear  endYear runtimeMinutes  \\\n",
       "0  Naruto: Shippûden      0.0     2007.0   2007.0             24   \n",
       "1          Peep Show      0.0     2003.0   2003.0             25   \n",
       "2               Dave      0.0     2020.0   2020.0             30   \n",
       "3                NaN      NaN        NaN      NaN            NaN   \n",
       "4     Nathan for You      0.0     2013.0   2013.0             30   \n",
       "\n",
       "                       genres  \n",
       "0  Action,Adventure,Animation  \n",
       "1                      Comedy  \n",
       "2                      Comedy  \n",
       "3                         NaN  \n",
       "4          Comedy,Documentary  "
      ]
     },
     "execution_count": 22,
     "metadata": {},
     "output_type": "execute_result"
    }
   ],
   "source": [
    "hulu_missing3.head()"
   ]
  },
  {
   "cell_type": "markdown",
   "metadata": {},
   "source": [
    "We will now take a look at the titles who didn't find a match."
   ]
  },
  {
   "cell_type": "code",
   "execution_count": 23,
   "metadata": {},
   "outputs": [
    {
     "data": {
      "text/html": [
       "<div>\n",
       "<style scoped>\n",
       "    .dataframe tbody tr th:only-of-type {\n",
       "        vertical-align: middle;\n",
       "    }\n",
       "\n",
       "    .dataframe tbody tr th {\n",
       "        vertical-align: top;\n",
       "    }\n",
       "\n",
       "    .dataframe thead th {\n",
       "        text-align: right;\n",
       "    }\n",
       "</style>\n",
       "<table border=\"1\" class=\"dataframe\">\n",
       "  <thead>\n",
       "    <tr style=\"text-align: right;\">\n",
       "      <th></th>\n",
       "      <th>show</th>\n",
       "      <th>year</th>\n",
       "      <th>rating</th>\n",
       "      <th>imdb</th>\n",
       "      <th>rotten_tomatoes</th>\n",
       "      <th>imdb_titles</th>\n",
       "      <th>tconst</th>\n",
       "      <th>titleType</th>\n",
       "      <th>primaryTitle</th>\n",
       "      <th>originalTitle</th>\n",
       "      <th>isAdult</th>\n",
       "      <th>startYear</th>\n",
       "      <th>endYear</th>\n",
       "      <th>runtimeMinutes</th>\n",
       "      <th>genres</th>\n",
       "    </tr>\n",
       "  </thead>\n",
       "  <tbody>\n",
       "    <tr>\n",
       "      <th>3</th>\n",
       "      <td>Food Wars! Shokugeki no Soma</td>\n",
       "      <td>2015</td>\n",
       "      <td>18+</td>\n",
       "      <td>8.3</td>\n",
       "      <td>NaN</td>\n",
       "      <td>None</td>\n",
       "      <td>NaN</td>\n",
       "      <td>NaN</td>\n",
       "      <td>NaN</td>\n",
       "      <td>NaN</td>\n",
       "      <td>NaN</td>\n",
       "      <td>NaN</td>\n",
       "      <td>NaN</td>\n",
       "      <td>NaN</td>\n",
       "      <td>NaN</td>\n",
       "    </tr>\n",
       "    <tr>\n",
       "      <th>11</th>\n",
       "      <td>Crayon Shin-chan</td>\n",
       "      <td>1992</td>\n",
       "      <td>7+</td>\n",
       "      <td>7.9</td>\n",
       "      <td>NaN</td>\n",
       "      <td>Shinchan</td>\n",
       "      <td>NaN</td>\n",
       "      <td>NaN</td>\n",
       "      <td>NaN</td>\n",
       "      <td>NaN</td>\n",
       "      <td>NaN</td>\n",
       "      <td>NaN</td>\n",
       "      <td>NaN</td>\n",
       "      <td>NaN</td>\n",
       "      <td>NaN</td>\n",
       "    </tr>\n",
       "    <tr>\n",
       "      <th>14</th>\n",
       "      <td>Monogatari</td>\n",
       "      <td>2009</td>\n",
       "      <td>16+</td>\n",
       "      <td>8.0</td>\n",
       "      <td>NaN</td>\n",
       "      <td>Ai monogatari</td>\n",
       "      <td>NaN</td>\n",
       "      <td>NaN</td>\n",
       "      <td>NaN</td>\n",
       "      <td>NaN</td>\n",
       "      <td>NaN</td>\n",
       "      <td>NaN</td>\n",
       "      <td>NaN</td>\n",
       "      <td>NaN</td>\n",
       "      <td>NaN</td>\n",
       "    </tr>\n",
       "    <tr>\n",
       "      <th>19</th>\n",
       "      <td>Land of Honor</td>\n",
       "      <td>2014</td>\n",
       "      <td>16+</td>\n",
       "      <td>7.9</td>\n",
       "      <td>NaN</td>\n",
       "      <td>Blade of Honor</td>\n",
       "      <td>NaN</td>\n",
       "      <td>NaN</td>\n",
       "      <td>NaN</td>\n",
       "      <td>NaN</td>\n",
       "      <td>NaN</td>\n",
       "      <td>NaN</td>\n",
       "      <td>NaN</td>\n",
       "      <td>NaN</td>\n",
       "      <td>NaN</td>\n",
       "    </tr>\n",
       "    <tr>\n",
       "      <th>29</th>\n",
       "      <td>WWE Friday Night SmackDown</td>\n",
       "      <td>1999</td>\n",
       "      <td>7+</td>\n",
       "      <td>7.3</td>\n",
       "      <td>NaN</td>\n",
       "      <td>Friday Night Rock Show</td>\n",
       "      <td>NaN</td>\n",
       "      <td>NaN</td>\n",
       "      <td>NaN</td>\n",
       "      <td>NaN</td>\n",
       "      <td>NaN</td>\n",
       "      <td>NaN</td>\n",
       "      <td>NaN</td>\n",
       "      <td>NaN</td>\n",
       "      <td>NaN</td>\n",
       "    </tr>\n",
       "    <tr>\n",
       "      <th>...</th>\n",
       "      <td>...</td>\n",
       "      <td>...</td>\n",
       "      <td>...</td>\n",
       "      <td>...</td>\n",
       "      <td>...</td>\n",
       "      <td>...</td>\n",
       "      <td>...</td>\n",
       "      <td>...</td>\n",
       "      <td>...</td>\n",
       "      <td>...</td>\n",
       "      <td>...</td>\n",
       "      <td>...</td>\n",
       "      <td>...</td>\n",
       "      <td>...</td>\n",
       "      <td>...</td>\n",
       "    </tr>\n",
       "    <tr>\n",
       "      <th>211</th>\n",
       "      <td>Real Estate with Rosanna</td>\n",
       "      <td>2017</td>\n",
       "      <td>NaN</td>\n",
       "      <td>NaN</td>\n",
       "      <td>NaN</td>\n",
       "      <td>Real Estate with Ramon</td>\n",
       "      <td>NaN</td>\n",
       "      <td>NaN</td>\n",
       "      <td>NaN</td>\n",
       "      <td>NaN</td>\n",
       "      <td>NaN</td>\n",
       "      <td>NaN</td>\n",
       "      <td>NaN</td>\n",
       "      <td>NaN</td>\n",
       "      <td>NaN</td>\n",
       "    </tr>\n",
       "    <tr>\n",
       "      <th>213</th>\n",
       "      <td>On This Day in Black History Month</td>\n",
       "      <td>2019</td>\n",
       "      <td>NaN</td>\n",
       "      <td>NaN</td>\n",
       "      <td>NaN</td>\n",
       "      <td>NBC News Presents: Black History Month</td>\n",
       "      <td>NaN</td>\n",
       "      <td>NaN</td>\n",
       "      <td>NaN</td>\n",
       "      <td>NaN</td>\n",
       "      <td>NaN</td>\n",
       "      <td>NaN</td>\n",
       "      <td>NaN</td>\n",
       "      <td>NaN</td>\n",
       "      <td>NaN</td>\n",
       "    </tr>\n",
       "    <tr>\n",
       "      <th>214</th>\n",
       "      <td>The Big Vote</td>\n",
       "      <td>2018</td>\n",
       "      <td>NaN</td>\n",
       "      <td>NaN</td>\n",
       "      <td>NaN</td>\n",
       "      <td>The Big One</td>\n",
       "      <td>NaN</td>\n",
       "      <td>NaN</td>\n",
       "      <td>NaN</td>\n",
       "      <td>NaN</td>\n",
       "      <td>NaN</td>\n",
       "      <td>NaN</td>\n",
       "      <td>NaN</td>\n",
       "      <td>NaN</td>\n",
       "      <td>NaN</td>\n",
       "    </tr>\n",
       "    <tr>\n",
       "      <th>217</th>\n",
       "      <td>The Paley Center</td>\n",
       "      <td>2000</td>\n",
       "      <td>NaN</td>\n",
       "      <td>NaN</td>\n",
       "      <td>NaN</td>\n",
       "      <td>At the Paley Center</td>\n",
       "      <td>NaN</td>\n",
       "      <td>NaN</td>\n",
       "      <td>NaN</td>\n",
       "      <td>NaN</td>\n",
       "      <td>NaN</td>\n",
       "      <td>NaN</td>\n",
       "      <td>NaN</td>\n",
       "      <td>NaN</td>\n",
       "      <td>NaN</td>\n",
       "    </tr>\n",
       "    <tr>\n",
       "      <th>218</th>\n",
       "      <td>Legendary Catch</td>\n",
       "      <td>2019</td>\n",
       "      <td>NaN</td>\n",
       "      <td>NaN</td>\n",
       "      <td>NaN</td>\n",
       "      <td>Legendary Place</td>\n",
       "      <td>NaN</td>\n",
       "      <td>NaN</td>\n",
       "      <td>NaN</td>\n",
       "      <td>NaN</td>\n",
       "      <td>NaN</td>\n",
       "      <td>NaN</td>\n",
       "      <td>NaN</td>\n",
       "      <td>NaN</td>\n",
       "      <td>NaN</td>\n",
       "    </tr>\n",
       "  </tbody>\n",
       "</table>\n",
       "<p>110 rows × 15 columns</p>\n",
       "</div>"
      ],
      "text/plain": [
       "                                   show  year rating  imdb rotten_tomatoes  \\\n",
       "3          Food Wars! Shokugeki no Soma  2015    18+   8.3             NaN   \n",
       "11                     Crayon Shin-chan  1992     7+   7.9             NaN   \n",
       "14                           Monogatari  2009    16+   8.0             NaN   \n",
       "19                        Land of Honor  2014    16+   7.9             NaN   \n",
       "29           WWE Friday Night SmackDown  1999     7+   7.3             NaN   \n",
       "..                                  ...   ...    ...   ...             ...   \n",
       "211            Real Estate with Rosanna  2017    NaN   NaN             NaN   \n",
       "213  On This Day in Black History Month  2019    NaN   NaN             NaN   \n",
       "214                        The Big Vote  2018    NaN   NaN             NaN   \n",
       "217                    The Paley Center  2000    NaN   NaN             NaN   \n",
       "218                     Legendary Catch  2019    NaN   NaN             NaN   \n",
       "\n",
       "                                imdb_titles tconst titleType primaryTitle  \\\n",
       "3                                      None    NaN       NaN          NaN   \n",
       "11                                 Shinchan    NaN       NaN          NaN   \n",
       "14                            Ai monogatari    NaN       NaN          NaN   \n",
       "19                           Blade of Honor    NaN       NaN          NaN   \n",
       "29                   Friday Night Rock Show    NaN       NaN          NaN   \n",
       "..                                      ...    ...       ...          ...   \n",
       "211                  Real Estate with Ramon    NaN       NaN          NaN   \n",
       "213  NBC News Presents: Black History Month    NaN       NaN          NaN   \n",
       "214                             The Big One    NaN       NaN          NaN   \n",
       "217                     At the Paley Center    NaN       NaN          NaN   \n",
       "218                         Legendary Place    NaN       NaN          NaN   \n",
       "\n",
       "    originalTitle  isAdult  startYear  endYear runtimeMinutes genres  \n",
       "3             NaN      NaN        NaN      NaN            NaN    NaN  \n",
       "11            NaN      NaN        NaN      NaN            NaN    NaN  \n",
       "14            NaN      NaN        NaN      NaN            NaN    NaN  \n",
       "19            NaN      NaN        NaN      NaN            NaN    NaN  \n",
       "29            NaN      NaN        NaN      NaN            NaN    NaN  \n",
       "..            ...      ...        ...      ...            ...    ...  \n",
       "211           NaN      NaN        NaN      NaN            NaN    NaN  \n",
       "213           NaN      NaN        NaN      NaN            NaN    NaN  \n",
       "214           NaN      NaN        NaN      NaN            NaN    NaN  \n",
       "217           NaN      NaN        NaN      NaN            NaN    NaN  \n",
       "218           NaN      NaN        NaN      NaN            NaN    NaN  \n",
       "\n",
       "[110 rows x 15 columns]"
      ]
     },
     "execution_count": 23,
     "metadata": {},
     "output_type": "execute_result"
    }
   ],
   "source": [
    "hulu_missing3[hulu_missing3[\"tconst\"].isna()]"
   ]
  },
  {
   "cell_type": "markdown",
   "metadata": {},
   "source": [
    "We can see that most of this titles don't have a similar imdb titles, due to this, we will drop this columns also."
   ]
  },
  {
   "cell_type": "code",
   "execution_count": 24,
   "metadata": {},
   "outputs": [],
   "source": [
    "hulu_missing_ids = hulu_missing3[~hulu_missing3[\"tconst\"].isna()].reset_index(drop=True).drop_duplicates(\"tconst\")"
   ]
  },
  {
   "cell_type": "markdown",
   "metadata": {},
   "source": [
    "Now we are just missing 110 titles. We will remove this titles for our project.\n",
    "\n",
    "## 5. Join data frames with IMDB IDs\n",
    "\n",
    "We will join all data frames without null values to get a final hulu data frame containing the IMDB ID.\n",
    "We will drop duplicates because the title regions may have joined multiple rows since some titles have the same name in different regions."
   ]
  },
  {
   "cell_type": "code",
   "execution_count": 25,
   "metadata": {},
   "outputs": [],
   "source": [
    "hulu_genres = hulu_genres[~hulu_genres[\"tconst\"].isna()]"
   ]
  },
  {
   "cell_type": "code",
   "execution_count": 26,
   "metadata": {},
   "outputs": [],
   "source": [
    "hulu_genres = hulu_genres.append(hulu_missing1[~hulu_missing1[\"tconst\"].isna()])"
   ]
  },
  {
   "cell_type": "code",
   "execution_count": 27,
   "metadata": {},
   "outputs": [],
   "source": [
    "hulu_genres = hulu_genres.append(hulu_missing2[~hulu_missing2[\"titleId\"].isna()])"
   ]
  },
  {
   "cell_type": "code",
   "execution_count": 28,
   "metadata": {},
   "outputs": [],
   "source": [
    "hulu_genres = hulu_genres.append(hulu_missing_ids)"
   ]
  },
  {
   "cell_type": "code",
   "execution_count": 29,
   "metadata": {},
   "outputs": [],
   "source": [
    "hulu_genres = hulu_genres.drop_duplicates(\"tconst\")"
   ]
  },
  {
   "cell_type": "code",
   "execution_count": 30,
   "metadata": {},
   "outputs": [],
   "source": [
    "hulu_genres = hulu_genres.reset_index(drop=True)"
   ]
  },
  {
   "cell_type": "code",
   "execution_count": 31,
   "metadata": {},
   "outputs": [
    {
     "data": {
      "text/html": [
       "<div>\n",
       "<style scoped>\n",
       "    .dataframe tbody tr th:only-of-type {\n",
       "        vertical-align: middle;\n",
       "    }\n",
       "\n",
       "    .dataframe tbody tr th {\n",
       "        vertical-align: top;\n",
       "    }\n",
       "\n",
       "    .dataframe thead th {\n",
       "        text-align: right;\n",
       "    }\n",
       "</style>\n",
       "<table border=\"1\" class=\"dataframe\">\n",
       "  <thead>\n",
       "    <tr style=\"text-align: right;\">\n",
       "      <th></th>\n",
       "      <th>show</th>\n",
       "      <th>year</th>\n",
       "      <th>rating</th>\n",
       "      <th>imdb</th>\n",
       "      <th>rotten_tomatoes</th>\n",
       "      <th>tconst</th>\n",
       "      <th>titleType</th>\n",
       "      <th>primaryTitle</th>\n",
       "      <th>originalTitle</th>\n",
       "      <th>isAdult</th>\n",
       "      <th>...</th>\n",
       "      <th>genres</th>\n",
       "      <th>titleId</th>\n",
       "      <th>ordering</th>\n",
       "      <th>title</th>\n",
       "      <th>region</th>\n",
       "      <th>language</th>\n",
       "      <th>types</th>\n",
       "      <th>attributes</th>\n",
       "      <th>isOriginalTitle</th>\n",
       "      <th>imdb_titles</th>\n",
       "    </tr>\n",
       "  </thead>\n",
       "  <tbody>\n",
       "    <tr>\n",
       "      <th>0</th>\n",
       "      <td>Rick and Morty</td>\n",
       "      <td>2013</td>\n",
       "      <td>18+</td>\n",
       "      <td>9.2</td>\n",
       "      <td>94%</td>\n",
       "      <td>tt2861424</td>\n",
       "      <td>tvSeries</td>\n",
       "      <td>Rick and Morty</td>\n",
       "      <td>Rick and Morty</td>\n",
       "      <td>0.0</td>\n",
       "      <td>...</td>\n",
       "      <td>Adventure,Animation,Comedy</td>\n",
       "      <td>NaN</td>\n",
       "      <td>NaN</td>\n",
       "      <td>NaN</td>\n",
       "      <td>NaN</td>\n",
       "      <td>NaN</td>\n",
       "      <td>NaN</td>\n",
       "      <td>NaN</td>\n",
       "      <td>NaN</td>\n",
       "      <td>NaN</td>\n",
       "    </tr>\n",
       "    <tr>\n",
       "      <th>1</th>\n",
       "      <td>Fargo</td>\n",
       "      <td>2014</td>\n",
       "      <td>18+</td>\n",
       "      <td>8.9</td>\n",
       "      <td>96%</td>\n",
       "      <td>tt2802850</td>\n",
       "      <td>tvSeries</td>\n",
       "      <td>Fargo</td>\n",
       "      <td>Fargo</td>\n",
       "      <td>0.0</td>\n",
       "      <td>...</td>\n",
       "      <td>Crime,Drama,Thriller</td>\n",
       "      <td>NaN</td>\n",
       "      <td>NaN</td>\n",
       "      <td>NaN</td>\n",
       "      <td>NaN</td>\n",
       "      <td>NaN</td>\n",
       "      <td>NaN</td>\n",
       "      <td>NaN</td>\n",
       "      <td>NaN</td>\n",
       "      <td>NaN</td>\n",
       "    </tr>\n",
       "    <tr>\n",
       "      <th>2</th>\n",
       "      <td>Vikings</td>\n",
       "      <td>2013</td>\n",
       "      <td>18+</td>\n",
       "      <td>8.5</td>\n",
       "      <td>93%</td>\n",
       "      <td>tt2306299</td>\n",
       "      <td>tvSeries</td>\n",
       "      <td>Vikings</td>\n",
       "      <td>Vikings</td>\n",
       "      <td>0.0</td>\n",
       "      <td>...</td>\n",
       "      <td>Action,Adventure,Drama</td>\n",
       "      <td>NaN</td>\n",
       "      <td>NaN</td>\n",
       "      <td>NaN</td>\n",
       "      <td>NaN</td>\n",
       "      <td>NaN</td>\n",
       "      <td>NaN</td>\n",
       "      <td>NaN</td>\n",
       "      <td>NaN</td>\n",
       "      <td>NaN</td>\n",
       "    </tr>\n",
       "    <tr>\n",
       "      <th>3</th>\n",
       "      <td>Brooklyn Nine-Nine</td>\n",
       "      <td>2013</td>\n",
       "      <td>16+</td>\n",
       "      <td>8.4</td>\n",
       "      <td>97%</td>\n",
       "      <td>tt2467372</td>\n",
       "      <td>tvSeries</td>\n",
       "      <td>Brooklyn Nine-Nine</td>\n",
       "      <td>Brooklyn Nine-Nine</td>\n",
       "      <td>0.0</td>\n",
       "      <td>...</td>\n",
       "      <td>Comedy,Crime</td>\n",
       "      <td>NaN</td>\n",
       "      <td>NaN</td>\n",
       "      <td>NaN</td>\n",
       "      <td>NaN</td>\n",
       "      <td>NaN</td>\n",
       "      <td>NaN</td>\n",
       "      <td>NaN</td>\n",
       "      <td>NaN</td>\n",
       "      <td>NaN</td>\n",
       "    </tr>\n",
       "    <tr>\n",
       "      <th>4</th>\n",
       "      <td>Community</td>\n",
       "      <td>2009</td>\n",
       "      <td>7+</td>\n",
       "      <td>8.5</td>\n",
       "      <td>88%</td>\n",
       "      <td>tt1439629</td>\n",
       "      <td>tvSeries</td>\n",
       "      <td>Community</td>\n",
       "      <td>Community</td>\n",
       "      <td>0.0</td>\n",
       "      <td>...</td>\n",
       "      <td>Comedy</td>\n",
       "      <td>NaN</td>\n",
       "      <td>NaN</td>\n",
       "      <td>NaN</td>\n",
       "      <td>NaN</td>\n",
       "      <td>NaN</td>\n",
       "      <td>NaN</td>\n",
       "      <td>NaN</td>\n",
       "      <td>NaN</td>\n",
       "      <td>NaN</td>\n",
       "    </tr>\n",
       "  </tbody>\n",
       "</table>\n",
       "<p>5 rows × 23 columns</p>\n",
       "</div>"
      ],
      "text/plain": [
       "                 show  year rating  imdb rotten_tomatoes     tconst titleType  \\\n",
       "0      Rick and Morty  2013    18+   9.2             94%  tt2861424  tvSeries   \n",
       "1               Fargo  2014    18+   8.9             96%  tt2802850  tvSeries   \n",
       "2             Vikings  2013    18+   8.5             93%  tt2306299  tvSeries   \n",
       "3  Brooklyn Nine-Nine  2013    16+   8.4             97%  tt2467372  tvSeries   \n",
       "4           Community  2009     7+   8.5             88%  tt1439629  tvSeries   \n",
       "\n",
       "         primaryTitle       originalTitle  isAdult  ...  \\\n",
       "0      Rick and Morty      Rick and Morty      0.0  ...   \n",
       "1               Fargo               Fargo      0.0  ...   \n",
       "2             Vikings             Vikings      0.0  ...   \n",
       "3  Brooklyn Nine-Nine  Brooklyn Nine-Nine      0.0  ...   \n",
       "4           Community           Community      0.0  ...   \n",
       "\n",
       "                       genres  titleId ordering title region  language types  \\\n",
       "0  Adventure,Animation,Comedy      NaN      NaN   NaN    NaN       NaN   NaN   \n",
       "1        Crime,Drama,Thriller      NaN      NaN   NaN    NaN       NaN   NaN   \n",
       "2      Action,Adventure,Drama      NaN      NaN   NaN    NaN       NaN   NaN   \n",
       "3                Comedy,Crime      NaN      NaN   NaN    NaN       NaN   NaN   \n",
       "4                      Comedy      NaN      NaN   NaN    NaN       NaN   NaN   \n",
       "\n",
       "  attributes isOriginalTitle imdb_titles  \n",
       "0        NaN             NaN         NaN  \n",
       "1        NaN             NaN         NaN  \n",
       "2        NaN             NaN         NaN  \n",
       "3        NaN             NaN         NaN  \n",
       "4        NaN             NaN         NaN  \n",
       "\n",
       "[5 rows x 23 columns]"
      ]
     },
     "execution_count": 31,
     "metadata": {},
     "output_type": "execute_result"
    }
   ],
   "source": [
    "hulu_genres.head()"
   ]
  },
  {
   "cell_type": "markdown",
   "metadata": {},
   "source": [
    "We will now calculate the ratio of titles with an imdb id match and the original titles."
   ]
  },
  {
   "cell_type": "code",
   "execution_count": 32,
   "metadata": {},
   "outputs": [
    {
     "data": {
      "text/plain": [
       "0.8405963302752294"
      ]
     },
     "execution_count": 32,
     "metadata": {},
     "output_type": "execute_result"
    }
   ],
   "source": [
    "len(hulu_genres) / len(hulu)"
   ]
  },
  {
   "cell_type": "markdown",
   "metadata": {},
   "source": [
    "This means that we will be using 84% of the original data.\n",
    "\n",
    "## 6. Cleaning final data\n",
    "\n",
    "We will create a final data frame including:\n",
    "- show\n",
    "- year\n",
    "- rating\n",
    "- imdb\n",
    "- rotten_tomatoes\n",
    "- imdb_id\n",
    "- all data from title basics\n",
    "\n",
    "First, we will need to create the imdb_id column, this will have tconst and titleId values."
   ]
  },
  {
   "cell_type": "code",
   "execution_count": 33,
   "metadata": {},
   "outputs": [],
   "source": [
    "hulu_genres[\"imdb_id\"] = np.where(hulu_genres[\"tconst\"].isna(), hulu_genres[\"titleId\"], hulu_genres[\"tconst\"])"
   ]
  },
  {
   "cell_type": "code",
   "execution_count": 34,
   "metadata": {},
   "outputs": [
    {
     "data": {
      "text/plain": [
       "False    1466\n",
       "Name: imdb_id, dtype: int64"
      ]
     },
     "execution_count": 34,
     "metadata": {},
     "output_type": "execute_result"
    }
   ],
   "source": [
    "hulu_genres[\"imdb_id\"].isna().value_counts()"
   ]
  },
  {
   "cell_type": "markdown",
   "metadata": {},
   "source": [
    "This means we have all the IMDB IDs for all the titles in this final data frame. We will now remove columns that are not show, year, rating, imdb, rotten_tomatoes and imdb_id and merge again."
   ]
  },
  {
   "cell_type": "code",
   "execution_count": 35,
   "metadata": {},
   "outputs": [],
   "source": [
    "to_drop = [col for col in hulu_genres.columns if col not in [\"show\", \"year\", \"rating\", \"imdb\", \"rotten_tomatoes\", \"imdb_id\"]]"
   ]
  },
  {
   "cell_type": "code",
   "execution_count": 36,
   "metadata": {},
   "outputs": [],
   "source": [
    "hulu_genres = hulu_genres.drop(columns=to_drop)"
   ]
  },
  {
   "cell_type": "code",
   "execution_count": 37,
   "metadata": {},
   "outputs": [
    {
     "data": {
      "text/html": [
       "<div>\n",
       "<style scoped>\n",
       "    .dataframe tbody tr th:only-of-type {\n",
       "        vertical-align: middle;\n",
       "    }\n",
       "\n",
       "    .dataframe tbody tr th {\n",
       "        vertical-align: top;\n",
       "    }\n",
       "\n",
       "    .dataframe thead th {\n",
       "        text-align: right;\n",
       "    }\n",
       "</style>\n",
       "<table border=\"1\" class=\"dataframe\">\n",
       "  <thead>\n",
       "    <tr style=\"text-align: right;\">\n",
       "      <th></th>\n",
       "      <th>show</th>\n",
       "      <th>year</th>\n",
       "      <th>rating</th>\n",
       "      <th>imdb</th>\n",
       "      <th>rotten_tomatoes</th>\n",
       "      <th>imdb_id</th>\n",
       "    </tr>\n",
       "  </thead>\n",
       "  <tbody>\n",
       "    <tr>\n",
       "      <th>0</th>\n",
       "      <td>Rick and Morty</td>\n",
       "      <td>2013</td>\n",
       "      <td>18+</td>\n",
       "      <td>9.2</td>\n",
       "      <td>94%</td>\n",
       "      <td>tt2861424</td>\n",
       "    </tr>\n",
       "    <tr>\n",
       "      <th>1</th>\n",
       "      <td>Fargo</td>\n",
       "      <td>2014</td>\n",
       "      <td>18+</td>\n",
       "      <td>8.9</td>\n",
       "      <td>96%</td>\n",
       "      <td>tt2802850</td>\n",
       "    </tr>\n",
       "    <tr>\n",
       "      <th>2</th>\n",
       "      <td>Vikings</td>\n",
       "      <td>2013</td>\n",
       "      <td>18+</td>\n",
       "      <td>8.5</td>\n",
       "      <td>93%</td>\n",
       "      <td>tt2306299</td>\n",
       "    </tr>\n",
       "    <tr>\n",
       "      <th>3</th>\n",
       "      <td>Brooklyn Nine-Nine</td>\n",
       "      <td>2013</td>\n",
       "      <td>16+</td>\n",
       "      <td>8.4</td>\n",
       "      <td>97%</td>\n",
       "      <td>tt2467372</td>\n",
       "    </tr>\n",
       "    <tr>\n",
       "      <th>4</th>\n",
       "      <td>Community</td>\n",
       "      <td>2009</td>\n",
       "      <td>7+</td>\n",
       "      <td>8.5</td>\n",
       "      <td>88%</td>\n",
       "      <td>tt1439629</td>\n",
       "    </tr>\n",
       "  </tbody>\n",
       "</table>\n",
       "</div>"
      ],
      "text/plain": [
       "                 show  year rating  imdb rotten_tomatoes    imdb_id\n",
       "0      Rick and Morty  2013    18+   9.2             94%  tt2861424\n",
       "1               Fargo  2014    18+   8.9             96%  tt2802850\n",
       "2             Vikings  2013    18+   8.5             93%  tt2306299\n",
       "3  Brooklyn Nine-Nine  2013    16+   8.4             97%  tt2467372\n",
       "4           Community  2009     7+   8.5             88%  tt1439629"
      ]
     },
     "execution_count": 37,
     "metadata": {},
     "output_type": "execute_result"
    }
   ],
   "source": [
    "hulu_genres.head()"
   ]
  },
  {
   "cell_type": "markdown",
   "metadata": {},
   "source": [
    "Now we will merge all data from title basics"
   ]
  },
  {
   "cell_type": "code",
   "execution_count": 38,
   "metadata": {},
   "outputs": [],
   "source": [
    "hulu_genres = hulu_genres.merge(imdb, how=\"left\", left_on=\"imdb_id\", right_on=\"tconst\")"
   ]
  },
  {
   "cell_type": "code",
   "execution_count": 39,
   "metadata": {},
   "outputs": [
    {
     "data": {
      "text/html": [
       "<div>\n",
       "<style scoped>\n",
       "    .dataframe tbody tr th:only-of-type {\n",
       "        vertical-align: middle;\n",
       "    }\n",
       "\n",
       "    .dataframe tbody tr th {\n",
       "        vertical-align: top;\n",
       "    }\n",
       "\n",
       "    .dataframe thead th {\n",
       "        text-align: right;\n",
       "    }\n",
       "</style>\n",
       "<table border=\"1\" class=\"dataframe\">\n",
       "  <thead>\n",
       "    <tr style=\"text-align: right;\">\n",
       "      <th></th>\n",
       "      <th>show</th>\n",
       "      <th>year</th>\n",
       "      <th>rating</th>\n",
       "      <th>imdb</th>\n",
       "      <th>rotten_tomatoes</th>\n",
       "      <th>imdb_id</th>\n",
       "      <th>tconst</th>\n",
       "      <th>titleType</th>\n",
       "      <th>primaryTitle</th>\n",
       "      <th>originalTitle</th>\n",
       "      <th>isAdult</th>\n",
       "      <th>startYear</th>\n",
       "      <th>endYear</th>\n",
       "      <th>runtimeMinutes</th>\n",
       "      <th>genres</th>\n",
       "    </tr>\n",
       "  </thead>\n",
       "  <tbody>\n",
       "    <tr>\n",
       "      <th>0</th>\n",
       "      <td>Rick and Morty</td>\n",
       "      <td>2013</td>\n",
       "      <td>18+</td>\n",
       "      <td>9.2</td>\n",
       "      <td>94%</td>\n",
       "      <td>tt2861424</td>\n",
       "      <td>tt2861424</td>\n",
       "      <td>tvSeries</td>\n",
       "      <td>Rick and Morty</td>\n",
       "      <td>Rick and Morty</td>\n",
       "      <td>0</td>\n",
       "      <td>2013.0</td>\n",
       "      <td>2013.0</td>\n",
       "      <td>23</td>\n",
       "      <td>Adventure,Animation,Comedy</td>\n",
       "    </tr>\n",
       "    <tr>\n",
       "      <th>1</th>\n",
       "      <td>Fargo</td>\n",
       "      <td>2014</td>\n",
       "      <td>18+</td>\n",
       "      <td>8.9</td>\n",
       "      <td>96%</td>\n",
       "      <td>tt2802850</td>\n",
       "      <td>tt2802850</td>\n",
       "      <td>tvSeries</td>\n",
       "      <td>Fargo</td>\n",
       "      <td>Fargo</td>\n",
       "      <td>0</td>\n",
       "      <td>2014.0</td>\n",
       "      <td>2014.0</td>\n",
       "      <td>53</td>\n",
       "      <td>Crime,Drama,Thriller</td>\n",
       "    </tr>\n",
       "    <tr>\n",
       "      <th>2</th>\n",
       "      <td>Vikings</td>\n",
       "      <td>2013</td>\n",
       "      <td>18+</td>\n",
       "      <td>8.5</td>\n",
       "      <td>93%</td>\n",
       "      <td>tt2306299</td>\n",
       "      <td>tt2306299</td>\n",
       "      <td>tvSeries</td>\n",
       "      <td>Vikings</td>\n",
       "      <td>Vikings</td>\n",
       "      <td>0</td>\n",
       "      <td>2013.0</td>\n",
       "      <td>2013.0</td>\n",
       "      <td>44</td>\n",
       "      <td>Action,Adventure,Drama</td>\n",
       "    </tr>\n",
       "    <tr>\n",
       "      <th>3</th>\n",
       "      <td>Brooklyn Nine-Nine</td>\n",
       "      <td>2013</td>\n",
       "      <td>16+</td>\n",
       "      <td>8.4</td>\n",
       "      <td>97%</td>\n",
       "      <td>tt2467372</td>\n",
       "      <td>tt2467372</td>\n",
       "      <td>tvSeries</td>\n",
       "      <td>Brooklyn Nine-Nine</td>\n",
       "      <td>Brooklyn Nine-Nine</td>\n",
       "      <td>0</td>\n",
       "      <td>2013.0</td>\n",
       "      <td>2013.0</td>\n",
       "      <td>22</td>\n",
       "      <td>Comedy,Crime</td>\n",
       "    </tr>\n",
       "    <tr>\n",
       "      <th>4</th>\n",
       "      <td>Community</td>\n",
       "      <td>2009</td>\n",
       "      <td>7+</td>\n",
       "      <td>8.5</td>\n",
       "      <td>88%</td>\n",
       "      <td>tt1439629</td>\n",
       "      <td>tt1439629</td>\n",
       "      <td>tvSeries</td>\n",
       "      <td>Community</td>\n",
       "      <td>Community</td>\n",
       "      <td>0</td>\n",
       "      <td>2009.0</td>\n",
       "      <td>2009.0</td>\n",
       "      <td>22</td>\n",
       "      <td>Comedy</td>\n",
       "    </tr>\n",
       "  </tbody>\n",
       "</table>\n",
       "</div>"
      ],
      "text/plain": [
       "                 show  year rating  imdb rotten_tomatoes    imdb_id  \\\n",
       "0      Rick and Morty  2013    18+   9.2             94%  tt2861424   \n",
       "1               Fargo  2014    18+   8.9             96%  tt2802850   \n",
       "2             Vikings  2013    18+   8.5             93%  tt2306299   \n",
       "3  Brooklyn Nine-Nine  2013    16+   8.4             97%  tt2467372   \n",
       "4           Community  2009     7+   8.5             88%  tt1439629   \n",
       "\n",
       "      tconst titleType        primaryTitle       originalTitle  isAdult  \\\n",
       "0  tt2861424  tvSeries      Rick and Morty      Rick and Morty        0   \n",
       "1  tt2802850  tvSeries               Fargo               Fargo        0   \n",
       "2  tt2306299  tvSeries             Vikings             Vikings        0   \n",
       "3  tt2467372  tvSeries  Brooklyn Nine-Nine  Brooklyn Nine-Nine        0   \n",
       "4  tt1439629  tvSeries           Community           Community        0   \n",
       "\n",
       "   startYear  endYear runtimeMinutes                      genres  \n",
       "0     2013.0   2013.0             23  Adventure,Animation,Comedy  \n",
       "1     2014.0   2014.0             53        Crime,Drama,Thriller  \n",
       "2     2013.0   2013.0             44      Action,Adventure,Drama  \n",
       "3     2013.0   2013.0             22                Comedy,Crime  \n",
       "4     2009.0   2009.0             22                      Comedy  "
      ]
     },
     "execution_count": 39,
     "metadata": {},
     "output_type": "execute_result"
    }
   ],
   "source": [
    "hulu_genres.head()"
   ]
  },
  {
   "cell_type": "code",
   "execution_count": 40,
   "metadata": {},
   "outputs": [],
   "source": [
    "hulu_genres = hulu_genres.drop(columns=\"tconst\")"
   ]
  },
  {
   "cell_type": "markdown",
   "metadata": {},
   "source": [
    "## 7. Check null and unique values"
   ]
  },
  {
   "cell_type": "code",
   "execution_count": 41,
   "metadata": {},
   "outputs": [
    {
     "data": {
      "text/plain": [
       "show                  0\n",
       "year                  0\n",
       "rating              332\n",
       "imdb                123\n",
       "rotten_tomatoes    1095\n",
       "imdb_id               0\n",
       "titleType             0\n",
       "primaryTitle          0\n",
       "originalTitle         0\n",
       "isAdult               0\n",
       "startYear             0\n",
       "endYear               0\n",
       "runtimeMinutes        0\n",
       "genres                0\n",
       "dtype: int64"
      ]
     },
     "execution_count": 41,
     "metadata": {},
     "output_type": "execute_result"
    }
   ],
   "source": [
    "hulu_genres.isna().sum()"
   ]
  },
  {
   "cell_type": "code",
   "execution_count": 42,
   "metadata": {},
   "outputs": [
    {
     "data": {
      "text/plain": [
       "show               1425\n",
       "year                 66\n",
       "rating                4\n",
       "imdb                 74\n",
       "rotten_tomatoes      73\n",
       "imdb_id            1466\n",
       "titleType             4\n",
       "primaryTitle       1426\n",
       "originalTitle      1425\n",
       "isAdult               1\n",
       "startYear            66\n",
       "endYear              66\n",
       "runtimeMinutes       75\n",
       "genres              277\n",
       "dtype: int64"
      ]
     },
     "execution_count": 42,
     "metadata": {},
     "output_type": "execute_result"
    }
   ],
   "source": [
    "hulu_genres.nunique(axis=0)"
   ]
  },
  {
   "cell_type": "markdown",
   "metadata": {},
   "source": [
    "From the previous cells we can see that:\n",
    "- Most values are missing for rotten_tomatoes.\n",
    "- isAdult has just one value.\n",
    "\n",
    "We will drop this two columns, since we cannot get much information from it."
   ]
  },
  {
   "cell_type": "code",
   "execution_count": 43,
   "metadata": {},
   "outputs": [],
   "source": [
    "hulu_genres = hulu_genres.drop(columns=[\"rotten_tomatoes\", \"isAdult\"])"
   ]
  },
  {
   "cell_type": "markdown",
   "metadata": {},
   "source": [
    "## 8. Change data types\n",
    "\n",
    "- rating: We will remove the '+' sign and turn it into an integer\n",
    "- runtimeMinutes: we will change the type to integer\n",
    "\n",
    "#### i. rating"
   ]
  },
  {
   "cell_type": "code",
   "execution_count": 44,
   "metadata": {},
   "outputs": [],
   "source": [
    "hulu_genres[\"rating\"] = [str(i).replace(\"+\", \"\") for i in hulu_genres[\"rating\"]]"
   ]
  },
  {
   "cell_type": "code",
   "execution_count": 45,
   "metadata": {},
   "outputs": [
    {
     "data": {
      "text/plain": [
       "16     463\n",
       "nan    332\n",
       "7      328\n",
       "18     215\n",
       "all    128\n",
       "Name: rating, dtype: int64"
      ]
     },
     "execution_count": 45,
     "metadata": {},
     "output_type": "execute_result"
    }
   ],
   "source": [
    "hulu_genres[\"rating\"].value_counts()"
   ]
  },
  {
   "cell_type": "markdown",
   "metadata": {},
   "source": [
    "Since rating is a string type, we will convert the 'nan' values to null and 'all' to 0, meaning that the series can be watched by all ages."
   ]
  },
  {
   "cell_type": "code",
   "execution_count": 46,
   "metadata": {},
   "outputs": [],
   "source": [
    "hulu_genres[\"rating\"] = np.where(hulu_genres[\"rating\"] == \"nan\", None, hulu_genres[\"rating\"])\n",
    "hulu_genres[\"rating\"] = np.where(hulu_genres[\"rating\"] == \"all\", 0, hulu_genres[\"rating\"])"
   ]
  },
  {
   "cell_type": "code",
   "execution_count": 47,
   "metadata": {},
   "outputs": [
    {
     "data": {
      "text/plain": [
       "16    463\n",
       "7     328\n",
       "18    215\n",
       "0     128\n",
       "Name: rating, dtype: int64"
      ]
     },
     "execution_count": 47,
     "metadata": {},
     "output_type": "execute_result"
    }
   ],
   "source": [
    "hulu_genres[\"rating\"].value_counts()"
   ]
  },
  {
   "cell_type": "code",
   "execution_count": 48,
   "metadata": {},
   "outputs": [],
   "source": [
    "hulu_genres[\"rating\"] = pd.to_numeric(hulu_genres[\"rating\"], errors=\"coerce\")"
   ]
  },
  {
   "cell_type": "markdown",
   "metadata": {},
   "source": [
    "#### ii. runtimeMinutes"
   ]
  },
  {
   "cell_type": "code",
   "execution_count": 49,
   "metadata": {},
   "outputs": [],
   "source": [
    "hulu_genres[\"runtimeMinutes\"] = pd.to_numeric(hulu_genres[\"runtimeMinutes\"], errors=\"coerce\")"
   ]
  },
  {
   "cell_type": "markdown",
   "metadata": {},
   "source": [
    "#### ii. Check final data types"
   ]
  },
  {
   "cell_type": "code",
   "execution_count": 50,
   "metadata": {},
   "outputs": [
    {
     "data": {
      "text/plain": [
       "show               object\n",
       "year                int64\n",
       "rating            float64\n",
       "imdb              float64\n",
       "imdb_id            object\n",
       "titleType          object\n",
       "primaryTitle       object\n",
       "originalTitle      object\n",
       "startYear         float64\n",
       "endYear           float64\n",
       "runtimeMinutes    float64\n",
       "genres             object\n",
       "dtype: object"
      ]
     },
     "execution_count": 50,
     "metadata": {},
     "output_type": "execute_result"
    }
   ],
   "source": [
    "hulu_genres.dtypes"
   ]
  },
  {
   "cell_type": "markdown",
   "metadata": {},
   "source": [
    "## 9. Rename rating and imdb columns"
   ]
  },
  {
   "cell_type": "code",
   "execution_count": 51,
   "metadata": {},
   "outputs": [],
   "source": [
    "hulu_genres = hulu_genres.rename(columns={\"rating\":\"age\", \"imdb\":\"imdb_rating\"})"
   ]
  },
  {
   "cell_type": "markdown",
   "metadata": {},
   "source": [
    "## 10. Export data"
   ]
  },
  {
   "cell_type": "code",
   "execution_count": 52,
   "metadata": {},
   "outputs": [],
   "source": [
    "# hulu_genres.to_pickle(\"Data_Hulu_Disney/hulu_final_clean.pkl\")"
   ]
  },
  {
   "cell_type": "code",
   "execution_count": null,
   "metadata": {},
   "outputs": [],
   "source": []
  }
 ],
 "metadata": {
  "kernelspec": {
   "display_name": "Python 3",
   "language": "python",
   "name": "python3"
  },
  "language_info": {
   "codemirror_mode": {
    "name": "ipython",
    "version": 3
   },
   "file_extension": ".py",
   "mimetype": "text/x-python",
   "name": "python",
   "nbconvert_exporter": "python",
   "pygments_lexer": "ipython3",
   "version": "3.7.6"
  }
 },
 "nbformat": 4,
 "nbformat_minor": 4
}
